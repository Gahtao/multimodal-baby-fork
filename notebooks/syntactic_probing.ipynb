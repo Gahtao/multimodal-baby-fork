{
 "cells": [
  {
   "cell_type": "code",
   "execution_count": 1,
   "id": "407ef21d",
   "metadata": {
    "scrolled": true
   },
   "outputs": [
    {
     "name": "stdout",
     "output_type": "stream",
     "text": [
      "/misc/vlgscratch4/LakeGroup/wentao/multimodal-baby\n"
     ]
    }
   ],
   "source": [
    "%cd .."
   ]
  },
  {
   "cell_type": "code",
   "execution_count": 2,
   "id": "8e3a7974",
   "metadata": {},
   "outputs": [],
   "source": [
    "from pathlib import Path\n",
    "import itertools\n",
    "import functools\n",
    "from collections import namedtuple, Counter\n",
    "import re\n",
    "import pickle\n",
    "import numpy as np\n",
    "import torch\n",
    "import torch.nn.functional as F\n",
    "from torch.utils.data import DataLoader\n",
    "import matplotlib.pyplot as plt\n",
    "%matplotlib inline\n",
    "import pandas as pd\n",
    "import seaborn as sns\n",
    "from multimodal.multimodal_lit import MultiModalLitModel\n",
    "from multimodal.multimodal_data_module import read_vocab, PAD_TOKEN_ID, UNK_TOKEN_ID, SOS_TOKEN_ID, EOS_TOKEN_ID, IMAGE_H, IMAGE_W\n",
    "from multimodal.multimodal_saycam_data_module import VOCAB_FILENAME\n",
    "from ngram import NGramModel\n",
    "from multimodal.utils import map_structure\n",
    "from analysis_tools.processing import *\n",
    "from analysis_tools.utils import *\n",
    "from analysis_tools.sentences_data import *\n",
    "from analysis_tools.sentences_utils import *\n",
    "from analysis_tools.checkpoints import *\n",
    "from analysis_tools.build_data import *\n",
    "import analysis_tools.plotting as plotting\n",
    "\n",
    "\n",
    "ZORRO_TXT_DIR = Path(\"/misc/vlgscratch4/LakeGroup/shared_data/Zorro/sentences/babyberta/\")\n",
    "ZORRO_TXT_FILES = ZORRO_TXT_DIR.glob('*.txt')\n",
    "TOKENIZED_DIR = Path(\"tokenized_Zorro_sentences\")\n",
    "N_MAX_PRINT_OOV_SENT_PAIRS = 15\n",
    "\n",
    "\n",
    "# set default settings for plotting; may change for each plot\n",
    "figsize = (12, 12)\n",
    "paper_context = sns.plotting_context('paper')\n",
    "paper_context.update({\n",
    "    'font.size': 10.,\n",
    "    'axes.labelsize': 10.,\n",
    "    'axes.titlesize': 14.,\n",
    "    'xtick.labelsize': 8.8,\n",
    "    'ytick.labelsize': 8.8,\n",
    "    'legend.fontsize': 8.8,\n",
    "    'legend.title_fontsize': 9.6,\n",
    "})\n",
    "unticked_relation_style = sns.axes_style('white')\n",
    "unticked_relation_style.update({\n",
    "    'axes.spines.left': True,\n",
    "    'axes.spines.bottom': True,\n",
    "    'axes.spines.right': False,\n",
    "    'axes.spines.top': False,\n",
    "})\n",
    "font = 'serif'\n",
    "sns.set_theme(\n",
    "    #context=paper_context,\n",
    "    style=unticked_relation_style,\n",
    "    #palette=sns.color_palette('tab20'),\n",
    "    font='monospace',\n",
    "    rc={\n",
    "        'figure.figsize': figsize,\n",
    "    }\n",
    ")\n",
    "\n",
    "np.set_printoptions(suppress=True, precision=2, linewidth=120)\n",
    "pd.options.display.width = 120\n",
    "\n",
    "plt.rcParams['figure.dpi'] = 300\n",
    "plt.rcParams['savefig.dpi'] = 300\n",
    "plt.rcParams[\"savefig.bbox\"] = 'tight'\n",
    "plt.rcParams[\"savefig.pad_inches\"] = 0.\n",
    "plot_format = 'png'\n",
    "saving_fig = True\n",
    "\n",
    "if saving_fig:\n",
    "    def _save_fig(fname, format='png'):\n",
    "        print(f'saving plot {fname}')\n",
    "        plt.savefig(f'plots/{fname}.{format}', transparent=True)\n",
    "        plt.clf()\n",
    "    plotting.output_fig = functools.partial(_save_fig, format=plot_format)\n",
    "\n",
    "output_fig = plotting.output_fig\n",
    "\n",
    "device = torch.device('cuda' if torch.cuda.is_available() else 'cpu')\n",
    "\n",
    "\n",
    "def sentence_pair_in_vocab(sentence_pair, vocab):\n",
    "    for sentence in sentence_pair:\n",
    "        if not all(str(token) in vocab for token in sentence):\n",
    "            return False\n",
    "    return True\n",
    "\n",
    "\n",
    "def prepend_image_placeholder_for_batch(batch):\n",
    "    batch_size = len(batch[0])\n",
    "    x = torch.zeros(batch_size, 3, IMAGE_H, IMAGE_W, dtype=torch.float, device=device)\n",
    "    return x, *batch"
   ]
  },
  {
   "cell_type": "code",
   "execution_count": 3,
   "id": "fd4d7997",
   "metadata": {},
   "outputs": [
    {
     "name": "stdout",
     "output_type": "stream",
     "text": [
      "saycam_vocab_size = 2350\n",
      "processing agreement_determiner_noun-across_1_adjective ... load from tokenized_Zorro_sentences/agreement_determiner_noun-across_1_adjective.pkl\n",
      "processing agreement_determiner_noun-between_neighbors ... load from tokenized_Zorro_sentences/agreement_determiner_noun-between_neighbors.pkl\n",
      "processing agreement_subject_verb-across_prepositional_phrase ... load from tokenized_Zorro_sentences/agreement_subject_verb-across_prepositional_phrase.pkl\n",
      "processing agreement_subject_verb-across_relative_clause ... load from tokenized_Zorro_sentences/agreement_subject_verb-across_relative_clause.pkl\n",
      "processing agreement_subject_verb-in_question_with_aux ... load from tokenized_Zorro_sentences/agreement_subject_verb-in_question_with_aux.pkl\n",
      "processing agreement_subject_verb-in_simple_question ... load from tokenized_Zorro_sentences/agreement_subject_verb-in_simple_question.pkl\n",
      "processing anaphor_agreement-pronoun_gender ... load from tokenized_Zorro_sentences/anaphor_agreement-pronoun_gender.pkl\n",
      "processing argument_structure-dropped_argument ... load from tokenized_Zorro_sentences/argument_structure-dropped_argument.pkl\n",
      "processing argument_structure-swapped_arguments ... load from tokenized_Zorro_sentences/argument_structure-swapped_arguments.pkl\n",
      "processing argument_structure-transitive ... load from tokenized_Zorro_sentences/argument_structure-transitive.pkl\n",
      "processing binding-principle_a ... load from tokenized_Zorro_sentences/binding-principle_a.pkl\n",
      "processing case-subjective_pronoun ... load from tokenized_Zorro_sentences/case-subjective_pronoun.pkl\n",
      "processing ellipsis-n_bar ... load from tokenized_Zorro_sentences/ellipsis-n_bar.pkl\n",
      "processing filler-gap-wh_question_object ... load from tokenized_Zorro_sentences/filler-gap-wh_question_object.pkl\n",
      "processing filler-gap-wh_question_subject ... load from tokenized_Zorro_sentences/filler-gap-wh_question_subject.pkl\n",
      "processing irregular-verb ... load from tokenized_Zorro_sentences/irregular-verb.pkl\n",
      "processing island-effects-adjunct_island ... load from tokenized_Zorro_sentences/island-effects-adjunct_island.pkl\n",
      "processing island-effects-coordinate_structure_constraint ... load from tokenized_Zorro_sentences/island-effects-coordinate_structure_constraint.pkl\n",
      "processing local_attractor-in_question_with_aux ... load from tokenized_Zorro_sentences/local_attractor-in_question_with_aux.pkl\n",
      "processing npi_licensing-matrix_question ... load from tokenized_Zorro_sentences/npi_licensing-matrix_question.pkl\n",
      "processing npi_licensing-only_npi_licensor ... load from tokenized_Zorro_sentences/npi_licensing-only_npi_licensor.pkl\n",
      "processing quantifiers-existential_there ... load from tokenized_Zorro_sentences/quantifiers-existential_there.pkl\n",
      "processing quantifiers-superlative ... load from tokenized_Zorro_sentences/quantifiers-superlative.pkl\n",
      "zorro_vocab_size = 646\n",
      "words in zorro vocab:\n",
      "the         68237\n",
      ".           63484\n",
      "?           28516\n",
      "that        15982\n",
      "can          9186\n",
      "is           8080\n",
      "and          8006\n",
      "ever         8000\n",
      "about        7946\n",
      "what         7178\n",
      "could        7124\n",
      "were         6758\n",
      "there        6472\n",
      "one          6231\n",
      "this         6096\n",
      "a            6036\n",
      "not          5936\n",
      "did          5894\n",
      "who          5806\n",
      "be           5286\n",
      "must         4842\n",
      "Sarah        4424\n",
      "no           4373\n",
      "become       4363\n",
      "dinosaur     4302\n",
      "are          4280\n",
      "boat         4230\n",
      "some         4130\n",
      "wolf         4116\n",
      "Laura        4082\n",
      "sister       4066\n",
      "to           4059\n",
      "doctor       4042\n",
      "at           4006\n",
      "was          4006\n",
      "himself      4004\n",
      "herself      3996\n",
      "slave        3982\n",
      "pig          3958\n",
      "duke         3846\n",
      "Philip       3706\n",
      "on           3698\n",
      "should       3684\n",
      "Donald       3674\n",
      "Roger        3670\n",
      "Richard      3598\n",
      "her          3585\n",
      "William      3580\n",
      "Alexander    3568\n",
      "Mark         3562\n",
      "made         3510\n",
      "Michael      3412\n",
      "how          3338\n",
      "think        3178\n",
      "his          3107\n",
      "like         3071\n",
      "i            3068\n",
      "does         3012\n",
      "she          2862\n",
      "more         2678\n",
      "he           2490\n",
      "do           2486\n",
      "we           2362\n",
      "will         2356\n",
      "would        2178\n",
      "by           2070\n",
      "even         2000\n",
      "had          2000\n",
      "only         2000\n",
      "than         2000\n",
      "these        2000\n",
      "those        2000\n",
      "they         1956\n",
      "married      1920\n",
      "close        1805\n",
      "got          1758\n",
      "gave         1741\n",
      "showed       1730\n",
      "likes        1714\n",
      "built        1654\n",
      "stand        1640\n",
      "without      1626\n",
      "give         1625\n",
      "use          1605\n",
      "color        1580\n",
      "work         1560\n",
      "with         1547\n",
      "book         1542\n",
      "your         1536\n",
      "night        1514\n",
      "brought      1513\n",
      "most         1483\n",
      "home         1452\n",
      "my           1427\n",
      "change       1426\n",
      "saw          1359\n",
      "you          1328\n",
      "movie        1326\n",
      "keep         1309\n",
      "baby         1288\n",
      "words not in SAYCam vocab:\n",
      "Sarah\n",
      "become\n",
      "wolf\n",
      "Laura\n",
      "sister\n",
      "herself\n",
      "slave\n",
      "duke\n",
      "Philip\n",
      "Donald\n",
      "Roger\n",
      "Richard\n",
      "William\n",
      "Alexander\n",
      "Mark\n",
      "Michael\n",
      "married\n",
      "showed\n",
      "control\n",
      "gives\n",
      "ended\n",
      "related\n",
      "claimed\n",
      "fewer\n",
      "destroyed\n",
      "reached\n",
      "thinks\n",
      "marked\n",
      "woman\n",
      "study\n",
      "movies\n",
      "started\n",
      "stories\n",
      "entered\n",
      "access\n",
      "visited\n",
      "managed\n",
      "carried\n",
      "record\n",
      "tradition\n",
      "rolling\n",
      "ordered\n",
      "needed\n",
      "label\n",
      "growth\n",
      "healthy\n",
      "memory\n",
      "media\n",
      "stadium\n",
      "bank\n",
      "fuel\n",
      "cast\n",
      "procedure\n",
      "cabinet\n",
      "engines\n",
      "valley\n",
      "filled\n",
      "scale\n",
      "suit\n",
      "thirty\n",
      "winning\n",
      "recommended\n",
      "personal\n",
      "positive\n",
      "english\n",
      "calls\n",
      "bones\n",
      "differences\n",
      "bands\n",
      "complete\n",
      "forced\n",
      "simple\n",
      "carbon\n",
      "worn\n",
      "restaurants\n",
      "abandoned\n",
      "kings\n",
      "stands\n",
      "lies\n",
      "children\n",
      "Maria\n",
      "electronic\n",
      "types\n",
      "increase\n",
      "size\n",
      "expected\n",
      "parents\n",
      "sacred\n",
      "exist\n",
      "ways\n",
      "patterns\n",
      "difference\n",
      "contemporary\n",
      "band\n",
      "bone\n",
      "windows\n",
      "parent\n",
      "dollars\n",
      "pattern\n",
      "problems\n",
      "waters\n",
      "lions\n",
      "Anne\n",
      "child\n",
      "fishing\n",
      "depending\n",
      "dollar\n",
      "solid\n",
      "animal\n",
      "king\n",
      "wrote\n",
      "signs\n",
      "losing\n",
      "facing\n",
      "covering\n",
      "calling\n",
      "written\n",
      "moves\n",
      "uses\n",
      "depends\n",
      "taken\n",
      "sees\n",
      "turns\n",
      "spoke\n",
      "spoken\n",
      "became\n",
      "drawn\n",
      "given\n",
      "sold\n",
      "chose\n",
      "chosen\n",
      "known\n",
      "option\n",
      "shows\n",
      "created\n",
      "writes\n",
      "becomes\n",
      "Allen\n",
      "planning\n",
      "plans\n",
      "notes\n",
      "changes\n",
      "angry\n",
      "shape\n",
      "student\n",
      "waves\n",
      "testing\n",
      "Chris\n",
      "essay\n",
      "note\n",
      "Obama\n",
      "copies\n",
      "records\n",
      "grew\n",
      "estimates\n",
      "votes\n",
      "protection\n",
      "tells\n",
      "began\n",
      "begun\n",
      "discussion\n",
      "heaven\n",
      "map\n",
      "produces\n",
      "speak\n",
      "spin\n",
      "setting\n",
      "Carter\n",
      "evening\n",
      "grown\n",
      "trade\n",
      "clothing\n",
      "housing\n",
      "reaching\n",
      "Louis\n",
      "distance\n",
      "served\n",
      "serving\n",
      "electricity\n",
      "Gregory\n",
      "Robert\n",
      "begins\n",
      "college\n",
      "pool\n",
      "finding\n",
      "Ben\n",
      "Sam\n",
      "growing\n",
      "Bill\n",
      "Edward\n",
      "John\n",
      "Joseph\n",
      "Taylor\n",
      "bible\n",
      "canal\n",
      "image\n",
      "support\n",
      "telephone\n",
      "force\n",
      "Henry\n",
      "issue\n",
      "races\n",
      "Simon\n",
      "recording\n",
      "Thomas\n",
      "orders\n",
      "studies\n",
      "studying\n",
      "equipment\n",
      "changing\n",
      "covers\n",
      "tests\n",
      "runs\n",
      "joined\n",
      "helped\n",
      "mentioned\n",
      "affected\n",
      "met\n",
      "treated\n",
      "advanced\n",
      "opposed\n",
      "learned\n",
      "led\n",
      "improved\n",
      "planned\n",
      "decided\n",
      "dies\n",
      "returned\n",
      "shot\n",
      "leads\n",
      "shown\n",
      "shared\n",
      "argued\n",
      "explained\n",
      "mixed\n",
      "accepted\n",
      "connected\n",
      "developed\n",
      "appears\n",
      "organized\n",
      "refused\n",
      "matters\n",
      "occurred\n",
      "403 / 646 = 62.38% in SAYCam vocab\n",
      "out-of-SAYCam vocab sentence examples:\n",
      "look at this personal pictures .\n",
      "look at this personal picture .\n",
      "OOV tokens: personal personal\n",
      "this personal pictures went there .\n",
      "this personal picture went there .\n",
      "OOV tokens: personal personal\n",
      "this personal pictures did not happen .\n",
      "this personal picture did not happen .\n",
      "OOV tokens: personal personal\n",
      "i saw this personal pictures .\n",
      "i saw this personal picture .\n",
      "OOV tokens: personal personal\n",
      "look at that personal pictures .\n",
      "look at that personal picture .\n",
      "OOV tokens: personal personal\n",
      "that personal pictures went there .\n",
      "that personal picture went there .\n",
      "OOV tokens: personal personal\n",
      "that personal pictures did not happen .\n",
      "that personal picture did not happen .\n",
      "OOV tokens: personal personal\n",
      "i saw that personal pictures .\n",
      "i saw that personal picture .\n",
      "OOV tokens: personal personal\n",
      "look at these personal picture .\n",
      "look at these personal pictures .\n",
      "OOV tokens: personal personal\n",
      "these personal picture went there .\n",
      "these personal pictures went there .\n",
      "OOV tokens: personal personal\n",
      "these personal picture did not happen .\n",
      "these personal pictures did not happen .\n",
      "OOV tokens: personal personal\n",
      "i saw these personal picture .\n",
      "i saw these personal pictures .\n",
      "OOV tokens: personal personal\n",
      "look at those personal picture .\n",
      "look at those personal pictures .\n",
      "OOV tokens: personal personal\n",
      "those personal picture went there .\n",
      "those personal pictures went there .\n",
      "OOV tokens: personal personal\n",
      "those personal picture did not happen .\n",
      "those personal pictures did not happen .\n",
      "OOV tokens: personal personal\n",
      "('agreement_determiner_noun', 'across_1_adjective'): 656 / 2000 = 32.80%\n",
      "out-of-SAYCam vocab sentence examples:\n",
      "this feet must be personal .\n",
      "this foot must be personal .\n",
      "OOV tokens: personal personal\n",
      "this feet can be personal .\n",
      "this foot can be personal .\n",
      "OOV tokens: personal personal\n",
      "that feet must be personal .\n",
      "that foot must be personal .\n",
      "OOV tokens: personal personal\n",
      "that feet can be personal .\n",
      "that foot can be personal .\n",
      "OOV tokens: personal personal\n",
      "these foot must be personal .\n",
      "these feet must be personal .\n",
      "OOV tokens: personal personal\n",
      "these foot can be personal .\n",
      "these feet can be personal .\n",
      "OOV tokens: personal personal\n",
      "those foot must be personal .\n",
      "those feet must be personal .\n",
      "OOV tokens: personal personal\n",
      "those foot can be personal .\n",
      "those feet can be personal .\n",
      "OOV tokens: personal personal\n",
      "this differences must be ready .\n",
      "this difference must be ready .\n",
      "OOV tokens: differences difference\n",
      "this differences can be ready .\n",
      "this difference can be ready .\n",
      "OOV tokens: differences difference\n",
      "that differences must be ready .\n",
      "that difference must be ready .\n",
      "OOV tokens: differences difference\n",
      "that differences can be ready .\n",
      "that difference can be ready .\n",
      "OOV tokens: differences difference\n",
      "these difference must be ready .\n",
      "these differences must be ready .\n",
      "OOV tokens: difference differences\n",
      "these difference can be ready .\n",
      "these differences can be ready .\n",
      "OOV tokens: difference differences\n",
      "those difference must be ready .\n",
      "those differences must be ready .\n",
      "OOV tokens: difference differences\n",
      "('agreement_determiner_noun', 'between_neighbors'): 616 / 2000 = 30.80%\n",
      "out-of-SAYCam vocab sentence examples:\n",
      "the lies on the foot is flat .\n",
      "the lie on the foot is flat .\n",
      "OOV tokens: lies\n",
      "the lies on the feet is flat .\n",
      "the lie on the feet is flat .\n",
      "OOV tokens: lies\n",
      "the lies on the foot was flat .\n",
      "the lie on the foot was flat .\n",
      "OOV tokens: lies\n",
      "the lies on the feet was flat .\n",
      "the lie on the feet was flat .\n",
      "OOV tokens: lies\n",
      "the lie on the foot are flat .\n",
      "the lies on the foot are flat .\n",
      "OOV tokens: lies\n",
      "the lie on the feet are flat .\n",
      "the lies on the feet are flat .\n",
      "OOV tokens: lies\n",
      "the lie on the foot were flat .\n",
      "the lies on the foot were flat .\n",
      "OOV tokens: lies\n",
      "the lie on the feet were flat .\n",
      "the lies on the feet were flat .\n",
      "OOV tokens: lies\n",
      "the books by the type is simple .\n",
      "the book by the type is simple .\n",
      "OOV tokens: simple simple\n",
      "the books by the types is simple .\n",
      "the book by the types is simple .\n",
      "OOV tokens: types simple types simple\n",
      "the books by the type was simple .\n",
      "the book by the type was simple .\n",
      "OOV tokens: simple simple\n",
      "the books by the types was simple .\n",
      "the book by the types was simple .\n",
      "OOV tokens: types simple types simple\n",
      "the book by the type are simple .\n",
      "the books by the type are simple .\n",
      "OOV tokens: simple simple\n",
      "the book by the types are simple .\n",
      "the books by the types are simple .\n",
      "OOV tokens: types simple types simple\n",
      "the book by the type were simple .\n",
      "the books by the type were simple .\n",
      "OOV tokens: simple simple\n",
      "('agreement_subject_verb', 'across_prepositional_phrase'): 480 / 2000 = 24.00%\n",
      "out-of-SAYCam vocab sentence examples:\n",
      "the bones that i like is red .\n",
      "the bone that i like is red .\n",
      "OOV tokens: bones bone\n",
      "the bones that you like is red .\n",
      "the bone that you like is red .\n",
      "OOV tokens: bones bone\n",
      "the bones that we like is red .\n",
      "the bone that we like is red .\n",
      "OOV tokens: bones bone\n",
      "the bones that he likes is red .\n",
      "the bone that he likes is red .\n",
      "OOV tokens: bones bone\n",
      "the bones that she likes is red .\n",
      "the bone that she likes is red .\n",
      "OOV tokens: bones bone\n",
      "the bones that it likes is red .\n",
      "the bone that it likes is red .\n",
      "OOV tokens: bones bone\n",
      "the bones that was there is red .\n",
      "the bone that was there is red .\n",
      "OOV tokens: bones bone\n",
      "the bone that i like are red .\n",
      "the bones that i like are red .\n",
      "OOV tokens: bone bones\n",
      "the bone that you like are red .\n",
      "the bones that you like are red .\n",
      "OOV tokens: bone bones\n",
      "the bone that we like are red .\n",
      "the bones that we like are red .\n",
      "OOV tokens: bone bones\n",
      "the bone that he likes are red .\n",
      "the bones that he likes are red .\n",
      "OOV tokens: bone bones\n",
      "the bone that she likes are red .\n",
      "the bones that she likes are red .\n",
      "OOV tokens: bone bones\n",
      "the bone that it likes are red .\n",
      "the bones that it likes are red .\n",
      "OOV tokens: bone bones\n",
      "the bone that were there are red .\n",
      "the bones that were there are red .\n",
      "OOV tokens: bone bones\n",
      "the bone that i like were red .\n",
      "the bones that i like were red .\n",
      "OOV tokens: bone bones\n",
      "('agreement_subject_verb', 'across_relative_clause'): 532 / 2000 = 26.60%\n",
      "out-of-SAYCam vocab sentence examples:\n",
      "how does the horses become expected ?\n",
      "how does the horse become expected ?\n",
      "OOV tokens: become expected become expected\n",
      "how do the horse become expected ?\n",
      "how do the horses become expected ?\n",
      "OOV tokens: become expected become expected\n",
      "how does the horses become full ?\n",
      "how does the horse become full ?\n",
      "OOV tokens: become become\n",
      "how do the horse become full ?\n",
      "how do the horses become full ?\n",
      "OOV tokens: become become\n",
      "how does the bears become english ?\n",
      "how does the bear become english ?\n",
      "OOV tokens: become english become english\n",
      "how do the bear become english ?\n",
      "how do the bears become english ?\n",
      "OOV tokens: become english become english\n",
      "where does the calls go ?\n",
      "where does the call go ?\n",
      "OOV tokens: calls\n",
      "what does the calls do ?\n",
      "what does the call do ?\n",
      "OOV tokens: calls\n",
      "how does the calls fit in here ?\n",
      "how does the call fit in here ?\n",
      "OOV tokens: calls\n",
      "how does the calls become silly ?\n",
      "how does the call become silly ?\n",
      "OOV tokens: calls become become\n",
      "when does the calls stop working ?\n",
      "when does the call stop working ?\n",
      "OOV tokens: calls\n",
      "when does the calls start ?\n",
      "when does the call start ?\n",
      "OOV tokens: calls\n",
      "where do the call go ?\n",
      "where do the calls go ?\n",
      "OOV tokens: calls\n",
      "what do the call do ?\n",
      "what do the calls do ?\n",
      "OOV tokens: calls\n",
      "how do the call fit in here ?\n",
      "how do the calls fit in here ?\n",
      "OOV tokens: calls\n",
      "('agreement_subject_verb', 'in_question_with_aux'): 280 / 2000 = 14.00%\n",
      "out-of-SAYCam vocab sentence examples:\n",
      "where is the ways ?\n",
      "where is the way ?\n",
      "OOV tokens: ways\n",
      "what is the ways ?\n",
      "what is the way ?\n",
      "OOV tokens: ways\n",
      "what color is the ways ?\n",
      "what color is the way ?\n",
      "OOV tokens: ways\n",
      "is the ways not quick ?\n",
      "is the way not quick ?\n",
      "OOV tokens: ways\n",
      "is the ways where it should be ?\n",
      "is the way where it should be ?\n",
      "OOV tokens: ways\n",
      "is the ways something you like ?\n",
      "is the way something you like ?\n",
      "OOV tokens: ways\n",
      "is the ways a good idea ?\n",
      "is the way a good idea ?\n",
      "OOV tokens: ways\n",
      "where was the ways ?\n",
      "where was the way ?\n",
      "OOV tokens: ways\n",
      "what was the ways ?\n",
      "what was the way ?\n",
      "OOV tokens: ways\n",
      "what color was the ways ?\n",
      "what color was the way ?\n",
      "OOV tokens: ways\n",
      "was the ways not quick ?\n",
      "was the way not quick ?\n",
      "OOV tokens: ways\n",
      "was the ways where it should be ?\n",
      "was the way where it should be ?\n",
      "OOV tokens: ways\n",
      "was the ways something you like ?\n",
      "was the way something you like ?\n",
      "OOV tokens: ways\n",
      "was the ways a good idea ?\n",
      "was the way a good idea ?\n",
      "OOV tokens: ways\n",
      "where are the way ?\n",
      "where are the ways ?\n",
      "OOV tokens: ways\n",
      "('agreement_subject_verb', 'in_simple_question'): 836 / 2000 = 41.80%\n",
      "out-of-SAYCam vocab sentence examples:\n",
      "will Mark want herself ?\n",
      "will Mark want himself ?\n",
      "OOV tokens: Mark herself Mark\n",
      "will a woman want himself ?\n",
      "will a woman want herself ?\n",
      "OOV tokens: woman woman herself\n",
      "Mark will not want herself .\n",
      "Mark will not want himself .\n",
      "OOV tokens: Mark herself Mark\n",
      "a woman will not want himself .\n",
      "a woman will not want herself .\n",
      "OOV tokens: woman woman herself\n",
      "should Alexander make herself the scale ?\n",
      "should Alexander make himself the scale ?\n",
      "OOV tokens: Alexander herself scale Alexander scale\n",
      "should a woman make himself the scale ?\n",
      "should a woman make herself the scale ?\n",
      "OOV tokens: woman scale woman herself scale\n",
      "Alexander should make herself the scale .\n",
      "Alexander should make himself the scale .\n",
      "OOV tokens: Alexander herself scale Alexander scale\n",
      "a woman should make himself the scale .\n",
      "a woman should make herself the scale .\n",
      "OOV tokens: woman scale woman herself scale\n",
      "must that man tell herself about the guess ?\n",
      "must that man tell himself about the guess ?\n",
      "OOV tokens: herself\n",
      "must a woman tell himself about the guess ?\n",
      "must a woman tell herself about the guess ?\n",
      "OOV tokens: woman woman herself\n",
      "that man did not tell herself about the guess .\n",
      "that man did not tell himself about the guess .\n",
      "OOV tokens: herself\n",
      "a woman did not tell himself about the guess .\n",
      "a woman did not tell herself about the guess .\n",
      "OOV tokens: woman woman herself\n",
      "must Roger work with herself on the stand ?\n",
      "must Roger work with himself on the stand ?\n",
      "OOV tokens: Roger herself Roger\n",
      "must she work with himself on the stand ?\n",
      "must she work with herself on the stand ?\n",
      "OOV tokens: herself\n",
      "Roger must work with herself on the stand .\n",
      "Roger must work with himself on the stand .\n",
      "OOV tokens: Roger herself Roger\n",
      "('anaphor_agreement', 'pronoun_gender'): 0 / 2000 = 0.00%\n",
      "out-of-SAYCam vocab sentence examples:\n",
      "the poor boat gives me .\n",
      "give me the poor boat .\n",
      "OOV tokens: gives\n",
      "the purple sister gives us .\n",
      "give us the purple sister .\n",
      "OOV tokens: sister gives sister\n",
      "the sister asked us about .\n",
      "ask us about the sister .\n",
      "OOV tokens: sister sister\n",
      "a sister saw him by .\n",
      "a sister saw him there .\n",
      "OOV tokens: sister sister\n",
      "the fixed boat gives her .\n",
      "give her the fixed boat .\n",
      "OOV tokens: gives\n",
      "the boat tells her about .\n",
      "tell her about the boat .\n",
      "OOV tokens: tells\n",
      "the top duke gives me .\n",
      "give me the top duke .\n",
      "OOV tokens: duke gives duke\n",
      "the duke asked me about .\n",
      "ask me about the duke .\n",
      "OOV tokens: duke duke\n",
      "one duke saw me by .\n",
      "one duke saw me there .\n",
      "OOV tokens: duke duke\n",
      "the polar dinosaur gives us .\n",
      "give us the polar dinosaur .\n",
      "OOV tokens: gives\n",
      "the dinosaur tells us about .\n",
      "tell us about the dinosaur .\n",
      "OOV tokens: tells\n",
      "some dinosaur moves to .\n",
      "some dinosaur moves fast .\n",
      "OOV tokens: moves moves\n",
      "the polar doctor gives her .\n",
      "give her the polar doctor .\n",
      "OOV tokens: gives\n",
      "the fixed wolf gives me .\n",
      "give me the fixed wolf .\n",
      "OOV tokens: wolf gives wolf\n",
      "the wolf tells me about .\n",
      "tell me about the wolf .\n",
      "OOV tokens: wolf tells wolf\n"
     ]
    },
    {
     "name": "stdout",
     "output_type": "stream",
     "text": [
      "('argument_structure', 'dropped_argument'): 341 / 2000 = 17.05%\n",
      "out-of-SAYCam vocab sentence examples:\n",
      "the slave made her label he .\n",
      "he made the slave her label .\n",
      "OOV tokens: slave label slave label\n",
      "the wolf made her ball they .\n",
      "they made the wolf her ball .\n",
      "OOV tokens: wolf wolf\n",
      "the slave showed one picture she .\n",
      "she showed the slave one picture .\n",
      "OOV tokens: slave showed showed slave\n",
      "the slave made one bird i .\n",
      "i made the slave one bird .\n",
      "OOV tokens: slave slave\n",
      "the duke gave a boom we .\n",
      "we gave the duke a boom .\n",
      "OOV tokens: duke duke\n",
      "the slave made my baby he .\n",
      "he made the slave my baby .\n",
      "OOV tokens: slave slave\n",
      "the slave gave the movie she .\n",
      "she gave the slave the movie .\n",
      "OOV tokens: slave slave\n",
      "the boat showed my guess she .\n",
      "she showed the boat my guess .\n",
      "OOV tokens: showed showed\n",
      "the wolf made his picture they .\n",
      "they made the wolf his picture .\n",
      "OOV tokens: wolf wolf\n",
      "the sister gave this growth he .\n",
      "he gave the sister this growth .\n",
      "OOV tokens: sister growth sister growth\n",
      "the slave showed a guess she .\n",
      "she showed the slave a guess .\n",
      "OOV tokens: slave showed showed slave\n",
      "the doctor showed one access they .\n",
      "they showed the doctor one access .\n",
      "OOV tokens: showed access showed access\n",
      "the duke made that bear we .\n",
      "we made the duke that bear .\n",
      "OOV tokens: duke duke\n",
      "the doctor brought the fuel we .\n",
      "we brought the doctor the fuel .\n",
      "OOV tokens: fuel fuel\n",
      "the wolf built his dinner they .\n",
      "they built the wolf his dinner .\n",
      "OOV tokens: wolf wolf\n",
      "('argument_structure', 'swapped_arguments'): 529 / 2000 = 26.45%\n",
      "out-of-SAYCam vocab sentence examples:\n",
      "Philip affected .\n",
      "Philip thinks .\n",
      "OOV tokens: Philip affected Philip thinks\n",
      "did Philip keep ?\n",
      "did Philip read ?\n",
      "OOV tokens: Philip Philip\n",
      "Richard let .\n",
      "Richard waves .\n",
      "OOV tokens: Richard Richard waves\n",
      "would Richard record ?\n",
      "would Richard run ?\n",
      "OOV tokens: Richard record Richard\n",
      "does her slave use ?\n",
      "does her slave know ?\n",
      "OOV tokens: slave slave\n",
      "can Richard force ?\n",
      "can Richard change ?\n",
      "OOV tokens: Richard force Richard\n",
      "could Philip be ?\n",
      "could Philip run ?\n",
      "OOV tokens: Philip Philip\n",
      "her sister let .\n",
      "her sister moved .\n",
      "OOV tokens: sister sister\n",
      "did her sister say ?\n",
      "did her sister eat ?\n",
      "OOV tokens: sister sister\n",
      "this sister saw .\n",
      "this sister lived .\n",
      "OOV tokens: sister sister\n",
      "will this sister force ?\n",
      "will this sister study ?\n",
      "OOV tokens: sister force sister study\n",
      "Laura helped .\n",
      "Laura accepted .\n",
      "OOV tokens: Laura helped Laura accepted\n",
      "could Laura have ?\n",
      "could Laura change ?\n",
      "OOV tokens: Laura Laura\n",
      "did they force ?\n",
      "did they turn ?\n",
      "OOV tokens: force\n",
      "William played .\n",
      "William runs .\n",
      "OOV tokens: William William runs\n",
      "('argument_structure', 'transitive'): 384 / 2000 = 19.20%\n",
      "out-of-SAYCam vocab sentence examples:\n",
      "Ben thinks about himself called this fuel .\n",
      "Ben thinks about himself calling this fuel .\n",
      "OOV tokens: Ben thinks fuel Ben thinks calling fuel\n",
      "Anne thinks about herself called this fuel .\n",
      "Anne thinks about herself calling this fuel .\n",
      "OOV tokens: Anne thinks herself fuel Anne thinks herself calling fuel\n",
      "Ben thinks about himself gets this fuel .\n",
      "Ben thinks about himself getting this fuel .\n",
      "OOV tokens: Ben thinks fuel Ben thinks fuel\n",
      "Anne thinks about herself gets this fuel .\n",
      "Anne thinks about herself getting this fuel .\n",
      "OOV tokens: Anne thinks herself fuel Anne thinks herself fuel\n",
      "Roger thinks about himself tried this stand .\n",
      "Roger thinks about himself trying this stand .\n",
      "OOV tokens: Roger thinks Roger thinks\n",
      "Laura thinks about herself tried this stand .\n",
      "Laura thinks about herself trying this stand .\n",
      "OOV tokens: Laura thinks herself Laura thinks herself\n",
      "Roger thinks about himself makes this stand .\n",
      "Roger thinks about himself making this stand .\n",
      "OOV tokens: Roger thinks Roger thinks\n",
      "Laura thinks about herself makes this stand .\n",
      "Laura thinks about herself making this stand .\n",
      "OOV tokens: Laura thinks herself Laura thinks herself\n",
      "Bill must not think about himself put away some color .\n",
      "Bill must not think about himself putting away some color .\n",
      "OOV tokens: Bill Bill\n",
      "Sarah must not think about herself put away some color .\n",
      "Sarah must not think about herself putting away some color .\n",
      "OOV tokens: Sarah herself Sarah herself\n",
      "Bill must not think about himself plans some color .\n",
      "Bill must not think about himself planning some color .\n",
      "OOV tokens: Bill plans Bill planning\n",
      "Sarah must not think about herself plans some color .\n",
      "Sarah must not think about herself planning some color .\n",
      "OOV tokens: Sarah herself plans Sarah herself planning\n",
      "Bill did not think about himself moved some back .\n",
      "Bill did not think about himself moving some back .\n",
      "OOV tokens: Bill Bill\n",
      "Sarah did not think about herself moved some back .\n",
      "Sarah did not think about herself moving some back .\n",
      "OOV tokens: Sarah herself Sarah herself\n",
      "Bill did not think about himself plans some back .\n",
      "Bill did not think about himself planning some back .\n",
      "OOV tokens: Bill plans Bill planning\n",
      "('binding', 'principle_a'): 0 / 2000 = 0.00%\n",
      "out-of-SAYCam vocab sentence examples:\n",
      "the wolf brought i my hill .\n",
      "i brought the wolf my hill .\n",
      "OOV tokens: wolf wolf\n",
      "the wolf gave i her night .\n",
      "i gave the wolf her night .\n",
      "OOV tokens: wolf wolf\n",
      "the dinosaur showed we this person .\n",
      "we showed the dinosaur this person .\n",
      "OOV tokens: showed showed\n",
      "the dinosaur brought i one memory .\n",
      "i brought the dinosaur one memory .\n",
      "OOV tokens: memory memory\n",
      "the pig gave they his suit .\n",
      "they gave the pig his suit .\n",
      "OOV tokens: suit suit\n",
      "the slave brought they this label .\n",
      "they brought the slave this label .\n",
      "OOV tokens: slave label slave label\n",
      "the slave brought we the mind .\n",
      "we brought the slave the mind .\n",
      "OOV tokens: slave slave\n",
      "the boat showed we his game .\n",
      "we showed the boat his game .\n",
      "OOV tokens: showed showed\n",
      "the slave gave we one memory .\n",
      "we gave the slave one memory .\n",
      "OOV tokens: slave memory slave memory\n",
      "the doctor brought we that fuel .\n",
      "we brought the doctor that fuel .\n",
      "OOV tokens: fuel fuel\n",
      "the sister built we the bet .\n",
      "we built the sister the bet .\n",
      "OOV tokens: sister sister\n",
      "the sister built she her hill .\n",
      "she built the sister her hill .\n",
      "OOV tokens: sister sister\n",
      "the sister showed i this book .\n",
      "i showed the sister this book .\n",
      "OOV tokens: sister showed showed sister\n",
      "the duke gave i her person .\n",
      "i gave the duke her person .\n",
      "OOV tokens: duke duke\n",
      "the duke brought i a game .\n",
      "i brought the duke a game .\n",
      "OOV tokens: duke duke\n",
      "('case', 'subjective_pronoun'): 527 / 2000 = 26.35%\n",
      "out-of-SAYCam vocab sentence examples:\n",
      "Mark fixed one canal and Roger fixed more worn .\n",
      "Mark fixed one worn canal and Roger fixed more .\n",
      "OOV tokens: Mark canal Roger worn Mark worn canal Roger\n",
      "the slave fixed one canal and Roger fixed more worn .\n",
      "the slave fixed one worn canal and Roger fixed more .\n",
      "OOV tokens: slave canal Roger worn slave worn canal Roger\n",
      "Philip managed one duck and Laura managed two personal .\n",
      "Philip managed one personal duck and Laura managed two .\n",
      "OOV tokens: Philip managed Laura managed personal Philip managed personal Laura managed\n",
      "some wolf managed one duck and Laura managed two personal .\n",
      "some wolf managed one personal duck and Laura managed two .\n",
      "OOV tokens: wolf managed Laura managed personal wolf managed personal Laura managed\n",
      "Roger married one change and Mark married two filled .\n",
      "Roger married one filled change and Mark married two .\n",
      "OOV tokens: Roger married Mark married filled Roger married filled Mark married\n",
      "that wolf married one change and Mark married two filled .\n",
      "that wolf married one filled change and Mark married two .\n",
      "OOV tokens: wolf married Mark married filled wolf married filled Mark married\n",
      "Laura started one floor and Laura started several ready .\n",
      "Laura started one ready floor and Laura started several .\n",
      "OOV tokens: Laura started Laura started Laura started Laura started\n",
      "this boat started one floor and Laura started several ready .\n",
      "this boat started one ready floor and Laura started several .\n",
      "OOV tokens: started Laura started started Laura started\n",
      "Philip visited one god and Sarah visited several positive .\n",
      "Philip visited one positive god and Sarah visited several .\n",
      "OOV tokens: Philip visited Sarah visited positive Philip visited positive Sarah visited\n",
      "his slave visited one god and Sarah visited several positive .\n",
      "his slave visited one positive god and Sarah visited several .\n",
      "OOV tokens: slave visited Sarah visited positive slave visited positive Sarah visited\n",
      "Michael visited one whale and Roger visited three little .\n",
      "Michael visited one little whale and Roger visited three .\n",
      "OOV tokens: Michael visited Roger visited Michael visited Roger visited\n",
      "a sister visited one whale and Roger visited three little .\n",
      "a sister visited one little whale and Roger visited three .\n",
      "OOV tokens: sister visited Roger visited sister visited Roger visited\n",
      "William moved one circle and Alexander moved a lot more poor .\n",
      "William moved one poor circle and Alexander moved a lot more .\n",
      "OOV tokens: William Alexander William Alexander\n",
      "her duke moved one circle and Alexander moved a lot more poor .\n",
      "her duke moved one poor circle and Alexander moved a lot more .\n",
      "OOV tokens: duke Alexander duke Alexander\n",
      "Mark entered one dog and Philip entered a lot more hard .\n",
      "Mark entered one hard dog and Philip entered a lot more .\n",
      "OOV tokens: Mark entered Philip entered Mark entered Philip entered\n",
      "('ellipsis', 'n_bar'): 0 / 2000 = 0.00%\n",
      "out-of-SAYCam vocab sentence examples:\n",
      "Laura married what the dinner could close the wolf .\n",
      "Laura married the dinner that the wolf could close .\n",
      "OOV tokens: Laura married wolf Laura married wolf\n",
      "Laura married what the dinner got the wolf .\n",
      "Laura married the dinner that the wolf got .\n",
      "OOV tokens: Laura married wolf Laura married wolf\n",
      "Sarah got what the plan could study the dinosaur .\n",
      "Sarah got the plan that the dinosaur could study .\n",
      "OOV tokens: Sarah study Sarah study\n",
      "Sarah got what the plan ended the dinosaur .\n",
      "Sarah got the plan that the dinosaur ended .\n",
      "OOV tokens: Sarah ended Sarah ended\n",
      "Donald marked what the sky could find the pig .\n",
      "Donald marked the sky that the pig could find .\n",
      "OOV tokens: Donald marked Donald marked\n",
      "Donald marked what the sky reached the pig .\n",
      "Donald marked the sky that the pig reached .\n",
      "OOV tokens: Donald marked reached Donald marked reached\n",
      "Richard ended what the dance could close the duke .\n",
      "Richard ended the dance that the duke could close .\n",
      "OOV tokens: Richard ended duke Richard ended duke\n",
      "Richard ended what the dance destroyed the duke .\n",
      "Richard ended the dance that the duke destroyed .\n",
      "OOV tokens: Richard ended destroyed duke Richard ended duke destroyed\n",
      "Alexander cut what the suit could make the sister .\n",
      "Alexander cut the suit that the sister could make .\n",
      "OOV tokens: Alexander suit sister Alexander suit sister\n",
      "Alexander cut what the suit knew the sister .\n",
      "Alexander cut the suit that the sister knew .\n",
      "OOV tokens: Alexander suit sister Alexander suit sister\n",
      "Roger ended what the baby could become the wolf .\n",
      "Roger ended the baby that the wolf could become .\n",
      "OOV tokens: Roger ended become wolf Roger ended wolf become\n",
      "Roger ended what the baby married the wolf .\n",
      "Roger ended the baby that the wolf married .\n",
      "OOV tokens: Roger ended married wolf Roger ended wolf married\n",
      "Alexander claimed what the sky could close the doctor .\n",
      "Alexander claimed the sky that the doctor could close .\n",
      "OOV tokens: Alexander claimed Alexander claimed\n",
      "Alexander claimed what the sky married the doctor .\n",
      "Alexander claimed the sky that the doctor married .\n",
      "OOV tokens: Alexander claimed married Alexander claimed married\n",
      "Alexander ended what the clock could use the dinosaur .\n",
      "Alexander ended the clock that the dinosaur could use .\n",
      "OOV tokens: Alexander ended Alexander ended\n",
      "('filler', 'gap', 'wh_question_object'): 0 / 2000 = 0.00%\n",
      "out-of-SAYCam vocab sentence examples:\n",
      "Laura ended who the finger can make boats .\n",
      "Laura ended the finger that can make boats .\n",
      "OOV tokens: Laura ended Laura ended\n",
      "Laura ended who the finger is watching boats .\n",
      "Laura ended the finger that is watching boats .\n",
      "OOV tokens: Laura ended Laura ended\n",
      "Philip related to who the call can find whales .\n",
      "Philip related to the call that can find whales .\n",
      "OOV tokens: Philip related Philip related\n",
      "Philip related to who the call is moving whales .\n",
      "Philip related to the call that is moving whales .\n",
      "OOV tokens: Philip related Philip related\n",
      "Michael ended who the picture can record words .\n",
      "Michael ended the picture that can record words .\n",
      "OOV tokens: Michael ended record Michael ended record\n",
      "Michael ended who the picture is facing words .\n",
      "Michael ended the picture that is facing words .\n",
      "OOV tokens: Michael ended facing Michael ended facing\n",
      "Richard cut who the way can record differences .\n",
      "Richard cut the way that can record differences .\n",
      "OOV tokens: Richard record differences Richard record differences\n",
      "Richard cut who the way is losing differences .\n",
      "Richard cut the way that is losing differences .\n",
      "OOV tokens: Richard losing differences Richard losing differences\n",
      "Mark ended who the toy can close lies .\n",
      "Mark ended the toy that can close lies .\n",
      "OOV tokens: Mark ended lies Mark ended lies\n",
      "Mark ended who the toy is washing lies .\n",
      "Mark ended the toy that is washing lies .\n",
      "OOV tokens: Mark ended lies Mark ended lies\n",
      "Philip reached who the foot can study hands .\n",
      "Philip reached the foot that can study hands .\n",
      "OOV tokens: Philip reached study Philip reached study\n",
      "Philip reached who the foot is making hands .\n",
      "Philip reached the foot that is making hands .\n",
      "OOV tokens: Philip reached Philip reached\n",
      "Michael reached who the water can use parents .\n",
      "Michael reached the water that can use parents .\n",
      "OOV tokens: Michael reached parents Michael reached parents\n",
      "Michael reached who the water is making parents .\n",
      "Michael reached the water that is making parents .\n",
      "OOV tokens: Michael reached parents Michael reached parents\n",
      "Philip got who the day can become arms .\n",
      "Philip got the day that can become arms .\n",
      "OOV tokens: Philip become Philip become\n",
      "('filler', 'gap', 'wh_question_subject'): 0 / 2000 = 0.00%\n",
      "out-of-SAYCam vocab sentence examples:\n",
      "Michael chosen the good one some time ago .\n",
      "Michael chose the good one some time ago .\n",
      "OOV tokens: Michael chosen Michael chose\n",
      "Michael had chose the good one some time ago .\n",
      "Michael had chosen the good one some time ago .\n",
      "OOV tokens: Michael chose Michael chosen\n",
      "Alexander begun to work some time ago .\n",
      "Alexander began to work some time ago .\n",
      "OOV tokens: Alexander begun Alexander began\n",
      "Alexander had began to work some time ago .\n",
      "Alexander had begun to work some time ago .\n",
      "OOV tokens: Alexander began Alexander begun\n",
      "Donald taken some food this morning .\n",
      "Donald took some food this morning .\n",
      "OOV tokens: Donald taken Donald\n",
      "Donald had took some food this morning .\n",
      "Donald had taken some food this morning .\n",
      "OOV tokens: Donald Donald taken\n",
      "Philip spoken without thinking over there .\n",
      "Philip spoke without thinking over there .\n",
      "OOV tokens: Philip spoken Philip spoke\n",
      "Philip had spoke without thinking over there .\n",
      "Philip had spoken without thinking over there .\n",
      "OOV tokens: Philip spoke Philip spoken\n",
      "William grown quickly at home .\n",
      "William grew quickly at home .\n",
      "OOV tokens: William grown William grew\n",
      "William had grew quickly at home .\n",
      "William had grown quickly at home .\n",
      "OOV tokens: William grew William grown\n",
      "Alexander come too late over there .\n",
      "Alexander came too late over there .\n",
      "OOV tokens: Alexander Alexander\n",
      "Alexander had came too late over there .\n",
      "Alexander had come too late over there .\n",
      "OOV tokens: Alexander Alexander\n",
      "Laura given something sweet to the baby over there .\n",
      "Laura gave something sweet to the baby over there .\n",
      "OOV tokens: Laura given Laura\n",
      "Laura had gave something sweet to the baby over there .\n",
      "Laura had given something sweet to the baby over there .\n",
      "OOV tokens: Laura Laura given\n",
      "Alexander known a lot of things over there .\n",
      "Alexander knew a lot of things over there .\n",
      "OOV tokens: Alexander known Alexander\n",
      "('irregular', 'verb'): 0 / 2000 = 0.00%\n",
      "out-of-SAYCam vocab sentence examples:\n",
      "who should William have the baby without watching ?\n",
      "who should William have without watching the baby ?\n",
      "OOV tokens: William William\n",
      "what did William have the baby without watching ?\n",
      "what did William have without watching the baby ?\n",
      "OOV tokens: William William\n",
      "who should Roger have the procedure while washing ?\n",
      "who should Roger have while washing the procedure ?\n",
      "OOV tokens: Roger procedure Roger procedure\n",
      "what did Roger have the procedure while washing ?\n",
      "what did Roger have while washing the procedure ?\n",
      "OOV tokens: Roger procedure Roger procedure\n",
      "who should Mark turn the color while facing ?\n",
      "who should Mark turn while facing the color ?\n",
      "OOV tokens: Mark facing Mark facing\n",
      "what did Mark turn the color while facing ?\n",
      "what did Mark turn while facing the color ?\n",
      "OOV tokens: Mark facing Mark facing\n",
      "who should Donald get the cast after making ?\n",
      "who should Donald get after making the cast ?\n",
      "OOV tokens: Donald cast Donald cast\n",
      "what did Donald get the cast after making ?\n",
      "what did Donald get after making the cast ?\n",
      "OOV tokens: Donald cast Donald cast\n",
      "who should Mark use the truck after writing ?\n",
      "who should Mark use after writing the truck ?\n",
      "OOV tokens: Mark Mark\n",
      "what did Mark use the truck after writing ?\n",
      "what did Mark use after writing the truck ?\n",
      "OOV tokens: Mark Mark\n",
      "who should Mark present the stand before flying over ?\n",
      "who should Mark present before flying over the stand ?\n",
      "OOV tokens: Mark Mark\n",
      "what did Mark present the stand before flying over ?\n",
      "what did Mark present before flying over the stand ?\n",
      "OOV tokens: Mark Mark\n",
      "who should Mark work for the suit without rolling ?\n",
      "who should Mark work for without rolling the suit ?\n",
      "OOV tokens: Mark suit rolling Mark rolling suit\n",
      "what did Mark work for the suit without rolling ?\n",
      "what did Mark work for without rolling the suit ?\n",
      "OOV tokens: Mark suit rolling Mark rolling suit\n",
      "who should Philip use the access without fishing ?\n",
      "who should Philip use without fishing the access ?\n",
      "OOV tokens: Philip access fishing Philip fishing access\n",
      "('island', 'effects', 'adjunct_island'): 0 / 2000 = 0.00%\n",
      "out-of-SAYCam vocab sentence examples:\n",
      "who must Philip turn and the dinosaur ?\n",
      "who must Philip and the dinosaur turn ?\n",
      "OOV tokens: Philip Philip\n",
      "who were Philip turn and the dinosaur ?\n",
      "who were Philip and the dinosaur taking ?\n",
      "OOV tokens: Philip Philip\n",
      "what did Philip turn and the dinosaur ?\n",
      "what did Philip and the dinosaur turn ?\n",
      "OOV tokens: Philip Philip\n",
      "what were Philip taking and the dinosaur ?\n",
      "what were Philip and the dinosaur taking ?\n",
      "OOV tokens: Philip Philip\n",
      "what did Roger work for and the sister ?\n",
      "what did Roger and the sister work for ?\n",
      "OOV tokens: Roger sister Roger sister\n",
      "what were Roger saying and the sister ?\n",
      "what were Roger and the sister saying ?\n",
      "OOV tokens: Roger sister Roger sister\n",
      "who must Michael change and the doctor ?\n",
      "who must Michael and the doctor change ?\n",
      "OOV tokens: Michael Michael\n",
      "who were Michael change and the doctor ?\n",
      "who were Michael and the doctor housing ?\n",
      "OOV tokens: Michael Michael housing\n",
      "what did Michael change and the doctor ?\n",
      "what did Michael and the doctor change ?\n",
      "OOV tokens: Michael Michael\n",
      "what were Michael housing and the doctor ?\n",
      "what were Michael and the doctor housing ?\n",
      "OOV tokens: Michael housing Michael housing\n",
      "who must Alexander have and the dinosaur ?\n",
      "who must Alexander and the dinosaur have ?\n",
      "OOV tokens: Alexander Alexander\n",
      "who were Alexander have and the dinosaur ?\n",
      "who were Alexander and the dinosaur drawing ?\n",
      "OOV tokens: Alexander Alexander\n",
      "what did Alexander have and the dinosaur ?\n",
      "what did Alexander and the dinosaur have ?\n",
      "OOV tokens: Alexander Alexander\n",
      "what were Alexander drawing and the dinosaur ?\n",
      "what were Alexander and the dinosaur drawing ?\n",
      "OOV tokens: Alexander Alexander\n",
      "who must William close and the sister ?\n",
      "who must William and the sister close ?\n",
      "OOV tokens: William sister William sister\n",
      "('island', 'effects', 'coordinate_structure_constraint'): 0 / 2000 = 0.00%\n",
      "out-of-SAYCam vocab sentence examples:\n",
      "can the whale orders ?\n",
      "can the whale order ?\n",
      "OOV tokens: orders\n",
      "is the lady finds the valley ?\n",
      "is the lady finding the valley ?\n",
      "OOV tokens: valley finding valley\n",
      "is the bank finds the night ?\n",
      "is the bank finding the night ?\n",
      "OOV tokens: bank bank finding\n",
      "can the bank becomes ?\n",
      "can the bank become ?\n",
      "OOV tokens: bank becomes bank become\n",
      "is the stand takes the cabinet away ?\n",
      "is the stand taking the cabinet away ?\n",
      "OOV tokens: cabinet cabinet\n",
      "can the stand uses the cabinet ?\n",
      "can the stand use the cabinet ?\n",
      "OOV tokens: uses cabinet cabinet\n",
      "is the rock shows the bet to the hill ?\n",
      "is the rock showing the bet to the hill ?\n",
      "OOV tokens: shows\n",
      "can the rock changes ?\n",
      "can the rock change ?\n",
      "OOV tokens: changes\n",
      "can the night gives the ball the lady ?\n",
      "can the night give the ball the lady ?\n",
      "OOV tokens: gives\n",
      "is the access goes ?\n",
      "is the access going ?\n",
      "OOV tokens: access access\n",
      "can the access takes the drop away ?\n",
      "can the access take the drop away ?\n",
      "OOV tokens: access access\n",
      "is the book finds the access ?\n",
      "is the book finding the access ?\n",
      "OOV tokens: access finding access\n",
      "can the book takes the access away ?\n",
      "can the book take the access away ?\n",
      "OOV tokens: access access\n",
      "is the wolf finds the suit ?\n",
      "is the wolf finding the suit ?\n",
      "OOV tokens: wolf suit wolf finding suit\n",
      "can the wolf gives the suit the guess ?\n",
      "can the wolf give the suit the guess ?\n",
      "OOV tokens: wolf gives suit wolf suit\n",
      "('local_attractor', 'in_question_with_aux'): 480 / 2000 = 24.00%\n",
      "out-of-SAYCam vocab sentence examples:\n",
      "her boat does ever play with the growth ?\n",
      "does her boat ever play with the growth ?\n",
      "OOV tokens: growth growth\n",
      "Mark does ever play with the growth ?\n",
      "does Mark ever play with the growth ?\n",
      "OOV tokens: Mark growth Mark growth\n",
      "Sarah will ever change ?\n",
      "will Sarah ever change ?\n",
      "OOV tokens: Sarah Sarah\n",
      "Roger should ever like ?\n",
      "should Roger ever like ?\n",
      "OOV tokens: Roger Roger\n",
      "Alexander could ever like ?\n",
      "could Alexander ever like ?\n",
      "OOV tokens: Alexander Alexander\n",
      "a duke could ever keep the lady ?\n",
      "could a duke ever keep the lady ?\n",
      "OOV tokens: duke duke\n",
      "Michael could ever keep the lady ?\n",
      "could Michael ever keep the lady ?\n",
      "OOV tokens: Michael Michael\n",
      "her pig did ever find the access ?\n",
      "did her pig ever find the access ?\n",
      "OOV tokens: access access\n",
      "Mark did ever find the access ?\n",
      "did Mark ever find the access ?\n",
      "OOV tokens: Mark access Mark access\n",
      "his doctor does ever control the sky ?\n",
      "does his doctor ever control the sky ?\n",
      "OOV tokens: control control\n",
      "Roger does ever control the sky ?\n",
      "does Roger ever control the sky ?\n",
      "OOV tokens: Roger control Roger control\n",
      "Laura would ever change ?\n",
      "would Laura ever change ?\n",
      "OOV tokens: Laura Laura\n",
      "Alexander would ever find you ?\n",
      "would Alexander ever find you ?\n",
      "OOV tokens: Alexander Alexander\n",
      "Laura should ever want the guess ?\n",
      "should Laura ever want the guess ?\n",
      "OOV tokens: Laura Laura\n",
      "some wolf would ever play with the person ?\n",
      "would some wolf ever play with the person ?\n",
      "OOV tokens: wolf wolf\n",
      "('npi_licensing', 'matrix_question'): 374 / 2000 = 18.70%\n",
      "out-of-SAYCam vocab sentence examples:\n",
      "even Mark ever finds some suit .\n",
      "only Mark ever finds some suit .\n",
      "OOV tokens: Mark suit Mark suit\n",
      "even Mark could ever like some suit .\n",
      "only Mark could ever like some suit .\n",
      "OOV tokens: Mark suit Mark suit\n",
      "even your wolf ever moves your lady .\n",
      "only your wolf ever moves your lady .\n",
      "OOV tokens: wolf moves wolf moves\n",
      "even your wolf can ever control your lady .\n",
      "only your wolf can ever control your lady .\n",
      "OOV tokens: wolf control wolf control\n",
      "even your boat ever turns on his baby .\n",
      "only your boat ever turns on his baby .\n",
      "OOV tokens: turns turns\n",
      "even Donald ever comes to some back .\n",
      "only Donald ever comes to some back .\n",
      "OOV tokens: Donald Donald\n",
      "even Donald could ever be in some back .\n",
      "only Donald could ever be in some back .\n",
      "OOV tokens: Donald Donald\n",
      "even your pig ever goes to some suit .\n",
      "only your pig ever goes to some suit .\n",
      "OOV tokens: suit suit\n",
      "even your pig can ever be in some suit .\n",
      "only your pig can ever be in some suit .\n",
      "OOV tokens: suit suit\n",
      "even your slave ever sees her whale .\n",
      "only your slave ever sees her whale .\n",
      "OOV tokens: slave sees slave sees\n",
      "even your slave will ever keep her whale .\n",
      "only your slave will ever keep her whale .\n",
      "OOV tokens: slave slave\n",
      "even her slave ever copies her bet .\n",
      "only her slave ever copies her bet .\n",
      "OOV tokens: slave copies slave copies\n",
      "even her slave will ever like her bet .\n",
      "only her slave will ever like her bet .\n",
      "OOV tokens: slave slave\n",
      "even Philip ever waves his cabinet .\n",
      "only Philip ever waves his cabinet .\n",
      "OOV tokens: Philip waves cabinet Philip waves cabinet\n",
      "even Philip could ever like his cabinet .\n",
      "only Philip could ever like his cabinet .\n",
      "OOV tokens: Philip cabinet Philip cabinet\n",
      "('npi_licensing', 'only_npi_licensor'): 205 / 2000 = 10.25%\n",
      "out-of-SAYCam vocab sentence examples:\n",
      "there are most birds that Sarah made .\n",
      "there are many birds that Sarah made .\n",
      "OOV tokens: Sarah Sarah\n",
      "there aren't every movies about good differences .\n",
      "there aren't many movies about good differences .\n",
      "OOV tokens: movies differences movies differences\n",
      "there aren't every differences that Laura made .\n",
      "there aren't many differences that Laura made .\n",
      "OOV tokens: differences Laura differences Laura\n",
      "there aren't most stories about purple eggs .\n",
      "there aren't some stories about purple eggs .\n",
      "OOV tokens: stories stories\n",
      "there aren't most eggs that William made .\n",
      "there aren't some eggs that William made .\n",
      "OOV tokens: William William\n",
      "there are most signs about wrong stars .\n",
      "there are some signs about wrong stars .\n",
      "OOV tokens: signs signs\n",
      "there are most stars that Mark made .\n",
      "there are some stars that Mark made .\n",
      "OOV tokens: Mark Mark\n",
      "there was all guy that Roger made .\n",
      "there was no guy that Roger made .\n",
      "OOV tokens: Roger Roger\n",
      "there are each stories about finished animals .\n",
      "there are many stories about finished animals .\n",
      "OOV tokens: stories stories\n",
      "there are each animals that Michael made .\n",
      "there are many animals that Michael made .\n",
      "OOV tokens: Michael Michael\n",
      "there were not each signs about little arms .\n",
      "there were not many signs about little arms .\n",
      "OOV tokens: signs signs\n",
      "there were not each arms that Mark made .\n",
      "there were not many arms that Mark made .\n",
      "OOV tokens: Mark Mark\n",
      "there isn't most movie about silly stands .\n",
      "there isn't no movie about silly stands .\n",
      "OOV tokens: stands stands\n",
      "there isn't most stand that Alexander made .\n",
      "there isn't no stand that Alexander made .\n",
      "OOV tokens: Alexander Alexander\n",
      "there were each stories about full whales .\n",
      "there were many stories about full whales .\n",
      "OOV tokens: stories stories\n"
     ]
    },
    {
     "name": "stdout",
     "output_type": "stream",
     "text": [
      "('quantifiers', 'existential_there'): 181 / 2000 = 9.05%\n",
      "out-of-SAYCam vocab sentence examples:\n",
      "no wolf could carry at least six waters .\n",
      "no wolf could carry more than six waters .\n",
      "OOV tokens: wolf waters wolf waters\n",
      "no pig can stand on top of at most ten birds .\n",
      "no pig can stand on top of fewer than ten birds .\n",
      "OOV tokens: fewer\n",
      "no boat could open the door to at most thirty stands .\n",
      "no boat could open the door to fewer than thirty stands .\n",
      "OOV tokens: thirty stands fewer thirty stands\n",
      "no wolf could carry at most ten things .\n",
      "no wolf could carry fewer than ten things .\n",
      "OOV tokens: wolf wolf fewer\n",
      "no doctor can catch at least thirty toys .\n",
      "no doctor can catch more than thirty toys .\n",
      "OOV tokens: thirty thirty\n",
      "no boat could carry at most twenty pages .\n",
      "no boat could carry fewer than twenty pages .\n",
      "OOV tokens: fewer\n",
      "no pig could stand on top of at most one window .\n",
      "no pig could stand on top of fewer than one window .\n",
      "OOV tokens: fewer\n",
      "no dinosaur could move to at most thirty windows .\n",
      "no dinosaur could move to fewer than thirty windows .\n",
      "OOV tokens: thirty windows fewer thirty windows\n",
      "no boat could increase the size of at least thirty eggs .\n",
      "no boat could increase the size of more than thirty eggs .\n",
      "OOV tokens: increase size thirty increase size thirty\n",
      "no dinosaur can increase the size of at least one problem .\n",
      "no dinosaur can increase the size of more than one problem .\n",
      "OOV tokens: increase size increase size\n",
      "no duke can open the door to at least six girls .\n",
      "no duke can open the door to more than six girls .\n",
      "OOV tokens: duke duke\n",
      "no boat could stand on top of at most ten books .\n",
      "no boat could stand on top of fewer than ten books .\n",
      "OOV tokens: fewer\n",
      "no slave could leave at most ten colors .\n",
      "no slave could leave fewer than ten colors .\n",
      "OOV tokens: slave slave fewer\n",
      "no slave could increase the size of at most twenty minutes .\n",
      "no slave could increase the size of fewer than twenty minutes .\n",
      "OOV tokens: slave increase size slave increase size fewer\n",
      "no pig could carry at most one car .\n",
      "no pig could carry fewer than one car .\n",
      "OOV tokens: fewer\n",
      "('quantifiers', 'superlative'): 188 / 2000 = 9.40%\n"
     ]
    }
   ],
   "source": [
    "# get SAYCam vocab\n",
    "saycam_vocab = read_vocab(VOCAB_FILENAME)\n",
    "saycam_vocab_size = len(saycam_vocab)\n",
    "print(f'{saycam_vocab_size = }')\n",
    "word2idx = saycam_vocab\n",
    "idx2word = [None] * saycam_vocab_size\n",
    "for word, idx in word2idx.items():\n",
    "    idx2word[idx] = word\n",
    "idx2word = np.array(idx2word)\n",
    "\n",
    "# get Zorro data\n",
    "zorro_data = {}\n",
    "zorro_vocab = Counter()\n",
    "\n",
    "for zorro_txt_file in ZORRO_TXT_FILES:\n",
    "    data_name = tuple(zorro_txt_file.stem.split('-'))\n",
    "    print(f'processing {zorro_txt_file.stem} ...', end='', flush=True)\n",
    "\n",
    "    tokenized_file = TOKENIZED_DIR / (zorro_txt_file.stem + '.pkl')\n",
    "\n",
    "    if tokenized_file.exists():\n",
    "        print(f' load from {tokenized_file}')\n",
    "        with open(tokenized_file, 'rb') as f:\n",
    "            sentences = pickle.load(f)\n",
    "\n",
    "    else:\n",
    "        with open(zorro_txt_file, 'r') as f:\n",
    "            sentences = [tokenize(line.strip()) for line in f]\n",
    "\n",
    "        print(f' save to {tokenized_file}')\n",
    "        tokenized_file.parent.mkdir(parents=True, exist_ok=True)\n",
    "        with open(tokenized_file, 'wb') as f:\n",
    "            pickle.dump(sentences, f)\n",
    "\n",
    "    zorro_data[data_name] = sentences\n",
    "\n",
    "    zorro_vocab.update(map(str, itertools.chain.from_iterable(sentences)))\n",
    "\n",
    "# Zorro vocab\n",
    "zorro_vocab = sorted(\n",
    "    zorro_vocab.items(),\n",
    "    key = lambda item: (-item[1], item[0])\n",
    ")\n",
    "zorro_vocab_size = len(zorro_vocab)\n",
    "print(f'{zorro_vocab_size = }')\n",
    "print('words in zorro vocab:')\n",
    "for word, freq in zorro_vocab[:100]:\n",
    "    print(f'{word:10} {freq:6}')\n",
    "\n",
    "# Zorro vocab compared to SAYCam vocab\n",
    "in_saycam_vocab_cnt = 0\n",
    "print('words not in SAYCam vocab:')\n",
    "for word, freq in zorro_vocab:\n",
    "    if word in saycam_vocab:\n",
    "        in_saycam_vocab_cnt += 1\n",
    "    else:\n",
    "        print(word)\n",
    "print(f'{frac_format(in_saycam_vocab_cnt, len(zorro_vocab))} in SAYCam vocab')\n",
    "\n",
    "# filter Zorro data\n",
    "filter_masks = {}\n",
    "\n",
    "for data_name, sentences in zorro_data.items():\n",
    "    n_total = 0\n",
    "    sentence_pairs_in_saycam_vocab, sentence_pairs_out_of_saycam_vocab, filter_mask = [], [], []\n",
    "\n",
    "    print('out-of-SAYCam vocab sentence examples:')\n",
    "    for sentence_pair in paired(sentences):\n",
    "        n_total += 1\n",
    "\n",
    "        filter_flag = sentence_pair_in_vocab(sentence_pair, saycam_vocab)\n",
    "        filter_mask.append(filter_flag)\n",
    "\n",
    "        if filter_flag:\n",
    "            sentence_pairs_in_saycam_vocab.append(sentence_pair)\n",
    "        else:\n",
    "            sentence_pairs_out_of_saycam_vocab.append(sentence_pair)\n",
    "            if len(sentence_pairs_out_of_saycam_vocab) <= N_MAX_PRINT_OOV_SENT_PAIRS:\n",
    "                for sentence in sentence_pair:\n",
    "                    print(untokenize(sentence))\n",
    "                print(\n",
    "                    'OOV tokens:',\n",
    "                    ' '.join(\n",
    "                        str(token)\n",
    "                        for sentence in sentence_pair\n",
    "                        for token in sentence\n",
    "                        if str(token) not in saycam_vocab\n",
    "                    )\n",
    "                )\n",
    "\n",
    "    print(f'{data_name}: {frac_format(len(sentence_pairs_in_saycam_vocab), n_total)}')\n",
    "\n",
    "    filter_masks[data_name] = filter_mask"
   ]
  },
  {
   "cell_type": "code",
   "execution_count": 4,
   "id": "a87ce412",
   "metadata": {},
   "outputs": [
    {
     "name": "stdout",
     "output_type": "stream",
     "text": [
      "load model from checkpoints/lm_dataset_saycam_captioning_False_text_encoder_lstm_embedding_dim_512_dropout_i_0.5_dropout_o_0.0_batch_size_16_lr_0.006_lr_scheduler_True_weight_decay_0.04_seed_0/epoch=29.ckpt\n"
     ]
    },
    {
     "name": "stderr",
     "output_type": "stream",
     "text": [
      "/home/ww2135/.local/lib/python3.9/site-packages/pytorch_lightning/core/datamodule.py:73: LightningDeprecationWarning: DataModule property `train_transforms` was deprecated in v1.5 and will be removed in v1.7.\n",
      "  rank_zero_deprecation(\n"
     ]
    },
    {
     "name": "stdout",
     "output_type": "stream",
     "text": [
      "Using base transforms\n",
      "Calling prepare_data!\n",
      "SAYCam transcripts have already been downloaded. Skipping this step.\n",
      "Transcripts have already been renamed. Skipping this step.\n",
      "Transcripts have already been preprocessed. Skipping this step.\n",
      "Training frames have already been extracted. Skipping this step.\n",
      "Training metadata files have already been created. Skipping this step.\n",
      "Shuffled training metadata file has already been created. Skipping this step.\n",
      "Evaluation frames have already been filtered. Skipping this step.\n",
      "Evaluation frames have already been extracted. Skipping this step.\n",
      "Filtered evaluation frames have already been extracted. Skipping this step.\n",
      "Evaluation metadata files have already been created. Skipping this step.\n",
      "Evaluation metadata files have already been created. Skipping this step.\n",
      "Extra evaluation metadata files have already been created. Skipping this step.\n",
      "Extra evaluation metadata files have already been created. Skipping this step.\n",
      "Vocabulary file already exists. Skipping this step.\n",
      "Calling setup!\n",
      "Training using matched utterances!\n",
      "load model from checkpoints/lm_dataset_saycam_text_encoder_cbow_embedding_dim_512_tie_False_bias_False_crange_1_dropout_i_0.0_dropout_o_0.1_batch_size_8_lr_0.003_lr_scheduler_True_patience_2_weight_decay_0.04_seed_0/epoch=31.ckpt\n"
     ]
    },
    {
     "name": "stderr",
     "output_type": "stream",
     "text": [
      "100%|█████████████████████████████████████████████████████████████████████████████████████████████| 2108/2108 [00:38<00:00, 54.64it/s]\n",
      "100%|█████████████████████████████████████████████████████████████████████████████████████████████| 2108/2108 [00:26<00:00, 81.04it/s]\n"
     ]
    }
   ],
   "source": [
    "# build datasets\n",
    "datasets = {\n",
    "    data_name: SentencesDataset(sentences, saycam_vocab)\n",
    "    for data_name, sentences in zorro_data.items()\n",
    "}\n",
    "\n",
    "my_batch_size = 256\n",
    "\n",
    "\n",
    "# load model from checkpoint\n",
    "\n",
    "# select from list of checkpoints\n",
    "dataset_name = \"saycam\"\n",
    "names = [\n",
    "    \"LSTM 0\", #\"LSTM 1\", \"LSTM 2\",\n",
    "    \"CBOW 0\", #\"CBOW 1\", \"CBOW 2\",\n",
    "    \"1-gram\", \"2-gram\", #\"3-gram\", \"4-gram\",\n",
    "]\n",
    "dataset_checkpoint_paths = all_checkpoint_paths[dataset_name]\n",
    "checkpoint_paths = [dataset_checkpoint_paths[name] for name in names]\n",
    "\n",
    "models = []\n",
    "\n",
    "saycam_data = None\n",
    "\n",
    "for checkpoint_path in checkpoint_paths:\n",
    "    if \"gram\" in checkpoint_path:\n",
    "        ngram_model = build_ngram_model(int(checkpoint_path.split('-')[0]), saycam_vocab_size, saycam_data.train_dataloader())\n",
    "        model = ngram_model\n",
    "\n",
    "    else:\n",
    "        print(f\"load model from {checkpoint_path}\")\n",
    "        lit_model = MultiModalLitModel.load_from_checkpoint(checkpoint_path, map_location=device)\n",
    "        lit_model.to(device)\n",
    "        lit_model.eval()\n",
    "        model = lit_model\n",
    "\n",
    "        if saycam_data is None:\n",
    "            # build data and vocab according to the model\n",
    "            saycam_data, args = build_data(args=lit_model.args, return_args=True)\n",
    "            dataset_name = args.dataset\n",
    "\n",
    "        else:\n",
    "            assert lit_model.args[\"dataset\"] == dataset_name, f\"checkpoint {checkpoint_path} ran on a different dataset {args.dataset}\"\n",
    "\n",
    "    models.append(model)"
   ]
  },
  {
   "cell_type": "code",
   "execution_count": 5,
   "id": "a54bc994",
   "metadata": {},
   "outputs": [
    {
     "name": "stdout",
     "output_type": "stream",
     "text": [
      "running LSTM 0 ...\n",
      "running CBOW 0 ...\n",
      "running 1-gram ...\n",
      "running 2-gram ...\n"
     ]
    }
   ],
   "source": [
    "loss_dfs = {\n",
    "    data_name: pd.DataFrame(np.zeros((len(dataset), 0)))\n",
    "    for data_name, dataset in datasets.items()\n",
    "}\n",
    "\n",
    "\n",
    "for model_name, model in zip(names, models):\n",
    "    print(f'running {model_name} ...')\n",
    "    for data_name, dataset in datasets.items():\n",
    "        if not dataset:\n",
    "            continue\n",
    "        dataloader = DataLoader(\n",
    "            dataset,\n",
    "            collate_fn=collate_fn,\n",
    "            shuffle=False,\n",
    "            batch_size=my_batch_size,\n",
    "            drop_last=False,\n",
    "        )\n",
    "        batches = map(prepend_image_placeholder_for_batch, dataloader)\n",
    "        losses = get_model_losses_on_data_batches(model, batches, use_tqdm=False)\n",
    "        losses = losses.cpu().numpy()\n",
    "        loss_dfs[data_name][f'SAYCam {model_name}'] = losses\n",
    "\n",
    "for probing_results_dir in Path('/misc/vlgscratch4/LakeGroup/wentao/BabyBERTa/probing_results/babyberta').glob('*'):\n",
    "    model_name = probing_results_dir.name\n",
    "    if model_name not in ['BabyBERTa_AO-CHILDES', 'BabyBERTa_AO-CHILDES+AO-Newselsa+Wikipedia-1'][:1]:\n",
    "        continue\n",
    "    for file in probing_results_dir.glob('*'):\n",
    "        stem = file.stem\n",
    "        data_name = tuple(stem.split('-'))\n",
    "        sentences, losses = zip(*read_sentences_and_losses(file))\n",
    "        loss_dfs[data_name][model_name] = losses"
   ]
  },
  {
   "cell_type": "code",
   "execution_count": 6,
   "id": "7ea2e560",
   "metadata": {
    "scrolled": true
   },
   "outputs": [
    {
     "name": "stderr",
     "output_type": "stream",
     "text": [
      "/home/ww2135/.local/lib/python3.9/site-packages/seaborn/axisgrid.py:88: UserWarning: Tight layout not applied. The left and right margins cannot be made large enough to accommodate all axes decorations. \n",
      "  self._figure.tight_layout(*args, **kwargs)\n"
     ]
    },
    {
     "name": "stdout",
     "output_type": "stream",
     "text": [
      "saving plot Syntactic Probing Accuracy Across Paradigms\n"
     ]
    },
    {
     "data": {
      "text/html": [
       "<div>\n",
       "<style scoped>\n",
       "    .dataframe tbody tr th:only-of-type {\n",
       "        vertical-align: middle;\n",
       "    }\n",
       "\n",
       "    .dataframe tbody tr th {\n",
       "        vertical-align: top;\n",
       "    }\n",
       "\n",
       "    .dataframe thead tr th {\n",
       "        text-align: left;\n",
       "    }\n",
       "\n",
       "    .dataframe thead tr:last-of-type th {\n",
       "        text-align: right;\n",
       "    }\n",
       "</style>\n",
       "<table border=\"1\" class=\"dataframe\">\n",
       "  <thead>\n",
       "    <tr>\n",
       "      <th></th>\n",
       "      <th colspan=\"5\" halign=\"left\">accuracy</th>\n",
       "    </tr>\n",
       "    <tr>\n",
       "      <th>model</th>\n",
       "      <th>BabyBERTa_AO-CHILDES</th>\n",
       "      <th>SAYCam 1-gram</th>\n",
       "      <th>SAYCam 2-gram</th>\n",
       "      <th>SAYCam CBOW 0</th>\n",
       "      <th>SAYCam LSTM 0</th>\n",
       "    </tr>\n",
       "    <tr>\n",
       "      <th>dataset</th>\n",
       "      <th></th>\n",
       "      <th></th>\n",
       "      <th></th>\n",
       "      <th></th>\n",
       "      <th></th>\n",
       "    </tr>\n",
       "  </thead>\n",
       "  <tbody>\n",
       "    <tr>\n",
       "      <th>agreement_determiner_noun-across_1_adjective</th>\n",
       "      <td>0.963415</td>\n",
       "      <td>0.500000</td>\n",
       "      <td>0.500000</td>\n",
       "      <td>0.416159</td>\n",
       "      <td>0.658537</td>\n",
       "    </tr>\n",
       "    <tr>\n",
       "      <th>agreement_determiner_noun-between_neighbors</th>\n",
       "      <td>0.980519</td>\n",
       "      <td>0.500000</td>\n",
       "      <td>0.662338</td>\n",
       "      <td>0.826299</td>\n",
       "      <td>0.706169</td>\n",
       "    </tr>\n",
       "    <tr>\n",
       "      <th>agreement_subject_verb-across_prepositional_phrase</th>\n",
       "      <td>0.756250</td>\n",
       "      <td>0.500000</td>\n",
       "      <td>0.475000</td>\n",
       "      <td>0.500000</td>\n",
       "      <td>0.525000</td>\n",
       "    </tr>\n",
       "    <tr>\n",
       "      <th>agreement_subject_verb-across_relative_clause</th>\n",
       "      <td>0.812030</td>\n",
       "      <td>0.500000</td>\n",
       "      <td>0.500000</td>\n",
       "      <td>0.500000</td>\n",
       "      <td>0.545113</td>\n",
       "    </tr>\n",
       "    <tr>\n",
       "      <th>agreement_subject_verb-in_question_with_aux</th>\n",
       "      <td>0.907143</td>\n",
       "      <td>0.500000</td>\n",
       "      <td>0.482143</td>\n",
       "      <td>0.485714</td>\n",
       "      <td>0.521429</td>\n",
       "    </tr>\n",
       "    <tr>\n",
       "      <th>agreement_subject_verb-in_simple_question</th>\n",
       "      <td>0.964115</td>\n",
       "      <td>0.500000</td>\n",
       "      <td>0.492823</td>\n",
       "      <td>0.417464</td>\n",
       "      <td>0.589713</td>\n",
       "    </tr>\n",
       "    <tr>\n",
       "      <th>argument_structure-dropped_argument</th>\n",
       "      <td>0.695015</td>\n",
       "      <td>0.416422</td>\n",
       "      <td>0.686217</td>\n",
       "      <td>0.680352</td>\n",
       "      <td>0.774194</td>\n",
       "    </tr>\n",
       "    <tr>\n",
       "      <th>argument_structure-swapped_arguments</th>\n",
       "      <td>0.967864</td>\n",
       "      <td>0.221172</td>\n",
       "      <td>0.982987</td>\n",
       "      <td>0.998110</td>\n",
       "      <td>0.988658</td>\n",
       "    </tr>\n",
       "    <tr>\n",
       "      <th>argument_structure-transitive</th>\n",
       "      <td>0.705729</td>\n",
       "      <td>0.502604</td>\n",
       "      <td>0.598958</td>\n",
       "      <td>0.619792</td>\n",
       "      <td>0.648438</td>\n",
       "    </tr>\n",
       "    <tr>\n",
       "      <th>case-subjective_pronoun</th>\n",
       "      <td>0.960152</td>\n",
       "      <td>0.130930</td>\n",
       "      <td>1.000000</td>\n",
       "      <td>0.994307</td>\n",
       "      <td>0.981025</td>\n",
       "    </tr>\n",
       "    <tr>\n",
       "      <th>local_attractor-in_question_with_aux</th>\n",
       "      <td>0.968750</td>\n",
       "      <td>0.877083</td>\n",
       "      <td>0.870833</td>\n",
       "      <td>0.658333</td>\n",
       "      <td>0.829167</td>\n",
       "    </tr>\n",
       "    <tr>\n",
       "      <th>npi_licensing-matrix_question</th>\n",
       "      <td>0.711230</td>\n",
       "      <td>0.032086</td>\n",
       "      <td>0.628342</td>\n",
       "      <td>0.328877</td>\n",
       "      <td>0.438503</td>\n",
       "    </tr>\n",
       "    <tr>\n",
       "      <th>npi_licensing-only_npi_licensor</th>\n",
       "      <td>0.570732</td>\n",
       "      <td>1.000000</td>\n",
       "      <td>0.829268</td>\n",
       "      <td>0.756098</td>\n",
       "      <td>0.868293</td>\n",
       "    </tr>\n",
       "    <tr>\n",
       "      <th>quantifiers-existential_there</th>\n",
       "      <td>0.994475</td>\n",
       "      <td>0.839779</td>\n",
       "      <td>0.900552</td>\n",
       "      <td>0.734807</td>\n",
       "      <td>0.983425</td>\n",
       "    </tr>\n",
       "    <tr>\n",
       "      <th>quantifiers-superlative</th>\n",
       "      <td>0.957447</td>\n",
       "      <td>1.000000</td>\n",
       "      <td>0.648936</td>\n",
       "      <td>0.734043</td>\n",
       "      <td>0.515957</td>\n",
       "    </tr>\n",
       "  </tbody>\n",
       "</table>\n",
       "</div>"
      ],
      "text/plain": [
       "                                                               accuracy                                            \\\n",
       "model                                              BabyBERTa_AO-CHILDES SAYCam 1-gram SAYCam 2-gram SAYCam CBOW 0   \n",
       "dataset                                                                                                             \n",
       "agreement_determiner_noun-across_1_adjective                   0.963415      0.500000      0.500000      0.416159   \n",
       "agreement_determiner_noun-between_neighbors                    0.980519      0.500000      0.662338      0.826299   \n",
       "agreement_subject_verb-across_prepositional_phrase             0.756250      0.500000      0.475000      0.500000   \n",
       "agreement_subject_verb-across_relative_clause                  0.812030      0.500000      0.500000      0.500000   \n",
       "agreement_subject_verb-in_question_with_aux                    0.907143      0.500000      0.482143      0.485714   \n",
       "agreement_subject_verb-in_simple_question                      0.964115      0.500000      0.492823      0.417464   \n",
       "argument_structure-dropped_argument                            0.695015      0.416422      0.686217      0.680352   \n",
       "argument_structure-swapped_arguments                           0.967864      0.221172      0.982987      0.998110   \n",
       "argument_structure-transitive                                  0.705729      0.502604      0.598958      0.619792   \n",
       "case-subjective_pronoun                                        0.960152      0.130930      1.000000      0.994307   \n",
       "local_attractor-in_question_with_aux                           0.968750      0.877083      0.870833      0.658333   \n",
       "npi_licensing-matrix_question                                  0.711230      0.032086      0.628342      0.328877   \n",
       "npi_licensing-only_npi_licensor                                0.570732      1.000000      0.829268      0.756098   \n",
       "quantifiers-existential_there                                  0.994475      0.839779      0.900552      0.734807   \n",
       "quantifiers-superlative                                        0.957447      1.000000      0.648936      0.734043   \n",
       "\n",
       "                                                                  \n",
       "model                                              SAYCam LSTM 0  \n",
       "dataset                                                           \n",
       "agreement_determiner_noun-across_1_adjective            0.658537  \n",
       "agreement_determiner_noun-between_neighbors             0.706169  \n",
       "agreement_subject_verb-across_prepositional_phrase      0.525000  \n",
       "agreement_subject_verb-across_relative_clause           0.545113  \n",
       "agreement_subject_verb-in_question_with_aux             0.521429  \n",
       "agreement_subject_verb-in_simple_question               0.589713  \n",
       "argument_structure-dropped_argument                     0.774194  \n",
       "argument_structure-swapped_arguments                    0.988658  \n",
       "argument_structure-transitive                           0.648438  \n",
       "case-subjective_pronoun                                 0.981025  \n",
       "local_attractor-in_question_with_aux                    0.829167  \n",
       "npi_licensing-matrix_question                           0.438503  \n",
       "npi_licensing-only_npi_licensor                         0.868293  \n",
       "quantifiers-existential_there                           0.983425  \n",
       "quantifiers-superlative                                 0.515957  "
      ]
     },
     "metadata": {},
     "output_type": "display_data"
    },
    {
     "name": "stdout",
     "output_type": "stream",
     "text": [
      "saving plot Syntactic Probing Accuracy Mean\n"
     ]
    },
    {
     "data": {
      "text/html": [
       "<div>\n",
       "<style scoped>\n",
       "    .dataframe tbody tr th:only-of-type {\n",
       "        vertical-align: middle;\n",
       "    }\n",
       "\n",
       "    .dataframe tbody tr th {\n",
       "        vertical-align: top;\n",
       "    }\n",
       "\n",
       "    .dataframe thead th {\n",
       "        text-align: right;\n",
       "    }\n",
       "</style>\n",
       "<table border=\"1\" class=\"dataframe\">\n",
       "  <thead>\n",
       "    <tr style=\"text-align: right;\">\n",
       "      <th></th>\n",
       "      <th>accuracy</th>\n",
       "    </tr>\n",
       "    <tr>\n",
       "      <th>model</th>\n",
       "      <th></th>\n",
       "    </tr>\n",
       "  </thead>\n",
       "  <tbody>\n",
       "    <tr>\n",
       "      <th>BabyBERTa_AO-CHILDES</th>\n",
       "      <td>0.860991</td>\n",
       "    </tr>\n",
       "    <tr>\n",
       "      <th>SAYCam 1-gram</th>\n",
       "      <td>0.534672</td>\n",
       "    </tr>\n",
       "    <tr>\n",
       "      <th>SAYCam 2-gram</th>\n",
       "      <td>0.683893</td>\n",
       "    </tr>\n",
       "    <tr>\n",
       "      <th>SAYCam CBOW 0</th>\n",
       "      <td>0.643357</td>\n",
       "    </tr>\n",
       "    <tr>\n",
       "      <th>SAYCam LSTM 0</th>\n",
       "      <td>0.704908</td>\n",
       "    </tr>\n",
       "  </tbody>\n",
       "</table>\n",
       "</div>"
      ],
      "text/plain": [
       "                      accuracy\n",
       "model                         \n",
       "BabyBERTa_AO-CHILDES  0.860991\n",
       "SAYCam 1-gram         0.534672\n",
       "SAYCam 2-gram         0.683893\n",
       "SAYCam CBOW 0         0.643357\n",
       "SAYCam LSTM 0         0.704908"
      ]
     },
     "metadata": {},
     "output_type": "display_data"
    },
    {
     "name": "stdout",
     "output_type": "stream",
     "text": [
      "comparing agreement_determiner_noun-across_1_adjective (656 / 2000.0 = 32.80%):\n"
     ]
    },
    {
     "data": {
      "text/plain": [
       "model\n",
       "BabyBERTa_AO-CHILDES    0.963415\n",
       "SAYCam 1-gram           0.500000\n",
       "SAYCam 2-gram           0.500000\n",
       "SAYCam CBOW 0           0.416159\n",
       "SAYCam LSTM 0           0.658537\n",
       "Name: agreement_determiner_noun-across_1_adjective, dtype: float64"
      ]
     },
     "metadata": {},
     "output_type": "display_data"
    },
    {
     "name": "stdout",
     "output_type": "stream",
     "text": [
      "this purple things went there .\n",
      "this purple thing went there .\n"
     ]
    },
    {
     "data": {
      "text/plain": [
       "SAYCam LSTM 0     True\n",
       "SAYCam 1-gram    False\n",
       "SAYCam 2-gram    False\n",
       "SAYCam CBOW 0    False\n",
       "Name: 1, dtype: bool"
      ]
     },
     "metadata": {},
     "output_type": "display_data"
    },
    {
     "name": "stdout",
     "output_type": "stream",
     "text": [
      "this purple things did not happen .\n",
      "this purple thing did not happen .\n"
     ]
    },
    {
     "data": {
      "text/plain": [
       "SAYCam LSTM 0     True\n",
       "SAYCam 1-gram    False\n",
       "SAYCam 2-gram    False\n",
       "SAYCam CBOW 0    False\n",
       "Name: 2, dtype: bool"
      ]
     },
     "metadata": {},
     "output_type": "display_data"
    },
    {
     "name": "stdout",
     "output_type": "stream",
     "text": [
      "i saw this purple things .\n",
      "i saw this purple thing .\n"
     ]
    },
    {
     "data": {
      "text/plain": [
       "SAYCam LSTM 0     True\n",
       "SAYCam 1-gram    False\n",
       "SAYCam 2-gram    False\n",
       "SAYCam CBOW 0    False\n",
       "Name: 3, dtype: bool"
      ]
     },
     "metadata": {},
     "output_type": "display_data"
    },
    {
     "name": "stdout",
     "output_type": "stream",
     "text": [
      "that purple things went there .\n",
      "that purple thing went there .\n"
     ]
    },
    {
     "data": {
      "text/plain": [
       "SAYCam LSTM 0     True\n",
       "SAYCam 1-gram    False\n",
       "SAYCam 2-gram    False\n",
       "SAYCam CBOW 0    False\n",
       "Name: 5, dtype: bool"
      ]
     },
     "metadata": {},
     "output_type": "display_data"
    },
    {
     "name": "stdout",
     "output_type": "stream",
     "text": [
      "that purple things did not happen .\n",
      "that purple thing did not happen .\n"
     ]
    },
    {
     "data": {
      "text/plain": [
       "SAYCam LSTM 0     True\n",
       "SAYCam 1-gram    False\n",
       "SAYCam 2-gram    False\n",
       "SAYCam CBOW 0    False\n",
       "Name: 6, dtype: bool"
      ]
     },
     "metadata": {},
     "output_type": "display_data"
    },
    {
     "name": "stdout",
     "output_type": "stream",
     "text": [
      "i saw that purple things .\n",
      "i saw that purple thing .\n"
     ]
    },
    {
     "data": {
      "text/plain": [
       "SAYCam LSTM 0     True\n",
       "SAYCam 1-gram    False\n",
       "SAYCam 2-gram    False\n",
       "SAYCam CBOW 0    False\n",
       "Name: 7, dtype: bool"
      ]
     },
     "metadata": {},
     "output_type": "display_data"
    },
    {
     "name": "stdout",
     "output_type": "stream",
     "text": [
      "look at these purple thing .\n",
      "look at these purple things .\n"
     ]
    },
    {
     "data": {
      "text/plain": [
       "SAYCam LSTM 0     True\n",
       "SAYCam 1-gram     True\n",
       "SAYCam 2-gram     True\n",
       "SAYCam CBOW 0    False\n",
       "Name: 8, dtype: bool"
      ]
     },
     "metadata": {},
     "output_type": "display_data"
    },
    {
     "name": "stdout",
     "output_type": "stream",
     "text": [
      "i saw these purple thing .\n",
      "i saw these purple things .\n"
     ]
    },
    {
     "data": {
      "text/plain": [
       "SAYCam LSTM 0     True\n",
       "SAYCam 1-gram     True\n",
       "SAYCam 2-gram     True\n",
       "SAYCam CBOW 0    False\n",
       "Name: 11, dtype: bool"
      ]
     },
     "metadata": {},
     "output_type": "display_data"
    },
    {
     "name": "stdout",
     "output_type": "stream",
     "text": [
      "look at those purple thing .\n",
      "look at those purple things .\n"
     ]
    },
    {
     "data": {
      "text/plain": [
       "SAYCam LSTM 0     True\n",
       "SAYCam 1-gram     True\n",
       "SAYCam 2-gram     True\n",
       "SAYCam CBOW 0    False\n",
       "Name: 12, dtype: bool"
      ]
     },
     "metadata": {},
     "output_type": "display_data"
    },
    {
     "name": "stdout",
     "output_type": "stream",
     "text": [
      "i saw those purple thing .\n",
      "i saw those purple things .\n"
     ]
    },
    {
     "data": {
      "text/plain": [
       "SAYCam LSTM 0     True\n",
       "SAYCam 1-gram     True\n",
       "SAYCam 2-gram     True\n",
       "SAYCam CBOW 0    False\n",
       "Name: 15, dtype: bool"
      ]
     },
     "metadata": {},
     "output_type": "display_data"
    },
    {
     "name": "stdout",
     "output_type": "stream",
     "text": [
      "this soft arms went there .\n",
      "this soft arm went there .\n"
     ]
    },
    {
     "data": {
      "text/plain": [
       "SAYCam LSTM 0     True\n",
       "SAYCam 1-gram     True\n",
       "SAYCam 2-gram     True\n",
       "SAYCam CBOW 0    False\n",
       "Name: 17, dtype: bool"
      ]
     },
     "metadata": {},
     "output_type": "display_data"
    },
    {
     "name": "stdout",
     "output_type": "stream",
     "text": [
      "this soft arms did not happen .\n",
      "this soft arm did not happen .\n"
     ]
    },
    {
     "data": {
      "text/plain": [
       "SAYCam LSTM 0     True\n",
       "SAYCam 1-gram     True\n",
       "SAYCam 2-gram     True\n",
       "SAYCam CBOW 0    False\n",
       "Name: 18, dtype: bool"
      ]
     },
     "metadata": {},
     "output_type": "display_data"
    },
    {
     "name": "stdout",
     "output_type": "stream",
     "text": [
      "i saw this soft arms .\n",
      "i saw this soft arm .\n"
     ]
    },
    {
     "data": {
      "text/plain": [
       "SAYCam LSTM 0     True\n",
       "SAYCam 1-gram     True\n",
       "SAYCam 2-gram     True\n",
       "SAYCam CBOW 0    False\n",
       "Name: 19, dtype: bool"
      ]
     },
     "metadata": {},
     "output_type": "display_data"
    },
    {
     "name": "stdout",
     "output_type": "stream",
     "text": [
      "that soft arms went there .\n",
      "that soft arm went there .\n"
     ]
    },
    {
     "data": {
      "text/plain": [
       "SAYCam LSTM 0     True\n",
       "SAYCam 1-gram     True\n",
       "SAYCam 2-gram     True\n",
       "SAYCam CBOW 0    False\n",
       "Name: 21, dtype: bool"
      ]
     },
     "metadata": {},
     "output_type": "display_data"
    },
    {
     "name": "stdout",
     "output_type": "stream",
     "text": [
      "that soft arms did not happen .\n",
      "that soft arm did not happen .\n"
     ]
    },
    {
     "data": {
      "text/plain": [
       "SAYCam LSTM 0     True\n",
       "SAYCam 1-gram     True\n",
       "SAYCam 2-gram     True\n",
       "SAYCam CBOW 0    False\n",
       "Name: 22, dtype: bool"
      ]
     },
     "metadata": {},
     "output_type": "display_data"
    },
    {
     "name": "stdout",
     "output_type": "stream",
     "text": [
      "i saw that soft arms .\n",
      "i saw that soft arm .\n"
     ]
    },
    {
     "data": {
      "text/plain": [
       "SAYCam LSTM 0     True\n",
       "SAYCam 1-gram     True\n",
       "SAYCam 2-gram     True\n",
       "SAYCam CBOW 0    False\n",
       "Name: 23, dtype: bool"
      ]
     },
     "metadata": {},
     "output_type": "display_data"
    },
    {
     "name": "stdout",
     "output_type": "stream",
     "text": [
      "look at these soft arm .\n",
      "look at these soft arms .\n"
     ]
    },
    {
     "data": {
      "text/plain": [
       "SAYCam LSTM 0     True\n",
       "SAYCam 1-gram    False\n",
       "SAYCam 2-gram    False\n",
       "SAYCam CBOW 0     True\n",
       "Name: 24, dtype: bool"
      ]
     },
     "metadata": {},
     "output_type": "display_data"
    },
    {
     "name": "stdout",
     "output_type": "stream",
     "text": [
      "look at those soft arm .\n",
      "look at those soft arms .\n"
     ]
    },
    {
     "data": {
      "text/plain": [
       "SAYCam LSTM 0     True\n",
       "SAYCam 1-gram    False\n",
       "SAYCam 2-gram    False\n",
       "SAYCam CBOW 0     True\n",
       "Name: 28, dtype: bool"
      ]
     },
     "metadata": {},
     "output_type": "display_data"
    },
    {
     "name": "stdout",
     "output_type": "stream",
     "text": [
      "this full arms went there .\n",
      "this full arm went there .\n"
     ]
    },
    {
     "data": {
      "text/plain": [
       "SAYCam LSTM 0     True\n",
       "SAYCam 1-gram     True\n",
       "SAYCam 2-gram     True\n",
       "SAYCam CBOW 0    False\n",
       "Name: 113, dtype: bool"
      ]
     },
     "metadata": {},
     "output_type": "display_data"
    },
    {
     "name": "stdout",
     "output_type": "stream",
     "text": [
      "this full arms did not happen .\n",
      "this full arm did not happen .\n"
     ]
    },
    {
     "data": {
      "text/plain": [
       "SAYCam LSTM 0     True\n",
       "SAYCam 1-gram     True\n",
       "SAYCam 2-gram     True\n",
       "SAYCam CBOW 0    False\n",
       "Name: 114, dtype: bool"
      ]
     },
     "metadata": {},
     "output_type": "display_data"
    },
    {
     "name": "stdout",
     "output_type": "stream",
     "text": [
      "i saw this full arms .\n",
      "i saw this full arm .\n"
     ]
    },
    {
     "data": {
      "text/plain": [
       "SAYCam LSTM 0     True\n",
       "SAYCam 1-gram     True\n",
       "SAYCam 2-gram     True\n",
       "SAYCam CBOW 0    False\n",
       "Name: 115, dtype: bool"
      ]
     },
     "metadata": {},
     "output_type": "display_data"
    },
    {
     "name": "stdout",
     "output_type": "stream",
     "text": [
      "that full arms did not happen .\n",
      "that full arm did not happen .\n"
     ]
    },
    {
     "data": {
      "text/plain": [
       "SAYCam LSTM 0     True\n",
       "SAYCam 1-gram     True\n",
       "SAYCam 2-gram     True\n",
       "SAYCam CBOW 0    False\n",
       "Name: 118, dtype: bool"
      ]
     },
     "metadata": {},
     "output_type": "display_data"
    },
    {
     "name": "stdout",
     "output_type": "stream",
     "text": [
      "i saw that full arms .\n",
      "i saw that full arm .\n"
     ]
    },
    {
     "data": {
      "text/plain": [
       "SAYCam LSTM 0     True\n",
       "SAYCam 1-gram     True\n",
       "SAYCam 2-gram     True\n",
       "SAYCam CBOW 0    False\n",
       "Name: 119, dtype: bool"
      ]
     },
     "metadata": {},
     "output_type": "display_data"
    },
    {
     "name": "stdout",
     "output_type": "stream",
     "text": [
      "look at these full arm .\n",
      "look at these full arms .\n"
     ]
    },
    {
     "data": {
      "text/plain": [
       "SAYCam LSTM 0     True\n",
       "SAYCam 1-gram    False\n",
       "SAYCam 2-gram    False\n",
       "SAYCam CBOW 0     True\n",
       "Name: 120, dtype: bool"
      ]
     },
     "metadata": {},
     "output_type": "display_data"
    },
    {
     "name": "stdout",
     "output_type": "stream",
     "text": [
      "look at those full arm .\n",
      "look at those full arms .\n"
     ]
    },
    {
     "data": {
      "text/plain": [
       "SAYCam LSTM 0     True\n",
       "SAYCam 1-gram    False\n",
       "SAYCam 2-gram    False\n",
       "SAYCam CBOW 0     True\n",
       "Name: 124, dtype: bool"
      ]
     },
     "metadata": {},
     "output_type": "display_data"
    },
    {
     "name": "stdout",
     "output_type": "stream",
     "text": [
      "those full arm went there .\n",
      "those full arms went there .\n"
     ]
    },
    {
     "data": {
      "text/plain": [
       "SAYCam LSTM 0     True\n",
       "SAYCam 1-gram    False\n",
       "SAYCam 2-gram    False\n",
       "SAYCam CBOW 0    False\n",
       "Name: 125, dtype: bool"
      ]
     },
     "metadata": {},
     "output_type": "display_data"
    },
    {
     "name": "stdout",
     "output_type": "stream",
     "text": [
      "those full arm did not happen .\n",
      "those full arms did not happen .\n"
     ]
    },
    {
     "data": {
      "text/plain": [
       "SAYCam LSTM 0     True\n",
       "SAYCam 1-gram    False\n",
       "SAYCam 2-gram    False\n",
       "SAYCam CBOW 0     True\n",
       "Name: 126, dtype: bool"
      ]
     },
     "metadata": {},
     "output_type": "display_data"
    },
    {
     "name": "stdout",
     "output_type": "stream",
     "text": [
      "look at this nice toys .\n",
      "look at this nice toy .\n"
     ]
    },
    {
     "data": {
      "text/plain": [
       "SAYCam LSTM 0     True\n",
       "SAYCam 1-gram    False\n",
       "SAYCam 2-gram    False\n",
       "SAYCam CBOW 0    False\n",
       "Name: 144, dtype: bool"
      ]
     },
     "metadata": {},
     "output_type": "display_data"
    },
    {
     "name": "stdout",
     "output_type": "stream",
     "text": [
      "this nice toys went there .\n",
      "this nice toy went there .\n"
     ]
    },
    {
     "data": {
      "text/plain": [
       "SAYCam LSTM 0     True\n",
       "SAYCam 1-gram    False\n",
       "SAYCam 2-gram    False\n",
       "SAYCam CBOW 0    False\n",
       "Name: 145, dtype: bool"
      ]
     },
     "metadata": {},
     "output_type": "display_data"
    },
    {
     "name": "stdout",
     "output_type": "stream",
     "text": [
      "this nice toys did not happen .\n",
      "this nice toy did not happen .\n"
     ]
    },
    {
     "data": {
      "text/plain": [
       "SAYCam LSTM 0     True\n",
       "SAYCam 1-gram    False\n",
       "SAYCam 2-gram    False\n",
       "SAYCam CBOW 0    False\n",
       "Name: 146, dtype: bool"
      ]
     },
     "metadata": {},
     "output_type": "display_data"
    },
    {
     "name": "stdout",
     "output_type": "stream",
     "text": [
      "i saw this nice toys .\n",
      "i saw this nice toy .\n"
     ]
    },
    {
     "data": {
      "text/plain": [
       "SAYCam LSTM 0     True\n",
       "SAYCam 1-gram    False\n",
       "SAYCam 2-gram    False\n",
       "SAYCam CBOW 0    False\n",
       "Name: 147, dtype: bool"
      ]
     },
     "metadata": {},
     "output_type": "display_data"
    },
    {
     "name": "stdout",
     "output_type": "stream",
     "text": [
      "look at that nice toys .\n",
      "look at that nice toy .\n"
     ]
    },
    {
     "data": {
      "text/plain": [
       "SAYCam LSTM 0     True\n",
       "SAYCam 1-gram    False\n",
       "SAYCam 2-gram    False\n",
       "SAYCam CBOW 0    False\n",
       "Name: 148, dtype: bool"
      ]
     },
     "metadata": {},
     "output_type": "display_data"
    },
    {
     "name": "stdout",
     "output_type": "stream",
     "text": [
      "that nice toys went there .\n",
      "that nice toy went there .\n"
     ]
    },
    {
     "data": {
      "text/plain": [
       "SAYCam LSTM 0     True\n",
       "SAYCam 1-gram    False\n",
       "SAYCam 2-gram    False\n",
       "SAYCam CBOW 0    False\n",
       "Name: 149, dtype: bool"
      ]
     },
     "metadata": {},
     "output_type": "display_data"
    },
    {
     "name": "stdout",
     "output_type": "stream",
     "text": [
      "that nice toys did not happen .\n",
      "that nice toy did not happen .\n"
     ]
    },
    {
     "data": {
      "text/plain": [
       "SAYCam LSTM 0     True\n",
       "SAYCam 1-gram    False\n",
       "SAYCam 2-gram    False\n",
       "SAYCam CBOW 0    False\n",
       "Name: 150, dtype: bool"
      ]
     },
     "metadata": {},
     "output_type": "display_data"
    },
    {
     "name": "stdout",
     "output_type": "stream",
     "text": [
      "i saw that nice toys .\n",
      "i saw that nice toy .\n"
     ]
    },
    {
     "data": {
      "text/plain": [
       "SAYCam LSTM 0     True\n",
       "SAYCam 1-gram    False\n",
       "SAYCam 2-gram    False\n",
       "SAYCam CBOW 0    False\n",
       "Name: 151, dtype: bool"
      ]
     },
     "metadata": {},
     "output_type": "display_data"
    },
    {
     "name": "stdout",
     "output_type": "stream",
     "text": [
      "look at these nice toy .\n",
      "look at these nice toys .\n"
     ]
    },
    {
     "data": {
      "text/plain": [
       "SAYCam LSTM 0     True\n",
       "SAYCam 1-gram     True\n",
       "SAYCam 2-gram     True\n",
       "SAYCam CBOW 0    False\n",
       "Name: 152, dtype: bool"
      ]
     },
     "metadata": {},
     "output_type": "display_data"
    },
    {
     "name": "stdout",
     "output_type": "stream",
     "text": [
      "i saw these nice toy .\n",
      "i saw these nice toys .\n"
     ]
    },
    {
     "data": {
      "text/plain": [
       "SAYCam LSTM 0     True\n",
       "SAYCam 1-gram     True\n",
       "SAYCam 2-gram     True\n",
       "SAYCam CBOW 0    False\n",
       "Name: 155, dtype: bool"
      ]
     },
     "metadata": {},
     "output_type": "display_data"
    },
    {
     "name": "stdout",
     "output_type": "stream",
     "text": [
      "look at this extra days .\n",
      "look at this extra day .\n"
     ]
    },
    {
     "data": {
      "text/plain": [
       "SAYCam LSTM 0     True\n",
       "SAYCam 1-gram     True\n",
       "SAYCam 2-gram     True\n",
       "SAYCam CBOW 0    False\n",
       "Name: 192, dtype: bool"
      ]
     },
     "metadata": {},
     "output_type": "display_data"
    },
    {
     "name": "stdout",
     "output_type": "stream",
     "text": [
      "this extra days went there .\n",
      "this extra day went there .\n"
     ]
    },
    {
     "data": {
      "text/plain": [
       "SAYCam LSTM 0     True\n",
       "SAYCam 1-gram     True\n",
       "SAYCam 2-gram     True\n",
       "SAYCam CBOW 0    False\n",
       "Name: 193, dtype: bool"
      ]
     },
     "metadata": {},
     "output_type": "display_data"
    },
    {
     "name": "stdout",
     "output_type": "stream",
     "text": [
      "i saw this extra days .\n",
      "i saw this extra day .\n"
     ]
    },
    {
     "data": {
      "text/plain": [
       "SAYCam LSTM 0     True\n",
       "SAYCam 1-gram     True\n",
       "SAYCam 2-gram     True\n",
       "SAYCam CBOW 0    False\n",
       "Name: 195, dtype: bool"
      ]
     },
     "metadata": {},
     "output_type": "display_data"
    },
    {
     "name": "stdout",
     "output_type": "stream",
     "text": [
      "look at that extra days .\n",
      "look at that extra day .\n"
     ]
    },
    {
     "data": {
      "text/plain": [
       "SAYCam LSTM 0     True\n",
       "SAYCam 1-gram     True\n",
       "SAYCam 2-gram     True\n",
       "SAYCam CBOW 0    False\n",
       "Name: 196, dtype: bool"
      ]
     },
     "metadata": {},
     "output_type": "display_data"
    },
    {
     "name": "stdout",
     "output_type": "stream",
     "text": [
      "that extra days went there .\n",
      "that extra day went there .\n"
     ]
    },
    {
     "data": {
      "text/plain": [
       "SAYCam LSTM 0     True\n",
       "SAYCam 1-gram     True\n",
       "SAYCam 2-gram     True\n",
       "SAYCam CBOW 0    False\n",
       "Name: 197, dtype: bool"
      ]
     },
     "metadata": {},
     "output_type": "display_data"
    },
    {
     "name": "stdout",
     "output_type": "stream",
     "text": [
      "i saw that extra days .\n",
      "i saw that extra day .\n"
     ]
    },
    {
     "data": {
      "text/plain": [
       "SAYCam LSTM 0     True\n",
       "SAYCam 1-gram     True\n",
       "SAYCam 2-gram     True\n",
       "SAYCam CBOW 0    False\n",
       "Name: 199, dtype: bool"
      ]
     },
     "metadata": {},
     "output_type": "display_data"
    },
    {
     "name": "stdout",
     "output_type": "stream",
     "text": [
      "look at these extra day .\n",
      "look at these extra days .\n"
     ]
    },
    {
     "data": {
      "text/plain": [
       "SAYCam LSTM 0     True\n",
       "SAYCam 1-gram    False\n",
       "SAYCam 2-gram    False\n",
       "SAYCam CBOW 0     True\n",
       "Name: 200, dtype: bool"
      ]
     },
     "metadata": {},
     "output_type": "display_data"
    },
    {
     "name": "stdout",
     "output_type": "stream",
     "text": [
      "i saw these extra day .\n",
      "i saw these extra days .\n"
     ]
    },
    {
     "data": {
      "text/plain": [
       "SAYCam LSTM 0     True\n",
       "SAYCam 1-gram    False\n",
       "SAYCam 2-gram    False\n",
       "SAYCam CBOW 0     True\n",
       "Name: 203, dtype: bool"
      ]
     },
     "metadata": {},
     "output_type": "display_data"
    },
    {
     "name": "stdout",
     "output_type": "stream",
     "text": [
      "look at those extra day .\n",
      "look at those extra days .\n"
     ]
    },
    {
     "data": {
      "text/plain": [
       "SAYCam LSTM 0     True\n",
       "SAYCam 1-gram    False\n",
       "SAYCam 2-gram    False\n",
       "SAYCam CBOW 0     True\n",
       "Name: 204, dtype: bool"
      ]
     },
     "metadata": {},
     "output_type": "display_data"
    },
    {
     "name": "stdout",
     "output_type": "stream",
     "text": [
      "i saw those extra day .\n",
      "i saw those extra days .\n"
     ]
    },
    {
     "data": {
      "text/plain": [
       "SAYCam LSTM 0     True\n",
       "SAYCam 1-gram    False\n",
       "SAYCam 2-gram    False\n",
       "SAYCam CBOW 0     True\n",
       "Name: 207, dtype: bool"
      ]
     },
     "metadata": {},
     "output_type": "display_data"
    },
    {
     "name": "stdout",
     "output_type": "stream",
     "text": [
      "these silly guy went there .\n",
      "these silly guys went there .\n"
     ]
    },
    {
     "data": {
      "text/plain": [
       "SAYCam LSTM 0     True\n",
       "SAYCam 1-gram    False\n",
       "SAYCam 2-gram    False\n",
       "SAYCam CBOW 0     True\n",
       "Name: 249, dtype: bool"
      ]
     },
     "metadata": {},
     "output_type": "display_data"
    },
    {
     "name": "stdout",
     "output_type": "stream",
     "text": [
      "these silly guy did not happen .\n",
      "these silly guys did not happen .\n"
     ]
    },
    {
     "data": {
      "text/plain": [
       "SAYCam LSTM 0     True\n",
       "SAYCam 1-gram    False\n",
       "SAYCam 2-gram    False\n",
       "SAYCam CBOW 0     True\n",
       "Name: 250, dtype: bool"
      ]
     },
     "metadata": {},
     "output_type": "display_data"
    },
    {
     "name": "stdout",
     "output_type": "stream",
     "text": [
      "those silly guy went there .\n",
      "those silly guys went there .\n"
     ]
    },
    {
     "data": {
      "text/plain": [
       "SAYCam LSTM 0     True\n",
       "SAYCam 1-gram    False\n",
       "SAYCam 2-gram    False\n",
       "SAYCam CBOW 0     True\n",
       "Name: 253, dtype: bool"
      ]
     },
     "metadata": {},
     "output_type": "display_data"
    },
    {
     "name": "stdout",
     "output_type": "stream",
     "text": [
      "those silly guy did not happen .\n",
      "those silly guys did not happen .\n"
     ]
    },
    {
     "data": {
      "text/plain": [
       "SAYCam LSTM 0     True\n",
       "SAYCam 1-gram    False\n",
       "SAYCam 2-gram    False\n",
       "SAYCam CBOW 0     True\n",
       "Name: 254, dtype: bool"
      ]
     },
     "metadata": {},
     "output_type": "display_data"
    },
    {
     "name": "stdout",
     "output_type": "stream",
     "text": [
      "that good fingers did not happen .\n",
      "that good finger did not happen .\n"
     ]
    },
    {
     "data": {
      "text/plain": [
       "SAYCam LSTM 0     True\n",
       "SAYCam 1-gram    False\n",
       "SAYCam 2-gram    False\n",
       "SAYCam CBOW 0    False\n",
       "Name: 310, dtype: bool"
      ]
     },
     "metadata": {},
     "output_type": "display_data"
    },
    {
     "name": "stdout",
     "output_type": "stream",
     "text": [
      "look at this hard minutes .\n",
      "look at this hard minute .\n"
     ]
    },
    {
     "data": {
      "text/plain": [
       "SAYCam LSTM 0     True\n",
       "SAYCam 1-gram    False\n",
       "SAYCam 2-gram    False\n",
       "SAYCam CBOW 0    False\n",
       "Name: 320, dtype: bool"
      ]
     },
     "metadata": {},
     "output_type": "display_data"
    },
    {
     "name": "stdout",
     "output_type": "stream",
     "text": [
      "this hard minutes went there .\n",
      "this hard minute went there .\n"
     ]
    },
    {
     "data": {
      "text/plain": [
       "SAYCam LSTM 0     True\n",
       "SAYCam 1-gram    False\n",
       "SAYCam 2-gram    False\n",
       "SAYCam CBOW 0     True\n",
       "Name: 321, dtype: bool"
      ]
     },
     "metadata": {},
     "output_type": "display_data"
    },
    {
     "name": "stdout",
     "output_type": "stream",
     "text": [
      "this hard minutes did not happen .\n",
      "this hard minute did not happen .\n"
     ]
    },
    {
     "data": {
      "text/plain": [
       "SAYCam LSTM 0     True\n",
       "SAYCam 1-gram    False\n",
       "SAYCam 2-gram    False\n",
       "SAYCam CBOW 0    False\n",
       "Name: 322, dtype: bool"
      ]
     },
     "metadata": {},
     "output_type": "display_data"
    },
    {
     "name": "stdout",
     "output_type": "stream",
     "text": [
      "i saw this hard minutes .\n",
      "i saw this hard minute .\n"
     ]
    },
    {
     "data": {
      "text/plain": [
       "SAYCam LSTM 0     True\n",
       "SAYCam 1-gram    False\n",
       "SAYCam 2-gram    False\n",
       "SAYCam CBOW 0    False\n",
       "Name: 323, dtype: bool"
      ]
     },
     "metadata": {},
     "output_type": "display_data"
    },
    {
     "name": "stdout",
     "output_type": "stream",
     "text": [
      "look at that hard minutes .\n",
      "look at that hard minute .\n"
     ]
    },
    {
     "data": {
      "text/plain": [
       "SAYCam LSTM 0     True\n",
       "SAYCam 1-gram    False\n",
       "SAYCam 2-gram    False\n",
       "SAYCam CBOW 0    False\n",
       "Name: 324, dtype: bool"
      ]
     },
     "metadata": {},
     "output_type": "display_data"
    },
    {
     "name": "stdout",
     "output_type": "stream",
     "text": [
      "that hard minutes went there .\n",
      "that hard minute went there .\n"
     ]
    },
    {
     "data": {
      "text/plain": [
       "SAYCam LSTM 0     True\n",
       "SAYCam 1-gram    False\n",
       "SAYCam 2-gram    False\n",
       "SAYCam CBOW 0     True\n",
       "Name: 325, dtype: bool"
      ]
     },
     "metadata": {},
     "output_type": "display_data"
    },
    {
     "name": "stdout",
     "output_type": "stream",
     "text": [
      "that hard minutes did not happen .\n",
      "that hard minute did not happen .\n"
     ]
    },
    {
     "data": {
      "text/plain": [
       "SAYCam LSTM 0     True\n",
       "SAYCam 1-gram    False\n",
       "SAYCam 2-gram    False\n",
       "SAYCam CBOW 0    False\n",
       "Name: 326, dtype: bool"
      ]
     },
     "metadata": {},
     "output_type": "display_data"
    },
    {
     "name": "stdout",
     "output_type": "stream",
     "text": [
      "i saw that hard minutes .\n",
      "i saw that hard minute .\n"
     ]
    },
    {
     "data": {
      "text/plain": [
       "SAYCam LSTM 0     True\n",
       "SAYCam 1-gram    False\n",
       "SAYCam 2-gram    False\n",
       "SAYCam CBOW 0    False\n",
       "Name: 327, dtype: bool"
      ]
     },
     "metadata": {},
     "output_type": "display_data"
    },
    {
     "name": "stdout",
     "output_type": "stream",
     "text": [
      "these hard minute went there .\n",
      "these hard minutes went there .\n"
     ]
    },
    {
     "data": {
      "text/plain": [
       "SAYCam LSTM 0     True\n",
       "SAYCam 1-gram     True\n",
       "SAYCam 2-gram     True\n",
       "SAYCam CBOW 0    False\n",
       "Name: 329, dtype: bool"
      ]
     },
     "metadata": {},
     "output_type": "display_data"
    },
    {
     "name": "stdout",
     "output_type": "stream",
     "text": [
      "those hard minute went there .\n",
      "those hard minutes went there .\n"
     ]
    },
    {
     "data": {
      "text/plain": [
       "SAYCam LSTM 0     True\n",
       "SAYCam 1-gram     True\n",
       "SAYCam 2-gram     True\n",
       "SAYCam CBOW 0    False\n",
       "Name: 333, dtype: bool"
      ]
     },
     "metadata": {},
     "output_type": "display_data"
    },
    {
     "name": "stdout",
     "output_type": "stream",
     "text": [
      "look at this early feet .\n",
      "look at this early foot .\n"
     ]
    },
    {
     "data": {
      "text/plain": [
       "SAYCam LSTM 0     True\n",
       "SAYCam 1-gram     True\n",
       "SAYCam 2-gram     True\n",
       "SAYCam CBOW 0    False\n",
       "Name: 368, dtype: bool"
      ]
     },
     "metadata": {},
     "output_type": "display_data"
    },
    {
     "name": "stdout",
     "output_type": "stream",
     "text": [
      "this early feet did not happen .\n",
      "this early foot did not happen .\n"
     ]
    },
    {
     "data": {
      "text/plain": [
       "SAYCam LSTM 0     True\n",
       "SAYCam 1-gram     True\n",
       "SAYCam 2-gram     True\n",
       "SAYCam CBOW 0    False\n",
       "Name: 370, dtype: bool"
      ]
     },
     "metadata": {},
     "output_type": "display_data"
    },
    {
     "name": "stdout",
     "output_type": "stream",
     "text": [
      "i saw this early feet .\n",
      "i saw this early foot .\n"
     ]
    },
    {
     "data": {
      "text/plain": [
       "SAYCam LSTM 0     True\n",
       "SAYCam 1-gram     True\n",
       "SAYCam 2-gram     True\n",
       "SAYCam CBOW 0    False\n",
       "Name: 371, dtype: bool"
      ]
     },
     "metadata": {},
     "output_type": "display_data"
    },
    {
     "name": "stdout",
     "output_type": "stream",
     "text": [
      "look at that early feet .\n",
      "look at that early foot .\n"
     ]
    },
    {
     "data": {
      "text/plain": [
       "SAYCam LSTM 0     True\n",
       "SAYCam 1-gram     True\n",
       "SAYCam 2-gram     True\n",
       "SAYCam CBOW 0    False\n",
       "Name: 372, dtype: bool"
      ]
     },
     "metadata": {},
     "output_type": "display_data"
    },
    {
     "name": "stdout",
     "output_type": "stream",
     "text": [
      "that early feet did not happen .\n",
      "that early foot did not happen .\n"
     ]
    },
    {
     "data": {
      "text/plain": [
       "SAYCam LSTM 0     True\n",
       "SAYCam 1-gram     True\n",
       "SAYCam 2-gram     True\n",
       "SAYCam CBOW 0    False\n",
       "Name: 374, dtype: bool"
      ]
     },
     "metadata": {},
     "output_type": "display_data"
    },
    {
     "name": "stdout",
     "output_type": "stream",
     "text": [
      "i saw that early feet .\n",
      "i saw that early foot .\n"
     ]
    },
    {
     "data": {
      "text/plain": [
       "SAYCam LSTM 0     True\n",
       "SAYCam 1-gram     True\n",
       "SAYCam 2-gram     True\n",
       "SAYCam CBOW 0    False\n",
       "Name: 375, dtype: bool"
      ]
     },
     "metadata": {},
     "output_type": "display_data"
    },
    {
     "name": "stdout",
     "output_type": "stream",
     "text": [
      "look at these early foot .\n",
      "look at these early feet .\n"
     ]
    },
    {
     "data": {
      "text/plain": [
       "SAYCam LSTM 0     True\n",
       "SAYCam 1-gram    False\n",
       "SAYCam 2-gram    False\n",
       "SAYCam CBOW 0    False\n",
       "Name: 376, dtype: bool"
      ]
     },
     "metadata": {},
     "output_type": "display_data"
    },
    {
     "name": "stdout",
     "output_type": "stream",
     "text": [
      "i saw these early foot .\n",
      "i saw these early feet .\n"
     ]
    },
    {
     "data": {
      "text/plain": [
       "SAYCam LSTM 0     True\n",
       "SAYCam 1-gram    False\n",
       "SAYCam 2-gram    False\n",
       "SAYCam CBOW 0    False\n",
       "Name: 379, dtype: bool"
      ]
     },
     "metadata": {},
     "output_type": "display_data"
    },
    {
     "name": "stdout",
     "output_type": "stream",
     "text": [
      "look at those early foot .\n",
      "look at those early feet .\n"
     ]
    },
    {
     "data": {
      "text/plain": [
       "SAYCam LSTM 0     True\n",
       "SAYCam 1-gram    False\n",
       "SAYCam 2-gram    False\n",
       "SAYCam CBOW 0    False\n",
       "Name: 380, dtype: bool"
      ]
     },
     "metadata": {},
     "output_type": "display_data"
    },
    {
     "name": "stdout",
     "output_type": "stream",
     "text": [
      "those early foot went there .\n",
      "those early feet went there .\n"
     ]
    },
    {
     "data": {
      "text/plain": [
       "SAYCam LSTM 0     True\n",
       "SAYCam 1-gram    False\n",
       "SAYCam 2-gram    False\n",
       "SAYCam CBOW 0    False\n",
       "Name: 381, dtype: bool"
      ]
     },
     "metadata": {},
     "output_type": "display_data"
    },
    {
     "name": "stdout",
     "output_type": "stream",
     "text": [
      "those early foot did not happen .\n",
      "those early feet did not happen .\n"
     ]
    },
    {
     "data": {
      "text/plain": [
       "SAYCam LSTM 0     True\n",
       "SAYCam 1-gram    False\n",
       "SAYCam 2-gram    False\n",
       "SAYCam CBOW 0     True\n",
       "Name: 382, dtype: bool"
      ]
     },
     "metadata": {},
     "output_type": "display_data"
    },
    {
     "name": "stdout",
     "output_type": "stream",
     "text": [
      "i saw those early foot .\n",
      "i saw those early feet .\n"
     ]
    },
    {
     "data": {
      "text/plain": [
       "SAYCam LSTM 0     True\n",
       "SAYCam 1-gram    False\n",
       "SAYCam 2-gram    False\n",
       "SAYCam CBOW 0    False\n",
       "Name: 383, dtype: bool"
      ]
     },
     "metadata": {},
     "output_type": "display_data"
    },
    {
     "name": "stdout",
     "output_type": "stream",
     "text": [
      "look at these red whale .\n",
      "look at these red whales .\n"
     ]
    },
    {
     "data": {
      "text/plain": [
       "SAYCam LSTM 0     True\n",
       "SAYCam 1-gram    False\n",
       "SAYCam 2-gram    False\n",
       "SAYCam CBOW 0    False\n",
       "Name: 392, dtype: bool"
      ]
     },
     "metadata": {},
     "output_type": "display_data"
    },
    {
     "name": "stdout",
     "output_type": "stream",
     "text": [
      "these red whale went there .\n",
      "these red whales went there .\n"
     ]
    },
    {
     "data": {
      "text/plain": [
       "SAYCam LSTM 0     True\n",
       "SAYCam 1-gram    False\n",
       "SAYCam 2-gram    False\n",
       "SAYCam CBOW 0    False\n",
       "Name: 393, dtype: bool"
      ]
     },
     "metadata": {},
     "output_type": "display_data"
    },
    {
     "name": "stdout",
     "output_type": "stream",
     "text": [
      "i saw these red whale .\n",
      "i saw these red whales .\n"
     ]
    },
    {
     "data": {
      "text/plain": [
       "SAYCam LSTM 0     True\n",
       "SAYCam 1-gram    False\n",
       "SAYCam 2-gram    False\n",
       "SAYCam CBOW 0    False\n",
       "Name: 395, dtype: bool"
      ]
     },
     "metadata": {},
     "output_type": "display_data"
    },
    {
     "name": "stdout",
     "output_type": "stream",
     "text": [
      "look at those red whale .\n",
      "look at those red whales .\n"
     ]
    },
    {
     "data": {
      "text/plain": [
       "SAYCam LSTM 0     True\n",
       "SAYCam 1-gram    False\n",
       "SAYCam 2-gram    False\n",
       "SAYCam CBOW 0    False\n",
       "Name: 396, dtype: bool"
      ]
     },
     "metadata": {},
     "output_type": "display_data"
    },
    {
     "name": "stdout",
     "output_type": "stream",
     "text": [
      "those red whale went there .\n",
      "those red whales went there .\n"
     ]
    },
    {
     "data": {
      "text/plain": [
       "SAYCam LSTM 0     True\n",
       "SAYCam 1-gram    False\n",
       "SAYCam 2-gram    False\n",
       "SAYCam CBOW 0    False\n",
       "Name: 397, dtype: bool"
      ]
     },
     "metadata": {},
     "output_type": "display_data"
    },
    {
     "name": "stdout",
     "output_type": "stream",
     "text": [
      "those red whale did not happen .\n",
      "those red whales did not happen .\n"
     ]
    },
    {
     "data": {
      "text/plain": [
       "SAYCam LSTM 0     True\n",
       "SAYCam 1-gram    False\n",
       "SAYCam 2-gram    False\n",
       "SAYCam CBOW 0    False\n",
       "Name: 398, dtype: bool"
      ]
     },
     "metadata": {},
     "output_type": "display_data"
    },
    {
     "name": "stdout",
     "output_type": "stream",
     "text": [
      "i saw those red whale .\n",
      "i saw those red whales .\n"
     ]
    },
    {
     "data": {
      "text/plain": [
       "SAYCam LSTM 0     True\n",
       "SAYCam 1-gram    False\n",
       "SAYCam 2-gram    False\n",
       "SAYCam CBOW 0    False\n",
       "Name: 399, dtype: bool"
      ]
     },
     "metadata": {},
     "output_type": "display_data"
    },
    {
     "name": "stdout",
     "output_type": "stream",
     "text": [
      "look at this bad rings .\n",
      "look at this bad ring .\n"
     ]
    },
    {
     "data": {
      "text/plain": [
       "SAYCam LSTM 0     True\n",
       "SAYCam 1-gram     True\n",
       "SAYCam 2-gram    False\n",
       "SAYCam CBOW 0    False\n",
       "Name: 400, dtype: bool"
      ]
     },
     "metadata": {},
     "output_type": "display_data"
    },
    {
     "name": "stdout",
     "output_type": "stream",
     "text": [
      "this bad rings did not happen .\n",
      "this bad ring did not happen .\n"
     ]
    },
    {
     "data": {
      "text/plain": [
       "SAYCam LSTM 0     True\n",
       "SAYCam 1-gram     True\n",
       "SAYCam 2-gram     True\n",
       "SAYCam CBOW 0    False\n",
       "Name: 402, dtype: bool"
      ]
     },
     "metadata": {},
     "output_type": "display_data"
    },
    {
     "name": "stdout",
     "output_type": "stream",
     "text": [
      "i saw this bad rings .\n",
      "i saw this bad ring .\n"
     ]
    },
    {
     "data": {
      "text/plain": [
       "SAYCam LSTM 0     True\n",
       "SAYCam 1-gram     True\n",
       "SAYCam 2-gram    False\n",
       "SAYCam CBOW 0    False\n",
       "Name: 403, dtype: bool"
      ]
     },
     "metadata": {},
     "output_type": "display_data"
    },
    {
     "name": "stdout",
     "output_type": "stream",
     "text": [
      "look at that bad rings .\n",
      "look at that bad ring .\n"
     ]
    },
    {
     "data": {
      "text/plain": [
       "SAYCam LSTM 0     True\n",
       "SAYCam 1-gram     True\n",
       "SAYCam 2-gram    False\n",
       "SAYCam CBOW 0    False\n",
       "Name: 404, dtype: bool"
      ]
     },
     "metadata": {},
     "output_type": "display_data"
    },
    {
     "name": "stdout",
     "output_type": "stream",
     "text": [
      "that bad rings did not happen .\n",
      "that bad ring did not happen .\n"
     ]
    },
    {
     "data": {
      "text/plain": [
       "SAYCam LSTM 0     True\n",
       "SAYCam 1-gram     True\n",
       "SAYCam 2-gram     True\n",
       "SAYCam CBOW 0    False\n",
       "Name: 406, dtype: bool"
      ]
     },
     "metadata": {},
     "output_type": "display_data"
    },
    {
     "name": "stdout",
     "output_type": "stream",
     "text": [
      "i saw that bad rings .\n",
      "i saw that bad ring .\n"
     ]
    },
    {
     "data": {
      "text/plain": [
       "SAYCam LSTM 0     True\n",
       "SAYCam 1-gram     True\n",
       "SAYCam 2-gram    False\n",
       "SAYCam CBOW 0    False\n",
       "Name: 407, dtype: bool"
      ]
     },
     "metadata": {},
     "output_type": "display_data"
    },
    {
     "name": "stdout",
     "output_type": "stream",
     "text": [
      "look at these bad ring .\n",
      "look at these bad rings .\n"
     ]
    },
    {
     "data": {
      "text/plain": [
       "SAYCam LSTM 0     True\n",
       "SAYCam 1-gram    False\n",
       "SAYCam 2-gram     True\n",
       "SAYCam CBOW 0    False\n",
       "Name: 408, dtype: bool"
      ]
     },
     "metadata": {},
     "output_type": "display_data"
    },
    {
     "name": "stdout",
     "output_type": "stream",
     "text": [
      "these bad ring went there .\n",
      "these bad rings went there .\n"
     ]
    },
    {
     "data": {
      "text/plain": [
       "SAYCam LSTM 0     True\n",
       "SAYCam 1-gram    False\n",
       "SAYCam 2-gram    False\n",
       "SAYCam CBOW 0    False\n",
       "Name: 409, dtype: bool"
      ]
     },
     "metadata": {},
     "output_type": "display_data"
    },
    {
     "name": "stdout",
     "output_type": "stream",
     "text": [
      "look at those bad ring .\n",
      "look at those bad rings .\n"
     ]
    },
    {
     "data": {
      "text/plain": [
       "SAYCam LSTM 0     True\n",
       "SAYCam 1-gram    False\n",
       "SAYCam 2-gram     True\n",
       "SAYCam CBOW 0    False\n",
       "Name: 412, dtype: bool"
      ]
     },
     "metadata": {},
     "output_type": "display_data"
    },
    {
     "name": "stdout",
     "output_type": "stream",
     "text": [
      "those bad ring went there .\n",
      "those bad rings went there .\n"
     ]
    },
    {
     "data": {
      "text/plain": [
       "SAYCam LSTM 0     True\n",
       "SAYCam 1-gram    False\n",
       "SAYCam 2-gram    False\n",
       "SAYCam CBOW 0    False\n",
       "Name: 413, dtype: bool"
      ]
     },
     "metadata": {},
     "output_type": "display_data"
    },
    {
     "name": "stdout",
     "output_type": "stream",
     "text": [
      "those bad ring did not happen .\n",
      "those bad rings did not happen .\n"
     ]
    },
    {
     "data": {
      "text/plain": [
       "SAYCam LSTM 0     True\n",
       "SAYCam 1-gram    False\n",
       "SAYCam 2-gram    False\n",
       "SAYCam CBOW 0    False\n",
       "Name: 414, dtype: bool"
      ]
     },
     "metadata": {},
     "output_type": "display_data"
    },
    {
     "name": "stdout",
     "output_type": "stream",
     "text": [
      "that ready books went there .\n",
      "that ready book went there .\n"
     ]
    },
    {
     "data": {
      "text/plain": [
       "SAYCam LSTM 0     True\n",
       "SAYCam 1-gram     True\n",
       "SAYCam 2-gram     True\n",
       "SAYCam CBOW 0    False\n",
       "Name: 485, dtype: bool"
      ]
     },
     "metadata": {},
     "output_type": "display_data"
    },
    {
     "name": "stdout",
     "output_type": "stream",
     "text": [
      "these ready book went there .\n",
      "these ready books went there .\n"
     ]
    },
    {
     "data": {
      "text/plain": [
       "SAYCam LSTM 0     True\n",
       "SAYCam 1-gram    False\n",
       "SAYCam 2-gram    False\n",
       "SAYCam CBOW 0    False\n",
       "Name: 489, dtype: bool"
      ]
     },
     "metadata": {},
     "output_type": "display_data"
    },
    {
     "name": "stdout",
     "output_type": "stream",
     "text": [
      "i saw these ready book .\n",
      "i saw these ready books .\n"
     ]
    },
    {
     "data": {
      "text/plain": [
       "SAYCam LSTM 0     True\n",
       "SAYCam 1-gram    False\n",
       "SAYCam 2-gram    False\n",
       "SAYCam CBOW 0    False\n",
       "Name: 491, dtype: bool"
      ]
     },
     "metadata": {},
     "output_type": "display_data"
    },
    {
     "name": "stdout",
     "output_type": "stream",
     "text": [
      "look at those ready book .\n",
      "look at those ready books .\n"
     ]
    },
    {
     "data": {
      "text/plain": [
       "SAYCam LSTM 0     True\n",
       "SAYCam 1-gram    False\n",
       "SAYCam 2-gram    False\n",
       "SAYCam CBOW 0    False\n",
       "Name: 492, dtype: bool"
      ]
     },
     "metadata": {},
     "output_type": "display_data"
    },
    {
     "name": "stdout",
     "output_type": "stream",
     "text": [
      "those ready book went there .\n",
      "those ready books went there .\n"
     ]
    },
    {
     "data": {
      "text/plain": [
       "SAYCam LSTM 0     True\n",
       "SAYCam 1-gram    False\n",
       "SAYCam 2-gram    False\n",
       "SAYCam CBOW 0    False\n",
       "Name: 493, dtype: bool"
      ]
     },
     "metadata": {},
     "output_type": "display_data"
    },
    {
     "name": "stdout",
     "output_type": "stream",
     "text": [
      "i saw those ready book .\n",
      "i saw those ready books .\n"
     ]
    },
    {
     "data": {
      "text/plain": [
       "SAYCam LSTM 0     True\n",
       "SAYCam 1-gram    False\n",
       "SAYCam 2-gram    False\n",
       "SAYCam CBOW 0    False\n",
       "Name: 495, dtype: bool"
      ]
     },
     "metadata": {},
     "output_type": "display_data"
    },
    {
     "name": "stdout",
     "output_type": "stream",
     "text": [
      "look at this bad pictures .\n",
      "look at this bad picture .\n"
     ]
    },
    {
     "data": {
      "text/plain": [
       "SAYCam LSTM 0     True\n",
       "SAYCam 1-gram     True\n",
       "SAYCam 2-gram    False\n",
       "SAYCam CBOW 0    False\n",
       "Name: 608, dtype: bool"
      ]
     },
     "metadata": {},
     "output_type": "display_data"
    },
    {
     "name": "stdout",
     "output_type": "stream",
     "text": [
      "look at these bad picture .\n",
      "look at these bad pictures .\n"
     ]
    },
    {
     "data": {
      "text/plain": [
       "SAYCam LSTM 0     True\n",
       "SAYCam 1-gram    False\n",
       "SAYCam 2-gram     True\n",
       "SAYCam CBOW 0     True\n",
       "Name: 616, dtype: bool"
      ]
     },
     "metadata": {},
     "output_type": "display_data"
    },
    {
     "name": "stdout",
     "output_type": "stream",
     "text": [
      "these bad picture went there .\n",
      "these bad pictures went there .\n"
     ]
    },
    {
     "data": {
      "text/plain": [
       "SAYCam LSTM 0     True\n",
       "SAYCam 1-gram    False\n",
       "SAYCam 2-gram    False\n",
       "SAYCam CBOW 0     True\n",
       "Name: 617, dtype: bool"
      ]
     },
     "metadata": {},
     "output_type": "display_data"
    },
    {
     "name": "stdout",
     "output_type": "stream",
     "text": [
      "these bad picture did not happen .\n",
      "these bad pictures did not happen .\n"
     ]
    },
    {
     "data": {
      "text/plain": [
       "SAYCam LSTM 0     True\n",
       "SAYCam 1-gram    False\n",
       "SAYCam 2-gram    False\n",
       "SAYCam CBOW 0     True\n",
       "Name: 618, dtype: bool"
      ]
     },
     "metadata": {},
     "output_type": "display_data"
    },
    {
     "name": "stdout",
     "output_type": "stream",
     "text": [
      "i saw these bad picture .\n",
      "i saw these bad pictures .\n"
     ]
    },
    {
     "data": {
      "text/plain": [
       "SAYCam LSTM 0     True\n",
       "SAYCam 1-gram    False\n",
       "SAYCam 2-gram     True\n",
       "SAYCam CBOW 0     True\n",
       "Name: 619, dtype: bool"
      ]
     },
     "metadata": {},
     "output_type": "display_data"
    },
    {
     "name": "stdout",
     "output_type": "stream",
     "text": [
      "look at those bad picture .\n",
      "look at those bad pictures .\n"
     ]
    },
    {
     "data": {
      "text/plain": [
       "SAYCam LSTM 0     True\n",
       "SAYCam 1-gram    False\n",
       "SAYCam 2-gram     True\n",
       "SAYCam CBOW 0     True\n",
       "Name: 620, dtype: bool"
      ]
     },
     "metadata": {},
     "output_type": "display_data"
    },
    {
     "name": "stdout",
     "output_type": "stream",
     "text": [
      "those bad picture went there .\n",
      "those bad pictures went there .\n"
     ]
    },
    {
     "data": {
      "text/plain": [
       "SAYCam LSTM 0     True\n",
       "SAYCam 1-gram    False\n",
       "SAYCam 2-gram    False\n",
       "SAYCam CBOW 0     True\n",
       "Name: 621, dtype: bool"
      ]
     },
     "metadata": {},
     "output_type": "display_data"
    },
    {
     "name": "stdout",
     "output_type": "stream",
     "text": [
      "those bad picture did not happen .\n",
      "those bad pictures did not happen .\n"
     ]
    },
    {
     "data": {
      "text/plain": [
       "SAYCam LSTM 0     True\n",
       "SAYCam 1-gram    False\n",
       "SAYCam 2-gram    False\n",
       "SAYCam CBOW 0     True\n",
       "Name: 622, dtype: bool"
      ]
     },
     "metadata": {},
     "output_type": "display_data"
    },
    {
     "name": "stdout",
     "output_type": "stream",
     "text": [
      "i saw those bad picture .\n",
      "i saw those bad pictures .\n"
     ]
    },
    {
     "data": {
      "text/plain": [
       "SAYCam LSTM 0     True\n",
       "SAYCam 1-gram    False\n",
       "SAYCam 2-gram     True\n",
       "SAYCam CBOW 0     True\n",
       "Name: 623, dtype: bool"
      ]
     },
     "metadata": {},
     "output_type": "display_data"
    },
    {
     "name": "stdout",
     "output_type": "stream",
     "text": [
      "look at this wrong colors .\n",
      "look at this wrong color .\n"
     ]
    },
    {
     "data": {
      "text/plain": [
       "SAYCam LSTM 0     True\n",
       "SAYCam 1-gram     True\n",
       "SAYCam 2-gram     True\n",
       "SAYCam CBOW 0    False\n",
       "Name: 624, dtype: bool"
      ]
     },
     "metadata": {},
     "output_type": "display_data"
    },
    {
     "name": "stdout",
     "output_type": "stream",
     "text": [
      "this wrong colors went there .\n",
      "this wrong color went there .\n"
     ]
    },
    {
     "data": {
      "text/plain": [
       "SAYCam LSTM 0     True\n",
       "SAYCam 1-gram     True\n",
       "SAYCam 2-gram     True\n",
       "SAYCam CBOW 0    False\n",
       "Name: 625, dtype: bool"
      ]
     },
     "metadata": {},
     "output_type": "display_data"
    },
    {
     "name": "stdout",
     "output_type": "stream",
     "text": [
      "this wrong colors did not happen .\n",
      "this wrong color did not happen .\n"
     ]
    },
    {
     "data": {
      "text/plain": [
       "SAYCam LSTM 0     True\n",
       "SAYCam 1-gram     True\n",
       "SAYCam 2-gram     True\n",
       "SAYCam CBOW 0    False\n",
       "Name: 626, dtype: bool"
      ]
     },
     "metadata": {},
     "output_type": "display_data"
    },
    {
     "name": "stdout",
     "output_type": "stream",
     "text": [
      "i saw this wrong colors .\n",
      "i saw this wrong color .\n"
     ]
    },
    {
     "data": {
      "text/plain": [
       "SAYCam LSTM 0     True\n",
       "SAYCam 1-gram     True\n",
       "SAYCam 2-gram     True\n",
       "SAYCam CBOW 0    False\n",
       "Name: 627, dtype: bool"
      ]
     },
     "metadata": {},
     "output_type": "display_data"
    },
    {
     "name": "stdout",
     "output_type": "stream",
     "text": [
      "look at that wrong colors .\n",
      "look at that wrong color .\n"
     ]
    },
    {
     "data": {
      "text/plain": [
       "SAYCam LSTM 0     True\n",
       "SAYCam 1-gram     True\n",
       "SAYCam 2-gram     True\n",
       "SAYCam CBOW 0    False\n",
       "Name: 628, dtype: bool"
      ]
     },
     "metadata": {},
     "output_type": "display_data"
    },
    {
     "name": "stdout",
     "output_type": "stream",
     "text": [
      "that wrong colors went there .\n",
      "that wrong color went there .\n"
     ]
    },
    {
     "data": {
      "text/plain": [
       "SAYCam LSTM 0     True\n",
       "SAYCam 1-gram     True\n",
       "SAYCam 2-gram     True\n",
       "SAYCam CBOW 0    False\n",
       "Name: 629, dtype: bool"
      ]
     },
     "metadata": {},
     "output_type": "display_data"
    },
    {
     "name": "stdout",
     "output_type": "stream",
     "text": [
      "that wrong colors did not happen .\n",
      "that wrong color did not happen .\n"
     ]
    },
    {
     "data": {
      "text/plain": [
       "SAYCam LSTM 0     True\n",
       "SAYCam 1-gram     True\n",
       "SAYCam 2-gram     True\n",
       "SAYCam CBOW 0    False\n",
       "Name: 630, dtype: bool"
      ]
     },
     "metadata": {},
     "output_type": "display_data"
    },
    {
     "name": "stdout",
     "output_type": "stream",
     "text": [
      "i saw that wrong colors .\n",
      "i saw that wrong color .\n"
     ]
    },
    {
     "data": {
      "text/plain": [
       "SAYCam LSTM 0     True\n",
       "SAYCam 1-gram     True\n",
       "SAYCam 2-gram     True\n",
       "SAYCam CBOW 0    False\n",
       "Name: 631, dtype: bool"
      ]
     },
     "metadata": {},
     "output_type": "display_data"
    },
    {
     "name": "stdout",
     "output_type": "stream",
     "text": [
      "look at these wrong color .\n",
      "look at these wrong colors .\n"
     ]
    },
    {
     "data": {
      "text/plain": [
       "SAYCam LSTM 0     True\n",
       "SAYCam 1-gram    False\n",
       "SAYCam 2-gram    False\n",
       "SAYCam CBOW 0    False\n",
       "Name: 632, dtype: bool"
      ]
     },
     "metadata": {},
     "output_type": "display_data"
    },
    {
     "name": "stdout",
     "output_type": "stream",
     "text": [
      "these wrong color went there .\n",
      "these wrong colors went there .\n"
     ]
    },
    {
     "data": {
      "text/plain": [
       "SAYCam LSTM 0     True\n",
       "SAYCam 1-gram    False\n",
       "SAYCam 2-gram    False\n",
       "SAYCam CBOW 0     True\n",
       "Name: 633, dtype: bool"
      ]
     },
     "metadata": {},
     "output_type": "display_data"
    },
    {
     "name": "stdout",
     "output_type": "stream",
     "text": [
      "these wrong color did not happen .\n",
      "these wrong colors did not happen .\n"
     ]
    },
    {
     "data": {
      "text/plain": [
       "SAYCam LSTM 0     True\n",
       "SAYCam 1-gram    False\n",
       "SAYCam 2-gram    False\n",
       "SAYCam CBOW 0     True\n",
       "Name: 634, dtype: bool"
      ]
     },
     "metadata": {},
     "output_type": "display_data"
    },
    {
     "name": "stdout",
     "output_type": "stream",
     "text": [
      "look at those wrong color .\n",
      "look at those wrong colors .\n"
     ]
    },
    {
     "data": {
      "text/plain": [
       "SAYCam LSTM 0     True\n",
       "SAYCam 1-gram    False\n",
       "SAYCam 2-gram    False\n",
       "SAYCam CBOW 0     True\n",
       "Name: 636, dtype: bool"
      ]
     },
     "metadata": {},
     "output_type": "display_data"
    },
    {
     "name": "stdout",
     "output_type": "stream",
     "text": [
      "those wrong color went there .\n",
      "those wrong colors went there .\n"
     ]
    },
    {
     "data": {
      "text/plain": [
       "SAYCam LSTM 0     True\n",
       "SAYCam 1-gram    False\n",
       "SAYCam 2-gram    False\n",
       "SAYCam CBOW 0     True\n",
       "Name: 637, dtype: bool"
      ]
     },
     "metadata": {},
     "output_type": "display_data"
    },
    {
     "name": "stdout",
     "output_type": "stream",
     "text": [
      "those wrong color did not happen .\n",
      "those wrong colors did not happen .\n"
     ]
    },
    {
     "data": {
      "text/plain": [
       "SAYCam LSTM 0     True\n",
       "SAYCam 1-gram    False\n",
       "SAYCam 2-gram    False\n",
       "SAYCam CBOW 0     True\n",
       "Name: 638, dtype: bool"
      ]
     },
     "metadata": {},
     "output_type": "display_data"
    },
    {
     "name": "stdout",
     "output_type": "stream",
     "text": [
      "look at that fixed bits .\n",
      "look at that fixed bit .\n"
     ]
    },
    {
     "data": {
      "text/plain": [
       "SAYCam LSTM 0     True\n",
       "SAYCam 1-gram     True\n",
       "SAYCam 2-gram     True\n",
       "SAYCam CBOW 0    False\n",
       "Name: 644, dtype: bool"
      ]
     },
     "metadata": {},
     "output_type": "display_data"
    },
    {
     "name": "stdout",
     "output_type": "stream",
     "text": [
      "that fixed bits did not happen .\n",
      "that fixed bit did not happen .\n"
     ]
    },
    {
     "data": {
      "text/plain": [
       "SAYCam LSTM 0     True\n",
       "SAYCam 1-gram     True\n",
       "SAYCam 2-gram     True\n",
       "SAYCam CBOW 0    False\n",
       "Name: 646, dtype: bool"
      ]
     },
     "metadata": {},
     "output_type": "display_data"
    },
    {
     "name": "stdout",
     "output_type": "stream",
     "text": [
      "i saw that fixed bits .\n",
      "i saw that fixed bit .\n"
     ]
    },
    {
     "data": {
      "text/plain": [
       "SAYCam LSTM 0     True\n",
       "SAYCam 1-gram     True\n",
       "SAYCam 2-gram     True\n",
       "SAYCam CBOW 0    False\n",
       "Name: 647, dtype: bool"
      ]
     },
     "metadata": {},
     "output_type": "display_data"
    },
    {
     "name": "stdout",
     "output_type": "stream",
     "text": [
      "look at this wrong rings .\n",
      "look at this wrong ring .\n"
     ]
    },
    {
     "data": {
      "text/plain": [
       "SAYCam LSTM 0     True\n",
       "SAYCam 1-gram     True\n",
       "SAYCam 2-gram    False\n",
       "SAYCam CBOW 0     True\n",
       "Name: 736, dtype: bool"
      ]
     },
     "metadata": {},
     "output_type": "display_data"
    },
    {
     "name": "stdout",
     "output_type": "stream",
     "text": [
      "i saw this wrong rings .\n",
      "i saw this wrong ring .\n"
     ]
    },
    {
     "data": {
      "text/plain": [
       "SAYCam LSTM 0     True\n",
       "SAYCam 1-gram     True\n",
       "SAYCam 2-gram    False\n",
       "SAYCam CBOW 0     True\n",
       "Name: 739, dtype: bool"
      ]
     },
     "metadata": {},
     "output_type": "display_data"
    },
    {
     "name": "stdout",
     "output_type": "stream",
     "text": [
      "look at that wrong rings .\n",
      "look at that wrong ring .\n"
     ]
    },
    {
     "data": {
      "text/plain": [
       "SAYCam LSTM 0     True\n",
       "SAYCam 1-gram     True\n",
       "SAYCam 2-gram    False\n",
       "SAYCam CBOW 0     True\n",
       "Name: 740, dtype: bool"
      ]
     },
     "metadata": {},
     "output_type": "display_data"
    },
    {
     "name": "stdout",
     "output_type": "stream",
     "text": [
      "i saw that wrong rings .\n",
      "i saw that wrong ring .\n"
     ]
    },
    {
     "data": {
      "text/plain": [
       "SAYCam LSTM 0     True\n",
       "SAYCam 1-gram     True\n",
       "SAYCam 2-gram    False\n",
       "SAYCam CBOW 0     True\n",
       "Name: 743, dtype: bool"
      ]
     },
     "metadata": {},
     "output_type": "display_data"
    },
    {
     "name": "stdout",
     "output_type": "stream",
     "text": [
      "those wrong ring went there .\n",
      "those wrong rings went there .\n"
     ]
    },
    {
     "data": {
      "text/plain": [
       "SAYCam LSTM 0     True\n",
       "SAYCam 1-gram    False\n",
       "SAYCam 2-gram    False\n",
       "SAYCam CBOW 0    False\n",
       "Name: 749, dtype: bool"
      ]
     },
     "metadata": {},
     "output_type": "display_data"
    },
    {
     "name": "stdout",
     "output_type": "stream",
     "text": [
      "look at these tall hand .\n",
      "look at these tall hands .\n"
     ]
    },
    {
     "data": {
      "text/plain": [
       "SAYCam LSTM 0     True\n",
       "SAYCam 1-gram    False\n",
       "SAYCam 2-gram    False\n",
       "SAYCam CBOW 0    False\n",
       "Name: 792, dtype: bool"
      ]
     },
     "metadata": {},
     "output_type": "display_data"
    },
    {
     "name": "stdout",
     "output_type": "stream",
     "text": [
      "these tall hand went there .\n",
      "these tall hands went there .\n"
     ]
    },
    {
     "data": {
      "text/plain": [
       "SAYCam LSTM 0     True\n",
       "SAYCam 1-gram    False\n",
       "SAYCam 2-gram    False\n",
       "SAYCam CBOW 0    False\n",
       "Name: 793, dtype: bool"
      ]
     },
     "metadata": {},
     "output_type": "display_data"
    },
    {
     "name": "stdout",
     "output_type": "stream",
     "text": [
      "these tall hand did not happen .\n",
      "these tall hands did not happen .\n"
     ]
    },
    {
     "data": {
      "text/plain": [
       "SAYCam LSTM 0     True\n",
       "SAYCam 1-gram    False\n",
       "SAYCam 2-gram    False\n",
       "SAYCam CBOW 0     True\n",
       "Name: 794, dtype: bool"
      ]
     },
     "metadata": {},
     "output_type": "display_data"
    },
    {
     "name": "stdout",
     "output_type": "stream",
     "text": [
      "look at those tall hand .\n",
      "look at those tall hands .\n"
     ]
    },
    {
     "data": {
      "text/plain": [
       "SAYCam LSTM 0     True\n",
       "SAYCam 1-gram    False\n",
       "SAYCam 2-gram    False\n",
       "SAYCam CBOW 0    False\n",
       "Name: 796, dtype: bool"
      ]
     },
     "metadata": {},
     "output_type": "display_data"
    },
    {
     "name": "stdout",
     "output_type": "stream",
     "text": [
      "those tall hand went there .\n",
      "those tall hands went there .\n"
     ]
    },
    {
     "data": {
      "text/plain": [
       "SAYCam LSTM 0     True\n",
       "SAYCam 1-gram    False\n",
       "SAYCam 2-gram    False\n",
       "SAYCam CBOW 0    False\n",
       "Name: 797, dtype: bool"
      ]
     },
     "metadata": {},
     "output_type": "display_data"
    },
    {
     "name": "stdout",
     "output_type": "stream",
     "text": [
      "those tall hand did not happen .\n",
      "those tall hands did not happen .\n"
     ]
    },
    {
     "data": {
      "text/plain": [
       "SAYCam LSTM 0     True\n",
       "SAYCam 1-gram    False\n",
       "SAYCam 2-gram    False\n",
       "SAYCam CBOW 0     True\n",
       "Name: 798, dtype: bool"
      ]
     },
     "metadata": {},
     "output_type": "display_data"
    },
    {
     "name": "stdout",
     "output_type": "stream",
     "text": [
      "i saw those tall hand .\n",
      "i saw those tall hands .\n"
     ]
    },
    {
     "data": {
      "text/plain": [
       "SAYCam LSTM 0     True\n",
       "SAYCam 1-gram    False\n",
       "SAYCam 2-gram    False\n",
       "SAYCam CBOW 0    False\n",
       "Name: 799, dtype: bool"
      ]
     },
     "metadata": {},
     "output_type": "display_data"
    },
    {
     "name": "stdout",
     "output_type": "stream",
     "text": [
      "look at this silly things .\n",
      "look at this silly thing .\n"
     ]
    },
    {
     "data": {
      "text/plain": [
       "SAYCam LSTM 0     True\n",
       "SAYCam 1-gram    False\n",
       "SAYCam 2-gram    False\n",
       "SAYCam CBOW 0    False\n",
       "Name: 832, dtype: bool"
      ]
     },
     "metadata": {},
     "output_type": "display_data"
    },
    {
     "name": "stdout",
     "output_type": "stream",
     "text": [
      "this silly things went there .\n",
      "this silly thing went there .\n"
     ]
    },
    {
     "data": {
      "text/plain": [
       "SAYCam LSTM 0     True\n",
       "SAYCam 1-gram    False\n",
       "SAYCam 2-gram    False\n",
       "SAYCam CBOW 0    False\n",
       "Name: 833, dtype: bool"
      ]
     },
     "metadata": {},
     "output_type": "display_data"
    },
    {
     "name": "stdout",
     "output_type": "stream",
     "text": [
      "this silly things did not happen .\n",
      "this silly thing did not happen .\n"
     ]
    },
    {
     "data": {
      "text/plain": [
       "SAYCam LSTM 0     True\n",
       "SAYCam 1-gram    False\n",
       "SAYCam 2-gram    False\n",
       "SAYCam CBOW 0    False\n",
       "Name: 834, dtype: bool"
      ]
     },
     "metadata": {},
     "output_type": "display_data"
    },
    {
     "name": "stdout",
     "output_type": "stream",
     "text": [
      "i saw this silly things .\n",
      "i saw this silly thing .\n"
     ]
    },
    {
     "data": {
      "text/plain": [
       "SAYCam LSTM 0     True\n",
       "SAYCam 1-gram    False\n",
       "SAYCam 2-gram    False\n",
       "SAYCam CBOW 0    False\n",
       "Name: 835, dtype: bool"
      ]
     },
     "metadata": {},
     "output_type": "display_data"
    },
    {
     "name": "stdout",
     "output_type": "stream",
     "text": [
      "look at that silly things .\n",
      "look at that silly thing .\n"
     ]
    },
    {
     "data": {
      "text/plain": [
       "SAYCam LSTM 0     True\n",
       "SAYCam 1-gram    False\n",
       "SAYCam 2-gram    False\n",
       "SAYCam CBOW 0    False\n",
       "Name: 836, dtype: bool"
      ]
     },
     "metadata": {},
     "output_type": "display_data"
    },
    {
     "name": "stdout",
     "output_type": "stream",
     "text": [
      "that silly things went there .\n",
      "that silly thing went there .\n"
     ]
    },
    {
     "data": {
      "text/plain": [
       "SAYCam LSTM 0     True\n",
       "SAYCam 1-gram    False\n",
       "SAYCam 2-gram    False\n",
       "SAYCam CBOW 0    False\n",
       "Name: 837, dtype: bool"
      ]
     },
     "metadata": {},
     "output_type": "display_data"
    },
    {
     "name": "stdout",
     "output_type": "stream",
     "text": [
      "that silly things did not happen .\n",
      "that silly thing did not happen .\n"
     ]
    },
    {
     "data": {
      "text/plain": [
       "SAYCam LSTM 0     True\n",
       "SAYCam 1-gram    False\n",
       "SAYCam 2-gram    False\n",
       "SAYCam CBOW 0    False\n",
       "Name: 838, dtype: bool"
      ]
     },
     "metadata": {},
     "output_type": "display_data"
    },
    {
     "name": "stdout",
     "output_type": "stream",
     "text": [
      "i saw that silly things .\n",
      "i saw that silly thing .\n"
     ]
    },
    {
     "data": {
      "text/plain": [
       "SAYCam LSTM 0     True\n",
       "SAYCam 1-gram    False\n",
       "SAYCam 2-gram    False\n",
       "SAYCam CBOW 0    False\n",
       "Name: 839, dtype: bool"
      ]
     },
     "metadata": {},
     "output_type": "display_data"
    },
    {
     "name": "stdout",
     "output_type": "stream",
     "text": [
      "look at these silly thing .\n",
      "look at these silly things .\n"
     ]
    },
    {
     "data": {
      "text/plain": [
       "SAYCam LSTM 0     True\n",
       "SAYCam 1-gram     True\n",
       "SAYCam 2-gram     True\n",
       "SAYCam CBOW 0    False\n",
       "Name: 840, dtype: bool"
      ]
     },
     "metadata": {},
     "output_type": "display_data"
    },
    {
     "name": "stdout",
     "output_type": "stream",
     "text": [
      "i saw these silly thing .\n",
      "i saw these silly things .\n"
     ]
    },
    {
     "data": {
      "text/plain": [
       "SAYCam LSTM 0     True\n",
       "SAYCam 1-gram     True\n",
       "SAYCam 2-gram     True\n",
       "SAYCam CBOW 0    False\n",
       "Name: 843, dtype: bool"
      ]
     },
     "metadata": {},
     "output_type": "display_data"
    },
    {
     "name": "stdout",
     "output_type": "stream",
     "text": [
      "look at those silly thing .\n",
      "look at those silly things .\n"
     ]
    },
    {
     "data": {
      "text/plain": [
       "SAYCam LSTM 0     True\n",
       "SAYCam 1-gram     True\n",
       "SAYCam 2-gram     True\n",
       "SAYCam CBOW 0    False\n",
       "Name: 844, dtype: bool"
      ]
     },
     "metadata": {},
     "output_type": "display_data"
    },
    {
     "name": "stdout",
     "output_type": "stream",
     "text": [
      "i saw those silly thing .\n",
      "i saw those silly things .\n"
     ]
    },
    {
     "data": {
      "text/plain": [
       "SAYCam LSTM 0     True\n",
       "SAYCam 1-gram     True\n",
       "SAYCam 2-gram     True\n",
       "SAYCam CBOW 0    False\n",
       "Name: 847, dtype: bool"
      ]
     },
     "metadata": {},
     "output_type": "display_data"
    },
    {
     "name": "stdout",
     "output_type": "stream",
     "text": [
      "this bad horses went there .\n",
      "this bad horse went there .\n"
     ]
    },
    {
     "data": {
      "text/plain": [
       "SAYCam LSTM 0     True\n",
       "SAYCam 1-gram     True\n",
       "SAYCam 2-gram     True\n",
       "SAYCam CBOW 0    False\n",
       "Name: 881, dtype: bool"
      ]
     },
     "metadata": {},
     "output_type": "display_data"
    },
    {
     "name": "stdout",
     "output_type": "stream",
     "text": [
      "this bad horses did not happen .\n",
      "this bad horse did not happen .\n"
     ]
    },
    {
     "data": {
      "text/plain": [
       "SAYCam LSTM 0     True\n",
       "SAYCam 1-gram     True\n",
       "SAYCam 2-gram     True\n",
       "SAYCam CBOW 0    False\n",
       "Name: 882, dtype: bool"
      ]
     },
     "metadata": {},
     "output_type": "display_data"
    },
    {
     "name": "stdout",
     "output_type": "stream",
     "text": [
      "that bad horses went there .\n",
      "that bad horse went there .\n"
     ]
    },
    {
     "data": {
      "text/plain": [
       "SAYCam LSTM 0     True\n",
       "SAYCam 1-gram     True\n",
       "SAYCam 2-gram     True\n",
       "SAYCam CBOW 0    False\n",
       "Name: 885, dtype: bool"
      ]
     },
     "metadata": {},
     "output_type": "display_data"
    },
    {
     "name": "stdout",
     "output_type": "stream",
     "text": [
      "that bad horses did not happen .\n",
      "that bad horse did not happen .\n"
     ]
    },
    {
     "data": {
      "text/plain": [
       "SAYCam LSTM 0     True\n",
       "SAYCam 1-gram     True\n",
       "SAYCam 2-gram     True\n",
       "SAYCam CBOW 0    False\n",
       "Name: 886, dtype: bool"
      ]
     },
     "metadata": {},
     "output_type": "display_data"
    },
    {
     "name": "stdout",
     "output_type": "stream",
     "text": [
      "look at these bad horse .\n",
      "look at these bad horses .\n"
     ]
    },
    {
     "data": {
      "text/plain": [
       "SAYCam LSTM 0     True\n",
       "SAYCam 1-gram    False\n",
       "SAYCam 2-gram    False\n",
       "SAYCam CBOW 0     True\n",
       "Name: 888, dtype: bool"
      ]
     },
     "metadata": {},
     "output_type": "display_data"
    },
    {
     "name": "stdout",
     "output_type": "stream",
     "text": [
      "these bad horse went there .\n",
      "these bad horses went there .\n"
     ]
    },
    {
     "data": {
      "text/plain": [
       "SAYCam LSTM 0     True\n",
       "SAYCam 1-gram    False\n",
       "SAYCam 2-gram    False\n",
       "SAYCam CBOW 0     True\n",
       "Name: 889, dtype: bool"
      ]
     },
     "metadata": {},
     "output_type": "display_data"
    },
    {
     "name": "stdout",
     "output_type": "stream",
     "text": [
      "i saw these bad horse .\n",
      "i saw these bad horses .\n"
     ]
    },
    {
     "data": {
      "text/plain": [
       "SAYCam LSTM 0     True\n",
       "SAYCam 1-gram    False\n",
       "SAYCam 2-gram    False\n",
       "SAYCam CBOW 0     True\n",
       "Name: 891, dtype: bool"
      ]
     },
     "metadata": {},
     "output_type": "display_data"
    },
    {
     "name": "stdout",
     "output_type": "stream",
     "text": [
      "look at those bad horse .\n",
      "look at those bad horses .\n"
     ]
    },
    {
     "data": {
      "text/plain": [
       "SAYCam LSTM 0     True\n",
       "SAYCam 1-gram    False\n",
       "SAYCam 2-gram    False\n",
       "SAYCam CBOW 0     True\n",
       "Name: 892, dtype: bool"
      ]
     },
     "metadata": {},
     "output_type": "display_data"
    },
    {
     "name": "stdout",
     "output_type": "stream",
     "text": [
      "those bad horse went there .\n",
      "those bad horses went there .\n"
     ]
    },
    {
     "data": {
      "text/plain": [
       "SAYCam LSTM 0     True\n",
       "SAYCam 1-gram    False\n",
       "SAYCam 2-gram    False\n",
       "SAYCam CBOW 0     True\n",
       "Name: 893, dtype: bool"
      ]
     },
     "metadata": {},
     "output_type": "display_data"
    },
    {
     "name": "stdout",
     "output_type": "stream",
     "text": [
      "those bad horse did not happen .\n",
      "those bad horses did not happen .\n"
     ]
    },
    {
     "data": {
      "text/plain": [
       "SAYCam LSTM 0     True\n",
       "SAYCam 1-gram    False\n",
       "SAYCam 2-gram    False\n",
       "SAYCam CBOW 0     True\n",
       "Name: 894, dtype: bool"
      ]
     },
     "metadata": {},
     "output_type": "display_data"
    },
    {
     "name": "stdout",
     "output_type": "stream",
     "text": [
      "i saw those bad horse .\n",
      "i saw those bad horses .\n"
     ]
    },
    {
     "data": {
      "text/plain": [
       "SAYCam LSTM 0     True\n",
       "SAYCam 1-gram    False\n",
       "SAYCam 2-gram    False\n",
       "SAYCam CBOW 0     True\n",
       "Name: 895, dtype: bool"
      ]
     },
     "metadata": {},
     "output_type": "display_data"
    },
    {
     "name": "stdout",
     "output_type": "stream",
     "text": [
      "look at this soft eggs .\n",
      "look at this soft egg .\n"
     ]
    },
    {
     "data": {
      "text/plain": [
       "SAYCam LSTM 0     True\n",
       "SAYCam 1-gram    False\n",
       "SAYCam 2-gram    False\n",
       "SAYCam CBOW 0    False\n",
       "Name: 976, dtype: bool"
      ]
     },
     "metadata": {},
     "output_type": "display_data"
    },
    {
     "name": "stdout",
     "output_type": "stream",
     "text": [
      "this soft eggs went there .\n",
      "this soft egg went there .\n"
     ]
    },
    {
     "data": {
      "text/plain": [
       "SAYCam LSTM 0     True\n",
       "SAYCam 1-gram    False\n",
       "SAYCam 2-gram    False\n",
       "SAYCam CBOW 0     True\n",
       "Name: 977, dtype: bool"
      ]
     },
     "metadata": {},
     "output_type": "display_data"
    },
    {
     "name": "stdout",
     "output_type": "stream",
     "text": [
      "this soft eggs did not happen .\n",
      "this soft egg did not happen .\n"
     ]
    },
    {
     "data": {
      "text/plain": [
       "SAYCam LSTM 0     True\n",
       "SAYCam 1-gram    False\n",
       "SAYCam 2-gram    False\n",
       "SAYCam CBOW 0    False\n",
       "Name: 978, dtype: bool"
      ]
     },
     "metadata": {},
     "output_type": "display_data"
    },
    {
     "name": "stdout",
     "output_type": "stream",
     "text": [
      "i saw this soft eggs .\n",
      "i saw this soft egg .\n"
     ]
    },
    {
     "data": {
      "text/plain": [
       "SAYCam LSTM 0     True\n",
       "SAYCam 1-gram    False\n",
       "SAYCam 2-gram    False\n",
       "SAYCam CBOW 0    False\n",
       "Name: 979, dtype: bool"
      ]
     },
     "metadata": {},
     "output_type": "display_data"
    },
    {
     "name": "stdout",
     "output_type": "stream",
     "text": [
      "look at that soft eggs .\n",
      "look at that soft egg .\n"
     ]
    },
    {
     "data": {
      "text/plain": [
       "SAYCam LSTM 0     True\n",
       "SAYCam 1-gram    False\n",
       "SAYCam 2-gram    False\n",
       "SAYCam CBOW 0    False\n",
       "Name: 980, dtype: bool"
      ]
     },
     "metadata": {},
     "output_type": "display_data"
    },
    {
     "name": "stdout",
     "output_type": "stream",
     "text": [
      "that soft eggs went there .\n",
      "that soft egg went there .\n"
     ]
    },
    {
     "data": {
      "text/plain": [
       "SAYCam LSTM 0     True\n",
       "SAYCam 1-gram    False\n",
       "SAYCam 2-gram    False\n",
       "SAYCam CBOW 0     True\n",
       "Name: 981, dtype: bool"
      ]
     },
     "metadata": {},
     "output_type": "display_data"
    },
    {
     "name": "stdout",
     "output_type": "stream",
     "text": [
      "that soft eggs did not happen .\n",
      "that soft egg did not happen .\n"
     ]
    },
    {
     "data": {
      "text/plain": [
       "SAYCam LSTM 0     True\n",
       "SAYCam 1-gram    False\n",
       "SAYCam 2-gram    False\n",
       "SAYCam CBOW 0    False\n",
       "Name: 982, dtype: bool"
      ]
     },
     "metadata": {},
     "output_type": "display_data"
    },
    {
     "name": "stdout",
     "output_type": "stream",
     "text": [
      "i saw that soft eggs .\n",
      "i saw that soft egg .\n"
     ]
    },
    {
     "data": {
      "text/plain": [
       "SAYCam LSTM 0     True\n",
       "SAYCam 1-gram    False\n",
       "SAYCam 2-gram    False\n",
       "SAYCam CBOW 0    False\n",
       "Name: 983, dtype: bool"
      ]
     },
     "metadata": {},
     "output_type": "display_data"
    },
    {
     "name": "stdout",
     "output_type": "stream",
     "text": [
      "look at these soft egg .\n",
      "look at these soft eggs .\n"
     ]
    },
    {
     "data": {
      "text/plain": [
       "SAYCam LSTM 0     True\n",
       "SAYCam 1-gram     True\n",
       "SAYCam 2-gram     True\n",
       "SAYCam CBOW 0    False\n",
       "Name: 984, dtype: bool"
      ]
     },
     "metadata": {},
     "output_type": "display_data"
    },
    {
     "name": "stdout",
     "output_type": "stream",
     "text": [
      "i saw these soft egg .\n",
      "i saw these soft eggs .\n"
     ]
    },
    {
     "data": {
      "text/plain": [
       "SAYCam LSTM 0     True\n",
       "SAYCam 1-gram     True\n",
       "SAYCam 2-gram     True\n",
       "SAYCam CBOW 0    False\n",
       "Name: 987, dtype: bool"
      ]
     },
     "metadata": {},
     "output_type": "display_data"
    },
    {
     "name": "stdout",
     "output_type": "stream",
     "text": [
      "look at those soft egg .\n",
      "look at those soft eggs .\n"
     ]
    },
    {
     "data": {
      "text/plain": [
       "SAYCam LSTM 0     True\n",
       "SAYCam 1-gram     True\n",
       "SAYCam 2-gram     True\n",
       "SAYCam CBOW 0    False\n",
       "Name: 988, dtype: bool"
      ]
     },
     "metadata": {},
     "output_type": "display_data"
    },
    {
     "name": "stdout",
     "output_type": "stream",
     "text": [
      "those soft egg did not happen .\n",
      "those soft eggs did not happen .\n"
     ]
    },
    {
     "data": {
      "text/plain": [
       "SAYCam LSTM 0     True\n",
       "SAYCam 1-gram     True\n",
       "SAYCam 2-gram     True\n",
       "SAYCam CBOW 0    False\n",
       "Name: 990, dtype: bool"
      ]
     },
     "metadata": {},
     "output_type": "display_data"
    },
    {
     "name": "stdout",
     "output_type": "stream",
     "text": [
      "i saw those soft egg .\n",
      "i saw those soft eggs .\n"
     ]
    },
    {
     "data": {
      "text/plain": [
       "SAYCam LSTM 0     True\n",
       "SAYCam 1-gram     True\n",
       "SAYCam 2-gram     True\n",
       "SAYCam CBOW 0    False\n",
       "Name: 991, dtype: bool"
      ]
     },
     "metadata": {},
     "output_type": "display_data"
    },
    {
     "name": "stdout",
     "output_type": "stream",
     "text": [
      "look at this soft books .\n",
      "look at this soft book .\n"
     ]
    },
    {
     "data": {
      "text/plain": [
       "SAYCam LSTM 0     True\n",
       "SAYCam 1-gram     True\n",
       "SAYCam 2-gram     True\n",
       "SAYCam CBOW 0    False\n",
       "Name: 1136, dtype: bool"
      ]
     },
     "metadata": {},
     "output_type": "display_data"
    },
    {
     "name": "stdout",
     "output_type": "stream",
     "text": [
      "this soft books went there .\n",
      "this soft book went there .\n"
     ]
    },
    {
     "data": {
      "text/plain": [
       "SAYCam LSTM 0     True\n",
       "SAYCam 1-gram     True\n",
       "SAYCam 2-gram     True\n",
       "SAYCam CBOW 0    False\n",
       "Name: 1137, dtype: bool"
      ]
     },
     "metadata": {},
     "output_type": "display_data"
    },
    {
     "name": "stdout",
     "output_type": "stream",
     "text": [
      "i saw this soft books .\n",
      "i saw this soft book .\n"
     ]
    },
    {
     "data": {
      "text/plain": [
       "SAYCam LSTM 0     True\n",
       "SAYCam 1-gram     True\n",
       "SAYCam 2-gram     True\n",
       "SAYCam CBOW 0    False\n",
       "Name: 1139, dtype: bool"
      ]
     },
     "metadata": {},
     "output_type": "display_data"
    },
    {
     "name": "stdout",
     "output_type": "stream",
     "text": [
      "look at that soft books .\n",
      "look at that soft book .\n"
     ]
    },
    {
     "data": {
      "text/plain": [
       "SAYCam LSTM 0     True\n",
       "SAYCam 1-gram     True\n",
       "SAYCam 2-gram     True\n",
       "SAYCam CBOW 0    False\n",
       "Name: 1140, dtype: bool"
      ]
     },
     "metadata": {},
     "output_type": "display_data"
    },
    {
     "name": "stdout",
     "output_type": "stream",
     "text": [
      "that soft books went there .\n",
      "that soft book went there .\n"
     ]
    },
    {
     "data": {
      "text/plain": [
       "SAYCam LSTM 0     True\n",
       "SAYCam 1-gram     True\n",
       "SAYCam 2-gram     True\n",
       "SAYCam CBOW 0    False\n",
       "Name: 1141, dtype: bool"
      ]
     },
     "metadata": {},
     "output_type": "display_data"
    },
    {
     "name": "stdout",
     "output_type": "stream",
     "text": [
      "i saw that soft books .\n",
      "i saw that soft book .\n"
     ]
    },
    {
     "data": {
      "text/plain": [
       "SAYCam LSTM 0     True\n",
       "SAYCam 1-gram     True\n",
       "SAYCam 2-gram     True\n",
       "SAYCam CBOW 0    False\n",
       "Name: 1143, dtype: bool"
      ]
     },
     "metadata": {},
     "output_type": "display_data"
    },
    {
     "name": "stdout",
     "output_type": "stream",
     "text": [
      "look at these soft book .\n",
      "look at these soft books .\n"
     ]
    },
    {
     "data": {
      "text/plain": [
       "SAYCam LSTM 0     True\n",
       "SAYCam 1-gram    False\n",
       "SAYCam 2-gram    False\n",
       "SAYCam CBOW 0    False\n",
       "Name: 1144, dtype: bool"
      ]
     },
     "metadata": {},
     "output_type": "display_data"
    },
    {
     "name": "stdout",
     "output_type": "stream",
     "text": [
      "these soft book went there .\n",
      "these soft books went there .\n"
     ]
    },
    {
     "data": {
      "text/plain": [
       "SAYCam LSTM 0     True\n",
       "SAYCam 1-gram    False\n",
       "SAYCam 2-gram    False\n",
       "SAYCam CBOW 0     True\n",
       "Name: 1145, dtype: bool"
      ]
     },
     "metadata": {},
     "output_type": "display_data"
    },
    {
     "name": "stdout",
     "output_type": "stream",
     "text": [
      "i saw these soft book .\n",
      "i saw these soft books .\n"
     ]
    },
    {
     "data": {
      "text/plain": [
       "SAYCam LSTM 0     True\n",
       "SAYCam 1-gram    False\n",
       "SAYCam 2-gram    False\n",
       "SAYCam CBOW 0    False\n",
       "Name: 1147, dtype: bool"
      ]
     },
     "metadata": {},
     "output_type": "display_data"
    },
    {
     "name": "stdout",
     "output_type": "stream",
     "text": [
      "look at those soft book .\n",
      "look at those soft books .\n"
     ]
    },
    {
     "data": {
      "text/plain": [
       "SAYCam LSTM 0     True\n",
       "SAYCam 1-gram    False\n",
       "SAYCam 2-gram    False\n",
       "SAYCam CBOW 0    False\n",
       "Name: 1148, dtype: bool"
      ]
     },
     "metadata": {},
     "output_type": "display_data"
    },
    {
     "name": "stdout",
     "output_type": "stream",
     "text": [
      "those soft book went there .\n",
      "those soft books went there .\n"
     ]
    },
    {
     "data": {
      "text/plain": [
       "SAYCam LSTM 0     True\n",
       "SAYCam 1-gram    False\n",
       "SAYCam 2-gram    False\n",
       "SAYCam CBOW 0     True\n",
       "Name: 1149, dtype: bool"
      ]
     },
     "metadata": {},
     "output_type": "display_data"
    },
    {
     "name": "stdout",
     "output_type": "stream",
     "text": [
      "those soft book did not happen .\n",
      "those soft books did not happen .\n"
     ]
    },
    {
     "data": {
      "text/plain": [
       "SAYCam LSTM 0     True\n",
       "SAYCam 1-gram    False\n",
       "SAYCam 2-gram    False\n",
       "SAYCam CBOW 0    False\n",
       "Name: 1150, dtype: bool"
      ]
     },
     "metadata": {},
     "output_type": "display_data"
    },
    {
     "name": "stdout",
     "output_type": "stream",
     "text": [
      "i saw those soft book .\n",
      "i saw those soft books .\n"
     ]
    },
    {
     "data": {
      "text/plain": [
       "SAYCam LSTM 0     True\n",
       "SAYCam 1-gram    False\n",
       "SAYCam 2-gram    False\n",
       "SAYCam CBOW 0    False\n",
       "Name: 1151, dtype: bool"
      ]
     },
     "metadata": {},
     "output_type": "display_data"
    },
    {
     "name": "stdout",
     "output_type": "stream",
     "text": [
      "look at this bad hands .\n",
      "look at this bad hand .\n"
     ]
    },
    {
     "data": {
      "text/plain": [
       "SAYCam LSTM 0     True\n",
       "SAYCam 1-gram     True\n",
       "SAYCam 2-gram     True\n",
       "SAYCam CBOW 0    False\n",
       "Name: 1184, dtype: bool"
      ]
     },
     "metadata": {},
     "output_type": "display_data"
    },
    {
     "name": "stdout",
     "output_type": "stream",
     "text": [
      "this bad hands went there .\n",
      "this bad hand went there .\n"
     ]
    },
    {
     "data": {
      "text/plain": [
       "SAYCam LSTM 0     True\n",
       "SAYCam 1-gram     True\n",
       "SAYCam 2-gram     True\n",
       "SAYCam CBOW 0    False\n",
       "Name: 1185, dtype: bool"
      ]
     },
     "metadata": {},
     "output_type": "display_data"
    },
    {
     "name": "stdout",
     "output_type": "stream",
     "text": [
      "this bad hands did not happen .\n",
      "this bad hand did not happen .\n"
     ]
    },
    {
     "data": {
      "text/plain": [
       "SAYCam LSTM 0     True\n",
       "SAYCam 1-gram     True\n",
       "SAYCam 2-gram     True\n",
       "SAYCam CBOW 0    False\n",
       "Name: 1186, dtype: bool"
      ]
     },
     "metadata": {},
     "output_type": "display_data"
    },
    {
     "name": "stdout",
     "output_type": "stream",
     "text": [
      "i saw this bad hands .\n",
      "i saw this bad hand .\n"
     ]
    },
    {
     "data": {
      "text/plain": [
       "SAYCam LSTM 0     True\n",
       "SAYCam 1-gram     True\n",
       "SAYCam 2-gram     True\n",
       "SAYCam CBOW 0    False\n",
       "Name: 1187, dtype: bool"
      ]
     },
     "metadata": {},
     "output_type": "display_data"
    },
    {
     "name": "stdout",
     "output_type": "stream",
     "text": [
      "look at that bad hands .\n",
      "look at that bad hand .\n"
     ]
    },
    {
     "data": {
      "text/plain": [
       "SAYCam LSTM 0     True\n",
       "SAYCam 1-gram     True\n",
       "SAYCam 2-gram     True\n",
       "SAYCam CBOW 0    False\n",
       "Name: 1188, dtype: bool"
      ]
     },
     "metadata": {},
     "output_type": "display_data"
    },
    {
     "name": "stdout",
     "output_type": "stream",
     "text": [
      "that bad hands did not happen .\n",
      "that bad hand did not happen .\n"
     ]
    },
    {
     "data": {
      "text/plain": [
       "SAYCam LSTM 0     True\n",
       "SAYCam 1-gram     True\n",
       "SAYCam 2-gram     True\n",
       "SAYCam CBOW 0    False\n",
       "Name: 1190, dtype: bool"
      ]
     },
     "metadata": {},
     "output_type": "display_data"
    },
    {
     "name": "stdout",
     "output_type": "stream",
     "text": [
      "i saw that bad hands .\n",
      "i saw that bad hand .\n"
     ]
    },
    {
     "data": {
      "text/plain": [
       "SAYCam LSTM 0     True\n",
       "SAYCam 1-gram     True\n",
       "SAYCam 2-gram     True\n",
       "SAYCam CBOW 0    False\n",
       "Name: 1191, dtype: bool"
      ]
     },
     "metadata": {},
     "output_type": "display_data"
    },
    {
     "name": "stdout",
     "output_type": "stream",
     "text": [
      "these bad hand went there .\n",
      "these bad hands went there .\n"
     ]
    },
    {
     "data": {
      "text/plain": [
       "SAYCam LSTM 0     True\n",
       "SAYCam 1-gram    False\n",
       "SAYCam 2-gram    False\n",
       "SAYCam CBOW 0    False\n",
       "Name: 1193, dtype: bool"
      ]
     },
     "metadata": {},
     "output_type": "display_data"
    },
    {
     "name": "stdout",
     "output_type": "stream",
     "text": [
      "look at those bad hand .\n",
      "look at those bad hands .\n"
     ]
    },
    {
     "data": {
      "text/plain": [
       "SAYCam LSTM 0     True\n",
       "SAYCam 1-gram    False\n",
       "SAYCam 2-gram    False\n",
       "SAYCam CBOW 0    False\n",
       "Name: 1196, dtype: bool"
      ]
     },
     "metadata": {},
     "output_type": "display_data"
    },
    {
     "name": "stdout",
     "output_type": "stream",
     "text": [
      "those bad hand went there .\n",
      "those bad hands went there .\n"
     ]
    },
    {
     "data": {
      "text/plain": [
       "SAYCam LSTM 0     True\n",
       "SAYCam 1-gram    False\n",
       "SAYCam 2-gram    False\n",
       "SAYCam CBOW 0    False\n",
       "Name: 1197, dtype: bool"
      ]
     },
     "metadata": {},
     "output_type": "display_data"
    },
    {
     "name": "stdout",
     "output_type": "stream",
     "text": [
      "those bad hand did not happen .\n",
      "those bad hands did not happen .\n"
     ]
    },
    {
     "data": {
      "text/plain": [
       "SAYCam LSTM 0     True\n",
       "SAYCam 1-gram    False\n",
       "SAYCam 2-gram    False\n",
       "SAYCam CBOW 0     True\n",
       "Name: 1198, dtype: bool"
      ]
     },
     "metadata": {},
     "output_type": "display_data"
    },
    {
     "name": "stdout",
     "output_type": "stream",
     "text": [
      "look at this wrong pages .\n",
      "look at this wrong page .\n"
     ]
    },
    {
     "data": {
      "text/plain": [
       "SAYCam LSTM 0     True\n",
       "SAYCam 1-gram     True\n",
       "SAYCam 2-gram     True\n",
       "SAYCam CBOW 0    False\n",
       "Name: 1280, dtype: bool"
      ]
     },
     "metadata": {},
     "output_type": "display_data"
    },
    {
     "name": "stdout",
     "output_type": "stream",
     "text": [
      "this wrong pages went there .\n",
      "this wrong page went there .\n"
     ]
    },
    {
     "data": {
      "text/plain": [
       "SAYCam LSTM 0     True\n",
       "SAYCam 1-gram     True\n",
       "SAYCam 2-gram     True\n",
       "SAYCam CBOW 0    False\n",
       "Name: 1281, dtype: bool"
      ]
     },
     "metadata": {},
     "output_type": "display_data"
    },
    {
     "name": "stdout",
     "output_type": "stream",
     "text": [
      "this wrong pages did not happen .\n",
      "this wrong page did not happen .\n"
     ]
    },
    {
     "data": {
      "text/plain": [
       "SAYCam LSTM 0     True\n",
       "SAYCam 1-gram     True\n",
       "SAYCam 2-gram     True\n",
       "SAYCam CBOW 0    False\n",
       "Name: 1282, dtype: bool"
      ]
     },
     "metadata": {},
     "output_type": "display_data"
    },
    {
     "name": "stdout",
     "output_type": "stream",
     "text": [
      "i saw this wrong pages .\n",
      "i saw this wrong page .\n"
     ]
    },
    {
     "data": {
      "text/plain": [
       "SAYCam LSTM 0     True\n",
       "SAYCam 1-gram     True\n",
       "SAYCam 2-gram     True\n",
       "SAYCam CBOW 0    False\n",
       "Name: 1283, dtype: bool"
      ]
     },
     "metadata": {},
     "output_type": "display_data"
    },
    {
     "name": "stdout",
     "output_type": "stream",
     "text": [
      "look at that wrong pages .\n",
      "look at that wrong page .\n"
     ]
    },
    {
     "data": {
      "text/plain": [
       "SAYCam LSTM 0     True\n",
       "SAYCam 1-gram     True\n",
       "SAYCam 2-gram     True\n",
       "SAYCam CBOW 0    False\n",
       "Name: 1284, dtype: bool"
      ]
     },
     "metadata": {},
     "output_type": "display_data"
    },
    {
     "name": "stdout",
     "output_type": "stream",
     "text": [
      "that wrong pages went there .\n",
      "that wrong page went there .\n"
     ]
    },
    {
     "data": {
      "text/plain": [
       "SAYCam LSTM 0     True\n",
       "SAYCam 1-gram     True\n",
       "SAYCam 2-gram     True\n",
       "SAYCam CBOW 0    False\n",
       "Name: 1285, dtype: bool"
      ]
     },
     "metadata": {},
     "output_type": "display_data"
    },
    {
     "name": "stdout",
     "output_type": "stream",
     "text": [
      "that wrong pages did not happen .\n",
      "that wrong page did not happen .\n"
     ]
    },
    {
     "data": {
      "text/plain": [
       "SAYCam LSTM 0     True\n",
       "SAYCam 1-gram     True\n",
       "SAYCam 2-gram     True\n",
       "SAYCam CBOW 0    False\n",
       "Name: 1286, dtype: bool"
      ]
     },
     "metadata": {},
     "output_type": "display_data"
    },
    {
     "name": "stdout",
     "output_type": "stream",
     "text": [
      "i saw that wrong pages .\n",
      "i saw that wrong page .\n"
     ]
    },
    {
     "data": {
      "text/plain": [
       "SAYCam LSTM 0     True\n",
       "SAYCam 1-gram     True\n",
       "SAYCam 2-gram     True\n",
       "SAYCam CBOW 0    False\n",
       "Name: 1287, dtype: bool"
      ]
     },
     "metadata": {},
     "output_type": "display_data"
    },
    {
     "name": "stdout",
     "output_type": "stream",
     "text": [
      "those red color went there .\n",
      "those red colors went there .\n"
     ]
    },
    {
     "data": {
      "text/plain": [
       "SAYCam LSTM 0     True\n",
       "SAYCam 1-gram    False\n",
       "SAYCam 2-gram    False\n",
       "SAYCam CBOW 0    False\n",
       "Name: 1421, dtype: bool"
      ]
     },
     "metadata": {},
     "output_type": "display_data"
    },
    {
     "name": "stdout",
     "output_type": "stream",
     "text": [
      "those red color did not happen .\n",
      "those red colors did not happen .\n"
     ]
    },
    {
     "data": {
      "text/plain": [
       "SAYCam LSTM 0     True\n",
       "SAYCam 1-gram    False\n",
       "SAYCam 2-gram    False\n",
       "SAYCam CBOW 0    False\n",
       "Name: 1422, dtype: bool"
      ]
     },
     "metadata": {},
     "output_type": "display_data"
    },
    {
     "name": "stdout",
     "output_type": "stream",
     "text": [
      "this wrong fingers went there .\n",
      "this wrong finger went there .\n"
     ]
    },
    {
     "data": {
      "text/plain": [
       "SAYCam LSTM 0     True\n",
       "SAYCam 1-gram    False\n",
       "SAYCam 2-gram    False\n",
       "SAYCam CBOW 0     True\n",
       "Name: 1425, dtype: bool"
      ]
     },
     "metadata": {},
     "output_type": "display_data"
    },
    {
     "name": "stdout",
     "output_type": "stream",
     "text": [
      "this wrong fingers did not happen .\n",
      "this wrong finger did not happen .\n"
     ]
    },
    {
     "data": {
      "text/plain": [
       "SAYCam LSTM 0     True\n",
       "SAYCam 1-gram    False\n",
       "SAYCam 2-gram    False\n",
       "SAYCam CBOW 0     True\n",
       "Name: 1426, dtype: bool"
      ]
     },
     "metadata": {},
     "output_type": "display_data"
    },
    {
     "name": "stdout",
     "output_type": "stream",
     "text": [
      "that wrong fingers went there .\n",
      "that wrong finger went there .\n"
     ]
    },
    {
     "data": {
      "text/plain": [
       "SAYCam LSTM 0     True\n",
       "SAYCam 1-gram    False\n",
       "SAYCam 2-gram    False\n",
       "SAYCam CBOW 0     True\n",
       "Name: 1429, dtype: bool"
      ]
     },
     "metadata": {},
     "output_type": "display_data"
    },
    {
     "name": "stdout",
     "output_type": "stream",
     "text": [
      "that wrong fingers did not happen .\n",
      "that wrong finger did not happen .\n"
     ]
    },
    {
     "data": {
      "text/plain": [
       "SAYCam LSTM 0     True\n",
       "SAYCam 1-gram    False\n",
       "SAYCam 2-gram    False\n",
       "SAYCam CBOW 0     True\n",
       "Name: 1430, dtype: bool"
      ]
     },
     "metadata": {},
     "output_type": "display_data"
    },
    {
     "name": "stdout",
     "output_type": "stream",
     "text": [
      "i saw that wrong fingers .\n",
      "i saw that wrong finger .\n"
     ]
    },
    {
     "data": {
      "text/plain": [
       "SAYCam LSTM 0     True\n",
       "SAYCam 1-gram    False\n",
       "SAYCam 2-gram    False\n",
       "SAYCam CBOW 0    False\n",
       "Name: 1431, dtype: bool"
      ]
     },
     "metadata": {},
     "output_type": "display_data"
    },
    {
     "name": "stdout",
     "output_type": "stream",
     "text": [
      "this summer things went there .\n",
      "this summer thing went there .\n"
     ]
    },
    {
     "data": {
      "text/plain": [
       "SAYCam LSTM 0     True\n",
       "SAYCam 1-gram    False\n",
       "SAYCam 2-gram    False\n",
       "SAYCam CBOW 0    False\n",
       "Name: 1441, dtype: bool"
      ]
     },
     "metadata": {},
     "output_type": "display_data"
    },
    {
     "name": "stdout",
     "output_type": "stream",
     "text": [
      "this summer things did not happen .\n",
      "this summer thing did not happen .\n"
     ]
    },
    {
     "data": {
      "text/plain": [
       "SAYCam LSTM 0     True\n",
       "SAYCam 1-gram    False\n",
       "SAYCam 2-gram    False\n",
       "SAYCam CBOW 0    False\n",
       "Name: 1442, dtype: bool"
      ]
     },
     "metadata": {},
     "output_type": "display_data"
    },
    {
     "name": "stdout",
     "output_type": "stream",
     "text": [
      "look at these summer thing .\n",
      "look at these summer things .\n"
     ]
    },
    {
     "data": {
      "text/plain": [
       "SAYCam LSTM 0     True\n",
       "SAYCam 1-gram     True\n",
       "SAYCam 2-gram     True\n",
       "SAYCam CBOW 0    False\n",
       "Name: 1448, dtype: bool"
      ]
     },
     "metadata": {},
     "output_type": "display_data"
    },
    {
     "name": "stdout",
     "output_type": "stream",
     "text": [
      "i saw these summer thing .\n",
      "i saw these summer things .\n"
     ]
    },
    {
     "data": {
      "text/plain": [
       "SAYCam LSTM 0     True\n",
       "SAYCam 1-gram     True\n",
       "SAYCam 2-gram     True\n",
       "SAYCam CBOW 0    False\n",
       "Name: 1451, dtype: bool"
      ]
     },
     "metadata": {},
     "output_type": "display_data"
    },
    {
     "name": "stdout",
     "output_type": "stream",
     "text": [
      "look at those summer thing .\n",
      "look at those summer things .\n"
     ]
    },
    {
     "data": {
      "text/plain": [
       "SAYCam LSTM 0     True\n",
       "SAYCam 1-gram     True\n",
       "SAYCam 2-gram     True\n",
       "SAYCam CBOW 0    False\n",
       "Name: 1452, dtype: bool"
      ]
     },
     "metadata": {},
     "output_type": "display_data"
    },
    {
     "name": "stdout",
     "output_type": "stream",
     "text": [
      "i saw those summer thing .\n",
      "i saw those summer things .\n"
     ]
    },
    {
     "data": {
      "text/plain": [
       "SAYCam LSTM 0     True\n",
       "SAYCam 1-gram     True\n",
       "SAYCam 2-gram     True\n",
       "SAYCam CBOW 0    False\n",
       "Name: 1455, dtype: bool"
      ]
     },
     "metadata": {},
     "output_type": "display_data"
    },
    {
     "name": "stdout",
     "output_type": "stream",
     "text": [
      "this yellow dogs did not happen .\n",
      "this yellow dog did not happen .\n"
     ]
    },
    {
     "data": {
      "text/plain": [
       "SAYCam LSTM 0     True\n",
       "SAYCam 1-gram     True\n",
       "SAYCam 2-gram     True\n",
       "SAYCam CBOW 0    False\n",
       "Name: 1490, dtype: bool"
      ]
     },
     "metadata": {},
     "output_type": "display_data"
    },
    {
     "name": "stdout",
     "output_type": "stream",
     "text": [
      "this bad toys went there .\n",
      "this bad toy went there .\n"
     ]
    },
    {
     "data": {
      "text/plain": [
       "SAYCam LSTM 0     True\n",
       "SAYCam 1-gram    False\n",
       "SAYCam 2-gram    False\n",
       "SAYCam CBOW 0    False\n",
       "Name: 1537, dtype: bool"
      ]
     },
     "metadata": {},
     "output_type": "display_data"
    },
    {
     "name": "stdout",
     "output_type": "stream",
     "text": [
      "this bad toys did not happen .\n",
      "this bad toy did not happen .\n"
     ]
    },
    {
     "data": {
      "text/plain": [
       "SAYCam LSTM 0     True\n",
       "SAYCam 1-gram    False\n",
       "SAYCam 2-gram    False\n",
       "SAYCam CBOW 0    False\n",
       "Name: 1538, dtype: bool"
      ]
     },
     "metadata": {},
     "output_type": "display_data"
    },
    {
     "name": "stdout",
     "output_type": "stream",
     "text": [
      "i saw this bad toys .\n",
      "i saw this bad toy .\n"
     ]
    },
    {
     "data": {
      "text/plain": [
       "SAYCam LSTM 0     True\n",
       "SAYCam 1-gram    False\n",
       "SAYCam 2-gram    False\n",
       "SAYCam CBOW 0    False\n",
       "Name: 1539, dtype: bool"
      ]
     },
     "metadata": {},
     "output_type": "display_data"
    },
    {
     "name": "stdout",
     "output_type": "stream",
     "text": [
      "these top guy went there .\n",
      "these top guys went there .\n"
     ]
    },
    {
     "data": {
      "text/plain": [
       "SAYCam LSTM 0     True\n",
       "SAYCam 1-gram    False\n",
       "SAYCam 2-gram    False\n",
       "SAYCam CBOW 0     True\n",
       "Name: 1593, dtype: bool"
      ]
     },
     "metadata": {},
     "output_type": "display_data"
    },
    {
     "name": "stdout",
     "output_type": "stream",
     "text": [
      "these top guy did not happen .\n",
      "these top guys did not happen .\n"
     ]
    },
    {
     "data": {
      "text/plain": [
       "SAYCam LSTM 0     True\n",
       "SAYCam 1-gram    False\n",
       "SAYCam 2-gram    False\n",
       "SAYCam CBOW 0     True\n",
       "Name: 1594, dtype: bool"
      ]
     },
     "metadata": {},
     "output_type": "display_data"
    },
    {
     "name": "stdout",
     "output_type": "stream",
     "text": [
      "those top guy went there .\n",
      "those top guys went there .\n"
     ]
    },
    {
     "data": {
      "text/plain": [
       "SAYCam LSTM 0     True\n",
       "SAYCam 1-gram    False\n",
       "SAYCam 2-gram    False\n",
       "SAYCam CBOW 0     True\n",
       "Name: 1597, dtype: bool"
      ]
     },
     "metadata": {},
     "output_type": "display_data"
    },
    {
     "name": "stdout",
     "output_type": "stream",
     "text": [
      "those top guy did not happen .\n",
      "those top guys did not happen .\n"
     ]
    },
    {
     "data": {
      "text/plain": [
       "SAYCam LSTM 0     True\n",
       "SAYCam 1-gram    False\n",
       "SAYCam 2-gram    False\n",
       "SAYCam CBOW 0     True\n",
       "Name: 1598, dtype: bool"
      ]
     },
     "metadata": {},
     "output_type": "display_data"
    },
    {
     "name": "stdout",
     "output_type": "stream",
     "text": [
      "look at these white arm .\n",
      "look at these white arms .\n"
     ]
    },
    {
     "data": {
      "text/plain": [
       "SAYCam LSTM 0     True\n",
       "SAYCam 1-gram    False\n",
       "SAYCam 2-gram    False\n",
       "SAYCam CBOW 0    False\n",
       "Name: 1672, dtype: bool"
      ]
     },
     "metadata": {},
     "output_type": "display_data"
    },
    {
     "name": "stdout",
     "output_type": "stream",
     "text": [
      "look at those white arm .\n",
      "look at those white arms .\n"
     ]
    },
    {
     "data": {
      "text/plain": [
       "SAYCam LSTM 0     True\n",
       "SAYCam 1-gram    False\n",
       "SAYCam 2-gram    False\n",
       "SAYCam CBOW 0    False\n",
       "Name: 1676, dtype: bool"
      ]
     },
     "metadata": {},
     "output_type": "display_data"
    },
    {
     "name": "stdout",
     "output_type": "stream",
     "text": [
      "those white arm went there .\n",
      "those white arms went there .\n"
     ]
    },
    {
     "data": {
      "text/plain": [
       "SAYCam LSTM 0     True\n",
       "SAYCam 1-gram    False\n",
       "SAYCam 2-gram    False\n",
       "SAYCam CBOW 0    False\n",
       "Name: 1677, dtype: bool"
      ]
     },
     "metadata": {},
     "output_type": "display_data"
    },
    {
     "name": "stdout",
     "output_type": "stream",
     "text": [
      "look at these close girl .\n",
      "look at these close girls .\n"
     ]
    },
    {
     "data": {
      "text/plain": [
       "SAYCam LSTM 0     True\n",
       "SAYCam 1-gram    False\n",
       "SAYCam 2-gram    False\n",
       "SAYCam CBOW 0    False\n",
       "Name: 1688, dtype: bool"
      ]
     },
     "metadata": {},
     "output_type": "display_data"
    },
    {
     "name": "stdout",
     "output_type": "stream",
     "text": [
      "look at those close girl .\n",
      "look at those close girls .\n"
     ]
    },
    {
     "data": {
      "text/plain": [
       "SAYCam LSTM 0     True\n",
       "SAYCam 1-gram    False\n",
       "SAYCam 2-gram    False\n",
       "SAYCam CBOW 0    False\n",
       "Name: 1692, dtype: bool"
      ]
     },
     "metadata": {},
     "output_type": "display_data"
    },
    {
     "name": "stdout",
     "output_type": "stream",
     "text": [
      "i saw those close girl .\n",
      "i saw those close girls .\n"
     ]
    },
    {
     "data": {
      "text/plain": [
       "SAYCam LSTM 0     True\n",
       "SAYCam 1-gram    False\n",
       "SAYCam 2-gram    False\n",
       "SAYCam CBOW 0    False\n",
       "Name: 1695, dtype: bool"
      ]
     },
     "metadata": {},
     "output_type": "display_data"
    },
    {
     "name": "stdout",
     "output_type": "stream",
     "text": [
      "this hard arms went there .\n",
      "this hard arm went there .\n"
     ]
    },
    {
     "data": {
      "text/plain": [
       "SAYCam LSTM 0     True\n",
       "SAYCam 1-gram     True\n",
       "SAYCam 2-gram     True\n",
       "SAYCam CBOW 0    False\n",
       "Name: 1697, dtype: bool"
      ]
     },
     "metadata": {},
     "output_type": "display_data"
    },
    {
     "name": "stdout",
     "output_type": "stream",
     "text": [
      "this hard arms did not happen .\n",
      "this hard arm did not happen .\n"
     ]
    },
    {
     "data": {
      "text/plain": [
       "SAYCam LSTM 0     True\n",
       "SAYCam 1-gram     True\n",
       "SAYCam 2-gram     True\n",
       "SAYCam CBOW 0    False\n",
       "Name: 1698, dtype: bool"
      ]
     },
     "metadata": {},
     "output_type": "display_data"
    },
    {
     "name": "stdout",
     "output_type": "stream",
     "text": [
      "i saw this hard arms .\n",
      "i saw this hard arm .\n"
     ]
    },
    {
     "data": {
      "text/plain": [
       "SAYCam LSTM 0     True\n",
       "SAYCam 1-gram     True\n",
       "SAYCam 2-gram     True\n",
       "SAYCam CBOW 0    False\n",
       "Name: 1699, dtype: bool"
      ]
     },
     "metadata": {},
     "output_type": "display_data"
    },
    {
     "name": "stdout",
     "output_type": "stream",
     "text": [
      "that hard arms went there .\n",
      "that hard arm went there .\n"
     ]
    },
    {
     "data": {
      "text/plain": [
       "SAYCam LSTM 0     True\n",
       "SAYCam 1-gram     True\n",
       "SAYCam 2-gram     True\n",
       "SAYCam CBOW 0    False\n",
       "Name: 1701, dtype: bool"
      ]
     },
     "metadata": {},
     "output_type": "display_data"
    },
    {
     "name": "stdout",
     "output_type": "stream",
     "text": [
      "that hard arms did not happen .\n",
      "that hard arm did not happen .\n"
     ]
    },
    {
     "data": {
      "text/plain": [
       "SAYCam LSTM 0     True\n",
       "SAYCam 1-gram     True\n",
       "SAYCam 2-gram     True\n",
       "SAYCam CBOW 0    False\n",
       "Name: 1702, dtype: bool"
      ]
     },
     "metadata": {},
     "output_type": "display_data"
    },
    {
     "name": "stdout",
     "output_type": "stream",
     "text": [
      "i saw that hard arms .\n",
      "i saw that hard arm .\n"
     ]
    },
    {
     "data": {
      "text/plain": [
       "SAYCam LSTM 0     True\n",
       "SAYCam 1-gram     True\n",
       "SAYCam 2-gram     True\n",
       "SAYCam CBOW 0    False\n",
       "Name: 1703, dtype: bool"
      ]
     },
     "metadata": {},
     "output_type": "display_data"
    },
    {
     "name": "stdout",
     "output_type": "stream",
     "text": [
      "look at these hard arm .\n",
      "look at these hard arms .\n"
     ]
    },
    {
     "data": {
      "text/plain": [
       "SAYCam LSTM 0     True\n",
       "SAYCam 1-gram    False\n",
       "SAYCam 2-gram    False\n",
       "SAYCam CBOW 0     True\n",
       "Name: 1704, dtype: bool"
      ]
     },
     "metadata": {},
     "output_type": "display_data"
    },
    {
     "name": "stdout",
     "output_type": "stream",
     "text": [
      "look at those hard arm .\n",
      "look at those hard arms .\n"
     ]
    },
    {
     "data": {
      "text/plain": [
       "SAYCam LSTM 0     True\n",
       "SAYCam 1-gram    False\n",
       "SAYCam 2-gram    False\n",
       "SAYCam CBOW 0     True\n",
       "Name: 1708, dtype: bool"
      ]
     },
     "metadata": {},
     "output_type": "display_data"
    },
    {
     "name": "stdout",
     "output_type": "stream",
     "text": [
      "those hard arm went there .\n",
      "those hard arms went there .\n"
     ]
    },
    {
     "data": {
      "text/plain": [
       "SAYCam LSTM 0     True\n",
       "SAYCam 1-gram    False\n",
       "SAYCam 2-gram    False\n",
       "SAYCam CBOW 0    False\n",
       "Name: 1709, dtype: bool"
      ]
     },
     "metadata": {},
     "output_type": "display_data"
    },
    {
     "name": "stdout",
     "output_type": "stream",
     "text": [
      "this hard babies did not happen .\n",
      "this hard baby did not happen .\n"
     ]
    },
    {
     "data": {
      "text/plain": [
       "SAYCam LSTM 0     True\n",
       "SAYCam 1-gram     True\n",
       "SAYCam 2-gram     True\n",
       "SAYCam CBOW 0    False\n",
       "Name: 1730, dtype: bool"
      ]
     },
     "metadata": {},
     "output_type": "display_data"
    },
    {
     "name": "stdout",
     "output_type": "stream",
     "text": [
      "that hard babies went there .\n",
      "that hard baby went there .\n"
     ]
    },
    {
     "data": {
      "text/plain": [
       "SAYCam LSTM 0     True\n",
       "SAYCam 1-gram     True\n",
       "SAYCam 2-gram     True\n",
       "SAYCam CBOW 0    False\n",
       "Name: 1733, dtype: bool"
      ]
     },
     "metadata": {},
     "output_type": "display_data"
    },
    {
     "name": "stdout",
     "output_type": "stream",
     "text": [
      "that hard babies did not happen .\n",
      "that hard baby did not happen .\n"
     ]
    },
    {
     "data": {
      "text/plain": [
       "SAYCam LSTM 0     True\n",
       "SAYCam 1-gram     True\n",
       "SAYCam 2-gram     True\n",
       "SAYCam CBOW 0    False\n",
       "Name: 1734, dtype: bool"
      ]
     },
     "metadata": {},
     "output_type": "display_data"
    },
    {
     "name": "stdout",
     "output_type": "stream",
     "text": [
      "look at these hard baby .\n",
      "look at these hard babies .\n"
     ]
    },
    {
     "data": {
      "text/plain": [
       "SAYCam LSTM 0     True\n",
       "SAYCam 1-gram    False\n",
       "SAYCam 2-gram    False\n",
       "SAYCam CBOW 0     True\n",
       "Name: 1736, dtype: bool"
      ]
     },
     "metadata": {},
     "output_type": "display_data"
    },
    {
     "name": "stdout",
     "output_type": "stream",
     "text": [
      "these hard baby went there .\n",
      "these hard babies went there .\n"
     ]
    },
    {
     "data": {
      "text/plain": [
       "SAYCam LSTM 0     True\n",
       "SAYCam 1-gram    False\n",
       "SAYCam 2-gram    False\n",
       "SAYCam CBOW 0     True\n",
       "Name: 1737, dtype: bool"
      ]
     },
     "metadata": {},
     "output_type": "display_data"
    },
    {
     "name": "stdout",
     "output_type": "stream",
     "text": [
      "these hard baby did not happen .\n",
      "these hard babies did not happen .\n"
     ]
    },
    {
     "data": {
      "text/plain": [
       "SAYCam LSTM 0     True\n",
       "SAYCam 1-gram    False\n",
       "SAYCam 2-gram    False\n",
       "SAYCam CBOW 0     True\n",
       "Name: 1738, dtype: bool"
      ]
     },
     "metadata": {},
     "output_type": "display_data"
    },
    {
     "name": "stdout",
     "output_type": "stream",
     "text": [
      "i saw these hard baby .\n",
      "i saw these hard babies .\n"
     ]
    },
    {
     "data": {
      "text/plain": [
       "SAYCam LSTM 0     True\n",
       "SAYCam 1-gram    False\n",
       "SAYCam 2-gram    False\n",
       "SAYCam CBOW 0     True\n",
       "Name: 1739, dtype: bool"
      ]
     },
     "metadata": {},
     "output_type": "display_data"
    },
    {
     "name": "stdout",
     "output_type": "stream",
     "text": [
      "look at those hard baby .\n",
      "look at those hard babies .\n"
     ]
    },
    {
     "data": {
      "text/plain": [
       "SAYCam LSTM 0     True\n",
       "SAYCam 1-gram    False\n",
       "SAYCam 2-gram    False\n",
       "SAYCam CBOW 0     True\n",
       "Name: 1740, dtype: bool"
      ]
     },
     "metadata": {},
     "output_type": "display_data"
    },
    {
     "name": "stdout",
     "output_type": "stream",
     "text": [
      "those hard baby went there .\n",
      "those hard babies went there .\n"
     ]
    },
    {
     "data": {
      "text/plain": [
       "SAYCam LSTM 0     True\n",
       "SAYCam 1-gram    False\n",
       "SAYCam 2-gram    False\n",
       "SAYCam CBOW 0     True\n",
       "Name: 1741, dtype: bool"
      ]
     },
     "metadata": {},
     "output_type": "display_data"
    },
    {
     "name": "stdout",
     "output_type": "stream",
     "text": [
      "those hard baby did not happen .\n",
      "those hard babies did not happen .\n"
     ]
    },
    {
     "data": {
      "text/plain": [
       "SAYCam LSTM 0     True\n",
       "SAYCam 1-gram    False\n",
       "SAYCam 2-gram    False\n",
       "SAYCam CBOW 0     True\n",
       "Name: 1742, dtype: bool"
      ]
     },
     "metadata": {},
     "output_type": "display_data"
    },
    {
     "name": "stdout",
     "output_type": "stream",
     "text": [
      "i saw those hard baby .\n",
      "i saw those hard babies .\n"
     ]
    },
    {
     "data": {
      "text/plain": [
       "SAYCam LSTM 0     True\n",
       "SAYCam 1-gram    False\n",
       "SAYCam 2-gram    False\n",
       "SAYCam CBOW 0     True\n",
       "Name: 1743, dtype: bool"
      ]
     },
     "metadata": {},
     "output_type": "display_data"
    },
    {
     "name": "stdout",
     "output_type": "stream",
     "text": [
      "look at this white minutes .\n",
      "look at this white minute .\n"
     ]
    },
    {
     "data": {
      "text/plain": [
       "SAYCam LSTM 0     True\n",
       "SAYCam 1-gram    False\n",
       "SAYCam 2-gram    False\n",
       "SAYCam CBOW 0    False\n",
       "Name: 1776, dtype: bool"
      ]
     },
     "metadata": {},
     "output_type": "display_data"
    },
    {
     "name": "stdout",
     "output_type": "stream",
     "text": [
      "this white minutes went there .\n",
      "this white minute went there .\n"
     ]
    },
    {
     "data": {
      "text/plain": [
       "SAYCam LSTM 0     True\n",
       "SAYCam 1-gram    False\n",
       "SAYCam 2-gram    False\n",
       "SAYCam CBOW 0    False\n",
       "Name: 1777, dtype: bool"
      ]
     },
     "metadata": {},
     "output_type": "display_data"
    },
    {
     "name": "stdout",
     "output_type": "stream",
     "text": [
      "this white minutes did not happen .\n",
      "this white minute did not happen .\n"
     ]
    },
    {
     "data": {
      "text/plain": [
       "SAYCam LSTM 0     True\n",
       "SAYCam 1-gram    False\n",
       "SAYCam 2-gram    False\n",
       "SAYCam CBOW 0    False\n",
       "Name: 1778, dtype: bool"
      ]
     },
     "metadata": {},
     "output_type": "display_data"
    },
    {
     "name": "stdout",
     "output_type": "stream",
     "text": [
      "i saw this white minutes .\n",
      "i saw this white minute .\n"
     ]
    },
    {
     "data": {
      "text/plain": [
       "SAYCam LSTM 0     True\n",
       "SAYCam 1-gram    False\n",
       "SAYCam 2-gram    False\n",
       "SAYCam CBOW 0    False\n",
       "Name: 1779, dtype: bool"
      ]
     },
     "metadata": {},
     "output_type": "display_data"
    },
    {
     "name": "stdout",
     "output_type": "stream",
     "text": [
      "look at that white minutes .\n",
      "look at that white minute .\n"
     ]
    },
    {
     "data": {
      "text/plain": [
       "SAYCam LSTM 0     True\n",
       "SAYCam 1-gram    False\n",
       "SAYCam 2-gram    False\n",
       "SAYCam CBOW 0    False\n",
       "Name: 1780, dtype: bool"
      ]
     },
     "metadata": {},
     "output_type": "display_data"
    },
    {
     "name": "stdout",
     "output_type": "stream",
     "text": [
      "that white minutes went there .\n",
      "that white minute went there .\n"
     ]
    },
    {
     "data": {
      "text/plain": [
       "SAYCam LSTM 0     True\n",
       "SAYCam 1-gram    False\n",
       "SAYCam 2-gram    False\n",
       "SAYCam CBOW 0     True\n",
       "Name: 1781, dtype: bool"
      ]
     },
     "metadata": {},
     "output_type": "display_data"
    },
    {
     "name": "stdout",
     "output_type": "stream",
     "text": [
      "that white minutes did not happen .\n",
      "that white minute did not happen .\n"
     ]
    },
    {
     "data": {
      "text/plain": [
       "SAYCam LSTM 0     True\n",
       "SAYCam 1-gram    False\n",
       "SAYCam 2-gram    False\n",
       "SAYCam CBOW 0    False\n",
       "Name: 1782, dtype: bool"
      ]
     },
     "metadata": {},
     "output_type": "display_data"
    },
    {
     "name": "stdout",
     "output_type": "stream",
     "text": [
      "i saw that white minutes .\n",
      "i saw that white minute .\n"
     ]
    },
    {
     "data": {
      "text/plain": [
       "SAYCam LSTM 0     True\n",
       "SAYCam 1-gram    False\n",
       "SAYCam 2-gram    False\n",
       "SAYCam CBOW 0    False\n",
       "Name: 1783, dtype: bool"
      ]
     },
     "metadata": {},
     "output_type": "display_data"
    },
    {
     "name": "stdout",
     "output_type": "stream",
     "text": [
      "this full cars went there .\n",
      "this full car went there .\n"
     ]
    },
    {
     "data": {
      "text/plain": [
       "SAYCam LSTM 0     True\n",
       "SAYCam 1-gram     True\n",
       "SAYCam 2-gram     True\n",
       "SAYCam CBOW 0    False\n",
       "Name: 1809, dtype: bool"
      ]
     },
     "metadata": {},
     "output_type": "display_data"
    },
    {
     "name": "stdout",
     "output_type": "stream",
     "text": [
      "this full cars did not happen .\n",
      "this full car did not happen .\n"
     ]
    },
    {
     "data": {
      "text/plain": [
       "SAYCam LSTM 0     True\n",
       "SAYCam 1-gram     True\n",
       "SAYCam 2-gram     True\n",
       "SAYCam CBOW 0    False\n",
       "Name: 1810, dtype: bool"
      ]
     },
     "metadata": {},
     "output_type": "display_data"
    },
    {
     "name": "stdout",
     "output_type": "stream",
     "text": [
      "i saw this full cars .\n",
      "i saw this full car .\n"
     ]
    },
    {
     "data": {
      "text/plain": [
       "SAYCam LSTM 0     True\n",
       "SAYCam 1-gram     True\n",
       "SAYCam 2-gram     True\n",
       "SAYCam CBOW 0    False\n",
       "Name: 1811, dtype: bool"
      ]
     },
     "metadata": {},
     "output_type": "display_data"
    },
    {
     "name": "stdout",
     "output_type": "stream",
     "text": [
      "that full cars went there .\n",
      "that full car went there .\n"
     ]
    },
    {
     "data": {
      "text/plain": [
       "SAYCam LSTM 0     True\n",
       "SAYCam 1-gram     True\n",
       "SAYCam 2-gram     True\n",
       "SAYCam CBOW 0    False\n",
       "Name: 1813, dtype: bool"
      ]
     },
     "metadata": {},
     "output_type": "display_data"
    },
    {
     "name": "stdout",
     "output_type": "stream",
     "text": [
      "that full cars did not happen .\n",
      "that full car did not happen .\n"
     ]
    },
    {
     "data": {
      "text/plain": [
       "SAYCam LSTM 0     True\n",
       "SAYCam 1-gram     True\n",
       "SAYCam 2-gram     True\n",
       "SAYCam CBOW 0    False\n",
       "Name: 1814, dtype: bool"
      ]
     },
     "metadata": {},
     "output_type": "display_data"
    },
    {
     "name": "stdout",
     "output_type": "stream",
     "text": [
      "look at these full car .\n",
      "look at these full cars .\n"
     ]
    },
    {
     "data": {
      "text/plain": [
       "SAYCam LSTM 0     True\n",
       "SAYCam 1-gram    False\n",
       "SAYCam 2-gram    False\n",
       "SAYCam CBOW 0     True\n",
       "Name: 1816, dtype: bool"
      ]
     },
     "metadata": {},
     "output_type": "display_data"
    },
    {
     "name": "stdout",
     "output_type": "stream",
     "text": [
      "these full car did not happen .\n",
      "these full cars did not happen .\n"
     ]
    },
    {
     "data": {
      "text/plain": [
       "SAYCam LSTM 0     True\n",
       "SAYCam 1-gram    False\n",
       "SAYCam 2-gram    False\n",
       "SAYCam CBOW 0     True\n",
       "Name: 1818, dtype: bool"
      ]
     },
     "metadata": {},
     "output_type": "display_data"
    },
    {
     "name": "stdout",
     "output_type": "stream",
     "text": [
      "i saw these full car .\n",
      "i saw these full cars .\n"
     ]
    },
    {
     "data": {
      "text/plain": [
       "SAYCam LSTM 0     True\n",
       "SAYCam 1-gram    False\n",
       "SAYCam 2-gram    False\n",
       "SAYCam CBOW 0     True\n",
       "Name: 1819, dtype: bool"
      ]
     },
     "metadata": {},
     "output_type": "display_data"
    },
    {
     "name": "stdout",
     "output_type": "stream",
     "text": [
      "look at those full car .\n",
      "look at those full cars .\n"
     ]
    },
    {
     "data": {
      "text/plain": [
       "SAYCam LSTM 0     True\n",
       "SAYCam 1-gram    False\n",
       "SAYCam 2-gram    False\n",
       "SAYCam CBOW 0    False\n",
       "Name: 1820, dtype: bool"
      ]
     },
     "metadata": {},
     "output_type": "display_data"
    },
    {
     "name": "stdout",
     "output_type": "stream",
     "text": [
      "those full car went there .\n",
      "those full cars went there .\n"
     ]
    },
    {
     "data": {
      "text/plain": [
       "SAYCam LSTM 0     True\n",
       "SAYCam 1-gram    False\n",
       "SAYCam 2-gram    False\n",
       "SAYCam CBOW 0     True\n",
       "Name: 1821, dtype: bool"
      ]
     },
     "metadata": {},
     "output_type": "display_data"
    },
    {
     "name": "stdout",
     "output_type": "stream",
     "text": [
      "those full car did not happen .\n",
      "those full cars did not happen .\n"
     ]
    },
    {
     "data": {
      "text/plain": [
       "SAYCam LSTM 0     True\n",
       "SAYCam 1-gram    False\n",
       "SAYCam 2-gram    False\n",
       "SAYCam CBOW 0    False\n",
       "Name: 1822, dtype: bool"
      ]
     },
     "metadata": {},
     "output_type": "display_data"
    },
    {
     "name": "stdout",
     "output_type": "stream",
     "text": [
      "i saw those full car .\n",
      "i saw those full cars .\n"
     ]
    },
    {
     "data": {
      "text/plain": [
       "SAYCam LSTM 0     True\n",
       "SAYCam 1-gram    False\n",
       "SAYCam 2-gram    False\n",
       "SAYCam CBOW 0    False\n",
       "Name: 1823, dtype: bool"
      ]
     },
     "metadata": {},
     "output_type": "display_data"
    },
    {
     "name": "stdout",
     "output_type": "stream",
     "text": [
      "look at these full baby .\n",
      "look at these full babies .\n"
     ]
    },
    {
     "data": {
      "text/plain": [
       "SAYCam LSTM 0     True\n",
       "SAYCam 1-gram    False\n",
       "SAYCam 2-gram    False\n",
       "SAYCam CBOW 0    False\n",
       "Name: 1864, dtype: bool"
      ]
     },
     "metadata": {},
     "output_type": "display_data"
    },
    {
     "name": "stdout",
     "output_type": "stream",
     "text": [
      "these full baby went there .\n",
      "these full babies went there .\n"
     ]
    },
    {
     "data": {
      "text/plain": [
       "SAYCam LSTM 0     True\n",
       "SAYCam 1-gram    False\n",
       "SAYCam 2-gram    False\n",
       "SAYCam CBOW 0    False\n",
       "Name: 1865, dtype: bool"
      ]
     },
     "metadata": {},
     "output_type": "display_data"
    },
    {
     "name": "stdout",
     "output_type": "stream",
     "text": [
      "these full baby did not happen .\n",
      "these full babies did not happen .\n"
     ]
    },
    {
     "data": {
      "text/plain": [
       "SAYCam LSTM 0     True\n",
       "SAYCam 1-gram    False\n",
       "SAYCam 2-gram    False\n",
       "SAYCam CBOW 0    False\n",
       "Name: 1866, dtype: bool"
      ]
     },
     "metadata": {},
     "output_type": "display_data"
    },
    {
     "name": "stdout",
     "output_type": "stream",
     "text": [
      "i saw these full baby .\n",
      "i saw these full babies .\n"
     ]
    },
    {
     "data": {
      "text/plain": [
       "SAYCam LSTM 0     True\n",
       "SAYCam 1-gram    False\n",
       "SAYCam 2-gram    False\n",
       "SAYCam CBOW 0    False\n",
       "Name: 1867, dtype: bool"
      ]
     },
     "metadata": {},
     "output_type": "display_data"
    },
    {
     "name": "stdout",
     "output_type": "stream",
     "text": [
      "look at those full baby .\n",
      "look at those full babies .\n"
     ]
    },
    {
     "data": {
      "text/plain": [
       "SAYCam LSTM 0     True\n",
       "SAYCam 1-gram    False\n",
       "SAYCam 2-gram    False\n",
       "SAYCam CBOW 0    False\n",
       "Name: 1868, dtype: bool"
      ]
     },
     "metadata": {},
     "output_type": "display_data"
    },
    {
     "name": "stdout",
     "output_type": "stream",
     "text": [
      "those full baby went there .\n",
      "those full babies went there .\n"
     ]
    },
    {
     "data": {
      "text/plain": [
       "SAYCam LSTM 0     True\n",
       "SAYCam 1-gram    False\n",
       "SAYCam 2-gram    False\n",
       "SAYCam CBOW 0    False\n",
       "Name: 1869, dtype: bool"
      ]
     },
     "metadata": {},
     "output_type": "display_data"
    },
    {
     "name": "stdout",
     "output_type": "stream",
     "text": [
      "those full baby did not happen .\n",
      "those full babies did not happen .\n"
     ]
    },
    {
     "data": {
      "text/plain": [
       "SAYCam LSTM 0     True\n",
       "SAYCam 1-gram    False\n",
       "SAYCam 2-gram    False\n",
       "SAYCam CBOW 0    False\n",
       "Name: 1870, dtype: bool"
      ]
     },
     "metadata": {},
     "output_type": "display_data"
    },
    {
     "name": "stdout",
     "output_type": "stream",
     "text": [
      "i saw those full baby .\n",
      "i saw those full babies .\n"
     ]
    },
    {
     "data": {
      "text/plain": [
       "SAYCam LSTM 0     True\n",
       "SAYCam 1-gram    False\n",
       "SAYCam 2-gram    False\n",
       "SAYCam CBOW 0    False\n",
       "Name: 1871, dtype: bool"
      ]
     },
     "metadata": {},
     "output_type": "display_data"
    },
    {
     "name": "stdout",
     "output_type": "stream",
     "text": [
      "this white birds went there .\n",
      "this white bird went there .\n"
     ]
    },
    {
     "data": {
      "text/plain": [
       "SAYCam LSTM 0     True\n",
       "SAYCam 1-gram    False\n",
       "SAYCam 2-gram    False\n",
       "SAYCam CBOW 0     True\n",
       "Name: 1937, dtype: bool"
      ]
     },
     "metadata": {},
     "output_type": "display_data"
    },
    {
     "name": "stdout",
     "output_type": "stream",
     "text": [
      "this white birds did not happen .\n",
      "this white bird did not happen .\n"
     ]
    },
    {
     "data": {
      "text/plain": [
       "SAYCam LSTM 0     True\n",
       "SAYCam 1-gram    False\n",
       "SAYCam 2-gram    False\n",
       "SAYCam CBOW 0     True\n",
       "Name: 1938, dtype: bool"
      ]
     },
     "metadata": {},
     "output_type": "display_data"
    },
    {
     "name": "stdout",
     "output_type": "stream",
     "text": [
      "i saw this white birds .\n",
      "i saw this white bird .\n"
     ]
    },
    {
     "data": {
      "text/plain": [
       "SAYCam LSTM 0     True\n",
       "SAYCam 1-gram    False\n",
       "SAYCam 2-gram    False\n",
       "SAYCam CBOW 0     True\n",
       "Name: 1939, dtype: bool"
      ]
     },
     "metadata": {},
     "output_type": "display_data"
    },
    {
     "name": "stdout",
     "output_type": "stream",
     "text": [
      "look at that white birds .\n",
      "look at that white bird .\n"
     ]
    },
    {
     "data": {
      "text/plain": [
       "SAYCam LSTM 0     True\n",
       "SAYCam 1-gram    False\n",
       "SAYCam 2-gram    False\n",
       "SAYCam CBOW 0    False\n",
       "Name: 1940, dtype: bool"
      ]
     },
     "metadata": {},
     "output_type": "display_data"
    },
    {
     "name": "stdout",
     "output_type": "stream",
     "text": [
      "that white birds went there .\n",
      "that white bird went there .\n"
     ]
    },
    {
     "data": {
      "text/plain": [
       "SAYCam LSTM 0     True\n",
       "SAYCam 1-gram    False\n",
       "SAYCam 2-gram    False\n",
       "SAYCam CBOW 0     True\n",
       "Name: 1941, dtype: bool"
      ]
     },
     "metadata": {},
     "output_type": "display_data"
    },
    {
     "name": "stdout",
     "output_type": "stream",
     "text": [
      "that white birds did not happen .\n",
      "that white bird did not happen .\n"
     ]
    },
    {
     "data": {
      "text/plain": [
       "SAYCam LSTM 0     True\n",
       "SAYCam 1-gram    False\n",
       "SAYCam 2-gram    False\n",
       "SAYCam CBOW 0    False\n",
       "Name: 1942, dtype: bool"
      ]
     },
     "metadata": {},
     "output_type": "display_data"
    },
    {
     "name": "stdout",
     "output_type": "stream",
     "text": [
      "i saw that white birds .\n",
      "i saw that white bird .\n"
     ]
    },
    {
     "data": {
      "text/plain": [
       "SAYCam LSTM 0     True\n",
       "SAYCam 1-gram    False\n",
       "SAYCam 2-gram    False\n",
       "SAYCam CBOW 0    False\n",
       "Name: 1943, dtype: bool"
      ]
     },
     "metadata": {},
     "output_type": "display_data"
    },
    {
     "name": "stdout",
     "output_type": "stream",
     "text": [
      "look at these white bird .\n",
      "look at these white birds .\n"
     ]
    },
    {
     "data": {
      "text/plain": [
       "SAYCam LSTM 0     True\n",
       "SAYCam 1-gram     True\n",
       "SAYCam 2-gram     True\n",
       "SAYCam CBOW 0    False\n",
       "Name: 1944, dtype: bool"
      ]
     },
     "metadata": {},
     "output_type": "display_data"
    },
    {
     "name": "stdout",
     "output_type": "stream",
     "text": [
      "these white bird went there .\n",
      "these white birds went there .\n"
     ]
    },
    {
     "data": {
      "text/plain": [
       "SAYCam LSTM 0     True\n",
       "SAYCam 1-gram     True\n",
       "SAYCam 2-gram     True\n",
       "SAYCam CBOW 0    False\n",
       "Name: 1945, dtype: bool"
      ]
     },
     "metadata": {},
     "output_type": "display_data"
    },
    {
     "name": "stdout",
     "output_type": "stream",
     "text": [
      "these white bird did not happen .\n",
      "these white birds did not happen .\n"
     ]
    },
    {
     "data": {
      "text/plain": [
       "SAYCam LSTM 0     True\n",
       "SAYCam 1-gram     True\n",
       "SAYCam 2-gram     True\n",
       "SAYCam CBOW 0    False\n",
       "Name: 1946, dtype: bool"
      ]
     },
     "metadata": {},
     "output_type": "display_data"
    },
    {
     "name": "stdout",
     "output_type": "stream",
     "text": [
      "i saw these white bird .\n",
      "i saw these white birds .\n"
     ]
    },
    {
     "data": {
      "text/plain": [
       "SAYCam LSTM 0     True\n",
       "SAYCam 1-gram     True\n",
       "SAYCam 2-gram     True\n",
       "SAYCam CBOW 0    False\n",
       "Name: 1947, dtype: bool"
      ]
     },
     "metadata": {},
     "output_type": "display_data"
    },
    {
     "name": "stdout",
     "output_type": "stream",
     "text": [
      "look at those white bird .\n",
      "look at those white birds .\n"
     ]
    },
    {
     "data": {
      "text/plain": [
       "SAYCam LSTM 0     True\n",
       "SAYCam 1-gram     True\n",
       "SAYCam 2-gram     True\n",
       "SAYCam CBOW 0    False\n",
       "Name: 1948, dtype: bool"
      ]
     },
     "metadata": {},
     "output_type": "display_data"
    },
    {
     "name": "stdout",
     "output_type": "stream",
     "text": [
      "those white bird went there .\n",
      "those white birds went there .\n"
     ]
    },
    {
     "data": {
      "text/plain": [
       "SAYCam LSTM 0     True\n",
       "SAYCam 1-gram     True\n",
       "SAYCam 2-gram     True\n",
       "SAYCam CBOW 0    False\n",
       "Name: 1949, dtype: bool"
      ]
     },
     "metadata": {},
     "output_type": "display_data"
    },
    {
     "name": "stdout",
     "output_type": "stream",
     "text": [
      "those white bird did not happen .\n",
      "those white birds did not happen .\n"
     ]
    },
    {
     "data": {
      "text/plain": [
       "SAYCam LSTM 0     True\n",
       "SAYCam 1-gram     True\n",
       "SAYCam 2-gram     True\n",
       "SAYCam CBOW 0    False\n",
       "Name: 1950, dtype: bool"
      ]
     },
     "metadata": {},
     "output_type": "display_data"
    },
    {
     "name": "stdout",
     "output_type": "stream",
     "text": [
      "i saw those white bird .\n",
      "i saw those white birds .\n"
     ]
    },
    {
     "data": {
      "text/plain": [
       "SAYCam LSTM 0     True\n",
       "SAYCam 1-gram     True\n",
       "SAYCam 2-gram     True\n",
       "SAYCam CBOW 0    False\n",
       "Name: 1951, dtype: bool"
      ]
     },
     "metadata": {},
     "output_type": "display_data"
    },
    {
     "name": "stdout",
     "output_type": "stream",
     "text": [
      "comparing agreement_subject_verb-across_relative_clause (532 / 2000.0 = 26.60%):\n"
     ]
    },
    {
     "data": {
      "text/plain": [
       "model\n",
       "BabyBERTa_AO-CHILDES    0.812030\n",
       "SAYCam 1-gram           0.500000\n",
       "SAYCam 2-gram           0.500000\n",
       "SAYCam CBOW 0           0.500000\n",
       "SAYCam LSTM 0           0.545113\n",
       "Name: agreement_subject_verb-across_relative_clause, dtype: float64"
      ]
     },
     "metadata": {},
     "output_type": "display_data"
    },
    {
     "name": "stdout",
     "output_type": "stream",
     "text": [
      "the book that were there are poor .\n",
      "the books that were there are poor .\n"
     ]
    },
    {
     "data": {
      "text/plain": [
       "SAYCam LSTM 0     True\n",
       "SAYCam 1-gram    False\n",
       "SAYCam 2-gram    False\n",
       "SAYCam CBOW 0    False\n",
       "Name: 13, dtype: bool"
      ]
     },
     "metadata": {},
     "output_type": "display_data"
    },
    {
     "name": "stdout",
     "output_type": "stream",
     "text": [
      "the book that i like were poor .\n",
      "the books that i like were poor .\n"
     ]
    },
    {
     "data": {
      "text/plain": [
       "SAYCam LSTM 0     True\n",
       "SAYCam 1-gram    False\n",
       "SAYCam 2-gram    False\n",
       "SAYCam CBOW 0    False\n",
       "Name: 14, dtype: bool"
      ]
     },
     "metadata": {},
     "output_type": "display_data"
    },
    {
     "name": "stdout",
     "output_type": "stream",
     "text": [
      "the book that he likes were poor .\n",
      "the books that he likes were poor .\n"
     ]
    },
    {
     "data": {
      "text/plain": [
       "SAYCam LSTM 0     True\n",
       "SAYCam 1-gram    False\n",
       "SAYCam 2-gram    False\n",
       "SAYCam CBOW 0    False\n",
       "Name: 17, dtype: bool"
      ]
     },
     "metadata": {},
     "output_type": "display_data"
    },
    {
     "name": "stdout",
     "output_type": "stream",
     "text": [
      "the book that it likes were poor .\n",
      "the books that it likes were poor .\n"
     ]
    },
    {
     "data": {
      "text/plain": [
       "SAYCam LSTM 0     True\n",
       "SAYCam 1-gram    False\n",
       "SAYCam 2-gram    False\n",
       "SAYCam CBOW 0    False\n",
       "Name: 19, dtype: bool"
      ]
     },
     "metadata": {},
     "output_type": "display_data"
    },
    {
     "name": "stdout",
     "output_type": "stream",
     "text": [
      "the book that were there were poor .\n",
      "the books that were there were poor .\n"
     ]
    },
    {
     "data": {
      "text/plain": [
       "SAYCam LSTM 0     True\n",
       "SAYCam 1-gram    False\n",
       "SAYCam 2-gram    False\n",
       "SAYCam CBOW 0    False\n",
       "Name: 20, dtype: bool"
      ]
     },
     "metadata": {},
     "output_type": "display_data"
    },
    {
     "name": "stdout",
     "output_type": "stream",
     "text": [
      "the bear that were there are soft .\n",
      "the bears that were there are soft .\n"
     ]
    },
    {
     "data": {
      "text/plain": [
       "SAYCam LSTM 0     True\n",
       "SAYCam 1-gram    False\n",
       "SAYCam 2-gram    False\n",
       "SAYCam CBOW 0    False\n",
       "Name: 97, dtype: bool"
      ]
     },
     "metadata": {},
     "output_type": "display_data"
    },
    {
     "name": "stdout",
     "output_type": "stream",
     "text": [
      "the rings that i like is quick .\n",
      "the ring that i like is quick .\n"
     ]
    },
    {
     "data": {
      "text/plain": [
       "SAYCam LSTM 0     True\n",
       "SAYCam 1-gram     True\n",
       "SAYCam 2-gram    False\n",
       "SAYCam CBOW 0     True\n",
       "Name: 112, dtype: bool"
      ]
     },
     "metadata": {},
     "output_type": "display_data"
    },
    {
     "name": "stdout",
     "output_type": "stream",
     "text": [
      "the rings that you like is quick .\n",
      "the ring that you like is quick .\n"
     ]
    },
    {
     "data": {
      "text/plain": [
       "SAYCam LSTM 0     True\n",
       "SAYCam 1-gram     True\n",
       "SAYCam 2-gram    False\n",
       "SAYCam CBOW 0     True\n",
       "Name: 113, dtype: bool"
      ]
     },
     "metadata": {},
     "output_type": "display_data"
    },
    {
     "name": "stdout",
     "output_type": "stream",
     "text": [
      "the rings that we like is quick .\n",
      "the ring that we like is quick .\n"
     ]
    },
    {
     "data": {
      "text/plain": [
       "SAYCam LSTM 0     True\n",
       "SAYCam 1-gram     True\n",
       "SAYCam 2-gram    False\n",
       "SAYCam CBOW 0     True\n",
       "Name: 114, dtype: bool"
      ]
     },
     "metadata": {},
     "output_type": "display_data"
    },
    {
     "name": "stdout",
     "output_type": "stream",
     "text": [
      "the rings that he likes is quick .\n",
      "the ring that he likes is quick .\n"
     ]
    },
    {
     "data": {
      "text/plain": [
       "SAYCam LSTM 0     True\n",
       "SAYCam 1-gram     True\n",
       "SAYCam 2-gram    False\n",
       "SAYCam CBOW 0     True\n",
       "Name: 115, dtype: bool"
      ]
     },
     "metadata": {},
     "output_type": "display_data"
    },
    {
     "name": "stdout",
     "output_type": "stream",
     "text": [
      "the rings that she likes is quick .\n",
      "the ring that she likes is quick .\n"
     ]
    },
    {
     "data": {
      "text/plain": [
       "SAYCam LSTM 0     True\n",
       "SAYCam 1-gram     True\n",
       "SAYCam 2-gram    False\n",
       "SAYCam CBOW 0     True\n",
       "Name: 116, dtype: bool"
      ]
     },
     "metadata": {},
     "output_type": "display_data"
    },
    {
     "name": "stdout",
     "output_type": "stream",
     "text": [
      "the rings that it likes is quick .\n",
      "the ring that it likes is quick .\n"
     ]
    },
    {
     "data": {
      "text/plain": [
       "SAYCam LSTM 0     True\n",
       "SAYCam 1-gram     True\n",
       "SAYCam 2-gram    False\n",
       "SAYCam CBOW 0     True\n",
       "Name: 117, dtype: bool"
      ]
     },
     "metadata": {},
     "output_type": "display_data"
    },
    {
     "name": "stdout",
     "output_type": "stream",
     "text": [
      "the rings that was there is quick .\n",
      "the ring that was there is quick .\n"
     ]
    },
    {
     "data": {
      "text/plain": [
       "SAYCam LSTM 0     True\n",
       "SAYCam 1-gram     True\n",
       "SAYCam 2-gram    False\n",
       "SAYCam CBOW 0     True\n",
       "Name: 118, dtype: bool"
      ]
     },
     "metadata": {},
     "output_type": "display_data"
    },
    {
     "name": "stdout",
     "output_type": "stream",
     "text": [
      "the ring that were there are quick .\n",
      "the rings that were there are quick .\n"
     ]
    },
    {
     "data": {
      "text/plain": [
       "SAYCam LSTM 0     True\n",
       "SAYCam 1-gram    False\n",
       "SAYCam 2-gram     True\n",
       "SAYCam CBOW 0    False\n",
       "Name: 125, dtype: bool"
      ]
     },
     "metadata": {},
     "output_type": "display_data"
    },
    {
     "name": "stdout",
     "output_type": "stream",
     "text": [
      "the rings that i like was quick .\n",
      "the ring that i like was quick .\n"
     ]
    },
    {
     "data": {
      "text/plain": [
       "SAYCam LSTM 0     True\n",
       "SAYCam 1-gram     True\n",
       "SAYCam 2-gram    False\n",
       "SAYCam CBOW 0     True\n",
       "Name: 133, dtype: bool"
      ]
     },
     "metadata": {},
     "output_type": "display_data"
    },
    {
     "name": "stdout",
     "output_type": "stream",
     "text": [
      "the rings that you like was quick .\n",
      "the ring that you like was quick .\n"
     ]
    },
    {
     "data": {
      "text/plain": [
       "SAYCam LSTM 0     True\n",
       "SAYCam 1-gram     True\n",
       "SAYCam 2-gram    False\n",
       "SAYCam CBOW 0     True\n",
       "Name: 134, dtype: bool"
      ]
     },
     "metadata": {},
     "output_type": "display_data"
    },
    {
     "name": "stdout",
     "output_type": "stream",
     "text": [
      "the rings that we like was quick .\n",
      "the ring that we like was quick .\n"
     ]
    },
    {
     "data": {
      "text/plain": [
       "SAYCam LSTM 0     True\n",
       "SAYCam 1-gram     True\n",
       "SAYCam 2-gram    False\n",
       "SAYCam CBOW 0     True\n",
       "Name: 135, dtype: bool"
      ]
     },
     "metadata": {},
     "output_type": "display_data"
    },
    {
     "name": "stdout",
     "output_type": "stream",
     "text": [
      "the rings that he likes was quick .\n",
      "the ring that he likes was quick .\n"
     ]
    },
    {
     "data": {
      "text/plain": [
       "SAYCam LSTM 0     True\n",
       "SAYCam 1-gram     True\n",
       "SAYCam 2-gram    False\n",
       "SAYCam CBOW 0     True\n",
       "Name: 136, dtype: bool"
      ]
     },
     "metadata": {},
     "output_type": "display_data"
    },
    {
     "name": "stdout",
     "output_type": "stream",
     "text": [
      "the rings that she likes was quick .\n",
      "the ring that she likes was quick .\n"
     ]
    },
    {
     "data": {
      "text/plain": [
       "SAYCam LSTM 0     True\n",
       "SAYCam 1-gram     True\n",
       "SAYCam 2-gram    False\n",
       "SAYCam CBOW 0     True\n",
       "Name: 137, dtype: bool"
      ]
     },
     "metadata": {},
     "output_type": "display_data"
    },
    {
     "name": "stdout",
     "output_type": "stream",
     "text": [
      "the rings that it likes was quick .\n",
      "the ring that it likes was quick .\n"
     ]
    },
    {
     "data": {
      "text/plain": [
       "SAYCam LSTM 0     True\n",
       "SAYCam 1-gram     True\n",
       "SAYCam 2-gram    False\n",
       "SAYCam CBOW 0     True\n",
       "Name: 138, dtype: bool"
      ]
     },
     "metadata": {},
     "output_type": "display_data"
    },
    {
     "name": "stdout",
     "output_type": "stream",
     "text": [
      "the rings that was there was quick .\n",
      "the ring that was there was quick .\n"
     ]
    },
    {
     "data": {
      "text/plain": [
       "SAYCam LSTM 0     True\n",
       "SAYCam 1-gram     True\n",
       "SAYCam 2-gram    False\n",
       "SAYCam CBOW 0     True\n",
       "Name: 139, dtype: bool"
      ]
     },
     "metadata": {},
     "output_type": "display_data"
    },
    {
     "name": "stdout",
     "output_type": "stream",
     "text": [
      "the words that was there is hard .\n",
      "the word that was there is hard .\n"
     ]
    },
    {
     "data": {
      "text/plain": [
       "SAYCam LSTM 0     True\n",
       "SAYCam 1-gram    False\n",
       "SAYCam 2-gram    False\n",
       "SAYCam CBOW 0    False\n",
       "Name: 230, dtype: bool"
      ]
     },
     "metadata": {},
     "output_type": "display_data"
    },
    {
     "name": "stdout",
     "output_type": "stream",
     "text": [
      "the arm that i like are little .\n",
      "the arms that i like are little .\n"
     ]
    },
    {
     "data": {
      "text/plain": [
       "SAYCam LSTM 0     True\n",
       "SAYCam 1-gram    False\n",
       "SAYCam 2-gram    False\n",
       "SAYCam CBOW 0    False\n",
       "Name: 343, dtype: bool"
      ]
     },
     "metadata": {},
     "output_type": "display_data"
    },
    {
     "name": "stdout",
     "output_type": "stream",
     "text": [
      "the arm that he likes are little .\n",
      "the arms that he likes are little .\n"
     ]
    },
    {
     "data": {
      "text/plain": [
       "SAYCam LSTM 0     True\n",
       "SAYCam 1-gram    False\n",
       "SAYCam 2-gram    False\n",
       "SAYCam CBOW 0    False\n",
       "Name: 346, dtype: bool"
      ]
     },
     "metadata": {},
     "output_type": "display_data"
    },
    {
     "name": "stdout",
     "output_type": "stream",
     "text": [
      "the arm that she likes are little .\n",
      "the arms that she likes are little .\n"
     ]
    },
    {
     "data": {
      "text/plain": [
       "SAYCam LSTM 0     True\n",
       "SAYCam 1-gram    False\n",
       "SAYCam 2-gram    False\n",
       "SAYCam CBOW 0    False\n",
       "Name: 347, dtype: bool"
      ]
     },
     "metadata": {},
     "output_type": "display_data"
    },
    {
     "name": "stdout",
     "output_type": "stream",
     "text": [
      "the arm that it likes are little .\n",
      "the arms that it likes are little .\n"
     ]
    },
    {
     "data": {
      "text/plain": [
       "SAYCam LSTM 0     True\n",
       "SAYCam 1-gram    False\n",
       "SAYCam 2-gram    False\n",
       "SAYCam CBOW 0    False\n",
       "Name: 348, dtype: bool"
      ]
     },
     "metadata": {},
     "output_type": "display_data"
    },
    {
     "name": "stdout",
     "output_type": "stream",
     "text": [
      "the arm that were there are little .\n",
      "the arms that were there are little .\n"
     ]
    },
    {
     "data": {
      "text/plain": [
       "SAYCam LSTM 0     True\n",
       "SAYCam 1-gram    False\n",
       "SAYCam 2-gram    False\n",
       "SAYCam CBOW 0    False\n",
       "Name: 349, dtype: bool"
      ]
     },
     "metadata": {},
     "output_type": "display_data"
    },
    {
     "name": "stdout",
     "output_type": "stream",
     "text": [
      "the arm that i like were little .\n",
      "the arms that i like were little .\n"
     ]
    },
    {
     "data": {
      "text/plain": [
       "SAYCam LSTM 0     True\n",
       "SAYCam 1-gram    False\n",
       "SAYCam 2-gram    False\n",
       "SAYCam CBOW 0    False\n",
       "Name: 350, dtype: bool"
      ]
     },
     "metadata": {},
     "output_type": "display_data"
    },
    {
     "name": "stdout",
     "output_type": "stream",
     "text": [
      "the arm that we like were little .\n",
      "the arms that we like were little .\n"
     ]
    },
    {
     "data": {
      "text/plain": [
       "SAYCam LSTM 0     True\n",
       "SAYCam 1-gram    False\n",
       "SAYCam 2-gram    False\n",
       "SAYCam CBOW 0    False\n",
       "Name: 352, dtype: bool"
      ]
     },
     "metadata": {},
     "output_type": "display_data"
    },
    {
     "name": "stdout",
     "output_type": "stream",
     "text": [
      "the arm that he likes were little .\n",
      "the arms that he likes were little .\n"
     ]
    },
    {
     "data": {
      "text/plain": [
       "SAYCam LSTM 0     True\n",
       "SAYCam 1-gram    False\n",
       "SAYCam 2-gram    False\n",
       "SAYCam CBOW 0    False\n",
       "Name: 353, dtype: bool"
      ]
     },
     "metadata": {},
     "output_type": "display_data"
    },
    {
     "name": "stdout",
     "output_type": "stream",
     "text": [
      "the arm that she likes were little .\n",
      "the arms that she likes were little .\n"
     ]
    },
    {
     "data": {
      "text/plain": [
       "SAYCam LSTM 0     True\n",
       "SAYCam 1-gram    False\n",
       "SAYCam 2-gram    False\n",
       "SAYCam CBOW 0    False\n",
       "Name: 354, dtype: bool"
      ]
     },
     "metadata": {},
     "output_type": "display_data"
    },
    {
     "name": "stdout",
     "output_type": "stream",
     "text": [
      "the arm that it likes were little .\n",
      "the arms that it likes were little .\n"
     ]
    },
    {
     "data": {
      "text/plain": [
       "SAYCam LSTM 0     True\n",
       "SAYCam 1-gram    False\n",
       "SAYCam 2-gram    False\n",
       "SAYCam CBOW 0    False\n",
       "Name: 355, dtype: bool"
      ]
     },
     "metadata": {},
     "output_type": "display_data"
    },
    {
     "name": "stdout",
     "output_type": "stream",
     "text": [
      "the arm that were there were little .\n",
      "the arms that were there were little .\n"
     ]
    },
    {
     "data": {
      "text/plain": [
       "SAYCam LSTM 0     True\n",
       "SAYCam 1-gram    False\n",
       "SAYCam 2-gram    False\n",
       "SAYCam CBOW 0    False\n",
       "Name: 356, dtype: bool"
      ]
     },
     "metadata": {},
     "output_type": "display_data"
    },
    {
     "name": "stdout",
     "output_type": "stream",
     "text": [
      "the finger that i like are ready .\n",
      "the fingers that i like are ready .\n"
     ]
    },
    {
     "data": {
      "text/plain": [
       "SAYCam LSTM 0     True\n",
       "SAYCam 1-gram     True\n",
       "SAYCam 2-gram     True\n",
       "SAYCam CBOW 0    False\n",
       "Name: 399, dtype: bool"
      ]
     },
     "metadata": {},
     "output_type": "display_data"
    },
    {
     "name": "stdout",
     "output_type": "stream",
     "text": [
      "the finger that you like are ready .\n",
      "the fingers that you like are ready .\n"
     ]
    },
    {
     "data": {
      "text/plain": [
       "SAYCam LSTM 0     True\n",
       "SAYCam 1-gram     True\n",
       "SAYCam 2-gram     True\n",
       "SAYCam CBOW 0    False\n",
       "Name: 400, dtype: bool"
      ]
     },
     "metadata": {},
     "output_type": "display_data"
    },
    {
     "name": "stdout",
     "output_type": "stream",
     "text": [
      "the finger that we like are ready .\n",
      "the fingers that we like are ready .\n"
     ]
    },
    {
     "data": {
      "text/plain": [
       "SAYCam LSTM 0     True\n",
       "SAYCam 1-gram     True\n",
       "SAYCam 2-gram     True\n",
       "SAYCam CBOW 0    False\n",
       "Name: 401, dtype: bool"
      ]
     },
     "metadata": {},
     "output_type": "display_data"
    },
    {
     "name": "stdout",
     "output_type": "stream",
     "text": [
      "the finger that he likes are ready .\n",
      "the fingers that he likes are ready .\n"
     ]
    },
    {
     "data": {
      "text/plain": [
       "SAYCam LSTM 0     True\n",
       "SAYCam 1-gram     True\n",
       "SAYCam 2-gram     True\n",
       "SAYCam CBOW 0    False\n",
       "Name: 402, dtype: bool"
      ]
     },
     "metadata": {},
     "output_type": "display_data"
    },
    {
     "name": "stdout",
     "output_type": "stream",
     "text": [
      "the finger that she likes are ready .\n",
      "the fingers that she likes are ready .\n"
     ]
    },
    {
     "data": {
      "text/plain": [
       "SAYCam LSTM 0     True\n",
       "SAYCam 1-gram     True\n",
       "SAYCam 2-gram     True\n",
       "SAYCam CBOW 0    False\n",
       "Name: 403, dtype: bool"
      ]
     },
     "metadata": {},
     "output_type": "display_data"
    },
    {
     "name": "stdout",
     "output_type": "stream",
     "text": [
      "the finger that it likes are ready .\n",
      "the fingers that it likes are ready .\n"
     ]
    },
    {
     "data": {
      "text/plain": [
       "SAYCam LSTM 0     True\n",
       "SAYCam 1-gram     True\n",
       "SAYCam 2-gram     True\n",
       "SAYCam CBOW 0    False\n",
       "Name: 404, dtype: bool"
      ]
     },
     "metadata": {},
     "output_type": "display_data"
    },
    {
     "name": "stdout",
     "output_type": "stream",
     "text": [
      "the finger that were there are ready .\n",
      "the fingers that were there are ready .\n"
     ]
    },
    {
     "data": {
      "text/plain": [
       "SAYCam LSTM 0     True\n",
       "SAYCam 1-gram     True\n",
       "SAYCam 2-gram     True\n",
       "SAYCam CBOW 0    False\n",
       "Name: 405, dtype: bool"
      ]
     },
     "metadata": {},
     "output_type": "display_data"
    },
    {
     "name": "stdout",
     "output_type": "stream",
     "text": [
      "the finger that i like were ready .\n",
      "the fingers that i like were ready .\n"
     ]
    },
    {
     "data": {
      "text/plain": [
       "SAYCam LSTM 0     True\n",
       "SAYCam 1-gram     True\n",
       "SAYCam 2-gram     True\n",
       "SAYCam CBOW 0    False\n",
       "Name: 406, dtype: bool"
      ]
     },
     "metadata": {},
     "output_type": "display_data"
    },
    {
     "name": "stdout",
     "output_type": "stream",
     "text": [
      "the finger that you like were ready .\n",
      "the fingers that you like were ready .\n"
     ]
    },
    {
     "data": {
      "text/plain": [
       "SAYCam LSTM 0     True\n",
       "SAYCam 1-gram     True\n",
       "SAYCam 2-gram     True\n",
       "SAYCam CBOW 0    False\n",
       "Name: 407, dtype: bool"
      ]
     },
     "metadata": {},
     "output_type": "display_data"
    },
    {
     "name": "stdout",
     "output_type": "stream",
     "text": [
      "the finger that we like were ready .\n",
      "the fingers that we like were ready .\n"
     ]
    },
    {
     "data": {
      "text/plain": [
       "SAYCam LSTM 0     True\n",
       "SAYCam 1-gram     True\n",
       "SAYCam 2-gram     True\n",
       "SAYCam CBOW 0    False\n",
       "Name: 408, dtype: bool"
      ]
     },
     "metadata": {},
     "output_type": "display_data"
    },
    {
     "name": "stdout",
     "output_type": "stream",
     "text": [
      "the finger that he likes were ready .\n",
      "the fingers that he likes were ready .\n"
     ]
    },
    {
     "data": {
      "text/plain": [
       "SAYCam LSTM 0     True\n",
       "SAYCam 1-gram     True\n",
       "SAYCam 2-gram     True\n",
       "SAYCam CBOW 0    False\n",
       "Name: 409, dtype: bool"
      ]
     },
     "metadata": {},
     "output_type": "display_data"
    },
    {
     "name": "stdout",
     "output_type": "stream",
     "text": [
      "the finger that she likes were ready .\n",
      "the fingers that she likes were ready .\n"
     ]
    },
    {
     "data": {
      "text/plain": [
       "SAYCam LSTM 0     True\n",
       "SAYCam 1-gram     True\n",
       "SAYCam 2-gram     True\n",
       "SAYCam CBOW 0    False\n",
       "Name: 410, dtype: bool"
      ]
     },
     "metadata": {},
     "output_type": "display_data"
    },
    {
     "name": "stdout",
     "output_type": "stream",
     "text": [
      "the finger that it likes were ready .\n",
      "the fingers that it likes were ready .\n"
     ]
    },
    {
     "data": {
      "text/plain": [
       "SAYCam LSTM 0     True\n",
       "SAYCam 1-gram     True\n",
       "SAYCam 2-gram     True\n",
       "SAYCam CBOW 0    False\n",
       "Name: 411, dtype: bool"
      ]
     },
     "metadata": {},
     "output_type": "display_data"
    },
    {
     "name": "stdout",
     "output_type": "stream",
     "text": [
      "the finger that were there were ready .\n",
      "the fingers that were there were ready .\n"
     ]
    },
    {
     "data": {
      "text/plain": [
       "SAYCam LSTM 0     True\n",
       "SAYCam 1-gram     True\n",
       "SAYCam 2-gram     True\n",
       "SAYCam CBOW 0    False\n",
       "Name: 412, dtype: bool"
      ]
     },
     "metadata": {},
     "output_type": "display_data"
    },
    {
     "name": "stdout",
     "output_type": "stream",
     "text": [
      "the picture that i like are bad .\n",
      "the pictures that i like are bad .\n"
     ]
    },
    {
     "data": {
      "text/plain": [
       "SAYCam LSTM 0     True\n",
       "SAYCam 1-gram    False\n",
       "SAYCam 2-gram    False\n",
       "SAYCam CBOW 0    False\n",
       "Name: 595, dtype: bool"
      ]
     },
     "metadata": {},
     "output_type": "display_data"
    },
    {
     "name": "stdout",
     "output_type": "stream",
     "text": [
      "the picture that you like are bad .\n",
      "the pictures that you like are bad .\n"
     ]
    },
    {
     "data": {
      "text/plain": [
       "SAYCam LSTM 0     True\n",
       "SAYCam 1-gram    False\n",
       "SAYCam 2-gram    False\n",
       "SAYCam CBOW 0    False\n",
       "Name: 596, dtype: bool"
      ]
     },
     "metadata": {},
     "output_type": "display_data"
    },
    {
     "name": "stdout",
     "output_type": "stream",
     "text": [
      "the picture that we like are bad .\n",
      "the pictures that we like are bad .\n"
     ]
    },
    {
     "data": {
      "text/plain": [
       "SAYCam LSTM 0     True\n",
       "SAYCam 1-gram    False\n",
       "SAYCam 2-gram    False\n",
       "SAYCam CBOW 0    False\n",
       "Name: 597, dtype: bool"
      ]
     },
     "metadata": {},
     "output_type": "display_data"
    },
    {
     "name": "stdout",
     "output_type": "stream",
     "text": [
      "the picture that he likes are bad .\n",
      "the pictures that he likes are bad .\n"
     ]
    },
    {
     "data": {
      "text/plain": [
       "SAYCam LSTM 0     True\n",
       "SAYCam 1-gram    False\n",
       "SAYCam 2-gram    False\n",
       "SAYCam CBOW 0    False\n",
       "Name: 598, dtype: bool"
      ]
     },
     "metadata": {},
     "output_type": "display_data"
    },
    {
     "name": "stdout",
     "output_type": "stream",
     "text": [
      "the picture that she likes are bad .\n",
      "the pictures that she likes are bad .\n"
     ]
    },
    {
     "data": {
      "text/plain": [
       "SAYCam LSTM 0     True\n",
       "SAYCam 1-gram    False\n",
       "SAYCam 2-gram    False\n",
       "SAYCam CBOW 0    False\n",
       "Name: 599, dtype: bool"
      ]
     },
     "metadata": {},
     "output_type": "display_data"
    },
    {
     "name": "stdout",
     "output_type": "stream",
     "text": [
      "the picture that it likes are bad .\n",
      "the pictures that it likes are bad .\n"
     ]
    },
    {
     "data": {
      "text/plain": [
       "SAYCam LSTM 0     True\n",
       "SAYCam 1-gram    False\n",
       "SAYCam 2-gram    False\n",
       "SAYCam CBOW 0    False\n",
       "Name: 600, dtype: bool"
      ]
     },
     "metadata": {},
     "output_type": "display_data"
    },
    {
     "name": "stdout",
     "output_type": "stream",
     "text": [
      "the picture that were there are bad .\n",
      "the pictures that were there are bad .\n"
     ]
    },
    {
     "data": {
      "text/plain": [
       "SAYCam LSTM 0     True\n",
       "SAYCam 1-gram    False\n",
       "SAYCam 2-gram    False\n",
       "SAYCam CBOW 0    False\n",
       "Name: 601, dtype: bool"
      ]
     },
     "metadata": {},
     "output_type": "display_data"
    },
    {
     "name": "stdout",
     "output_type": "stream",
     "text": [
      "the picture that i like were bad .\n",
      "the pictures that i like were bad .\n"
     ]
    },
    {
     "data": {
      "text/plain": [
       "SAYCam LSTM 0     True\n",
       "SAYCam 1-gram    False\n",
       "SAYCam 2-gram    False\n",
       "SAYCam CBOW 0    False\n",
       "Name: 602, dtype: bool"
      ]
     },
     "metadata": {},
     "output_type": "display_data"
    },
    {
     "name": "stdout",
     "output_type": "stream",
     "text": [
      "the picture that you like were bad .\n",
      "the pictures that you like were bad .\n"
     ]
    },
    {
     "data": {
      "text/plain": [
       "SAYCam LSTM 0     True\n",
       "SAYCam 1-gram    False\n",
       "SAYCam 2-gram    False\n",
       "SAYCam CBOW 0    False\n",
       "Name: 603, dtype: bool"
      ]
     },
     "metadata": {},
     "output_type": "display_data"
    },
    {
     "name": "stdout",
     "output_type": "stream",
     "text": [
      "the picture that we like were bad .\n",
      "the pictures that we like were bad .\n"
     ]
    },
    {
     "data": {
      "text/plain": [
       "SAYCam LSTM 0     True\n",
       "SAYCam 1-gram    False\n",
       "SAYCam 2-gram    False\n",
       "SAYCam CBOW 0    False\n",
       "Name: 604, dtype: bool"
      ]
     },
     "metadata": {},
     "output_type": "display_data"
    },
    {
     "name": "stdout",
     "output_type": "stream",
     "text": [
      "the picture that he likes were bad .\n",
      "the pictures that he likes were bad .\n"
     ]
    },
    {
     "data": {
      "text/plain": [
       "SAYCam LSTM 0     True\n",
       "SAYCam 1-gram    False\n",
       "SAYCam 2-gram    False\n",
       "SAYCam CBOW 0    False\n",
       "Name: 605, dtype: bool"
      ]
     },
     "metadata": {},
     "output_type": "display_data"
    },
    {
     "name": "stdout",
     "output_type": "stream",
     "text": [
      "the picture that she likes were bad .\n",
      "the pictures that she likes were bad .\n"
     ]
    },
    {
     "data": {
      "text/plain": [
       "SAYCam LSTM 0     True\n",
       "SAYCam 1-gram    False\n",
       "SAYCam 2-gram    False\n",
       "SAYCam CBOW 0    False\n",
       "Name: 606, dtype: bool"
      ]
     },
     "metadata": {},
     "output_type": "display_data"
    },
    {
     "name": "stdout",
     "output_type": "stream",
     "text": [
      "the picture that it likes were bad .\n",
      "the pictures that it likes were bad .\n"
     ]
    },
    {
     "data": {
      "text/plain": [
       "SAYCam LSTM 0     True\n",
       "SAYCam 1-gram    False\n",
       "SAYCam 2-gram    False\n",
       "SAYCam CBOW 0    False\n",
       "Name: 607, dtype: bool"
      ]
     },
     "metadata": {},
     "output_type": "display_data"
    },
    {
     "name": "stdout",
     "output_type": "stream",
     "text": [
      "the picture that were there were bad .\n",
      "the pictures that were there were bad .\n"
     ]
    },
    {
     "data": {
      "text/plain": [
       "SAYCam LSTM 0     True\n",
       "SAYCam 1-gram    False\n",
       "SAYCam 2-gram    False\n",
       "SAYCam CBOW 0    False\n",
       "Name: 608, dtype: bool"
      ]
     },
     "metadata": {},
     "output_type": "display_data"
    },
    {
     "name": "stdout",
     "output_type": "stream",
     "text": [
      "the things that i like is little .\n",
      "the thing that i like is little .\n"
     ]
    },
    {
     "data": {
      "text/plain": [
       "SAYCam LSTM 0     True\n",
       "SAYCam 1-gram    False\n",
       "SAYCam 2-gram    False\n",
       "SAYCam CBOW 0     True\n",
       "Name: 700, dtype: bool"
      ]
     },
     "metadata": {},
     "output_type": "display_data"
    },
    {
     "name": "stdout",
     "output_type": "stream",
     "text": [
      "the things that you like is little .\n",
      "the thing that you like is little .\n"
     ]
    },
    {
     "data": {
      "text/plain": [
       "SAYCam LSTM 0     True\n",
       "SAYCam 1-gram    False\n",
       "SAYCam 2-gram    False\n",
       "SAYCam CBOW 0     True\n",
       "Name: 701, dtype: bool"
      ]
     },
     "metadata": {},
     "output_type": "display_data"
    },
    {
     "name": "stdout",
     "output_type": "stream",
     "text": [
      "the things that we like is little .\n",
      "the thing that we like is little .\n"
     ]
    },
    {
     "data": {
      "text/plain": [
       "SAYCam LSTM 0     True\n",
       "SAYCam 1-gram    False\n",
       "SAYCam 2-gram    False\n",
       "SAYCam CBOW 0     True\n",
       "Name: 702, dtype: bool"
      ]
     },
     "metadata": {},
     "output_type": "display_data"
    },
    {
     "name": "stdout",
     "output_type": "stream",
     "text": [
      "the things that he likes is little .\n",
      "the thing that he likes is little .\n"
     ]
    },
    {
     "data": {
      "text/plain": [
       "SAYCam LSTM 0     True\n",
       "SAYCam 1-gram    False\n",
       "SAYCam 2-gram    False\n",
       "SAYCam CBOW 0     True\n",
       "Name: 703, dtype: bool"
      ]
     },
     "metadata": {},
     "output_type": "display_data"
    },
    {
     "name": "stdout",
     "output_type": "stream",
     "text": [
      "the things that she likes is little .\n",
      "the thing that she likes is little .\n"
     ]
    },
    {
     "data": {
      "text/plain": [
       "SAYCam LSTM 0     True\n",
       "SAYCam 1-gram    False\n",
       "SAYCam 2-gram    False\n",
       "SAYCam CBOW 0     True\n",
       "Name: 704, dtype: bool"
      ]
     },
     "metadata": {},
     "output_type": "display_data"
    },
    {
     "name": "stdout",
     "output_type": "stream",
     "text": [
      "the things that it likes is little .\n",
      "the thing that it likes is little .\n"
     ]
    },
    {
     "data": {
      "text/plain": [
       "SAYCam LSTM 0     True\n",
       "SAYCam 1-gram    False\n",
       "SAYCam 2-gram    False\n",
       "SAYCam CBOW 0     True\n",
       "Name: 705, dtype: bool"
      ]
     },
     "metadata": {},
     "output_type": "display_data"
    },
    {
     "name": "stdout",
     "output_type": "stream",
     "text": [
      "the things that was there is little .\n",
      "the thing that was there is little .\n"
     ]
    },
    {
     "data": {
      "text/plain": [
       "SAYCam LSTM 0     True\n",
       "SAYCam 1-gram    False\n",
       "SAYCam 2-gram    False\n",
       "SAYCam CBOW 0     True\n",
       "Name: 706, dtype: bool"
      ]
     },
     "metadata": {},
     "output_type": "display_data"
    },
    {
     "name": "stdout",
     "output_type": "stream",
     "text": [
      "the thing that he likes are little .\n",
      "the things that he likes are little .\n"
     ]
    },
    {
     "data": {
      "text/plain": [
       "SAYCam LSTM 0     True\n",
       "SAYCam 1-gram     True\n",
       "SAYCam 2-gram     True\n",
       "SAYCam CBOW 0    False\n",
       "Name: 710, dtype: bool"
      ]
     },
     "metadata": {},
     "output_type": "display_data"
    },
    {
     "name": "stdout",
     "output_type": "stream",
     "text": [
      "the thing that she likes are little .\n",
      "the things that she likes are little .\n"
     ]
    },
    {
     "data": {
      "text/plain": [
       "SAYCam LSTM 0     True\n",
       "SAYCam 1-gram     True\n",
       "SAYCam 2-gram     True\n",
       "SAYCam CBOW 0    False\n",
       "Name: 711, dtype: bool"
      ]
     },
     "metadata": {},
     "output_type": "display_data"
    },
    {
     "name": "stdout",
     "output_type": "stream",
     "text": [
      "the thing that it likes are little .\n",
      "the things that it likes are little .\n"
     ]
    },
    {
     "data": {
      "text/plain": [
       "SAYCam LSTM 0     True\n",
       "SAYCam 1-gram     True\n",
       "SAYCam 2-gram     True\n",
       "SAYCam CBOW 0    False\n",
       "Name: 712, dtype: bool"
      ]
     },
     "metadata": {},
     "output_type": "display_data"
    },
    {
     "name": "stdout",
     "output_type": "stream",
     "text": [
      "the thing that were there are little .\n",
      "the things that were there are little .\n"
     ]
    },
    {
     "data": {
      "text/plain": [
       "SAYCam LSTM 0     True\n",
       "SAYCam 1-gram     True\n",
       "SAYCam 2-gram     True\n",
       "SAYCam CBOW 0    False\n",
       "Name: 713, dtype: bool"
      ]
     },
     "metadata": {},
     "output_type": "display_data"
    },
    {
     "name": "stdout",
     "output_type": "stream",
     "text": [
      "the thing that he likes were little .\n",
      "the things that he likes were little .\n"
     ]
    },
    {
     "data": {
      "text/plain": [
       "SAYCam LSTM 0     True\n",
       "SAYCam 1-gram     True\n",
       "SAYCam 2-gram     True\n",
       "SAYCam CBOW 0    False\n",
       "Name: 717, dtype: bool"
      ]
     },
     "metadata": {},
     "output_type": "display_data"
    },
    {
     "name": "stdout",
     "output_type": "stream",
     "text": [
      "the thing that she likes were little .\n",
      "the things that she likes were little .\n"
     ]
    },
    {
     "data": {
      "text/plain": [
       "SAYCam LSTM 0     True\n",
       "SAYCam 1-gram     True\n",
       "SAYCam 2-gram     True\n",
       "SAYCam CBOW 0    False\n",
       "Name: 718, dtype: bool"
      ]
     },
     "metadata": {},
     "output_type": "display_data"
    },
    {
     "name": "stdout",
     "output_type": "stream",
     "text": [
      "the thing that it likes were little .\n",
      "the things that it likes were little .\n"
     ]
    },
    {
     "data": {
      "text/plain": [
       "SAYCam LSTM 0     True\n",
       "SAYCam 1-gram     True\n",
       "SAYCam 2-gram     True\n",
       "SAYCam CBOW 0    False\n",
       "Name: 719, dtype: bool"
      ]
     },
     "metadata": {},
     "output_type": "display_data"
    },
    {
     "name": "stdout",
     "output_type": "stream",
     "text": [
      "the things that i like was little .\n",
      "the thing that i like was little .\n"
     ]
    },
    {
     "data": {
      "text/plain": [
       "SAYCam LSTM 0     True\n",
       "SAYCam 1-gram    False\n",
       "SAYCam 2-gram    False\n",
       "SAYCam CBOW 0     True\n",
       "Name: 721, dtype: bool"
      ]
     },
     "metadata": {},
     "output_type": "display_data"
    },
    {
     "name": "stdout",
     "output_type": "stream",
     "text": [
      "the things that you like was little .\n",
      "the thing that you like was little .\n"
     ]
    },
    {
     "data": {
      "text/plain": [
       "SAYCam LSTM 0     True\n",
       "SAYCam 1-gram    False\n",
       "SAYCam 2-gram    False\n",
       "SAYCam CBOW 0     True\n",
       "Name: 722, dtype: bool"
      ]
     },
     "metadata": {},
     "output_type": "display_data"
    },
    {
     "name": "stdout",
     "output_type": "stream",
     "text": [
      "the things that we like was little .\n",
      "the thing that we like was little .\n"
     ]
    },
    {
     "data": {
      "text/plain": [
       "SAYCam LSTM 0     True\n",
       "SAYCam 1-gram    False\n",
       "SAYCam 2-gram    False\n",
       "SAYCam CBOW 0     True\n",
       "Name: 723, dtype: bool"
      ]
     },
     "metadata": {},
     "output_type": "display_data"
    },
    {
     "name": "stdout",
     "output_type": "stream",
     "text": [
      "the things that he likes was little .\n",
      "the thing that he likes was little .\n"
     ]
    },
    {
     "data": {
      "text/plain": [
       "SAYCam LSTM 0     True\n",
       "SAYCam 1-gram    False\n",
       "SAYCam 2-gram    False\n",
       "SAYCam CBOW 0     True\n",
       "Name: 724, dtype: bool"
      ]
     },
     "metadata": {},
     "output_type": "display_data"
    },
    {
     "name": "stdout",
     "output_type": "stream",
     "text": [
      "the things that she likes was little .\n",
      "the thing that she likes was little .\n"
     ]
    },
    {
     "data": {
      "text/plain": [
       "SAYCam LSTM 0     True\n",
       "SAYCam 1-gram    False\n",
       "SAYCam 2-gram    False\n",
       "SAYCam CBOW 0     True\n",
       "Name: 725, dtype: bool"
      ]
     },
     "metadata": {},
     "output_type": "display_data"
    },
    {
     "name": "stdout",
     "output_type": "stream",
     "text": [
      "the things that it likes was little .\n",
      "the thing that it likes was little .\n"
     ]
    },
    {
     "data": {
      "text/plain": [
       "SAYCam LSTM 0     True\n",
       "SAYCam 1-gram    False\n",
       "SAYCam 2-gram    False\n",
       "SAYCam CBOW 0     True\n",
       "Name: 726, dtype: bool"
      ]
     },
     "metadata": {},
     "output_type": "display_data"
    },
    {
     "name": "stdout",
     "output_type": "stream",
     "text": [
      "the things that was there was little .\n",
      "the thing that was there was little .\n"
     ]
    },
    {
     "data": {
      "text/plain": [
       "SAYCam LSTM 0     True\n",
       "SAYCam 1-gram    False\n",
       "SAYCam 2-gram    False\n",
       "SAYCam CBOW 0     True\n",
       "Name: 727, dtype: bool"
      ]
     },
     "metadata": {},
     "output_type": "display_data"
    },
    {
     "name": "stdout",
     "output_type": "stream",
     "text": [
      "the words that you like is red .\n",
      "the word that you like is red .\n"
     ]
    },
    {
     "data": {
      "text/plain": [
       "SAYCam LSTM 0     True\n",
       "SAYCam 1-gram    False\n",
       "SAYCam 2-gram    False\n",
       "SAYCam CBOW 0    False\n",
       "Name: 981, dtype: bool"
      ]
     },
     "metadata": {},
     "output_type": "display_data"
    },
    {
     "name": "stdout",
     "output_type": "stream",
     "text": [
      "the words that was there is red .\n",
      "the word that was there is red .\n"
     ]
    },
    {
     "data": {
      "text/plain": [
       "SAYCam LSTM 0     True\n",
       "SAYCam 1-gram    False\n",
       "SAYCam 2-gram    False\n",
       "SAYCam CBOW 0    False\n",
       "Name: 986, dtype: bool"
      ]
     },
     "metadata": {},
     "output_type": "display_data"
    },
    {
     "name": "stdout",
     "output_type": "stream",
     "text": [
      "the words that you like was red .\n",
      "the word that you like was red .\n"
     ]
    },
    {
     "data": {
      "text/plain": [
       "SAYCam LSTM 0     True\n",
       "SAYCam 1-gram    False\n",
       "SAYCam 2-gram    False\n",
       "SAYCam CBOW 0    False\n",
       "Name: 1002, dtype: bool"
      ]
     },
     "metadata": {},
     "output_type": "display_data"
    },
    {
     "name": "stdout",
     "output_type": "stream",
     "text": [
      "the words that was there was red .\n",
      "the word that was there was red .\n"
     ]
    },
    {
     "data": {
      "text/plain": [
       "SAYCam LSTM 0     True\n",
       "SAYCam 1-gram    False\n",
       "SAYCam 2-gram    False\n",
       "SAYCam CBOW 0    False\n",
       "Name: 1007, dtype: bool"
      ]
     },
     "metadata": {},
     "output_type": "display_data"
    },
    {
     "name": "stdout",
     "output_type": "stream",
     "text": [
      "the picture that i like are hard .\n",
      "the pictures that i like are hard .\n"
     ]
    },
    {
     "data": {
      "text/plain": [
       "SAYCam LSTM 0     True\n",
       "SAYCam 1-gram    False\n",
       "SAYCam 2-gram    False\n",
       "SAYCam CBOW 0    False\n",
       "Name: 1239, dtype: bool"
      ]
     },
     "metadata": {},
     "output_type": "display_data"
    },
    {
     "name": "stdout",
     "output_type": "stream",
     "text": [
      "the picture that you like are hard .\n",
      "the pictures that you like are hard .\n"
     ]
    },
    {
     "data": {
      "text/plain": [
       "SAYCam LSTM 0     True\n",
       "SAYCam 1-gram    False\n",
       "SAYCam 2-gram    False\n",
       "SAYCam CBOW 0    False\n",
       "Name: 1240, dtype: bool"
      ]
     },
     "metadata": {},
     "output_type": "display_data"
    },
    {
     "name": "stdout",
     "output_type": "stream",
     "text": [
      "the picture that we like are hard .\n",
      "the pictures that we like are hard .\n"
     ]
    },
    {
     "data": {
      "text/plain": [
       "SAYCam LSTM 0     True\n",
       "SAYCam 1-gram    False\n",
       "SAYCam 2-gram    False\n",
       "SAYCam CBOW 0    False\n",
       "Name: 1241, dtype: bool"
      ]
     },
     "metadata": {},
     "output_type": "display_data"
    },
    {
     "name": "stdout",
     "output_type": "stream",
     "text": [
      "the picture that he likes are hard .\n",
      "the pictures that he likes are hard .\n"
     ]
    },
    {
     "data": {
      "text/plain": [
       "SAYCam LSTM 0     True\n",
       "SAYCam 1-gram    False\n",
       "SAYCam 2-gram    False\n",
       "SAYCam CBOW 0    False\n",
       "Name: 1242, dtype: bool"
      ]
     },
     "metadata": {},
     "output_type": "display_data"
    },
    {
     "name": "stdout",
     "output_type": "stream",
     "text": [
      "the picture that she likes are hard .\n",
      "the pictures that she likes are hard .\n"
     ]
    },
    {
     "data": {
      "text/plain": [
       "SAYCam LSTM 0     True\n",
       "SAYCam 1-gram    False\n",
       "SAYCam 2-gram    False\n",
       "SAYCam CBOW 0    False\n",
       "Name: 1243, dtype: bool"
      ]
     },
     "metadata": {},
     "output_type": "display_data"
    },
    {
     "name": "stdout",
     "output_type": "stream",
     "text": [
      "the picture that it likes are hard .\n",
      "the pictures that it likes are hard .\n"
     ]
    },
    {
     "data": {
      "text/plain": [
       "SAYCam LSTM 0     True\n",
       "SAYCam 1-gram    False\n",
       "SAYCam 2-gram    False\n",
       "SAYCam CBOW 0    False\n",
       "Name: 1244, dtype: bool"
      ]
     },
     "metadata": {},
     "output_type": "display_data"
    },
    {
     "name": "stdout",
     "output_type": "stream",
     "text": [
      "the picture that were there are hard .\n",
      "the pictures that were there are hard .\n"
     ]
    },
    {
     "data": {
      "text/plain": [
       "SAYCam LSTM 0     True\n",
       "SAYCam 1-gram    False\n",
       "SAYCam 2-gram    False\n",
       "SAYCam CBOW 0    False\n",
       "Name: 1245, dtype: bool"
      ]
     },
     "metadata": {},
     "output_type": "display_data"
    },
    {
     "name": "stdout",
     "output_type": "stream",
     "text": [
      "the picture that i like were hard .\n",
      "the pictures that i like were hard .\n"
     ]
    },
    {
     "data": {
      "text/plain": [
       "SAYCam LSTM 0     True\n",
       "SAYCam 1-gram    False\n",
       "SAYCam 2-gram    False\n",
       "SAYCam CBOW 0    False\n",
       "Name: 1246, dtype: bool"
      ]
     },
     "metadata": {},
     "output_type": "display_data"
    },
    {
     "name": "stdout",
     "output_type": "stream",
     "text": [
      "the picture that you like were hard .\n",
      "the pictures that you like were hard .\n"
     ]
    },
    {
     "data": {
      "text/plain": [
       "SAYCam LSTM 0     True\n",
       "SAYCam 1-gram    False\n",
       "SAYCam 2-gram    False\n",
       "SAYCam CBOW 0    False\n",
       "Name: 1247, dtype: bool"
      ]
     },
     "metadata": {},
     "output_type": "display_data"
    },
    {
     "name": "stdout",
     "output_type": "stream",
     "text": [
      "the picture that we like were hard .\n",
      "the pictures that we like were hard .\n"
     ]
    },
    {
     "data": {
      "text/plain": [
       "SAYCam LSTM 0     True\n",
       "SAYCam 1-gram    False\n",
       "SAYCam 2-gram    False\n",
       "SAYCam CBOW 0    False\n",
       "Name: 1248, dtype: bool"
      ]
     },
     "metadata": {},
     "output_type": "display_data"
    },
    {
     "name": "stdout",
     "output_type": "stream",
     "text": [
      "the picture that he likes were hard .\n",
      "the pictures that he likes were hard .\n"
     ]
    },
    {
     "data": {
      "text/plain": [
       "SAYCam LSTM 0     True\n",
       "SAYCam 1-gram    False\n",
       "SAYCam 2-gram    False\n",
       "SAYCam CBOW 0    False\n",
       "Name: 1249, dtype: bool"
      ]
     },
     "metadata": {},
     "output_type": "display_data"
    },
    {
     "name": "stdout",
     "output_type": "stream",
     "text": [
      "the picture that she likes were hard .\n",
      "the pictures that she likes were hard .\n"
     ]
    },
    {
     "data": {
      "text/plain": [
       "SAYCam LSTM 0     True\n",
       "SAYCam 1-gram    False\n",
       "SAYCam 2-gram    False\n",
       "SAYCam CBOW 0    False\n",
       "Name: 1250, dtype: bool"
      ]
     },
     "metadata": {},
     "output_type": "display_data"
    },
    {
     "name": "stdout",
     "output_type": "stream",
     "text": [
      "the picture that it likes were hard .\n",
      "the pictures that it likes were hard .\n"
     ]
    },
    {
     "data": {
      "text/plain": [
       "SAYCam LSTM 0     True\n",
       "SAYCam 1-gram    False\n",
       "SAYCam 2-gram    False\n",
       "SAYCam CBOW 0    False\n",
       "Name: 1251, dtype: bool"
      ]
     },
     "metadata": {},
     "output_type": "display_data"
    },
    {
     "name": "stdout",
     "output_type": "stream",
     "text": [
      "the picture that were there were hard .\n",
      "the pictures that were there were hard .\n"
     ]
    },
    {
     "data": {
      "text/plain": [
       "SAYCam LSTM 0     True\n",
       "SAYCam 1-gram    False\n",
       "SAYCam 2-gram    False\n",
       "SAYCam CBOW 0    False\n",
       "Name: 1252, dtype: bool"
      ]
     },
     "metadata": {},
     "output_type": "display_data"
    },
    {
     "name": "stdout",
     "output_type": "stream",
     "text": [
      "the rings that i like is red .\n",
      "the ring that i like is red .\n"
     ]
    },
    {
     "data": {
      "text/plain": [
       "SAYCam LSTM 0     True\n",
       "SAYCam 1-gram     True\n",
       "SAYCam 2-gram    False\n",
       "SAYCam CBOW 0     True\n",
       "Name: 1708, dtype: bool"
      ]
     },
     "metadata": {},
     "output_type": "display_data"
    },
    {
     "name": "stdout",
     "output_type": "stream",
     "text": [
      "the rings that you like is red .\n",
      "the ring that you like is red .\n"
     ]
    },
    {
     "data": {
      "text/plain": [
       "SAYCam LSTM 0     True\n",
       "SAYCam 1-gram     True\n",
       "SAYCam 2-gram    False\n",
       "SAYCam CBOW 0     True\n",
       "Name: 1709, dtype: bool"
      ]
     },
     "metadata": {},
     "output_type": "display_data"
    },
    {
     "name": "stdout",
     "output_type": "stream",
     "text": [
      "the rings that we like is red .\n",
      "the ring that we like is red .\n"
     ]
    },
    {
     "data": {
      "text/plain": [
       "SAYCam LSTM 0     True\n",
       "SAYCam 1-gram     True\n",
       "SAYCam 2-gram    False\n",
       "SAYCam CBOW 0     True\n",
       "Name: 1710, dtype: bool"
      ]
     },
     "metadata": {},
     "output_type": "display_data"
    },
    {
     "name": "stdout",
     "output_type": "stream",
     "text": [
      "the rings that he likes is red .\n",
      "the ring that he likes is red .\n"
     ]
    },
    {
     "data": {
      "text/plain": [
       "SAYCam LSTM 0     True\n",
       "SAYCam 1-gram     True\n",
       "SAYCam 2-gram    False\n",
       "SAYCam CBOW 0     True\n",
       "Name: 1711, dtype: bool"
      ]
     },
     "metadata": {},
     "output_type": "display_data"
    },
    {
     "name": "stdout",
     "output_type": "stream",
     "text": [
      "the rings that she likes is red .\n",
      "the ring that she likes is red .\n"
     ]
    },
    {
     "data": {
      "text/plain": [
       "SAYCam LSTM 0     True\n",
       "SAYCam 1-gram     True\n",
       "SAYCam 2-gram    False\n",
       "SAYCam CBOW 0     True\n",
       "Name: 1712, dtype: bool"
      ]
     },
     "metadata": {},
     "output_type": "display_data"
    },
    {
     "name": "stdout",
     "output_type": "stream",
     "text": [
      "the rings that it likes is red .\n",
      "the ring that it likes is red .\n"
     ]
    },
    {
     "data": {
      "text/plain": [
       "SAYCam LSTM 0     True\n",
       "SAYCam 1-gram     True\n",
       "SAYCam 2-gram    False\n",
       "SAYCam CBOW 0     True\n",
       "Name: 1713, dtype: bool"
      ]
     },
     "metadata": {},
     "output_type": "display_data"
    },
    {
     "name": "stdout",
     "output_type": "stream",
     "text": [
      "the rings that was there is red .\n",
      "the ring that was there is red .\n"
     ]
    },
    {
     "data": {
      "text/plain": [
       "SAYCam LSTM 0     True\n",
       "SAYCam 1-gram     True\n",
       "SAYCam 2-gram    False\n",
       "SAYCam CBOW 0     True\n",
       "Name: 1714, dtype: bool"
      ]
     },
     "metadata": {},
     "output_type": "display_data"
    },
    {
     "name": "stdout",
     "output_type": "stream",
     "text": [
      "the ring that we like are red .\n",
      "the rings that we like are red .\n"
     ]
    },
    {
     "data": {
      "text/plain": [
       "SAYCam LSTM 0     True\n",
       "SAYCam 1-gram    False\n",
       "SAYCam 2-gram     True\n",
       "SAYCam CBOW 0    False\n",
       "Name: 1717, dtype: bool"
      ]
     },
     "metadata": {},
     "output_type": "display_data"
    },
    {
     "name": "stdout",
     "output_type": "stream",
     "text": [
      "the ring that it likes are red .\n",
      "the rings that it likes are red .\n"
     ]
    },
    {
     "data": {
      "text/plain": [
       "SAYCam LSTM 0     True\n",
       "SAYCam 1-gram    False\n",
       "SAYCam 2-gram     True\n",
       "SAYCam CBOW 0    False\n",
       "Name: 1720, dtype: bool"
      ]
     },
     "metadata": {},
     "output_type": "display_data"
    },
    {
     "name": "stdout",
     "output_type": "stream",
     "text": [
      "the ring that were there are red .\n",
      "the rings that were there are red .\n"
     ]
    },
    {
     "data": {
      "text/plain": [
       "SAYCam LSTM 0     True\n",
       "SAYCam 1-gram    False\n",
       "SAYCam 2-gram     True\n",
       "SAYCam CBOW 0    False\n",
       "Name: 1721, dtype: bool"
      ]
     },
     "metadata": {},
     "output_type": "display_data"
    },
    {
     "name": "stdout",
     "output_type": "stream",
     "text": [
      "the ring that were there were red .\n",
      "the rings that were there were red .\n"
     ]
    },
    {
     "data": {
      "text/plain": [
       "SAYCam LSTM 0     True\n",
       "SAYCam 1-gram    False\n",
       "SAYCam 2-gram     True\n",
       "SAYCam CBOW 0    False\n",
       "Name: 1728, dtype: bool"
      ]
     },
     "metadata": {},
     "output_type": "display_data"
    },
    {
     "name": "stdout",
     "output_type": "stream",
     "text": [
      "the rings that i like was red .\n",
      "the ring that i like was red .\n"
     ]
    },
    {
     "data": {
      "text/plain": [
       "SAYCam LSTM 0     True\n",
       "SAYCam 1-gram     True\n",
       "SAYCam 2-gram    False\n",
       "SAYCam CBOW 0     True\n",
       "Name: 1729, dtype: bool"
      ]
     },
     "metadata": {},
     "output_type": "display_data"
    },
    {
     "name": "stdout",
     "output_type": "stream",
     "text": [
      "the rings that you like was red .\n",
      "the ring that you like was red .\n"
     ]
    },
    {
     "data": {
      "text/plain": [
       "SAYCam LSTM 0     True\n",
       "SAYCam 1-gram     True\n",
       "SAYCam 2-gram    False\n",
       "SAYCam CBOW 0     True\n",
       "Name: 1730, dtype: bool"
      ]
     },
     "metadata": {},
     "output_type": "display_data"
    },
    {
     "name": "stdout",
     "output_type": "stream",
     "text": [
      "the rings that we like was red .\n",
      "the ring that we like was red .\n"
     ]
    },
    {
     "data": {
      "text/plain": [
       "SAYCam LSTM 0     True\n",
       "SAYCam 1-gram     True\n",
       "SAYCam 2-gram    False\n",
       "SAYCam CBOW 0     True\n",
       "Name: 1731, dtype: bool"
      ]
     },
     "metadata": {},
     "output_type": "display_data"
    },
    {
     "name": "stdout",
     "output_type": "stream",
     "text": [
      "the rings that he likes was red .\n",
      "the ring that he likes was red .\n"
     ]
    },
    {
     "data": {
      "text/plain": [
       "SAYCam LSTM 0     True\n",
       "SAYCam 1-gram     True\n",
       "SAYCam 2-gram    False\n",
       "SAYCam CBOW 0     True\n",
       "Name: 1732, dtype: bool"
      ]
     },
     "metadata": {},
     "output_type": "display_data"
    },
    {
     "name": "stdout",
     "output_type": "stream",
     "text": [
      "the rings that she likes was red .\n",
      "the ring that she likes was red .\n"
     ]
    },
    {
     "data": {
      "text/plain": [
       "SAYCam LSTM 0     True\n",
       "SAYCam 1-gram     True\n",
       "SAYCam 2-gram    False\n",
       "SAYCam CBOW 0     True\n",
       "Name: 1733, dtype: bool"
      ]
     },
     "metadata": {},
     "output_type": "display_data"
    },
    {
     "name": "stdout",
     "output_type": "stream",
     "text": [
      "the rings that it likes was red .\n",
      "the ring that it likes was red .\n"
     ]
    },
    {
     "data": {
      "text/plain": [
       "SAYCam LSTM 0     True\n",
       "SAYCam 1-gram     True\n",
       "SAYCam 2-gram    False\n",
       "SAYCam CBOW 0     True\n",
       "Name: 1734, dtype: bool"
      ]
     },
     "metadata": {},
     "output_type": "display_data"
    },
    {
     "name": "stdout",
     "output_type": "stream",
     "text": [
      "the rings that was there was red .\n",
      "the ring that was there was red .\n"
     ]
    },
    {
     "data": {
      "text/plain": [
       "SAYCam LSTM 0     True\n",
       "SAYCam 1-gram     True\n",
       "SAYCam 2-gram    False\n",
       "SAYCam CBOW 0     True\n",
       "Name: 1735, dtype: bool"
      ]
     },
     "metadata": {},
     "output_type": "display_data"
    },
    {
     "name": "stdout",
     "output_type": "stream",
     "text": [
      "comparing agreement_subject_verb-in_simple_question (836 / 2000.0 = 41.80%):\n"
     ]
    },
    {
     "data": {
      "text/plain": [
       "model\n",
       "BabyBERTa_AO-CHILDES    0.964115\n",
       "SAYCam 1-gram           0.500000\n",
       "SAYCam 2-gram           0.492823\n",
       "SAYCam CBOW 0           0.417464\n",
       "SAYCam LSTM 0           0.589713\n",
       "Name: agreement_subject_verb-in_simple_question, dtype: float64"
      ]
     },
     "metadata": {},
     "output_type": "display_data"
    },
    {
     "name": "stdout",
     "output_type": "stream",
     "text": [
      "was the stars something you like ?\n",
      "was the star something you like ?\n"
     ]
    },
    {
     "data": {
      "text/plain": [
       "SAYCam LSTM 0     True\n",
       "SAYCam 1-gram     True\n",
       "SAYCam 2-gram    False\n",
       "SAYCam CBOW 0     True\n",
       "Name: 124, dtype: bool"
      ]
     },
     "metadata": {},
     "output_type": "display_data"
    },
    {
     "name": "stdout",
     "output_type": "stream",
     "text": [
      "was the stars a good idea ?\n",
      "was the star a good idea ?\n"
     ]
    },
    {
     "data": {
      "text/plain": [
       "SAYCam LSTM 0     True\n",
       "SAYCam 1-gram     True\n",
       "SAYCam 2-gram    False\n",
       "SAYCam CBOW 0     True\n",
       "Name: 125, dtype: bool"
      ]
     },
     "metadata": {},
     "output_type": "display_data"
    },
    {
     "name": "stdout",
     "output_type": "stream",
     "text": [
      "where is the babies ?\n",
      "where is the baby ?\n"
     ]
    },
    {
     "data": {
      "text/plain": [
       "SAYCam LSTM 0     True\n",
       "SAYCam 1-gram     True\n",
       "SAYCam 2-gram     True\n",
       "SAYCam CBOW 0    False\n",
       "Name: 140, dtype: bool"
      ]
     },
     "metadata": {},
     "output_type": "display_data"
    },
    {
     "name": "stdout",
     "output_type": "stream",
     "text": [
      "what is the babies ?\n",
      "what is the baby ?\n"
     ]
    },
    {
     "data": {
      "text/plain": [
       "SAYCam LSTM 0     True\n",
       "SAYCam 1-gram     True\n",
       "SAYCam 2-gram     True\n",
       "SAYCam CBOW 0    False\n",
       "Name: 141, dtype: bool"
      ]
     },
     "metadata": {},
     "output_type": "display_data"
    },
    {
     "name": "stdout",
     "output_type": "stream",
     "text": [
      "what color is the babies ?\n",
      "what color is the baby ?\n"
     ]
    },
    {
     "data": {
      "text/plain": [
       "SAYCam LSTM 0     True\n",
       "SAYCam 1-gram     True\n",
       "SAYCam 2-gram     True\n",
       "SAYCam CBOW 0    False\n",
       "Name: 142, dtype: bool"
      ]
     },
     "metadata": {},
     "output_type": "display_data"
    },
    {
     "name": "stdout",
     "output_type": "stream",
     "text": [
      "is the babies not finished ?\n",
      "is the baby not finished ?\n"
     ]
    },
    {
     "data": {
      "text/plain": [
       "SAYCam LSTM 0     True\n",
       "SAYCam 1-gram     True\n",
       "SAYCam 2-gram     True\n",
       "SAYCam CBOW 0    False\n",
       "Name: 143, dtype: bool"
      ]
     },
     "metadata": {},
     "output_type": "display_data"
    },
    {
     "name": "stdout",
     "output_type": "stream",
     "text": [
      "is the babies something you like ?\n",
      "is the baby something you like ?\n"
     ]
    },
    {
     "data": {
      "text/plain": [
       "SAYCam LSTM 0     True\n",
       "SAYCam 1-gram     True\n",
       "SAYCam 2-gram     True\n",
       "SAYCam CBOW 0    False\n",
       "Name: 145, dtype: bool"
      ]
     },
     "metadata": {},
     "output_type": "display_data"
    },
    {
     "name": "stdout",
     "output_type": "stream",
     "text": [
      "where was the babies ?\n",
      "where was the baby ?\n"
     ]
    },
    {
     "data": {
      "text/plain": [
       "SAYCam LSTM 0     True\n",
       "SAYCam 1-gram     True\n",
       "SAYCam 2-gram     True\n",
       "SAYCam CBOW 0    False\n",
       "Name: 147, dtype: bool"
      ]
     },
     "metadata": {},
     "output_type": "display_data"
    },
    {
     "name": "stdout",
     "output_type": "stream",
     "text": [
      "what was the babies ?\n",
      "what was the baby ?\n"
     ]
    },
    {
     "data": {
      "text/plain": [
       "SAYCam LSTM 0     True\n",
       "SAYCam 1-gram     True\n",
       "SAYCam 2-gram     True\n",
       "SAYCam CBOW 0    False\n",
       "Name: 148, dtype: bool"
      ]
     },
     "metadata": {},
     "output_type": "display_data"
    },
    {
     "name": "stdout",
     "output_type": "stream",
     "text": [
      "what color was the babies ?\n",
      "what color was the baby ?\n"
     ]
    },
    {
     "data": {
      "text/plain": [
       "SAYCam LSTM 0     True\n",
       "SAYCam 1-gram     True\n",
       "SAYCam 2-gram     True\n",
       "SAYCam CBOW 0    False\n",
       "Name: 149, dtype: bool"
      ]
     },
     "metadata": {},
     "output_type": "display_data"
    },
    {
     "name": "stdout",
     "output_type": "stream",
     "text": [
      "was the babies not finished ?\n",
      "was the baby not finished ?\n"
     ]
    },
    {
     "data": {
      "text/plain": [
       "SAYCam LSTM 0     True\n",
       "SAYCam 1-gram     True\n",
       "SAYCam 2-gram     True\n",
       "SAYCam CBOW 0    False\n",
       "Name: 150, dtype: bool"
      ]
     },
     "metadata": {},
     "output_type": "display_data"
    },
    {
     "name": "stdout",
     "output_type": "stream",
     "text": [
      "was the babies where it should be ?\n",
      "was the baby where it should be ?\n"
     ]
    },
    {
     "data": {
      "text/plain": [
       "SAYCam LSTM 0     True\n",
       "SAYCam 1-gram     True\n",
       "SAYCam 2-gram     True\n",
       "SAYCam CBOW 0    False\n",
       "Name: 151, dtype: bool"
      ]
     },
     "metadata": {},
     "output_type": "display_data"
    },
    {
     "name": "stdout",
     "output_type": "stream",
     "text": [
      "was the babies something you like ?\n",
      "was the baby something you like ?\n"
     ]
    },
    {
     "data": {
      "text/plain": [
       "SAYCam LSTM 0     True\n",
       "SAYCam 1-gram     True\n",
       "SAYCam 2-gram     True\n",
       "SAYCam CBOW 0    False\n",
       "Name: 152, dtype: bool"
      ]
     },
     "metadata": {},
     "output_type": "display_data"
    },
    {
     "name": "stdout",
     "output_type": "stream",
     "text": [
      "what are the baby ?\n",
      "what are the babies ?\n"
     ]
    },
    {
     "data": {
      "text/plain": [
       "SAYCam LSTM 0     True\n",
       "SAYCam 1-gram    False\n",
       "SAYCam 2-gram    False\n",
       "SAYCam CBOW 0    False\n",
       "Name: 155, dtype: bool"
      ]
     },
     "metadata": {},
     "output_type": "display_data"
    },
    {
     "name": "stdout",
     "output_type": "stream",
     "text": [
      "what color are the baby ?\n",
      "what color are the babies ?\n"
     ]
    },
    {
     "data": {
      "text/plain": [
       "SAYCam LSTM 0     True\n",
       "SAYCam 1-gram    False\n",
       "SAYCam 2-gram    False\n",
       "SAYCam CBOW 0    False\n",
       "Name: 156, dtype: bool"
      ]
     },
     "metadata": {},
     "output_type": "display_data"
    },
    {
     "name": "stdout",
     "output_type": "stream",
     "text": [
      "are the baby where they should be ?\n",
      "are the babies where they should be ?\n"
     ]
    },
    {
     "data": {
      "text/plain": [
       "SAYCam LSTM 0     True\n",
       "SAYCam 1-gram    False\n",
       "SAYCam 2-gram    False\n",
       "SAYCam CBOW 0    False\n",
       "Name: 158, dtype: bool"
      ]
     },
     "metadata": {},
     "output_type": "display_data"
    },
    {
     "name": "stdout",
     "output_type": "stream",
     "text": [
      "were the baby where they should be ?\n",
      "were the babies where they should be ?\n"
     ]
    },
    {
     "data": {
      "text/plain": [
       "SAYCam LSTM 0     True\n",
       "SAYCam 1-gram    False\n",
       "SAYCam 2-gram    False\n",
       "SAYCam CBOW 0    False\n",
       "Name: 165, dtype: bool"
      ]
     },
     "metadata": {},
     "output_type": "display_data"
    },
    {
     "name": "stdout",
     "output_type": "stream",
     "text": [
      "is the guys a good idea ?\n",
      "is the guy a good idea ?\n"
     ]
    },
    {
     "data": {
      "text/plain": [
       "SAYCam LSTM 0     True\n",
       "SAYCam 1-gram     True\n",
       "SAYCam 2-gram     True\n",
       "SAYCam CBOW 0    False\n",
       "Name: 202, dtype: bool"
      ]
     },
     "metadata": {},
     "output_type": "display_data"
    },
    {
     "name": "stdout",
     "output_type": "stream",
     "text": [
      "was the guys not yellow ?\n",
      "was the guy not yellow ?\n"
     ]
    },
    {
     "data": {
      "text/plain": [
       "SAYCam LSTM 0     True\n",
       "SAYCam 1-gram     True\n",
       "SAYCam 2-gram     True\n",
       "SAYCam CBOW 0    False\n",
       "Name: 206, dtype: bool"
      ]
     },
     "metadata": {},
     "output_type": "display_data"
    },
    {
     "name": "stdout",
     "output_type": "stream",
     "text": [
      "are the guy not yellow ?\n",
      "are the guys not yellow ?\n"
     ]
    },
    {
     "data": {
      "text/plain": [
       "SAYCam LSTM 0     True\n",
       "SAYCam 1-gram    False\n",
       "SAYCam 2-gram    False\n",
       "SAYCam CBOW 0     True\n",
       "Name: 213, dtype: bool"
      ]
     },
     "metadata": {},
     "output_type": "display_data"
    },
    {
     "name": "stdout",
     "output_type": "stream",
     "text": [
      "were the guy not yellow ?\n",
      "were the guys not yellow ?\n"
     ]
    },
    {
     "data": {
      "text/plain": [
       "SAYCam LSTM 0     True\n",
       "SAYCam 1-gram    False\n",
       "SAYCam 2-gram    False\n",
       "SAYCam CBOW 0     True\n",
       "Name: 220, dtype: bool"
      ]
     },
     "metadata": {},
     "output_type": "display_data"
    },
    {
     "name": "stdout",
     "output_type": "stream",
     "text": [
      "where is the minutes ?\n",
      "where is the minute ?\n"
     ]
    },
    {
     "data": {
      "text/plain": [
       "SAYCam LSTM 0     True\n",
       "SAYCam 1-gram    False\n",
       "SAYCam 2-gram     True\n",
       "SAYCam CBOW 0     True\n",
       "Name: 224, dtype: bool"
      ]
     },
     "metadata": {},
     "output_type": "display_data"
    },
    {
     "name": "stdout",
     "output_type": "stream",
     "text": [
      "what is the minutes ?\n",
      "what is the minute ?\n"
     ]
    },
    {
     "data": {
      "text/plain": [
       "SAYCam LSTM 0     True\n",
       "SAYCam 1-gram    False\n",
       "SAYCam 2-gram     True\n",
       "SAYCam CBOW 0     True\n",
       "Name: 225, dtype: bool"
      ]
     },
     "metadata": {},
     "output_type": "display_data"
    },
    {
     "name": "stdout",
     "output_type": "stream",
     "text": [
      "what color is the minutes ?\n",
      "what color is the minute ?\n"
     ]
    },
    {
     "data": {
      "text/plain": [
       "SAYCam LSTM 0     True\n",
       "SAYCam 1-gram    False\n",
       "SAYCam 2-gram     True\n",
       "SAYCam CBOW 0     True\n",
       "Name: 226, dtype: bool"
      ]
     },
     "metadata": {},
     "output_type": "display_data"
    },
    {
     "name": "stdout",
     "output_type": "stream",
     "text": [
      "is the minutes not extra ?\n",
      "is the minute not extra ?\n"
     ]
    },
    {
     "data": {
      "text/plain": [
       "SAYCam LSTM 0     True\n",
       "SAYCam 1-gram    False\n",
       "SAYCam 2-gram    False\n",
       "SAYCam CBOW 0     True\n",
       "Name: 227, dtype: bool"
      ]
     },
     "metadata": {},
     "output_type": "display_data"
    },
    {
     "name": "stdout",
     "output_type": "stream",
     "text": [
      "is the minutes something you like ?\n",
      "is the minute something you like ?\n"
     ]
    },
    {
     "data": {
      "text/plain": [
       "SAYCam LSTM 0     True\n",
       "SAYCam 1-gram    False\n",
       "SAYCam 2-gram    False\n",
       "SAYCam CBOW 0     True\n",
       "Name: 229, dtype: bool"
      ]
     },
     "metadata": {},
     "output_type": "display_data"
    },
    {
     "name": "stdout",
     "output_type": "stream",
     "text": [
      "is the minutes a good idea ?\n",
      "is the minute a good idea ?\n"
     ]
    },
    {
     "data": {
      "text/plain": [
       "SAYCam LSTM 0     True\n",
       "SAYCam 1-gram    False\n",
       "SAYCam 2-gram    False\n",
       "SAYCam CBOW 0     True\n",
       "Name: 230, dtype: bool"
      ]
     },
     "metadata": {},
     "output_type": "display_data"
    },
    {
     "name": "stdout",
     "output_type": "stream",
     "text": [
      "where was the minutes ?\n",
      "where was the minute ?\n"
     ]
    },
    {
     "data": {
      "text/plain": [
       "SAYCam LSTM 0     True\n",
       "SAYCam 1-gram    False\n",
       "SAYCam 2-gram     True\n",
       "SAYCam CBOW 0     True\n",
       "Name: 231, dtype: bool"
      ]
     },
     "metadata": {},
     "output_type": "display_data"
    },
    {
     "name": "stdout",
     "output_type": "stream",
     "text": [
      "what color was the minutes ?\n",
      "what color was the minute ?\n"
     ]
    },
    {
     "data": {
      "text/plain": [
       "SAYCam LSTM 0     True\n",
       "SAYCam 1-gram    False\n",
       "SAYCam 2-gram     True\n",
       "SAYCam CBOW 0     True\n",
       "Name: 233, dtype: bool"
      ]
     },
     "metadata": {},
     "output_type": "display_data"
    },
    {
     "name": "stdout",
     "output_type": "stream",
     "text": [
      "was the minutes not extra ?\n",
      "was the minute not extra ?\n"
     ]
    },
    {
     "data": {
      "text/plain": [
       "SAYCam LSTM 0     True\n",
       "SAYCam 1-gram    False\n",
       "SAYCam 2-gram    False\n",
       "SAYCam CBOW 0     True\n",
       "Name: 234, dtype: bool"
      ]
     },
     "metadata": {},
     "output_type": "display_data"
    },
    {
     "name": "stdout",
     "output_type": "stream",
     "text": [
      "was the minutes something you like ?\n",
      "was the minute something you like ?\n"
     ]
    },
    {
     "data": {
      "text/plain": [
       "SAYCam LSTM 0     True\n",
       "SAYCam 1-gram    False\n",
       "SAYCam 2-gram    False\n",
       "SAYCam CBOW 0     True\n",
       "Name: 236, dtype: bool"
      ]
     },
     "metadata": {},
     "output_type": "display_data"
    },
    {
     "name": "stdout",
     "output_type": "stream",
     "text": [
      "was the minutes a good idea ?\n",
      "was the minute a good idea ?\n"
     ]
    },
    {
     "data": {
      "text/plain": [
       "SAYCam LSTM 0     True\n",
       "SAYCam 1-gram    False\n",
       "SAYCam 2-gram    False\n",
       "SAYCam CBOW 0     True\n",
       "Name: 237, dtype: bool"
      ]
     },
     "metadata": {},
     "output_type": "display_data"
    },
    {
     "name": "stdout",
     "output_type": "stream",
     "text": [
      "where are the minute ?\n",
      "where are the minutes ?\n"
     ]
    },
    {
     "data": {
      "text/plain": [
       "SAYCam LSTM 0     True\n",
       "SAYCam 1-gram     True\n",
       "SAYCam 2-gram    False\n",
       "SAYCam CBOW 0    False\n",
       "Name: 238, dtype: bool"
      ]
     },
     "metadata": {},
     "output_type": "display_data"
    },
    {
     "name": "stdout",
     "output_type": "stream",
     "text": [
      "what are the minute ?\n",
      "what are the minutes ?\n"
     ]
    },
    {
     "data": {
      "text/plain": [
       "SAYCam LSTM 0     True\n",
       "SAYCam 1-gram     True\n",
       "SAYCam 2-gram    False\n",
       "SAYCam CBOW 0    False\n",
       "Name: 239, dtype: bool"
      ]
     },
     "metadata": {},
     "output_type": "display_data"
    },
    {
     "name": "stdout",
     "output_type": "stream",
     "text": [
      "what color are the minute ?\n",
      "what color are the minutes ?\n"
     ]
    },
    {
     "data": {
      "text/plain": [
       "SAYCam LSTM 0     True\n",
       "SAYCam 1-gram     True\n",
       "SAYCam 2-gram    False\n",
       "SAYCam CBOW 0    False\n",
       "Name: 240, dtype: bool"
      ]
     },
     "metadata": {},
     "output_type": "display_data"
    },
    {
     "name": "stdout",
     "output_type": "stream",
     "text": [
      "are the minute where they should be ?\n",
      "are the minutes where they should be ?\n"
     ]
    },
    {
     "data": {
      "text/plain": [
       "SAYCam LSTM 0     True\n",
       "SAYCam 1-gram     True\n",
       "SAYCam 2-gram     True\n",
       "SAYCam CBOW 0    False\n",
       "Name: 242, dtype: bool"
      ]
     },
     "metadata": {},
     "output_type": "display_data"
    },
    {
     "name": "stdout",
     "output_type": "stream",
     "text": [
      "are the minute a good idea ?\n",
      "are the minutes a good idea ?\n"
     ]
    },
    {
     "data": {
      "text/plain": [
       "SAYCam LSTM 0     True\n",
       "SAYCam 1-gram     True\n",
       "SAYCam 2-gram     True\n",
       "SAYCam CBOW 0    False\n",
       "Name: 244, dtype: bool"
      ]
     },
     "metadata": {},
     "output_type": "display_data"
    },
    {
     "name": "stdout",
     "output_type": "stream",
     "text": [
      "where were the minute ?\n",
      "where were the minutes ?\n"
     ]
    },
    {
     "data": {
      "text/plain": [
       "SAYCam LSTM 0     True\n",
       "SAYCam 1-gram     True\n",
       "SAYCam 2-gram    False\n",
       "SAYCam CBOW 0    False\n",
       "Name: 245, dtype: bool"
      ]
     },
     "metadata": {},
     "output_type": "display_data"
    },
    {
     "name": "stdout",
     "output_type": "stream",
     "text": [
      "what were the minute ?\n",
      "what were the minutes ?\n"
     ]
    },
    {
     "data": {
      "text/plain": [
       "SAYCam LSTM 0     True\n",
       "SAYCam 1-gram     True\n",
       "SAYCam 2-gram    False\n",
       "SAYCam CBOW 0    False\n",
       "Name: 246, dtype: bool"
      ]
     },
     "metadata": {},
     "output_type": "display_data"
    },
    {
     "name": "stdout",
     "output_type": "stream",
     "text": [
      "what color were the minute ?\n",
      "what color were the minutes ?\n"
     ]
    },
    {
     "data": {
      "text/plain": [
       "SAYCam LSTM 0     True\n",
       "SAYCam 1-gram     True\n",
       "SAYCam 2-gram    False\n",
       "SAYCam CBOW 0    False\n",
       "Name: 247, dtype: bool"
      ]
     },
     "metadata": {},
     "output_type": "display_data"
    },
    {
     "name": "stdout",
     "output_type": "stream",
     "text": [
      "were the minute not extra ?\n",
      "were the minutes not extra ?\n"
     ]
    },
    {
     "data": {
      "text/plain": [
       "SAYCam LSTM 0     True\n",
       "SAYCam 1-gram     True\n",
       "SAYCam 2-gram     True\n",
       "SAYCam CBOW 0    False\n",
       "Name: 248, dtype: bool"
      ]
     },
     "metadata": {},
     "output_type": "display_data"
    },
    {
     "name": "stdout",
     "output_type": "stream",
     "text": [
      "were the minute where they should be ?\n",
      "were the minutes where they should be ?\n"
     ]
    },
    {
     "data": {
      "text/plain": [
       "SAYCam LSTM 0     True\n",
       "SAYCam 1-gram     True\n",
       "SAYCam 2-gram     True\n",
       "SAYCam CBOW 0    False\n",
       "Name: 249, dtype: bool"
      ]
     },
     "metadata": {},
     "output_type": "display_data"
    },
    {
     "name": "stdout",
     "output_type": "stream",
     "text": [
      "were the minute something you like ?\n",
      "were the minutes something you like ?\n"
     ]
    },
    {
     "data": {
      "text/plain": [
       "SAYCam LSTM 0     True\n",
       "SAYCam 1-gram     True\n",
       "SAYCam 2-gram     True\n",
       "SAYCam CBOW 0    False\n",
       "Name: 250, dtype: bool"
      ]
     },
     "metadata": {},
     "output_type": "display_data"
    },
    {
     "name": "stdout",
     "output_type": "stream",
     "text": [
      "were the minute a good idea ?\n",
      "were the minutes a good idea ?\n"
     ]
    },
    {
     "data": {
      "text/plain": [
       "SAYCam LSTM 0     True\n",
       "SAYCam 1-gram     True\n",
       "SAYCam 2-gram     True\n",
       "SAYCam CBOW 0    False\n",
       "Name: 251, dtype: bool"
      ]
     },
     "metadata": {},
     "output_type": "display_data"
    },
    {
     "name": "stdout",
     "output_type": "stream",
     "text": [
      "is the songs not good ?\n",
      "is the song not good ?\n"
     ]
    },
    {
     "data": {
      "text/plain": [
       "SAYCam LSTM 0     True\n",
       "SAYCam 1-gram     True\n",
       "SAYCam 2-gram     True\n",
       "SAYCam CBOW 0    False\n",
       "Name: 252, dtype: bool"
      ]
     },
     "metadata": {},
     "output_type": "display_data"
    },
    {
     "name": "stdout",
     "output_type": "stream",
     "text": [
      "was the songs not good ?\n",
      "was the song not good ?\n"
     ]
    },
    {
     "data": {
      "text/plain": [
       "SAYCam LSTM 0     True\n",
       "SAYCam 1-gram     True\n",
       "SAYCam 2-gram     True\n",
       "SAYCam CBOW 0    False\n",
       "Name: 253, dtype: bool"
      ]
     },
     "metadata": {},
     "output_type": "display_data"
    },
    {
     "name": "stdout",
     "output_type": "stream",
     "text": [
      "is the bits not good ?\n",
      "is the bit not good ?\n"
     ]
    },
    {
     "data": {
      "text/plain": [
       "SAYCam LSTM 0     True\n",
       "SAYCam 1-gram     True\n",
       "SAYCam 2-gram     True\n",
       "SAYCam CBOW 0    False\n",
       "Name: 259, dtype: bool"
      ]
     },
     "metadata": {},
     "output_type": "display_data"
    },
    {
     "name": "stdout",
     "output_type": "stream",
     "text": [
      "was the bits not good ?\n",
      "was the bit not good ?\n"
     ]
    },
    {
     "data": {
      "text/plain": [
       "SAYCam LSTM 0     True\n",
       "SAYCam 1-gram     True\n",
       "SAYCam 2-gram     True\n",
       "SAYCam CBOW 0    False\n",
       "Name: 266, dtype: bool"
      ]
     },
     "metadata": {},
     "output_type": "display_data"
    },
    {
     "name": "stdout",
     "output_type": "stream",
     "text": [
      "was the bits where it should be ?\n",
      "was the bit where it should be ?\n"
     ]
    },
    {
     "data": {
      "text/plain": [
       "SAYCam LSTM 0     True\n",
       "SAYCam 1-gram     True\n",
       "SAYCam 2-gram     True\n",
       "SAYCam CBOW 0    False\n",
       "Name: 267, dtype: bool"
      ]
     },
     "metadata": {},
     "output_type": "display_data"
    },
    {
     "name": "stdout",
     "output_type": "stream",
     "text": [
      "was the bits something you like ?\n",
      "was the bit something you like ?\n"
     ]
    },
    {
     "data": {
      "text/plain": [
       "SAYCam LSTM 0     True\n",
       "SAYCam 1-gram     True\n",
       "SAYCam 2-gram     True\n",
       "SAYCam CBOW 0    False\n",
       "Name: 268, dtype: bool"
      ]
     },
     "metadata": {},
     "output_type": "display_data"
    },
    {
     "name": "stdout",
     "output_type": "stream",
     "text": [
      "what are the bit ?\n",
      "what are the bits ?\n"
     ]
    },
    {
     "data": {
      "text/plain": [
       "SAYCam LSTM 0     True\n",
       "SAYCam 1-gram    False\n",
       "SAYCam 2-gram    False\n",
       "SAYCam CBOW 0    False\n",
       "Name: 271, dtype: bool"
      ]
     },
     "metadata": {},
     "output_type": "display_data"
    },
    {
     "name": "stdout",
     "output_type": "stream",
     "text": [
      "what color are the bit ?\n",
      "what color are the bits ?\n"
     ]
    },
    {
     "data": {
      "text/plain": [
       "SAYCam LSTM 0     True\n",
       "SAYCam 1-gram    False\n",
       "SAYCam 2-gram    False\n",
       "SAYCam CBOW 0    False\n",
       "Name: 272, dtype: bool"
      ]
     },
     "metadata": {},
     "output_type": "display_data"
    },
    {
     "name": "stdout",
     "output_type": "stream",
     "text": [
      "where is the toys ?\n",
      "where is the toy ?\n"
     ]
    },
    {
     "data": {
      "text/plain": [
       "SAYCam LSTM 0     True\n",
       "SAYCam 1-gram    False\n",
       "SAYCam 2-gram    False\n",
       "SAYCam CBOW 0     True\n",
       "Name: 284, dtype: bool"
      ]
     },
     "metadata": {},
     "output_type": "display_data"
    },
    {
     "name": "stdout",
     "output_type": "stream",
     "text": [
      "what is the toys ?\n",
      "what is the toy ?\n"
     ]
    },
    {
     "data": {
      "text/plain": [
       "SAYCam LSTM 0     True\n",
       "SAYCam 1-gram    False\n",
       "SAYCam 2-gram    False\n",
       "SAYCam CBOW 0     True\n",
       "Name: 285, dtype: bool"
      ]
     },
     "metadata": {},
     "output_type": "display_data"
    },
    {
     "name": "stdout",
     "output_type": "stream",
     "text": [
      "what color is the toys ?\n",
      "what color is the toy ?\n"
     ]
    },
    {
     "data": {
      "text/plain": [
       "SAYCam LSTM 0     True\n",
       "SAYCam 1-gram    False\n",
       "SAYCam 2-gram    False\n",
       "SAYCam CBOW 0     True\n",
       "Name: 286, dtype: bool"
      ]
     },
     "metadata": {},
     "output_type": "display_data"
    },
    {
     "name": "stdout",
     "output_type": "stream",
     "text": [
      "is the toys where it should be ?\n",
      "is the toy where it should be ?\n"
     ]
    },
    {
     "data": {
      "text/plain": [
       "SAYCam LSTM 0     True\n",
       "SAYCam 1-gram    False\n",
       "SAYCam 2-gram     True\n",
       "SAYCam CBOW 0    False\n",
       "Name: 288, dtype: bool"
      ]
     },
     "metadata": {},
     "output_type": "display_data"
    },
    {
     "name": "stdout",
     "output_type": "stream",
     "text": [
      "is the toys a good idea ?\n",
      "is the toy a good idea ?\n"
     ]
    },
    {
     "data": {
      "text/plain": [
       "SAYCam LSTM 0     True\n",
       "SAYCam 1-gram    False\n",
       "SAYCam 2-gram     True\n",
       "SAYCam CBOW 0     True\n",
       "Name: 290, dtype: bool"
      ]
     },
     "metadata": {},
     "output_type": "display_data"
    },
    {
     "name": "stdout",
     "output_type": "stream",
     "text": [
      "where was the toys ?\n",
      "where was the toy ?\n"
     ]
    },
    {
     "data": {
      "text/plain": [
       "SAYCam LSTM 0     True\n",
       "SAYCam 1-gram    False\n",
       "SAYCam 2-gram    False\n",
       "SAYCam CBOW 0    False\n",
       "Name: 291, dtype: bool"
      ]
     },
     "metadata": {},
     "output_type": "display_data"
    },
    {
     "name": "stdout",
     "output_type": "stream",
     "text": [
      "what was the toys ?\n",
      "what was the toy ?\n"
     ]
    },
    {
     "data": {
      "text/plain": [
       "SAYCam LSTM 0     True\n",
       "SAYCam 1-gram    False\n",
       "SAYCam 2-gram    False\n",
       "SAYCam CBOW 0    False\n",
       "Name: 292, dtype: bool"
      ]
     },
     "metadata": {},
     "output_type": "display_data"
    },
    {
     "name": "stdout",
     "output_type": "stream",
     "text": [
      "was the toys where it should be ?\n",
      "was the toy where it should be ?\n"
     ]
    },
    {
     "data": {
      "text/plain": [
       "SAYCam LSTM 0     True\n",
       "SAYCam 1-gram    False\n",
       "SAYCam 2-gram     True\n",
       "SAYCam CBOW 0    False\n",
       "Name: 295, dtype: bool"
      ]
     },
     "metadata": {},
     "output_type": "display_data"
    },
    {
     "name": "stdout",
     "output_type": "stream",
     "text": [
      "was the toys something you like ?\n",
      "was the toy something you like ?\n"
     ]
    },
    {
     "data": {
      "text/plain": [
       "SAYCam LSTM 0     True\n",
       "SAYCam 1-gram    False\n",
       "SAYCam 2-gram     True\n",
       "SAYCam CBOW 0    False\n",
       "Name: 296, dtype: bool"
      ]
     },
     "metadata": {},
     "output_type": "display_data"
    },
    {
     "name": "stdout",
     "output_type": "stream",
     "text": [
      "was the toys a good idea ?\n",
      "was the toy a good idea ?\n"
     ]
    },
    {
     "data": {
      "text/plain": [
       "SAYCam LSTM 0     True\n",
       "SAYCam 1-gram    False\n",
       "SAYCam 2-gram     True\n",
       "SAYCam CBOW 0     True\n",
       "Name: 297, dtype: bool"
      ]
     },
     "metadata": {},
     "output_type": "display_data"
    },
    {
     "name": "stdout",
     "output_type": "stream",
     "text": [
      "where are the toy ?\n",
      "where are the toys ?\n"
     ]
    },
    {
     "data": {
      "text/plain": [
       "SAYCam LSTM 0     True\n",
       "SAYCam 1-gram     True\n",
       "SAYCam 2-gram     True\n",
       "SAYCam CBOW 0    False\n",
       "Name: 298, dtype: bool"
      ]
     },
     "metadata": {},
     "output_type": "display_data"
    },
    {
     "name": "stdout",
     "output_type": "stream",
     "text": [
      "what are the toy ?\n",
      "what are the toys ?\n"
     ]
    },
    {
     "data": {
      "text/plain": [
       "SAYCam LSTM 0     True\n",
       "SAYCam 1-gram     True\n",
       "SAYCam 2-gram     True\n",
       "SAYCam CBOW 0    False\n",
       "Name: 299, dtype: bool"
      ]
     },
     "metadata": {},
     "output_type": "display_data"
    },
    {
     "name": "stdout",
     "output_type": "stream",
     "text": [
      "what color are the toy ?\n",
      "what color are the toys ?\n"
     ]
    },
    {
     "data": {
      "text/plain": [
       "SAYCam LSTM 0     True\n",
       "SAYCam 1-gram     True\n",
       "SAYCam 2-gram     True\n",
       "SAYCam CBOW 0    False\n",
       "Name: 300, dtype: bool"
      ]
     },
     "metadata": {},
     "output_type": "display_data"
    },
    {
     "name": "stdout",
     "output_type": "stream",
     "text": [
      "are the toy something you like ?\n",
      "are the toys something you like ?\n"
     ]
    },
    {
     "data": {
      "text/plain": [
       "SAYCam LSTM 0     True\n",
       "SAYCam 1-gram     True\n",
       "SAYCam 2-gram    False\n",
       "SAYCam CBOW 0    False\n",
       "Name: 303, dtype: bool"
      ]
     },
     "metadata": {},
     "output_type": "display_data"
    },
    {
     "name": "stdout",
     "output_type": "stream",
     "text": [
      "are the toy a good idea ?\n",
      "are the toys a good idea ?\n"
     ]
    },
    {
     "data": {
      "text/plain": [
       "SAYCam LSTM 0     True\n",
       "SAYCam 1-gram     True\n",
       "SAYCam 2-gram    False\n",
       "SAYCam CBOW 0    False\n",
       "Name: 304, dtype: bool"
      ]
     },
     "metadata": {},
     "output_type": "display_data"
    },
    {
     "name": "stdout",
     "output_type": "stream",
     "text": [
      "where were the toy ?\n",
      "where were the toys ?\n"
     ]
    },
    {
     "data": {
      "text/plain": [
       "SAYCam LSTM 0     True\n",
       "SAYCam 1-gram     True\n",
       "SAYCam 2-gram     True\n",
       "SAYCam CBOW 0    False\n",
       "Name: 305, dtype: bool"
      ]
     },
     "metadata": {},
     "output_type": "display_data"
    },
    {
     "name": "stdout",
     "output_type": "stream",
     "text": [
      "what were the toy ?\n",
      "what were the toys ?\n"
     ]
    },
    {
     "data": {
      "text/plain": [
       "SAYCam LSTM 0     True\n",
       "SAYCam 1-gram     True\n",
       "SAYCam 2-gram     True\n",
       "SAYCam CBOW 0    False\n",
       "Name: 306, dtype: bool"
      ]
     },
     "metadata": {},
     "output_type": "display_data"
    },
    {
     "name": "stdout",
     "output_type": "stream",
     "text": [
      "what color were the toy ?\n",
      "what color were the toys ?\n"
     ]
    },
    {
     "data": {
      "text/plain": [
       "SAYCam LSTM 0     True\n",
       "SAYCam 1-gram     True\n",
       "SAYCam 2-gram     True\n",
       "SAYCam CBOW 0    False\n",
       "Name: 307, dtype: bool"
      ]
     },
     "metadata": {},
     "output_type": "display_data"
    },
    {
     "name": "stdout",
     "output_type": "stream",
     "text": [
      "were the toy something you like ?\n",
      "were the toys something you like ?\n"
     ]
    },
    {
     "data": {
      "text/plain": [
       "SAYCam LSTM 0     True\n",
       "SAYCam 1-gram     True\n",
       "SAYCam 2-gram    False\n",
       "SAYCam CBOW 0    False\n",
       "Name: 310, dtype: bool"
      ]
     },
     "metadata": {},
     "output_type": "display_data"
    },
    {
     "name": "stdout",
     "output_type": "stream",
     "text": [
      "were the toy a good idea ?\n",
      "were the toys a good idea ?\n"
     ]
    },
    {
     "data": {
      "text/plain": [
       "SAYCam LSTM 0     True\n",
       "SAYCam 1-gram     True\n",
       "SAYCam 2-gram    False\n",
       "SAYCam CBOW 0    False\n",
       "Name: 311, dtype: bool"
      ]
     },
     "metadata": {},
     "output_type": "display_data"
    },
    {
     "name": "stdout",
     "output_type": "stream",
     "text": [
      "what are the whale ?\n",
      "what are the whales ?\n"
     ]
    },
    {
     "data": {
      "text/plain": [
       "SAYCam LSTM 0     True\n",
       "SAYCam 1-gram    False\n",
       "SAYCam 2-gram    False\n",
       "SAYCam CBOW 0    False\n",
       "Name: 327, dtype: bool"
      ]
     },
     "metadata": {},
     "output_type": "display_data"
    },
    {
     "name": "stdout",
     "output_type": "stream",
     "text": [
      "what color are the whale ?\n",
      "what color are the whales ?\n"
     ]
    },
    {
     "data": {
      "text/plain": [
       "SAYCam LSTM 0     True\n",
       "SAYCam 1-gram    False\n",
       "SAYCam 2-gram    False\n",
       "SAYCam CBOW 0    False\n",
       "Name: 328, dtype: bool"
      ]
     },
     "metadata": {},
     "output_type": "display_data"
    },
    {
     "name": "stdout",
     "output_type": "stream",
     "text": [
      "are the whale where they should be ?\n",
      "are the whales where they should be ?\n"
     ]
    },
    {
     "data": {
      "text/plain": [
       "SAYCam LSTM 0     True\n",
       "SAYCam 1-gram    False\n",
       "SAYCam 2-gram    False\n",
       "SAYCam CBOW 0    False\n",
       "Name: 330, dtype: bool"
      ]
     },
     "metadata": {},
     "output_type": "display_data"
    },
    {
     "name": "stdout",
     "output_type": "stream",
     "text": [
      "what were the whale ?\n",
      "what were the whales ?\n"
     ]
    },
    {
     "data": {
      "text/plain": [
       "SAYCam LSTM 0     True\n",
       "SAYCam 1-gram    False\n",
       "SAYCam 2-gram    False\n",
       "SAYCam CBOW 0    False\n",
       "Name: 334, dtype: bool"
      ]
     },
     "metadata": {},
     "output_type": "display_data"
    },
    {
     "name": "stdout",
     "output_type": "stream",
     "text": [
      "were the whale where they should be ?\n",
      "were the whales where they should be ?\n"
     ]
    },
    {
     "data": {
      "text/plain": [
       "SAYCam LSTM 0     True\n",
       "SAYCam 1-gram    False\n",
       "SAYCam 2-gram    False\n",
       "SAYCam CBOW 0    False\n",
       "Name: 337, dtype: bool"
      ]
     },
     "metadata": {},
     "output_type": "display_data"
    },
    {
     "name": "stdout",
     "output_type": "stream",
     "text": [
      "is the horses where it should be ?\n",
      "is the horse where it should be ?\n"
     ]
    },
    {
     "data": {
      "text/plain": [
       "SAYCam LSTM 0     True\n",
       "SAYCam 1-gram     True\n",
       "SAYCam 2-gram     True\n",
       "SAYCam CBOW 0    False\n",
       "Name: 384, dtype: bool"
      ]
     },
     "metadata": {},
     "output_type": "display_data"
    },
    {
     "name": "stdout",
     "output_type": "stream",
     "text": [
      "was the horses where it should be ?\n",
      "was the horse where it should be ?\n"
     ]
    },
    {
     "data": {
      "text/plain": [
       "SAYCam LSTM 0     True\n",
       "SAYCam 1-gram     True\n",
       "SAYCam 2-gram     True\n",
       "SAYCam CBOW 0    False\n",
       "Name: 391, dtype: bool"
      ]
     },
     "metadata": {},
     "output_type": "display_data"
    },
    {
     "name": "stdout",
     "output_type": "stream",
     "text": [
      "was the horses something you like ?\n",
      "was the horse something you like ?\n"
     ]
    },
    {
     "data": {
      "text/plain": [
       "SAYCam LSTM 0     True\n",
       "SAYCam 1-gram     True\n",
       "SAYCam 2-gram     True\n",
       "SAYCam CBOW 0    False\n",
       "Name: 392, dtype: bool"
      ]
     },
     "metadata": {},
     "output_type": "display_data"
    },
    {
     "name": "stdout",
     "output_type": "stream",
     "text": [
      "what color are the horse ?\n",
      "what color are the horses ?\n"
     ]
    },
    {
     "data": {
      "text/plain": [
       "SAYCam LSTM 0     True\n",
       "SAYCam 1-gram    False\n",
       "SAYCam 2-gram    False\n",
       "SAYCam CBOW 0    False\n",
       "Name: 396, dtype: bool"
      ]
     },
     "metadata": {},
     "output_type": "display_data"
    },
    {
     "name": "stdout",
     "output_type": "stream",
     "text": [
      "are the horse where they should be ?\n",
      "are the horses where they should be ?\n"
     ]
    },
    {
     "data": {
      "text/plain": [
       "SAYCam LSTM 0     True\n",
       "SAYCam 1-gram    False\n",
       "SAYCam 2-gram    False\n",
       "SAYCam CBOW 0    False\n",
       "Name: 398, dtype: bool"
      ]
     },
     "metadata": {},
     "output_type": "display_data"
    },
    {
     "name": "stdout",
     "output_type": "stream",
     "text": [
      "where is the birds ?\n",
      "where is the bird ?\n"
     ]
    },
    {
     "data": {
      "text/plain": [
       "SAYCam LSTM 0     True\n",
       "SAYCam 1-gram    False\n",
       "SAYCam 2-gram     True\n",
       "SAYCam CBOW 0     True\n",
       "Name: 444, dtype: bool"
      ]
     },
     "metadata": {},
     "output_type": "display_data"
    },
    {
     "name": "stdout",
     "output_type": "stream",
     "text": [
      "what is the birds ?\n",
      "what is the bird ?\n"
     ]
    },
    {
     "data": {
      "text/plain": [
       "SAYCam LSTM 0     True\n",
       "SAYCam 1-gram    False\n",
       "SAYCam 2-gram     True\n",
       "SAYCam CBOW 0     True\n",
       "Name: 445, dtype: bool"
      ]
     },
     "metadata": {},
     "output_type": "display_data"
    },
    {
     "name": "stdout",
     "output_type": "stream",
     "text": [
      "is the birds not white ?\n",
      "is the bird not white ?\n"
     ]
    },
    {
     "data": {
      "text/plain": [
       "SAYCam LSTM 0     True\n",
       "SAYCam 1-gram    False\n",
       "SAYCam 2-gram    False\n",
       "SAYCam CBOW 0    False\n",
       "Name: 447, dtype: bool"
      ]
     },
     "metadata": {},
     "output_type": "display_data"
    },
    {
     "name": "stdout",
     "output_type": "stream",
     "text": [
      "is the birds a good idea ?\n",
      "is the bird a good idea ?\n"
     ]
    },
    {
     "data": {
      "text/plain": [
       "SAYCam LSTM 0     True\n",
       "SAYCam 1-gram    False\n",
       "SAYCam 2-gram    False\n",
       "SAYCam CBOW 0     True\n",
       "Name: 450, dtype: bool"
      ]
     },
     "metadata": {},
     "output_type": "display_data"
    },
    {
     "name": "stdout",
     "output_type": "stream",
     "text": [
      "where was the birds ?\n",
      "where was the bird ?\n"
     ]
    },
    {
     "data": {
      "text/plain": [
       "SAYCam LSTM 0     True\n",
       "SAYCam 1-gram    False\n",
       "SAYCam 2-gram     True\n",
       "SAYCam CBOW 0     True\n",
       "Name: 451, dtype: bool"
      ]
     },
     "metadata": {},
     "output_type": "display_data"
    },
    {
     "name": "stdout",
     "output_type": "stream",
     "text": [
      "what was the birds ?\n",
      "what was the bird ?\n"
     ]
    },
    {
     "data": {
      "text/plain": [
       "SAYCam LSTM 0     True\n",
       "SAYCam 1-gram    False\n",
       "SAYCam 2-gram     True\n",
       "SAYCam CBOW 0     True\n",
       "Name: 452, dtype: bool"
      ]
     },
     "metadata": {},
     "output_type": "display_data"
    },
    {
     "name": "stdout",
     "output_type": "stream",
     "text": [
      "was the birds not white ?\n",
      "was the bird not white ?\n"
     ]
    },
    {
     "data": {
      "text/plain": [
       "SAYCam LSTM 0     True\n",
       "SAYCam 1-gram    False\n",
       "SAYCam 2-gram    False\n",
       "SAYCam CBOW 0    False\n",
       "Name: 454, dtype: bool"
      ]
     },
     "metadata": {},
     "output_type": "display_data"
    },
    {
     "name": "stdout",
     "output_type": "stream",
     "text": [
      "was the birds something you like ?\n",
      "was the bird something you like ?\n"
     ]
    },
    {
     "data": {
      "text/plain": [
       "SAYCam LSTM 0     True\n",
       "SAYCam 1-gram    False\n",
       "SAYCam 2-gram    False\n",
       "SAYCam CBOW 0    False\n",
       "Name: 456, dtype: bool"
      ]
     },
     "metadata": {},
     "output_type": "display_data"
    },
    {
     "name": "stdout",
     "output_type": "stream",
     "text": [
      "was the birds a good idea ?\n",
      "was the bird a good idea ?\n"
     ]
    },
    {
     "data": {
      "text/plain": [
       "SAYCam LSTM 0     True\n",
       "SAYCam 1-gram    False\n",
       "SAYCam 2-gram    False\n",
       "SAYCam CBOW 0     True\n",
       "Name: 457, dtype: bool"
      ]
     },
     "metadata": {},
     "output_type": "display_data"
    },
    {
     "name": "stdout",
     "output_type": "stream",
     "text": [
      "where are the bird ?\n",
      "where are the birds ?\n"
     ]
    },
    {
     "data": {
      "text/plain": [
       "SAYCam LSTM 0     True\n",
       "SAYCam 1-gram     True\n",
       "SAYCam 2-gram    False\n",
       "SAYCam CBOW 0    False\n",
       "Name: 458, dtype: bool"
      ]
     },
     "metadata": {},
     "output_type": "display_data"
    },
    {
     "name": "stdout",
     "output_type": "stream",
     "text": [
      "what are the bird ?\n",
      "what are the birds ?\n"
     ]
    },
    {
     "data": {
      "text/plain": [
       "SAYCam LSTM 0     True\n",
       "SAYCam 1-gram     True\n",
       "SAYCam 2-gram    False\n",
       "SAYCam CBOW 0    False\n",
       "Name: 459, dtype: bool"
      ]
     },
     "metadata": {},
     "output_type": "display_data"
    },
    {
     "name": "stdout",
     "output_type": "stream",
     "text": [
      "what color are the bird ?\n",
      "what color are the birds ?\n"
     ]
    },
    {
     "data": {
      "text/plain": [
       "SAYCam LSTM 0     True\n",
       "SAYCam 1-gram     True\n",
       "SAYCam 2-gram    False\n",
       "SAYCam CBOW 0    False\n",
       "Name: 460, dtype: bool"
      ]
     },
     "metadata": {},
     "output_type": "display_data"
    },
    {
     "name": "stdout",
     "output_type": "stream",
     "text": [
      "where were the bird ?\n",
      "where were the birds ?\n"
     ]
    },
    {
     "data": {
      "text/plain": [
       "SAYCam LSTM 0     True\n",
       "SAYCam 1-gram     True\n",
       "SAYCam 2-gram    False\n",
       "SAYCam CBOW 0    False\n",
       "Name: 465, dtype: bool"
      ]
     },
     "metadata": {},
     "output_type": "display_data"
    },
    {
     "name": "stdout",
     "output_type": "stream",
     "text": [
      "what were the bird ?\n",
      "what were the birds ?\n"
     ]
    },
    {
     "data": {
      "text/plain": [
       "SAYCam LSTM 0     True\n",
       "SAYCam 1-gram     True\n",
       "SAYCam 2-gram    False\n",
       "SAYCam CBOW 0    False\n",
       "Name: 466, dtype: bool"
      ]
     },
     "metadata": {},
     "output_type": "display_data"
    },
    {
     "name": "stdout",
     "output_type": "stream",
     "text": [
      "what color were the bird ?\n",
      "what color were the birds ?\n"
     ]
    },
    {
     "data": {
      "text/plain": [
       "SAYCam LSTM 0     True\n",
       "SAYCam 1-gram     True\n",
       "SAYCam 2-gram    False\n",
       "SAYCam CBOW 0    False\n",
       "Name: 467, dtype: bool"
      ]
     },
     "metadata": {},
     "output_type": "display_data"
    },
    {
     "name": "stdout",
     "output_type": "stream",
     "text": [
      "where is the things ?\n",
      "where is the thing ?\n"
     ]
    },
    {
     "data": {
      "text/plain": [
       "SAYCam LSTM 0     True\n",
       "SAYCam 1-gram    False\n",
       "SAYCam 2-gram    False\n",
       "SAYCam CBOW 0    False\n",
       "Name: 476, dtype: bool"
      ]
     },
     "metadata": {},
     "output_type": "display_data"
    },
    {
     "name": "stdout",
     "output_type": "stream",
     "text": [
      "what is the things ?\n",
      "what is the thing ?\n"
     ]
    },
    {
     "data": {
      "text/plain": [
       "SAYCam LSTM 0     True\n",
       "SAYCam 1-gram    False\n",
       "SAYCam 2-gram    False\n",
       "SAYCam CBOW 0    False\n",
       "Name: 477, dtype: bool"
      ]
     },
     "metadata": {},
     "output_type": "display_data"
    },
    {
     "name": "stdout",
     "output_type": "stream",
     "text": [
      "what color is the things ?\n",
      "what color is the thing ?\n"
     ]
    },
    {
     "data": {
      "text/plain": [
       "SAYCam LSTM 0     True\n",
       "SAYCam 1-gram    False\n",
       "SAYCam 2-gram    False\n",
       "SAYCam CBOW 0    False\n",
       "Name: 478, dtype: bool"
      ]
     },
     "metadata": {},
     "output_type": "display_data"
    },
    {
     "name": "stdout",
     "output_type": "stream",
     "text": [
      "is the things not extra ?\n",
      "is the thing not extra ?\n"
     ]
    },
    {
     "data": {
      "text/plain": [
       "SAYCam LSTM 0     True\n",
       "SAYCam 1-gram    False\n",
       "SAYCam 2-gram    False\n",
       "SAYCam CBOW 0     True\n",
       "Name: 479, dtype: bool"
      ]
     },
     "metadata": {},
     "output_type": "display_data"
    },
    {
     "name": "stdout",
     "output_type": "stream",
     "text": [
      "is the things where it should be ?\n",
      "is the thing where it should be ?\n"
     ]
    },
    {
     "data": {
      "text/plain": [
       "SAYCam LSTM 0     True\n",
       "SAYCam 1-gram    False\n",
       "SAYCam 2-gram     True\n",
       "SAYCam CBOW 0     True\n",
       "Name: 480, dtype: bool"
      ]
     },
     "metadata": {},
     "output_type": "display_data"
    },
    {
     "name": "stdout",
     "output_type": "stream",
     "text": [
      "is the things something you like ?\n",
      "is the thing something you like ?\n"
     ]
    },
    {
     "data": {
      "text/plain": [
       "SAYCam LSTM 0     True\n",
       "SAYCam 1-gram    False\n",
       "SAYCam 2-gram    False\n",
       "SAYCam CBOW 0     True\n",
       "Name: 481, dtype: bool"
      ]
     },
     "metadata": {},
     "output_type": "display_data"
    },
    {
     "name": "stdout",
     "output_type": "stream",
     "text": [
      "is the things a good idea ?\n",
      "is the thing a good idea ?\n"
     ]
    },
    {
     "data": {
      "text/plain": [
       "SAYCam LSTM 0     True\n",
       "SAYCam 1-gram    False\n",
       "SAYCam 2-gram     True\n",
       "SAYCam CBOW 0     True\n",
       "Name: 482, dtype: bool"
      ]
     },
     "metadata": {},
     "output_type": "display_data"
    },
    {
     "name": "stdout",
     "output_type": "stream",
     "text": [
      "where was the things ?\n",
      "where was the thing ?\n"
     ]
    },
    {
     "data": {
      "text/plain": [
       "SAYCam LSTM 0     True\n",
       "SAYCam 1-gram    False\n",
       "SAYCam 2-gram    False\n",
       "SAYCam CBOW 0    False\n",
       "Name: 483, dtype: bool"
      ]
     },
     "metadata": {},
     "output_type": "display_data"
    },
    {
     "name": "stdout",
     "output_type": "stream",
     "text": [
      "what was the things ?\n",
      "what was the thing ?\n"
     ]
    },
    {
     "data": {
      "text/plain": [
       "SAYCam LSTM 0     True\n",
       "SAYCam 1-gram    False\n",
       "SAYCam 2-gram    False\n",
       "SAYCam CBOW 0    False\n",
       "Name: 484, dtype: bool"
      ]
     },
     "metadata": {},
     "output_type": "display_data"
    },
    {
     "name": "stdout",
     "output_type": "stream",
     "text": [
      "what color was the things ?\n",
      "what color was the thing ?\n"
     ]
    },
    {
     "data": {
      "text/plain": [
       "SAYCam LSTM 0     True\n",
       "SAYCam 1-gram    False\n",
       "SAYCam 2-gram    False\n",
       "SAYCam CBOW 0    False\n",
       "Name: 485, dtype: bool"
      ]
     },
     "metadata": {},
     "output_type": "display_data"
    },
    {
     "name": "stdout",
     "output_type": "stream",
     "text": [
      "was the things not extra ?\n",
      "was the thing not extra ?\n"
     ]
    },
    {
     "data": {
      "text/plain": [
       "SAYCam LSTM 0     True\n",
       "SAYCam 1-gram    False\n",
       "SAYCam 2-gram    False\n",
       "SAYCam CBOW 0     True\n",
       "Name: 486, dtype: bool"
      ]
     },
     "metadata": {},
     "output_type": "display_data"
    },
    {
     "name": "stdout",
     "output_type": "stream",
     "text": [
      "was the things where it should be ?\n",
      "was the thing where it should be ?\n"
     ]
    },
    {
     "data": {
      "text/plain": [
       "SAYCam LSTM 0     True\n",
       "SAYCam 1-gram    False\n",
       "SAYCam 2-gram     True\n",
       "SAYCam CBOW 0     True\n",
       "Name: 487, dtype: bool"
      ]
     },
     "metadata": {},
     "output_type": "display_data"
    },
    {
     "name": "stdout",
     "output_type": "stream",
     "text": [
      "was the things something you like ?\n",
      "was the thing something you like ?\n"
     ]
    },
    {
     "data": {
      "text/plain": [
       "SAYCam LSTM 0     True\n",
       "SAYCam 1-gram    False\n",
       "SAYCam 2-gram    False\n",
       "SAYCam CBOW 0     True\n",
       "Name: 488, dtype: bool"
      ]
     },
     "metadata": {},
     "output_type": "display_data"
    },
    {
     "name": "stdout",
     "output_type": "stream",
     "text": [
      "was the things a good idea ?\n",
      "was the thing a good idea ?\n"
     ]
    },
    {
     "data": {
      "text/plain": [
       "SAYCam LSTM 0     True\n",
       "SAYCam 1-gram    False\n",
       "SAYCam 2-gram     True\n",
       "SAYCam CBOW 0     True\n",
       "Name: 489, dtype: bool"
      ]
     },
     "metadata": {},
     "output_type": "display_data"
    },
    {
     "name": "stdout",
     "output_type": "stream",
     "text": [
      "where are the thing ?\n",
      "where are the things ?\n"
     ]
    },
    {
     "data": {
      "text/plain": [
       "SAYCam LSTM 0     True\n",
       "SAYCam 1-gram     True\n",
       "SAYCam 2-gram     True\n",
       "SAYCam CBOW 0    False\n",
       "Name: 490, dtype: bool"
      ]
     },
     "metadata": {},
     "output_type": "display_data"
    },
    {
     "name": "stdout",
     "output_type": "stream",
     "text": [
      "what are the thing ?\n",
      "what are the things ?\n"
     ]
    },
    {
     "data": {
      "text/plain": [
       "SAYCam LSTM 0     True\n",
       "SAYCam 1-gram     True\n",
       "SAYCam 2-gram     True\n",
       "SAYCam CBOW 0    False\n",
       "Name: 491, dtype: bool"
      ]
     },
     "metadata": {},
     "output_type": "display_data"
    },
    {
     "name": "stdout",
     "output_type": "stream",
     "text": [
      "what color are the thing ?\n",
      "what color are the things ?\n"
     ]
    },
    {
     "data": {
      "text/plain": [
       "SAYCam LSTM 0     True\n",
       "SAYCam 1-gram     True\n",
       "SAYCam 2-gram     True\n",
       "SAYCam CBOW 0    False\n",
       "Name: 492, dtype: bool"
      ]
     },
     "metadata": {},
     "output_type": "display_data"
    },
    {
     "name": "stdout",
     "output_type": "stream",
     "text": [
      "are the thing where they should be ?\n",
      "are the things where they should be ?\n"
     ]
    },
    {
     "data": {
      "text/plain": [
       "SAYCam LSTM 0     True\n",
       "SAYCam 1-gram     True\n",
       "SAYCam 2-gram    False\n",
       "SAYCam CBOW 0    False\n",
       "Name: 494, dtype: bool"
      ]
     },
     "metadata": {},
     "output_type": "display_data"
    },
    {
     "name": "stdout",
     "output_type": "stream",
     "text": [
      "are the thing something you like ?\n",
      "are the things something you like ?\n"
     ]
    },
    {
     "data": {
      "text/plain": [
       "SAYCam LSTM 0     True\n",
       "SAYCam 1-gram     True\n",
       "SAYCam 2-gram     True\n",
       "SAYCam CBOW 0    False\n",
       "Name: 495, dtype: bool"
      ]
     },
     "metadata": {},
     "output_type": "display_data"
    },
    {
     "name": "stdout",
     "output_type": "stream",
     "text": [
      "are the thing a good idea ?\n",
      "are the things a good idea ?\n"
     ]
    },
    {
     "data": {
      "text/plain": [
       "SAYCam LSTM 0     True\n",
       "SAYCam 1-gram     True\n",
       "SAYCam 2-gram    False\n",
       "SAYCam CBOW 0    False\n",
       "Name: 496, dtype: bool"
      ]
     },
     "metadata": {},
     "output_type": "display_data"
    },
    {
     "name": "stdout",
     "output_type": "stream",
     "text": [
      "are the whale not last ?\n",
      "are the whales not last ?\n"
     ]
    },
    {
     "data": {
      "text/plain": [
       "SAYCam LSTM 0     True\n",
       "SAYCam 1-gram    False\n",
       "SAYCam 2-gram    False\n",
       "SAYCam CBOW 0    False\n",
       "Name: 506, dtype: bool"
      ]
     },
     "metadata": {},
     "output_type": "display_data"
    },
    {
     "name": "stdout",
     "output_type": "stream",
     "text": [
      "is the bears where it should be ?\n",
      "is the bear where it should be ?\n"
     ]
    },
    {
     "data": {
      "text/plain": [
       "SAYCam LSTM 0     True\n",
       "SAYCam 1-gram     True\n",
       "SAYCam 2-gram     True\n",
       "SAYCam CBOW 0    False\n",
       "Name: 516, dtype: bool"
      ]
     },
     "metadata": {},
     "output_type": "display_data"
    },
    {
     "name": "stdout",
     "output_type": "stream",
     "text": [
      "is the bears something you like ?\n",
      "is the bear something you like ?\n"
     ]
    },
    {
     "data": {
      "text/plain": [
       "SAYCam LSTM 0     True\n",
       "SAYCam 1-gram     True\n",
       "SAYCam 2-gram     True\n",
       "SAYCam CBOW 0    False\n",
       "Name: 517, dtype: bool"
      ]
     },
     "metadata": {},
     "output_type": "display_data"
    },
    {
     "name": "stdout",
     "output_type": "stream",
     "text": [
      "was the bears where it should be ?\n",
      "was the bear where it should be ?\n"
     ]
    },
    {
     "data": {
      "text/plain": [
       "SAYCam LSTM 0     True\n",
       "SAYCam 1-gram     True\n",
       "SAYCam 2-gram     True\n",
       "SAYCam CBOW 0    False\n",
       "Name: 523, dtype: bool"
      ]
     },
     "metadata": {},
     "output_type": "display_data"
    },
    {
     "name": "stdout",
     "output_type": "stream",
     "text": [
      "was the bears something you like ?\n",
      "was the bear something you like ?\n"
     ]
    },
    {
     "data": {
      "text/plain": [
       "SAYCam LSTM 0     True\n",
       "SAYCam 1-gram     True\n",
       "SAYCam 2-gram     True\n",
       "SAYCam CBOW 0    False\n",
       "Name: 524, dtype: bool"
      ]
     },
     "metadata": {},
     "output_type": "display_data"
    },
    {
     "name": "stdout",
     "output_type": "stream",
     "text": [
      "where are the bear ?\n",
      "where are the bears ?\n"
     ]
    },
    {
     "data": {
      "text/plain": [
       "SAYCam LSTM 0     True\n",
       "SAYCam 1-gram    False\n",
       "SAYCam 2-gram    False\n",
       "SAYCam CBOW 0    False\n",
       "Name: 526, dtype: bool"
      ]
     },
     "metadata": {},
     "output_type": "display_data"
    },
    {
     "name": "stdout",
     "output_type": "stream",
     "text": [
      "what are the bear ?\n",
      "what are the bears ?\n"
     ]
    },
    {
     "data": {
      "text/plain": [
       "SAYCam LSTM 0     True\n",
       "SAYCam 1-gram    False\n",
       "SAYCam 2-gram    False\n",
       "SAYCam CBOW 0    False\n",
       "Name: 527, dtype: bool"
      ]
     },
     "metadata": {},
     "output_type": "display_data"
    },
    {
     "name": "stdout",
     "output_type": "stream",
     "text": [
      "what color are the bear ?\n",
      "what color are the bears ?\n"
     ]
    },
    {
     "data": {
      "text/plain": [
       "SAYCam LSTM 0     True\n",
       "SAYCam 1-gram    False\n",
       "SAYCam 2-gram    False\n",
       "SAYCam CBOW 0    False\n",
       "Name: 528, dtype: bool"
      ]
     },
     "metadata": {},
     "output_type": "display_data"
    },
    {
     "name": "stdout",
     "output_type": "stream",
     "text": [
      "are the bear where they should be ?\n",
      "are the bears where they should be ?\n"
     ]
    },
    {
     "data": {
      "text/plain": [
       "SAYCam LSTM 0     True\n",
       "SAYCam 1-gram    False\n",
       "SAYCam 2-gram    False\n",
       "SAYCam CBOW 0    False\n",
       "Name: 530, dtype: bool"
      ]
     },
     "metadata": {},
     "output_type": "display_data"
    },
    {
     "name": "stdout",
     "output_type": "stream",
     "text": [
      "where were the bear ?\n",
      "where were the bears ?\n"
     ]
    },
    {
     "data": {
      "text/plain": [
       "SAYCam LSTM 0     True\n",
       "SAYCam 1-gram    False\n",
       "SAYCam 2-gram    False\n",
       "SAYCam CBOW 0    False\n",
       "Name: 533, dtype: bool"
      ]
     },
     "metadata": {},
     "output_type": "display_data"
    },
    {
     "name": "stdout",
     "output_type": "stream",
     "text": [
      "what color were the bear ?\n",
      "what color were the bears ?\n"
     ]
    },
    {
     "data": {
      "text/plain": [
       "SAYCam LSTM 0     True\n",
       "SAYCam 1-gram    False\n",
       "SAYCam 2-gram    False\n",
       "SAYCam CBOW 0    False\n",
       "Name: 535, dtype: bool"
      ]
     },
     "metadata": {},
     "output_type": "display_data"
    },
    {
     "name": "stdout",
     "output_type": "stream",
     "text": [
      "were the bear where they should be ?\n",
      "were the bears where they should be ?\n"
     ]
    },
    {
     "data": {
      "text/plain": [
       "SAYCam LSTM 0     True\n",
       "SAYCam 1-gram    False\n",
       "SAYCam 2-gram    False\n",
       "SAYCam CBOW 0     True\n",
       "Name: 537, dtype: bool"
      ]
     },
     "metadata": {},
     "output_type": "display_data"
    },
    {
     "name": "stdout",
     "output_type": "stream",
     "text": [
      "is the cars where it should be ?\n",
      "is the car where it should be ?\n"
     ]
    },
    {
     "data": {
      "text/plain": [
       "SAYCam LSTM 0     True\n",
       "SAYCam 1-gram     True\n",
       "SAYCam 2-gram     True\n",
       "SAYCam CBOW 0    False\n",
       "Name: 544, dtype: bool"
      ]
     },
     "metadata": {},
     "output_type": "display_data"
    },
    {
     "name": "stdout",
     "output_type": "stream",
     "text": [
      "was the cars where it should be ?\n",
      "was the car where it should be ?\n"
     ]
    },
    {
     "data": {
      "text/plain": [
       "SAYCam LSTM 0     True\n",
       "SAYCam 1-gram     True\n",
       "SAYCam 2-gram     True\n",
       "SAYCam CBOW 0    False\n",
       "Name: 551, dtype: bool"
      ]
     },
     "metadata": {},
     "output_type": "display_data"
    },
    {
     "name": "stdout",
     "output_type": "stream",
     "text": [
      "is the things not wrong ?\n",
      "is the thing not wrong ?\n"
     ]
    },
    {
     "data": {
      "text/plain": [
       "SAYCam LSTM 0     True\n",
       "SAYCam 1-gram    False\n",
       "SAYCam 2-gram    False\n",
       "SAYCam CBOW 0     True\n",
       "Name: 668, dtype: bool"
      ]
     },
     "metadata": {},
     "output_type": "display_data"
    },
    {
     "name": "stdout",
     "output_type": "stream",
     "text": [
      "was the things not wrong ?\n",
      "was the thing not wrong ?\n"
     ]
    },
    {
     "data": {
      "text/plain": [
       "SAYCam LSTM 0     True\n",
       "SAYCam 1-gram    False\n",
       "SAYCam 2-gram    False\n",
       "SAYCam CBOW 0     True\n",
       "Name: 669, dtype: bool"
      ]
     },
     "metadata": {},
     "output_type": "display_data"
    },
    {
     "name": "stdout",
     "output_type": "stream",
     "text": [
      "is the bits not soft ?\n",
      "is the bit not soft ?\n"
     ]
    },
    {
     "data": {
      "text/plain": [
       "SAYCam LSTM 0     True\n",
       "SAYCam 1-gram     True\n",
       "SAYCam 2-gram     True\n",
       "SAYCam CBOW 0    False\n",
       "Name: 672, dtype: bool"
      ]
     },
     "metadata": {},
     "output_type": "display_data"
    },
    {
     "name": "stdout",
     "output_type": "stream",
     "text": [
      "was the bits not soft ?\n",
      "was the bit not soft ?\n"
     ]
    },
    {
     "data": {
      "text/plain": [
       "SAYCam LSTM 0     True\n",
       "SAYCam 1-gram     True\n",
       "SAYCam 2-gram     True\n",
       "SAYCam CBOW 0    False\n",
       "Name: 673, dtype: bool"
      ]
     },
     "metadata": {},
     "output_type": "display_data"
    },
    {
     "name": "stdout",
     "output_type": "stream",
     "text": [
      "is the hands where it should be ?\n",
      "is the hand where it should be ?\n"
     ]
    },
    {
     "data": {
      "text/plain": [
       "SAYCam LSTM 0     True\n",
       "SAYCam 1-gram     True\n",
       "SAYCam 2-gram     True\n",
       "SAYCam CBOW 0    False\n",
       "Name: 736, dtype: bool"
      ]
     },
     "metadata": {},
     "output_type": "display_data"
    },
    {
     "name": "stdout",
     "output_type": "stream",
     "text": [
      "was the hands where it should be ?\n",
      "was the hand where it should be ?\n"
     ]
    },
    {
     "data": {
      "text/plain": [
       "SAYCam LSTM 0     True\n",
       "SAYCam 1-gram     True\n",
       "SAYCam 2-gram     True\n",
       "SAYCam CBOW 0    False\n",
       "Name: 743, dtype: bool"
      ]
     },
     "metadata": {},
     "output_type": "display_data"
    },
    {
     "name": "stdout",
     "output_type": "stream",
     "text": [
      "are the hand something you like ?\n",
      "are the hands something you like ?\n"
     ]
    },
    {
     "data": {
      "text/plain": [
       "SAYCam LSTM 0     True\n",
       "SAYCam 1-gram    False\n",
       "SAYCam 2-gram    False\n",
       "SAYCam CBOW 0    False\n",
       "Name: 751, dtype: bool"
      ]
     },
     "metadata": {},
     "output_type": "display_data"
    },
    {
     "name": "stdout",
     "output_type": "stream",
     "text": [
      "are the hand a good idea ?\n",
      "are the hands a good idea ?\n"
     ]
    },
    {
     "data": {
      "text/plain": [
       "SAYCam LSTM 0     True\n",
       "SAYCam 1-gram    False\n",
       "SAYCam 2-gram    False\n",
       "SAYCam CBOW 0    False\n",
       "Name: 752, dtype: bool"
      ]
     },
     "metadata": {},
     "output_type": "display_data"
    },
    {
     "name": "stdout",
     "output_type": "stream",
     "text": [
      "what color is the colors ?\n",
      "what color is the color ?\n"
     ]
    },
    {
     "data": {
      "text/plain": [
       "SAYCam LSTM 0     True\n",
       "SAYCam 1-gram     True\n",
       "SAYCam 2-gram    False\n",
       "SAYCam CBOW 0    False\n",
       "Name: 870, dtype: bool"
      ]
     },
     "metadata": {},
     "output_type": "display_data"
    },
    {
     "name": "stdout",
     "output_type": "stream",
     "text": [
      "is the colors where it should be ?\n",
      "is the color where it should be ?\n"
     ]
    },
    {
     "data": {
      "text/plain": [
       "SAYCam LSTM 0     True\n",
       "SAYCam 1-gram     True\n",
       "SAYCam 2-gram    False\n",
       "SAYCam CBOW 0    False\n",
       "Name: 872, dtype: bool"
      ]
     },
     "metadata": {},
     "output_type": "display_data"
    },
    {
     "name": "stdout",
     "output_type": "stream",
     "text": [
      "was the colors where it should be ?\n",
      "was the color where it should be ?\n"
     ]
    },
    {
     "data": {
      "text/plain": [
       "SAYCam LSTM 0     True\n",
       "SAYCam 1-gram     True\n",
       "SAYCam 2-gram    False\n",
       "SAYCam CBOW 0    False\n",
       "Name: 879, dtype: bool"
      ]
     },
     "metadata": {},
     "output_type": "display_data"
    },
    {
     "name": "stdout",
     "output_type": "stream",
     "text": [
      "where are the color ?\n",
      "where are the colors ?\n"
     ]
    },
    {
     "data": {
      "text/plain": [
       "SAYCam LSTM 0     True\n",
       "SAYCam 1-gram    False\n",
       "SAYCam 2-gram     True\n",
       "SAYCam CBOW 0     True\n",
       "Name: 882, dtype: bool"
      ]
     },
     "metadata": {},
     "output_type": "display_data"
    },
    {
     "name": "stdout",
     "output_type": "stream",
     "text": [
      "what are the color ?\n",
      "what are the colors ?\n"
     ]
    },
    {
     "data": {
      "text/plain": [
       "SAYCam LSTM 0     True\n",
       "SAYCam 1-gram    False\n",
       "SAYCam 2-gram     True\n",
       "SAYCam CBOW 0     True\n",
       "Name: 883, dtype: bool"
      ]
     },
     "metadata": {},
     "output_type": "display_data"
    },
    {
     "name": "stdout",
     "output_type": "stream",
     "text": [
      "are the color not hard ?\n",
      "are the colors not hard ?\n"
     ]
    },
    {
     "data": {
      "text/plain": [
       "SAYCam LSTM 0     True\n",
       "SAYCam 1-gram    False\n",
       "SAYCam 2-gram     True\n",
       "SAYCam CBOW 0     True\n",
       "Name: 885, dtype: bool"
      ]
     },
     "metadata": {},
     "output_type": "display_data"
    },
    {
     "name": "stdout",
     "output_type": "stream",
     "text": [
      "are the color something you like ?\n",
      "are the colors something you like ?\n"
     ]
    },
    {
     "data": {
      "text/plain": [
       "SAYCam LSTM 0     True\n",
       "SAYCam 1-gram    False\n",
       "SAYCam 2-gram     True\n",
       "SAYCam CBOW 0     True\n",
       "Name: 887, dtype: bool"
      ]
     },
     "metadata": {},
     "output_type": "display_data"
    },
    {
     "name": "stdout",
     "output_type": "stream",
     "text": [
      "are the color a good idea ?\n",
      "are the colors a good idea ?\n"
     ]
    },
    {
     "data": {
      "text/plain": [
       "SAYCam LSTM 0     True\n",
       "SAYCam 1-gram    False\n",
       "SAYCam 2-gram     True\n",
       "SAYCam CBOW 0     True\n",
       "Name: 888, dtype: bool"
      ]
     },
     "metadata": {},
     "output_type": "display_data"
    },
    {
     "name": "stdout",
     "output_type": "stream",
     "text": [
      "where were the color ?\n",
      "where were the colors ?\n"
     ]
    },
    {
     "data": {
      "text/plain": [
       "SAYCam LSTM 0     True\n",
       "SAYCam 1-gram    False\n",
       "SAYCam 2-gram     True\n",
       "SAYCam CBOW 0     True\n",
       "Name: 889, dtype: bool"
      ]
     },
     "metadata": {},
     "output_type": "display_data"
    },
    {
     "name": "stdout",
     "output_type": "stream",
     "text": [
      "what were the color ?\n",
      "what were the colors ?\n"
     ]
    },
    {
     "data": {
      "text/plain": [
       "SAYCam LSTM 0     True\n",
       "SAYCam 1-gram    False\n",
       "SAYCam 2-gram     True\n",
       "SAYCam CBOW 0     True\n",
       "Name: 890, dtype: bool"
      ]
     },
     "metadata": {},
     "output_type": "display_data"
    },
    {
     "name": "stdout",
     "output_type": "stream",
     "text": [
      "what color were the color ?\n",
      "what color were the colors ?\n"
     ]
    },
    {
     "data": {
      "text/plain": [
       "SAYCam LSTM 0     True\n",
       "SAYCam 1-gram    False\n",
       "SAYCam 2-gram     True\n",
       "SAYCam CBOW 0     True\n",
       "Name: 891, dtype: bool"
      ]
     },
     "metadata": {},
     "output_type": "display_data"
    },
    {
     "name": "stdout",
     "output_type": "stream",
     "text": [
      "were the color not hard ?\n",
      "were the colors not hard ?\n"
     ]
    },
    {
     "data": {
      "text/plain": [
       "SAYCam LSTM 0     True\n",
       "SAYCam 1-gram    False\n",
       "SAYCam 2-gram     True\n",
       "SAYCam CBOW 0     True\n",
       "Name: 892, dtype: bool"
      ]
     },
     "metadata": {},
     "output_type": "display_data"
    },
    {
     "name": "stdout",
     "output_type": "stream",
     "text": [
      "were the color something you like ?\n",
      "were the colors something you like ?\n"
     ]
    },
    {
     "data": {
      "text/plain": [
       "SAYCam LSTM 0     True\n",
       "SAYCam 1-gram    False\n",
       "SAYCam 2-gram     True\n",
       "SAYCam CBOW 0     True\n",
       "Name: 894, dtype: bool"
      ]
     },
     "metadata": {},
     "output_type": "display_data"
    },
    {
     "name": "stdout",
     "output_type": "stream",
     "text": [
      "were the color a good idea ?\n",
      "were the colors a good idea ?\n"
     ]
    },
    {
     "data": {
      "text/plain": [
       "SAYCam LSTM 0     True\n",
       "SAYCam 1-gram    False\n",
       "SAYCam 2-gram     True\n",
       "SAYCam CBOW 0     True\n",
       "Name: 895, dtype: bool"
      ]
     },
     "metadata": {},
     "output_type": "display_data"
    },
    {
     "name": "stdout",
     "output_type": "stream",
     "text": [
      "are the color not wrong ?\n",
      "are the colors not wrong ?\n"
     ]
    },
    {
     "data": {
      "text/plain": [
       "SAYCam LSTM 0     True\n",
       "SAYCam 1-gram    False\n",
       "SAYCam 2-gram     True\n",
       "SAYCam CBOW 0     True\n",
       "Name: 898, dtype: bool"
      ]
     },
     "metadata": {},
     "output_type": "display_data"
    },
    {
     "name": "stdout",
     "output_type": "stream",
     "text": [
      "were the color not wrong ?\n",
      "were the colors not wrong ?\n"
     ]
    },
    {
     "data": {
      "text/plain": [
       "SAYCam LSTM 0     True\n",
       "SAYCam 1-gram    False\n",
       "SAYCam 2-gram     True\n",
       "SAYCam CBOW 0     True\n",
       "Name: 899, dtype: bool"
      ]
     },
     "metadata": {},
     "output_type": "display_data"
    },
    {
     "name": "stdout",
     "output_type": "stream",
     "text": [
      "is the bits not tall ?\n",
      "is the bit not tall ?\n"
     ]
    },
    {
     "data": {
      "text/plain": [
       "SAYCam LSTM 0     True\n",
       "SAYCam 1-gram     True\n",
       "SAYCam 2-gram     True\n",
       "SAYCam CBOW 0    False\n",
       "Name: 932, dtype: bool"
      ]
     },
     "metadata": {},
     "output_type": "display_data"
    },
    {
     "name": "stdout",
     "output_type": "stream",
     "text": [
      "was the bits not tall ?\n",
      "was the bit not tall ?\n"
     ]
    },
    {
     "data": {
      "text/plain": [
       "SAYCam LSTM 0     True\n",
       "SAYCam 1-gram     True\n",
       "SAYCam 2-gram     True\n",
       "SAYCam CBOW 0    False\n",
       "Name: 933, dtype: bool"
      ]
     },
     "metadata": {},
     "output_type": "display_data"
    },
    {
     "name": "stdout",
     "output_type": "stream",
     "text": [
      "is the fingers something you like ?\n",
      "is the finger something you like ?\n"
     ]
    },
    {
     "data": {
      "text/plain": [
       "SAYCam LSTM 0     True\n",
       "SAYCam 1-gram    False\n",
       "SAYCam 2-gram    False\n",
       "SAYCam CBOW 0     True\n",
       "Name: 1005, dtype: bool"
      ]
     },
     "metadata": {},
     "output_type": "display_data"
    },
    {
     "name": "stdout",
     "output_type": "stream",
     "text": [
      "is the fingers a good idea ?\n",
      "is the finger a good idea ?\n"
     ]
    },
    {
     "data": {
      "text/plain": [
       "SAYCam LSTM 0     True\n",
       "SAYCam 1-gram    False\n",
       "SAYCam 2-gram    False\n",
       "SAYCam CBOW 0     True\n",
       "Name: 1006, dtype: bool"
      ]
     },
     "metadata": {},
     "output_type": "display_data"
    },
    {
     "name": "stdout",
     "output_type": "stream",
     "text": [
      "was the fingers something you like ?\n",
      "was the finger something you like ?\n"
     ]
    },
    {
     "data": {
      "text/plain": [
       "SAYCam LSTM 0     True\n",
       "SAYCam 1-gram    False\n",
       "SAYCam 2-gram    False\n",
       "SAYCam CBOW 0     True\n",
       "Name: 1012, dtype: bool"
      ]
     },
     "metadata": {},
     "output_type": "display_data"
    },
    {
     "name": "stdout",
     "output_type": "stream",
     "text": [
      "was the fingers a good idea ?\n",
      "was the finger a good idea ?\n"
     ]
    },
    {
     "data": {
      "text/plain": [
       "SAYCam LSTM 0     True\n",
       "SAYCam 1-gram    False\n",
       "SAYCam 2-gram    False\n",
       "SAYCam CBOW 0     True\n",
       "Name: 1013, dtype: bool"
      ]
     },
     "metadata": {},
     "output_type": "display_data"
    },
    {
     "name": "stdout",
     "output_type": "stream",
     "text": [
      "are the finger where they should be ?\n",
      "are the fingers where they should be ?\n"
     ]
    },
    {
     "data": {
      "text/plain": [
       "SAYCam LSTM 0     True\n",
       "SAYCam 1-gram     True\n",
       "SAYCam 2-gram     True\n",
       "SAYCam CBOW 0    False\n",
       "Name: 1018, dtype: bool"
      ]
     },
     "metadata": {},
     "output_type": "display_data"
    },
    {
     "name": "stdout",
     "output_type": "stream",
     "text": [
      "were the finger where they should be ?\n",
      "were the fingers where they should be ?\n"
     ]
    },
    {
     "data": {
      "text/plain": [
       "SAYCam LSTM 0     True\n",
       "SAYCam 1-gram     True\n",
       "SAYCam 2-gram     True\n",
       "SAYCam CBOW 0    False\n",
       "Name: 1025, dtype: bool"
      ]
     },
     "metadata": {},
     "output_type": "display_data"
    },
    {
     "name": "stdout",
     "output_type": "stream",
     "text": [
      "is the feet where it should be ?\n",
      "is the foot where it should be ?\n"
     ]
    },
    {
     "data": {
      "text/plain": [
       "SAYCam LSTM 0     True\n",
       "SAYCam 1-gram     True\n",
       "SAYCam 2-gram     True\n",
       "SAYCam CBOW 0    False\n",
       "Name: 1068, dtype: bool"
      ]
     },
     "metadata": {},
     "output_type": "display_data"
    },
    {
     "name": "stdout",
     "output_type": "stream",
     "text": [
      "is the feet something you like ?\n",
      "is the foot something you like ?\n"
     ]
    },
    {
     "data": {
      "text/plain": [
       "SAYCam LSTM 0     True\n",
       "SAYCam 1-gram     True\n",
       "SAYCam 2-gram     True\n",
       "SAYCam CBOW 0    False\n",
       "Name: 1069, dtype: bool"
      ]
     },
     "metadata": {},
     "output_type": "display_data"
    },
    {
     "name": "stdout",
     "output_type": "stream",
     "text": [
      "was the feet where it should be ?\n",
      "was the foot where it should be ?\n"
     ]
    },
    {
     "data": {
      "text/plain": [
       "SAYCam LSTM 0     True\n",
       "SAYCam 1-gram     True\n",
       "SAYCam 2-gram     True\n",
       "SAYCam CBOW 0    False\n",
       "Name: 1075, dtype: bool"
      ]
     },
     "metadata": {},
     "output_type": "display_data"
    },
    {
     "name": "stdout",
     "output_type": "stream",
     "text": [
      "was the feet something you like ?\n",
      "was the foot something you like ?\n"
     ]
    },
    {
     "data": {
      "text/plain": [
       "SAYCam LSTM 0     True\n",
       "SAYCam 1-gram     True\n",
       "SAYCam 2-gram     True\n",
       "SAYCam CBOW 0    False\n",
       "Name: 1076, dtype: bool"
      ]
     },
     "metadata": {},
     "output_type": "display_data"
    },
    {
     "name": "stdout",
     "output_type": "stream",
     "text": [
      "where are the foot ?\n",
      "where are the feet ?\n"
     ]
    },
    {
     "data": {
      "text/plain": [
       "SAYCam LSTM 0     True\n",
       "SAYCam 1-gram    False\n",
       "SAYCam 2-gram    False\n",
       "SAYCam CBOW 0    False\n",
       "Name: 1078, dtype: bool"
      ]
     },
     "metadata": {},
     "output_type": "display_data"
    },
    {
     "name": "stdout",
     "output_type": "stream",
     "text": [
      "what are the foot ?\n",
      "what are the feet ?\n"
     ]
    },
    {
     "data": {
      "text/plain": [
       "SAYCam LSTM 0     True\n",
       "SAYCam 1-gram    False\n",
       "SAYCam 2-gram    False\n",
       "SAYCam CBOW 0    False\n",
       "Name: 1079, dtype: bool"
      ]
     },
     "metadata": {},
     "output_type": "display_data"
    },
    {
     "name": "stdout",
     "output_type": "stream",
     "text": [
      "what color are the foot ?\n",
      "what color are the feet ?\n"
     ]
    },
    {
     "data": {
      "text/plain": [
       "SAYCam LSTM 0     True\n",
       "SAYCam 1-gram    False\n",
       "SAYCam 2-gram    False\n",
       "SAYCam CBOW 0    False\n",
       "Name: 1080, dtype: bool"
      ]
     },
     "metadata": {},
     "output_type": "display_data"
    },
    {
     "name": "stdout",
     "output_type": "stream",
     "text": [
      "are the foot where they should be ?\n",
      "are the feet where they should be ?\n"
     ]
    },
    {
     "data": {
      "text/plain": [
       "SAYCam LSTM 0     True\n",
       "SAYCam 1-gram    False\n",
       "SAYCam 2-gram    False\n",
       "SAYCam CBOW 0    False\n",
       "Name: 1082, dtype: bool"
      ]
     },
     "metadata": {},
     "output_type": "display_data"
    },
    {
     "name": "stdout",
     "output_type": "stream",
     "text": [
      "are the foot something you like ?\n",
      "are the feet something you like ?\n"
     ]
    },
    {
     "data": {
      "text/plain": [
       "SAYCam LSTM 0     True\n",
       "SAYCam 1-gram    False\n",
       "SAYCam 2-gram    False\n",
       "SAYCam CBOW 0     True\n",
       "Name: 1083, dtype: bool"
      ]
     },
     "metadata": {},
     "output_type": "display_data"
    },
    {
     "name": "stdout",
     "output_type": "stream",
     "text": [
      "are the foot a good idea ?\n",
      "are the feet a good idea ?\n"
     ]
    },
    {
     "data": {
      "text/plain": [
       "SAYCam LSTM 0     True\n",
       "SAYCam 1-gram    False\n",
       "SAYCam 2-gram    False\n",
       "SAYCam CBOW 0    False\n",
       "Name: 1084, dtype: bool"
      ]
     },
     "metadata": {},
     "output_type": "display_data"
    },
    {
     "name": "stdout",
     "output_type": "stream",
     "text": [
      "where were the foot ?\n",
      "where were the feet ?\n"
     ]
    },
    {
     "data": {
      "text/plain": [
       "SAYCam LSTM 0     True\n",
       "SAYCam 1-gram    False\n",
       "SAYCam 2-gram    False\n",
       "SAYCam CBOW 0    False\n",
       "Name: 1085, dtype: bool"
      ]
     },
     "metadata": {},
     "output_type": "display_data"
    },
    {
     "name": "stdout",
     "output_type": "stream",
     "text": [
      "what were the foot ?\n",
      "what were the feet ?\n"
     ]
    },
    {
     "data": {
      "text/plain": [
       "SAYCam LSTM 0     True\n",
       "SAYCam 1-gram    False\n",
       "SAYCam 2-gram    False\n",
       "SAYCam CBOW 0    False\n",
       "Name: 1086, dtype: bool"
      ]
     },
     "metadata": {},
     "output_type": "display_data"
    },
    {
     "name": "stdout",
     "output_type": "stream",
     "text": [
      "what color were the foot ?\n",
      "what color were the feet ?\n"
     ]
    },
    {
     "data": {
      "text/plain": [
       "SAYCam LSTM 0     True\n",
       "SAYCam 1-gram    False\n",
       "SAYCam 2-gram    False\n",
       "SAYCam CBOW 0    False\n",
       "Name: 1087, dtype: bool"
      ]
     },
     "metadata": {},
     "output_type": "display_data"
    },
    {
     "name": "stdout",
     "output_type": "stream",
     "text": [
      "were the foot something you like ?\n",
      "were the feet something you like ?\n"
     ]
    },
    {
     "data": {
      "text/plain": [
       "SAYCam LSTM 0     True\n",
       "SAYCam 1-gram    False\n",
       "SAYCam 2-gram    False\n",
       "SAYCam CBOW 0     True\n",
       "Name: 1090, dtype: bool"
      ]
     },
     "metadata": {},
     "output_type": "display_data"
    },
    {
     "name": "stdout",
     "output_type": "stream",
     "text": [
      "were the foot a good idea ?\n",
      "were the feet a good idea ?\n"
     ]
    },
    {
     "data": {
      "text/plain": [
       "SAYCam LSTM 0     True\n",
       "SAYCam 1-gram    False\n",
       "SAYCam 2-gram    False\n",
       "SAYCam CBOW 0    False\n",
       "Name: 1091, dtype: bool"
      ]
     },
     "metadata": {},
     "output_type": "display_data"
    },
    {
     "name": "stdout",
     "output_type": "stream",
     "text": [
      "is the cars not polar ?\n",
      "is the car not polar ?\n"
     ]
    },
    {
     "data": {
      "text/plain": [
       "SAYCam LSTM 0     True\n",
       "SAYCam 1-gram     True\n",
       "SAYCam 2-gram     True\n",
       "SAYCam CBOW 0    False\n",
       "Name: 1096, dtype: bool"
      ]
     },
     "metadata": {},
     "output_type": "display_data"
    },
    {
     "name": "stdout",
     "output_type": "stream",
     "text": [
      "was the cars not polar ?\n",
      "was the car not polar ?\n"
     ]
    },
    {
     "data": {
      "text/plain": [
       "SAYCam LSTM 0     True\n",
       "SAYCam 1-gram     True\n",
       "SAYCam 2-gram     True\n",
       "SAYCam CBOW 0    False\n",
       "Name: 1097, dtype: bool"
      ]
     },
     "metadata": {},
     "output_type": "display_data"
    },
    {
     "name": "stdout",
     "output_type": "stream",
     "text": [
      "is the birds not little ?\n",
      "is the bird not little ?\n"
     ]
    },
    {
     "data": {
      "text/plain": [
       "SAYCam LSTM 0     True\n",
       "SAYCam 1-gram    False\n",
       "SAYCam 2-gram    False\n",
       "SAYCam CBOW 0    False\n",
       "Name: 1100, dtype: bool"
      ]
     },
     "metadata": {},
     "output_type": "display_data"
    },
    {
     "name": "stdout",
     "output_type": "stream",
     "text": [
      "was the birds not little ?\n",
      "was the bird not little ?\n"
     ]
    },
    {
     "data": {
      "text/plain": [
       "SAYCam LSTM 0     True\n",
       "SAYCam 1-gram    False\n",
       "SAYCam 2-gram    False\n",
       "SAYCam CBOW 0    False\n",
       "Name: 1101, dtype: bool"
      ]
     },
     "metadata": {},
     "output_type": "display_data"
    },
    {
     "name": "stdout",
     "output_type": "stream",
     "text": [
      "where is the words ?\n",
      "where is the word ?\n"
     ]
    },
    {
     "data": {
      "text/plain": [
       "SAYCam LSTM 0     True\n",
       "SAYCam 1-gram    False\n",
       "SAYCam 2-gram    False\n",
       "SAYCam CBOW 0    False\n",
       "Name: 1112, dtype: bool"
      ]
     },
     "metadata": {},
     "output_type": "display_data"
    },
    {
     "name": "stdout",
     "output_type": "stream",
     "text": [
      "what is the words ?\n",
      "what is the word ?\n"
     ]
    },
    {
     "data": {
      "text/plain": [
       "SAYCam LSTM 0     True\n",
       "SAYCam 1-gram    False\n",
       "SAYCam 2-gram    False\n",
       "SAYCam CBOW 0    False\n",
       "Name: 1113, dtype: bool"
      ]
     },
     "metadata": {},
     "output_type": "display_data"
    },
    {
     "name": "stdout",
     "output_type": "stream",
     "text": [
      "what color is the words ?\n",
      "what color is the word ?\n"
     ]
    },
    {
     "data": {
      "text/plain": [
       "SAYCam LSTM 0     True\n",
       "SAYCam 1-gram    False\n",
       "SAYCam 2-gram    False\n",
       "SAYCam CBOW 0    False\n",
       "Name: 1114, dtype: bool"
      ]
     },
     "metadata": {},
     "output_type": "display_data"
    },
    {
     "name": "stdout",
     "output_type": "stream",
     "text": [
      "is the words not bad ?\n",
      "is the word not bad ?\n"
     ]
    },
    {
     "data": {
      "text/plain": [
       "SAYCam LSTM 0     True\n",
       "SAYCam 1-gram    False\n",
       "SAYCam 2-gram    False\n",
       "SAYCam CBOW 0    False\n",
       "Name: 1115, dtype: bool"
      ]
     },
     "metadata": {},
     "output_type": "display_data"
    },
    {
     "name": "stdout",
     "output_type": "stream",
     "text": [
      "is the words something you like ?\n",
      "is the word something you like ?\n"
     ]
    },
    {
     "data": {
      "text/plain": [
       "SAYCam LSTM 0     True\n",
       "SAYCam 1-gram    False\n",
       "SAYCam 2-gram    False\n",
       "SAYCam CBOW 0    False\n",
       "Name: 1117, dtype: bool"
      ]
     },
     "metadata": {},
     "output_type": "display_data"
    },
    {
     "name": "stdout",
     "output_type": "stream",
     "text": [
      "is the words a good idea ?\n",
      "is the word a good idea ?\n"
     ]
    },
    {
     "data": {
      "text/plain": [
       "SAYCam LSTM 0     True\n",
       "SAYCam 1-gram    False\n",
       "SAYCam 2-gram    False\n",
       "SAYCam CBOW 0    False\n",
       "Name: 1118, dtype: bool"
      ]
     },
     "metadata": {},
     "output_type": "display_data"
    },
    {
     "name": "stdout",
     "output_type": "stream",
     "text": [
      "where was the words ?\n",
      "where was the word ?\n"
     ]
    },
    {
     "data": {
      "text/plain": [
       "SAYCam LSTM 0     True\n",
       "SAYCam 1-gram    False\n",
       "SAYCam 2-gram    False\n",
       "SAYCam CBOW 0    False\n",
       "Name: 1119, dtype: bool"
      ]
     },
     "metadata": {},
     "output_type": "display_data"
    },
    {
     "name": "stdout",
     "output_type": "stream",
     "text": [
      "what was the words ?\n",
      "what was the word ?\n"
     ]
    },
    {
     "data": {
      "text/plain": [
       "SAYCam LSTM 0     True\n",
       "SAYCam 1-gram    False\n",
       "SAYCam 2-gram    False\n",
       "SAYCam CBOW 0    False\n",
       "Name: 1120, dtype: bool"
      ]
     },
     "metadata": {},
     "output_type": "display_data"
    },
    {
     "name": "stdout",
     "output_type": "stream",
     "text": [
      "what color was the words ?\n",
      "what color was the word ?\n"
     ]
    },
    {
     "data": {
      "text/plain": [
       "SAYCam LSTM 0     True\n",
       "SAYCam 1-gram    False\n",
       "SAYCam 2-gram    False\n",
       "SAYCam CBOW 0    False\n",
       "Name: 1121, dtype: bool"
      ]
     },
     "metadata": {},
     "output_type": "display_data"
    },
    {
     "name": "stdout",
     "output_type": "stream",
     "text": [
      "was the words not bad ?\n",
      "was the word not bad ?\n"
     ]
    },
    {
     "data": {
      "text/plain": [
       "SAYCam LSTM 0     True\n",
       "SAYCam 1-gram    False\n",
       "SAYCam 2-gram    False\n",
       "SAYCam CBOW 0    False\n",
       "Name: 1122, dtype: bool"
      ]
     },
     "metadata": {},
     "output_type": "display_data"
    },
    {
     "name": "stdout",
     "output_type": "stream",
     "text": [
      "was the words something you like ?\n",
      "was the word something you like ?\n"
     ]
    },
    {
     "data": {
      "text/plain": [
       "SAYCam LSTM 0     True\n",
       "SAYCam 1-gram    False\n",
       "SAYCam 2-gram    False\n",
       "SAYCam CBOW 0    False\n",
       "Name: 1124, dtype: bool"
      ]
     },
     "metadata": {},
     "output_type": "display_data"
    },
    {
     "name": "stdout",
     "output_type": "stream",
     "text": [
      "was the words a good idea ?\n",
      "was the word a good idea ?\n"
     ]
    },
    {
     "data": {
      "text/plain": [
       "SAYCam LSTM 0     True\n",
       "SAYCam 1-gram    False\n",
       "SAYCam 2-gram    False\n",
       "SAYCam CBOW 0    False\n",
       "Name: 1125, dtype: bool"
      ]
     },
     "metadata": {},
     "output_type": "display_data"
    },
    {
     "name": "stdout",
     "output_type": "stream",
     "text": [
      "where is the dogs ?\n",
      "where is the dog ?\n"
     ]
    },
    {
     "data": {
      "text/plain": [
       "SAYCam LSTM 0     True\n",
       "SAYCam 1-gram     True\n",
       "SAYCam 2-gram     True\n",
       "SAYCam CBOW 0    False\n",
       "Name: 1152, dtype: bool"
      ]
     },
     "metadata": {},
     "output_type": "display_data"
    },
    {
     "name": "stdout",
     "output_type": "stream",
     "text": [
      "what is the dogs ?\n",
      "what is the dog ?\n"
     ]
    },
    {
     "data": {
      "text/plain": [
       "SAYCam LSTM 0     True\n",
       "SAYCam 1-gram     True\n",
       "SAYCam 2-gram     True\n",
       "SAYCam CBOW 0    False\n",
       "Name: 1153, dtype: bool"
      ]
     },
     "metadata": {},
     "output_type": "display_data"
    },
    {
     "name": "stdout",
     "output_type": "stream",
     "text": [
      "what color is the dogs ?\n",
      "what color is the dog ?\n"
     ]
    },
    {
     "data": {
      "text/plain": [
       "SAYCam LSTM 0     True\n",
       "SAYCam 1-gram     True\n",
       "SAYCam 2-gram     True\n",
       "SAYCam CBOW 0    False\n",
       "Name: 1154, dtype: bool"
      ]
     },
     "metadata": {},
     "output_type": "display_data"
    },
    {
     "name": "stdout",
     "output_type": "stream",
     "text": [
      "is the dogs where it should be ?\n",
      "is the dog where it should be ?\n"
     ]
    },
    {
     "data": {
      "text/plain": [
       "SAYCam LSTM 0     True\n",
       "SAYCam 1-gram     True\n",
       "SAYCam 2-gram     True\n",
       "SAYCam CBOW 0    False\n",
       "Name: 1156, dtype: bool"
      ]
     },
     "metadata": {},
     "output_type": "display_data"
    },
    {
     "name": "stdout",
     "output_type": "stream",
     "text": [
      "where was the dogs ?\n",
      "where was the dog ?\n"
     ]
    },
    {
     "data": {
      "text/plain": [
       "SAYCam LSTM 0     True\n",
       "SAYCam 1-gram     True\n",
       "SAYCam 2-gram     True\n",
       "SAYCam CBOW 0    False\n",
       "Name: 1159, dtype: bool"
      ]
     },
     "metadata": {},
     "output_type": "display_data"
    },
    {
     "name": "stdout",
     "output_type": "stream",
     "text": [
      "what was the dogs ?\n",
      "what was the dog ?\n"
     ]
    },
    {
     "data": {
      "text/plain": [
       "SAYCam LSTM 0     True\n",
       "SAYCam 1-gram     True\n",
       "SAYCam 2-gram     True\n",
       "SAYCam CBOW 0    False\n",
       "Name: 1160, dtype: bool"
      ]
     },
     "metadata": {},
     "output_type": "display_data"
    },
    {
     "name": "stdout",
     "output_type": "stream",
     "text": [
      "what color was the dogs ?\n",
      "what color was the dog ?\n"
     ]
    },
    {
     "data": {
      "text/plain": [
       "SAYCam LSTM 0     True\n",
       "SAYCam 1-gram     True\n",
       "SAYCam 2-gram     True\n",
       "SAYCam CBOW 0    False\n",
       "Name: 1161, dtype: bool"
      ]
     },
     "metadata": {},
     "output_type": "display_data"
    },
    {
     "name": "stdout",
     "output_type": "stream",
     "text": [
      "was the dogs where it should be ?\n",
      "was the dog where it should be ?\n"
     ]
    },
    {
     "data": {
      "text/plain": [
       "SAYCam LSTM 0     True\n",
       "SAYCam 1-gram     True\n",
       "SAYCam 2-gram     True\n",
       "SAYCam CBOW 0    False\n",
       "Name: 1163, dtype: bool"
      ]
     },
     "metadata": {},
     "output_type": "display_data"
    },
    {
     "name": "stdout",
     "output_type": "stream",
     "text": [
      "are the dog where they should be ?\n",
      "are the dogs where they should be ?\n"
     ]
    },
    {
     "data": {
      "text/plain": [
       "SAYCam LSTM 0     True\n",
       "SAYCam 1-gram    False\n",
       "SAYCam 2-gram    False\n",
       "SAYCam CBOW 0    False\n",
       "Name: 1170, dtype: bool"
      ]
     },
     "metadata": {},
     "output_type": "display_data"
    },
    {
     "name": "stdout",
     "output_type": "stream",
     "text": [
      "are the dog something you like ?\n",
      "are the dogs something you like ?\n"
     ]
    },
    {
     "data": {
      "text/plain": [
       "SAYCam LSTM 0     True\n",
       "SAYCam 1-gram    False\n",
       "SAYCam 2-gram    False\n",
       "SAYCam CBOW 0    False\n",
       "Name: 1171, dtype: bool"
      ]
     },
     "metadata": {},
     "output_type": "display_data"
    },
    {
     "name": "stdout",
     "output_type": "stream",
     "text": [
      "what were the dog ?\n",
      "what were the dogs ?\n"
     ]
    },
    {
     "data": {
      "text/plain": [
       "SAYCam LSTM 0     True\n",
       "SAYCam 1-gram    False\n",
       "SAYCam 2-gram    False\n",
       "SAYCam CBOW 0    False\n",
       "Name: 1174, dtype: bool"
      ]
     },
     "metadata": {},
     "output_type": "display_data"
    },
    {
     "name": "stdout",
     "output_type": "stream",
     "text": [
      "were the dog where they should be ?\n",
      "were the dogs where they should be ?\n"
     ]
    },
    {
     "data": {
      "text/plain": [
       "SAYCam LSTM 0     True\n",
       "SAYCam 1-gram    False\n",
       "SAYCam 2-gram    False\n",
       "SAYCam CBOW 0    False\n",
       "Name: 1177, dtype: bool"
      ]
     },
     "metadata": {},
     "output_type": "display_data"
    },
    {
     "name": "stdout",
     "output_type": "stream",
     "text": [
      "were the dog something you like ?\n",
      "were the dogs something you like ?\n"
     ]
    },
    {
     "data": {
      "text/plain": [
       "SAYCam LSTM 0     True\n",
       "SAYCam 1-gram    False\n",
       "SAYCam 2-gram    False\n",
       "SAYCam CBOW 0    False\n",
       "Name: 1178, dtype: bool"
      ]
     },
     "metadata": {},
     "output_type": "display_data"
    },
    {
     "name": "stdout",
     "output_type": "stream",
     "text": [
      "were the dog a good idea ?\n",
      "were the dogs a good idea ?\n"
     ]
    },
    {
     "data": {
      "text/plain": [
       "SAYCam LSTM 0     True\n",
       "SAYCam 1-gram    False\n",
       "SAYCam 2-gram    False\n",
       "SAYCam CBOW 0    False\n",
       "Name: 1179, dtype: bool"
      ]
     },
     "metadata": {},
     "output_type": "display_data"
    },
    {
     "name": "stdout",
     "output_type": "stream",
     "text": [
      "are the color not red ?\n",
      "are the colors not red ?\n"
     ]
    },
    {
     "data": {
      "text/plain": [
       "SAYCam LSTM 0     True\n",
       "SAYCam 1-gram    False\n",
       "SAYCam 2-gram     True\n",
       "SAYCam CBOW 0     True\n",
       "Name: 1186, dtype: bool"
      ]
     },
     "metadata": {},
     "output_type": "display_data"
    },
    {
     "name": "stdout",
     "output_type": "stream",
     "text": [
      "were the color not red ?\n",
      "were the colors not red ?\n"
     ]
    },
    {
     "data": {
      "text/plain": [
       "SAYCam LSTM 0     True\n",
       "SAYCam 1-gram    False\n",
       "SAYCam 2-gram     True\n",
       "SAYCam CBOW 0     True\n",
       "Name: 1187, dtype: bool"
      ]
     },
     "metadata": {},
     "output_type": "display_data"
    },
    {
     "name": "stdout",
     "output_type": "stream",
     "text": [
      "is the books where it should be ?\n",
      "is the book where it should be ?\n"
     ]
    },
    {
     "data": {
      "text/plain": [
       "SAYCam LSTM 0     True\n",
       "SAYCam 1-gram     True\n",
       "SAYCam 2-gram     True\n",
       "SAYCam CBOW 0    False\n",
       "Name: 1216, dtype: bool"
      ]
     },
     "metadata": {},
     "output_type": "display_data"
    },
    {
     "name": "stdout",
     "output_type": "stream",
     "text": [
      "was the books where it should be ?\n",
      "was the book where it should be ?\n"
     ]
    },
    {
     "data": {
      "text/plain": [
       "SAYCam LSTM 0     True\n",
       "SAYCam 1-gram     True\n",
       "SAYCam 2-gram     True\n",
       "SAYCam CBOW 0    False\n",
       "Name: 1223, dtype: bool"
      ]
     },
     "metadata": {},
     "output_type": "display_data"
    },
    {
     "name": "stdout",
     "output_type": "stream",
     "text": [
      "is the arms where it should be ?\n",
      "is the arm where it should be ?\n"
     ]
    },
    {
     "data": {
      "text/plain": [
       "SAYCam LSTM 0     True\n",
       "SAYCam 1-gram     True\n",
       "SAYCam 2-gram     True\n",
       "SAYCam CBOW 0    False\n",
       "Name: 1244, dtype: bool"
      ]
     },
     "metadata": {},
     "output_type": "display_data"
    },
    {
     "name": "stdout",
     "output_type": "stream",
     "text": [
      "is the arms a good idea ?\n",
      "is the arm a good idea ?\n"
     ]
    },
    {
     "data": {
      "text/plain": [
       "SAYCam LSTM 0     True\n",
       "SAYCam 1-gram     True\n",
       "SAYCam 2-gram    False\n",
       "SAYCam CBOW 0    False\n",
       "Name: 1246, dtype: bool"
      ]
     },
     "metadata": {},
     "output_type": "display_data"
    },
    {
     "name": "stdout",
     "output_type": "stream",
     "text": [
      "was the arms where it should be ?\n",
      "was the arm where it should be ?\n"
     ]
    },
    {
     "data": {
      "text/plain": [
       "SAYCam LSTM 0     True\n",
       "SAYCam 1-gram     True\n",
       "SAYCam 2-gram     True\n",
       "SAYCam CBOW 0    False\n",
       "Name: 1251, dtype: bool"
      ]
     },
     "metadata": {},
     "output_type": "display_data"
    },
    {
     "name": "stdout",
     "output_type": "stream",
     "text": [
      "was the arms a good idea ?\n",
      "was the arm a good idea ?\n"
     ]
    },
    {
     "data": {
      "text/plain": [
       "SAYCam LSTM 0     True\n",
       "SAYCam 1-gram     True\n",
       "SAYCam 2-gram    False\n",
       "SAYCam CBOW 0    False\n",
       "Name: 1253, dtype: bool"
      ]
     },
     "metadata": {},
     "output_type": "display_data"
    },
    {
     "name": "stdout",
     "output_type": "stream",
     "text": [
      "where are the arm ?\n",
      "where are the arms ?\n"
     ]
    },
    {
     "data": {
      "text/plain": [
       "SAYCam LSTM 0     True\n",
       "SAYCam 1-gram    False\n",
       "SAYCam 2-gram    False\n",
       "SAYCam CBOW 0    False\n",
       "Name: 1254, dtype: bool"
      ]
     },
     "metadata": {},
     "output_type": "display_data"
    },
    {
     "name": "stdout",
     "output_type": "stream",
     "text": [
      "what are the arm ?\n",
      "what are the arms ?\n"
     ]
    },
    {
     "data": {
      "text/plain": [
       "SAYCam LSTM 0     True\n",
       "SAYCam 1-gram    False\n",
       "SAYCam 2-gram    False\n",
       "SAYCam CBOW 0    False\n",
       "Name: 1255, dtype: bool"
      ]
     },
     "metadata": {},
     "output_type": "display_data"
    },
    {
     "name": "stdout",
     "output_type": "stream",
     "text": [
      "are the arm where they should be ?\n",
      "are the arms where they should be ?\n"
     ]
    },
    {
     "data": {
      "text/plain": [
       "SAYCam LSTM 0     True\n",
       "SAYCam 1-gram    False\n",
       "SAYCam 2-gram    False\n",
       "SAYCam CBOW 0    False\n",
       "Name: 1258, dtype: bool"
      ]
     },
     "metadata": {},
     "output_type": "display_data"
    },
    {
     "name": "stdout",
     "output_type": "stream",
     "text": [
      "are the arm something you like ?\n",
      "are the arms something you like ?\n"
     ]
    },
    {
     "data": {
      "text/plain": [
       "SAYCam LSTM 0     True\n",
       "SAYCam 1-gram    False\n",
       "SAYCam 2-gram    False\n",
       "SAYCam CBOW 0    False\n",
       "Name: 1259, dtype: bool"
      ]
     },
     "metadata": {},
     "output_type": "display_data"
    },
    {
     "name": "stdout",
     "output_type": "stream",
     "text": [
      "are the arm a good idea ?\n",
      "are the arms a good idea ?\n"
     ]
    },
    {
     "data": {
      "text/plain": [
       "SAYCam LSTM 0     True\n",
       "SAYCam 1-gram    False\n",
       "SAYCam 2-gram     True\n",
       "SAYCam CBOW 0     True\n",
       "Name: 1260, dtype: bool"
      ]
     },
     "metadata": {},
     "output_type": "display_data"
    },
    {
     "name": "stdout",
     "output_type": "stream",
     "text": [
      "what were the arm ?\n",
      "what were the arms ?\n"
     ]
    },
    {
     "data": {
      "text/plain": [
       "SAYCam LSTM 0     True\n",
       "SAYCam 1-gram    False\n",
       "SAYCam 2-gram    False\n",
       "SAYCam CBOW 0    False\n",
       "Name: 1262, dtype: bool"
      ]
     },
     "metadata": {},
     "output_type": "display_data"
    },
    {
     "name": "stdout",
     "output_type": "stream",
     "text": [
      "were the arm where they should be ?\n",
      "were the arms where they should be ?\n"
     ]
    },
    {
     "data": {
      "text/plain": [
       "SAYCam LSTM 0     True\n",
       "SAYCam 1-gram    False\n",
       "SAYCam 2-gram    False\n",
       "SAYCam CBOW 0    False\n",
       "Name: 1265, dtype: bool"
      ]
     },
     "metadata": {},
     "output_type": "display_data"
    },
    {
     "name": "stdout",
     "output_type": "stream",
     "text": [
      "is the words not flat ?\n",
      "is the word not flat ?\n"
     ]
    },
    {
     "data": {
      "text/plain": [
       "SAYCam LSTM 0     True\n",
       "SAYCam 1-gram    False\n",
       "SAYCam 2-gram    False\n",
       "SAYCam CBOW 0    False\n",
       "Name: 1276, dtype: bool"
      ]
     },
     "metadata": {},
     "output_type": "display_data"
    },
    {
     "name": "stdout",
     "output_type": "stream",
     "text": [
      "was the words not flat ?\n",
      "was the word not flat ?\n"
     ]
    },
    {
     "data": {
      "text/plain": [
       "SAYCam LSTM 0     True\n",
       "SAYCam 1-gram    False\n",
       "SAYCam 2-gram    False\n",
       "SAYCam CBOW 0    False\n",
       "Name: 1277, dtype: bool"
      ]
     },
     "metadata": {},
     "output_type": "display_data"
    },
    {
     "name": "stdout",
     "output_type": "stream",
     "text": [
      "is the bits not white ?\n",
      "is the bit not white ?\n"
     ]
    },
    {
     "data": {
      "text/plain": [
       "SAYCam LSTM 0     True\n",
       "SAYCam 1-gram     True\n",
       "SAYCam 2-gram     True\n",
       "SAYCam CBOW 0    False\n",
       "Name: 1288, dtype: bool"
      ]
     },
     "metadata": {},
     "output_type": "display_data"
    },
    {
     "name": "stdout",
     "output_type": "stream",
     "text": [
      "was the bits not white ?\n",
      "was the bit not white ?\n"
     ]
    },
    {
     "data": {
      "text/plain": [
       "SAYCam LSTM 0     True\n",
       "SAYCam 1-gram     True\n",
       "SAYCam 2-gram     True\n",
       "SAYCam CBOW 0    False\n",
       "Name: 1289, dtype: bool"
      ]
     },
     "metadata": {},
     "output_type": "display_data"
    },
    {
     "name": "stdout",
     "output_type": "stream",
     "text": [
      "is the toys not flat ?\n",
      "is the toy not flat ?\n"
     ]
    },
    {
     "data": {
      "text/plain": [
       "SAYCam LSTM 0     True\n",
       "SAYCam 1-gram    False\n",
       "SAYCam 2-gram     True\n",
       "SAYCam CBOW 0    False\n",
       "Name: 1296, dtype: bool"
      ]
     },
     "metadata": {},
     "output_type": "display_data"
    },
    {
     "name": "stdout",
     "output_type": "stream",
     "text": [
      "was the toys not flat ?\n",
      "was the toy not flat ?\n"
     ]
    },
    {
     "data": {
      "text/plain": [
       "SAYCam LSTM 0     True\n",
       "SAYCam 1-gram    False\n",
       "SAYCam 2-gram     True\n",
       "SAYCam CBOW 0    False\n",
       "Name: 1297, dtype: bool"
      ]
     },
     "metadata": {},
     "output_type": "display_data"
    },
    {
     "name": "stdout",
     "output_type": "stream",
     "text": [
      "are the whale not purple ?\n",
      "are the whales not purple ?\n"
     ]
    },
    {
     "data": {
      "text/plain": [
       "SAYCam LSTM 0     True\n",
       "SAYCam 1-gram    False\n",
       "SAYCam 2-gram    False\n",
       "SAYCam CBOW 0    False\n",
       "Name: 1302, dtype: bool"
      ]
     },
     "metadata": {},
     "output_type": "display_data"
    },
    {
     "name": "stdout",
     "output_type": "stream",
     "text": [
      "is the rings not early ?\n",
      "is the ring not early ?\n"
     ]
    },
    {
     "data": {
      "text/plain": [
       "SAYCam LSTM 0     True\n",
       "SAYCam 1-gram     True\n",
       "SAYCam 2-gram    False\n",
       "SAYCam CBOW 0     True\n",
       "Name: 1347, dtype: bool"
      ]
     },
     "metadata": {},
     "output_type": "display_data"
    },
    {
     "name": "stdout",
     "output_type": "stream",
     "text": [
      "is the rings where it should be ?\n",
      "is the ring where it should be ?\n"
     ]
    },
    {
     "data": {
      "text/plain": [
       "SAYCam LSTM 0     True\n",
       "SAYCam 1-gram     True\n",
       "SAYCam 2-gram    False\n",
       "SAYCam CBOW 0    False\n",
       "Name: 1348, dtype: bool"
      ]
     },
     "metadata": {},
     "output_type": "display_data"
    },
    {
     "name": "stdout",
     "output_type": "stream",
     "text": [
      "is the rings something you like ?\n",
      "is the ring something you like ?\n"
     ]
    },
    {
     "data": {
      "text/plain": [
       "SAYCam LSTM 0     True\n",
       "SAYCam 1-gram     True\n",
       "SAYCam 2-gram    False\n",
       "SAYCam CBOW 0    False\n",
       "Name: 1349, dtype: bool"
      ]
     },
     "metadata": {},
     "output_type": "display_data"
    },
    {
     "name": "stdout",
     "output_type": "stream",
     "text": [
      "is the rings a good idea ?\n",
      "is the ring a good idea ?\n"
     ]
    },
    {
     "data": {
      "text/plain": [
       "SAYCam LSTM 0     True\n",
       "SAYCam 1-gram     True\n",
       "SAYCam 2-gram    False\n",
       "SAYCam CBOW 0     True\n",
       "Name: 1350, dtype: bool"
      ]
     },
     "metadata": {},
     "output_type": "display_data"
    },
    {
     "name": "stdout",
     "output_type": "stream",
     "text": [
      "where was the rings ?\n",
      "where was the ring ?\n"
     ]
    },
    {
     "data": {
      "text/plain": [
       "SAYCam LSTM 0     True\n",
       "SAYCam 1-gram     True\n",
       "SAYCam 2-gram    False\n",
       "SAYCam CBOW 0    False\n",
       "Name: 1351, dtype: bool"
      ]
     },
     "metadata": {},
     "output_type": "display_data"
    },
    {
     "name": "stdout",
     "output_type": "stream",
     "text": [
      "what color was the rings ?\n",
      "what color was the ring ?\n"
     ]
    },
    {
     "data": {
      "text/plain": [
       "SAYCam LSTM 0     True\n",
       "SAYCam 1-gram     True\n",
       "SAYCam 2-gram    False\n",
       "SAYCam CBOW 0    False\n",
       "Name: 1353, dtype: bool"
      ]
     },
     "metadata": {},
     "output_type": "display_data"
    },
    {
     "name": "stdout",
     "output_type": "stream",
     "text": [
      "was the rings not early ?\n",
      "was the ring not early ?\n"
     ]
    },
    {
     "data": {
      "text/plain": [
       "SAYCam LSTM 0     True\n",
       "SAYCam 1-gram     True\n",
       "SAYCam 2-gram    False\n",
       "SAYCam CBOW 0    False\n",
       "Name: 1354, dtype: bool"
      ]
     },
     "metadata": {},
     "output_type": "display_data"
    },
    {
     "name": "stdout",
     "output_type": "stream",
     "text": [
      "was the rings something you like ?\n",
      "was the ring something you like ?\n"
     ]
    },
    {
     "data": {
      "text/plain": [
       "SAYCam LSTM 0     True\n",
       "SAYCam 1-gram     True\n",
       "SAYCam 2-gram    False\n",
       "SAYCam CBOW 0    False\n",
       "Name: 1356, dtype: bool"
      ]
     },
     "metadata": {},
     "output_type": "display_data"
    },
    {
     "name": "stdout",
     "output_type": "stream",
     "text": [
      "was the rings a good idea ?\n",
      "was the ring a good idea ?\n"
     ]
    },
    {
     "data": {
      "text/plain": [
       "SAYCam LSTM 0     True\n",
       "SAYCam 1-gram     True\n",
       "SAYCam 2-gram    False\n",
       "SAYCam CBOW 0     True\n",
       "Name: 1357, dtype: bool"
      ]
     },
     "metadata": {},
     "output_type": "display_data"
    },
    {
     "name": "stdout",
     "output_type": "stream",
     "text": [
      "where are the ring ?\n",
      "where are the rings ?\n"
     ]
    },
    {
     "data": {
      "text/plain": [
       "SAYCam LSTM 0     True\n",
       "SAYCam 1-gram    False\n",
       "SAYCam 2-gram     True\n",
       "SAYCam CBOW 0     True\n",
       "Name: 1358, dtype: bool"
      ]
     },
     "metadata": {},
     "output_type": "display_data"
    },
    {
     "name": "stdout",
     "output_type": "stream",
     "text": [
      "what are the ring ?\n",
      "what are the rings ?\n"
     ]
    },
    {
     "data": {
      "text/plain": [
       "SAYCam LSTM 0     True\n",
       "SAYCam 1-gram    False\n",
       "SAYCam 2-gram     True\n",
       "SAYCam CBOW 0     True\n",
       "Name: 1359, dtype: bool"
      ]
     },
     "metadata": {},
     "output_type": "display_data"
    },
    {
     "name": "stdout",
     "output_type": "stream",
     "text": [
      "what color are the ring ?\n",
      "what color are the rings ?\n"
     ]
    },
    {
     "data": {
      "text/plain": [
       "SAYCam LSTM 0     True\n",
       "SAYCam 1-gram    False\n",
       "SAYCam 2-gram     True\n",
       "SAYCam CBOW 0     True\n",
       "Name: 1360, dtype: bool"
      ]
     },
     "metadata": {},
     "output_type": "display_data"
    },
    {
     "name": "stdout",
     "output_type": "stream",
     "text": [
      "are the ring where they should be ?\n",
      "are the rings where they should be ?\n"
     ]
    },
    {
     "data": {
      "text/plain": [
       "SAYCam LSTM 0     True\n",
       "SAYCam 1-gram    False\n",
       "SAYCam 2-gram     True\n",
       "SAYCam CBOW 0    False\n",
       "Name: 1362, dtype: bool"
      ]
     },
     "metadata": {},
     "output_type": "display_data"
    },
    {
     "name": "stdout",
     "output_type": "stream",
     "text": [
      "were the ring where they should be ?\n",
      "were the rings where they should be ?\n"
     ]
    },
    {
     "data": {
      "text/plain": [
       "SAYCam LSTM 0     True\n",
       "SAYCam 1-gram    False\n",
       "SAYCam 2-gram     True\n",
       "SAYCam CBOW 0    False\n",
       "Name: 1369, dtype: bool"
      ]
     },
     "metadata": {},
     "output_type": "display_data"
    },
    {
     "name": "stdout",
     "output_type": "stream",
     "text": [
      "is the words not soft ?\n",
      "is the word not soft ?\n"
     ]
    },
    {
     "data": {
      "text/plain": [
       "SAYCam LSTM 0     True\n",
       "SAYCam 1-gram    False\n",
       "SAYCam 2-gram    False\n",
       "SAYCam CBOW 0    False\n",
       "Name: 1404, dtype: bool"
      ]
     },
     "metadata": {},
     "output_type": "display_data"
    },
    {
     "name": "stdout",
     "output_type": "stream",
     "text": [
      "was the words not soft ?\n",
      "was the word not soft ?\n"
     ]
    },
    {
     "data": {
      "text/plain": [
       "SAYCam LSTM 0     True\n",
       "SAYCam 1-gram    False\n",
       "SAYCam 2-gram    False\n",
       "SAYCam CBOW 0    False\n",
       "Name: 1405, dtype: bool"
      ]
     },
     "metadata": {},
     "output_type": "display_data"
    },
    {
     "name": "stdout",
     "output_type": "stream",
     "text": [
      "is the rings not quick ?\n",
      "is the ring not quick ?\n"
     ]
    },
    {
     "data": {
      "text/plain": [
       "SAYCam LSTM 0     True\n",
       "SAYCam 1-gram     True\n",
       "SAYCam 2-gram    False\n",
       "SAYCam CBOW 0     True\n",
       "Name: 1452, dtype: bool"
      ]
     },
     "metadata": {},
     "output_type": "display_data"
    },
    {
     "name": "stdout",
     "output_type": "stream",
     "text": [
      "was the rings not quick ?\n",
      "was the ring not quick ?\n"
     ]
    },
    {
     "data": {
      "text/plain": [
       "SAYCam LSTM 0     True\n",
       "SAYCam 1-gram     True\n",
       "SAYCam 2-gram    False\n",
       "SAYCam CBOW 0    False\n",
       "Name: 1453, dtype: bool"
      ]
     },
     "metadata": {},
     "output_type": "display_data"
    },
    {
     "name": "stdout",
     "output_type": "stream",
     "text": [
      "where is the eggs ?\n",
      "where is the egg ?\n"
     ]
    },
    {
     "data": {
      "text/plain": [
       "SAYCam LSTM 0     True\n",
       "SAYCam 1-gram    False\n",
       "SAYCam 2-gram     True\n",
       "SAYCam CBOW 0     True\n",
       "Name: 1516, dtype: bool"
      ]
     },
     "metadata": {},
     "output_type": "display_data"
    },
    {
     "name": "stdout",
     "output_type": "stream",
     "text": [
      "what is the eggs ?\n",
      "what is the egg ?\n"
     ]
    },
    {
     "data": {
      "text/plain": [
       "SAYCam LSTM 0     True\n",
       "SAYCam 1-gram    False\n",
       "SAYCam 2-gram     True\n",
       "SAYCam CBOW 0     True\n",
       "Name: 1517, dtype: bool"
      ]
     },
     "metadata": {},
     "output_type": "display_data"
    },
    {
     "name": "stdout",
     "output_type": "stream",
     "text": [
      "is the eggs a good idea ?\n",
      "is the egg a good idea ?\n"
     ]
    },
    {
     "data": {
      "text/plain": [
       "SAYCam LSTM 0     True\n",
       "SAYCam 1-gram    False\n",
       "SAYCam 2-gram     True\n",
       "SAYCam CBOW 0     True\n",
       "Name: 1522, dtype: bool"
      ]
     },
     "metadata": {},
     "output_type": "display_data"
    },
    {
     "name": "stdout",
     "output_type": "stream",
     "text": [
      "where was the eggs ?\n",
      "where was the egg ?\n"
     ]
    },
    {
     "data": {
      "text/plain": [
       "SAYCam LSTM 0     True\n",
       "SAYCam 1-gram    False\n",
       "SAYCam 2-gram     True\n",
       "SAYCam CBOW 0     True\n",
       "Name: 1523, dtype: bool"
      ]
     },
     "metadata": {},
     "output_type": "display_data"
    },
    {
     "name": "stdout",
     "output_type": "stream",
     "text": [
      "what was the eggs ?\n",
      "what was the egg ?\n"
     ]
    },
    {
     "data": {
      "text/plain": [
       "SAYCam LSTM 0     True\n",
       "SAYCam 1-gram    False\n",
       "SAYCam 2-gram     True\n",
       "SAYCam CBOW 0     True\n",
       "Name: 1524, dtype: bool"
      ]
     },
     "metadata": {},
     "output_type": "display_data"
    },
    {
     "name": "stdout",
     "output_type": "stream",
     "text": [
      "what color was the eggs ?\n",
      "what color was the egg ?\n"
     ]
    },
    {
     "data": {
      "text/plain": [
       "SAYCam LSTM 0     True\n",
       "SAYCam 1-gram    False\n",
       "SAYCam 2-gram     True\n",
       "SAYCam CBOW 0     True\n",
       "Name: 1525, dtype: bool"
      ]
     },
     "metadata": {},
     "output_type": "display_data"
    },
    {
     "name": "stdout",
     "output_type": "stream",
     "text": [
      "was the eggs something you like ?\n",
      "was the egg something you like ?\n"
     ]
    },
    {
     "data": {
      "text/plain": [
       "SAYCam LSTM 0     True\n",
       "SAYCam 1-gram    False\n",
       "SAYCam 2-gram     True\n",
       "SAYCam CBOW 0     True\n",
       "Name: 1528, dtype: bool"
      ]
     },
     "metadata": {},
     "output_type": "display_data"
    },
    {
     "name": "stdout",
     "output_type": "stream",
     "text": [
      "was the eggs a good idea ?\n",
      "was the egg a good idea ?\n"
     ]
    },
    {
     "data": {
      "text/plain": [
       "SAYCam LSTM 0     True\n",
       "SAYCam 1-gram    False\n",
       "SAYCam 2-gram     True\n",
       "SAYCam CBOW 0     True\n",
       "Name: 1529, dtype: bool"
      ]
     },
     "metadata": {},
     "output_type": "display_data"
    },
    {
     "name": "stdout",
     "output_type": "stream",
     "text": [
      "where are the egg ?\n",
      "where are the eggs ?\n"
     ]
    },
    {
     "data": {
      "text/plain": [
       "SAYCam LSTM 0     True\n",
       "SAYCam 1-gram     True\n",
       "SAYCam 2-gram    False\n",
       "SAYCam CBOW 0    False\n",
       "Name: 1530, dtype: bool"
      ]
     },
     "metadata": {},
     "output_type": "display_data"
    },
    {
     "name": "stdout",
     "output_type": "stream",
     "text": [
      "what are the egg ?\n",
      "what are the eggs ?\n"
     ]
    },
    {
     "data": {
      "text/plain": [
       "SAYCam LSTM 0     True\n",
       "SAYCam 1-gram     True\n",
       "SAYCam 2-gram    False\n",
       "SAYCam CBOW 0    False\n",
       "Name: 1531, dtype: bool"
      ]
     },
     "metadata": {},
     "output_type": "display_data"
    },
    {
     "name": "stdout",
     "output_type": "stream",
     "text": [
      "what color are the egg ?\n",
      "what color are the eggs ?\n"
     ]
    },
    {
     "data": {
      "text/plain": [
       "SAYCam LSTM 0     True\n",
       "SAYCam 1-gram     True\n",
       "SAYCam 2-gram    False\n",
       "SAYCam CBOW 0    False\n",
       "Name: 1532, dtype: bool"
      ]
     },
     "metadata": {},
     "output_type": "display_data"
    },
    {
     "name": "stdout",
     "output_type": "stream",
     "text": [
      "are the egg something you like ?\n",
      "are the eggs something you like ?\n"
     ]
    },
    {
     "data": {
      "text/plain": [
       "SAYCam LSTM 0     True\n",
       "SAYCam 1-gram     True\n",
       "SAYCam 2-gram    False\n",
       "SAYCam CBOW 0    False\n",
       "Name: 1535, dtype: bool"
      ]
     },
     "metadata": {},
     "output_type": "display_data"
    },
    {
     "name": "stdout",
     "output_type": "stream",
     "text": [
      "what were the egg ?\n",
      "what were the eggs ?\n"
     ]
    },
    {
     "data": {
      "text/plain": [
       "SAYCam LSTM 0     True\n",
       "SAYCam 1-gram     True\n",
       "SAYCam 2-gram    False\n",
       "SAYCam CBOW 0    False\n",
       "Name: 1538, dtype: bool"
      ]
     },
     "metadata": {},
     "output_type": "display_data"
    },
    {
     "name": "stdout",
     "output_type": "stream",
     "text": [
      "what color were the egg ?\n",
      "what color were the eggs ?\n"
     ]
    },
    {
     "data": {
      "text/plain": [
       "SAYCam LSTM 0     True\n",
       "SAYCam 1-gram     True\n",
       "SAYCam 2-gram    False\n",
       "SAYCam CBOW 0    False\n",
       "Name: 1539, dtype: bool"
      ]
     },
     "metadata": {},
     "output_type": "display_data"
    },
    {
     "name": "stdout",
     "output_type": "stream",
     "text": [
      "where is the pictures ?\n",
      "where is the picture ?\n"
     ]
    },
    {
     "data": {
      "text/plain": [
       "SAYCam LSTM 0     True\n",
       "SAYCam 1-gram     True\n",
       "SAYCam 2-gram     True\n",
       "SAYCam CBOW 0    False\n",
       "Name: 1552, dtype: bool"
      ]
     },
     "metadata": {},
     "output_type": "display_data"
    },
    {
     "name": "stdout",
     "output_type": "stream",
     "text": [
      "what is the pictures ?\n",
      "what is the picture ?\n"
     ]
    },
    {
     "data": {
      "text/plain": [
       "SAYCam LSTM 0     True\n",
       "SAYCam 1-gram     True\n",
       "SAYCam 2-gram     True\n",
       "SAYCam CBOW 0    False\n",
       "Name: 1553, dtype: bool"
      ]
     },
     "metadata": {},
     "output_type": "display_data"
    },
    {
     "name": "stdout",
     "output_type": "stream",
     "text": [
      "what color is the pictures ?\n",
      "what color is the picture ?\n"
     ]
    },
    {
     "data": {
      "text/plain": [
       "SAYCam LSTM 0     True\n",
       "SAYCam 1-gram     True\n",
       "SAYCam 2-gram     True\n",
       "SAYCam CBOW 0    False\n",
       "Name: 1554, dtype: bool"
      ]
     },
     "metadata": {},
     "output_type": "display_data"
    },
    {
     "name": "stdout",
     "output_type": "stream",
     "text": [
      "is the pictures where it should be ?\n",
      "is the picture where it should be ?\n"
     ]
    },
    {
     "data": {
      "text/plain": [
       "SAYCam LSTM 0     True\n",
       "SAYCam 1-gram     True\n",
       "SAYCam 2-gram     True\n",
       "SAYCam CBOW 0    False\n",
       "Name: 1556, dtype: bool"
      ]
     },
     "metadata": {},
     "output_type": "display_data"
    },
    {
     "name": "stdout",
     "output_type": "stream",
     "text": [
      "where was the pictures ?\n",
      "where was the picture ?\n"
     ]
    },
    {
     "data": {
      "text/plain": [
       "SAYCam LSTM 0     True\n",
       "SAYCam 1-gram     True\n",
       "SAYCam 2-gram     True\n",
       "SAYCam CBOW 0    False\n",
       "Name: 1559, dtype: bool"
      ]
     },
     "metadata": {},
     "output_type": "display_data"
    },
    {
     "name": "stdout",
     "output_type": "stream",
     "text": [
      "what was the pictures ?\n",
      "what was the picture ?\n"
     ]
    },
    {
     "data": {
      "text/plain": [
       "SAYCam LSTM 0     True\n",
       "SAYCam 1-gram     True\n",
       "SAYCam 2-gram     True\n",
       "SAYCam CBOW 0    False\n",
       "Name: 1560, dtype: bool"
      ]
     },
     "metadata": {},
     "output_type": "display_data"
    },
    {
     "name": "stdout",
     "output_type": "stream",
     "text": [
      "what color was the pictures ?\n",
      "what color was the picture ?\n"
     ]
    },
    {
     "data": {
      "text/plain": [
       "SAYCam LSTM 0     True\n",
       "SAYCam 1-gram     True\n",
       "SAYCam 2-gram     True\n",
       "SAYCam CBOW 0    False\n",
       "Name: 1561, dtype: bool"
      ]
     },
     "metadata": {},
     "output_type": "display_data"
    },
    {
     "name": "stdout",
     "output_type": "stream",
     "text": [
      "was the pictures where it should be ?\n",
      "was the picture where it should be ?\n"
     ]
    },
    {
     "data": {
      "text/plain": [
       "SAYCam LSTM 0     True\n",
       "SAYCam 1-gram     True\n",
       "SAYCam 2-gram     True\n",
       "SAYCam CBOW 0    False\n",
       "Name: 1563, dtype: bool"
      ]
     },
     "metadata": {},
     "output_type": "display_data"
    },
    {
     "name": "stdout",
     "output_type": "stream",
     "text": [
      "what are the picture ?\n",
      "what are the pictures ?\n"
     ]
    },
    {
     "data": {
      "text/plain": [
       "SAYCam LSTM 0     True\n",
       "SAYCam 1-gram    False\n",
       "SAYCam 2-gram    False\n",
       "SAYCam CBOW 0    False\n",
       "Name: 1567, dtype: bool"
      ]
     },
     "metadata": {},
     "output_type": "display_data"
    },
    {
     "name": "stdout",
     "output_type": "stream",
     "text": [
      "what color are the picture ?\n",
      "what color are the pictures ?\n"
     ]
    },
    {
     "data": {
      "text/plain": [
       "SAYCam LSTM 0     True\n",
       "SAYCam 1-gram    False\n",
       "SAYCam 2-gram    False\n",
       "SAYCam CBOW 0    False\n",
       "Name: 1568, dtype: bool"
      ]
     },
     "metadata": {},
     "output_type": "display_data"
    },
    {
     "name": "stdout",
     "output_type": "stream",
     "text": [
      "are the picture something you like ?\n",
      "are the pictures something you like ?\n"
     ]
    },
    {
     "data": {
      "text/plain": [
       "SAYCam LSTM 0     True\n",
       "SAYCam 1-gram    False\n",
       "SAYCam 2-gram    False\n",
       "SAYCam CBOW 0    False\n",
       "Name: 1571, dtype: bool"
      ]
     },
     "metadata": {},
     "output_type": "display_data"
    },
    {
     "name": "stdout",
     "output_type": "stream",
     "text": [
      "what were the picture ?\n",
      "what were the pictures ?\n"
     ]
    },
    {
     "data": {
      "text/plain": [
       "SAYCam LSTM 0     True\n",
       "SAYCam 1-gram    False\n",
       "SAYCam 2-gram    False\n",
       "SAYCam CBOW 0    False\n",
       "Name: 1574, dtype: bool"
      ]
     },
     "metadata": {},
     "output_type": "display_data"
    },
    {
     "name": "stdout",
     "output_type": "stream",
     "text": [
      "what color were the picture ?\n",
      "what color were the pictures ?\n"
     ]
    },
    {
     "data": {
      "text/plain": [
       "SAYCam LSTM 0     True\n",
       "SAYCam 1-gram    False\n",
       "SAYCam 2-gram    False\n",
       "SAYCam CBOW 0    False\n",
       "Name: 1575, dtype: bool"
      ]
     },
     "metadata": {},
     "output_type": "display_data"
    },
    {
     "name": "stdout",
     "output_type": "stream",
     "text": [
      "is the minutes not fixed ?\n",
      "is the minute not fixed ?\n"
     ]
    },
    {
     "data": {
      "text/plain": [
       "SAYCam LSTM 0     True\n",
       "SAYCam 1-gram    False\n",
       "SAYCam 2-gram    False\n",
       "SAYCam CBOW 0     True\n",
       "Name: 1580, dtype: bool"
      ]
     },
     "metadata": {},
     "output_type": "display_data"
    },
    {
     "name": "stdout",
     "output_type": "stream",
     "text": [
      "was the minutes not fixed ?\n",
      "was the minute not fixed ?\n"
     ]
    },
    {
     "data": {
      "text/plain": [
       "SAYCam LSTM 0     True\n",
       "SAYCam 1-gram    False\n",
       "SAYCam 2-gram    False\n",
       "SAYCam CBOW 0     True\n",
       "Name: 1581, dtype: bool"
      ]
     },
     "metadata": {},
     "output_type": "display_data"
    },
    {
     "name": "stdout",
     "output_type": "stream",
     "text": [
      "is the hands not white ?\n",
      "is the hand not white ?\n"
     ]
    },
    {
     "data": {
      "text/plain": [
       "SAYCam LSTM 0     True\n",
       "SAYCam 1-gram     True\n",
       "SAYCam 2-gram     True\n",
       "SAYCam CBOW 0    False\n",
       "Name: 1596, dtype: bool"
      ]
     },
     "metadata": {},
     "output_type": "display_data"
    },
    {
     "name": "stdout",
     "output_type": "stream",
     "text": [
      "was the hands not white ?\n",
      "was the hand not white ?\n"
     ]
    },
    {
     "data": {
      "text/plain": [
       "SAYCam LSTM 0     True\n",
       "SAYCam 1-gram     True\n",
       "SAYCam 2-gram     True\n",
       "SAYCam CBOW 0    False\n",
       "Name: 1597, dtype: bool"
      ]
     },
     "metadata": {},
     "output_type": "display_data"
    },
    {
     "name": "stdout",
     "output_type": "stream",
     "text": [
      "are the hand not white ?\n",
      "are the hands not white ?\n"
     ]
    },
    {
     "data": {
      "text/plain": [
       "SAYCam LSTM 0     True\n",
       "SAYCam 1-gram    False\n",
       "SAYCam 2-gram    False\n",
       "SAYCam CBOW 0     True\n",
       "Name: 1598, dtype: bool"
      ]
     },
     "metadata": {},
     "output_type": "display_data"
    },
    {
     "name": "stdout",
     "output_type": "stream",
     "text": [
      "is the bits not quick ?\n",
      "is the bit not quick ?\n"
     ]
    },
    {
     "data": {
      "text/plain": [
       "SAYCam LSTM 0     True\n",
       "SAYCam 1-gram     True\n",
       "SAYCam 2-gram     True\n",
       "SAYCam CBOW 0    False\n",
       "Name: 1628, dtype: bool"
      ]
     },
     "metadata": {},
     "output_type": "display_data"
    },
    {
     "name": "stdout",
     "output_type": "stream",
     "text": [
      "was the bits not quick ?\n",
      "was the bit not quick ?\n"
     ]
    },
    {
     "data": {
      "text/plain": [
       "SAYCam LSTM 0     True\n",
       "SAYCam 1-gram     True\n",
       "SAYCam 2-gram     True\n",
       "SAYCam CBOW 0    False\n",
       "Name: 1629, dtype: bool"
      ]
     },
     "metadata": {},
     "output_type": "display_data"
    },
    {
     "name": "stdout",
     "output_type": "stream",
     "text": [
      "was the guys not full ?\n",
      "was the guy not full ?\n"
     ]
    },
    {
     "data": {
      "text/plain": [
       "SAYCam LSTM 0     True\n",
       "SAYCam 1-gram     True\n",
       "SAYCam 2-gram     True\n",
       "SAYCam CBOW 0    False\n",
       "Name: 1637, dtype: bool"
      ]
     },
     "metadata": {},
     "output_type": "display_data"
    },
    {
     "name": "stdout",
     "output_type": "stream",
     "text": [
      "are the guy not tall ?\n",
      "are the guys not tall ?\n"
     ]
    },
    {
     "data": {
      "text/plain": [
       "SAYCam LSTM 0     True\n",
       "SAYCam 1-gram    False\n",
       "SAYCam 2-gram    False\n",
       "SAYCam CBOW 0     True\n",
       "Name: 1650, dtype: bool"
      ]
     },
     "metadata": {},
     "output_type": "display_data"
    },
    {
     "name": "stdout",
     "output_type": "stream",
     "text": [
      "were the guy not tall ?\n",
      "were the guys not tall ?\n"
     ]
    },
    {
     "data": {
      "text/plain": [
       "SAYCam LSTM 0     True\n",
       "SAYCam 1-gram    False\n",
       "SAYCam 2-gram    False\n",
       "SAYCam CBOW 0     True\n",
       "Name: 1651, dtype: bool"
      ]
     },
     "metadata": {},
     "output_type": "display_data"
    },
    {
     "name": "stdout",
     "output_type": "stream",
     "text": [
      "was the dogs not full ?\n",
      "was the dog not full ?\n"
     ]
    },
    {
     "data": {
      "text/plain": [
       "SAYCam LSTM 0     True\n",
       "SAYCam 1-gram     True\n",
       "SAYCam 2-gram     True\n",
       "SAYCam CBOW 0    False\n",
       "Name: 1661, dtype: bool"
      ]
     },
     "metadata": {},
     "output_type": "display_data"
    },
    {
     "name": "stdout",
     "output_type": "stream",
     "text": [
      "were the dog not full ?\n",
      "were the dogs not full ?\n"
     ]
    },
    {
     "data": {
      "text/plain": [
       "SAYCam LSTM 0     True\n",
       "SAYCam 1-gram    False\n",
       "SAYCam 2-gram    False\n",
       "SAYCam CBOW 0    False\n",
       "Name: 1663, dtype: bool"
      ]
     },
     "metadata": {},
     "output_type": "display_data"
    },
    {
     "name": "stdout",
     "output_type": "stream",
     "text": [
      "is the pictures not good ?\n",
      "is the picture not good ?\n"
     ]
    },
    {
     "data": {
      "text/plain": [
       "SAYCam LSTM 0     True\n",
       "SAYCam 1-gram     True\n",
       "SAYCam 2-gram     True\n",
       "SAYCam CBOW 0    False\n",
       "Name: 1664, dtype: bool"
      ]
     },
     "metadata": {},
     "output_type": "display_data"
    },
    {
     "name": "stdout",
     "output_type": "stream",
     "text": [
      "was the pictures not good ?\n",
      "was the picture not good ?\n"
     ]
    },
    {
     "data": {
      "text/plain": [
       "SAYCam LSTM 0     True\n",
       "SAYCam 1-gram     True\n",
       "SAYCam 2-gram     True\n",
       "SAYCam CBOW 0    False\n",
       "Name: 1665, dtype: bool"
      ]
     },
     "metadata": {},
     "output_type": "display_data"
    },
    {
     "name": "stdout",
     "output_type": "stream",
     "text": [
      "is the pictures not purple ?\n",
      "is the picture not purple ?\n"
     ]
    },
    {
     "data": {
      "text/plain": [
       "SAYCam LSTM 0     True\n",
       "SAYCam 1-gram     True\n",
       "SAYCam 2-gram     True\n",
       "SAYCam CBOW 0    False\n",
       "Name: 1672, dtype: bool"
      ]
     },
     "metadata": {},
     "output_type": "display_data"
    },
    {
     "name": "stdout",
     "output_type": "stream",
     "text": [
      "was the pictures not purple ?\n",
      "was the picture not purple ?\n"
     ]
    },
    {
     "data": {
      "text/plain": [
       "SAYCam LSTM 0     True\n",
       "SAYCam 1-gram     True\n",
       "SAYCam 2-gram     True\n",
       "SAYCam CBOW 0    False\n",
       "Name: 1673, dtype: bool"
      ]
     },
     "metadata": {},
     "output_type": "display_data"
    },
    {
     "name": "stdout",
     "output_type": "stream",
     "text": [
      "is the minutes not soft ?\n",
      "is the minute not soft ?\n"
     ]
    },
    {
     "data": {
      "text/plain": [
       "SAYCam LSTM 0     True\n",
       "SAYCam 1-gram    False\n",
       "SAYCam 2-gram    False\n",
       "SAYCam CBOW 0     True\n",
       "Name: 1708, dtype: bool"
      ]
     },
     "metadata": {},
     "output_type": "display_data"
    },
    {
     "name": "stdout",
     "output_type": "stream",
     "text": [
      "was the minutes not soft ?\n",
      "was the minute not soft ?\n"
     ]
    },
    {
     "data": {
      "text/plain": [
       "SAYCam LSTM 0     True\n",
       "SAYCam 1-gram    False\n",
       "SAYCam 2-gram    False\n",
       "SAYCam CBOW 0     True\n",
       "Name: 1709, dtype: bool"
      ]
     },
     "metadata": {},
     "output_type": "display_data"
    },
    {
     "name": "stdout",
     "output_type": "stream",
     "text": [
      "are the guy not poor ?\n",
      "are the guys not poor ?\n"
     ]
    },
    {
     "data": {
      "text/plain": [
       "SAYCam LSTM 0     True\n",
       "SAYCam 1-gram    False\n",
       "SAYCam 2-gram    False\n",
       "SAYCam CBOW 0     True\n",
       "Name: 1726, dtype: bool"
      ]
     },
     "metadata": {},
     "output_type": "display_data"
    },
    {
     "name": "stdout",
     "output_type": "stream",
     "text": [
      "were the guy not poor ?\n",
      "were the guys not poor ?\n"
     ]
    },
    {
     "data": {
      "text/plain": [
       "SAYCam LSTM 0     True\n",
       "SAYCam 1-gram    False\n",
       "SAYCam 2-gram    False\n",
       "SAYCam CBOW 0     True\n",
       "Name: 1727, dtype: bool"
      ]
     },
     "metadata": {},
     "output_type": "display_data"
    },
    {
     "name": "stdout",
     "output_type": "stream",
     "text": [
      "is the bits not little ?\n",
      "is the bit not little ?\n"
     ]
    },
    {
     "data": {
      "text/plain": [
       "SAYCam LSTM 0     True\n",
       "SAYCam 1-gram     True\n",
       "SAYCam 2-gram     True\n",
       "SAYCam CBOW 0    False\n",
       "Name: 1732, dtype: bool"
      ]
     },
     "metadata": {},
     "output_type": "display_data"
    },
    {
     "name": "stdout",
     "output_type": "stream",
     "text": [
      "was the bits not little ?\n",
      "was the bit not little ?\n"
     ]
    },
    {
     "data": {
      "text/plain": [
       "SAYCam LSTM 0     True\n",
       "SAYCam 1-gram     True\n",
       "SAYCam 2-gram     True\n",
       "SAYCam CBOW 0    False\n",
       "Name: 1733, dtype: bool"
      ]
     },
     "metadata": {},
     "output_type": "display_data"
    },
    {
     "name": "stdout",
     "output_type": "stream",
     "text": [
      "is the pictures not full ?\n",
      "is the picture not full ?\n"
     ]
    },
    {
     "data": {
      "text/plain": [
       "SAYCam LSTM 0     True\n",
       "SAYCam 1-gram     True\n",
       "SAYCam 2-gram     True\n",
       "SAYCam CBOW 0    False\n",
       "Name: 1740, dtype: bool"
      ]
     },
     "metadata": {},
     "output_type": "display_data"
    },
    {
     "name": "stdout",
     "output_type": "stream",
     "text": [
      "was the pictures not full ?\n",
      "was the picture not full ?\n"
     ]
    },
    {
     "data": {
      "text/plain": [
       "SAYCam LSTM 0     True\n",
       "SAYCam 1-gram     True\n",
       "SAYCam 2-gram     True\n",
       "SAYCam CBOW 0    False\n",
       "Name: 1741, dtype: bool"
      ]
     },
     "metadata": {},
     "output_type": "display_data"
    },
    {
     "name": "stdout",
     "output_type": "stream",
     "text": [
      "are the arm not early ?\n",
      "are the arms not early ?\n"
     ]
    },
    {
     "data": {
      "text/plain": [
       "SAYCam LSTM 0     True\n",
       "SAYCam 1-gram    False\n",
       "SAYCam 2-gram    False\n",
       "SAYCam CBOW 0    False\n",
       "Name: 1746, dtype: bool"
      ]
     },
     "metadata": {},
     "output_type": "display_data"
    },
    {
     "name": "stdout",
     "output_type": "stream",
     "text": [
      "is the horses not white ?\n",
      "is the horse not white ?\n"
     ]
    },
    {
     "data": {
      "text/plain": [
       "SAYCam LSTM 0     True\n",
       "SAYCam 1-gram     True\n",
       "SAYCam 2-gram     True\n",
       "SAYCam CBOW 0    False\n",
       "Name: 1768, dtype: bool"
      ]
     },
     "metadata": {},
     "output_type": "display_data"
    },
    {
     "name": "stdout",
     "output_type": "stream",
     "text": [
      "was the horses not white ?\n",
      "was the horse not white ?\n"
     ]
    },
    {
     "data": {
      "text/plain": [
       "SAYCam LSTM 0     True\n",
       "SAYCam 1-gram     True\n",
       "SAYCam 2-gram     True\n",
       "SAYCam CBOW 0    False\n",
       "Name: 1769, dtype: bool"
      ]
     },
     "metadata": {},
     "output_type": "display_data"
    },
    {
     "name": "stdout",
     "output_type": "stream",
     "text": [
      "is the rings not nice ?\n",
      "is the ring not nice ?\n"
     ]
    },
    {
     "data": {
      "text/plain": [
       "SAYCam LSTM 0     True\n",
       "SAYCam 1-gram     True\n",
       "SAYCam 2-gram    False\n",
       "SAYCam CBOW 0    False\n",
       "Name: 1780, dtype: bool"
      ]
     },
     "metadata": {},
     "output_type": "display_data"
    },
    {
     "name": "stdout",
     "output_type": "stream",
     "text": [
      "was the rings not nice ?\n",
      "was the ring not nice ?\n"
     ]
    },
    {
     "data": {
      "text/plain": [
       "SAYCam LSTM 0     True\n",
       "SAYCam 1-gram     True\n",
       "SAYCam 2-gram    False\n",
       "SAYCam CBOW 0    False\n",
       "Name: 1781, dtype: bool"
      ]
     },
     "metadata": {},
     "output_type": "display_data"
    },
    {
     "name": "stdout",
     "output_type": "stream",
     "text": [
      "was the books not ready ?\n",
      "was the book not ready ?\n"
     ]
    },
    {
     "data": {
      "text/plain": [
       "SAYCam LSTM 0     True\n",
       "SAYCam 1-gram     True\n",
       "SAYCam 2-gram     True\n",
       "SAYCam CBOW 0    False\n",
       "Name: 1785, dtype: bool"
      ]
     },
     "metadata": {},
     "output_type": "display_data"
    },
    {
     "name": "stdout",
     "output_type": "stream",
     "text": [
      "are the hand not purple ?\n",
      "are the hands not purple ?\n"
     ]
    },
    {
     "data": {
      "text/plain": [
       "SAYCam LSTM 0     True\n",
       "SAYCam 1-gram    False\n",
       "SAYCam 2-gram    False\n",
       "SAYCam CBOW 0     True\n",
       "Name: 1802, dtype: bool"
      ]
     },
     "metadata": {},
     "output_type": "display_data"
    },
    {
     "name": "stdout",
     "output_type": "stream",
     "text": [
      "were the hand not purple ?\n",
      "were the hands not purple ?\n"
     ]
    },
    {
     "data": {
      "text/plain": [
       "SAYCam LSTM 0     True\n",
       "SAYCam 1-gram    False\n",
       "SAYCam 2-gram    False\n",
       "SAYCam CBOW 0     True\n",
       "Name: 1803, dtype: bool"
      ]
     },
     "metadata": {},
     "output_type": "display_data"
    },
    {
     "name": "stdout",
     "output_type": "stream",
     "text": [
      "is the arms not last ?\n",
      "is the arm not last ?\n"
     ]
    },
    {
     "data": {
      "text/plain": [
       "SAYCam LSTM 0     True\n",
       "SAYCam 1-gram     True\n",
       "SAYCam 2-gram     True\n",
       "SAYCam CBOW 0    False\n",
       "Name: 1884, dtype: bool"
      ]
     },
     "metadata": {},
     "output_type": "display_data"
    },
    {
     "name": "stdout",
     "output_type": "stream",
     "text": [
      "was the arms not last ?\n",
      "was the arm not last ?\n"
     ]
    },
    {
     "data": {
      "text/plain": [
       "SAYCam LSTM 0     True\n",
       "SAYCam 1-gram     True\n",
       "SAYCam 2-gram     True\n",
       "SAYCam CBOW 0    False\n",
       "Name: 1885, dtype: bool"
      ]
     },
     "metadata": {},
     "output_type": "display_data"
    },
    {
     "name": "stdout",
     "output_type": "stream",
     "text": [
      "is the cars not fixed ?\n",
      "is the car not fixed ?\n"
     ]
    },
    {
     "data": {
      "text/plain": [
       "SAYCam LSTM 0     True\n",
       "SAYCam 1-gram     True\n",
       "SAYCam 2-gram     True\n",
       "SAYCam CBOW 0    False\n",
       "Name: 1976, dtype: bool"
      ]
     },
     "metadata": {},
     "output_type": "display_data"
    },
    {
     "name": "stdout",
     "output_type": "stream",
     "text": [
      "was the cars not fixed ?\n",
      "was the car not fixed ?\n"
     ]
    },
    {
     "data": {
      "text/plain": [
       "SAYCam LSTM 0     True\n",
       "SAYCam 1-gram     True\n",
       "SAYCam 2-gram     True\n",
       "SAYCam CBOW 0    False\n",
       "Name: 1977, dtype: bool"
      ]
     },
     "metadata": {},
     "output_type": "display_data"
    },
    {
     "name": "stdout",
     "output_type": "stream",
     "text": [
      "comparing argument_structure-dropped_argument (341 / 2000.0 = 17.05%):\n"
     ]
    },
    {
     "data": {
      "text/plain": [
       "model\n",
       "BabyBERTa_AO-CHILDES    0.695015\n",
       "SAYCam 1-gram           0.416422\n",
       "SAYCam 2-gram           0.686217\n",
       "SAYCam CBOW 0           0.680352\n",
       "SAYCam LSTM 0           0.774194\n",
       "Name: argument_structure-dropped_argument, dtype: float64"
      ]
     },
     "metadata": {},
     "output_type": "display_data"
    },
    {
     "name": "stdout",
     "output_type": "stream",
     "text": [
      "the boat looks at some .\n",
      "the boat looks at me .\n"
     ]
    },
    {
     "data": {
      "text/plain": [
       "SAYCam LSTM 0     True\n",
       "SAYCam 1-gram    False\n",
       "SAYCam 2-gram     True\n",
       "SAYCam CBOW 0     True\n",
       "Name: 2, dtype: bool"
      ]
     },
     "metadata": {},
     "output_type": "display_data"
    },
    {
     "name": "stdout",
     "output_type": "stream",
     "text": [
      "the boat saw me by .\n",
      "the boat saw me there .\n"
     ]
    },
    {
     "data": {
      "text/plain": [
       "SAYCam LSTM 0     True\n",
       "SAYCam 1-gram     True\n",
       "SAYCam 2-gram     True\n",
       "SAYCam CBOW 0    False\n",
       "Name: 8, dtype: bool"
      ]
     },
     "metadata": {},
     "output_type": "display_data"
    },
    {
     "name": "stdout",
     "output_type": "stream",
     "text": [
      "the boat looks at my .\n",
      "the boat looks at him .\n"
     ]
    },
    {
     "data": {
      "text/plain": [
       "SAYCam LSTM 0     True\n",
       "SAYCam 1-gram    False\n",
       "SAYCam 2-gram     True\n",
       "SAYCam CBOW 0     True\n",
       "Name: 40, dtype: bool"
      ]
     },
     "metadata": {},
     "output_type": "display_data"
    },
    {
     "name": "stdout",
     "output_type": "stream",
     "text": [
      "some doctor saw her by .\n",
      "some doctor saw her there .\n"
     ]
    },
    {
     "data": {
      "text/plain": [
       "SAYCam LSTM 0     True\n",
       "SAYCam 1-gram     True\n",
       "SAYCam 2-gram     True\n",
       "SAYCam CBOW 0    False\n",
       "Name: 60, dtype: bool"
      ]
     },
     "metadata": {},
     "output_type": "display_data"
    },
    {
     "name": "stdout",
     "output_type": "stream",
     "text": [
      "a boat told you about a .\n",
      "a boat told you about that .\n"
     ]
    },
    {
     "data": {
      "text/plain": [
       "SAYCam LSTM 0     True\n",
       "SAYCam 1-gram    False\n",
       "SAYCam 2-gram     True\n",
       "SAYCam CBOW 0     True\n",
       "Name: 62, dtype: bool"
      ]
     },
     "metadata": {},
     "output_type": "display_data"
    },
    {
     "name": "stdout",
     "output_type": "stream",
     "text": [
      "one pig changed a .\n",
      "one pig changed him .\n"
     ]
    },
    {
     "data": {
      "text/plain": [
       "SAYCam LSTM 0     True\n",
       "SAYCam 1-gram    False\n",
       "SAYCam 2-gram    False\n",
       "SAYCam CBOW 0     True\n",
       "Name: 72, dtype: bool"
      ]
     },
     "metadata": {},
     "output_type": "display_data"
    },
    {
     "name": "stdout",
     "output_type": "stream",
     "text": [
      "one boat asked them about .\n",
      "one boat asked about them .\n"
     ]
    },
    {
     "data": {
      "text/plain": [
       "SAYCam LSTM 0     True\n",
       "SAYCam 1-gram    False\n",
       "SAYCam 2-gram     True\n",
       "SAYCam CBOW 0     True\n",
       "Name: 75, dtype: bool"
      ]
     },
     "metadata": {},
     "output_type": "display_data"
    },
    {
     "name": "stdout",
     "output_type": "stream",
     "text": [
      "my pig asked me about .\n",
      "my pig asked about me .\n"
     ]
    },
    {
     "data": {
      "text/plain": [
       "SAYCam LSTM 0     True\n",
       "SAYCam 1-gram    False\n",
       "SAYCam 2-gram    False\n",
       "SAYCam CBOW 0     True\n",
       "Name: 85, dtype: bool"
      ]
     },
     "metadata": {},
     "output_type": "display_data"
    },
    {
     "name": "stdout",
     "output_type": "stream",
     "text": [
      "his boat looks at some .\n",
      "his boat looks at you .\n"
     ]
    },
    {
     "data": {
      "text/plain": [
       "SAYCam LSTM 0     True\n",
       "SAYCam 1-gram     True\n",
       "SAYCam 2-gram     True\n",
       "SAYCam CBOW 0    False\n",
       "Name: 93, dtype: bool"
      ]
     },
     "metadata": {},
     "output_type": "display_data"
    },
    {
     "name": "stdout",
     "output_type": "stream",
     "text": [
      "some boat told you about the .\n",
      "some boat told you about that .\n"
     ]
    },
    {
     "data": {
      "text/plain": [
       "SAYCam LSTM 0     True\n",
       "SAYCam 1-gram    False\n",
       "SAYCam 2-gram     True\n",
       "SAYCam CBOW 0     True\n",
       "Name: 106, dtype: bool"
      ]
     },
     "metadata": {},
     "output_type": "display_data"
    },
    {
     "name": "stdout",
     "output_type": "stream",
     "text": [
      "his dinosaur plays with his .\n",
      "his dinosaur plays with him .\n"
     ]
    },
    {
     "data": {
      "text/plain": [
       "SAYCam LSTM 0     True\n",
       "SAYCam 1-gram    False\n",
       "SAYCam 2-gram     True\n",
       "SAYCam CBOW 0     True\n",
       "Name: 120, dtype: bool"
      ]
     },
     "metadata": {},
     "output_type": "display_data"
    },
    {
     "name": "stdout",
     "output_type": "stream",
     "text": [
      "some boat works when .\n",
      "some boat works well .\n"
     ]
    },
    {
     "data": {
      "text/plain": [
       "SAYCam LSTM 0     True\n",
       "SAYCam 1-gram     True\n",
       "SAYCam 2-gram     True\n",
       "SAYCam CBOW 0    False\n",
       "Name: 123, dtype: bool"
      ]
     },
     "metadata": {},
     "output_type": "display_data"
    },
    {
     "name": "stdout",
     "output_type": "stream",
     "text": [
      "some dinosaur plays with a .\n",
      "some dinosaur plays with them .\n"
     ]
    },
    {
     "data": {
      "text/plain": [
       "SAYCam LSTM 0     True\n",
       "SAYCam 1-gram    False\n",
       "SAYCam 2-gram     True\n",
       "SAYCam CBOW 0     True\n",
       "Name: 136, dtype: bool"
      ]
     },
     "metadata": {},
     "output_type": "display_data"
    },
    {
     "name": "stdout",
     "output_type": "stream",
     "text": [
      "a doctor works and .\n",
      "a doctor works well .\n"
     ]
    },
    {
     "data": {
      "text/plain": [
       "SAYCam LSTM 0     True\n",
       "SAYCam 1-gram    False\n",
       "SAYCam 2-gram     True\n",
       "SAYCam CBOW 0     True\n",
       "Name: 141, dtype: bool"
      ]
     },
     "metadata": {},
     "output_type": "display_data"
    },
    {
     "name": "stdout",
     "output_type": "stream",
     "text": [
      "my boat wanted to .\n",
      "my boat wanted me .\n"
     ]
    },
    {
     "data": {
      "text/plain": [
       "SAYCam LSTM 0     True\n",
       "SAYCam 1-gram    False\n",
       "SAYCam 2-gram    False\n",
       "SAYCam CBOW 0    False\n",
       "Name: 157, dtype: bool"
      ]
     },
     "metadata": {},
     "output_type": "display_data"
    },
    {
     "name": "stdout",
     "output_type": "stream",
     "text": [
      "my boat works but .\n",
      "my boat works well .\n"
     ]
    },
    {
     "data": {
      "text/plain": [
       "SAYCam LSTM 0     True\n",
       "SAYCam 1-gram    False\n",
       "SAYCam 2-gram     True\n",
       "SAYCam CBOW 0     True\n",
       "Name: 166, dtype: bool"
      ]
     },
     "metadata": {},
     "output_type": "display_data"
    },
    {
     "name": "stdout",
     "output_type": "stream",
     "text": [
      "the pig changed some .\n",
      "the pig changed me .\n"
     ]
    },
    {
     "data": {
      "text/plain": [
       "SAYCam LSTM 0     True\n",
       "SAYCam 1-gram    False\n",
       "SAYCam 2-gram     True\n",
       "SAYCam CBOW 0     True\n",
       "Name: 181, dtype: bool"
      ]
     },
     "metadata": {},
     "output_type": "display_data"
    },
    {
     "name": "stdout",
     "output_type": "stream",
     "text": [
      "his doctor changed one .\n",
      "his doctor changed me .\n"
     ]
    },
    {
     "data": {
      "text/plain": [
       "SAYCam LSTM 0     True\n",
       "SAYCam 1-gram    False\n",
       "SAYCam 2-gram    False\n",
       "SAYCam CBOW 0    False\n",
       "Name: 194, dtype: bool"
      ]
     },
     "metadata": {},
     "output_type": "display_data"
    },
    {
     "name": "stdout",
     "output_type": "stream",
     "text": [
      "one doctor wanted to .\n",
      "one doctor wanted them .\n"
     ]
    },
    {
     "data": {
      "text/plain": [
       "SAYCam LSTM 0     True\n",
       "SAYCam 1-gram    False\n",
       "SAYCam 2-gram    False\n",
       "SAYCam CBOW 0    False\n",
       "Name: 196, dtype: bool"
      ]
     },
     "metadata": {},
     "output_type": "display_data"
    },
    {
     "name": "stdout",
     "output_type": "stream",
     "text": [
      "the dinosaur looks at some .\n",
      "the dinosaur looks at you .\n"
     ]
    },
    {
     "data": {
      "text/plain": [
       "SAYCam LSTM 0     True\n",
       "SAYCam 1-gram     True\n",
       "SAYCam 2-gram     True\n",
       "SAYCam CBOW 0    False\n",
       "Name: 199, dtype: bool"
      ]
     },
     "metadata": {},
     "output_type": "display_data"
    },
    {
     "name": "stdout",
     "output_type": "stream",
     "text": [
      "his boat works but .\n",
      "his boat works well .\n"
     ]
    },
    {
     "data": {
      "text/plain": [
       "SAYCam LSTM 0     True\n",
       "SAYCam 1-gram    False\n",
       "SAYCam 2-gram     True\n",
       "SAYCam CBOW 0     True\n",
       "Name: 201, dtype: bool"
      ]
     },
     "metadata": {},
     "output_type": "display_data"
    },
    {
     "name": "stdout",
     "output_type": "stream",
     "text": [
      "the pig looks at some .\n",
      "the pig looks at him .\n"
     ]
    },
    {
     "data": {
      "text/plain": [
       "SAYCam LSTM 0     True\n",
       "SAYCam 1-gram    False\n",
       "SAYCam 2-gram     True\n",
       "SAYCam CBOW 0     True\n",
       "Name: 203, dtype: bool"
      ]
     },
     "metadata": {},
     "output_type": "display_data"
    },
    {
     "name": "stdout",
     "output_type": "stream",
     "text": [
      "a doctor looks at some .\n",
      "a doctor looks at you .\n"
     ]
    },
    {
     "data": {
      "text/plain": [
       "SAYCam LSTM 0     True\n",
       "SAYCam 1-gram     True\n",
       "SAYCam 2-gram     True\n",
       "SAYCam CBOW 0    False\n",
       "Name: 235, dtype: bool"
      ]
     },
     "metadata": {},
     "output_type": "display_data"
    },
    {
     "name": "stdout",
     "output_type": "stream",
     "text": [
      "the dinosaur looks at one .\n",
      "the dinosaur looks at them .\n"
     ]
    },
    {
     "data": {
      "text/plain": [
       "SAYCam LSTM 0     True\n",
       "SAYCam 1-gram    False\n",
       "SAYCam 2-gram     True\n",
       "SAYCam CBOW 0     True\n",
       "Name: 261, dtype: bool"
      ]
     },
     "metadata": {},
     "output_type": "display_data"
    },
    {
     "name": "stdout",
     "output_type": "stream",
     "text": [
      "a boat works but .\n",
      "a boat works well .\n"
     ]
    },
    {
     "data": {
      "text/plain": [
       "SAYCam LSTM 0     True\n",
       "SAYCam 1-gram    False\n",
       "SAYCam 2-gram     True\n",
       "SAYCam CBOW 0     True\n",
       "Name: 302, dtype: bool"
      ]
     },
     "metadata": {},
     "output_type": "display_data"
    },
    {
     "name": "stdout",
     "output_type": "stream",
     "text": [
      "the doctor plays with my .\n",
      "the doctor plays with him .\n"
     ]
    },
    {
     "data": {
      "text/plain": [
       "SAYCam LSTM 0     True\n",
       "SAYCam 1-gram    False\n",
       "SAYCam 2-gram     True\n",
       "SAYCam CBOW 0     True\n",
       "Name: 322, dtype: bool"
      ]
     },
     "metadata": {},
     "output_type": "display_data"
    },
    {
     "name": "stdout",
     "output_type": "stream",
     "text": [
      "the doctor works when .\n",
      "the doctor works well .\n"
     ]
    },
    {
     "data": {
      "text/plain": [
       "SAYCam LSTM 0     True\n",
       "SAYCam 1-gram     True\n",
       "SAYCam 2-gram     True\n",
       "SAYCam CBOW 0    False\n",
       "Name: 324, dtype: bool"
      ]
     },
     "metadata": {},
     "output_type": "display_data"
    },
    {
     "name": "stdout",
     "output_type": "stream",
     "text": [
      "my dinosaur looks at one .\n",
      "my dinosaur looks at me .\n"
     ]
    },
    {
     "data": {
      "text/plain": [
       "SAYCam LSTM 0     True\n",
       "SAYCam 1-gram    False\n",
       "SAYCam 2-gram     True\n",
       "SAYCam CBOW 0     True\n",
       "Name: 330, dtype: bool"
      ]
     },
     "metadata": {},
     "output_type": "display_data"
    },
    {
     "name": "stdout",
     "output_type": "stream",
     "text": [
      "a dinosaur asked them about .\n",
      "a dinosaur asked about them .\n"
     ]
    },
    {
     "data": {
      "text/plain": [
       "SAYCam LSTM 0     True\n",
       "SAYCam 1-gram    False\n",
       "SAYCam 2-gram     True\n",
       "SAYCam CBOW 0     True\n",
       "Name: 367, dtype: bool"
      ]
     },
     "metadata": {},
     "output_type": "display_data"
    },
    {
     "name": "stdout",
     "output_type": "stream",
     "text": [
      "a boat asked him about .\n",
      "a boat asked about him .\n"
     ]
    },
    {
     "data": {
      "text/plain": [
       "SAYCam LSTM 0     True\n",
       "SAYCam 1-gram    False\n",
       "SAYCam 2-gram     True\n",
       "SAYCam CBOW 0     True\n",
       "Name: 376, dtype: bool"
      ]
     },
     "metadata": {},
     "output_type": "display_data"
    },
    {
     "name": "stdout",
     "output_type": "stream",
     "text": [
      "the boat asked you about .\n",
      "the boat asked about you .\n"
     ]
    },
    {
     "data": {
      "text/plain": [
       "SAYCam LSTM 0     True\n",
       "SAYCam 1-gram    False\n",
       "SAYCam 2-gram     True\n",
       "SAYCam CBOW 0     True\n",
       "Name: 384, dtype: bool"
      ]
     },
     "metadata": {},
     "output_type": "display_data"
    },
    {
     "name": "stdout",
     "output_type": "stream",
     "text": [
      "his boat looks at some .\n",
      "his boat looks at him .\n"
     ]
    },
    {
     "data": {
      "text/plain": [
       "SAYCam LSTM 0     True\n",
       "SAYCam 1-gram    False\n",
       "SAYCam 2-gram     True\n",
       "SAYCam CBOW 0     True\n",
       "Name: 400, dtype: bool"
      ]
     },
     "metadata": {},
     "output_type": "display_data"
    },
    {
     "name": "stdout",
     "output_type": "stream",
     "text": [
      "one dinosaur looks at a .\n",
      "one dinosaur looks at her .\n"
     ]
    },
    {
     "data": {
      "text/plain": [
       "SAYCam LSTM 0     True\n",
       "SAYCam 1-gram    False\n",
       "SAYCam 2-gram    False\n",
       "SAYCam CBOW 0     True\n",
       "Name: 418, dtype: bool"
      ]
     },
     "metadata": {},
     "output_type": "display_data"
    },
    {
     "name": "stdout",
     "output_type": "stream",
     "text": [
      "some dinosaur works but .\n",
      "some dinosaur works well .\n"
     ]
    },
    {
     "data": {
      "text/plain": [
       "SAYCam LSTM 0     True\n",
       "SAYCam 1-gram    False\n",
       "SAYCam 2-gram     True\n",
       "SAYCam CBOW 0     True\n",
       "Name: 437, dtype: bool"
      ]
     },
     "metadata": {},
     "output_type": "display_data"
    },
    {
     "name": "stdout",
     "output_type": "stream",
     "text": [
      "my dinosaur asked them about .\n",
      "my dinosaur asked about them .\n"
     ]
    },
    {
     "data": {
      "text/plain": [
       "SAYCam LSTM 0     True\n",
       "SAYCam 1-gram    False\n",
       "SAYCam 2-gram     True\n",
       "SAYCam CBOW 0     True\n",
       "Name: 442, dtype: bool"
      ]
     },
     "metadata": {},
     "output_type": "display_data"
    },
    {
     "name": "stdout",
     "output_type": "stream",
     "text": [
      "one dinosaur plays with some .\n",
      "one dinosaur plays with you .\n"
     ]
    },
    {
     "data": {
      "text/plain": [
       "SAYCam LSTM 0     True\n",
       "SAYCam 1-gram     True\n",
       "SAYCam 2-gram     True\n",
       "SAYCam CBOW 0    False\n",
       "Name: 445, dtype: bool"
      ]
     },
     "metadata": {},
     "output_type": "display_data"
    },
    {
     "name": "stdout",
     "output_type": "stream",
     "text": [
      "a doctor saw him by .\n",
      "a doctor saw him there .\n"
     ]
    },
    {
     "data": {
      "text/plain": [
       "SAYCam LSTM 0     True\n",
       "SAYCam 1-gram     True\n",
       "SAYCam 2-gram     True\n",
       "SAYCam CBOW 0    False\n",
       "Name: 454, dtype: bool"
      ]
     },
     "metadata": {},
     "output_type": "display_data"
    },
    {
     "name": "stdout",
     "output_type": "stream",
     "text": [
      "my boat plays with his .\n",
      "my boat plays with her .\n"
     ]
    },
    {
     "data": {
      "text/plain": [
       "SAYCam LSTM 0     True\n",
       "SAYCam 1-gram    False\n",
       "SAYCam 2-gram    False\n",
       "SAYCam CBOW 0     True\n",
       "Name: 491, dtype: bool"
      ]
     },
     "metadata": {},
     "output_type": "display_data"
    },
    {
     "name": "stdout",
     "output_type": "stream",
     "text": [
      "his dinosaur asked me about .\n",
      "his dinosaur asked about me .\n"
     ]
    },
    {
     "data": {
      "text/plain": [
       "SAYCam LSTM 0     True\n",
       "SAYCam 1-gram    False\n",
       "SAYCam 2-gram    False\n",
       "SAYCam CBOW 0     True\n",
       "Name: 502, dtype: bool"
      ]
     },
     "metadata": {},
     "output_type": "display_data"
    },
    {
     "name": "stdout",
     "output_type": "stream",
     "text": [
      "one boat plays with his .\n",
      "one boat plays with him .\n"
     ]
    },
    {
     "data": {
      "text/plain": [
       "SAYCam LSTM 0     True\n",
       "SAYCam 1-gram    False\n",
       "SAYCam 2-gram     True\n",
       "SAYCam CBOW 0     True\n",
       "Name: 514, dtype: bool"
      ]
     },
     "metadata": {},
     "output_type": "display_data"
    },
    {
     "name": "stdout",
     "output_type": "stream",
     "text": [
      "some doctor asked her about .\n",
      "some doctor asked about her .\n"
     ]
    },
    {
     "data": {
      "text/plain": [
       "SAYCam LSTM 0     True\n",
       "SAYCam 1-gram    False\n",
       "SAYCam 2-gram     True\n",
       "SAYCam CBOW 0    False\n",
       "Name: 516, dtype: bool"
      ]
     },
     "metadata": {},
     "output_type": "display_data"
    },
    {
     "name": "stdout",
     "output_type": "stream",
     "text": [
      "some doctor changed some .\n",
      "some doctor changed me .\n"
     ]
    },
    {
     "data": {
      "text/plain": [
       "SAYCam LSTM 0     True\n",
       "SAYCam 1-gram    False\n",
       "SAYCam 2-gram     True\n",
       "SAYCam CBOW 0     True\n",
       "Name: 535, dtype: bool"
      ]
     },
     "metadata": {},
     "output_type": "display_data"
    },
    {
     "name": "stdout",
     "output_type": "stream",
     "text": [
      "a pig changed my .\n",
      "a pig changed them .\n"
     ]
    },
    {
     "data": {
      "text/plain": [
       "SAYCam LSTM 0     True\n",
       "SAYCam 1-gram    False\n",
       "SAYCam 2-gram     True\n",
       "SAYCam CBOW 0     True\n",
       "Name: 544, dtype: bool"
      ]
     },
     "metadata": {},
     "output_type": "display_data"
    },
    {
     "name": "stdout",
     "output_type": "stream",
     "text": [
      "some boat plays with my .\n",
      "some boat plays with him .\n"
     ]
    },
    {
     "data": {
      "text/plain": [
       "SAYCam LSTM 0     True\n",
       "SAYCam 1-gram    False\n",
       "SAYCam 2-gram     True\n",
       "SAYCam CBOW 0     True\n",
       "Name: 548, dtype: bool"
      ]
     },
     "metadata": {},
     "output_type": "display_data"
    },
    {
     "name": "stdout",
     "output_type": "stream",
     "text": [
      "the dinosaur changed a .\n",
      "the dinosaur changed me .\n"
     ]
    },
    {
     "data": {
      "text/plain": [
       "SAYCam LSTM 0     True\n",
       "SAYCam 1-gram    False\n",
       "SAYCam 2-gram     True\n",
       "SAYCam CBOW 0     True\n",
       "Name: 609, dtype: bool"
      ]
     },
     "metadata": {},
     "output_type": "display_data"
    },
    {
     "name": "stdout",
     "output_type": "stream",
     "text": [
      "his boat told him about a .\n",
      "his boat told him about that .\n"
     ]
    },
    {
     "data": {
      "text/plain": [
       "SAYCam LSTM 0     True\n",
       "SAYCam 1-gram    False\n",
       "SAYCam 2-gram     True\n",
       "SAYCam CBOW 0     True\n",
       "Name: 633, dtype: bool"
      ]
     },
     "metadata": {},
     "output_type": "display_data"
    },
    {
     "name": "stdout",
     "output_type": "stream",
     "text": [
      "my boat asked them about .\n",
      "my boat asked about them .\n"
     ]
    },
    {
     "data": {
      "text/plain": [
       "SAYCam LSTM 0     True\n",
       "SAYCam 1-gram    False\n",
       "SAYCam 2-gram     True\n",
       "SAYCam CBOW 0     True\n",
       "Name: 641, dtype: bool"
      ]
     },
     "metadata": {},
     "output_type": "display_data"
    },
    {
     "name": "stdout",
     "output_type": "stream",
     "text": [
      "some dinosaur changed one .\n",
      "some dinosaur changed them .\n"
     ]
    },
    {
     "data": {
      "text/plain": [
       "SAYCam LSTM 0     True\n",
       "SAYCam 1-gram    False\n",
       "SAYCam 2-gram    False\n",
       "SAYCam CBOW 0     True\n",
       "Name: 642, dtype: bool"
      ]
     },
     "metadata": {},
     "output_type": "display_data"
    },
    {
     "name": "stdout",
     "output_type": "stream",
     "text": [
      "one pig plays with some .\n",
      "one pig plays with me .\n"
     ]
    },
    {
     "data": {
      "text/plain": [
       "SAYCam LSTM 0     True\n",
       "SAYCam 1-gram    False\n",
       "SAYCam 2-gram     True\n",
       "SAYCam CBOW 0     True\n",
       "Name: 648, dtype: bool"
      ]
     },
     "metadata": {},
     "output_type": "display_data"
    },
    {
     "name": "stdout",
     "output_type": "stream",
     "text": [
      "some boat saw him by .\n",
      "some boat saw him there .\n"
     ]
    },
    {
     "data": {
      "text/plain": [
       "SAYCam LSTM 0     True\n",
       "SAYCam 1-gram     True\n",
       "SAYCam 2-gram     True\n",
       "SAYCam CBOW 0    False\n",
       "Name: 649, dtype: bool"
      ]
     },
     "metadata": {},
     "output_type": "display_data"
    },
    {
     "name": "stdout",
     "output_type": "stream",
     "text": [
      "the dinosaur changed some .\n",
      "the dinosaur changed them .\n"
     ]
    },
    {
     "data": {
      "text/plain": [
       "SAYCam LSTM 0     True\n",
       "SAYCam 1-gram    False\n",
       "SAYCam 2-gram     True\n",
       "SAYCam CBOW 0     True\n",
       "Name: 687, dtype: bool"
      ]
     },
     "metadata": {},
     "output_type": "display_data"
    },
    {
     "name": "stdout",
     "output_type": "stream",
     "text": [
      "one doctor changed a .\n",
      "one doctor changed him .\n"
     ]
    },
    {
     "data": {
      "text/plain": [
       "SAYCam LSTM 0     True\n",
       "SAYCam 1-gram    False\n",
       "SAYCam 2-gram    False\n",
       "SAYCam CBOW 0     True\n",
       "Name: 689, dtype: bool"
      ]
     },
     "metadata": {},
     "output_type": "display_data"
    },
    {
     "name": "stdout",
     "output_type": "stream",
     "text": [
      "the boat works with .\n",
      "the boat works well .\n"
     ]
    },
    {
     "data": {
      "text/plain": [
       "SAYCam LSTM 0     True\n",
       "SAYCam 1-gram    False\n",
       "SAYCam 2-gram    False\n",
       "SAYCam CBOW 0    False\n",
       "Name: 692, dtype: bool"
      ]
     },
     "metadata": {},
     "output_type": "display_data"
    },
    {
     "name": "stdout",
     "output_type": "stream",
     "text": [
      "my pig plays with some .\n",
      "my pig plays with me .\n"
     ]
    },
    {
     "data": {
      "text/plain": [
       "SAYCam LSTM 0     True\n",
       "SAYCam 1-gram    False\n",
       "SAYCam 2-gram     True\n",
       "SAYCam CBOW 0     True\n",
       "Name: 702, dtype: bool"
      ]
     },
     "metadata": {},
     "output_type": "display_data"
    },
    {
     "name": "stdout",
     "output_type": "stream",
     "text": [
      "one doctor told you about the .\n",
      "one doctor told you about that .\n"
     ]
    },
    {
     "data": {
      "text/plain": [
       "SAYCam LSTM 0     True\n",
       "SAYCam 1-gram    False\n",
       "SAYCam 2-gram     True\n",
       "SAYCam CBOW 0     True\n",
       "Name: 703, dtype: bool"
      ]
     },
     "metadata": {},
     "output_type": "display_data"
    },
    {
     "name": "stdout",
     "output_type": "stream",
     "text": [
      "a boat saw me by .\n",
      "a boat saw me there .\n"
     ]
    },
    {
     "data": {
      "text/plain": [
       "SAYCam LSTM 0     True\n",
       "SAYCam 1-gram     True\n",
       "SAYCam 2-gram     True\n",
       "SAYCam CBOW 0    False\n",
       "Name: 719, dtype: bool"
      ]
     },
     "metadata": {},
     "output_type": "display_data"
    },
    {
     "name": "stdout",
     "output_type": "stream",
     "text": [
      "my pig looks at a .\n",
      "my pig looks at them .\n"
     ]
    },
    {
     "data": {
      "text/plain": [
       "SAYCam LSTM 0     True\n",
       "SAYCam 1-gram    False\n",
       "SAYCam 2-gram     True\n",
       "SAYCam CBOW 0     True\n",
       "Name: 723, dtype: bool"
      ]
     },
     "metadata": {},
     "output_type": "display_data"
    },
    {
     "name": "stdout",
     "output_type": "stream",
     "text": [
      "some doctor saw him by .\n",
      "some doctor saw him there .\n"
     ]
    },
    {
     "data": {
      "text/plain": [
       "SAYCam LSTM 0     True\n",
       "SAYCam 1-gram     True\n",
       "SAYCam 2-gram     True\n",
       "SAYCam CBOW 0    False\n",
       "Name: 726, dtype: bool"
      ]
     },
     "metadata": {},
     "output_type": "display_data"
    },
    {
     "name": "stdout",
     "output_type": "stream",
     "text": [
      "my doctor wanted to .\n",
      "my doctor wanted me .\n"
     ]
    },
    {
     "data": {
      "text/plain": [
       "SAYCam LSTM 0     True\n",
       "SAYCam 1-gram    False\n",
       "SAYCam 2-gram    False\n",
       "SAYCam CBOW 0    False\n",
       "Name: 736, dtype: bool"
      ]
     },
     "metadata": {},
     "output_type": "display_data"
    },
    {
     "name": "stdout",
     "output_type": "stream",
     "text": [
      "my pig works when .\n",
      "my pig works well .\n"
     ]
    },
    {
     "data": {
      "text/plain": [
       "SAYCam LSTM 0     True\n",
       "SAYCam 1-gram     True\n",
       "SAYCam 2-gram     True\n",
       "SAYCam CBOW 0    False\n",
       "Name: 740, dtype: bool"
      ]
     },
     "metadata": {},
     "output_type": "display_data"
    },
    {
     "name": "stdout",
     "output_type": "stream",
     "text": [
      "my boat saw me by .\n",
      "my boat saw me there .\n"
     ]
    },
    {
     "data": {
      "text/plain": [
       "SAYCam LSTM 0     True\n",
       "SAYCam 1-gram     True\n",
       "SAYCam 2-gram     True\n",
       "SAYCam CBOW 0    False\n",
       "Name: 756, dtype: bool"
      ]
     },
     "metadata": {},
     "output_type": "display_data"
    },
    {
     "name": "stdout",
     "output_type": "stream",
     "text": [
      "a boat looks at one .\n",
      "a boat looks at me .\n"
     ]
    },
    {
     "data": {
      "text/plain": [
       "SAYCam LSTM 0     True\n",
       "SAYCam 1-gram    False\n",
       "SAYCam 2-gram     True\n",
       "SAYCam CBOW 0     True\n",
       "Name: 764, dtype: bool"
      ]
     },
     "metadata": {},
     "output_type": "display_data"
    },
    {
     "name": "stdout",
     "output_type": "stream",
     "text": [
      "his dinosaur works when .\n",
      "his dinosaur works well .\n"
     ]
    },
    {
     "data": {
      "text/plain": [
       "SAYCam LSTM 0     True\n",
       "SAYCam 1-gram     True\n",
       "SAYCam 2-gram     True\n",
       "SAYCam CBOW 0    False\n",
       "Name: 770, dtype: bool"
      ]
     },
     "metadata": {},
     "output_type": "display_data"
    },
    {
     "name": "stdout",
     "output_type": "stream",
     "text": [
      "his pig looks at some .\n",
      "his pig looks at you .\n"
     ]
    },
    {
     "data": {
      "text/plain": [
       "SAYCam LSTM 0     True\n",
       "SAYCam 1-gram     True\n",
       "SAYCam 2-gram     True\n",
       "SAYCam CBOW 0    False\n",
       "Name: 785, dtype: bool"
      ]
     },
     "metadata": {},
     "output_type": "display_data"
    },
    {
     "name": "stdout",
     "output_type": "stream",
     "text": [
      "a boat changed one .\n",
      "a boat changed them .\n"
     ]
    },
    {
     "data": {
      "text/plain": [
       "SAYCam LSTM 0     True\n",
       "SAYCam 1-gram    False\n",
       "SAYCam 2-gram    False\n",
       "SAYCam CBOW 0     True\n",
       "Name: 789, dtype: bool"
      ]
     },
     "metadata": {},
     "output_type": "display_data"
    },
    {
     "name": "stdout",
     "output_type": "stream",
     "text": [
      "one doctor plays with some .\n",
      "one doctor plays with him .\n"
     ]
    },
    {
     "data": {
      "text/plain": [
       "SAYCam LSTM 0     True\n",
       "SAYCam 1-gram    False\n",
       "SAYCam 2-gram     True\n",
       "SAYCam CBOW 0     True\n",
       "Name: 804, dtype: bool"
      ]
     },
     "metadata": {},
     "output_type": "display_data"
    },
    {
     "name": "stdout",
     "output_type": "stream",
     "text": [
      "some doctor looks at a .\n",
      "some doctor looks at her .\n"
     ]
    },
    {
     "data": {
      "text/plain": [
       "SAYCam LSTM 0     True\n",
       "SAYCam 1-gram    False\n",
       "SAYCam 2-gram    False\n",
       "SAYCam CBOW 0     True\n",
       "Name: 809, dtype: bool"
      ]
     },
     "metadata": {},
     "output_type": "display_data"
    },
    {
     "name": "stdout",
     "output_type": "stream",
     "text": [
      "one pig plays with my .\n",
      "one pig plays with him .\n"
     ]
    },
    {
     "data": {
      "text/plain": [
       "SAYCam LSTM 0     True\n",
       "SAYCam 1-gram    False\n",
       "SAYCam 2-gram     True\n",
       "SAYCam CBOW 0     True\n",
       "Name: 830, dtype: bool"
      ]
     },
     "metadata": {},
     "output_type": "display_data"
    },
    {
     "name": "stdout",
     "output_type": "stream",
     "text": [
      "a boat plays with his .\n",
      "a boat plays with him .\n"
     ]
    },
    {
     "data": {
      "text/plain": [
       "SAYCam LSTM 0     True\n",
       "SAYCam 1-gram    False\n",
       "SAYCam 2-gram     True\n",
       "SAYCam CBOW 0     True\n",
       "Name: 850, dtype: bool"
      ]
     },
     "metadata": {},
     "output_type": "display_data"
    },
    {
     "name": "stdout",
     "output_type": "stream",
     "text": [
      "some doctor asked me about .\n",
      "some doctor asked about me .\n"
     ]
    },
    {
     "data": {
      "text/plain": [
       "SAYCam LSTM 0     True\n",
       "SAYCam 1-gram    False\n",
       "SAYCam 2-gram    False\n",
       "SAYCam CBOW 0     True\n",
       "Name: 897, dtype: bool"
      ]
     },
     "metadata": {},
     "output_type": "display_data"
    },
    {
     "name": "stdout",
     "output_type": "stream",
     "text": [
      "some doctor works when .\n",
      "some doctor works well .\n"
     ]
    },
    {
     "data": {
      "text/plain": [
       "SAYCam LSTM 0     True\n",
       "SAYCam 1-gram     True\n",
       "SAYCam 2-gram     True\n",
       "SAYCam CBOW 0    False\n",
       "Name: 921, dtype: bool"
      ]
     },
     "metadata": {},
     "output_type": "display_data"
    },
    {
     "name": "stdout",
     "output_type": "stream",
     "text": [
      "one boat asked me about .\n",
      "one boat asked about me .\n"
     ]
    },
    {
     "data": {
      "text/plain": [
       "SAYCam LSTM 0     True\n",
       "SAYCam 1-gram    False\n",
       "SAYCam 2-gram    False\n",
       "SAYCam CBOW 0     True\n",
       "Name: 930, dtype: bool"
      ]
     },
     "metadata": {},
     "output_type": "display_data"
    },
    {
     "name": "stdout",
     "output_type": "stream",
     "text": [
      "his pig works when .\n",
      "his pig works well .\n"
     ]
    },
    {
     "data": {
      "text/plain": [
       "SAYCam LSTM 0     True\n",
       "SAYCam 1-gram     True\n",
       "SAYCam 2-gram     True\n",
       "SAYCam CBOW 0    False\n",
       "Name: 933, dtype: bool"
      ]
     },
     "metadata": {},
     "output_type": "display_data"
    },
    {
     "name": "stdout",
     "output_type": "stream",
     "text": [
      "his pig looks at some .\n",
      "his pig looks at him .\n"
     ]
    },
    {
     "data": {
      "text/plain": [
       "SAYCam LSTM 0     True\n",
       "SAYCam 1-gram    False\n",
       "SAYCam 2-gram     True\n",
       "SAYCam CBOW 0     True\n",
       "Name: 940, dtype: bool"
      ]
     },
     "metadata": {},
     "output_type": "display_data"
    },
    {
     "name": "stdout",
     "output_type": "stream",
     "text": [
      "the boat changed his .\n",
      "the boat changed her .\n"
     ]
    },
    {
     "data": {
      "text/plain": [
       "SAYCam LSTM 0     True\n",
       "SAYCam 1-gram    False\n",
       "SAYCam 2-gram     True\n",
       "SAYCam CBOW 0     True\n",
       "Name: 949, dtype: bool"
      ]
     },
     "metadata": {},
     "output_type": "display_data"
    },
    {
     "name": "stdout",
     "output_type": "stream",
     "text": [
      "his pig saw me by .\n",
      "his pig saw me there .\n"
     ]
    },
    {
     "data": {
      "text/plain": [
       "SAYCam LSTM 0     True\n",
       "SAYCam 1-gram     True\n",
       "SAYCam 2-gram     True\n",
       "SAYCam CBOW 0    False\n",
       "Name: 977, dtype: bool"
      ]
     },
     "metadata": {},
     "output_type": "display_data"
    },
    {
     "name": "stdout",
     "output_type": "stream",
     "text": [
      "my dinosaur works when .\n",
      "my dinosaur works well .\n"
     ]
    },
    {
     "data": {
      "text/plain": [
       "SAYCam LSTM 0     True\n",
       "SAYCam 1-gram     True\n",
       "SAYCam 2-gram     True\n",
       "SAYCam CBOW 0    False\n",
       "Name: 985, dtype: bool"
      ]
     },
     "metadata": {},
     "output_type": "display_data"
    },
    {
     "name": "stdout",
     "output_type": "stream",
     "text": [
      "a doctor looks at one .\n",
      "a doctor looks at me .\n"
     ]
    },
    {
     "data": {
      "text/plain": [
       "SAYCam LSTM 0     True\n",
       "SAYCam 1-gram    False\n",
       "SAYCam 2-gram     True\n",
       "SAYCam CBOW 0     True\n",
       "Name: 990, dtype: bool"
      ]
     },
     "metadata": {},
     "output_type": "display_data"
    },
    {
     "name": "stdout",
     "output_type": "stream",
     "text": [
      "a doctor asked them about .\n",
      "a doctor asked about them .\n"
     ]
    },
    {
     "data": {
      "text/plain": [
       "SAYCam LSTM 0     True\n",
       "SAYCam 1-gram    False\n",
       "SAYCam 2-gram     True\n",
       "SAYCam CBOW 0     True\n",
       "Name: 992, dtype: bool"
      ]
     },
     "metadata": {},
     "output_type": "display_data"
    },
    {
     "name": "stdout",
     "output_type": "stream",
     "text": [
      "some dinosaur changed some .\n",
      "some dinosaur changed me .\n"
     ]
    },
    {
     "data": {
      "text/plain": [
       "SAYCam LSTM 0     True\n",
       "SAYCam 1-gram    False\n",
       "SAYCam 2-gram     True\n",
       "SAYCam CBOW 0     True\n",
       "Name: 997, dtype: bool"
      ]
     },
     "metadata": {},
     "output_type": "display_data"
    },
    {
     "name": "stdout",
     "output_type": "stream",
     "text": [
      "his dinosaur saw him by .\n",
      "his dinosaur saw him there .\n"
     ]
    },
    {
     "data": {
      "text/plain": [
       "SAYCam LSTM 0     True\n",
       "SAYCam 1-gram     True\n",
       "SAYCam 2-gram     True\n",
       "SAYCam CBOW 0    False\n",
       "Name: 999, dtype: bool"
      ]
     },
     "metadata": {},
     "output_type": "display_data"
    },
    {
     "name": "stdout",
     "output_type": "stream",
     "text": [
      "his boat asked him about .\n",
      "his boat asked about him .\n"
     ]
    },
    {
     "data": {
      "text/plain": [
       "SAYCam LSTM 0     True\n",
       "SAYCam 1-gram    False\n",
       "SAYCam 2-gram     True\n",
       "SAYCam CBOW 0     True\n",
       "Name: 1001, dtype: bool"
      ]
     },
     "metadata": {},
     "output_type": "display_data"
    },
    {
     "name": "stdout",
     "output_type": "stream",
     "text": [
      "some boat plays with his .\n",
      "some boat plays with her .\n"
     ]
    },
    {
     "data": {
      "text/plain": [
       "SAYCam LSTM 0     True\n",
       "SAYCam 1-gram    False\n",
       "SAYCam 2-gram    False\n",
       "SAYCam CBOW 0     True\n",
       "Name: 1005, dtype: bool"
      ]
     },
     "metadata": {},
     "output_type": "display_data"
    },
    {
     "name": "stdout",
     "output_type": "stream",
     "text": [
      "the dinosaur works when .\n",
      "the dinosaur works well .\n"
     ]
    },
    {
     "data": {
      "text/plain": [
       "SAYCam LSTM 0     True\n",
       "SAYCam 1-gram     True\n",
       "SAYCam 2-gram     True\n",
       "SAYCam CBOW 0    False\n",
       "Name: 1018, dtype: bool"
      ]
     },
     "metadata": {},
     "output_type": "display_data"
    },
    {
     "name": "stdout",
     "output_type": "stream",
     "text": [
      "the dinosaur asked you about .\n",
      "the dinosaur asked about you .\n"
     ]
    },
    {
     "data": {
      "text/plain": [
       "SAYCam LSTM 0     True\n",
       "SAYCam 1-gram    False\n",
       "SAYCam 2-gram     True\n",
       "SAYCam CBOW 0     True\n",
       "Name: 1027, dtype: bool"
      ]
     },
     "metadata": {},
     "output_type": "display_data"
    },
    {
     "name": "stdout",
     "output_type": "stream",
     "text": [
      "one boat looks at one .\n",
      "one boat looks at you .\n"
     ]
    },
    {
     "data": {
      "text/plain": [
       "SAYCam LSTM 0     True\n",
       "SAYCam 1-gram     True\n",
       "SAYCam 2-gram     True\n",
       "SAYCam CBOW 0    False\n",
       "Name: 1058, dtype: bool"
      ]
     },
     "metadata": {},
     "output_type": "display_data"
    },
    {
     "name": "stdout",
     "output_type": "stream",
     "text": [
      "a boat plays with his .\n",
      "a boat plays with her .\n"
     ]
    },
    {
     "data": {
      "text/plain": [
       "SAYCam LSTM 0     True\n",
       "SAYCam 1-gram    False\n",
       "SAYCam 2-gram    False\n",
       "SAYCam CBOW 0     True\n",
       "Name: 1064, dtype: bool"
      ]
     },
     "metadata": {},
     "output_type": "display_data"
    },
    {
     "name": "stdout",
     "output_type": "stream",
     "text": [
      "one pig asked you about .\n",
      "one pig asked about you .\n"
     ]
    },
    {
     "data": {
      "text/plain": [
       "SAYCam LSTM 0     True\n",
       "SAYCam 1-gram    False\n",
       "SAYCam 2-gram     True\n",
       "SAYCam CBOW 0     True\n",
       "Name: 1085, dtype: bool"
      ]
     },
     "metadata": {},
     "output_type": "display_data"
    },
    {
     "name": "stdout",
     "output_type": "stream",
     "text": [
      "some boat saw her by .\n",
      "some boat saw her there .\n"
     ]
    },
    {
     "data": {
      "text/plain": [
       "SAYCam LSTM 0     True\n",
       "SAYCam 1-gram     True\n",
       "SAYCam 2-gram     True\n",
       "SAYCam CBOW 0    False\n",
       "Name: 1120, dtype: bool"
      ]
     },
     "metadata": {},
     "output_type": "display_data"
    },
    {
     "name": "stdout",
     "output_type": "stream",
     "text": [
      "the doctor told him about a .\n",
      "the doctor told him about that .\n"
     ]
    },
    {
     "data": {
      "text/plain": [
       "SAYCam LSTM 0     True\n",
       "SAYCam 1-gram    False\n",
       "SAYCam 2-gram     True\n",
       "SAYCam CBOW 0     True\n",
       "Name: 1143, dtype: bool"
      ]
     },
     "metadata": {},
     "output_type": "display_data"
    },
    {
     "name": "stdout",
     "output_type": "stream",
     "text": [
      "the dinosaur saw him by .\n",
      "the dinosaur saw him there .\n"
     ]
    },
    {
     "data": {
      "text/plain": [
       "SAYCam LSTM 0     True\n",
       "SAYCam 1-gram     True\n",
       "SAYCam 2-gram     True\n",
       "SAYCam CBOW 0    False\n",
       "Name: 1170, dtype: bool"
      ]
     },
     "metadata": {},
     "output_type": "display_data"
    },
    {
     "name": "stdout",
     "output_type": "stream",
     "text": [
      "some dinosaur looks at some .\n",
      "some dinosaur looks at him .\n"
     ]
    },
    {
     "data": {
      "text/plain": [
       "SAYCam LSTM 0     True\n",
       "SAYCam 1-gram    False\n",
       "SAYCam 2-gram     True\n",
       "SAYCam CBOW 0     True\n",
       "Name: 1184, dtype: bool"
      ]
     },
     "metadata": {},
     "output_type": "display_data"
    },
    {
     "name": "stdout",
     "output_type": "stream",
     "text": [
      "some doctor told them about a .\n",
      "some doctor told them about that .\n"
     ]
    },
    {
     "data": {
      "text/plain": [
       "SAYCam LSTM 0     True\n",
       "SAYCam 1-gram    False\n",
       "SAYCam 2-gram     True\n",
       "SAYCam CBOW 0     True\n",
       "Name: 1209, dtype: bool"
      ]
     },
     "metadata": {},
     "output_type": "display_data"
    },
    {
     "name": "stdout",
     "output_type": "stream",
     "text": [
      "a dinosaur saw him by .\n",
      "a dinosaur saw him there .\n"
     ]
    },
    {
     "data": {
      "text/plain": [
       "SAYCam LSTM 0     True\n",
       "SAYCam 1-gram     True\n",
       "SAYCam 2-gram     True\n",
       "SAYCam CBOW 0    False\n",
       "Name: 1221, dtype: bool"
      ]
     },
     "metadata": {},
     "output_type": "display_data"
    },
    {
     "name": "stdout",
     "output_type": "stream",
     "text": [
      "my boat looks at one .\n",
      "my boat looks at me .\n"
     ]
    },
    {
     "data": {
      "text/plain": [
       "SAYCam LSTM 0     True\n",
       "SAYCam 1-gram    False\n",
       "SAYCam 2-gram     True\n",
       "SAYCam CBOW 0     True\n",
       "Name: 1245, dtype: bool"
      ]
     },
     "metadata": {},
     "output_type": "display_data"
    },
    {
     "name": "stdout",
     "output_type": "stream",
     "text": [
      "his dinosaur changed my .\n",
      "his dinosaur changed them .\n"
     ]
    },
    {
     "data": {
      "text/plain": [
       "SAYCam LSTM 0     True\n",
       "SAYCam 1-gram    False\n",
       "SAYCam 2-gram     True\n",
       "SAYCam CBOW 0     True\n",
       "Name: 1253, dtype: bool"
      ]
     },
     "metadata": {},
     "output_type": "display_data"
    },
    {
     "name": "stdout",
     "output_type": "stream",
     "text": [
      "his dinosaur changed some .\n",
      "his dinosaur changed me .\n"
     ]
    },
    {
     "data": {
      "text/plain": [
       "SAYCam LSTM 0     True\n",
       "SAYCam 1-gram    False\n",
       "SAYCam 2-gram     True\n",
       "SAYCam CBOW 0     True\n",
       "Name: 1282, dtype: bool"
      ]
     },
     "metadata": {},
     "output_type": "display_data"
    },
    {
     "name": "stdout",
     "output_type": "stream",
     "text": [
      "his doctor asked them about .\n",
      "his doctor asked about them .\n"
     ]
    },
    {
     "data": {
      "text/plain": [
       "SAYCam LSTM 0     True\n",
       "SAYCam 1-gram    False\n",
       "SAYCam 2-gram     True\n",
       "SAYCam CBOW 0     True\n",
       "Name: 1303, dtype: bool"
      ]
     },
     "metadata": {},
     "output_type": "display_data"
    },
    {
     "name": "stdout",
     "output_type": "stream",
     "text": [
      "some dinosaur asked them about .\n",
      "some dinosaur asked about them .\n"
     ]
    },
    {
     "data": {
      "text/plain": [
       "SAYCam LSTM 0     True\n",
       "SAYCam 1-gram    False\n",
       "SAYCam 2-gram     True\n",
       "SAYCam CBOW 0     True\n",
       "Name: 1323, dtype: bool"
      ]
     },
     "metadata": {},
     "output_type": "display_data"
    },
    {
     "name": "stdout",
     "output_type": "stream",
     "text": [
      "a boat saw her by .\n",
      "a boat saw her there .\n"
     ]
    },
    {
     "data": {
      "text/plain": [
       "SAYCam LSTM 0     True\n",
       "SAYCam 1-gram     True\n",
       "SAYCam 2-gram     True\n",
       "SAYCam CBOW 0    False\n",
       "Name: 1325, dtype: bool"
      ]
     },
     "metadata": {},
     "output_type": "display_data"
    },
    {
     "name": "stdout",
     "output_type": "stream",
     "text": [
      "a dinosaur changed a .\n",
      "a dinosaur changed them .\n"
     ]
    },
    {
     "data": {
      "text/plain": [
       "SAYCam LSTM 0     True\n",
       "SAYCam 1-gram    False\n",
       "SAYCam 2-gram     True\n",
       "SAYCam CBOW 0     True\n",
       "Name: 1335, dtype: bool"
      ]
     },
     "metadata": {},
     "output_type": "display_data"
    },
    {
     "name": "stdout",
     "output_type": "stream",
     "text": [
      "a pig plays with the .\n",
      "a pig plays with me .\n"
     ]
    },
    {
     "data": {
      "text/plain": [
       "SAYCam LSTM 0     True\n",
       "SAYCam 1-gram    False\n",
       "SAYCam 2-gram     True\n",
       "SAYCam CBOW 0     True\n",
       "Name: 1351, dtype: bool"
      ]
     },
     "metadata": {},
     "output_type": "display_data"
    },
    {
     "name": "stdout",
     "output_type": "stream",
     "text": [
      "his boat looks at one .\n",
      "his boat looks at them .\n"
     ]
    },
    {
     "data": {
      "text/plain": [
       "SAYCam LSTM 0     True\n",
       "SAYCam 1-gram    False\n",
       "SAYCam 2-gram     True\n",
       "SAYCam CBOW 0     True\n",
       "Name: 1353, dtype: bool"
      ]
     },
     "metadata": {},
     "output_type": "display_data"
    },
    {
     "name": "stdout",
     "output_type": "stream",
     "text": [
      "some boat looks at a .\n",
      "some boat looks at me .\n"
     ]
    },
    {
     "data": {
      "text/plain": [
       "SAYCam LSTM 0     True\n",
       "SAYCam 1-gram    False\n",
       "SAYCam 2-gram     True\n",
       "SAYCam CBOW 0     True\n",
       "Name: 1356, dtype: bool"
      ]
     },
     "metadata": {},
     "output_type": "display_data"
    },
    {
     "name": "stdout",
     "output_type": "stream",
     "text": [
      "my pig plays with my .\n",
      "my pig plays with them .\n"
     ]
    },
    {
     "data": {
      "text/plain": [
       "SAYCam LSTM 0     True\n",
       "SAYCam 1-gram    False\n",
       "SAYCam 2-gram     True\n",
       "SAYCam CBOW 0     True\n",
       "Name: 1381, dtype: bool"
      ]
     },
     "metadata": {},
     "output_type": "display_data"
    },
    {
     "name": "stdout",
     "output_type": "stream",
     "text": [
      "my boat changed some .\n",
      "my boat changed me .\n"
     ]
    },
    {
     "data": {
      "text/plain": [
       "SAYCam LSTM 0     True\n",
       "SAYCam 1-gram    False\n",
       "SAYCam 2-gram     True\n",
       "SAYCam CBOW 0     True\n",
       "Name: 1384, dtype: bool"
      ]
     },
     "metadata": {},
     "output_type": "display_data"
    },
    {
     "name": "stdout",
     "output_type": "stream",
     "text": [
      "a boat asked her about .\n",
      "a boat asked about her .\n"
     ]
    },
    {
     "data": {
      "text/plain": [
       "SAYCam LSTM 0     True\n",
       "SAYCam 1-gram    False\n",
       "SAYCam 2-gram     True\n",
       "SAYCam CBOW 0     True\n",
       "Name: 1411, dtype: bool"
      ]
     },
     "metadata": {},
     "output_type": "display_data"
    },
    {
     "name": "stdout",
     "output_type": "stream",
     "text": [
      "some dinosaur plays with some .\n",
      "some dinosaur plays with him .\n"
     ]
    },
    {
     "data": {
      "text/plain": [
       "SAYCam LSTM 0     True\n",
       "SAYCam 1-gram    False\n",
       "SAYCam 2-gram     True\n",
       "SAYCam CBOW 0     True\n",
       "Name: 1448, dtype: bool"
      ]
     },
     "metadata": {},
     "output_type": "display_data"
    },
    {
     "name": "stdout",
     "output_type": "stream",
     "text": [
      "my pig asked him about .\n",
      "my pig asked about him .\n"
     ]
    },
    {
     "data": {
      "text/plain": [
       "SAYCam LSTM 0     True\n",
       "SAYCam 1-gram    False\n",
       "SAYCam 2-gram     True\n",
       "SAYCam CBOW 0     True\n",
       "Name: 1454, dtype: bool"
      ]
     },
     "metadata": {},
     "output_type": "display_data"
    },
    {
     "name": "stdout",
     "output_type": "stream",
     "text": [
      "some boat wanted to .\n",
      "some boat wanted me .\n"
     ]
    },
    {
     "data": {
      "text/plain": [
       "SAYCam LSTM 0     True\n",
       "SAYCam 1-gram    False\n",
       "SAYCam 2-gram    False\n",
       "SAYCam CBOW 0    False\n",
       "Name: 1460, dtype: bool"
      ]
     },
     "metadata": {},
     "output_type": "display_data"
    },
    {
     "name": "stdout",
     "output_type": "stream",
     "text": [
      "a dinosaur looks at a .\n",
      "a dinosaur looks at him .\n"
     ]
    },
    {
     "data": {
      "text/plain": [
       "SAYCam LSTM 0     True\n",
       "SAYCam 1-gram    False\n",
       "SAYCam 2-gram     True\n",
       "SAYCam CBOW 0     True\n",
       "Name: 1466, dtype: bool"
      ]
     },
     "metadata": {},
     "output_type": "display_data"
    },
    {
     "name": "stdout",
     "output_type": "stream",
     "text": [
      "the boat asked me about .\n",
      "the boat asked about me .\n"
     ]
    },
    {
     "data": {
      "text/plain": [
       "SAYCam LSTM 0     True\n",
       "SAYCam 1-gram    False\n",
       "SAYCam 2-gram    False\n",
       "SAYCam CBOW 0     True\n",
       "Name: 1468, dtype: bool"
      ]
     },
     "metadata": {},
     "output_type": "display_data"
    },
    {
     "name": "stdout",
     "output_type": "stream",
     "text": [
      "his boat changed a .\n",
      "his boat changed her .\n"
     ]
    },
    {
     "data": {
      "text/plain": [
       "SAYCam LSTM 0     True\n",
       "SAYCam 1-gram    False\n",
       "SAYCam 2-gram    False\n",
       "SAYCam CBOW 0     True\n",
       "Name: 1478, dtype: bool"
      ]
     },
     "metadata": {},
     "output_type": "display_data"
    },
    {
     "name": "stdout",
     "output_type": "stream",
     "text": [
      "some boat looks at his .\n",
      "some boat looks at him .\n"
     ]
    },
    {
     "data": {
      "text/plain": [
       "SAYCam LSTM 0     True\n",
       "SAYCam 1-gram    False\n",
       "SAYCam 2-gram     True\n",
       "SAYCam CBOW 0     True\n",
       "Name: 1487, dtype: bool"
      ]
     },
     "metadata": {},
     "output_type": "display_data"
    },
    {
     "name": "stdout",
     "output_type": "stream",
     "text": [
      "my pig changed some .\n",
      "my pig changed them .\n"
     ]
    },
    {
     "data": {
      "text/plain": [
       "SAYCam LSTM 0     True\n",
       "SAYCam 1-gram    False\n",
       "SAYCam 2-gram     True\n",
       "SAYCam CBOW 0     True\n",
       "Name: 1496, dtype: bool"
      ]
     },
     "metadata": {},
     "output_type": "display_data"
    },
    {
     "name": "stdout",
     "output_type": "stream",
     "text": [
      "some pig looks at a .\n",
      "some pig looks at her .\n"
     ]
    },
    {
     "data": {
      "text/plain": [
       "SAYCam LSTM 0     True\n",
       "SAYCam 1-gram    False\n",
       "SAYCam 2-gram    False\n",
       "SAYCam CBOW 0     True\n",
       "Name: 1500, dtype: bool"
      ]
     },
     "metadata": {},
     "output_type": "display_data"
    },
    {
     "name": "stdout",
     "output_type": "stream",
     "text": [
      "my boat plays with some .\n",
      "my boat plays with him .\n"
     ]
    },
    {
     "data": {
      "text/plain": [
       "SAYCam LSTM 0     True\n",
       "SAYCam 1-gram    False\n",
       "SAYCam 2-gram     True\n",
       "SAYCam CBOW 0     True\n",
       "Name: 1526, dtype: bool"
      ]
     },
     "metadata": {},
     "output_type": "display_data"
    },
    {
     "name": "stdout",
     "output_type": "stream",
     "text": [
      "his boat changed a .\n",
      "his boat changed them .\n"
     ]
    },
    {
     "data": {
      "text/plain": [
       "SAYCam LSTM 0     True\n",
       "SAYCam 1-gram    False\n",
       "SAYCam 2-gram     True\n",
       "SAYCam CBOW 0     True\n",
       "Name: 1536, dtype: bool"
      ]
     },
     "metadata": {},
     "output_type": "display_data"
    },
    {
     "name": "stdout",
     "output_type": "stream",
     "text": [
      "one boat changed the .\n",
      "one boat changed them .\n"
     ]
    },
    {
     "data": {
      "text/plain": [
       "SAYCam LSTM 0     True\n",
       "SAYCam 1-gram    False\n",
       "SAYCam 2-gram     True\n",
       "SAYCam CBOW 0     True\n",
       "Name: 1540, dtype: bool"
      ]
     },
     "metadata": {},
     "output_type": "display_data"
    },
    {
     "name": "stdout",
     "output_type": "stream",
     "text": [
      "my boat looks at some .\n",
      "my boat looks at them .\n"
     ]
    },
    {
     "data": {
      "text/plain": [
       "SAYCam LSTM 0     True\n",
       "SAYCam 1-gram    False\n",
       "SAYCam 2-gram     True\n",
       "SAYCam CBOW 0     True\n",
       "Name: 1545, dtype: bool"
      ]
     },
     "metadata": {},
     "output_type": "display_data"
    },
    {
     "name": "stdout",
     "output_type": "stream",
     "text": [
      "one doctor asked me about .\n",
      "one doctor asked about me .\n"
     ]
    },
    {
     "data": {
      "text/plain": [
       "SAYCam LSTM 0     True\n",
       "SAYCam 1-gram    False\n",
       "SAYCam 2-gram    False\n",
       "SAYCam CBOW 0     True\n",
       "Name: 1557, dtype: bool"
      ]
     },
     "metadata": {},
     "output_type": "display_data"
    },
    {
     "name": "stdout",
     "output_type": "stream",
     "text": [
      "an boat asked you about .\n",
      "an boat asked about you .\n"
     ]
    },
    {
     "data": {
      "text/plain": [
       "SAYCam LSTM 0     True\n",
       "SAYCam 1-gram    False\n",
       "SAYCam 2-gram     True\n",
       "SAYCam CBOW 0     True\n",
       "Name: 1560, dtype: bool"
      ]
     },
     "metadata": {},
     "output_type": "display_data"
    },
    {
     "name": "stdout",
     "output_type": "stream",
     "text": [
      "the pig asked him about .\n",
      "the pig asked about him .\n"
     ]
    },
    {
     "data": {
      "text/plain": [
       "SAYCam LSTM 0     True\n",
       "SAYCam 1-gram    False\n",
       "SAYCam 2-gram     True\n",
       "SAYCam CBOW 0     True\n",
       "Name: 1563, dtype: bool"
      ]
     },
     "metadata": {},
     "output_type": "display_data"
    },
    {
     "name": "stdout",
     "output_type": "stream",
     "text": [
      "my pig changed his .\n",
      "my pig changed him .\n"
     ]
    },
    {
     "data": {
      "text/plain": [
       "SAYCam LSTM 0     True\n",
       "SAYCam 1-gram    False\n",
       "SAYCam 2-gram     True\n",
       "SAYCam CBOW 0     True\n",
       "Name: 1566, dtype: bool"
      ]
     },
     "metadata": {},
     "output_type": "display_data"
    },
    {
     "name": "stdout",
     "output_type": "stream",
     "text": [
      "my dinosaur asked you about .\n",
      "my dinosaur asked about you .\n"
     ]
    },
    {
     "data": {
      "text/plain": [
       "SAYCam LSTM 0     True\n",
       "SAYCam 1-gram    False\n",
       "SAYCam 2-gram     True\n",
       "SAYCam CBOW 0     True\n",
       "Name: 1580, dtype: bool"
      ]
     },
     "metadata": {},
     "output_type": "display_data"
    },
    {
     "name": "stdout",
     "output_type": "stream",
     "text": [
      "my boat asked me about .\n",
      "my boat asked about me .\n"
     ]
    },
    {
     "data": {
      "text/plain": [
       "SAYCam LSTM 0     True\n",
       "SAYCam 1-gram    False\n",
       "SAYCam 2-gram    False\n",
       "SAYCam CBOW 0     True\n",
       "Name: 1587, dtype: bool"
      ]
     },
     "metadata": {},
     "output_type": "display_data"
    },
    {
     "name": "stdout",
     "output_type": "stream",
     "text": [
      "his dinosaur looks at some .\n",
      "his dinosaur looks at them .\n"
     ]
    },
    {
     "data": {
      "text/plain": [
       "SAYCam LSTM 0     True\n",
       "SAYCam 1-gram    False\n",
       "SAYCam 2-gram     True\n",
       "SAYCam CBOW 0     True\n",
       "Name: 1594, dtype: bool"
      ]
     },
     "metadata": {},
     "output_type": "display_data"
    },
    {
     "name": "stdout",
     "output_type": "stream",
     "text": [
      "a doctor asked her about .\n",
      "a doctor asked about her .\n"
     ]
    },
    {
     "data": {
      "text/plain": [
       "SAYCam LSTM 0     True\n",
       "SAYCam 1-gram    False\n",
       "SAYCam 2-gram     True\n",
       "SAYCam CBOW 0    False\n",
       "Name: 1600, dtype: bool"
      ]
     },
     "metadata": {},
     "output_type": "display_data"
    },
    {
     "name": "stdout",
     "output_type": "stream",
     "text": [
      "one pig told her about the .\n",
      "one pig told her about that .\n"
     ]
    },
    {
     "data": {
      "text/plain": [
       "SAYCam LSTM 0     True\n",
       "SAYCam 1-gram    False\n",
       "SAYCam 2-gram     True\n",
       "SAYCam CBOW 0     True\n",
       "Name: 1605, dtype: bool"
      ]
     },
     "metadata": {},
     "output_type": "display_data"
    },
    {
     "name": "stdout",
     "output_type": "stream",
     "text": [
      "his dinosaur saw me by .\n",
      "his dinosaur saw me there .\n"
     ]
    },
    {
     "data": {
      "text/plain": [
       "SAYCam LSTM 0     True\n",
       "SAYCam 1-gram     True\n",
       "SAYCam 2-gram     True\n",
       "SAYCam CBOW 0    False\n",
       "Name: 1608, dtype: bool"
      ]
     },
     "metadata": {},
     "output_type": "display_data"
    },
    {
     "name": "stdout",
     "output_type": "stream",
     "text": [
      "his boat told me about the .\n",
      "his boat told me about that .\n"
     ]
    },
    {
     "data": {
      "text/plain": [
       "SAYCam LSTM 0     True\n",
       "SAYCam 1-gram    False\n",
       "SAYCam 2-gram     True\n",
       "SAYCam CBOW 0     True\n",
       "Name: 1615, dtype: bool"
      ]
     },
     "metadata": {},
     "output_type": "display_data"
    },
    {
     "name": "stdout",
     "output_type": "stream",
     "text": [
      "some pig asked me about .\n",
      "some pig asked about me .\n"
     ]
    },
    {
     "data": {
      "text/plain": [
       "SAYCam LSTM 0     True\n",
       "SAYCam 1-gram    False\n",
       "SAYCam 2-gram    False\n",
       "SAYCam CBOW 0     True\n",
       "Name: 1616, dtype: bool"
      ]
     },
     "metadata": {},
     "output_type": "display_data"
    },
    {
     "name": "stdout",
     "output_type": "stream",
     "text": [
      "the pig saw me by .\n",
      "the pig saw me there .\n"
     ]
    },
    {
     "data": {
      "text/plain": [
       "SAYCam LSTM 0     True\n",
       "SAYCam 1-gram     True\n",
       "SAYCam 2-gram     True\n",
       "SAYCam CBOW 0    False\n",
       "Name: 1620, dtype: bool"
      ]
     },
     "metadata": {},
     "output_type": "display_data"
    },
    {
     "name": "stdout",
     "output_type": "stream",
     "text": [
      "a pig told you about the .\n",
      "a pig told you about that .\n"
     ]
    },
    {
     "data": {
      "text/plain": [
       "SAYCam LSTM 0     True\n",
       "SAYCam 1-gram    False\n",
       "SAYCam 2-gram     True\n",
       "SAYCam CBOW 0     True\n",
       "Name: 1659, dtype: bool"
      ]
     },
     "metadata": {},
     "output_type": "display_data"
    },
    {
     "name": "stdout",
     "output_type": "stream",
     "text": [
      "one pig asked her about .\n",
      "one pig asked about her .\n"
     ]
    },
    {
     "data": {
      "text/plain": [
       "SAYCam LSTM 0     True\n",
       "SAYCam 1-gram    False\n",
       "SAYCam 2-gram     True\n",
       "SAYCam CBOW 0     True\n",
       "Name: 1662, dtype: bool"
      ]
     },
     "metadata": {},
     "output_type": "display_data"
    },
    {
     "name": "stdout",
     "output_type": "stream",
     "text": [
      "my boat told me about a .\n",
      "my boat told me about that .\n"
     ]
    },
    {
     "data": {
      "text/plain": [
       "SAYCam LSTM 0     True\n",
       "SAYCam 1-gram    False\n",
       "SAYCam 2-gram     True\n",
       "SAYCam CBOW 0     True\n",
       "Name: 1663, dtype: bool"
      ]
     },
     "metadata": {},
     "output_type": "display_data"
    },
    {
     "name": "stdout",
     "output_type": "stream",
     "text": [
      "his dinosaur told you about the .\n",
      "his dinosaur told you about that .\n"
     ]
    },
    {
     "data": {
      "text/plain": [
       "SAYCam LSTM 0     True\n",
       "SAYCam 1-gram    False\n",
       "SAYCam 2-gram     True\n",
       "SAYCam CBOW 0     True\n",
       "Name: 1682, dtype: bool"
      ]
     },
     "metadata": {},
     "output_type": "display_data"
    },
    {
     "name": "stdout",
     "output_type": "stream",
     "text": [
      "some boat looks at the .\n",
      "some boat looks at them .\n"
     ]
    },
    {
     "data": {
      "text/plain": [
       "SAYCam LSTM 0     True\n",
       "SAYCam 1-gram    False\n",
       "SAYCam 2-gram     True\n",
       "SAYCam CBOW 0     True\n",
       "Name: 1687, dtype: bool"
      ]
     },
     "metadata": {},
     "output_type": "display_data"
    },
    {
     "name": "stdout",
     "output_type": "stream",
     "text": [
      "the doctor plays with the .\n",
      "the doctor plays with you .\n"
     ]
    },
    {
     "data": {
      "text/plain": [
       "SAYCam LSTM 0     True\n",
       "SAYCam 1-gram     True\n",
       "SAYCam 2-gram    False\n",
       "SAYCam CBOW 0     True\n",
       "Name: 1699, dtype: bool"
      ]
     },
     "metadata": {},
     "output_type": "display_data"
    },
    {
     "name": "stdout",
     "output_type": "stream",
     "text": [
      "some dinosaur asked me about .\n",
      "some dinosaur asked about me .\n"
     ]
    },
    {
     "data": {
      "text/plain": [
       "SAYCam LSTM 0     True\n",
       "SAYCam 1-gram    False\n",
       "SAYCam 2-gram    False\n",
       "SAYCam CBOW 0     True\n",
       "Name: 1703, dtype: bool"
      ]
     },
     "metadata": {},
     "output_type": "display_data"
    },
    {
     "name": "stdout",
     "output_type": "stream",
     "text": [
      "a doctor saw her by .\n",
      "a doctor saw her there .\n"
     ]
    },
    {
     "data": {
      "text/plain": [
       "SAYCam LSTM 0     True\n",
       "SAYCam 1-gram     True\n",
       "SAYCam 2-gram     True\n",
       "SAYCam CBOW 0    False\n",
       "Name: 1704, dtype: bool"
      ]
     },
     "metadata": {},
     "output_type": "display_data"
    },
    {
     "name": "stdout",
     "output_type": "stream",
     "text": [
      "the doctor changed a .\n",
      "the doctor changed me .\n"
     ]
    },
    {
     "data": {
      "text/plain": [
       "SAYCam LSTM 0     True\n",
       "SAYCam 1-gram    False\n",
       "SAYCam 2-gram     True\n",
       "SAYCam CBOW 0     True\n",
       "Name: 1709, dtype: bool"
      ]
     },
     "metadata": {},
     "output_type": "display_data"
    },
    {
     "name": "stdout",
     "output_type": "stream",
     "text": [
      "one doctor looks at a .\n",
      "one doctor looks at them .\n"
     ]
    },
    {
     "data": {
      "text/plain": [
       "SAYCam LSTM 0     True\n",
       "SAYCam 1-gram    False\n",
       "SAYCam 2-gram     True\n",
       "SAYCam CBOW 0     True\n",
       "Name: 1721, dtype: bool"
      ]
     },
     "metadata": {},
     "output_type": "display_data"
    },
    {
     "name": "stdout",
     "output_type": "stream",
     "text": [
      "the doctor looks at some .\n",
      "the doctor looks at you .\n"
     ]
    },
    {
     "data": {
      "text/plain": [
       "SAYCam LSTM 0     True\n",
       "SAYCam 1-gram     True\n",
       "SAYCam 2-gram     True\n",
       "SAYCam CBOW 0    False\n",
       "Name: 1722, dtype: bool"
      ]
     },
     "metadata": {},
     "output_type": "display_data"
    },
    {
     "name": "stdout",
     "output_type": "stream",
     "text": [
      "one doctor asked you about .\n",
      "one doctor asked about you .\n"
     ]
    },
    {
     "data": {
      "text/plain": [
       "SAYCam LSTM 0     True\n",
       "SAYCam 1-gram    False\n",
       "SAYCam 2-gram     True\n",
       "SAYCam CBOW 0     True\n",
       "Name: 1726, dtype: bool"
      ]
     },
     "metadata": {},
     "output_type": "display_data"
    },
    {
     "name": "stdout",
     "output_type": "stream",
     "text": [
      "a doctor asked him about .\n",
      "a doctor asked about him .\n"
     ]
    },
    {
     "data": {
      "text/plain": [
       "SAYCam LSTM 0     True\n",
       "SAYCam 1-gram    False\n",
       "SAYCam 2-gram     True\n",
       "SAYCam CBOW 0     True\n",
       "Name: 1734, dtype: bool"
      ]
     },
     "metadata": {},
     "output_type": "display_data"
    },
    {
     "name": "stdout",
     "output_type": "stream",
     "text": [
      "one dinosaur saw her by .\n",
      "one dinosaur saw her there .\n"
     ]
    },
    {
     "data": {
      "text/plain": [
       "SAYCam LSTM 0     True\n",
       "SAYCam 1-gram     True\n",
       "SAYCam 2-gram     True\n",
       "SAYCam CBOW 0    False\n",
       "Name: 1748, dtype: bool"
      ]
     },
     "metadata": {},
     "output_type": "display_data"
    },
    {
     "name": "stdout",
     "output_type": "stream",
     "text": [
      "my doctor saw her by .\n",
      "my doctor saw her there .\n"
     ]
    },
    {
     "data": {
      "text/plain": [
       "SAYCam LSTM 0     True\n",
       "SAYCam 1-gram     True\n",
       "SAYCam 2-gram     True\n",
       "SAYCam CBOW 0    False\n",
       "Name: 1753, dtype: bool"
      ]
     },
     "metadata": {},
     "output_type": "display_data"
    },
    {
     "name": "stdout",
     "output_type": "stream",
     "text": [
      "the doctor asked me about .\n",
      "the doctor asked about me .\n"
     ]
    },
    {
     "data": {
      "text/plain": [
       "SAYCam LSTM 0     True\n",
       "SAYCam 1-gram    False\n",
       "SAYCam 2-gram    False\n",
       "SAYCam CBOW 0     True\n",
       "Name: 1760, dtype: bool"
      ]
     },
     "metadata": {},
     "output_type": "display_data"
    },
    {
     "name": "stdout",
     "output_type": "stream",
     "text": [
      "the pig changed a .\n",
      "the pig changed her .\n"
     ]
    },
    {
     "data": {
      "text/plain": [
       "SAYCam LSTM 0     True\n",
       "SAYCam 1-gram    False\n",
       "SAYCam 2-gram    False\n",
       "SAYCam CBOW 0     True\n",
       "Name: 1762, dtype: bool"
      ]
     },
     "metadata": {},
     "output_type": "display_data"
    },
    {
     "name": "stdout",
     "output_type": "stream",
     "text": [
      "my doctor asked her about .\n",
      "my doctor asked about her .\n"
     ]
    },
    {
     "data": {
      "text/plain": [
       "SAYCam LSTM 0     True\n",
       "SAYCam 1-gram    False\n",
       "SAYCam 2-gram     True\n",
       "SAYCam CBOW 0    False\n",
       "Name: 1774, dtype: bool"
      ]
     },
     "metadata": {},
     "output_type": "display_data"
    },
    {
     "name": "stdout",
     "output_type": "stream",
     "text": [
      "his doctor asked her about .\n",
      "his doctor asked about her .\n"
     ]
    },
    {
     "data": {
      "text/plain": [
       "SAYCam LSTM 0     True\n",
       "SAYCam 1-gram    False\n",
       "SAYCam 2-gram     True\n",
       "SAYCam CBOW 0    False\n",
       "Name: 1785, dtype: bool"
      ]
     },
     "metadata": {},
     "output_type": "display_data"
    },
    {
     "name": "stdout",
     "output_type": "stream",
     "text": [
      "a doctor told me about the .\n",
      "a doctor told me about that .\n"
     ]
    },
    {
     "data": {
      "text/plain": [
       "SAYCam LSTM 0     True\n",
       "SAYCam 1-gram    False\n",
       "SAYCam 2-gram     True\n",
       "SAYCam CBOW 0     True\n",
       "Name: 1789, dtype: bool"
      ]
     },
     "metadata": {},
     "output_type": "display_data"
    },
    {
     "name": "stdout",
     "output_type": "stream",
     "text": [
      "my doctor looks at some .\n",
      "my doctor looks at me .\n"
     ]
    },
    {
     "data": {
      "text/plain": [
       "SAYCam LSTM 0     True\n",
       "SAYCam 1-gram    False\n",
       "SAYCam 2-gram     True\n",
       "SAYCam CBOW 0     True\n",
       "Name: 1797, dtype: bool"
      ]
     },
     "metadata": {},
     "output_type": "display_data"
    },
    {
     "name": "stdout",
     "output_type": "stream",
     "text": [
      "some pig saw me by .\n",
      "some pig saw me there .\n"
     ]
    },
    {
     "data": {
      "text/plain": [
       "SAYCam LSTM 0     True\n",
       "SAYCam 1-gram     True\n",
       "SAYCam 2-gram     True\n",
       "SAYCam CBOW 0    False\n",
       "Name: 1807, dtype: bool"
      ]
     },
     "metadata": {},
     "output_type": "display_data"
    },
    {
     "name": "stdout",
     "output_type": "stream",
     "text": [
      "an boat works and .\n",
      "an boat works well .\n"
     ]
    },
    {
     "data": {
      "text/plain": [
       "SAYCam LSTM 0     True\n",
       "SAYCam 1-gram    False\n",
       "SAYCam 2-gram     True\n",
       "SAYCam CBOW 0     True\n",
       "Name: 1819, dtype: bool"
      ]
     },
     "metadata": {},
     "output_type": "display_data"
    },
    {
     "name": "stdout",
     "output_type": "stream",
     "text": [
      "an boat plays with the .\n",
      "an boat plays with him .\n"
     ]
    },
    {
     "data": {
      "text/plain": [
       "SAYCam LSTM 0     True\n",
       "SAYCam 1-gram    False\n",
       "SAYCam 2-gram    False\n",
       "SAYCam CBOW 0     True\n",
       "Name: 1837, dtype: bool"
      ]
     },
     "metadata": {},
     "output_type": "display_data"
    },
    {
     "name": "stdout",
     "output_type": "stream",
     "text": [
      "one boat saw him by .\n",
      "one boat saw him there .\n"
     ]
    },
    {
     "data": {
      "text/plain": [
       "SAYCam LSTM 0     True\n",
       "SAYCam 1-gram     True\n",
       "SAYCam 2-gram     True\n",
       "SAYCam CBOW 0    False\n",
       "Name: 1846, dtype: bool"
      ]
     },
     "metadata": {},
     "output_type": "display_data"
    },
    {
     "name": "stdout",
     "output_type": "stream",
     "text": [
      "the pig changed a .\n",
      "the pig changed them .\n"
     ]
    },
    {
     "data": {
      "text/plain": [
       "SAYCam LSTM 0     True\n",
       "SAYCam 1-gram    False\n",
       "SAYCam 2-gram     True\n",
       "SAYCam CBOW 0     True\n",
       "Name: 1854, dtype: bool"
      ]
     },
     "metadata": {},
     "output_type": "display_data"
    },
    {
     "name": "stdout",
     "output_type": "stream",
     "text": [
      "some doctor changed a .\n",
      "some doctor changed her .\n"
     ]
    },
    {
     "data": {
      "text/plain": [
       "SAYCam LSTM 0     True\n",
       "SAYCam 1-gram    False\n",
       "SAYCam 2-gram    False\n",
       "SAYCam CBOW 0     True\n",
       "Name: 1865, dtype: bool"
      ]
     },
     "metadata": {},
     "output_type": "display_data"
    },
    {
     "name": "stdout",
     "output_type": "stream",
     "text": [
      "one dinosaur asked me about .\n",
      "one dinosaur asked about me .\n"
     ]
    },
    {
     "data": {
      "text/plain": [
       "SAYCam LSTM 0     True\n",
       "SAYCam 1-gram    False\n",
       "SAYCam 2-gram    False\n",
       "SAYCam CBOW 0     True\n",
       "Name: 1869, dtype: bool"
      ]
     },
     "metadata": {},
     "output_type": "display_data"
    },
    {
     "name": "stdout",
     "output_type": "stream",
     "text": [
      "a doctor looks at his .\n",
      "a doctor looks at him .\n"
     ]
    },
    {
     "data": {
      "text/plain": [
       "SAYCam LSTM 0     True\n",
       "SAYCam 1-gram    False\n",
       "SAYCam 2-gram     True\n",
       "SAYCam CBOW 0     True\n",
       "Name: 1875, dtype: bool"
      ]
     },
     "metadata": {},
     "output_type": "display_data"
    },
    {
     "name": "stdout",
     "output_type": "stream",
     "text": [
      "my dinosaur looks at the .\n",
      "my dinosaur looks at him .\n"
     ]
    },
    {
     "data": {
      "text/plain": [
       "SAYCam LSTM 0     True\n",
       "SAYCam 1-gram    False\n",
       "SAYCam 2-gram    False\n",
       "SAYCam CBOW 0     True\n",
       "Name: 1882, dtype: bool"
      ]
     },
     "metadata": {},
     "output_type": "display_data"
    },
    {
     "name": "stdout",
     "output_type": "stream",
     "text": [
      "his doctor plays with the .\n",
      "his doctor plays with them .\n"
     ]
    },
    {
     "data": {
      "text/plain": [
       "SAYCam LSTM 0     True\n",
       "SAYCam 1-gram    False\n",
       "SAYCam 2-gram     True\n",
       "SAYCam CBOW 0     True\n",
       "Name: 1917, dtype: bool"
      ]
     },
     "metadata": {},
     "output_type": "display_data"
    },
    {
     "name": "stdout",
     "output_type": "stream",
     "text": [
      "his doctor looks at one .\n",
      "his doctor looks at her .\n"
     ]
    },
    {
     "data": {
      "text/plain": [
       "SAYCam LSTM 0     True\n",
       "SAYCam 1-gram    False\n",
       "SAYCam 2-gram    False\n",
       "SAYCam CBOW 0    False\n",
       "Name: 1925, dtype: bool"
      ]
     },
     "metadata": {},
     "output_type": "display_data"
    },
    {
     "name": "stdout",
     "output_type": "stream",
     "text": [
      "one dinosaur asked you about .\n",
      "one dinosaur asked about you .\n"
     ]
    },
    {
     "data": {
      "text/plain": [
       "SAYCam LSTM 0     True\n",
       "SAYCam 1-gram    False\n",
       "SAYCam 2-gram     True\n",
       "SAYCam CBOW 0     True\n",
       "Name: 1931, dtype: bool"
      ]
     },
     "metadata": {},
     "output_type": "display_data"
    },
    {
     "name": "stdout",
     "output_type": "stream",
     "text": [
      "some doctor plays with his .\n",
      "some doctor plays with him .\n"
     ]
    },
    {
     "data": {
      "text/plain": [
       "SAYCam LSTM 0     True\n",
       "SAYCam 1-gram    False\n",
       "SAYCam 2-gram     True\n",
       "SAYCam CBOW 0     True\n",
       "Name: 1942, dtype: bool"
      ]
     },
     "metadata": {},
     "output_type": "display_data"
    },
    {
     "name": "stdout",
     "output_type": "stream",
     "text": [
      "the boat plays with one .\n",
      "the boat plays with him .\n"
     ]
    },
    {
     "data": {
      "text/plain": [
       "SAYCam LSTM 0     True\n",
       "SAYCam 1-gram    False\n",
       "SAYCam 2-gram     True\n",
       "SAYCam CBOW 0     True\n",
       "Name: 1943, dtype: bool"
      ]
     },
     "metadata": {},
     "output_type": "display_data"
    },
    {
     "name": "stdout",
     "output_type": "stream",
     "text": [
      "one boat works and .\n",
      "one boat works well .\n"
     ]
    },
    {
     "data": {
      "text/plain": [
       "SAYCam LSTM 0     True\n",
       "SAYCam 1-gram    False\n",
       "SAYCam 2-gram     True\n",
       "SAYCam CBOW 0     True\n",
       "Name: 1946, dtype: bool"
      ]
     },
     "metadata": {},
     "output_type": "display_data"
    },
    {
     "name": "stdout",
     "output_type": "stream",
     "text": [
      "a dinosaur asked her about .\n",
      "a dinosaur asked about her .\n"
     ]
    },
    {
     "data": {
      "text/plain": [
       "SAYCam LSTM 0     True\n",
       "SAYCam 1-gram    False\n",
       "SAYCam 2-gram     True\n",
       "SAYCam CBOW 0    False\n",
       "Name: 1963, dtype: bool"
      ]
     },
     "metadata": {},
     "output_type": "display_data"
    },
    {
     "name": "stdout",
     "output_type": "stream",
     "text": [
      "a boat asked you about .\n",
      "a boat asked about you .\n"
     ]
    },
    {
     "data": {
      "text/plain": [
       "SAYCam LSTM 0     True\n",
       "SAYCam 1-gram    False\n",
       "SAYCam 2-gram     True\n",
       "SAYCam CBOW 0     True\n",
       "Name: 1983, dtype: bool"
      ]
     },
     "metadata": {},
     "output_type": "display_data"
    },
    {
     "name": "stdout",
     "output_type": "stream",
     "text": [
      "the doctor plays with a .\n",
      "the doctor plays with them .\n"
     ]
    },
    {
     "data": {
      "text/plain": [
       "SAYCam LSTM 0     True\n",
       "SAYCam 1-gram    False\n",
       "SAYCam 2-gram     True\n",
       "SAYCam CBOW 0     True\n",
       "Name: 1988, dtype: bool"
      ]
     },
     "metadata": {},
     "output_type": "display_data"
    },
    {
     "name": "stdout",
     "output_type": "stream",
     "text": [
      "comparing quantifiers-existential_there (181 / 2000.0 = 9.05%):\n"
     ]
    },
    {
     "data": {
      "text/plain": [
       "model\n",
       "BabyBERTa_AO-CHILDES    0.994475\n",
       "SAYCam 1-gram           0.839779\n",
       "SAYCam 2-gram           0.900552\n",
       "SAYCam CBOW 0           0.734807\n",
       "SAYCam LSTM 0           0.983425\n",
       "Name: quantifiers-existential_there, dtype: float64"
      ]
     },
     "metadata": {},
     "output_type": "display_data"
    },
    {
     "name": "stdout",
     "output_type": "stream",
     "text": [
      "there was all movie about purple guys .\n",
      "there was no movie about purple guys .\n"
     ]
    },
    {
     "data": {
      "text/plain": [
       "SAYCam LSTM 0     True\n",
       "SAYCam 1-gram    False\n",
       "SAYCam 2-gram    False\n",
       "SAYCam CBOW 0    False\n",
       "Name: 8, dtype: bool"
      ]
     },
     "metadata": {},
     "output_type": "display_data"
    },
    {
     "name": "stdout",
     "output_type": "stream",
     "text": [
      "there was all movie about fixed pages .\n",
      "there was no movie about fixed pages .\n"
     ]
    },
    {
     "data": {
      "text/plain": [
       "SAYCam LSTM 0     True\n",
       "SAYCam 1-gram    False\n",
       "SAYCam 2-gram    False\n",
       "SAYCam CBOW 0    False\n",
       "Name: 18, dtype: bool"
      ]
     },
     "metadata": {},
     "output_type": "display_data"
    },
    {
     "name": "stdout",
     "output_type": "stream",
     "text": [
      "there were all books about polar animals .\n",
      "there were some books about polar animals .\n"
     ]
    },
    {
     "data": {
      "text/plain": [
       "SAYCam LSTM 0     True\n",
       "SAYCam 1-gram    False\n",
       "SAYCam 2-gram     True\n",
       "SAYCam CBOW 0     True\n",
       "Name: 40, dtype: bool"
      ]
     },
     "metadata": {},
     "output_type": "display_data"
    },
    {
     "name": "stdout",
     "output_type": "stream",
     "text": [
      "there are all books about early days .\n",
      "there are some books about early days .\n"
     ]
    },
    {
     "data": {
      "text/plain": [
       "SAYCam LSTM 0     True\n",
       "SAYCam 1-gram    False\n",
       "SAYCam 2-gram     True\n",
       "SAYCam CBOW 0     True\n",
       "Name: 134, dtype: bool"
      ]
     },
     "metadata": {},
     "output_type": "display_data"
    },
    {
     "name": "stdout",
     "output_type": "stream",
     "text": [
      "there is each movie about soft dogs .\n",
      "there is no movie about soft dogs .\n"
     ]
    },
    {
     "data": {
      "text/plain": [
       "SAYCam LSTM 0     True\n",
       "SAYCam 1-gram     True\n",
       "SAYCam 2-gram     True\n",
       "SAYCam CBOW 0    False\n",
       "Name: 180, dtype: bool"
      ]
     },
     "metadata": {},
     "output_type": "display_data"
    },
    {
     "name": "stdout",
     "output_type": "stream",
     "text": [
      "there was most sign about kind stars .\n",
      "there was no sign about kind stars .\n"
     ]
    },
    {
     "data": {
      "text/plain": [
       "SAYCam LSTM 0     True\n",
       "SAYCam 1-gram     True\n",
       "SAYCam 2-gram     True\n",
       "SAYCam CBOW 0    False\n",
       "Name: 226, dtype: bool"
      ]
     },
     "metadata": {},
     "output_type": "display_data"
    },
    {
     "name": "stdout",
     "output_type": "stream",
     "text": [
      "there was every book about little things .\n",
      "there was no book about little things .\n"
     ]
    },
    {
     "data": {
      "text/plain": [
       "SAYCam LSTM 0     True\n",
       "SAYCam 1-gram     True\n",
       "SAYCam 2-gram     True\n",
       "SAYCam CBOW 0    False\n",
       "Name: 273, dtype: bool"
      ]
     },
     "metadata": {},
     "output_type": "display_data"
    },
    {
     "name": "stdout",
     "output_type": "stream",
     "text": [
      "there is n't all sign about fixed boats .\n",
      "there is n't no sign about fixed boats .\n"
     ]
    },
    {
     "data": {
      "text/plain": [
       "SAYCam LSTM 0     True\n",
       "SAYCam 1-gram    False\n",
       "SAYCam 2-gram    False\n",
       "SAYCam CBOW 0    False\n",
       "Name: 279, dtype: bool"
      ]
     },
     "metadata": {},
     "output_type": "display_data"
    },
    {
     "name": "stdout",
     "output_type": "stream",
     "text": [
      "there was each movie about full books .\n",
      "there was no movie about full books .\n"
     ]
    },
    {
     "data": {
      "text/plain": [
       "SAYCam LSTM 0     True\n",
       "SAYCam 1-gram     True\n",
       "SAYCam 2-gram     True\n",
       "SAYCam CBOW 0    False\n",
       "Name: 294, dtype: bool"
      ]
     },
     "metadata": {},
     "output_type": "display_data"
    },
    {
     "name": "stdout",
     "output_type": "stream",
     "text": [
      "there was all book about hard girls .\n",
      "there was no book about hard girls .\n"
     ]
    },
    {
     "data": {
      "text/plain": [
       "SAYCam LSTM 0     True\n",
       "SAYCam 1-gram    False\n",
       "SAYCam 2-gram     True\n",
       "SAYCam CBOW 0     True\n",
       "Name: 337, dtype: bool"
      ]
     },
     "metadata": {},
     "output_type": "display_data"
    },
    {
     "name": "stdout",
     "output_type": "stream",
     "text": [
      "there was most movie about polar eggs .\n",
      "there was no movie about polar eggs .\n"
     ]
    },
    {
     "data": {
      "text/plain": [
       "SAYCam LSTM 0     True\n",
       "SAYCam 1-gram     True\n",
       "SAYCam 2-gram     True\n",
       "SAYCam CBOW 0    False\n",
       "Name: 403, dtype: bool"
      ]
     },
     "metadata": {},
     "output_type": "display_data"
    },
    {
     "name": "stdout",
     "output_type": "stream",
     "text": [
      "there was most sign about quick words .\n",
      "there was no sign about quick words .\n"
     ]
    },
    {
     "data": {
      "text/plain": [
       "SAYCam LSTM 0     True\n",
       "SAYCam 1-gram     True\n",
       "SAYCam 2-gram     True\n",
       "SAYCam CBOW 0    False\n",
       "Name: 443, dtype: bool"
      ]
     },
     "metadata": {},
     "output_type": "display_data"
    },
    {
     "name": "stdout",
     "output_type": "stream",
     "text": [
      "there is n't each movie about bad pages .\n",
      "there is n't no movie about bad pages .\n"
     ]
    },
    {
     "data": {
      "text/plain": [
       "SAYCam LSTM 0     True\n",
       "SAYCam 1-gram     True\n",
       "SAYCam 2-gram     True\n",
       "SAYCam CBOW 0    False\n",
       "Name: 449, dtype: bool"
      ]
     },
     "metadata": {},
     "output_type": "display_data"
    },
    {
     "name": "stdout",
     "output_type": "stream",
     "text": [
      "there is all movie about silly pages .\n",
      "there is no movie about silly pages .\n"
     ]
    },
    {
     "data": {
      "text/plain": [
       "SAYCam LSTM 0     True\n",
       "SAYCam 1-gram    False\n",
       "SAYCam 2-gram    False\n",
       "SAYCam CBOW 0    False\n",
       "Name: 459, dtype: bool"
      ]
     },
     "metadata": {},
     "output_type": "display_data"
    },
    {
     "name": "stdout",
     "output_type": "stream",
     "text": [
      "there is n't all book about silly guys .\n",
      "there is n't no book about silly guys .\n"
     ]
    },
    {
     "data": {
      "text/plain": [
       "SAYCam LSTM 0     True\n",
       "SAYCam 1-gram    False\n",
       "SAYCam 2-gram     True\n",
       "SAYCam CBOW 0     True\n",
       "Name: 479, dtype: bool"
      ]
     },
     "metadata": {},
     "output_type": "display_data"
    },
    {
     "name": "stdout",
     "output_type": "stream",
     "text": [
      "there was all movie about last songs .\n",
      "there was no movie about last songs .\n"
     ]
    },
    {
     "data": {
      "text/plain": [
       "SAYCam LSTM 0     True\n",
       "SAYCam 1-gram    False\n",
       "SAYCam 2-gram    False\n",
       "SAYCam CBOW 0    False\n",
       "Name: 493, dtype: bool"
      ]
     },
     "metadata": {},
     "output_type": "display_data"
    },
    {
     "name": "stdout",
     "output_type": "stream",
     "text": [
      "there is all sign about kind pictures .\n",
      "there is no sign about kind pictures .\n"
     ]
    },
    {
     "data": {
      "text/plain": [
       "SAYCam LSTM 0     True\n",
       "SAYCam 1-gram    False\n",
       "SAYCam 2-gram    False\n",
       "SAYCam CBOW 0    False\n",
       "Name: 517, dtype: bool"
      ]
     },
     "metadata": {},
     "output_type": "display_data"
    },
    {
     "name": "stdout",
     "output_type": "stream",
     "text": [
      "there is n't every sign about finished bits .\n",
      "there is n't no sign about finished bits .\n"
     ]
    },
    {
     "data": {
      "text/plain": [
       "SAYCam LSTM 0     True\n",
       "SAYCam 1-gram     True\n",
       "SAYCam 2-gram     True\n",
       "SAYCam CBOW 0    False\n",
       "Name: 586, dtype: bool"
      ]
     },
     "metadata": {},
     "output_type": "display_data"
    },
    {
     "name": "stdout",
     "output_type": "stream",
     "text": [
      "there is n't every sign about silly things .\n",
      "there is n't no sign about silly things .\n"
     ]
    },
    {
     "data": {
      "text/plain": [
       "SAYCam LSTM 0     True\n",
       "SAYCam 1-gram     True\n",
       "SAYCam 2-gram     True\n",
       "SAYCam CBOW 0    False\n",
       "Name: 602, dtype: bool"
      ]
     },
     "metadata": {},
     "output_type": "display_data"
    },
    {
     "name": "stdout",
     "output_type": "stream",
     "text": [
      "there is each movie about extra pages .\n",
      "there is no movie about extra pages .\n"
     ]
    },
    {
     "data": {
      "text/plain": [
       "SAYCam LSTM 0     True\n",
       "SAYCam 1-gram     True\n",
       "SAYCam 2-gram     True\n",
       "SAYCam CBOW 0    False\n",
       "Name: 610, dtype: bool"
      ]
     },
     "metadata": {},
     "output_type": "display_data"
    },
    {
     "name": "stdout",
     "output_type": "stream",
     "text": [
      "there is every book about yellow animals .\n",
      "there is no book about yellow animals .\n"
     ]
    },
    {
     "data": {
      "text/plain": [
       "SAYCam LSTM 0     True\n",
       "SAYCam 1-gram     True\n",
       "SAYCam 2-gram     True\n",
       "SAYCam CBOW 0    False\n",
       "Name: 657, dtype: bool"
      ]
     },
     "metadata": {},
     "output_type": "display_data"
    },
    {
     "name": "stdout",
     "output_type": "stream",
     "text": [
      "there was each sign about good feet .\n",
      "there was no sign about good feet .\n"
     ]
    },
    {
     "data": {
      "text/plain": [
       "SAYCam LSTM 0     True\n",
       "SAYCam 1-gram     True\n",
       "SAYCam 2-gram     True\n",
       "SAYCam CBOW 0    False\n",
       "Name: 693, dtype: bool"
      ]
     },
     "metadata": {},
     "output_type": "display_data"
    },
    {
     "name": "stdout",
     "output_type": "stream",
     "text": [
      "there was all sign about fixed horses .\n",
      "there was no sign about fixed horses .\n"
     ]
    },
    {
     "data": {
      "text/plain": [
       "SAYCam LSTM 0     True\n",
       "SAYCam 1-gram    False\n",
       "SAYCam 2-gram    False\n",
       "SAYCam CBOW 0    False\n",
       "Name: 723, dtype: bool"
      ]
     },
     "metadata": {},
     "output_type": "display_data"
    },
    {
     "name": "stdout",
     "output_type": "stream",
     "text": [
      "there is every movie about polar dogs .\n",
      "there is no movie about polar dogs .\n"
     ]
    },
    {
     "data": {
      "text/plain": [
       "SAYCam LSTM 0     True\n",
       "SAYCam 1-gram     True\n",
       "SAYCam 2-gram     True\n",
       "SAYCam CBOW 0    False\n",
       "Name: 749, dtype: bool"
      ]
     },
     "metadata": {},
     "output_type": "display_data"
    },
    {
     "name": "stdout",
     "output_type": "stream",
     "text": [
      "there is most movie about nice toys .\n",
      "there is no movie about nice toys .\n"
     ]
    },
    {
     "data": {
      "text/plain": [
       "SAYCam LSTM 0     True\n",
       "SAYCam 1-gram     True\n",
       "SAYCam 2-gram     True\n",
       "SAYCam CBOW 0    False\n",
       "Name: 788, dtype: bool"
      ]
     },
     "metadata": {},
     "output_type": "display_data"
    },
    {
     "name": "stdout",
     "output_type": "stream",
     "text": [
      "there was every movie about next horses .\n",
      "there was no movie about next horses .\n"
     ]
    },
    {
     "data": {
      "text/plain": [
       "SAYCam LSTM 0     True\n",
       "SAYCam 1-gram     True\n",
       "SAYCam 2-gram     True\n",
       "SAYCam CBOW 0    False\n",
       "Name: 803, dtype: bool"
      ]
     },
     "metadata": {},
     "output_type": "display_data"
    },
    {
     "name": "stdout",
     "output_type": "stream",
     "text": [
      "there was every book about red rings .\n",
      "there was no book about red rings .\n"
     ]
    },
    {
     "data": {
      "text/plain": [
       "SAYCam LSTM 0     True\n",
       "SAYCam 1-gram     True\n",
       "SAYCam 2-gram     True\n",
       "SAYCam CBOW 0    False\n",
       "Name: 821, dtype: bool"
      ]
     },
     "metadata": {},
     "output_type": "display_data"
    },
    {
     "name": "stdout",
     "output_type": "stream",
     "text": [
      "there is every book about nice toys .\n",
      "there is no book about nice toys .\n"
     ]
    },
    {
     "data": {
      "text/plain": [
       "SAYCam LSTM 0     True\n",
       "SAYCam 1-gram     True\n",
       "SAYCam 2-gram     True\n",
       "SAYCam CBOW 0    False\n",
       "Name: 847, dtype: bool"
      ]
     },
     "metadata": {},
     "output_type": "display_data"
    },
    {
     "name": "stdout",
     "output_type": "stream",
     "text": [
      "there is most sign about kind feet .\n",
      "there is no sign about kind feet .\n"
     ]
    },
    {
     "data": {
      "text/plain": [
       "SAYCam LSTM 0     True\n",
       "SAYCam 1-gram     True\n",
       "SAYCam 2-gram     True\n",
       "SAYCam CBOW 0    False\n",
       "Name: 853, dtype: bool"
      ]
     },
     "metadata": {},
     "output_type": "display_data"
    },
    {
     "name": "stdout",
     "output_type": "stream",
     "text": [
      "there is every book about good pages .\n",
      "there is no book about good pages .\n"
     ]
    },
    {
     "data": {
      "text/plain": [
       "SAYCam LSTM 0     True\n",
       "SAYCam 1-gram     True\n",
       "SAYCam 2-gram     True\n",
       "SAYCam CBOW 0    False\n",
       "Name: 881, dtype: bool"
      ]
     },
     "metadata": {},
     "output_type": "display_data"
    },
    {
     "name": "stdout",
     "output_type": "stream",
     "text": [
      "there is all movie about early feet .\n",
      "there is no movie about early feet .\n"
     ]
    },
    {
     "data": {
      "text/plain": [
       "SAYCam LSTM 0     True\n",
       "SAYCam 1-gram    False\n",
       "SAYCam 2-gram    False\n",
       "SAYCam CBOW 0    False\n",
       "Name: 899, dtype: bool"
      ]
     },
     "metadata": {},
     "output_type": "display_data"
    },
    {
     "name": "stdout",
     "output_type": "stream",
     "text": [
      "there is every sign about silly words .\n",
      "there is no sign about silly words .\n"
     ]
    },
    {
     "data": {
      "text/plain": [
       "SAYCam LSTM 0     True\n",
       "SAYCam 1-gram     True\n",
       "SAYCam 2-gram     True\n",
       "SAYCam CBOW 0    False\n",
       "Name: 928, dtype: bool"
      ]
     },
     "metadata": {},
     "output_type": "display_data"
    },
    {
     "name": "stdout",
     "output_type": "stream",
     "text": [
      "there is all sign about last pictures .\n",
      "there is no sign about last pictures .\n"
     ]
    },
    {
     "data": {
      "text/plain": [
       "SAYCam LSTM 0     True\n",
       "SAYCam 1-gram    False\n",
       "SAYCam 2-gram    False\n",
       "SAYCam CBOW 0    False\n",
       "Name: 932, dtype: bool"
      ]
     },
     "metadata": {},
     "output_type": "display_data"
    },
    {
     "name": "stdout",
     "output_type": "stream",
     "text": [
      "there are n't all books about little birds .\n",
      "there are n't some books about little birds .\n"
     ]
    },
    {
     "data": {
      "text/plain": [
       "SAYCam LSTM 0     True\n",
       "SAYCam 1-gram    False\n",
       "SAYCam 2-gram     True\n",
       "SAYCam CBOW 0     True\n",
       "Name: 939, dtype: bool"
      ]
     },
     "metadata": {},
     "output_type": "display_data"
    },
    {
     "name": "stdout",
     "output_type": "stream",
     "text": [
      "there are n't all books about hard pictures .\n",
      "there are n't many books about hard pictures .\n"
     ]
    },
    {
     "data": {
      "text/plain": [
       "SAYCam LSTM 0     True\n",
       "SAYCam 1-gram    False\n",
       "SAYCam 2-gram     True\n",
       "SAYCam CBOW 0     True\n",
       "Name: 944, dtype: bool"
      ]
     },
     "metadata": {},
     "output_type": "display_data"
    },
    {
     "name": "stdout",
     "output_type": "stream",
     "text": [
      "there were all books about finished songs .\n",
      "there were many books about finished songs .\n"
     ]
    },
    {
     "data": {
      "text/plain": [
       "SAYCam LSTM 0     True\n",
       "SAYCam 1-gram    False\n",
       "SAYCam 2-gram    False\n",
       "SAYCam CBOW 0     True\n",
       "Name: 988, dtype: bool"
      ]
     },
     "metadata": {},
     "output_type": "display_data"
    },
    {
     "name": "stdout",
     "output_type": "stream",
     "text": [
      "there were not all books about tall birds .\n",
      "there were not some books about tall birds .\n"
     ]
    },
    {
     "data": {
      "text/plain": [
       "SAYCam LSTM 0     True\n",
       "SAYCam 1-gram    False\n",
       "SAYCam 2-gram     True\n",
       "SAYCam CBOW 0     True\n",
       "Name: 1060, dtype: bool"
      ]
     },
     "metadata": {},
     "output_type": "display_data"
    },
    {
     "name": "stdout",
     "output_type": "stream",
     "text": [
      "there was all book about polar rings .\n",
      "there was no book about polar rings .\n"
     ]
    },
    {
     "data": {
      "text/plain": [
       "SAYCam LSTM 0     True\n",
       "SAYCam 1-gram    False\n",
       "SAYCam 2-gram     True\n",
       "SAYCam CBOW 0     True\n",
       "Name: 1062, dtype: bool"
      ]
     },
     "metadata": {},
     "output_type": "display_data"
    },
    {
     "name": "stdout",
     "output_type": "stream",
     "text": [
      "there was all book about ready arms .\n",
      "there was no book about ready arms .\n"
     ]
    },
    {
     "data": {
      "text/plain": [
       "SAYCam LSTM 0     True\n",
       "SAYCam 1-gram    False\n",
       "SAYCam 2-gram     True\n",
       "SAYCam CBOW 0     True\n",
       "Name: 1192, dtype: bool"
      ]
     },
     "metadata": {},
     "output_type": "display_data"
    },
    {
     "name": "stdout",
     "output_type": "stream",
     "text": [
      "there are n't all books about nice colors .\n",
      "there are n't few books about nice colors .\n"
     ]
    },
    {
     "data": {
      "text/plain": [
       "SAYCam LSTM 0     True\n",
       "SAYCam 1-gram    False\n",
       "SAYCam 2-gram     True\n",
       "SAYCam CBOW 0     True\n",
       "Name: 1319, dtype: bool"
      ]
     },
     "metadata": {},
     "output_type": "display_data"
    },
    {
     "name": "stdout",
     "output_type": "stream",
     "text": [
      "there was every sign about early cars .\n",
      "there was no sign about early cars .\n"
     ]
    },
    {
     "data": {
      "text/plain": [
       "SAYCam LSTM 0     True\n",
       "SAYCam 1-gram     True\n",
       "SAYCam 2-gram     True\n",
       "SAYCam CBOW 0    False\n",
       "Name: 1346, dtype: bool"
      ]
     },
     "metadata": {},
     "output_type": "display_data"
    },
    {
     "name": "stdout",
     "output_type": "stream",
     "text": [
      "there is every book about wrong days .\n",
      "there is no book about wrong days .\n"
     ]
    },
    {
     "data": {
      "text/plain": [
       "SAYCam LSTM 0     True\n",
       "SAYCam 1-gram     True\n",
       "SAYCam 2-gram     True\n",
       "SAYCam CBOW 0    False\n",
       "Name: 1381, dtype: bool"
      ]
     },
     "metadata": {},
     "output_type": "display_data"
    },
    {
     "name": "stdout",
     "output_type": "stream",
     "text": [
      "there is all sign about extra stars .\n",
      "there is no sign about extra stars .\n"
     ]
    },
    {
     "data": {
      "text/plain": [
       "SAYCam LSTM 0     True\n",
       "SAYCam 1-gram    False\n",
       "SAYCam 2-gram    False\n",
       "SAYCam CBOW 0    False\n",
       "Name: 1399, dtype: bool"
      ]
     },
     "metadata": {},
     "output_type": "display_data"
    },
    {
     "name": "stdout",
     "output_type": "stream",
     "text": [
      "there was most movie about hard toys .\n",
      "there was no movie about hard toys .\n"
     ]
    },
    {
     "data": {
      "text/plain": [
       "SAYCam LSTM 0     True\n",
       "SAYCam 1-gram     True\n",
       "SAYCam 2-gram     True\n",
       "SAYCam CBOW 0    False\n",
       "Name: 1408, dtype: bool"
      ]
     },
     "metadata": {},
     "output_type": "display_data"
    },
    {
     "name": "stdout",
     "output_type": "stream",
     "text": [
      "there was all sign about fixed books .\n",
      "there was no sign about fixed books .\n"
     ]
    },
    {
     "data": {
      "text/plain": [
       "SAYCam LSTM 0     True\n",
       "SAYCam 1-gram    False\n",
       "SAYCam 2-gram    False\n",
       "SAYCam CBOW 0    False\n",
       "Name: 1420, dtype: bool"
      ]
     },
     "metadata": {},
     "output_type": "display_data"
    },
    {
     "name": "stdout",
     "output_type": "stream",
     "text": [
      "there is every movie about nice boats .\n",
      "there is no movie about nice boats .\n"
     ]
    },
    {
     "data": {
      "text/plain": [
       "SAYCam LSTM 0     True\n",
       "SAYCam 1-gram     True\n",
       "SAYCam 2-gram     True\n",
       "SAYCam CBOW 0    False\n",
       "Name: 1446, dtype: bool"
      ]
     },
     "metadata": {},
     "output_type": "display_data"
    },
    {
     "name": "stdout",
     "output_type": "stream",
     "text": [
      "there is each sign about bad feet .\n",
      "there is no sign about bad feet .\n"
     ]
    },
    {
     "data": {
      "text/plain": [
       "SAYCam LSTM 0     True\n",
       "SAYCam 1-gram     True\n",
       "SAYCam 2-gram     True\n",
       "SAYCam CBOW 0    False\n",
       "Name: 1582, dtype: bool"
      ]
     },
     "metadata": {},
     "output_type": "display_data"
    },
    {
     "name": "stdout",
     "output_type": "stream",
     "text": [
      "there were all books about white pages .\n",
      "there were few books about white pages .\n"
     ]
    },
    {
     "data": {
      "text/plain": [
       "SAYCam LSTM 0     True\n",
       "SAYCam 1-gram    False\n",
       "SAYCam 2-gram    False\n",
       "SAYCam CBOW 0     True\n",
       "Name: 1608, dtype: bool"
      ]
     },
     "metadata": {},
     "output_type": "display_data"
    },
    {
     "name": "stdout",
     "output_type": "stream",
     "text": [
      "there is n't most movie about soft hands .\n",
      "there is n't no movie about soft hands .\n"
     ]
    },
    {
     "data": {
      "text/plain": [
       "SAYCam LSTM 0     True\n",
       "SAYCam 1-gram     True\n",
       "SAYCam 2-gram     True\n",
       "SAYCam CBOW 0    False\n",
       "Name: 1676, dtype: bool"
      ]
     },
     "metadata": {},
     "output_type": "display_data"
    },
    {
     "name": "stdout",
     "output_type": "stream",
     "text": [
      "there was every book about white boats .\n",
      "there was no book about white boats .\n"
     ]
    },
    {
     "data": {
      "text/plain": [
       "SAYCam LSTM 0     True\n",
       "SAYCam 1-gram     True\n",
       "SAYCam 2-gram     True\n",
       "SAYCam CBOW 0    False\n",
       "Name: 1702, dtype: bool"
      ]
     },
     "metadata": {},
     "output_type": "display_data"
    },
    {
     "name": "stdout",
     "output_type": "stream",
     "text": [
      "there is each movie about ready birds .\n",
      "there is no movie about ready birds .\n"
     ]
    },
    {
     "data": {
      "text/plain": [
       "SAYCam LSTM 0     True\n",
       "SAYCam 1-gram     True\n",
       "SAYCam 2-gram     True\n",
       "SAYCam CBOW 0    False\n",
       "Name: 1714, dtype: bool"
      ]
     },
     "metadata": {},
     "output_type": "display_data"
    },
    {
     "name": "stdout",
     "output_type": "stream",
     "text": [
      "there was all book about ready dogs .\n",
      "there was no book about ready dogs .\n"
     ]
    },
    {
     "data": {
      "text/plain": [
       "SAYCam LSTM 0     True\n",
       "SAYCam 1-gram    False\n",
       "SAYCam 2-gram     True\n",
       "SAYCam CBOW 0     True\n",
       "Name: 1740, dtype: bool"
      ]
     },
     "metadata": {},
     "output_type": "display_data"
    },
    {
     "name": "stdout",
     "output_type": "stream",
     "text": [
      "there was all movie about next pages .\n",
      "there was no movie about next pages .\n"
     ]
    },
    {
     "data": {
      "text/plain": [
       "SAYCam LSTM 0     True\n",
       "SAYCam 1-gram    False\n",
       "SAYCam 2-gram    False\n",
       "SAYCam CBOW 0    False\n",
       "Name: 1798, dtype: bool"
      ]
     },
     "metadata": {},
     "output_type": "display_data"
    },
    {
     "name": "stdout",
     "output_type": "stream",
     "text": [
      "there were all books about top hands .\n",
      "there were many books about top hands .\n"
     ]
    },
    {
     "data": {
      "text/plain": [
       "SAYCam LSTM 0     True\n",
       "SAYCam 1-gram    False\n",
       "SAYCam 2-gram    False\n",
       "SAYCam CBOW 0     True\n",
       "Name: 1822, dtype: bool"
      ]
     },
     "metadata": {},
     "output_type": "display_data"
    },
    {
     "name": "stdout",
     "output_type": "stream",
     "text": [
      "there was every book about last eggs .\n",
      "there was no book about last eggs .\n"
     ]
    },
    {
     "data": {
      "text/plain": [
       "SAYCam LSTM 0     True\n",
       "SAYCam 1-gram     True\n",
       "SAYCam 2-gram     True\n",
       "SAYCam CBOW 0    False\n",
       "Name: 1838, dtype: bool"
      ]
     },
     "metadata": {},
     "output_type": "display_data"
    },
    {
     "name": "stdout",
     "output_type": "stream",
     "text": [
      "there is most sign about top whales .\n",
      "there is no sign about top whales .\n"
     ]
    },
    {
     "data": {
      "text/plain": [
       "SAYCam LSTM 0     True\n",
       "SAYCam 1-gram     True\n",
       "SAYCam 2-gram     True\n",
       "SAYCam CBOW 0    False\n",
       "Name: 1847, dtype: bool"
      ]
     },
     "metadata": {},
     "output_type": "display_data"
    },
    {
     "name": "stdout",
     "output_type": "stream",
     "text": [
      "there was all sign about summer dogs .\n",
      "there was no sign about summer dogs .\n"
     ]
    },
    {
     "data": {
      "text/plain": [
       "SAYCam LSTM 0     True\n",
       "SAYCam 1-gram    False\n",
       "SAYCam 2-gram    False\n",
       "SAYCam CBOW 0    False\n",
       "Name: 1925, dtype: bool"
      ]
     },
     "metadata": {},
     "output_type": "display_data"
    },
    {
     "name": "stdout",
     "output_type": "stream",
     "text": [
      "there is n't each book about polar eggs .\n",
      "there is n't an book about polar eggs .\n"
     ]
    },
    {
     "data": {
      "text/plain": [
       "SAYCam LSTM 0     True\n",
       "SAYCam 1-gram     True\n",
       "SAYCam 2-gram     True\n",
       "SAYCam CBOW 0    False\n",
       "Name: 1938, dtype: bool"
      ]
     },
     "metadata": {},
     "output_type": "display_data"
    },
    {
     "name": "stdout",
     "output_type": "stream",
     "text": [
      "there was most movie about extra books .\n",
      "there was no movie about extra books .\n"
     ]
    },
    {
     "data": {
      "text/plain": [
       "SAYCam LSTM 0     True\n",
       "SAYCam 1-gram     True\n",
       "SAYCam 2-gram     True\n",
       "SAYCam CBOW 0    False\n",
       "Name: 1944, dtype: bool"
      ]
     },
     "metadata": {},
     "output_type": "display_data"
    },
    {
     "name": "stdout",
     "output_type": "stream",
     "text": [
      "there were all books about polar pages .\n",
      "there were many books about polar pages .\n"
     ]
    },
    {
     "data": {
      "text/plain": [
       "SAYCam LSTM 0     True\n",
       "SAYCam 1-gram    False\n",
       "SAYCam 2-gram    False\n",
       "SAYCam CBOW 0     True\n",
       "Name: 1949, dtype: bool"
      ]
     },
     "metadata": {},
     "output_type": "display_data"
    },
    {
     "data": {
      "text/plain": [
       "<Figure size 1200x720 with 0 Axes>"
      ]
     },
     "metadata": {},
     "output_type": "display_data"
    }
   ],
   "source": [
    "def get_correct_df(loss_df):\n",
    "    sub_loss_dfs = [loss_df.iloc[i::2].reset_index(drop=True) for i in range(2)]\n",
    "    return sub_loss_dfs[0] > sub_loss_dfs[1]\n",
    "\n",
    "\n",
    "correct_dfs = {\n",
    "    data_name: get_correct_df(loss_df)\n",
    "    for data_name, loss_df in loss_dfs.items()\n",
    "}\n",
    "\n",
    "filtered_correct_dfs = {\n",
    "    data_name: correct_df.iloc[filter_masks[data_name]]\n",
    "    for data_name, correct_df in correct_dfs.items()\n",
    "}\n",
    "\n",
    "\n",
    "for current_correct_dfs in [correct_dfs, filtered_correct_dfs][1:]:\n",
    "    data_names = list(current_correct_dfs.keys())\n",
    "    df = pd.concat(\n",
    "        [current_correct_dfs[data_name] for data_name in data_names],\n",
    "        keys=list(map('-'.join, data_names)),\n",
    "        names=['dataset', 'idx'],\n",
    "    )\n",
    "    df = df.reset_index()\n",
    "    df = df.melt(id_vars=['dataset', 'idx'], var_name='model', value_name='accuracy')\n",
    "\n",
    "    hue_order = sorted(set(df['model']))\n",
    "\n",
    "    g = sns.catplot(kind=\"bar\", data=df, x='accuracy', y='dataset', hue='model', hue_order=hue_order)\n",
    "    g.figure.set_size_inches(8, 10)\n",
    "    plt.gca().axvline(0.5, color='red')\n",
    "    output_fig('Syntactic Probing Accuracy Across Paradigms')\n",
    "\n",
    "    model_dataset_mean_df = df.drop(labels='idx', axis=1).groupby(by=['model', 'dataset']).mean()\n",
    "    model_dataset_mean_unstack_df = model_dataset_mean_df.unstack(0)\n",
    "    display(model_dataset_mean_unstack_df)\n",
    "\n",
    "    model_dataset_mean_long_df = model_dataset_mean_df.reset_index()\n",
    "    g = sns.barplot(data=model_dataset_mean_long_df, x='accuracy', y='model', order=hue_order)\n",
    "    g.figure.set_size_inches(4, 2.4)\n",
    "    random_accuracy = 0.5\n",
    "    plt.gca().axvline(random_accuracy, color='red')\n",
    "    output_fig('Syntactic Probing Accuracy Mean')\n",
    "\n",
    "    model_mean_df = model_dataset_mean_df.groupby(level='model').mean()\n",
    "    display(model_mean_df)\n",
    "\n",
    "    target_model = \"SAYCam LSTM 0\"\n",
    "    baseline_models = [\"SAYCam 1-gram\", \"SAYCam 2-gram\", \"SAYCam CBOW 0\"]\n",
    "    displayed_models = [target_model] + baseline_models\n",
    "\n",
    "    for dataset in model_dataset_mean_unstack_df.index:\n",
    "        model_mean_series = model_dataset_mean_unstack_df.loc[dataset][\"accuracy\"]\n",
    "        target_model_accuracy = model_mean_series[target_model]\n",
    "        baseline_accuracy = model_mean_series[baseline_models].max()\n",
    "        if target_model_accuracy >= 0.52 and target_model_accuracy > baseline_accuracy + 0.03:\n",
    "            data_name = tuple(dataset.split('-'))\n",
    "            sentence_pairs = list(itertools.compress(paired(zorro_data[data_name]), filter_masks[data_name]))\n",
    "            correct_df = current_correct_dfs[data_name]\n",
    "            print(f'comparing {dataset} ({frac_format(len(sentence_pairs), len(zorro_data[data_name]) / 2)}):')\n",
    "            display(model_mean_series)\n",
    "            for sentence_pair, (idx, corrects) in zip(sentence_pairs, correct_df.iterrows()):\n",
    "                if corrects[target_model] and not all(corrects[baseline_models]):\n",
    "                    for sentence in sentence_pair:\n",
    "                        print(' '.join(map(str, sentence)))\n",
    "                    display(corrects[displayed_models])"
   ]
  },
  {
   "cell_type": "code",
   "execution_count": null,
   "id": "a65d0f86",
   "metadata": {},
   "outputs": [],
   "source": []
  }
 ],
 "metadata": {
  "kernelspec": {
   "display_name": "Python 3 (ipykernel)",
   "language": "python",
   "name": "python3"
  },
  "language_info": {
   "codemirror_mode": {
    "name": "ipython",
    "version": 3
   },
   "file_extension": ".py",
   "mimetype": "text/x-python",
   "name": "python",
   "nbconvert_exporter": "python",
   "pygments_lexer": "ipython3",
   "version": "3.9.13"
  }
 },
 "nbformat": 4,
 "nbformat_minor": 5
}
