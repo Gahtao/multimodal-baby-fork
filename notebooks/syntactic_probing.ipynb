{
 "cells": [
  {
   "cell_type": "code",
   "execution_count": 1,
   "id": "407ef21d",
   "metadata": {
    "scrolled": true
   },
   "outputs": [
    {
     "name": "stdout",
     "output_type": "stream",
     "text": [
      "/misc/vlgscratch4/LakeGroup/wentao/multimodal-baby\n"
     ]
    }
   ],
   "source": [
    "%cd .."
   ]
  },
  {
   "cell_type": "code",
   "execution_count": 2,
   "id": "8e3a7974",
   "metadata": {},
   "outputs": [
    {
     "name": "stderr",
     "output_type": "stream",
     "text": [
      "/tmp/ipykernel_407499/2621710530.py:31: MatplotlibDeprecationWarning: Support for setting the 'text.latex.preamble' or 'pgf.preamble' rcParam to a list of strings is deprecated since 3.3 and will be removed two minor releases later; set it to a single string instead.\n",
      "  matplotlib.rcParams['text.latex.preamble'] = [r'\\usepackage{amsmath}']\n"
     ]
    }
   ],
   "source": [
    "from pathlib import Path\n",
    "import itertools\n",
    "import functools\n",
    "from collections import namedtuple, Counter, defaultdict\n",
    "import re\n",
    "import pickle\n",
    "import numpy as np\n",
    "import torch\n",
    "import torch.nn.functional as F\n",
    "from torch.utils.data import DataLoader\n",
    "import matplotlib\n",
    "import matplotlib.pyplot as plt\n",
    "%matplotlib inline\n",
    "import pandas as pd\n",
    "import seaborn as sns\n",
    "from multimodal.multimodal_lit import MultiModalLitModel\n",
    "from multimodal.multimodal_data_module import read_vocab, PAD_TOKEN_ID, UNK_TOKEN_ID, SOS_TOKEN_ID, EOS_TOKEN_ID, IMAGE_H, IMAGE_W\n",
    "from multimodal.multimodal_saycam_data_module import VOCAB_FILENAME\n",
    "from ngram import NGramModel\n",
    "from multimodal.utils import map_structure\n",
    "from analysis_tools.processing import *\n",
    "from analysis_tools.utils import *\n",
    "from analysis_tools.sentences_data import *\n",
    "from analysis_tools.sentences_utils import *\n",
    "from analysis_tools.checkpoints import *\n",
    "from analysis_tools.build_data import *\n",
    "import analysis_tools.plotting as plotting\n",
    "import textwrap\n",
    "\n",
    "matplotlib.rcParams['text.usetex'] = True\n",
    "matplotlib.rcParams['text.latex.preamble'] = [r'\\usepackage{amsmath}']\n",
    "\n",
    "\n",
    "ZORRO_TXT_DIR = Path(\"/misc/vlgscratch4/LakeGroup/shared_data/Zorro/sentences/babyberta/\")\n",
    "ZORRO_TXT_FILES = ZORRO_TXT_DIR.glob('*.txt')\n",
    "TRAIN_MEAN_IMG_FILE = Path(\"/misc/vlgscratch4/LakeGroup/shared_data/S_multimodal/train_mean_img.pt\")\n",
    "\n",
    "\n",
    "# set default settings for plotting; may change for each plot\n",
    "figsize = (12, 12)\n",
    "paper_context = sns.plotting_context('paper')\n",
    "paper_context.update({\n",
    "    'font.size': 10.,\n",
    "    'axes.labelsize': 10.,\n",
    "    'axes.titlesize': 14.,\n",
    "    'xtick.labelsize': 8.8,\n",
    "    'ytick.labelsize': 8.8,\n",
    "    'legend.fontsize': 8.8,\n",
    "    'legend.title_fontsize': 9.6,\n",
    "})\n",
    "unticked_relation_style = sns.axes_style('white')\n",
    "unticked_relation_style.update({\n",
    "    'axes.spines.left': True,\n",
    "    'axes.spines.bottom': True,\n",
    "    'axes.spines.right': False,\n",
    "    'axes.spines.top': False,\n",
    "})\n",
    "font = 'serif'\n",
    "sns.set_theme(\n",
    "    #context=paper_context,\n",
    "    style=unticked_relation_style,\n",
    "    #palette=sns.color_palette('tab20'),\n",
    "    font='serif',\n",
    "    rc={\n",
    "        'figure.figsize': figsize,\n",
    "    }\n",
    ")\n",
    "\n",
    "np.set_printoptions(suppress=True, precision=2, linewidth=120)\n",
    "pd.options.display.width = 120\n",
    "\n",
    "plt.rcParams['figure.dpi'] = 300\n",
    "plt.rcParams['savefig.dpi'] = 300\n",
    "plt.rcParams[\"savefig.bbox\"] = 'tight'\n",
    "plt.rcParams[\"savefig.pad_inches\"] = 0.\n",
    "plot_format = 'pdf'\n",
    "saving_fig = True\n",
    "\n",
    "if saving_fig:\n",
    "    def _save_fig(fname, format='png'):\n",
    "        print(f'saving plot {fname}')\n",
    "        plt.savefig(f'plots/{fname}.{format}', transparent=True)\n",
    "        plt.clf()\n",
    "    plotting.output_fig = functools.partial(_save_fig, format=plot_format)\n",
    "else:\n",
    "    plotting.output_fig = lambda fname: plt.show()\n",
    "\n",
    "output_fig = plotting.output_fig\n",
    "\n",
    "device = torch.device('cuda' if torch.cuda.is_available() else 'cpu')\n",
    "\n",
    "\n",
    "def sentence_pair_in_vocab(sentence_pair, vocab):\n",
    "    for sentence in sentence_pair:\n",
    "        if not all(str(token) in vocab for token in sentence):\n",
    "            return False\n",
    "    return True\n",
    "\n",
    "\n",
    "phenomenon_name_aliases = {\n",
    "    'agreement_determiner_noun': 'determiner-noun_agreement',\n",
    "    'agreement_subject_verb'   : 'subject-verb_agreement'   ,\n",
    "}\n",
    "\n",
    "\n",
    "def get_data_name_from_paradigm_name(\n",
    "    paradigm_name,\n",
    "    sep='-',\n",
    "    replace_underline_by=' ',\n",
    "    phenomenon_name_aliases=phenomenon_name_aliases,\n",
    "):\n",
    "    partition_of_paradigm_name = paradigm_name.rpartition(sep)\n",
    "    assert partition_of_paradigm_name[1] == sep\n",
    "    phenomenon_name, _paradigm_name = partition_of_paradigm_name[0], partition_of_paradigm_name[2]\n",
    "    phenomenon_name = phenomenon_name_aliases.get(phenomenon_name, phenomenon_name)\n",
    "    data_name = phenomenon_name, _paradigm_name\n",
    "    if replace_underline_by is not None:\n",
    "        data_name = tuple(name.replace('_', replace_underline_by) for name in data_name)\n",
    "    return data_name"
   ]
  },
  {
   "cell_type": "code",
   "execution_count": 3,
   "id": "fd4d7997",
   "metadata": {},
   "outputs": [
    {
     "name": "stdout",
     "output_type": "stream",
     "text": [
      "saycam_vocab_size = 2350\n",
      "processing agreement_determiner_noun-across_1_adjective ...\n",
      "processing agreement_determiner_noun-between_neighbors ...\n",
      "processing agreement_subject_verb-across_prepositional_phrase ...\n",
      "processing agreement_subject_verb-across_relative_clause ...\n",
      "processing agreement_subject_verb-in_question_with_aux ...\n",
      "processing agreement_subject_verb-in_simple_question ...\n",
      "processing anaphor_agreement-pronoun_gender ...\n",
      "processing argument_structure-dropped_argument ...\n",
      "processing argument_structure-swapped_arguments ...\n",
      "processing argument_structure-transitive ...\n",
      "processing binding-principle_a ...\n",
      "processing case-subjective_pronoun ...\n",
      "processing ellipsis-n_bar ...\n",
      "processing filler-gap-wh_question_object ...\n",
      "processing filler-gap-wh_question_subject ...\n",
      "processing irregular-verb ...\n",
      "processing island-effects-adjunct_island ...\n",
      "processing island-effects-coordinate_structure_constraint ...\n",
      "processing local_attractor-in_question_with_aux ...\n",
      "processing npi_licensing-matrix_question ...\n",
      "processing npi_licensing-only_npi_licensor ...\n",
      "processing quantifiers-existential_there ...\n",
      "processing quantifiers-superlative ...\n",
      "zorro_vocab_size = 646\n",
      "words in zorro vocab:\n",
      "the         68237\n",
      ".           63484\n",
      "?           28516\n",
      "that        15982\n",
      "can          9186\n",
      "is           8080\n",
      "and          8006\n",
      "ever         8000\n",
      "about        7946\n",
      "what         7178\n",
      "could        7124\n",
      "were         6758\n",
      "there        6472\n",
      "one          6231\n",
      "this         6096\n",
      "a            6036\n",
      "not          5936\n",
      "did          5894\n",
      "who          5806\n",
      "be           5286\n",
      "must         4842\n",
      "Sarah        4424\n",
      "no           4373\n",
      "become       4363\n",
      "dinosaur     4302\n",
      "are          4280\n",
      "boat         4230\n",
      "some         4130\n",
      "wolf         4116\n",
      "Laura        4082\n",
      "sister       4066\n",
      "to           4059\n",
      "doctor       4042\n",
      "at           4006\n",
      "was          4006\n",
      "himself      4004\n",
      "herself      3996\n",
      "slave        3982\n",
      "pig          3958\n",
      "duke         3846\n",
      "Philip       3706\n",
      "on           3698\n",
      "should       3684\n",
      "Donald       3674\n",
      "Roger        3670\n",
      "Richard      3598\n",
      "her          3585\n",
      "William      3580\n",
      "Alexander    3568\n",
      "Mark         3562\n",
      "made         3510\n",
      "Michael      3412\n",
      "how          3338\n",
      "think        3178\n",
      "his          3107\n",
      "like         3071\n",
      "i            3068\n",
      "does         3012\n",
      "she          2862\n",
      "more         2678\n",
      "he           2490\n",
      "do           2486\n",
      "we           2362\n",
      "will         2356\n",
      "would        2178\n",
      "by           2070\n",
      "even         2000\n",
      "had          2000\n",
      "only         2000\n",
      "than         2000\n",
      "these        2000\n",
      "those        2000\n",
      "they         1956\n",
      "married      1920\n",
      "close        1805\n",
      "got          1758\n",
      "gave         1741\n",
      "showed       1730\n",
      "likes        1714\n",
      "built        1654\n",
      "stand        1640\n",
      "without      1626\n",
      "give         1625\n",
      "use          1605\n",
      "color        1580\n",
      "work         1560\n",
      "with         1547\n",
      "book         1542\n",
      "your         1536\n",
      "night        1514\n",
      "brought      1513\n",
      "most         1483\n",
      "home         1452\n",
      "my           1427\n",
      "change       1426\n",
      "saw          1359\n",
      "you          1328\n",
      "movie        1326\n",
      "keep         1309\n",
      "baby         1288\n",
      "words not in SAYCam vocab:\n",
      "Sarah\n",
      "become\n",
      "wolf\n",
      "Laura\n",
      "sister\n",
      "herself\n",
      "slave\n",
      "duke\n",
      "Philip\n",
      "Donald\n",
      "Roger\n",
      "Richard\n",
      "William\n",
      "Alexander\n",
      "Mark\n",
      "Michael\n",
      "married\n",
      "showed\n",
      "control\n",
      "gives\n",
      "ended\n",
      "related\n",
      "claimed\n",
      "fewer\n",
      "destroyed\n",
      "reached\n",
      "thinks\n",
      "marked\n",
      "woman\n",
      "study\n",
      "movies\n",
      "started\n",
      "stories\n",
      "entered\n",
      "access\n",
      "visited\n",
      "managed\n",
      "carried\n",
      "record\n",
      "tradition\n",
      "rolling\n",
      "ordered\n",
      "needed\n",
      "label\n",
      "growth\n",
      "healthy\n",
      "memory\n",
      "media\n",
      "stadium\n",
      "bank\n",
      "fuel\n",
      "cast\n",
      "procedure\n",
      "cabinet\n",
      "engines\n",
      "valley\n",
      "filled\n",
      "scale\n",
      "suit\n",
      "thirty\n",
      "winning\n",
      "recommended\n",
      "personal\n",
      "positive\n",
      "english\n",
      "calls\n",
      "bones\n",
      "differences\n",
      "bands\n",
      "complete\n",
      "forced\n",
      "simple\n",
      "carbon\n",
      "worn\n",
      "restaurants\n",
      "abandoned\n",
      "kings\n",
      "stands\n",
      "lies\n",
      "children\n",
      "Maria\n",
      "electronic\n",
      "types\n",
      "increase\n",
      "size\n",
      "expected\n",
      "parents\n",
      "sacred\n",
      "exist\n",
      "ways\n",
      "patterns\n",
      "difference\n",
      "contemporary\n",
      "band\n",
      "bone\n",
      "windows\n",
      "parent\n",
      "dollars\n",
      "pattern\n",
      "problems\n",
      "waters\n",
      "lions\n",
      "Anne\n",
      "child\n",
      "fishing\n",
      "depending\n",
      "dollar\n",
      "solid\n",
      "animal\n",
      "king\n",
      "wrote\n",
      "signs\n",
      "losing\n",
      "facing\n",
      "covering\n",
      "calling\n",
      "written\n",
      "moves\n",
      "uses\n",
      "depends\n",
      "taken\n",
      "sees\n",
      "turns\n",
      "spoke\n",
      "spoken\n",
      "became\n",
      "drawn\n",
      "given\n",
      "sold\n",
      "chose\n",
      "chosen\n",
      "known\n",
      "option\n",
      "shows\n",
      "created\n",
      "writes\n",
      "becomes\n",
      "Allen\n",
      "planning\n",
      "plans\n",
      "notes\n",
      "changes\n",
      "angry\n",
      "shape\n",
      "student\n",
      "waves\n",
      "testing\n",
      "Chris\n",
      "essay\n",
      "note\n",
      "Obama\n",
      "copies\n",
      "records\n",
      "grew\n",
      "estimates\n",
      "votes\n",
      "protection\n",
      "tells\n",
      "began\n",
      "begun\n",
      "discussion\n",
      "heaven\n",
      "map\n",
      "produces\n",
      "speak\n",
      "spin\n",
      "setting\n",
      "Carter\n",
      "evening\n",
      "grown\n",
      "trade\n",
      "clothing\n",
      "housing\n",
      "reaching\n",
      "Louis\n",
      "distance\n",
      "served\n",
      "serving\n",
      "electricity\n",
      "Gregory\n",
      "Robert\n",
      "begins\n",
      "college\n",
      "pool\n",
      "finding\n",
      "Ben\n",
      "Sam\n",
      "growing\n",
      "Bill\n",
      "Edward\n",
      "John\n",
      "Joseph\n",
      "Taylor\n",
      "bible\n",
      "canal\n",
      "image\n",
      "support\n",
      "telephone\n",
      "force\n",
      "Henry\n",
      "issue\n",
      "races\n",
      "Simon\n",
      "recording\n",
      "Thomas\n",
      "orders\n",
      "studies\n",
      "studying\n",
      "equipment\n",
      "changing\n",
      "covers\n",
      "tests\n",
      "runs\n",
      "joined\n",
      "helped\n",
      "mentioned\n",
      "affected\n",
      "met\n",
      "treated\n",
      "advanced\n",
      "opposed\n",
      "learned\n",
      "led\n",
      "improved\n",
      "planned\n",
      "decided\n",
      "dies\n",
      "returned\n",
      "shot\n",
      "leads\n",
      "shown\n",
      "shared\n",
      "argued\n",
      "explained\n",
      "mixed\n",
      "accepted\n",
      "connected\n",
      "developed\n",
      "appears\n",
      "organized\n",
      "refused\n",
      "matters\n",
      "occurred\n",
      "403 / 646 = 62.38% in SAYCam vocab\n",
      "out-of-SAYCam vocab sentence examples:\n",
      "('determiner-noun agreement', 'across 1 adjective'): 656 / 2000 = 32.80%\n",
      "out-of-SAYCam vocab sentence examples:\n",
      "('determiner-noun agreement', 'between neighbors'): 616 / 2000 = 30.80%\n",
      "out-of-SAYCam vocab sentence examples:\n",
      "('subject-verb agreement', 'across prepositional phrase'): 480 / 2000 = 24.00%\n",
      "out-of-SAYCam vocab sentence examples:\n",
      "('subject-verb agreement', 'across relative clause'): 532 / 2000 = 26.60%\n",
      "out-of-SAYCam vocab sentence examples:\n",
      "('subject-verb agreement', 'in question with aux'): 280 / 2000 = 14.00%\n",
      "out-of-SAYCam vocab sentence examples:\n",
      "('subject-verb agreement', 'in simple question'): 836 / 2000 = 41.80%\n",
      "out-of-SAYCam vocab sentence examples:\n",
      "('anaphor agreement', 'pronoun gender'): 0 / 2000 = 0.00%\n",
      "out-of-SAYCam vocab sentence examples:\n",
      "('argument structure', 'dropped argument'): 341 / 2000 = 17.05%\n",
      "out-of-SAYCam vocab sentence examples:\n",
      "('argument structure', 'swapped arguments'): 529 / 2000 = 26.45%\n",
      "out-of-SAYCam vocab sentence examples:\n",
      "('argument structure', 'transitive'): 384 / 2000 = 19.20%\n",
      "out-of-SAYCam vocab sentence examples:\n",
      "('binding', 'principle a'): 0 / 2000 = 0.00%\n",
      "out-of-SAYCam vocab sentence examples:\n",
      "('case', 'subjective pronoun'): 527 / 2000 = 26.35%\n",
      "out-of-SAYCam vocab sentence examples:\n",
      "('ellipsis', 'n bar'): 0 / 2000 = 0.00%\n",
      "out-of-SAYCam vocab sentence examples:\n",
      "('filler-gap', 'wh question object'): 0 / 2000 = 0.00%\n",
      "out-of-SAYCam vocab sentence examples:\n",
      "('filler-gap', 'wh question subject'): 0 / 2000 = 0.00%\n",
      "out-of-SAYCam vocab sentence examples:\n",
      "('irregular', 'verb'): 0 / 2000 = 0.00%\n",
      "out-of-SAYCam vocab sentence examples:\n",
      "('island-effects', 'adjunct island'): 0 / 2000 = 0.00%\n",
      "out-of-SAYCam vocab sentence examples:\n",
      "('island-effects', 'coordinate structure constraint'): 0 / 2000 = 0.00%\n",
      "out-of-SAYCam vocab sentence examples:\n",
      "('local attractor', 'in question with aux'): 480 / 2000 = 24.00%\n",
      "out-of-SAYCam vocab sentence examples:\n",
      "('npi licensing', 'matrix question'): 374 / 2000 = 18.70%\n",
      "out-of-SAYCam vocab sentence examples:\n",
      "('npi licensing', 'only npi licensor'): 205 / 2000 = 10.25%\n",
      "out-of-SAYCam vocab sentence examples:\n",
      "('quantifiers', 'existential there'): 181 / 2000 = 9.05%\n",
      "out-of-SAYCam vocab sentence examples:\n",
      "('quantifiers', 'superlative'): 188 / 2000 = 9.40%\n"
     ]
    }
   ],
   "source": [
    "# get SAYCam vocab\n",
    "saycam_vocab = read_vocab(VOCAB_FILENAME)\n",
    "saycam_vocab_size = len(saycam_vocab)\n",
    "print(f'{saycam_vocab_size = }')\n",
    "word2idx = saycam_vocab\n",
    "idx2word = [None] * saycam_vocab_size\n",
    "for word, idx in word2idx.items():\n",
    "    idx2word[idx] = word\n",
    "idx2word = np.array(idx2word)\n",
    "\n",
    "# get Zorro data\n",
    "zorro_data = {}\n",
    "zorro_vocab = Counter()\n",
    "\n",
    "for zorro_txt_file in ZORRO_TXT_FILES:\n",
    "    paradigm_name = zorro_txt_file.stem\n",
    "    data_name = get_data_name_from_paradigm_name(paradigm_name)\n",
    "    print(f'processing {paradigm_name} ...', flush=True)\n",
    "\n",
    "    with open(zorro_txt_file, 'r') as f:\n",
    "        sentences = pd.Series(tokenize(line.strip() for line in f))\n",
    "\n",
    "    zorro_data[data_name] = sentences\n",
    "\n",
    "    zorro_vocab.update(map(str, itertools.chain.from_iterable(sentences)))\n",
    "\n",
    "# Zorro vocab\n",
    "zorro_vocab = sorted(\n",
    "    zorro_vocab.items(),\n",
    "    key = lambda item: (-item[1], item[0])\n",
    ")\n",
    "zorro_vocab_size = len(zorro_vocab)\n",
    "print(f'{zorro_vocab_size = }')\n",
    "print('words in zorro vocab:')\n",
    "for word, freq in zorro_vocab[:100]:\n",
    "    print(f'{word:10} {freq:6}')\n",
    "\n",
    "# Zorro vocab compared to SAYCam vocab\n",
    "in_saycam_vocab_cnt = 0\n",
    "print('words not in SAYCam vocab:')\n",
    "for word, freq in zorro_vocab:\n",
    "    if word in saycam_vocab:\n",
    "        in_saycam_vocab_cnt += 1\n",
    "    else:\n",
    "        print(word)\n",
    "print(f'{frac_format(in_saycam_vocab_cnt, len(zorro_vocab))} in SAYCam vocab')\n",
    "\n",
    "# filter Zorro data\n",
    "filter_masks = {}\n",
    "\n",
    "for data_name, sentences in zorro_data.items():\n",
    "    n_total = 0\n",
    "\n",
    "    print('out-of-SAYCam vocab sentence examples:')\n",
    "    sentence_pairs = pd.Series(paired(sentences))\n",
    "    filter_mask = sentence_pairs.map(lambda sentence_pair: sentence_pair_in_vocab(sentence_pair, saycam_vocab))\n",
    "    for sentence_pair in sentence_pairs[~filter_mask].iloc[:0]:\n",
    "        for sentence in sentence_pair:\n",
    "            print(untokenize(sentence))\n",
    "        print(\n",
    "            'OOV tokens:',\n",
    "            ' '.join(\n",
    "                str(token)\n",
    "                for sentence in sentence_pair\n",
    "                for token in sentence\n",
    "                if str(token) not in saycam_vocab\n",
    "            )\n",
    "        )\n",
    "\n",
    "    print(f'{data_name}: {frac_format(filter_mask.sum(), len(filter_mask))}')\n",
    "\n",
    "    filter_masks[data_name] = filter_mask"
   ]
  },
  {
   "cell_type": "code",
   "execution_count": 4,
   "id": "a87ce412",
   "metadata": {},
   "outputs": [
    {
     "name": "stdout",
     "output_type": "stream",
     "text": [
      "load model from checkpoints/lm_dataset_saycam_captioning_False_text_encoder_lstm_embedding_dim_512_dropout_i_0.5_dropout_o_0.0_batch_size_16_lr_0.006_lr_scheduler_True_weight_decay_0.04_seed_0/epoch=29.ckpt\n"
     ]
    },
    {
     "name": "stderr",
     "output_type": "stream",
     "text": [
      "/home/ww2135/.local/lib/python3.9/site-packages/pytorch_lightning/core/datamodule.py:73: LightningDeprecationWarning: DataModule property `train_transforms` was deprecated in v1.5 and will be removed in v1.7.\n",
      "  rank_zero_deprecation(\n"
     ]
    },
    {
     "name": "stdout",
     "output_type": "stream",
     "text": [
      "Using base transforms\n",
      "Calling prepare_data!\n",
      "SAYCam transcripts have already been downloaded. Skipping this step.\n",
      "Transcripts have already been renamed. Skipping this step.\n",
      "Transcripts have already been preprocessed. Skipping this step.\n",
      "Training frames have already been extracted. Skipping this step.\n",
      "Training metadata files have already been created. Skipping this step.\n",
      "Shuffled training metadata file has already been created. Skipping this step.\n",
      "Evaluation frames have already been filtered. Skipping this step.\n",
      "Evaluation frames have already been extracted. Skipping this step.\n",
      "Filtered evaluation frames have already been extracted. Skipping this step.\n",
      "Evaluation metadata files have already been created. Skipping this step.\n",
      "Evaluation metadata files have already been created. Skipping this step.\n",
      "Extra evaluation metadata files have already been created. Skipping this step.\n",
      "Extra evaluation metadata files have already been created. Skipping this step.\n",
      "Vocabulary file already exists. Skipping this step.\n",
      "Calling setup!\n",
      "Training using matched utterances!\n",
      "load model from checkpoints/lm_dataset_saycam_captioning_False_text_encoder_lstm_embedding_dim_512_dropout_i_0.5_dropout_o_0.0_batch_size_16_lr_0.006_lr_scheduler_True_weight_decay_0.04_seed_1/epoch=38.ckpt\n",
      "load model from checkpoints/lm_dataset_saycam_captioning_False_text_encoder_lstm_embedding_dim_512_dropout_i_0.5_dropout_o_0.0_batch_size_16_lr_0.006_lr_scheduler_True_weight_decay_0.04_seed_2/epoch=28.ckpt\n",
      "load model from checkpoints/lm_dataset_saycam_captioning_True_text_encoder_lstm_embedding_dim_512_dropout_i_0.5_dropout_o_0.0_batch_size_16_lr_0.006_lr_scheduler_True_weight_decay_0.04_seed_0/epoch=29.ckpt\n",
      "load model from checkpoints/lm_dataset_saycam_captioning_True_text_encoder_lstm_embedding_dim_512_dropout_i_0.5_dropout_o_0.0_batch_size_16_lr_0.006_lr_scheduler_True_weight_decay_0.04_seed_1/epoch=42.ckpt\n",
      "load model from checkpoints/lm_dataset_saycam_captioning_True_text_encoder_lstm_embedding_dim_512_dropout_i_0.5_dropout_o_0.0_batch_size_16_lr_0.006_lr_scheduler_True_weight_decay_0.04_seed_2/epoch=38.ckpt\n",
      "load model from checkpoints/lm_dataset_saycam_text_encoder_cbow_embedding_dim_512_tie_False_bias_False_crange_1_dropout_i_0.0_dropout_o_0.1_batch_size_8_lr_0.003_lr_scheduler_True_patience_2_weight_decay_0.04_seed_0/epoch=31.ckpt\n",
      "load model from checkpoints/lm_dataset_saycam_text_encoder_cbow_embedding_dim_512_tie_False_bias_False_crange_1_dropout_i_0.0_dropout_o_0.1_batch_size_8_lr_0.003_lr_scheduler_True_patience_2_weight_decay_0.04_seed_1/epoch=65.ckpt\n",
      "load model from checkpoints/lm_dataset_saycam_text_encoder_cbow_embedding_dim_512_tie_False_bias_False_crange_1_dropout_i_0.0_dropout_o_0.1_batch_size_8_lr_0.003_lr_scheduler_True_patience_2_weight_decay_0.04_seed_2/epoch=58.ckpt\n"
     ]
    },
    {
     "name": "stderr",
     "output_type": "stream",
     "text": [
      "100%|█████████████████████████████████████████████████████████████████████████████████████████████| 2108/2108 [01:00<00:00, 34.65it/s]\n",
      "100%|█████████████████████████████████████████████████████████████████████████████████████████████| 2108/2108 [00:27<00:00, 75.62it/s]\n"
     ]
    }
   ],
   "source": [
    "# build datasets\n",
    "datasets = {\n",
    "    data_name: SentencesDataset(sentences, saycam_vocab)\n",
    "    for data_name, sentences in zorro_data.items()\n",
    "}\n",
    "\n",
    "my_batch_size = 256\n",
    "\n",
    "\n",
    "# load model from checkpoint\n",
    "\n",
    "# select from list of checkpoints\n",
    "dataset_name = \"saycam\"\n",
    "names = [\n",
    "    \"LSTM\",\n",
    "    \"LSTM Captioning\",\n",
    "    \"CBOW\",\n",
    "    \"unigram\", \"bigram\", #\"trigram\", \"4-gram\",\n",
    "]\n",
    "groups = {name: all_groups[name] for name in names}\n",
    "ori_names = list(itertools.chain.from_iterable(groups.values()))\n",
    "checkpoint_paths = all_checkpoint_paths[dataset_name]\n",
    "\n",
    "ori_models = {}\n",
    "\n",
    "saycam_data = None\n",
    "\n",
    "for ori_name in ori_names:\n",
    "    checkpoint_path = checkpoint_paths[ori_name]\n",
    "\n",
    "    if \"gram\" in checkpoint_path:\n",
    "        ngram_model = build_ngram_model(int(checkpoint_path.split('-')[0]), saycam_vocab_size, saycam_data.train_dataloader())\n",
    "        model = ngram_model\n",
    "\n",
    "    else:\n",
    "        print(f\"load model from {checkpoint_path}\")\n",
    "        lit_model = MultiModalLitModel.load_from_checkpoint(checkpoint_path, map_location=device)\n",
    "        lit_model.to(device)\n",
    "        lit_model.eval()\n",
    "        model = lit_model\n",
    "\n",
    "        if saycam_data is None:\n",
    "            # build data and vocab according to the model\n",
    "            saycam_data, args = build_data(args=lit_model.args, return_args=True)\n",
    "            dataset_name = args.dataset\n",
    "\n",
    "        else:\n",
    "            assert lit_model.args[\"dataset\"] == dataset_name, f\"checkpoint {checkpoint_path} ran on a different dataset {args.dataset}\"\n",
    "\n",
    "    ori_models[ori_name] = model"
   ]
  },
  {
   "cell_type": "code",
   "execution_count": 5,
   "id": "22b8ad69",
   "metadata": {},
   "outputs": [
    {
     "name": "stdout",
     "output_type": "stream",
     "text": [
      "saving plot Train Mean Image\n"
     ]
    },
    {
     "data": {
      "text/plain": [
       "<Figure size 3600x3600 with 0 Axes>"
      ]
     },
     "metadata": {},
     "output_type": "display_data"
    }
   ],
   "source": [
    "if TRAIN_MEAN_IMG_FILE.exists():\n",
    "    train_mean_img = torch.load(TRAIN_MEAN_IMG_FILE)\n",
    "else:\n",
    "    train_dataset = saycam_data.datasets['train']\n",
    "    train_mean_img = get_data_mean_img(train_dataset.data)\n",
    "    torch.save(train_mean_img, TRAIN_MEAN_IMG_FILE)\n",
    "\n",
    "from multimodal.attention_maps import n_inv\n",
    "plt.imshow(n_inv(train_mean_img).permute((1, 2, 0)).numpy())\n",
    "plt.axis('off')\n",
    "output_fig('Train Mean Image')\n",
    "\n",
    "train_mean_img = train_mean_img.to(device)\n",
    "\n",
    "\n",
    "def prepend_image_placeholder_for_batch(batch, zeros=False):\n",
    "    batch_size = len(batch[0])\n",
    "    if zeros:\n",
    "        x = torch.zeros(batch_size, 3, IMAGE_H, IMAGE_W, dtype=torch.float, device=device)\n",
    "    else:\n",
    "        x = train_mean_img.unsqueeze(0)\n",
    "        x = x.expand(*([batch_size] + [-1] * train_mean_img.dim()))\n",
    "    return x, *batch"
   ]
  },
  {
   "cell_type": "code",
   "execution_count": 6,
   "id": "a54bc994",
   "metadata": {},
   "outputs": [
    {
     "name": "stdout",
     "output_type": "stream",
     "text": [
      "running LSTM 0 ...\n"
     ]
    },
    {
     "name": "stderr",
     "output_type": "stream",
     "text": [
      "16it [00:00, 130.64it/s]\n",
      "16it [00:00, 149.04it/s]\n",
      "16it [00:00, 135.61it/s]\n",
      "16it [00:00, 136.96it/s]\n",
      "16it [00:00, 143.04it/s]\n",
      "16it [00:00, 146.24it/s]\n",
      "16it [00:00, 135.47it/s]\n",
      "16it [00:00, 149.63it/s]\n",
      "16it [00:00, 142.46it/s]\n",
      "16it [00:00, 162.56it/s]\n",
      "16it [00:00, 130.95it/s]\n",
      "16it [00:00, 147.34it/s]\n",
      "16it [00:00, 123.24it/s]\n",
      "16it [00:00, 130.93it/s]\n",
      "16it [00:00, 131.20it/s]\n",
      "16it [00:00, 135.81it/s]\n",
      "16it [00:00, 131.78it/s]\n",
      "16it [00:00, 139.69it/s]\n",
      "16it [00:00, 141.58it/s]\n",
      "16it [00:00, 143.28it/s]\n",
      "16it [00:00, 136.18it/s]\n",
      "16it [00:00, 137.95it/s]\n",
      "16it [00:00, 123.87it/s]\n"
     ]
    },
    {
     "name": "stdout",
     "output_type": "stream",
     "text": [
      "running LSTM 1 ...\n"
     ]
    },
    {
     "name": "stderr",
     "output_type": "stream",
     "text": [
      "16it [00:00, 162.26it/s]\n",
      "16it [00:00, 165.76it/s]\n",
      "16it [00:00, 149.71it/s]\n",
      "16it [00:00, 149.97it/s]\n",
      "16it [00:00, 155.41it/s]\n",
      "16it [00:00, 158.66it/s]\n",
      "16it [00:00, 144.90it/s]\n",
      "16it [00:00, 154.64it/s]\n",
      "16it [00:00, 154.51it/s]\n",
      "16it [00:00, 178.33it/s]\n",
      "16it [00:00, 135.01it/s]\n",
      "16it [00:00, 147.47it/s]\n",
      "16it [00:00, 121.61it/s]\n",
      "16it [00:00, 132.87it/s]\n",
      "16it [00:00, 131.86it/s]\n",
      "16it [00:00, 133.18it/s]\n",
      "16it [00:00, 132.69it/s]\n",
      "16it [00:00, 139.78it/s]\n",
      "16it [00:00, 142.87it/s]\n",
      "16it [00:00, 143.06it/s]\n",
      "16it [00:00, 138.97it/s]\n",
      "16it [00:00, 138.45it/s]\n",
      "16it [00:00, 126.57it/s]\n"
     ]
    },
    {
     "name": "stdout",
     "output_type": "stream",
     "text": [
      "running LSTM 2 ...\n"
     ]
    },
    {
     "name": "stderr",
     "output_type": "stream",
     "text": [
      "16it [00:00, 152.62it/s]\n",
      "16it [00:00, 154.27it/s]\n",
      "16it [00:00, 142.50it/s]\n",
      "16it [00:00, 142.06it/s]\n",
      "16it [00:00, 148.54it/s]\n",
      "16it [00:00, 150.18it/s]\n",
      "16it [00:00, 142.18it/s]\n",
      "16it [00:00, 154.89it/s]\n",
      "16it [00:00, 149.62it/s]\n",
      "16it [00:00, 164.56it/s]\n",
      "16it [00:00, 131.17it/s]\n",
      "16it [00:00, 152.70it/s]\n",
      "16it [00:00, 127.61it/s]\n",
      "16it [00:00, 134.64it/s]\n",
      "16it [00:00, 131.49it/s]\n",
      "16it [00:00, 135.91it/s]\n",
      "16it [00:00, 133.28it/s]\n",
      "16it [00:00, 140.68it/s]\n",
      "16it [00:00, 143.00it/s]\n",
      "16it [00:00, 143.74it/s]\n",
      "16it [00:00, 135.87it/s]\n",
      "16it [00:00, 139.18it/s]\n",
      "16it [00:00, 127.13it/s]\n"
     ]
    },
    {
     "name": "stdout",
     "output_type": "stream",
     "text": [
      "running LSTM Captioning 0 ...\n"
     ]
    },
    {
     "name": "stderr",
     "output_type": "stream",
     "text": [
      "16it [00:05,  2.96it/s]\n",
      "16it [00:05,  2.96it/s]\n",
      "16it [00:05,  2.95it/s]\n",
      "16it [00:05,  2.94it/s]\n",
      "16it [00:05,  2.94it/s]\n",
      "16it [00:05,  2.93it/s]\n",
      "16it [00:05,  2.92it/s]\n",
      "16it [00:05,  2.92it/s]\n",
      "16it [00:05,  2.91it/s]\n",
      "16it [00:05,  2.91it/s]\n",
      "16it [00:05,  2.90it/s]\n",
      "16it [00:05,  2.90it/s]\n",
      "16it [00:05,  2.89it/s]\n",
      "16it [00:05,  2.89it/s]\n",
      "16it [00:05,  2.89it/s]\n",
      "16it [00:05,  2.89it/s]\n",
      "16it [00:05,  2.89it/s]\n",
      "16it [00:05,  2.89it/s]\n",
      "16it [00:05,  2.88it/s]\n",
      "16it [00:05,  2.88it/s]\n",
      "16it [00:05,  2.88it/s]\n",
      "16it [00:05,  2.88it/s]\n",
      "16it [00:05,  2.87it/s]\n"
     ]
    },
    {
     "name": "stdout",
     "output_type": "stream",
     "text": [
      "running LSTM Captioning 1 ...\n"
     ]
    },
    {
     "name": "stderr",
     "output_type": "stream",
     "text": [
      "16it [00:05,  2.88it/s]\n",
      "16it [00:05,  2.88it/s]\n",
      "16it [00:05,  2.88it/s]\n",
      "16it [00:05,  2.87it/s]\n",
      "16it [00:05,  2.87it/s]\n",
      "16it [00:05,  2.87it/s]\n",
      "16it [00:05,  2.87it/s]\n",
      "16it [00:05,  2.88it/s]\n",
      "16it [00:05,  2.87it/s]\n",
      "16it [00:05,  2.88it/s]\n",
      "16it [00:05,  2.87it/s]\n",
      "16it [00:05,  2.87it/s]\n",
      "16it [00:05,  2.86it/s]\n",
      "16it [00:05,  2.87it/s]\n",
      "16it [00:05,  2.87it/s]\n",
      "16it [00:05,  2.87it/s]\n",
      "16it [00:05,  2.87it/s]\n",
      "16it [00:05,  2.87it/s]\n",
      "16it [00:05,  2.87it/s]\n",
      "16it [00:05,  2.87it/s]\n",
      "16it [00:05,  2.87it/s]\n",
      "16it [00:05,  2.87it/s]\n",
      "16it [00:05,  2.86it/s]\n"
     ]
    },
    {
     "name": "stdout",
     "output_type": "stream",
     "text": [
      "running LSTM Captioning 2 ...\n"
     ]
    },
    {
     "name": "stderr",
     "output_type": "stream",
     "text": [
      "16it [00:05,  2.87it/s]\n",
      "16it [00:05,  2.87it/s]\n",
      "16it [00:05,  2.87it/s]\n",
      "16it [00:05,  2.87it/s]\n",
      "16it [00:05,  2.87it/s]\n",
      "16it [00:05,  2.87it/s]\n",
      "16it [00:05,  2.87it/s]\n",
      "16it [00:05,  2.87it/s]\n",
      "16it [00:05,  2.87it/s]\n",
      "16it [00:05,  2.87it/s]\n",
      "16it [00:05,  2.86it/s]\n",
      "16it [00:05,  2.87it/s]\n",
      "16it [00:05,  2.86it/s]\n",
      "16it [00:05,  2.87it/s]\n",
      "16it [00:05,  2.87it/s]\n",
      "16it [00:05,  2.87it/s]\n",
      "16it [00:05,  2.87it/s]\n",
      "16it [00:05,  2.87it/s]\n",
      "16it [00:05,  2.87it/s]\n",
      "16it [00:05,  2.87it/s]\n",
      "16it [00:05,  2.87it/s]\n",
      "16it [00:05,  2.87it/s]\n",
      "16it [00:05,  2.86it/s]\n"
     ]
    },
    {
     "name": "stdout",
     "output_type": "stream",
     "text": [
      "running CBOW 0 ...\n"
     ]
    },
    {
     "name": "stderr",
     "output_type": "stream",
     "text": [
      "16it [00:00, 236.49it/s]\n",
      "16it [00:00, 248.63it/s]\n",
      "16it [00:00, 229.82it/s]\n",
      "16it [00:00, 229.31it/s]\n",
      "16it [00:00, 237.10it/s]\n",
      "16it [00:00, 232.14it/s]\n",
      "16it [00:00, 225.25it/s]\n",
      "16it [00:00, 236.25it/s]\n",
      "16it [00:00, 225.45it/s]\n",
      "16it [00:00, 247.69it/s]\n",
      "16it [00:00, 208.15it/s]\n",
      "16it [00:00, 225.86it/s]\n",
      "16it [00:00, 198.71it/s]\n",
      "16it [00:00, 209.58it/s]\n",
      "16it [00:00, 206.92it/s]\n",
      "16it [00:00, 216.29it/s]\n",
      "16it [00:00, 219.71it/s]\n",
      "16it [00:00, 234.86it/s]\n",
      "16it [00:00, 239.45it/s]\n",
      "16it [00:00, 239.92it/s]\n",
      "16it [00:00, 234.72it/s]\n",
      "16it [00:00, 225.86it/s]\n",
      "16it [00:00, 213.74it/s]\n"
     ]
    },
    {
     "name": "stdout",
     "output_type": "stream",
     "text": [
      "running CBOW 1 ...\n"
     ]
    },
    {
     "name": "stderr",
     "output_type": "stream",
     "text": [
      "16it [00:00, 247.62it/s]\n",
      "16it [00:00, 244.86it/s]\n",
      "16it [00:00, 236.12it/s]\n",
      "16it [00:00, 237.86it/s]\n",
      "16it [00:00, 240.83it/s]\n",
      "16it [00:00, 250.68it/s]\n",
      "16it [00:00, 239.47it/s]\n",
      "16it [00:00, 253.77it/s]\n",
      "16it [00:00, 243.93it/s]\n",
      "16it [00:00, 274.51it/s]\n",
      "16it [00:00, 220.41it/s]\n",
      "16it [00:00, 241.22it/s]\n",
      "16it [00:00, 209.97it/s]\n",
      "16it [00:00, 217.93it/s]\n",
      "16it [00:00, 221.68it/s]\n",
      "16it [00:00, 228.79it/s]\n",
      "16it [00:00, 220.62it/s]\n",
      "16it [00:00, 231.59it/s]\n",
      "16it [00:00, 237.68it/s]\n",
      "16it [00:00, 238.11it/s]\n",
      "16it [00:00, 235.66it/s]\n",
      "16it [00:00, 228.95it/s]\n",
      "16it [00:00, 215.77it/s]\n"
     ]
    },
    {
     "name": "stdout",
     "output_type": "stream",
     "text": [
      "running CBOW 2 ...\n"
     ]
    },
    {
     "name": "stderr",
     "output_type": "stream",
     "text": [
      "16it [00:00, 244.58it/s]\n",
      "16it [00:00, 251.03it/s]\n",
      "16it [00:00, 234.93it/s]\n",
      "16it [00:00, 237.33it/s]\n",
      "16it [00:00, 239.78it/s]\n",
      "16it [00:00, 253.26it/s]\n",
      "16it [00:00, 240.63it/s]\n",
      "16it [00:00, 256.63it/s]\n",
      "16it [00:00, 244.27it/s]\n",
      "16it [00:00, 276.23it/s]\n",
      "16it [00:00, 223.38it/s]\n",
      "16it [00:00, 246.76it/s]\n",
      "16it [00:00, 212.80it/s]\n",
      "16it [00:00, 223.98it/s]\n",
      "16it [00:00, 221.74it/s]\n",
      "16it [00:00, 229.50it/s]\n",
      "16it [00:00, 221.66it/s]\n",
      "16it [00:00, 230.22it/s]\n",
      "16it [00:00, 239.28it/s]\n",
      "16it [00:00, 239.06it/s]\n",
      "16it [00:00, 232.73it/s]\n",
      "16it [00:00, 228.94it/s]\n",
      "16it [00:00, 214.13it/s]\n"
     ]
    },
    {
     "name": "stdout",
     "output_type": "stream",
     "text": [
      "running 1-gram ...\n"
     ]
    },
    {
     "name": "stderr",
     "output_type": "stream",
     "text": [
      "16it [00:01, 14.64it/s]\n",
      "16it [00:01, 14.84it/s]\n",
      "16it [00:01, 14.14it/s]\n",
      "16it [00:01, 14.22it/s]\n",
      "16it [00:01, 14.52it/s]\n",
      "16it [00:01, 14.79it/s]\n",
      "16it [00:01, 14.42it/s]\n",
      "16it [00:01, 14.86it/s]\n",
      "16it [00:01, 14.50it/s]\n",
      "16it [00:01, 15.54it/s]\n",
      "16it [00:01, 13.88it/s]\n",
      "16it [00:01, 14.47it/s]\n",
      "16it [00:01, 13.46it/s]\n",
      "16it [00:01, 13.81it/s]\n",
      "16it [00:01, 13.81it/s]\n",
      "16it [00:01, 14.13it/s]\n",
      "16it [00:01, 13.83it/s]\n",
      "16it [00:01, 14.17it/s]\n",
      "16it [00:01, 14.37it/s]\n",
      "16it [00:01, 14.39it/s]\n",
      "16it [00:01, 14.16it/s]\n",
      "16it [00:01, 13.94it/s]\n",
      "16it [00:01, 13.52it/s]\n"
     ]
    },
    {
     "name": "stdout",
     "output_type": "stream",
     "text": [
      "running 2-gram ...\n"
     ]
    },
    {
     "name": "stderr",
     "output_type": "stream",
     "text": [
      "16it [00:01, 14.49it/s]\n",
      "16it [00:01, 14.53it/s]\n",
      "16it [00:01, 13.99it/s]\n",
      "16it [00:01, 14.06it/s]\n",
      "16it [00:01, 14.41it/s]\n",
      "16it [00:01, 14.44it/s]\n",
      "16it [00:01, 14.28it/s]\n",
      "16it [00:01, 14.69it/s]\n",
      "16it [00:01, 14.37it/s]\n",
      "16it [00:01, 15.33it/s]\n",
      "16it [00:01, 13.58it/s]\n",
      "16it [00:01, 14.22it/s]\n",
      "16it [00:01, 13.05it/s]\n",
      "16it [00:01, 13.64it/s]\n",
      "16it [00:01, 13.71it/s]\n",
      "16it [00:01, 13.98it/s]\n",
      "16it [00:01, 13.71it/s]\n",
      "16it [00:01, 13.91it/s]\n",
      "16it [00:01, 14.21it/s]\n",
      "16it [00:01, 14.28it/s]\n",
      "16it [00:01, 14.03it/s]\n",
      "16it [00:01, 13.92it/s]\n",
      "16it [00:01, 13.36it/s]\n"
     ]
    }
   ],
   "source": [
    "loss_dfs = {\n",
    "    data_name: pd.DataFrame(np.zeros((len(dataset), 0)))\n",
    "    for data_name, dataset in datasets.items()\n",
    "}\n",
    "\n",
    "\n",
    "saycam_model_format = 'SAYCam {}'.format\n",
    "\n",
    "my_groups = {saycam_model_format(name): list(map(saycam_model_format, group)) for name, group in groups.items()}\n",
    "\n",
    "for model_name, model in ori_models.items():\n",
    "    print(f'running {model_name} ...')\n",
    "    saycam_model_name = saycam_model_format(model_name)\n",
    "    for data_name, dataset in datasets.items():\n",
    "        if not dataset:\n",
    "            continue\n",
    "        dataloader = DataLoader(\n",
    "            dataset,\n",
    "            collate_fn=collate_fn,\n",
    "            shuffle=False,\n",
    "            batch_size=my_batch_size,\n",
    "            drop_last=False,\n",
    "        )\n",
    "        batches = map(prepend_image_placeholder_for_batch, dataloader)\n",
    "        losses = get_model_losses_on_data_batches(model, batches, use_tqdm=True)\n",
    "        losses = losses.cpu().numpy()\n",
    "        loss_dfs[data_name][saycam_model_name] = losses\n",
    "\n",
    "for probing_results_dir in Path('/misc/vlgscratch4/LakeGroup/wentao/BabyBERTa/probing_results/babyberta').glob('*'):\n",
    "    model_name = probing_results_dir.name\n",
    "    if model_name not in ['BabyBERTa_AO-CHILDES', 'BabyBERTa_AO-CHILDES+AO-Newselsa+Wikipedia-1'][:1]:\n",
    "        continue\n",
    "    name_, _, dataset_ = model_name.partition('_')\n",
    "    model_name = dataset_ + ' ' + 'Transformer'\n",
    "    my_groups[model_name] = [model_name]\n",
    "    for file in probing_results_dir.glob('*'):\n",
    "        paradigm_name = file.stem\n",
    "        data_name = get_data_name_from_paradigm_name(paradigm_name)\n",
    "        sentences, losses = zip(*read_sentences_and_losses(file))\n",
    "        loss_dfs[data_name][model_name] = losses"
   ]
  },
  {
   "cell_type": "code",
   "execution_count": 7,
   "id": "a6012cd0",
   "metadata": {},
   "outputs": [],
   "source": [
    "def get_common_substr_len(strs, index_fn=lambda l: l):\n",
    "    l = 0\n",
    "    l_last_space = -1\n",
    "    while True:\n",
    "        try:\n",
    "            c = None\n",
    "            for s in strs:\n",
    "                cur_c = s[index_fn(l)]\n",
    "                if c is None:\n",
    "                    c = cur_c\n",
    "                assert c == cur_c\n",
    "        except (IndexError, AssertionError):\n",
    "            break\n",
    "        if c == ' ':\n",
    "            l_last_space = l\n",
    "        l += 1\n",
    "    return l_last_space + 1\n",
    "\n",
    "\n",
    "def get_sentence_pair_str(sentence_pair):\n",
    "    strs = list(map(str, sentence_pair))\n",
    "    prefix_len = get_common_substr_len(strs)\n",
    "    suffix_len = get_common_substr_len(strs, lambda l: -l-1)\n",
    "    return strs[0][:prefix_len] + '(' + '/'.join(reversed([s[prefix_len:-suffix_len] for s in strs])) + ')' + strs[0][-suffix_len:]\n",
    "\n",
    "\n",
    "def get_sentence_pair_example(sentence_pairs):\n",
    "    return min(map(get_sentence_pair_str, sentence_pairs), key=len)\n",
    "\n",
    "\n",
    "data_examples = {}\n",
    "for data_name, sentences in zorro_data.items():\n",
    "    sentence_pairs = pd.Series(paired(sentences))[filter_masks[data_name]]\n",
    "    if len(sentence_pairs):\n",
    "        example_str = get_sentence_pair_example(sentence_pairs)\n",
    "\n",
    "        # remove the space before the last punctuation\n",
    "        if example_str[-2] == ' ':\n",
    "            example_str = example_str[:-2] + example_str[-1:]\n",
    "\n",
    "        data_examples[data_name] = example_str\n",
    "\n",
    "phenomenon_examples = defaultdict(list)\n",
    "for data_name, example_str in data_examples.items():\n",
    "    phenomenon_examples[data_name[0]].append(example_str)\n",
    "phenomenon_examples = {phenomenon: min(examples, key=len) for phenomenon, examples in phenomenon_examples.items()}"
   ]
  },
  {
   "cell_type": "code",
   "execution_count": 8,
   "id": "7ea2e560",
   "metadata": {
    "scrolled": true
   },
   "outputs": [
    {
     "data": {
      "text/html": [
       "<div>\n",
       "<style scoped>\n",
       "    .dataframe tbody tr th:only-of-type {\n",
       "        vertical-align: middle;\n",
       "    }\n",
       "\n",
       "    .dataframe tbody tr th {\n",
       "        vertical-align: top;\n",
       "    }\n",
       "\n",
       "    .dataframe thead th {\n",
       "        text-align: right;\n",
       "    }\n",
       "</style>\n",
       "<table border=\"1\" class=\"dataframe\">\n",
       "  <thead>\n",
       "    <tr style=\"text-align: right;\">\n",
       "      <th></th>\n",
       "      <th></th>\n",
       "      <th>SAYCam LSTM</th>\n",
       "      <th>SAYCam LSTM Captioning</th>\n",
       "      <th>SAYCam CBOW</th>\n",
       "      <th>SAYCam unigram</th>\n",
       "      <th>SAYCam bigram</th>\n",
       "      <th>AO-CHILDES Transformer</th>\n",
       "    </tr>\n",
       "    <tr>\n",
       "      <th>phenomenon</th>\n",
       "      <th>paradigm</th>\n",
       "      <th></th>\n",
       "      <th></th>\n",
       "      <th></th>\n",
       "      <th></th>\n",
       "      <th></th>\n",
       "      <th></th>\n",
       "    </tr>\n",
       "  </thead>\n",
       "  <tbody>\n",
       "    <tr>\n",
       "      <th rowspan=\"3\" valign=\"top\">argument structure</th>\n",
       "      <th>dropped argument</th>\n",
       "      <td>0.778104</td>\n",
       "      <td>0.732160</td>\n",
       "      <td>0.671554</td>\n",
       "      <td>0.419355</td>\n",
       "      <td>0.686217</td>\n",
       "      <td>0.695015</td>\n",
       "    </tr>\n",
       "    <tr>\n",
       "      <th>swapped arguments</th>\n",
       "      <td>0.985507</td>\n",
       "      <td>0.950221</td>\n",
       "      <td>0.998110</td>\n",
       "      <td>0.111531</td>\n",
       "      <td>0.982987</td>\n",
       "      <td>0.967864</td>\n",
       "    </tr>\n",
       "    <tr>\n",
       "      <th>transitive</th>\n",
       "      <td>0.630208</td>\n",
       "      <td>0.626736</td>\n",
       "      <td>0.616319</td>\n",
       "      <td>0.502604</td>\n",
       "      <td>0.598958</td>\n",
       "      <td>0.705729</td>\n",
       "    </tr>\n",
       "    <tr>\n",
       "      <th>case</th>\n",
       "      <th>subjective pronoun</th>\n",
       "      <td>0.946237</td>\n",
       "      <td>0.876028</td>\n",
       "      <td>0.994307</td>\n",
       "      <td>0.079696</td>\n",
       "      <td>1.000000</td>\n",
       "      <td>0.960152</td>\n",
       "    </tr>\n",
       "    <tr>\n",
       "      <th rowspan=\"2\" valign=\"top\">determiner-noun agreement</th>\n",
       "      <th>across 1 adjective</th>\n",
       "      <td>0.648882</td>\n",
       "      <td>0.649898</td>\n",
       "      <td>0.410061</td>\n",
       "      <td>0.500000</td>\n",
       "      <td>0.500000</td>\n",
       "      <td>0.963415</td>\n",
       "    </tr>\n",
       "    <tr>\n",
       "      <th>between neighbors</th>\n",
       "      <td>0.705628</td>\n",
       "      <td>0.711580</td>\n",
       "      <td>0.812771</td>\n",
       "      <td>0.500000</td>\n",
       "      <td>0.662338</td>\n",
       "      <td>0.980519</td>\n",
       "    </tr>\n",
       "    <tr>\n",
       "      <th>local attractor</th>\n",
       "      <th>in question with aux</th>\n",
       "      <td>0.808333</td>\n",
       "      <td>0.792361</td>\n",
       "      <td>0.630556</td>\n",
       "      <td>0.877083</td>\n",
       "      <td>0.870833</td>\n",
       "      <td>0.968750</td>\n",
       "    </tr>\n",
       "    <tr>\n",
       "      <th rowspan=\"2\" valign=\"top\">npi licensing</th>\n",
       "      <th>matrix question</th>\n",
       "      <td>0.512478</td>\n",
       "      <td>0.581105</td>\n",
       "      <td>0.336898</td>\n",
       "      <td>0.005348</td>\n",
       "      <td>0.628342</td>\n",
       "      <td>0.711230</td>\n",
       "    </tr>\n",
       "    <tr>\n",
       "      <th>only npi licensor</th>\n",
       "      <td>0.931707</td>\n",
       "      <td>0.876423</td>\n",
       "      <td>0.804878</td>\n",
       "      <td>1.000000</td>\n",
       "      <td>0.829268</td>\n",
       "      <td>0.570732</td>\n",
       "    </tr>\n",
       "    <tr>\n",
       "      <th rowspan=\"2\" valign=\"top\">quantifiers</th>\n",
       "      <th>existential there</th>\n",
       "      <td>0.966851</td>\n",
       "      <td>0.979742</td>\n",
       "      <td>0.736648</td>\n",
       "      <td>0.839779</td>\n",
       "      <td>0.900552</td>\n",
       "      <td>0.994475</td>\n",
       "    </tr>\n",
       "    <tr>\n",
       "      <th>superlative</th>\n",
       "      <td>0.544326</td>\n",
       "      <td>0.780142</td>\n",
       "      <td>0.774823</td>\n",
       "      <td>1.000000</td>\n",
       "      <td>0.648936</td>\n",
       "      <td>0.957447</td>\n",
       "    </tr>\n",
       "    <tr>\n",
       "      <th rowspan=\"4\" valign=\"top\">subject-verb agreement</th>\n",
       "      <th>across prepositional phrase</th>\n",
       "      <td>0.529167</td>\n",
       "      <td>0.525000</td>\n",
       "      <td>0.500000</td>\n",
       "      <td>0.500000</td>\n",
       "      <td>0.475000</td>\n",
       "      <td>0.756250</td>\n",
       "    </tr>\n",
       "    <tr>\n",
       "      <th>across relative clause</th>\n",
       "      <td>0.559524</td>\n",
       "      <td>0.536341</td>\n",
       "      <td>0.500000</td>\n",
       "      <td>0.500000</td>\n",
       "      <td>0.500000</td>\n",
       "      <td>0.812030</td>\n",
       "    </tr>\n",
       "    <tr>\n",
       "      <th>in question with aux</th>\n",
       "      <td>0.565476</td>\n",
       "      <td>0.560714</td>\n",
       "      <td>0.480952</td>\n",
       "      <td>0.500000</td>\n",
       "      <td>0.482143</td>\n",
       "      <td>0.907143</td>\n",
       "    </tr>\n",
       "    <tr>\n",
       "      <th>in simple question</th>\n",
       "      <td>0.614434</td>\n",
       "      <td>0.605662</td>\n",
       "      <td>0.424242</td>\n",
       "      <td>0.500000</td>\n",
       "      <td>0.492823</td>\n",
       "      <td>0.964115</td>\n",
       "    </tr>\n",
       "  </tbody>\n",
       "</table>\n",
       "</div>"
      ],
      "text/plain": [
       "                                                       SAYCam LSTM  SAYCam LSTM Captioning  SAYCam CBOW  \\\n",
       "phenomenon                paradigm                                                                        \n",
       "argument structure        dropped argument                0.778104                0.732160     0.671554   \n",
       "                          swapped arguments               0.985507                0.950221     0.998110   \n",
       "                          transitive                      0.630208                0.626736     0.616319   \n",
       "case                      subjective pronoun              0.946237                0.876028     0.994307   \n",
       "determiner-noun agreement across 1 adjective              0.648882                0.649898     0.410061   \n",
       "                          between neighbors               0.705628                0.711580     0.812771   \n",
       "local attractor           in question with aux            0.808333                0.792361     0.630556   \n",
       "npi licensing             matrix question                 0.512478                0.581105     0.336898   \n",
       "                          only npi licensor               0.931707                0.876423     0.804878   \n",
       "quantifiers               existential there               0.966851                0.979742     0.736648   \n",
       "                          superlative                     0.544326                0.780142     0.774823   \n",
       "subject-verb agreement    across prepositional phrase     0.529167                0.525000     0.500000   \n",
       "                          across relative clause          0.559524                0.536341     0.500000   \n",
       "                          in question with aux            0.565476                0.560714     0.480952   \n",
       "                          in simple question              0.614434                0.605662     0.424242   \n",
       "\n",
       "                                                       SAYCam unigram  SAYCam bigram  AO-CHILDES Transformer  \n",
       "phenomenon                paradigm                                                                            \n",
       "argument structure        dropped argument                   0.419355       0.686217                0.695015  \n",
       "                          swapped arguments                  0.111531       0.982987                0.967864  \n",
       "                          transitive                         0.502604       0.598958                0.705729  \n",
       "case                      subjective pronoun                 0.079696       1.000000                0.960152  \n",
       "determiner-noun agreement across 1 adjective                 0.500000       0.500000                0.963415  \n",
       "                          between neighbors                  0.500000       0.662338                0.980519  \n",
       "local attractor           in question with aux               0.877083       0.870833                0.968750  \n",
       "npi licensing             matrix question                    0.005348       0.628342                0.711230  \n",
       "                          only npi licensor                  1.000000       0.829268                0.570732  \n",
       "quantifiers               existential there                  0.839779       0.900552                0.994475  \n",
       "                          superlative                        1.000000       0.648936                0.957447  \n",
       "subject-verb agreement    across prepositional phrase        0.500000       0.475000                0.756250  \n",
       "                          across relative clause             0.500000       0.500000                0.812030  \n",
       "                          in question with aux               0.500000       0.482143                0.907143  \n",
       "                          in simple question                 0.500000       0.492823                0.964115  "
      ]
     },
     "metadata": {},
     "output_type": "display_data"
    },
    {
     "data": {
      "text/html": [
       "<div>\n",
       "<style scoped>\n",
       "    .dataframe tbody tr th:only-of-type {\n",
       "        vertical-align: middle;\n",
       "    }\n",
       "\n",
       "    .dataframe tbody tr th {\n",
       "        vertical-align: top;\n",
       "    }\n",
       "\n",
       "    .dataframe thead th {\n",
       "        text-align: right;\n",
       "    }\n",
       "</style>\n",
       "<table border=\"1\" class=\"dataframe\">\n",
       "  <thead>\n",
       "    <tr style=\"text-align: right;\">\n",
       "      <th></th>\n",
       "      <th>SAYCam LSTM</th>\n",
       "      <th>SAYCam LSTM Captioning</th>\n",
       "      <th>SAYCam CBOW</th>\n",
       "      <th>SAYCam unigram</th>\n",
       "      <th>SAYCam bigram</th>\n",
       "      <th>AO-CHILDES Transformer</th>\n",
       "    </tr>\n",
       "    <tr>\n",
       "      <th>phenomenon</th>\n",
       "      <th></th>\n",
       "      <th></th>\n",
       "      <th></th>\n",
       "      <th></th>\n",
       "      <th></th>\n",
       "      <th></th>\n",
       "    </tr>\n",
       "  </thead>\n",
       "  <tbody>\n",
       "    <tr>\n",
       "      <th>argument structure</th>\n",
       "      <td>0.797940</td>\n",
       "      <td>0.769706</td>\n",
       "      <td>0.761994</td>\n",
       "      <td>0.344497</td>\n",
       "      <td>0.756054</td>\n",
       "      <td>0.789536</td>\n",
       "    </tr>\n",
       "    <tr>\n",
       "      <th>case</th>\n",
       "      <td>0.946237</td>\n",
       "      <td>0.876028</td>\n",
       "      <td>0.994307</td>\n",
       "      <td>0.079696</td>\n",
       "      <td>1.000000</td>\n",
       "      <td>0.960152</td>\n",
       "    </tr>\n",
       "    <tr>\n",
       "      <th>determiner-noun agreement</th>\n",
       "      <td>0.677255</td>\n",
       "      <td>0.680739</td>\n",
       "      <td>0.611416</td>\n",
       "      <td>0.500000</td>\n",
       "      <td>0.581169</td>\n",
       "      <td>0.971967</td>\n",
       "    </tr>\n",
       "    <tr>\n",
       "      <th>local attractor</th>\n",
       "      <td>0.808333</td>\n",
       "      <td>0.792361</td>\n",
       "      <td>0.630556</td>\n",
       "      <td>0.877083</td>\n",
       "      <td>0.870833</td>\n",
       "      <td>0.968750</td>\n",
       "    </tr>\n",
       "    <tr>\n",
       "      <th>npi licensing</th>\n",
       "      <td>0.722093</td>\n",
       "      <td>0.728764</td>\n",
       "      <td>0.570888</td>\n",
       "      <td>0.502674</td>\n",
       "      <td>0.728805</td>\n",
       "      <td>0.640981</td>\n",
       "    </tr>\n",
       "    <tr>\n",
       "      <th>quantifiers</th>\n",
       "      <td>0.755589</td>\n",
       "      <td>0.879942</td>\n",
       "      <td>0.755735</td>\n",
       "      <td>0.919890</td>\n",
       "      <td>0.774744</td>\n",
       "      <td>0.975961</td>\n",
       "    </tr>\n",
       "    <tr>\n",
       "      <th>subject-verb agreement</th>\n",
       "      <td>0.567150</td>\n",
       "      <td>0.556929</td>\n",
       "      <td>0.476299</td>\n",
       "      <td>0.500000</td>\n",
       "      <td>0.487491</td>\n",
       "      <td>0.859884</td>\n",
       "    </tr>\n",
       "  </tbody>\n",
       "</table>\n",
       "</div>"
      ],
      "text/plain": [
       "                           SAYCam LSTM  SAYCam LSTM Captioning  SAYCam CBOW  SAYCam unigram  SAYCam bigram  \\\n",
       "phenomenon                                                                                                   \n",
       "argument structure            0.797940                0.769706     0.761994        0.344497       0.756054   \n",
       "case                          0.946237                0.876028     0.994307        0.079696       1.000000   \n",
       "determiner-noun agreement     0.677255                0.680739     0.611416        0.500000       0.581169   \n",
       "local attractor               0.808333                0.792361     0.630556        0.877083       0.870833   \n",
       "npi licensing                 0.722093                0.728764     0.570888        0.502674       0.728805   \n",
       "quantifiers                   0.755589                0.879942     0.755735        0.919890       0.774744   \n",
       "subject-verb agreement        0.567150                0.556929     0.476299        0.500000       0.487491   \n",
       "\n",
       "                           AO-CHILDES Transformer  \n",
       "phenomenon                                         \n",
       "argument structure                       0.789536  \n",
       "case                                     0.960152  \n",
       "determiner-noun agreement                0.971967  \n",
       "local attractor                          0.968750  \n",
       "npi licensing                            0.640981  \n",
       "quantifiers                              0.975961  \n",
       "subject-verb agreement                   0.859884  "
      ]
     },
     "metadata": {},
     "output_type": "display_data"
    },
    {
     "data": {
      "text/plain": [
       "SAYCam LSTM               0.715124\n",
       "SAYCam LSTM Captioning    0.718941\n",
       "SAYCam CBOW               0.646141\n",
       "SAYCam unigram            0.522360\n",
       "SAYCam bigram             0.683893\n",
       "AO-CHILDES Transformer    0.860991\n",
       "dtype: float64"
      ]
     },
     "metadata": {},
     "output_type": "display_data"
    },
    {
     "data": {
      "text/html": [
       "<div>\n",
       "<style scoped>\n",
       "    .dataframe tbody tr th:only-of-type {\n",
       "        vertical-align: middle;\n",
       "    }\n",
       "\n",
       "    .dataframe tbody tr th {\n",
       "        vertical-align: top;\n",
       "    }\n",
       "\n",
       "    .dataframe thead th {\n",
       "        text-align: right;\n",
       "    }\n",
       "</style>\n",
       "<table border=\"1\" class=\"dataframe\">\n",
       "  <thead>\n",
       "    <tr style=\"text-align: right;\">\n",
       "      <th></th>\n",
       "      <th>phenomenon</th>\n",
       "      <th>paradigm</th>\n",
       "      <th>idx</th>\n",
       "      <th>model</th>\n",
       "      <th>accuracy</th>\n",
       "      <th>phenomenon paradigm</th>\n",
       "    </tr>\n",
       "  </thead>\n",
       "  <tbody>\n",
       "    <tr>\n",
       "      <th>0</th>\n",
       "      <td>determiner-noun agreement</td>\n",
       "      <td>across 1 adjective</td>\n",
       "      <td>0</td>\n",
       "      <td>SAYCam LSTM</td>\n",
       "      <td>0.000000</td>\n",
       "      <td>determiner-noun agreement\\nacross 1 adjective</td>\n",
       "    </tr>\n",
       "    <tr>\n",
       "      <th>1</th>\n",
       "      <td>determiner-noun agreement</td>\n",
       "      <td>across 1 adjective</td>\n",
       "      <td>1</td>\n",
       "      <td>SAYCam LSTM</td>\n",
       "      <td>0.333333</td>\n",
       "      <td>determiner-noun agreement\\nacross 1 adjective</td>\n",
       "    </tr>\n",
       "    <tr>\n",
       "      <th>2</th>\n",
       "      <td>determiner-noun agreement</td>\n",
       "      <td>across 1 adjective</td>\n",
       "      <td>2</td>\n",
       "      <td>SAYCam LSTM</td>\n",
       "      <td>0.666667</td>\n",
       "      <td>determiner-noun agreement\\nacross 1 adjective</td>\n",
       "    </tr>\n",
       "    <tr>\n",
       "      <th>3</th>\n",
       "      <td>determiner-noun agreement</td>\n",
       "      <td>across 1 adjective</td>\n",
       "      <td>3</td>\n",
       "      <td>SAYCam LSTM</td>\n",
       "      <td>0.666667</td>\n",
       "      <td>determiner-noun agreement\\nacross 1 adjective</td>\n",
       "    </tr>\n",
       "    <tr>\n",
       "      <th>4</th>\n",
       "      <td>determiner-noun agreement</td>\n",
       "      <td>across 1 adjective</td>\n",
       "      <td>4</td>\n",
       "      <td>SAYCam LSTM</td>\n",
       "      <td>0.333333</td>\n",
       "      <td>determiner-noun agreement\\nacross 1 adjective</td>\n",
       "    </tr>\n",
       "    <tr>\n",
       "      <th>...</th>\n",
       "      <td>...</td>\n",
       "      <td>...</td>\n",
       "      <td>...</td>\n",
       "      <td>...</td>\n",
       "      <td>...</td>\n",
       "      <td>...</td>\n",
       "    </tr>\n",
       "    <tr>\n",
       "      <th>39649</th>\n",
       "      <td>quantifiers</td>\n",
       "      <td>superlative</td>\n",
       "      <td>1972</td>\n",
       "      <td>AO-CHILDES Transformer</td>\n",
       "      <td>1.000000</td>\n",
       "      <td>quantifiers\\nsuperlative</td>\n",
       "    </tr>\n",
       "    <tr>\n",
       "      <th>39650</th>\n",
       "      <td>quantifiers</td>\n",
       "      <td>superlative</td>\n",
       "      <td>1974</td>\n",
       "      <td>AO-CHILDES Transformer</td>\n",
       "      <td>1.000000</td>\n",
       "      <td>quantifiers\\nsuperlative</td>\n",
       "    </tr>\n",
       "    <tr>\n",
       "      <th>39651</th>\n",
       "      <td>quantifiers</td>\n",
       "      <td>superlative</td>\n",
       "      <td>1980</td>\n",
       "      <td>AO-CHILDES Transformer</td>\n",
       "      <td>1.000000</td>\n",
       "      <td>quantifiers\\nsuperlative</td>\n",
       "    </tr>\n",
       "    <tr>\n",
       "      <th>39652</th>\n",
       "      <td>quantifiers</td>\n",
       "      <td>superlative</td>\n",
       "      <td>1981</td>\n",
       "      <td>AO-CHILDES Transformer</td>\n",
       "      <td>1.000000</td>\n",
       "      <td>quantifiers\\nsuperlative</td>\n",
       "    </tr>\n",
       "    <tr>\n",
       "      <th>39653</th>\n",
       "      <td>quantifiers</td>\n",
       "      <td>superlative</td>\n",
       "      <td>1984</td>\n",
       "      <td>AO-CHILDES Transformer</td>\n",
       "      <td>1.000000</td>\n",
       "      <td>quantifiers\\nsuperlative</td>\n",
       "    </tr>\n",
       "  </tbody>\n",
       "</table>\n",
       "<p>39654 rows × 6 columns</p>\n",
       "</div>"
      ],
      "text/plain": [
       "                      phenomenon            paradigm   idx                   model  accuracy  \\\n",
       "0      determiner-noun agreement  across 1 adjective     0             SAYCam LSTM  0.000000   \n",
       "1      determiner-noun agreement  across 1 adjective     1             SAYCam LSTM  0.333333   \n",
       "2      determiner-noun agreement  across 1 adjective     2             SAYCam LSTM  0.666667   \n",
       "3      determiner-noun agreement  across 1 adjective     3             SAYCam LSTM  0.666667   \n",
       "4      determiner-noun agreement  across 1 adjective     4             SAYCam LSTM  0.333333   \n",
       "...                          ...                 ...   ...                     ...       ...   \n",
       "39649                quantifiers         superlative  1972  AO-CHILDES Transformer  1.000000   \n",
       "39650                quantifiers         superlative  1974  AO-CHILDES Transformer  1.000000   \n",
       "39651                quantifiers         superlative  1980  AO-CHILDES Transformer  1.000000   \n",
       "39652                quantifiers         superlative  1981  AO-CHILDES Transformer  1.000000   \n",
       "39653                quantifiers         superlative  1984  AO-CHILDES Transformer  1.000000   \n",
       "\n",
       "                                 phenomenon paradigm  \n",
       "0      determiner-noun agreement\\nacross 1 adjective  \n",
       "1      determiner-noun agreement\\nacross 1 adjective  \n",
       "2      determiner-noun agreement\\nacross 1 adjective  \n",
       "3      determiner-noun agreement\\nacross 1 adjective  \n",
       "4      determiner-noun agreement\\nacross 1 adjective  \n",
       "...                                              ...  \n",
       "39649                       quantifiers\\nsuperlative  \n",
       "39650                       quantifiers\\nsuperlative  \n",
       "39651                       quantifiers\\nsuperlative  \n",
       "39652                       quantifiers\\nsuperlative  \n",
       "39653                       quantifiers\\nsuperlative  \n",
       "\n",
       "[39654 rows x 6 columns]"
      ]
     },
     "metadata": {},
     "output_type": "display_data"
    },
    {
     "name": "stderr",
     "output_type": "stream",
     "text": [
      "/home/ww2135/.local/lib/python3.9/site-packages/seaborn/axisgrid.py:745: FutureWarning: iteritems is deprecated and will be removed in a future version. Use .items instead.\n",
      "  plot_args = [v for k, v in plot_data.iteritems()]\n"
     ]
    },
    {
     "name": "stdout",
     "output_type": "stream",
     "text": [
      "saving plot Syntactic Probing Accuracy on Paradigms\n"
     ]
    },
    {
     "name": "stderr",
     "output_type": "stream",
     "text": [
      "/home/ww2135/.local/lib/python3.9/site-packages/seaborn/axisgrid.py:745: FutureWarning: iteritems is deprecated and will be removed in a future version. Use .items instead.\n",
      "  plot_args = [v for k, v in plot_data.iteritems()]\n"
     ]
    },
    {
     "name": "stdout",
     "output_type": "stream",
     "text": [
      "saving plot Syntactic Probing Accuracy Mean on Phenomena Over Paradigms\n"
     ]
    },
    {
     "name": "stderr",
     "output_type": "stream",
     "text": [
      "/home/ww2135/.local/lib/python3.9/site-packages/seaborn/axisgrid.py:745: FutureWarning: iteritems is deprecated and will be removed in a future version. Use .items instead.\n",
      "  plot_args = [v for k, v in plot_data.iteritems()]\n"
     ]
    },
    {
     "name": "stdout",
     "output_type": "stream",
     "text": [
      "saving plot Syntactic Probing Accuracy Mean Over Paradigms\n",
      "comparing ('argument structure', 'dropped argument') (341 / 2000.0 = 17.05%):\n"
     ]
    },
    {
     "data": {
      "text/plain": [
       "SAYCam LSTM               0.778104\n",
       "SAYCam LSTM Captioning    0.732160\n",
       "SAYCam CBOW               0.671554\n",
       "SAYCam unigram            0.419355\n",
       "SAYCam bigram             0.686217\n",
       "AO-CHILDES Transformer    0.695015\n",
       "Name: (argument structure, dropped argument), dtype: float64"
      ]
     },
     "metadata": {},
     "output_type": "display_data"
    },
    {
     "name": "stdout",
     "output_type": "stream",
     "text": [
      "the boat looks at some .\n",
      "the boat looks at me .\n"
     ]
    },
    {
     "data": {
      "text/plain": [
       "SAYCam LSTM 0     True\n",
       "SAYCam 1-gram    False\n",
       "SAYCam 2-gram     True\n",
       "SAYCam CBOW 0     True\n",
       "Name: 2, dtype: bool"
      ]
     },
     "metadata": {},
     "output_type": "display_data"
    },
    {
     "name": "stdout",
     "output_type": "stream",
     "text": [
      "the boat saw me by .\n",
      "the boat saw me there .\n"
     ]
    },
    {
     "data": {
      "text/plain": [
       "SAYCam LSTM 0     True\n",
       "SAYCam 1-gram     True\n",
       "SAYCam 2-gram     True\n",
       "SAYCam CBOW 0    False\n",
       "Name: 8, dtype: bool"
      ]
     },
     "metadata": {},
     "output_type": "display_data"
    },
    {
     "name": "stdout",
     "output_type": "stream",
     "text": [
      "the boat looks at my .\n",
      "the boat looks at him .\n"
     ]
    },
    {
     "data": {
      "text/plain": [
       "SAYCam LSTM 0     True\n",
       "SAYCam 1-gram    False\n",
       "SAYCam 2-gram     True\n",
       "SAYCam CBOW 0     True\n",
       "Name: 40, dtype: bool"
      ]
     },
     "metadata": {},
     "output_type": "display_data"
    },
    {
     "name": "stdout",
     "output_type": "stream",
     "text": [
      "some doctor saw her by .\n",
      "some doctor saw her there .\n"
     ]
    },
    {
     "data": {
      "text/plain": [
       "SAYCam LSTM 0     True\n",
       "SAYCam 1-gram     True\n",
       "SAYCam 2-gram     True\n",
       "SAYCam CBOW 0    False\n",
       "Name: 60, dtype: bool"
      ]
     },
     "metadata": {},
     "output_type": "display_data"
    },
    {
     "name": "stdout",
     "output_type": "stream",
     "text": [
      "a boat told you about a .\n",
      "a boat told you about that .\n"
     ]
    },
    {
     "data": {
      "text/plain": [
       "SAYCam LSTM 0     True\n",
       "SAYCam 1-gram    False\n",
       "SAYCam 2-gram     True\n",
       "SAYCam CBOW 0     True\n",
       "Name: 62, dtype: bool"
      ]
     },
     "metadata": {},
     "output_type": "display_data"
    },
    {
     "name": "stdout",
     "output_type": "stream",
     "text": [
      "one pig changed a .\n",
      "one pig changed him .\n"
     ]
    },
    {
     "data": {
      "text/plain": [
       "SAYCam LSTM 0     True\n",
       "SAYCam 1-gram    False\n",
       "SAYCam 2-gram    False\n",
       "SAYCam CBOW 0     True\n",
       "Name: 72, dtype: bool"
      ]
     },
     "metadata": {},
     "output_type": "display_data"
    },
    {
     "name": "stdout",
     "output_type": "stream",
     "text": [
      "one boat asked them about .\n",
      "one boat asked about them .\n"
     ]
    },
    {
     "data": {
      "text/plain": [
       "SAYCam LSTM 0     True\n",
       "SAYCam 1-gram    False\n",
       "SAYCam 2-gram     True\n",
       "SAYCam CBOW 0     True\n",
       "Name: 75, dtype: bool"
      ]
     },
     "metadata": {},
     "output_type": "display_data"
    },
    {
     "name": "stdout",
     "output_type": "stream",
     "text": [
      "my pig asked me about .\n",
      "my pig asked about me .\n"
     ]
    },
    {
     "data": {
      "text/plain": [
       "SAYCam LSTM 0     True\n",
       "SAYCam 1-gram    False\n",
       "SAYCam 2-gram    False\n",
       "SAYCam CBOW 0     True\n",
       "Name: 85, dtype: bool"
      ]
     },
     "metadata": {},
     "output_type": "display_data"
    },
    {
     "name": "stdout",
     "output_type": "stream",
     "text": [
      "his boat looks at some .\n",
      "his boat looks at you .\n"
     ]
    },
    {
     "data": {
      "text/plain": [
       "SAYCam LSTM 0     True\n",
       "SAYCam 1-gram     True\n",
       "SAYCam 2-gram     True\n",
       "SAYCam CBOW 0    False\n",
       "Name: 93, dtype: bool"
      ]
     },
     "metadata": {},
     "output_type": "display_data"
    },
    {
     "name": "stdout",
     "output_type": "stream",
     "text": [
      "some boat told you about the .\n",
      "some boat told you about that .\n"
     ]
    },
    {
     "data": {
      "text/plain": [
       "SAYCam LSTM 0     True\n",
       "SAYCam 1-gram    False\n",
       "SAYCam 2-gram     True\n",
       "SAYCam CBOW 0     True\n",
       "Name: 106, dtype: bool"
      ]
     },
     "metadata": {},
     "output_type": "display_data"
    },
    {
     "name": "stdout",
     "output_type": "stream",
     "text": [
      "his dinosaur plays with his .\n",
      "his dinosaur plays with him .\n"
     ]
    },
    {
     "data": {
      "text/plain": [
       "SAYCam LSTM 0     True\n",
       "SAYCam 1-gram    False\n",
       "SAYCam 2-gram     True\n",
       "SAYCam CBOW 0     True\n",
       "Name: 120, dtype: bool"
      ]
     },
     "metadata": {},
     "output_type": "display_data"
    },
    {
     "name": "stdout",
     "output_type": "stream",
     "text": [
      "some boat works when .\n",
      "some boat works well .\n"
     ]
    },
    {
     "data": {
      "text/plain": [
       "SAYCam LSTM 0     True\n",
       "SAYCam 1-gram     True\n",
       "SAYCam 2-gram     True\n",
       "SAYCam CBOW 0    False\n",
       "Name: 123, dtype: bool"
      ]
     },
     "metadata": {},
     "output_type": "display_data"
    },
    {
     "name": "stdout",
     "output_type": "stream",
     "text": [
      "some dinosaur plays with a .\n",
      "some dinosaur plays with them .\n"
     ]
    },
    {
     "data": {
      "text/plain": [
       "SAYCam LSTM 0     True\n",
       "SAYCam 1-gram    False\n",
       "SAYCam 2-gram     True\n",
       "SAYCam CBOW 0     True\n",
       "Name: 136, dtype: bool"
      ]
     },
     "metadata": {},
     "output_type": "display_data"
    },
    {
     "name": "stdout",
     "output_type": "stream",
     "text": [
      "a doctor works and .\n",
      "a doctor works well .\n"
     ]
    },
    {
     "data": {
      "text/plain": [
       "SAYCam LSTM 0     True\n",
       "SAYCam 1-gram    False\n",
       "SAYCam 2-gram     True\n",
       "SAYCam CBOW 0     True\n",
       "Name: 141, dtype: bool"
      ]
     },
     "metadata": {},
     "output_type": "display_data"
    },
    {
     "name": "stdout",
     "output_type": "stream",
     "text": [
      "my boat wanted to .\n",
      "my boat wanted me .\n"
     ]
    },
    {
     "data": {
      "text/plain": [
       "SAYCam LSTM 0     True\n",
       "SAYCam 1-gram    False\n",
       "SAYCam 2-gram    False\n",
       "SAYCam CBOW 0    False\n",
       "Name: 157, dtype: bool"
      ]
     },
     "metadata": {},
     "output_type": "display_data"
    },
    {
     "name": "stdout",
     "output_type": "stream",
     "text": [
      "my boat works but .\n",
      "my boat works well .\n"
     ]
    },
    {
     "data": {
      "text/plain": [
       "SAYCam LSTM 0     True\n",
       "SAYCam 1-gram    False\n",
       "SAYCam 2-gram     True\n",
       "SAYCam CBOW 0     True\n",
       "Name: 166, dtype: bool"
      ]
     },
     "metadata": {},
     "output_type": "display_data"
    },
    {
     "name": "stdout",
     "output_type": "stream",
     "text": [
      "the pig changed some .\n",
      "the pig changed me .\n"
     ]
    },
    {
     "data": {
      "text/plain": [
       "SAYCam LSTM 0     True\n",
       "SAYCam 1-gram    False\n",
       "SAYCam 2-gram     True\n",
       "SAYCam CBOW 0     True\n",
       "Name: 181, dtype: bool"
      ]
     },
     "metadata": {},
     "output_type": "display_data"
    },
    {
     "name": "stdout",
     "output_type": "stream",
     "text": [
      "his doctor changed one .\n",
      "his doctor changed me .\n"
     ]
    },
    {
     "data": {
      "text/plain": [
       "SAYCam LSTM 0     True\n",
       "SAYCam 1-gram    False\n",
       "SAYCam 2-gram    False\n",
       "SAYCam CBOW 0    False\n",
       "Name: 194, dtype: bool"
      ]
     },
     "metadata": {},
     "output_type": "display_data"
    },
    {
     "name": "stdout",
     "output_type": "stream",
     "text": [
      "one doctor wanted to .\n",
      "one doctor wanted them .\n"
     ]
    },
    {
     "data": {
      "text/plain": [
       "SAYCam LSTM 0     True\n",
       "SAYCam 1-gram    False\n",
       "SAYCam 2-gram    False\n",
       "SAYCam CBOW 0    False\n",
       "Name: 196, dtype: bool"
      ]
     },
     "metadata": {},
     "output_type": "display_data"
    },
    {
     "name": "stdout",
     "output_type": "stream",
     "text": [
      "the dinosaur looks at some .\n",
      "the dinosaur looks at you .\n"
     ]
    },
    {
     "data": {
      "text/plain": [
       "SAYCam LSTM 0     True\n",
       "SAYCam 1-gram     True\n",
       "SAYCam 2-gram     True\n",
       "SAYCam CBOW 0    False\n",
       "Name: 199, dtype: bool"
      ]
     },
     "metadata": {},
     "output_type": "display_data"
    },
    {
     "name": "stdout",
     "output_type": "stream",
     "text": [
      "his boat works but .\n",
      "his boat works well .\n"
     ]
    },
    {
     "data": {
      "text/plain": [
       "SAYCam LSTM 0     True\n",
       "SAYCam 1-gram    False\n",
       "SAYCam 2-gram     True\n",
       "SAYCam CBOW 0     True\n",
       "Name: 201, dtype: bool"
      ]
     },
     "metadata": {},
     "output_type": "display_data"
    },
    {
     "name": "stdout",
     "output_type": "stream",
     "text": [
      "the pig looks at some .\n",
      "the pig looks at him .\n"
     ]
    },
    {
     "data": {
      "text/plain": [
       "SAYCam LSTM 0     True\n",
       "SAYCam 1-gram    False\n",
       "SAYCam 2-gram     True\n",
       "SAYCam CBOW 0     True\n",
       "Name: 203, dtype: bool"
      ]
     },
     "metadata": {},
     "output_type": "display_data"
    },
    {
     "name": "stdout",
     "output_type": "stream",
     "text": [
      "a doctor looks at some .\n",
      "a doctor looks at you .\n"
     ]
    },
    {
     "data": {
      "text/plain": [
       "SAYCam LSTM 0     True\n",
       "SAYCam 1-gram     True\n",
       "SAYCam 2-gram     True\n",
       "SAYCam CBOW 0    False\n",
       "Name: 235, dtype: bool"
      ]
     },
     "metadata": {},
     "output_type": "display_data"
    },
    {
     "name": "stdout",
     "output_type": "stream",
     "text": [
      "the dinosaur looks at one .\n",
      "the dinosaur looks at them .\n"
     ]
    },
    {
     "data": {
      "text/plain": [
       "SAYCam LSTM 0     True\n",
       "SAYCam 1-gram    False\n",
       "SAYCam 2-gram     True\n",
       "SAYCam CBOW 0     True\n",
       "Name: 261, dtype: bool"
      ]
     },
     "metadata": {},
     "output_type": "display_data"
    },
    {
     "name": "stdout",
     "output_type": "stream",
     "text": [
      "a boat works but .\n",
      "a boat works well .\n"
     ]
    },
    {
     "data": {
      "text/plain": [
       "SAYCam LSTM 0     True\n",
       "SAYCam 1-gram    False\n",
       "SAYCam 2-gram     True\n",
       "SAYCam CBOW 0     True\n",
       "Name: 302, dtype: bool"
      ]
     },
     "metadata": {},
     "output_type": "display_data"
    },
    {
     "name": "stdout",
     "output_type": "stream",
     "text": [
      "the doctor plays with my .\n",
      "the doctor plays with him .\n"
     ]
    },
    {
     "data": {
      "text/plain": [
       "SAYCam LSTM 0     True\n",
       "SAYCam 1-gram    False\n",
       "SAYCam 2-gram     True\n",
       "SAYCam CBOW 0     True\n",
       "Name: 322, dtype: bool"
      ]
     },
     "metadata": {},
     "output_type": "display_data"
    },
    {
     "name": "stdout",
     "output_type": "stream",
     "text": [
      "the doctor works when .\n",
      "the doctor works well .\n"
     ]
    },
    {
     "data": {
      "text/plain": [
       "SAYCam LSTM 0     True\n",
       "SAYCam 1-gram     True\n",
       "SAYCam 2-gram     True\n",
       "SAYCam CBOW 0    False\n",
       "Name: 324, dtype: bool"
      ]
     },
     "metadata": {},
     "output_type": "display_data"
    },
    {
     "name": "stdout",
     "output_type": "stream",
     "text": [
      "my dinosaur looks at one .\n",
      "my dinosaur looks at me .\n"
     ]
    },
    {
     "data": {
      "text/plain": [
       "SAYCam LSTM 0     True\n",
       "SAYCam 1-gram    False\n",
       "SAYCam 2-gram     True\n",
       "SAYCam CBOW 0     True\n",
       "Name: 330, dtype: bool"
      ]
     },
     "metadata": {},
     "output_type": "display_data"
    },
    {
     "name": "stdout",
     "output_type": "stream",
     "text": [
      "a dinosaur asked them about .\n",
      "a dinosaur asked about them .\n"
     ]
    },
    {
     "data": {
      "text/plain": [
       "SAYCam LSTM 0     True\n",
       "SAYCam 1-gram    False\n",
       "SAYCam 2-gram     True\n",
       "SAYCam CBOW 0     True\n",
       "Name: 367, dtype: bool"
      ]
     },
     "metadata": {},
     "output_type": "display_data"
    },
    {
     "name": "stdout",
     "output_type": "stream",
     "text": [
      "a boat asked him about .\n",
      "a boat asked about him .\n"
     ]
    },
    {
     "data": {
      "text/plain": [
       "SAYCam LSTM 0     True\n",
       "SAYCam 1-gram    False\n",
       "SAYCam 2-gram     True\n",
       "SAYCam CBOW 0     True\n",
       "Name: 376, dtype: bool"
      ]
     },
     "metadata": {},
     "output_type": "display_data"
    },
    {
     "name": "stdout",
     "output_type": "stream",
     "text": [
      "his boat looks at some .\n",
      "his boat looks at him .\n"
     ]
    },
    {
     "data": {
      "text/plain": [
       "SAYCam LSTM 0     True\n",
       "SAYCam 1-gram    False\n",
       "SAYCam 2-gram     True\n",
       "SAYCam CBOW 0     True\n",
       "Name: 400, dtype: bool"
      ]
     },
     "metadata": {},
     "output_type": "display_data"
    },
    {
     "name": "stdout",
     "output_type": "stream",
     "text": [
      "one dinosaur looks at a .\n",
      "one dinosaur looks at her .\n"
     ]
    },
    {
     "data": {
      "text/plain": [
       "SAYCam LSTM 0     True\n",
       "SAYCam 1-gram    False\n",
       "SAYCam 2-gram    False\n",
       "SAYCam CBOW 0     True\n",
       "Name: 418, dtype: bool"
      ]
     },
     "metadata": {},
     "output_type": "display_data"
    },
    {
     "name": "stdout",
     "output_type": "stream",
     "text": [
      "some dinosaur works but .\n",
      "some dinosaur works well .\n"
     ]
    },
    {
     "data": {
      "text/plain": [
       "SAYCam LSTM 0     True\n",
       "SAYCam 1-gram    False\n",
       "SAYCam 2-gram     True\n",
       "SAYCam CBOW 0     True\n",
       "Name: 437, dtype: bool"
      ]
     },
     "metadata": {},
     "output_type": "display_data"
    },
    {
     "name": "stdout",
     "output_type": "stream",
     "text": [
      "my dinosaur asked them about .\n",
      "my dinosaur asked about them .\n"
     ]
    },
    {
     "data": {
      "text/plain": [
       "SAYCam LSTM 0     True\n",
       "SAYCam 1-gram    False\n",
       "SAYCam 2-gram     True\n",
       "SAYCam CBOW 0     True\n",
       "Name: 442, dtype: bool"
      ]
     },
     "metadata": {},
     "output_type": "display_data"
    },
    {
     "name": "stdout",
     "output_type": "stream",
     "text": [
      "one dinosaur plays with some .\n",
      "one dinosaur plays with you .\n"
     ]
    },
    {
     "data": {
      "text/plain": [
       "SAYCam LSTM 0     True\n",
       "SAYCam 1-gram     True\n",
       "SAYCam 2-gram     True\n",
       "SAYCam CBOW 0    False\n",
       "Name: 445, dtype: bool"
      ]
     },
     "metadata": {},
     "output_type": "display_data"
    },
    {
     "name": "stdout",
     "output_type": "stream",
     "text": [
      "a doctor saw him by .\n",
      "a doctor saw him there .\n"
     ]
    },
    {
     "data": {
      "text/plain": [
       "SAYCam LSTM 0     True\n",
       "SAYCam 1-gram     True\n",
       "SAYCam 2-gram     True\n",
       "SAYCam CBOW 0    False\n",
       "Name: 454, dtype: bool"
      ]
     },
     "metadata": {},
     "output_type": "display_data"
    },
    {
     "name": "stdout",
     "output_type": "stream",
     "text": [
      "my boat plays with his .\n",
      "my boat plays with her .\n"
     ]
    },
    {
     "data": {
      "text/plain": [
       "SAYCam LSTM 0     True\n",
       "SAYCam 1-gram    False\n",
       "SAYCam 2-gram    False\n",
       "SAYCam CBOW 0     True\n",
       "Name: 491, dtype: bool"
      ]
     },
     "metadata": {},
     "output_type": "display_data"
    },
    {
     "name": "stdout",
     "output_type": "stream",
     "text": [
      "his dinosaur asked me about .\n",
      "his dinosaur asked about me .\n"
     ]
    },
    {
     "data": {
      "text/plain": [
       "SAYCam LSTM 0     True\n",
       "SAYCam 1-gram    False\n",
       "SAYCam 2-gram    False\n",
       "SAYCam CBOW 0     True\n",
       "Name: 502, dtype: bool"
      ]
     },
     "metadata": {},
     "output_type": "display_data"
    },
    {
     "name": "stdout",
     "output_type": "stream",
     "text": [
      "one boat plays with his .\n",
      "one boat plays with him .\n"
     ]
    },
    {
     "data": {
      "text/plain": [
       "SAYCam LSTM 0     True\n",
       "SAYCam 1-gram    False\n",
       "SAYCam 2-gram     True\n",
       "SAYCam CBOW 0     True\n",
       "Name: 514, dtype: bool"
      ]
     },
     "metadata": {},
     "output_type": "display_data"
    },
    {
     "name": "stdout",
     "output_type": "stream",
     "text": [
      "some doctor asked her about .\n",
      "some doctor asked about her .\n"
     ]
    },
    {
     "data": {
      "text/plain": [
       "SAYCam LSTM 0     True\n",
       "SAYCam 1-gram    False\n",
       "SAYCam 2-gram     True\n",
       "SAYCam CBOW 0    False\n",
       "Name: 516, dtype: bool"
      ]
     },
     "metadata": {},
     "output_type": "display_data"
    },
    {
     "name": "stdout",
     "output_type": "stream",
     "text": [
      "some doctor changed some .\n",
      "some doctor changed me .\n"
     ]
    },
    {
     "data": {
      "text/plain": [
       "SAYCam LSTM 0     True\n",
       "SAYCam 1-gram    False\n",
       "SAYCam 2-gram     True\n",
       "SAYCam CBOW 0     True\n",
       "Name: 535, dtype: bool"
      ]
     },
     "metadata": {},
     "output_type": "display_data"
    },
    {
     "name": "stdout",
     "output_type": "stream",
     "text": [
      "a pig changed my .\n",
      "a pig changed them .\n"
     ]
    },
    {
     "data": {
      "text/plain": [
       "SAYCam LSTM 0     True\n",
       "SAYCam 1-gram    False\n",
       "SAYCam 2-gram     True\n",
       "SAYCam CBOW 0     True\n",
       "Name: 544, dtype: bool"
      ]
     },
     "metadata": {},
     "output_type": "display_data"
    },
    {
     "name": "stdout",
     "output_type": "stream",
     "text": [
      "some boat plays with my .\n",
      "some boat plays with him .\n"
     ]
    },
    {
     "data": {
      "text/plain": [
       "SAYCam LSTM 0     True\n",
       "SAYCam 1-gram    False\n",
       "SAYCam 2-gram     True\n",
       "SAYCam CBOW 0     True\n",
       "Name: 548, dtype: bool"
      ]
     },
     "metadata": {},
     "output_type": "display_data"
    },
    {
     "name": "stdout",
     "output_type": "stream",
     "text": [
      "the dinosaur changed a .\n",
      "the dinosaur changed me .\n"
     ]
    },
    {
     "data": {
      "text/plain": [
       "SAYCam LSTM 0     True\n",
       "SAYCam 1-gram    False\n",
       "SAYCam 2-gram     True\n",
       "SAYCam CBOW 0     True\n",
       "Name: 609, dtype: bool"
      ]
     },
     "metadata": {},
     "output_type": "display_data"
    },
    {
     "name": "stdout",
     "output_type": "stream",
     "text": [
      "his boat told him about a .\n",
      "his boat told him about that .\n"
     ]
    },
    {
     "data": {
      "text/plain": [
       "SAYCam LSTM 0     True\n",
       "SAYCam 1-gram    False\n",
       "SAYCam 2-gram     True\n",
       "SAYCam CBOW 0     True\n",
       "Name: 633, dtype: bool"
      ]
     },
     "metadata": {},
     "output_type": "display_data"
    },
    {
     "name": "stdout",
     "output_type": "stream",
     "text": [
      "my boat asked them about .\n",
      "my boat asked about them .\n"
     ]
    },
    {
     "data": {
      "text/plain": [
       "SAYCam LSTM 0     True\n",
       "SAYCam 1-gram    False\n",
       "SAYCam 2-gram     True\n",
       "SAYCam CBOW 0     True\n",
       "Name: 641, dtype: bool"
      ]
     },
     "metadata": {},
     "output_type": "display_data"
    },
    {
     "name": "stdout",
     "output_type": "stream",
     "text": [
      "some dinosaur changed one .\n",
      "some dinosaur changed them .\n"
     ]
    },
    {
     "data": {
      "text/plain": [
       "SAYCam LSTM 0     True\n",
       "SAYCam 1-gram    False\n",
       "SAYCam 2-gram    False\n",
       "SAYCam CBOW 0     True\n",
       "Name: 642, dtype: bool"
      ]
     },
     "metadata": {},
     "output_type": "display_data"
    },
    {
     "name": "stdout",
     "output_type": "stream",
     "text": [
      "one pig plays with some .\n",
      "one pig plays with me .\n"
     ]
    },
    {
     "data": {
      "text/plain": [
       "SAYCam LSTM 0     True\n",
       "SAYCam 1-gram    False\n",
       "SAYCam 2-gram     True\n",
       "SAYCam CBOW 0     True\n",
       "Name: 648, dtype: bool"
      ]
     },
     "metadata": {},
     "output_type": "display_data"
    },
    {
     "name": "stdout",
     "output_type": "stream",
     "text": [
      "some boat saw him by .\n",
      "some boat saw him there .\n"
     ]
    },
    {
     "data": {
      "text/plain": [
       "SAYCam LSTM 0     True\n",
       "SAYCam 1-gram     True\n",
       "SAYCam 2-gram     True\n",
       "SAYCam CBOW 0    False\n",
       "Name: 649, dtype: bool"
      ]
     },
     "metadata": {},
     "output_type": "display_data"
    },
    {
     "name": "stdout",
     "output_type": "stream",
     "text": [
      "the dinosaur changed some .\n",
      "the dinosaur changed them .\n"
     ]
    },
    {
     "data": {
      "text/plain": [
       "SAYCam LSTM 0     True\n",
       "SAYCam 1-gram    False\n",
       "SAYCam 2-gram     True\n",
       "SAYCam CBOW 0     True\n",
       "Name: 687, dtype: bool"
      ]
     },
     "metadata": {},
     "output_type": "display_data"
    },
    {
     "name": "stdout",
     "output_type": "stream",
     "text": [
      "one doctor changed a .\n",
      "one doctor changed him .\n"
     ]
    },
    {
     "data": {
      "text/plain": [
       "SAYCam LSTM 0     True\n",
       "SAYCam 1-gram    False\n",
       "SAYCam 2-gram    False\n",
       "SAYCam CBOW 0     True\n",
       "Name: 689, dtype: bool"
      ]
     },
     "metadata": {},
     "output_type": "display_data"
    },
    {
     "name": "stdout",
     "output_type": "stream",
     "text": [
      "the boat works with .\n",
      "the boat works well .\n"
     ]
    },
    {
     "data": {
      "text/plain": [
       "SAYCam LSTM 0     True\n",
       "SAYCam 1-gram    False\n",
       "SAYCam 2-gram    False\n",
       "SAYCam CBOW 0    False\n",
       "Name: 692, dtype: bool"
      ]
     },
     "metadata": {},
     "output_type": "display_data"
    },
    {
     "name": "stdout",
     "output_type": "stream",
     "text": [
      "my pig plays with some .\n",
      "my pig plays with me .\n"
     ]
    },
    {
     "data": {
      "text/plain": [
       "SAYCam LSTM 0     True\n",
       "SAYCam 1-gram    False\n",
       "SAYCam 2-gram     True\n",
       "SAYCam CBOW 0     True\n",
       "Name: 702, dtype: bool"
      ]
     },
     "metadata": {},
     "output_type": "display_data"
    },
    {
     "name": "stdout",
     "output_type": "stream",
     "text": [
      "one doctor told you about the .\n",
      "one doctor told you about that .\n"
     ]
    },
    {
     "data": {
      "text/plain": [
       "SAYCam LSTM 0     True\n",
       "SAYCam 1-gram    False\n",
       "SAYCam 2-gram     True\n",
       "SAYCam CBOW 0     True\n",
       "Name: 703, dtype: bool"
      ]
     },
     "metadata": {},
     "output_type": "display_data"
    },
    {
     "name": "stdout",
     "output_type": "stream",
     "text": [
      "a boat saw me by .\n",
      "a boat saw me there .\n"
     ]
    },
    {
     "data": {
      "text/plain": [
       "SAYCam LSTM 0     True\n",
       "SAYCam 1-gram     True\n",
       "SAYCam 2-gram     True\n",
       "SAYCam CBOW 0    False\n",
       "Name: 719, dtype: bool"
      ]
     },
     "metadata": {},
     "output_type": "display_data"
    },
    {
     "name": "stdout",
     "output_type": "stream",
     "text": [
      "my pig looks at a .\n",
      "my pig looks at them .\n"
     ]
    },
    {
     "data": {
      "text/plain": [
       "SAYCam LSTM 0     True\n",
       "SAYCam 1-gram    False\n",
       "SAYCam 2-gram     True\n",
       "SAYCam CBOW 0     True\n",
       "Name: 723, dtype: bool"
      ]
     },
     "metadata": {},
     "output_type": "display_data"
    },
    {
     "name": "stdout",
     "output_type": "stream",
     "text": [
      "some doctor saw him by .\n",
      "some doctor saw him there .\n"
     ]
    },
    {
     "data": {
      "text/plain": [
       "SAYCam LSTM 0     True\n",
       "SAYCam 1-gram     True\n",
       "SAYCam 2-gram     True\n",
       "SAYCam CBOW 0    False\n",
       "Name: 726, dtype: bool"
      ]
     },
     "metadata": {},
     "output_type": "display_data"
    },
    {
     "name": "stdout",
     "output_type": "stream",
     "text": [
      "my doctor wanted to .\n",
      "my doctor wanted me .\n"
     ]
    },
    {
     "data": {
      "text/plain": [
       "SAYCam LSTM 0     True\n",
       "SAYCam 1-gram    False\n",
       "SAYCam 2-gram    False\n",
       "SAYCam CBOW 0    False\n",
       "Name: 736, dtype: bool"
      ]
     },
     "metadata": {},
     "output_type": "display_data"
    },
    {
     "name": "stdout",
     "output_type": "stream",
     "text": [
      "my pig works when .\n",
      "my pig works well .\n"
     ]
    },
    {
     "data": {
      "text/plain": [
       "SAYCam LSTM 0     True\n",
       "SAYCam 1-gram     True\n",
       "SAYCam 2-gram     True\n",
       "SAYCam CBOW 0    False\n",
       "Name: 740, dtype: bool"
      ]
     },
     "metadata": {},
     "output_type": "display_data"
    },
    {
     "name": "stdout",
     "output_type": "stream",
     "text": [
      "my boat saw me by .\n",
      "my boat saw me there .\n"
     ]
    },
    {
     "data": {
      "text/plain": [
       "SAYCam LSTM 0     True\n",
       "SAYCam 1-gram     True\n",
       "SAYCam 2-gram     True\n",
       "SAYCam CBOW 0    False\n",
       "Name: 756, dtype: bool"
      ]
     },
     "metadata": {},
     "output_type": "display_data"
    },
    {
     "name": "stdout",
     "output_type": "stream",
     "text": [
      "a boat looks at one .\n",
      "a boat looks at me .\n"
     ]
    },
    {
     "data": {
      "text/plain": [
       "SAYCam LSTM 0     True\n",
       "SAYCam 1-gram    False\n",
       "SAYCam 2-gram     True\n",
       "SAYCam CBOW 0     True\n",
       "Name: 764, dtype: bool"
      ]
     },
     "metadata": {},
     "output_type": "display_data"
    },
    {
     "name": "stdout",
     "output_type": "stream",
     "text": [
      "his dinosaur works when .\n",
      "his dinosaur works well .\n"
     ]
    },
    {
     "data": {
      "text/plain": [
       "SAYCam LSTM 0     True\n",
       "SAYCam 1-gram     True\n",
       "SAYCam 2-gram     True\n",
       "SAYCam CBOW 0    False\n",
       "Name: 770, dtype: bool"
      ]
     },
     "metadata": {},
     "output_type": "display_data"
    },
    {
     "name": "stdout",
     "output_type": "stream",
     "text": [
      "his pig looks at some .\n",
      "his pig looks at you .\n"
     ]
    },
    {
     "data": {
      "text/plain": [
       "SAYCam LSTM 0     True\n",
       "SAYCam 1-gram     True\n",
       "SAYCam 2-gram     True\n",
       "SAYCam CBOW 0    False\n",
       "Name: 785, dtype: bool"
      ]
     },
     "metadata": {},
     "output_type": "display_data"
    },
    {
     "name": "stdout",
     "output_type": "stream",
     "text": [
      "a boat changed one .\n",
      "a boat changed them .\n"
     ]
    },
    {
     "data": {
      "text/plain": [
       "SAYCam LSTM 0     True\n",
       "SAYCam 1-gram    False\n",
       "SAYCam 2-gram    False\n",
       "SAYCam CBOW 0     True\n",
       "Name: 789, dtype: bool"
      ]
     },
     "metadata": {},
     "output_type": "display_data"
    },
    {
     "name": "stdout",
     "output_type": "stream",
     "text": [
      "one doctor plays with some .\n",
      "one doctor plays with him .\n"
     ]
    },
    {
     "data": {
      "text/plain": [
       "SAYCam LSTM 0     True\n",
       "SAYCam 1-gram    False\n",
       "SAYCam 2-gram     True\n",
       "SAYCam CBOW 0     True\n",
       "Name: 804, dtype: bool"
      ]
     },
     "metadata": {},
     "output_type": "display_data"
    },
    {
     "name": "stdout",
     "output_type": "stream",
     "text": [
      "some doctor looks at a .\n",
      "some doctor looks at her .\n"
     ]
    },
    {
     "data": {
      "text/plain": [
       "SAYCam LSTM 0     True\n",
       "SAYCam 1-gram    False\n",
       "SAYCam 2-gram    False\n",
       "SAYCam CBOW 0     True\n",
       "Name: 809, dtype: bool"
      ]
     },
     "metadata": {},
     "output_type": "display_data"
    },
    {
     "name": "stdout",
     "output_type": "stream",
     "text": [
      "one pig plays with my .\n",
      "one pig plays with him .\n"
     ]
    },
    {
     "data": {
      "text/plain": [
       "SAYCam LSTM 0     True\n",
       "SAYCam 1-gram    False\n",
       "SAYCam 2-gram     True\n",
       "SAYCam CBOW 0     True\n",
       "Name: 830, dtype: bool"
      ]
     },
     "metadata": {},
     "output_type": "display_data"
    },
    {
     "name": "stdout",
     "output_type": "stream",
     "text": [
      "a boat plays with his .\n",
      "a boat plays with him .\n"
     ]
    },
    {
     "data": {
      "text/plain": [
       "SAYCam LSTM 0     True\n",
       "SAYCam 1-gram    False\n",
       "SAYCam 2-gram     True\n",
       "SAYCam CBOW 0     True\n",
       "Name: 850, dtype: bool"
      ]
     },
     "metadata": {},
     "output_type": "display_data"
    },
    {
     "name": "stdout",
     "output_type": "stream",
     "text": [
      "some doctor asked me about .\n",
      "some doctor asked about me .\n"
     ]
    },
    {
     "data": {
      "text/plain": [
       "SAYCam LSTM 0     True\n",
       "SAYCam 1-gram    False\n",
       "SAYCam 2-gram    False\n",
       "SAYCam CBOW 0     True\n",
       "Name: 897, dtype: bool"
      ]
     },
     "metadata": {},
     "output_type": "display_data"
    },
    {
     "name": "stdout",
     "output_type": "stream",
     "text": [
      "some doctor works when .\n",
      "some doctor works well .\n"
     ]
    },
    {
     "data": {
      "text/plain": [
       "SAYCam LSTM 0     True\n",
       "SAYCam 1-gram     True\n",
       "SAYCam 2-gram     True\n",
       "SAYCam CBOW 0    False\n",
       "Name: 921, dtype: bool"
      ]
     },
     "metadata": {},
     "output_type": "display_data"
    },
    {
     "name": "stdout",
     "output_type": "stream",
     "text": [
      "one boat asked me about .\n",
      "one boat asked about me .\n"
     ]
    },
    {
     "data": {
      "text/plain": [
       "SAYCam LSTM 0     True\n",
       "SAYCam 1-gram    False\n",
       "SAYCam 2-gram    False\n",
       "SAYCam CBOW 0     True\n",
       "Name: 930, dtype: bool"
      ]
     },
     "metadata": {},
     "output_type": "display_data"
    },
    {
     "name": "stdout",
     "output_type": "stream",
     "text": [
      "his pig works when .\n",
      "his pig works well .\n"
     ]
    },
    {
     "data": {
      "text/plain": [
       "SAYCam LSTM 0     True\n",
       "SAYCam 1-gram     True\n",
       "SAYCam 2-gram     True\n",
       "SAYCam CBOW 0    False\n",
       "Name: 933, dtype: bool"
      ]
     },
     "metadata": {},
     "output_type": "display_data"
    },
    {
     "name": "stdout",
     "output_type": "stream",
     "text": [
      "his pig looks at some .\n",
      "his pig looks at him .\n"
     ]
    },
    {
     "data": {
      "text/plain": [
       "SAYCam LSTM 0     True\n",
       "SAYCam 1-gram    False\n",
       "SAYCam 2-gram     True\n",
       "SAYCam CBOW 0     True\n",
       "Name: 940, dtype: bool"
      ]
     },
     "metadata": {},
     "output_type": "display_data"
    },
    {
     "name": "stdout",
     "output_type": "stream",
     "text": [
      "the boat changed his .\n",
      "the boat changed her .\n"
     ]
    },
    {
     "data": {
      "text/plain": [
       "SAYCam LSTM 0     True\n",
       "SAYCam 1-gram    False\n",
       "SAYCam 2-gram     True\n",
       "SAYCam CBOW 0     True\n",
       "Name: 949, dtype: bool"
      ]
     },
     "metadata": {},
     "output_type": "display_data"
    },
    {
     "name": "stdout",
     "output_type": "stream",
     "text": [
      "his pig saw me by .\n",
      "his pig saw me there .\n"
     ]
    },
    {
     "data": {
      "text/plain": [
       "SAYCam LSTM 0     True\n",
       "SAYCam 1-gram     True\n",
       "SAYCam 2-gram     True\n",
       "SAYCam CBOW 0    False\n",
       "Name: 977, dtype: bool"
      ]
     },
     "metadata": {},
     "output_type": "display_data"
    },
    {
     "name": "stdout",
     "output_type": "stream",
     "text": [
      "my dinosaur works when .\n",
      "my dinosaur works well .\n"
     ]
    },
    {
     "data": {
      "text/plain": [
       "SAYCam LSTM 0     True\n",
       "SAYCam 1-gram     True\n",
       "SAYCam 2-gram     True\n",
       "SAYCam CBOW 0    False\n",
       "Name: 985, dtype: bool"
      ]
     },
     "metadata": {},
     "output_type": "display_data"
    },
    {
     "name": "stdout",
     "output_type": "stream",
     "text": [
      "a doctor looks at one .\n",
      "a doctor looks at me .\n"
     ]
    },
    {
     "data": {
      "text/plain": [
       "SAYCam LSTM 0     True\n",
       "SAYCam 1-gram    False\n",
       "SAYCam 2-gram     True\n",
       "SAYCam CBOW 0     True\n",
       "Name: 990, dtype: bool"
      ]
     },
     "metadata": {},
     "output_type": "display_data"
    },
    {
     "name": "stdout",
     "output_type": "stream",
     "text": [
      "a doctor asked them about .\n",
      "a doctor asked about them .\n"
     ]
    },
    {
     "data": {
      "text/plain": [
       "SAYCam LSTM 0     True\n",
       "SAYCam 1-gram    False\n",
       "SAYCam 2-gram     True\n",
       "SAYCam CBOW 0     True\n",
       "Name: 992, dtype: bool"
      ]
     },
     "metadata": {},
     "output_type": "display_data"
    },
    {
     "name": "stdout",
     "output_type": "stream",
     "text": [
      "some dinosaur changed some .\n",
      "some dinosaur changed me .\n"
     ]
    },
    {
     "data": {
      "text/plain": [
       "SAYCam LSTM 0     True\n",
       "SAYCam 1-gram    False\n",
       "SAYCam 2-gram     True\n",
       "SAYCam CBOW 0     True\n",
       "Name: 997, dtype: bool"
      ]
     },
     "metadata": {},
     "output_type": "display_data"
    },
    {
     "name": "stdout",
     "output_type": "stream",
     "text": [
      "his dinosaur saw him by .\n",
      "his dinosaur saw him there .\n"
     ]
    },
    {
     "data": {
      "text/plain": [
       "SAYCam LSTM 0     True\n",
       "SAYCam 1-gram     True\n",
       "SAYCam 2-gram     True\n",
       "SAYCam CBOW 0    False\n",
       "Name: 999, dtype: bool"
      ]
     },
     "metadata": {},
     "output_type": "display_data"
    },
    {
     "name": "stdout",
     "output_type": "stream",
     "text": [
      "his boat asked him about .\n",
      "his boat asked about him .\n"
     ]
    },
    {
     "data": {
      "text/plain": [
       "SAYCam LSTM 0     True\n",
       "SAYCam 1-gram    False\n",
       "SAYCam 2-gram     True\n",
       "SAYCam CBOW 0     True\n",
       "Name: 1001, dtype: bool"
      ]
     },
     "metadata": {},
     "output_type": "display_data"
    },
    {
     "name": "stdout",
     "output_type": "stream",
     "text": [
      "some boat plays with his .\n",
      "some boat plays with her .\n"
     ]
    },
    {
     "data": {
      "text/plain": [
       "SAYCam LSTM 0     True\n",
       "SAYCam 1-gram    False\n",
       "SAYCam 2-gram    False\n",
       "SAYCam CBOW 0     True\n",
       "Name: 1005, dtype: bool"
      ]
     },
     "metadata": {},
     "output_type": "display_data"
    },
    {
     "name": "stdout",
     "output_type": "stream",
     "text": [
      "the dinosaur works when .\n",
      "the dinosaur works well .\n"
     ]
    },
    {
     "data": {
      "text/plain": [
       "SAYCam LSTM 0     True\n",
       "SAYCam 1-gram     True\n",
       "SAYCam 2-gram     True\n",
       "SAYCam CBOW 0    False\n",
       "Name: 1018, dtype: bool"
      ]
     },
     "metadata": {},
     "output_type": "display_data"
    },
    {
     "name": "stdout",
     "output_type": "stream",
     "text": [
      "the dinosaur asked you about .\n",
      "the dinosaur asked about you .\n"
     ]
    },
    {
     "data": {
      "text/plain": [
       "SAYCam LSTM 0     True\n",
       "SAYCam 1-gram    False\n",
       "SAYCam 2-gram     True\n",
       "SAYCam CBOW 0     True\n",
       "Name: 1027, dtype: bool"
      ]
     },
     "metadata": {},
     "output_type": "display_data"
    },
    {
     "name": "stdout",
     "output_type": "stream",
     "text": [
      "one boat looks at one .\n",
      "one boat looks at you .\n"
     ]
    },
    {
     "data": {
      "text/plain": [
       "SAYCam LSTM 0     True\n",
       "SAYCam 1-gram     True\n",
       "SAYCam 2-gram     True\n",
       "SAYCam CBOW 0    False\n",
       "Name: 1058, dtype: bool"
      ]
     },
     "metadata": {},
     "output_type": "display_data"
    },
    {
     "name": "stdout",
     "output_type": "stream",
     "text": [
      "a boat plays with his .\n",
      "a boat plays with her .\n"
     ]
    },
    {
     "data": {
      "text/plain": [
       "SAYCam LSTM 0     True\n",
       "SAYCam 1-gram    False\n",
       "SAYCam 2-gram    False\n",
       "SAYCam CBOW 0     True\n",
       "Name: 1064, dtype: bool"
      ]
     },
     "metadata": {},
     "output_type": "display_data"
    },
    {
     "name": "stdout",
     "output_type": "stream",
     "text": [
      "one pig asked you about .\n",
      "one pig asked about you .\n"
     ]
    },
    {
     "data": {
      "text/plain": [
       "SAYCam LSTM 0     True\n",
       "SAYCam 1-gram    False\n",
       "SAYCam 2-gram     True\n",
       "SAYCam CBOW 0     True\n",
       "Name: 1085, dtype: bool"
      ]
     },
     "metadata": {},
     "output_type": "display_data"
    },
    {
     "name": "stdout",
     "output_type": "stream",
     "text": [
      "some boat saw her by .\n",
      "some boat saw her there .\n"
     ]
    },
    {
     "data": {
      "text/plain": [
       "SAYCam LSTM 0     True\n",
       "SAYCam 1-gram     True\n",
       "SAYCam 2-gram     True\n",
       "SAYCam CBOW 0    False\n",
       "Name: 1120, dtype: bool"
      ]
     },
     "metadata": {},
     "output_type": "display_data"
    },
    {
     "name": "stdout",
     "output_type": "stream",
     "text": [
      "the doctor told him about a .\n",
      "the doctor told him about that .\n"
     ]
    },
    {
     "data": {
      "text/plain": [
       "SAYCam LSTM 0     True\n",
       "SAYCam 1-gram    False\n",
       "SAYCam 2-gram     True\n",
       "SAYCam CBOW 0     True\n",
       "Name: 1143, dtype: bool"
      ]
     },
     "metadata": {},
     "output_type": "display_data"
    },
    {
     "name": "stdout",
     "output_type": "stream",
     "text": [
      "the dinosaur saw him by .\n",
      "the dinosaur saw him there .\n"
     ]
    },
    {
     "data": {
      "text/plain": [
       "SAYCam LSTM 0     True\n",
       "SAYCam 1-gram     True\n",
       "SAYCam 2-gram     True\n",
       "SAYCam CBOW 0    False\n",
       "Name: 1170, dtype: bool"
      ]
     },
     "metadata": {},
     "output_type": "display_data"
    },
    {
     "name": "stdout",
     "output_type": "stream",
     "text": [
      "some dinosaur looks at some .\n",
      "some dinosaur looks at him .\n"
     ]
    },
    {
     "data": {
      "text/plain": [
       "SAYCam LSTM 0     True\n",
       "SAYCam 1-gram    False\n",
       "SAYCam 2-gram     True\n",
       "SAYCam CBOW 0     True\n",
       "Name: 1184, dtype: bool"
      ]
     },
     "metadata": {},
     "output_type": "display_data"
    },
    {
     "name": "stdout",
     "output_type": "stream",
     "text": [
      "some doctor told them about a .\n",
      "some doctor told them about that .\n"
     ]
    },
    {
     "data": {
      "text/plain": [
       "SAYCam LSTM 0     True\n",
       "SAYCam 1-gram    False\n",
       "SAYCam 2-gram     True\n",
       "SAYCam CBOW 0     True\n",
       "Name: 1209, dtype: bool"
      ]
     },
     "metadata": {},
     "output_type": "display_data"
    },
    {
     "name": "stdout",
     "output_type": "stream",
     "text": [
      "a dinosaur saw him by .\n",
      "a dinosaur saw him there .\n"
     ]
    },
    {
     "data": {
      "text/plain": [
       "SAYCam LSTM 0     True\n",
       "SAYCam 1-gram     True\n",
       "SAYCam 2-gram     True\n",
       "SAYCam CBOW 0    False\n",
       "Name: 1221, dtype: bool"
      ]
     },
     "metadata": {},
     "output_type": "display_data"
    },
    {
     "name": "stdout",
     "output_type": "stream",
     "text": [
      "my boat looks at one .\n",
      "my boat looks at me .\n"
     ]
    },
    {
     "data": {
      "text/plain": [
       "SAYCam LSTM 0     True\n",
       "SAYCam 1-gram    False\n",
       "SAYCam 2-gram     True\n",
       "SAYCam CBOW 0     True\n",
       "Name: 1245, dtype: bool"
      ]
     },
     "metadata": {},
     "output_type": "display_data"
    },
    {
     "name": "stdout",
     "output_type": "stream",
     "text": [
      "his dinosaur changed my .\n",
      "his dinosaur changed them .\n"
     ]
    },
    {
     "data": {
      "text/plain": [
       "SAYCam LSTM 0     True\n",
       "SAYCam 1-gram    False\n",
       "SAYCam 2-gram     True\n",
       "SAYCam CBOW 0     True\n",
       "Name: 1253, dtype: bool"
      ]
     },
     "metadata": {},
     "output_type": "display_data"
    },
    {
     "name": "stdout",
     "output_type": "stream",
     "text": [
      "his dinosaur changed some .\n",
      "his dinosaur changed me .\n"
     ]
    },
    {
     "data": {
      "text/plain": [
       "SAYCam LSTM 0     True\n",
       "SAYCam 1-gram    False\n",
       "SAYCam 2-gram     True\n",
       "SAYCam CBOW 0     True\n",
       "Name: 1282, dtype: bool"
      ]
     },
     "metadata": {},
     "output_type": "display_data"
    },
    {
     "name": "stdout",
     "output_type": "stream",
     "text": [
      "his doctor asked them about .\n",
      "his doctor asked about them .\n"
     ]
    },
    {
     "data": {
      "text/plain": [
       "SAYCam LSTM 0     True\n",
       "SAYCam 1-gram    False\n",
       "SAYCam 2-gram     True\n",
       "SAYCam CBOW 0     True\n",
       "Name: 1303, dtype: bool"
      ]
     },
     "metadata": {},
     "output_type": "display_data"
    },
    {
     "name": "stdout",
     "output_type": "stream",
     "text": [
      "some dinosaur asked them about .\n",
      "some dinosaur asked about them .\n"
     ]
    },
    {
     "data": {
      "text/plain": [
       "SAYCam LSTM 0     True\n",
       "SAYCam 1-gram    False\n",
       "SAYCam 2-gram     True\n",
       "SAYCam CBOW 0     True\n",
       "Name: 1323, dtype: bool"
      ]
     },
     "metadata": {},
     "output_type": "display_data"
    },
    {
     "name": "stdout",
     "output_type": "stream",
     "text": [
      "a boat saw her by .\n",
      "a boat saw her there .\n"
     ]
    },
    {
     "data": {
      "text/plain": [
       "SAYCam LSTM 0     True\n",
       "SAYCam 1-gram     True\n",
       "SAYCam 2-gram     True\n",
       "SAYCam CBOW 0    False\n",
       "Name: 1325, dtype: bool"
      ]
     },
     "metadata": {},
     "output_type": "display_data"
    },
    {
     "name": "stdout",
     "output_type": "stream",
     "text": [
      "a dinosaur changed a .\n",
      "a dinosaur changed them .\n"
     ]
    },
    {
     "data": {
      "text/plain": [
       "SAYCam LSTM 0     True\n",
       "SAYCam 1-gram    False\n",
       "SAYCam 2-gram     True\n",
       "SAYCam CBOW 0     True\n",
       "Name: 1335, dtype: bool"
      ]
     },
     "metadata": {},
     "output_type": "display_data"
    },
    {
     "name": "stdout",
     "output_type": "stream",
     "text": [
      "a pig plays with the .\n",
      "a pig plays with me .\n"
     ]
    },
    {
     "data": {
      "text/plain": [
       "SAYCam LSTM 0     True\n",
       "SAYCam 1-gram    False\n",
       "SAYCam 2-gram     True\n",
       "SAYCam CBOW 0     True\n",
       "Name: 1351, dtype: bool"
      ]
     },
     "metadata": {},
     "output_type": "display_data"
    },
    {
     "name": "stdout",
     "output_type": "stream",
     "text": [
      "his boat looks at one .\n",
      "his boat looks at them .\n"
     ]
    },
    {
     "data": {
      "text/plain": [
       "SAYCam LSTM 0     True\n",
       "SAYCam 1-gram    False\n",
       "SAYCam 2-gram     True\n",
       "SAYCam CBOW 0     True\n",
       "Name: 1353, dtype: bool"
      ]
     },
     "metadata": {},
     "output_type": "display_data"
    },
    {
     "name": "stdout",
     "output_type": "stream",
     "text": [
      "some boat looks at a .\n",
      "some boat looks at me .\n"
     ]
    },
    {
     "data": {
      "text/plain": [
       "SAYCam LSTM 0     True\n",
       "SAYCam 1-gram    False\n",
       "SAYCam 2-gram     True\n",
       "SAYCam CBOW 0     True\n",
       "Name: 1356, dtype: bool"
      ]
     },
     "metadata": {},
     "output_type": "display_data"
    },
    {
     "name": "stdout",
     "output_type": "stream",
     "text": [
      "my pig plays with my .\n",
      "my pig plays with them .\n"
     ]
    },
    {
     "data": {
      "text/plain": [
       "SAYCam LSTM 0     True\n",
       "SAYCam 1-gram    False\n",
       "SAYCam 2-gram     True\n",
       "SAYCam CBOW 0     True\n",
       "Name: 1381, dtype: bool"
      ]
     },
     "metadata": {},
     "output_type": "display_data"
    },
    {
     "name": "stdout",
     "output_type": "stream",
     "text": [
      "my boat changed some .\n",
      "my boat changed me .\n"
     ]
    },
    {
     "data": {
      "text/plain": [
       "SAYCam LSTM 0     True\n",
       "SAYCam 1-gram    False\n",
       "SAYCam 2-gram     True\n",
       "SAYCam CBOW 0     True\n",
       "Name: 1384, dtype: bool"
      ]
     },
     "metadata": {},
     "output_type": "display_data"
    },
    {
     "name": "stdout",
     "output_type": "stream",
     "text": [
      "a boat asked her about .\n",
      "a boat asked about her .\n"
     ]
    },
    {
     "data": {
      "text/plain": [
       "SAYCam LSTM 0     True\n",
       "SAYCam 1-gram    False\n",
       "SAYCam 2-gram     True\n",
       "SAYCam CBOW 0     True\n",
       "Name: 1411, dtype: bool"
      ]
     },
     "metadata": {},
     "output_type": "display_data"
    },
    {
     "name": "stdout",
     "output_type": "stream",
     "text": [
      "some dinosaur plays with some .\n",
      "some dinosaur plays with him .\n"
     ]
    },
    {
     "data": {
      "text/plain": [
       "SAYCam LSTM 0     True\n",
       "SAYCam 1-gram    False\n",
       "SAYCam 2-gram     True\n",
       "SAYCam CBOW 0     True\n",
       "Name: 1448, dtype: bool"
      ]
     },
     "metadata": {},
     "output_type": "display_data"
    },
    {
     "name": "stdout",
     "output_type": "stream",
     "text": [
      "my pig asked him about .\n",
      "my pig asked about him .\n"
     ]
    },
    {
     "data": {
      "text/plain": [
       "SAYCam LSTM 0     True\n",
       "SAYCam 1-gram    False\n",
       "SAYCam 2-gram     True\n",
       "SAYCam CBOW 0     True\n",
       "Name: 1454, dtype: bool"
      ]
     },
     "metadata": {},
     "output_type": "display_data"
    },
    {
     "name": "stdout",
     "output_type": "stream",
     "text": [
      "some boat wanted to .\n",
      "some boat wanted me .\n"
     ]
    },
    {
     "data": {
      "text/plain": [
       "SAYCam LSTM 0     True\n",
       "SAYCam 1-gram    False\n",
       "SAYCam 2-gram    False\n",
       "SAYCam CBOW 0    False\n",
       "Name: 1460, dtype: bool"
      ]
     },
     "metadata": {},
     "output_type": "display_data"
    },
    {
     "name": "stdout",
     "output_type": "stream",
     "text": [
      "a dinosaur looks at a .\n",
      "a dinosaur looks at him .\n"
     ]
    },
    {
     "data": {
      "text/plain": [
       "SAYCam LSTM 0     True\n",
       "SAYCam 1-gram    False\n",
       "SAYCam 2-gram     True\n",
       "SAYCam CBOW 0     True\n",
       "Name: 1466, dtype: bool"
      ]
     },
     "metadata": {},
     "output_type": "display_data"
    },
    {
     "name": "stdout",
     "output_type": "stream",
     "text": [
      "the boat asked me about .\n",
      "the boat asked about me .\n"
     ]
    },
    {
     "data": {
      "text/plain": [
       "SAYCam LSTM 0     True\n",
       "SAYCam 1-gram    False\n",
       "SAYCam 2-gram    False\n",
       "SAYCam CBOW 0     True\n",
       "Name: 1468, dtype: bool"
      ]
     },
     "metadata": {},
     "output_type": "display_data"
    },
    {
     "name": "stdout",
     "output_type": "stream",
     "text": [
      "his boat changed a .\n",
      "his boat changed her .\n"
     ]
    },
    {
     "data": {
      "text/plain": [
       "SAYCam LSTM 0     True\n",
       "SAYCam 1-gram    False\n",
       "SAYCam 2-gram    False\n",
       "SAYCam CBOW 0     True\n",
       "Name: 1478, dtype: bool"
      ]
     },
     "metadata": {},
     "output_type": "display_data"
    },
    {
     "name": "stdout",
     "output_type": "stream",
     "text": [
      "some boat looks at his .\n",
      "some boat looks at him .\n"
     ]
    },
    {
     "data": {
      "text/plain": [
       "SAYCam LSTM 0     True\n",
       "SAYCam 1-gram    False\n",
       "SAYCam 2-gram     True\n",
       "SAYCam CBOW 0     True\n",
       "Name: 1487, dtype: bool"
      ]
     },
     "metadata": {},
     "output_type": "display_data"
    },
    {
     "name": "stdout",
     "output_type": "stream",
     "text": [
      "my pig changed some .\n",
      "my pig changed them .\n"
     ]
    },
    {
     "data": {
      "text/plain": [
       "SAYCam LSTM 0     True\n",
       "SAYCam 1-gram    False\n",
       "SAYCam 2-gram     True\n",
       "SAYCam CBOW 0     True\n",
       "Name: 1496, dtype: bool"
      ]
     },
     "metadata": {},
     "output_type": "display_data"
    },
    {
     "name": "stdout",
     "output_type": "stream",
     "text": [
      "some pig looks at a .\n",
      "some pig looks at her .\n"
     ]
    },
    {
     "data": {
      "text/plain": [
       "SAYCam LSTM 0     True\n",
       "SAYCam 1-gram    False\n",
       "SAYCam 2-gram    False\n",
       "SAYCam CBOW 0     True\n",
       "Name: 1500, dtype: bool"
      ]
     },
     "metadata": {},
     "output_type": "display_data"
    },
    {
     "name": "stdout",
     "output_type": "stream",
     "text": [
      "my boat plays with some .\n",
      "my boat plays with him .\n"
     ]
    },
    {
     "data": {
      "text/plain": [
       "SAYCam LSTM 0     True\n",
       "SAYCam 1-gram    False\n",
       "SAYCam 2-gram     True\n",
       "SAYCam CBOW 0     True\n",
       "Name: 1526, dtype: bool"
      ]
     },
     "metadata": {},
     "output_type": "display_data"
    },
    {
     "name": "stdout",
     "output_type": "stream",
     "text": [
      "his boat changed a .\n",
      "his boat changed them .\n"
     ]
    },
    {
     "data": {
      "text/plain": [
       "SAYCam LSTM 0     True\n",
       "SAYCam 1-gram    False\n",
       "SAYCam 2-gram     True\n",
       "SAYCam CBOW 0     True\n",
       "Name: 1536, dtype: bool"
      ]
     },
     "metadata": {},
     "output_type": "display_data"
    },
    {
     "name": "stdout",
     "output_type": "stream",
     "text": [
      "one boat changed the .\n",
      "one boat changed them .\n"
     ]
    },
    {
     "data": {
      "text/plain": [
       "SAYCam LSTM 0     True\n",
       "SAYCam 1-gram    False\n",
       "SAYCam 2-gram     True\n",
       "SAYCam CBOW 0     True\n",
       "Name: 1540, dtype: bool"
      ]
     },
     "metadata": {},
     "output_type": "display_data"
    },
    {
     "name": "stdout",
     "output_type": "stream",
     "text": [
      "my boat looks at some .\n",
      "my boat looks at them .\n"
     ]
    },
    {
     "data": {
      "text/plain": [
       "SAYCam LSTM 0     True\n",
       "SAYCam 1-gram    False\n",
       "SAYCam 2-gram     True\n",
       "SAYCam CBOW 0     True\n",
       "Name: 1545, dtype: bool"
      ]
     },
     "metadata": {},
     "output_type": "display_data"
    },
    {
     "name": "stdout",
     "output_type": "stream",
     "text": [
      "one doctor asked me about .\n",
      "one doctor asked about me .\n"
     ]
    },
    {
     "data": {
      "text/plain": [
       "SAYCam LSTM 0     True\n",
       "SAYCam 1-gram    False\n",
       "SAYCam 2-gram    False\n",
       "SAYCam CBOW 0     True\n",
       "Name: 1557, dtype: bool"
      ]
     },
     "metadata": {},
     "output_type": "display_data"
    },
    {
     "name": "stdout",
     "output_type": "stream",
     "text": [
      "an boat asked you about .\n",
      "an boat asked about you .\n"
     ]
    },
    {
     "data": {
      "text/plain": [
       "SAYCam LSTM 0     True\n",
       "SAYCam 1-gram    False\n",
       "SAYCam 2-gram     True\n",
       "SAYCam CBOW 0     True\n",
       "Name: 1560, dtype: bool"
      ]
     },
     "metadata": {},
     "output_type": "display_data"
    },
    {
     "name": "stdout",
     "output_type": "stream",
     "text": [
      "the pig asked him about .\n",
      "the pig asked about him .\n"
     ]
    },
    {
     "data": {
      "text/plain": [
       "SAYCam LSTM 0     True\n",
       "SAYCam 1-gram    False\n",
       "SAYCam 2-gram     True\n",
       "SAYCam CBOW 0     True\n",
       "Name: 1563, dtype: bool"
      ]
     },
     "metadata": {},
     "output_type": "display_data"
    },
    {
     "name": "stdout",
     "output_type": "stream",
     "text": [
      "my pig changed his .\n",
      "my pig changed him .\n"
     ]
    },
    {
     "data": {
      "text/plain": [
       "SAYCam LSTM 0     True\n",
       "SAYCam 1-gram    False\n",
       "SAYCam 2-gram     True\n",
       "SAYCam CBOW 0     True\n",
       "Name: 1566, dtype: bool"
      ]
     },
     "metadata": {},
     "output_type": "display_data"
    },
    {
     "name": "stdout",
     "output_type": "stream",
     "text": [
      "my dinosaur asked you about .\n",
      "my dinosaur asked about you .\n"
     ]
    },
    {
     "data": {
      "text/plain": [
       "SAYCam LSTM 0     True\n",
       "SAYCam 1-gram    False\n",
       "SAYCam 2-gram     True\n",
       "SAYCam CBOW 0     True\n",
       "Name: 1580, dtype: bool"
      ]
     },
     "metadata": {},
     "output_type": "display_data"
    },
    {
     "name": "stdout",
     "output_type": "stream",
     "text": [
      "my boat asked me about .\n",
      "my boat asked about me .\n"
     ]
    },
    {
     "data": {
      "text/plain": [
       "SAYCam LSTM 0     True\n",
       "SAYCam 1-gram    False\n",
       "SAYCam 2-gram    False\n",
       "SAYCam CBOW 0     True\n",
       "Name: 1587, dtype: bool"
      ]
     },
     "metadata": {},
     "output_type": "display_data"
    },
    {
     "name": "stdout",
     "output_type": "stream",
     "text": [
      "his dinosaur looks at some .\n",
      "his dinosaur looks at them .\n"
     ]
    },
    {
     "data": {
      "text/plain": [
       "SAYCam LSTM 0     True\n",
       "SAYCam 1-gram    False\n",
       "SAYCam 2-gram     True\n",
       "SAYCam CBOW 0     True\n",
       "Name: 1594, dtype: bool"
      ]
     },
     "metadata": {},
     "output_type": "display_data"
    },
    {
     "name": "stdout",
     "output_type": "stream",
     "text": [
      "a doctor asked her about .\n",
      "a doctor asked about her .\n"
     ]
    },
    {
     "data": {
      "text/plain": [
       "SAYCam LSTM 0     True\n",
       "SAYCam 1-gram    False\n",
       "SAYCam 2-gram     True\n",
       "SAYCam CBOW 0    False\n",
       "Name: 1600, dtype: bool"
      ]
     },
     "metadata": {},
     "output_type": "display_data"
    },
    {
     "name": "stdout",
     "output_type": "stream",
     "text": [
      "one pig told her about the .\n",
      "one pig told her about that .\n"
     ]
    },
    {
     "data": {
      "text/plain": [
       "SAYCam LSTM 0     True\n",
       "SAYCam 1-gram    False\n",
       "SAYCam 2-gram     True\n",
       "SAYCam CBOW 0     True\n",
       "Name: 1605, dtype: bool"
      ]
     },
     "metadata": {},
     "output_type": "display_data"
    },
    {
     "name": "stdout",
     "output_type": "stream",
     "text": [
      "his dinosaur saw me by .\n",
      "his dinosaur saw me there .\n"
     ]
    },
    {
     "data": {
      "text/plain": [
       "SAYCam LSTM 0     True\n",
       "SAYCam 1-gram     True\n",
       "SAYCam 2-gram     True\n",
       "SAYCam CBOW 0    False\n",
       "Name: 1608, dtype: bool"
      ]
     },
     "metadata": {},
     "output_type": "display_data"
    },
    {
     "name": "stdout",
     "output_type": "stream",
     "text": [
      "his boat told me about the .\n",
      "his boat told me about that .\n"
     ]
    },
    {
     "data": {
      "text/plain": [
       "SAYCam LSTM 0     True\n",
       "SAYCam 1-gram    False\n",
       "SAYCam 2-gram     True\n",
       "SAYCam CBOW 0     True\n",
       "Name: 1615, dtype: bool"
      ]
     },
     "metadata": {},
     "output_type": "display_data"
    },
    {
     "name": "stdout",
     "output_type": "stream",
     "text": [
      "some pig asked me about .\n",
      "some pig asked about me .\n"
     ]
    },
    {
     "data": {
      "text/plain": [
       "SAYCam LSTM 0     True\n",
       "SAYCam 1-gram    False\n",
       "SAYCam 2-gram    False\n",
       "SAYCam CBOW 0     True\n",
       "Name: 1616, dtype: bool"
      ]
     },
     "metadata": {},
     "output_type": "display_data"
    },
    {
     "name": "stdout",
     "output_type": "stream",
     "text": [
      "the pig saw me by .\n",
      "the pig saw me there .\n"
     ]
    },
    {
     "data": {
      "text/plain": [
       "SAYCam LSTM 0     True\n",
       "SAYCam 1-gram     True\n",
       "SAYCam 2-gram     True\n",
       "SAYCam CBOW 0    False\n",
       "Name: 1620, dtype: bool"
      ]
     },
     "metadata": {},
     "output_type": "display_data"
    },
    {
     "name": "stdout",
     "output_type": "stream",
     "text": [
      "a pig told you about the .\n",
      "a pig told you about that .\n"
     ]
    },
    {
     "data": {
      "text/plain": [
       "SAYCam LSTM 0     True\n",
       "SAYCam 1-gram    False\n",
       "SAYCam 2-gram     True\n",
       "SAYCam CBOW 0     True\n",
       "Name: 1659, dtype: bool"
      ]
     },
     "metadata": {},
     "output_type": "display_data"
    },
    {
     "name": "stdout",
     "output_type": "stream",
     "text": [
      "one pig asked her about .\n",
      "one pig asked about her .\n"
     ]
    },
    {
     "data": {
      "text/plain": [
       "SAYCam LSTM 0     True\n",
       "SAYCam 1-gram    False\n",
       "SAYCam 2-gram     True\n",
       "SAYCam CBOW 0     True\n",
       "Name: 1662, dtype: bool"
      ]
     },
     "metadata": {},
     "output_type": "display_data"
    },
    {
     "name": "stdout",
     "output_type": "stream",
     "text": [
      "my boat told me about a .\n",
      "my boat told me about that .\n"
     ]
    },
    {
     "data": {
      "text/plain": [
       "SAYCam LSTM 0     True\n",
       "SAYCam 1-gram    False\n",
       "SAYCam 2-gram     True\n",
       "SAYCam CBOW 0     True\n",
       "Name: 1663, dtype: bool"
      ]
     },
     "metadata": {},
     "output_type": "display_data"
    },
    {
     "name": "stdout",
     "output_type": "stream",
     "text": [
      "his dinosaur told you about the .\n",
      "his dinosaur told you about that .\n"
     ]
    },
    {
     "data": {
      "text/plain": [
       "SAYCam LSTM 0     True\n",
       "SAYCam 1-gram    False\n",
       "SAYCam 2-gram     True\n",
       "SAYCam CBOW 0     True\n",
       "Name: 1682, dtype: bool"
      ]
     },
     "metadata": {},
     "output_type": "display_data"
    },
    {
     "name": "stdout",
     "output_type": "stream",
     "text": [
      "some boat looks at the .\n",
      "some boat looks at them .\n"
     ]
    },
    {
     "data": {
      "text/plain": [
       "SAYCam LSTM 0     True\n",
       "SAYCam 1-gram    False\n",
       "SAYCam 2-gram     True\n",
       "SAYCam CBOW 0     True\n",
       "Name: 1687, dtype: bool"
      ]
     },
     "metadata": {},
     "output_type": "display_data"
    },
    {
     "name": "stdout",
     "output_type": "stream",
     "text": [
      "the doctor plays with the .\n",
      "the doctor plays with you .\n"
     ]
    },
    {
     "data": {
      "text/plain": [
       "SAYCam LSTM 0     True\n",
       "SAYCam 1-gram     True\n",
       "SAYCam 2-gram    False\n",
       "SAYCam CBOW 0     True\n",
       "Name: 1699, dtype: bool"
      ]
     },
     "metadata": {},
     "output_type": "display_data"
    },
    {
     "name": "stdout",
     "output_type": "stream",
     "text": [
      "some dinosaur asked me about .\n",
      "some dinosaur asked about me .\n"
     ]
    },
    {
     "data": {
      "text/plain": [
       "SAYCam LSTM 0     True\n",
       "SAYCam 1-gram    False\n",
       "SAYCam 2-gram    False\n",
       "SAYCam CBOW 0     True\n",
       "Name: 1703, dtype: bool"
      ]
     },
     "metadata": {},
     "output_type": "display_data"
    },
    {
     "name": "stdout",
     "output_type": "stream",
     "text": [
      "a doctor saw her by .\n",
      "a doctor saw her there .\n"
     ]
    },
    {
     "data": {
      "text/plain": [
       "SAYCam LSTM 0     True\n",
       "SAYCam 1-gram     True\n",
       "SAYCam 2-gram     True\n",
       "SAYCam CBOW 0    False\n",
       "Name: 1704, dtype: bool"
      ]
     },
     "metadata": {},
     "output_type": "display_data"
    },
    {
     "name": "stdout",
     "output_type": "stream",
     "text": [
      "the doctor changed a .\n",
      "the doctor changed me .\n"
     ]
    },
    {
     "data": {
      "text/plain": [
       "SAYCam LSTM 0     True\n",
       "SAYCam 1-gram    False\n",
       "SAYCam 2-gram     True\n",
       "SAYCam CBOW 0     True\n",
       "Name: 1709, dtype: bool"
      ]
     },
     "metadata": {},
     "output_type": "display_data"
    },
    {
     "name": "stdout",
     "output_type": "stream",
     "text": [
      "one doctor looks at a .\n",
      "one doctor looks at them .\n"
     ]
    },
    {
     "data": {
      "text/plain": [
       "SAYCam LSTM 0     True\n",
       "SAYCam 1-gram    False\n",
       "SAYCam 2-gram     True\n",
       "SAYCam CBOW 0     True\n",
       "Name: 1721, dtype: bool"
      ]
     },
     "metadata": {},
     "output_type": "display_data"
    },
    {
     "name": "stdout",
     "output_type": "stream",
     "text": [
      "the doctor looks at some .\n",
      "the doctor looks at you .\n"
     ]
    },
    {
     "data": {
      "text/plain": [
       "SAYCam LSTM 0     True\n",
       "SAYCam 1-gram     True\n",
       "SAYCam 2-gram     True\n",
       "SAYCam CBOW 0    False\n",
       "Name: 1722, dtype: bool"
      ]
     },
     "metadata": {},
     "output_type": "display_data"
    },
    {
     "name": "stdout",
     "output_type": "stream",
     "text": [
      "one doctor asked you about .\n",
      "one doctor asked about you .\n"
     ]
    },
    {
     "data": {
      "text/plain": [
       "SAYCam LSTM 0     True\n",
       "SAYCam 1-gram    False\n",
       "SAYCam 2-gram     True\n",
       "SAYCam CBOW 0     True\n",
       "Name: 1726, dtype: bool"
      ]
     },
     "metadata": {},
     "output_type": "display_data"
    },
    {
     "name": "stdout",
     "output_type": "stream",
     "text": [
      "a doctor asked him about .\n",
      "a doctor asked about him .\n"
     ]
    },
    {
     "data": {
      "text/plain": [
       "SAYCam LSTM 0     True\n",
       "SAYCam 1-gram    False\n",
       "SAYCam 2-gram     True\n",
       "SAYCam CBOW 0     True\n",
       "Name: 1734, dtype: bool"
      ]
     },
     "metadata": {},
     "output_type": "display_data"
    },
    {
     "name": "stdout",
     "output_type": "stream",
     "text": [
      "one dinosaur saw her by .\n",
      "one dinosaur saw her there .\n"
     ]
    },
    {
     "data": {
      "text/plain": [
       "SAYCam LSTM 0     True\n",
       "SAYCam 1-gram     True\n",
       "SAYCam 2-gram     True\n",
       "SAYCam CBOW 0    False\n",
       "Name: 1748, dtype: bool"
      ]
     },
     "metadata": {},
     "output_type": "display_data"
    },
    {
     "name": "stdout",
     "output_type": "stream",
     "text": [
      "my doctor saw her by .\n",
      "my doctor saw her there .\n"
     ]
    },
    {
     "data": {
      "text/plain": [
       "SAYCam LSTM 0     True\n",
       "SAYCam 1-gram     True\n",
       "SAYCam 2-gram     True\n",
       "SAYCam CBOW 0    False\n",
       "Name: 1753, dtype: bool"
      ]
     },
     "metadata": {},
     "output_type": "display_data"
    },
    {
     "name": "stdout",
     "output_type": "stream",
     "text": [
      "the doctor asked me about .\n",
      "the doctor asked about me .\n"
     ]
    },
    {
     "data": {
      "text/plain": [
       "SAYCam LSTM 0     True\n",
       "SAYCam 1-gram    False\n",
       "SAYCam 2-gram    False\n",
       "SAYCam CBOW 0     True\n",
       "Name: 1760, dtype: bool"
      ]
     },
     "metadata": {},
     "output_type": "display_data"
    },
    {
     "name": "stdout",
     "output_type": "stream",
     "text": [
      "the pig changed a .\n",
      "the pig changed her .\n"
     ]
    },
    {
     "data": {
      "text/plain": [
       "SAYCam LSTM 0     True\n",
       "SAYCam 1-gram    False\n",
       "SAYCam 2-gram    False\n",
       "SAYCam CBOW 0     True\n",
       "Name: 1762, dtype: bool"
      ]
     },
     "metadata": {},
     "output_type": "display_data"
    },
    {
     "name": "stdout",
     "output_type": "stream",
     "text": [
      "my doctor asked her about .\n",
      "my doctor asked about her .\n"
     ]
    },
    {
     "data": {
      "text/plain": [
       "SAYCam LSTM 0     True\n",
       "SAYCam 1-gram    False\n",
       "SAYCam 2-gram     True\n",
       "SAYCam CBOW 0    False\n",
       "Name: 1774, dtype: bool"
      ]
     },
     "metadata": {},
     "output_type": "display_data"
    },
    {
     "name": "stdout",
     "output_type": "stream",
     "text": [
      "his doctor asked her about .\n",
      "his doctor asked about her .\n"
     ]
    },
    {
     "data": {
      "text/plain": [
       "SAYCam LSTM 0     True\n",
       "SAYCam 1-gram    False\n",
       "SAYCam 2-gram     True\n",
       "SAYCam CBOW 0    False\n",
       "Name: 1785, dtype: bool"
      ]
     },
     "metadata": {},
     "output_type": "display_data"
    },
    {
     "name": "stdout",
     "output_type": "stream",
     "text": [
      "a doctor told me about the .\n",
      "a doctor told me about that .\n"
     ]
    },
    {
     "data": {
      "text/plain": [
       "SAYCam LSTM 0     True\n",
       "SAYCam 1-gram    False\n",
       "SAYCam 2-gram     True\n",
       "SAYCam CBOW 0     True\n",
       "Name: 1789, dtype: bool"
      ]
     },
     "metadata": {},
     "output_type": "display_data"
    },
    {
     "name": "stdout",
     "output_type": "stream",
     "text": [
      "my doctor looks at some .\n",
      "my doctor looks at me .\n"
     ]
    },
    {
     "data": {
      "text/plain": [
       "SAYCam LSTM 0     True\n",
       "SAYCam 1-gram    False\n",
       "SAYCam 2-gram     True\n",
       "SAYCam CBOW 0     True\n",
       "Name: 1797, dtype: bool"
      ]
     },
     "metadata": {},
     "output_type": "display_data"
    },
    {
     "name": "stdout",
     "output_type": "stream",
     "text": [
      "some pig saw me by .\n",
      "some pig saw me there .\n"
     ]
    },
    {
     "data": {
      "text/plain": [
       "SAYCam LSTM 0     True\n",
       "SAYCam 1-gram     True\n",
       "SAYCam 2-gram     True\n",
       "SAYCam CBOW 0    False\n",
       "Name: 1807, dtype: bool"
      ]
     },
     "metadata": {},
     "output_type": "display_data"
    },
    {
     "name": "stdout",
     "output_type": "stream",
     "text": [
      "an boat works and .\n",
      "an boat works well .\n"
     ]
    },
    {
     "data": {
      "text/plain": [
       "SAYCam LSTM 0     True\n",
       "SAYCam 1-gram    False\n",
       "SAYCam 2-gram     True\n",
       "SAYCam CBOW 0     True\n",
       "Name: 1819, dtype: bool"
      ]
     },
     "metadata": {},
     "output_type": "display_data"
    },
    {
     "name": "stdout",
     "output_type": "stream",
     "text": [
      "an boat plays with the .\n",
      "an boat plays with him .\n"
     ]
    },
    {
     "data": {
      "text/plain": [
       "SAYCam LSTM 0     True\n",
       "SAYCam 1-gram    False\n",
       "SAYCam 2-gram    False\n",
       "SAYCam CBOW 0     True\n",
       "Name: 1837, dtype: bool"
      ]
     },
     "metadata": {},
     "output_type": "display_data"
    },
    {
     "name": "stdout",
     "output_type": "stream",
     "text": [
      "one boat saw him by .\n",
      "one boat saw him there .\n"
     ]
    },
    {
     "data": {
      "text/plain": [
       "SAYCam LSTM 0     True\n",
       "SAYCam 1-gram     True\n",
       "SAYCam 2-gram     True\n",
       "SAYCam CBOW 0    False\n",
       "Name: 1846, dtype: bool"
      ]
     },
     "metadata": {},
     "output_type": "display_data"
    },
    {
     "name": "stdout",
     "output_type": "stream",
     "text": [
      "the pig changed a .\n",
      "the pig changed them .\n"
     ]
    },
    {
     "data": {
      "text/plain": [
       "SAYCam LSTM 0     True\n",
       "SAYCam 1-gram    False\n",
       "SAYCam 2-gram     True\n",
       "SAYCam CBOW 0     True\n",
       "Name: 1854, dtype: bool"
      ]
     },
     "metadata": {},
     "output_type": "display_data"
    },
    {
     "name": "stdout",
     "output_type": "stream",
     "text": [
      "some doctor changed a .\n",
      "some doctor changed her .\n"
     ]
    },
    {
     "data": {
      "text/plain": [
       "SAYCam LSTM 0     True\n",
       "SAYCam 1-gram    False\n",
       "SAYCam 2-gram    False\n",
       "SAYCam CBOW 0     True\n",
       "Name: 1865, dtype: bool"
      ]
     },
     "metadata": {},
     "output_type": "display_data"
    },
    {
     "name": "stdout",
     "output_type": "stream",
     "text": [
      "one dinosaur asked me about .\n",
      "one dinosaur asked about me .\n"
     ]
    },
    {
     "data": {
      "text/plain": [
       "SAYCam LSTM 0     True\n",
       "SAYCam 1-gram    False\n",
       "SAYCam 2-gram    False\n",
       "SAYCam CBOW 0     True\n",
       "Name: 1869, dtype: bool"
      ]
     },
     "metadata": {},
     "output_type": "display_data"
    },
    {
     "name": "stdout",
     "output_type": "stream",
     "text": [
      "a doctor looks at his .\n",
      "a doctor looks at him .\n"
     ]
    },
    {
     "data": {
      "text/plain": [
       "SAYCam LSTM 0     True\n",
       "SAYCam 1-gram    False\n",
       "SAYCam 2-gram     True\n",
       "SAYCam CBOW 0     True\n",
       "Name: 1875, dtype: bool"
      ]
     },
     "metadata": {},
     "output_type": "display_data"
    },
    {
     "name": "stdout",
     "output_type": "stream",
     "text": [
      "my dinosaur looks at the .\n",
      "my dinosaur looks at him .\n"
     ]
    },
    {
     "data": {
      "text/plain": [
       "SAYCam LSTM 0     True\n",
       "SAYCam 1-gram    False\n",
       "SAYCam 2-gram    False\n",
       "SAYCam CBOW 0     True\n",
       "Name: 1882, dtype: bool"
      ]
     },
     "metadata": {},
     "output_type": "display_data"
    },
    {
     "name": "stdout",
     "output_type": "stream",
     "text": [
      "his doctor plays with the .\n",
      "his doctor plays with them .\n"
     ]
    },
    {
     "data": {
      "text/plain": [
       "SAYCam LSTM 0     True\n",
       "SAYCam 1-gram    False\n",
       "SAYCam 2-gram     True\n",
       "SAYCam CBOW 0     True\n",
       "Name: 1917, dtype: bool"
      ]
     },
     "metadata": {},
     "output_type": "display_data"
    },
    {
     "name": "stdout",
     "output_type": "stream",
     "text": [
      "his doctor looks at one .\n",
      "his doctor looks at her .\n"
     ]
    },
    {
     "data": {
      "text/plain": [
       "SAYCam LSTM 0     True\n",
       "SAYCam 1-gram    False\n",
       "SAYCam 2-gram    False\n",
       "SAYCam CBOW 0    False\n",
       "Name: 1925, dtype: bool"
      ]
     },
     "metadata": {},
     "output_type": "display_data"
    },
    {
     "name": "stdout",
     "output_type": "stream",
     "text": [
      "one dinosaur asked you about .\n",
      "one dinosaur asked about you .\n"
     ]
    },
    {
     "data": {
      "text/plain": [
       "SAYCam LSTM 0     True\n",
       "SAYCam 1-gram    False\n",
       "SAYCam 2-gram     True\n",
       "SAYCam CBOW 0     True\n",
       "Name: 1931, dtype: bool"
      ]
     },
     "metadata": {},
     "output_type": "display_data"
    },
    {
     "name": "stdout",
     "output_type": "stream",
     "text": [
      "some doctor plays with his .\n",
      "some doctor plays with him .\n"
     ]
    },
    {
     "data": {
      "text/plain": [
       "SAYCam LSTM 0     True\n",
       "SAYCam 1-gram    False\n",
       "SAYCam 2-gram     True\n",
       "SAYCam CBOW 0     True\n",
       "Name: 1942, dtype: bool"
      ]
     },
     "metadata": {},
     "output_type": "display_data"
    },
    {
     "name": "stdout",
     "output_type": "stream",
     "text": [
      "the boat plays with one .\n",
      "the boat plays with him .\n"
     ]
    },
    {
     "data": {
      "text/plain": [
       "SAYCam LSTM 0     True\n",
       "SAYCam 1-gram    False\n",
       "SAYCam 2-gram     True\n",
       "SAYCam CBOW 0     True\n",
       "Name: 1943, dtype: bool"
      ]
     },
     "metadata": {},
     "output_type": "display_data"
    },
    {
     "name": "stdout",
     "output_type": "stream",
     "text": [
      "one boat works and .\n",
      "one boat works well .\n"
     ]
    },
    {
     "data": {
      "text/plain": [
       "SAYCam LSTM 0     True\n",
       "SAYCam 1-gram    False\n",
       "SAYCam 2-gram     True\n",
       "SAYCam CBOW 0     True\n",
       "Name: 1946, dtype: bool"
      ]
     },
     "metadata": {},
     "output_type": "display_data"
    },
    {
     "name": "stdout",
     "output_type": "stream",
     "text": [
      "a dinosaur asked her about .\n",
      "a dinosaur asked about her .\n"
     ]
    },
    {
     "data": {
      "text/plain": [
       "SAYCam LSTM 0     True\n",
       "SAYCam 1-gram    False\n",
       "SAYCam 2-gram     True\n",
       "SAYCam CBOW 0    False\n",
       "Name: 1963, dtype: bool"
      ]
     },
     "metadata": {},
     "output_type": "display_data"
    },
    {
     "name": "stdout",
     "output_type": "stream",
     "text": [
      "a boat asked you about .\n",
      "a boat asked about you .\n"
     ]
    },
    {
     "data": {
      "text/plain": [
       "SAYCam LSTM 0     True\n",
       "SAYCam 1-gram    False\n",
       "SAYCam 2-gram     True\n",
       "SAYCam CBOW 0     True\n",
       "Name: 1983, dtype: bool"
      ]
     },
     "metadata": {},
     "output_type": "display_data"
    },
    {
     "name": "stdout",
     "output_type": "stream",
     "text": [
      "the doctor plays with a .\n",
      "the doctor plays with them .\n"
     ]
    },
    {
     "data": {
      "text/plain": [
       "SAYCam LSTM 0     True\n",
       "SAYCam 1-gram    False\n",
       "SAYCam 2-gram     True\n",
       "SAYCam CBOW 0     True\n",
       "Name: 1988, dtype: bool"
      ]
     },
     "metadata": {},
     "output_type": "display_data"
    },
    {
     "name": "stdout",
     "output_type": "stream",
     "text": [
      "comparing ('determiner-noun agreement', 'across 1 adjective') (656 / 2000.0 = 32.80%):\n"
     ]
    },
    {
     "data": {
      "text/plain": [
       "SAYCam LSTM               0.648882\n",
       "SAYCam LSTM Captioning    0.649898\n",
       "SAYCam CBOW               0.410061\n",
       "SAYCam unigram            0.500000\n",
       "SAYCam bigram             0.500000\n",
       "AO-CHILDES Transformer    0.963415\n",
       "Name: (determiner-noun agreement, across 1 adjective), dtype: float64"
      ]
     },
     "metadata": {},
     "output_type": "display_data"
    },
    {
     "name": "stdout",
     "output_type": "stream",
     "text": [
      "this purple things went there .\n",
      "this purple thing went there .\n"
     ]
    },
    {
     "data": {
      "text/plain": [
       "SAYCam LSTM 0     True\n",
       "SAYCam 1-gram    False\n",
       "SAYCam 2-gram    False\n",
       "SAYCam CBOW 0    False\n",
       "Name: 1, dtype: bool"
      ]
     },
     "metadata": {},
     "output_type": "display_data"
    },
    {
     "name": "stdout",
     "output_type": "stream",
     "text": [
      "this purple things did not happen .\n",
      "this purple thing did not happen .\n"
     ]
    },
    {
     "data": {
      "text/plain": [
       "SAYCam LSTM 0     True\n",
       "SAYCam 1-gram    False\n",
       "SAYCam 2-gram    False\n",
       "SAYCam CBOW 0    False\n",
       "Name: 2, dtype: bool"
      ]
     },
     "metadata": {},
     "output_type": "display_data"
    },
    {
     "name": "stdout",
     "output_type": "stream",
     "text": [
      "i saw this purple things .\n",
      "i saw this purple thing .\n"
     ]
    },
    {
     "data": {
      "text/plain": [
       "SAYCam LSTM 0     True\n",
       "SAYCam 1-gram    False\n",
       "SAYCam 2-gram    False\n",
       "SAYCam CBOW 0    False\n",
       "Name: 3, dtype: bool"
      ]
     },
     "metadata": {},
     "output_type": "display_data"
    },
    {
     "name": "stdout",
     "output_type": "stream",
     "text": [
      "that purple things went there .\n",
      "that purple thing went there .\n"
     ]
    },
    {
     "data": {
      "text/plain": [
       "SAYCam LSTM 0     True\n",
       "SAYCam 1-gram    False\n",
       "SAYCam 2-gram    False\n",
       "SAYCam CBOW 0    False\n",
       "Name: 5, dtype: bool"
      ]
     },
     "metadata": {},
     "output_type": "display_data"
    },
    {
     "name": "stdout",
     "output_type": "stream",
     "text": [
      "that purple things did not happen .\n",
      "that purple thing did not happen .\n"
     ]
    },
    {
     "data": {
      "text/plain": [
       "SAYCam LSTM 0     True\n",
       "SAYCam 1-gram    False\n",
       "SAYCam 2-gram    False\n",
       "SAYCam CBOW 0    False\n",
       "Name: 6, dtype: bool"
      ]
     },
     "metadata": {},
     "output_type": "display_data"
    },
    {
     "name": "stdout",
     "output_type": "stream",
     "text": [
      "i saw that purple things .\n",
      "i saw that purple thing .\n"
     ]
    },
    {
     "data": {
      "text/plain": [
       "SAYCam LSTM 0     True\n",
       "SAYCam 1-gram    False\n",
       "SAYCam 2-gram    False\n",
       "SAYCam CBOW 0    False\n",
       "Name: 7, dtype: bool"
      ]
     },
     "metadata": {},
     "output_type": "display_data"
    },
    {
     "name": "stdout",
     "output_type": "stream",
     "text": [
      "look at these purple thing .\n",
      "look at these purple things .\n"
     ]
    },
    {
     "data": {
      "text/plain": [
       "SAYCam LSTM 0     True\n",
       "SAYCam 1-gram     True\n",
       "SAYCam 2-gram     True\n",
       "SAYCam CBOW 0    False\n",
       "Name: 8, dtype: bool"
      ]
     },
     "metadata": {},
     "output_type": "display_data"
    },
    {
     "name": "stdout",
     "output_type": "stream",
     "text": [
      "i saw these purple thing .\n",
      "i saw these purple things .\n"
     ]
    },
    {
     "data": {
      "text/plain": [
       "SAYCam LSTM 0     True\n",
       "SAYCam 1-gram     True\n",
       "SAYCam 2-gram     True\n",
       "SAYCam CBOW 0    False\n",
       "Name: 11, dtype: bool"
      ]
     },
     "metadata": {},
     "output_type": "display_data"
    },
    {
     "name": "stdout",
     "output_type": "stream",
     "text": [
      "look at those purple thing .\n",
      "look at those purple things .\n"
     ]
    },
    {
     "data": {
      "text/plain": [
       "SAYCam LSTM 0     True\n",
       "SAYCam 1-gram     True\n",
       "SAYCam 2-gram     True\n",
       "SAYCam CBOW 0    False\n",
       "Name: 12, dtype: bool"
      ]
     },
     "metadata": {},
     "output_type": "display_data"
    },
    {
     "name": "stdout",
     "output_type": "stream",
     "text": [
      "i saw those purple thing .\n",
      "i saw those purple things .\n"
     ]
    },
    {
     "data": {
      "text/plain": [
       "SAYCam LSTM 0     True\n",
       "SAYCam 1-gram     True\n",
       "SAYCam 2-gram     True\n",
       "SAYCam CBOW 0    False\n",
       "Name: 15, dtype: bool"
      ]
     },
     "metadata": {},
     "output_type": "display_data"
    },
    {
     "name": "stdout",
     "output_type": "stream",
     "text": [
      "this soft arms went there .\n",
      "this soft arm went there .\n"
     ]
    },
    {
     "data": {
      "text/plain": [
       "SAYCam LSTM 0     True\n",
       "SAYCam 1-gram     True\n",
       "SAYCam 2-gram     True\n",
       "SAYCam CBOW 0    False\n",
       "Name: 17, dtype: bool"
      ]
     },
     "metadata": {},
     "output_type": "display_data"
    },
    {
     "name": "stdout",
     "output_type": "stream",
     "text": [
      "this soft arms did not happen .\n",
      "this soft arm did not happen .\n"
     ]
    },
    {
     "data": {
      "text/plain": [
       "SAYCam LSTM 0     True\n",
       "SAYCam 1-gram     True\n",
       "SAYCam 2-gram     True\n",
       "SAYCam CBOW 0    False\n",
       "Name: 18, dtype: bool"
      ]
     },
     "metadata": {},
     "output_type": "display_data"
    },
    {
     "name": "stdout",
     "output_type": "stream",
     "text": [
      "i saw this soft arms .\n",
      "i saw this soft arm .\n"
     ]
    },
    {
     "data": {
      "text/plain": [
       "SAYCam LSTM 0     True\n",
       "SAYCam 1-gram     True\n",
       "SAYCam 2-gram     True\n",
       "SAYCam CBOW 0    False\n",
       "Name: 19, dtype: bool"
      ]
     },
     "metadata": {},
     "output_type": "display_data"
    },
    {
     "name": "stdout",
     "output_type": "stream",
     "text": [
      "that soft arms went there .\n",
      "that soft arm went there .\n"
     ]
    },
    {
     "data": {
      "text/plain": [
       "SAYCam LSTM 0     True\n",
       "SAYCam 1-gram     True\n",
       "SAYCam 2-gram     True\n",
       "SAYCam CBOW 0    False\n",
       "Name: 21, dtype: bool"
      ]
     },
     "metadata": {},
     "output_type": "display_data"
    },
    {
     "name": "stdout",
     "output_type": "stream",
     "text": [
      "that soft arms did not happen .\n",
      "that soft arm did not happen .\n"
     ]
    },
    {
     "data": {
      "text/plain": [
       "SAYCam LSTM 0     True\n",
       "SAYCam 1-gram     True\n",
       "SAYCam 2-gram     True\n",
       "SAYCam CBOW 0    False\n",
       "Name: 22, dtype: bool"
      ]
     },
     "metadata": {},
     "output_type": "display_data"
    },
    {
     "name": "stdout",
     "output_type": "stream",
     "text": [
      "i saw that soft arms .\n",
      "i saw that soft arm .\n"
     ]
    },
    {
     "data": {
      "text/plain": [
       "SAYCam LSTM 0     True\n",
       "SAYCam 1-gram     True\n",
       "SAYCam 2-gram     True\n",
       "SAYCam CBOW 0    False\n",
       "Name: 23, dtype: bool"
      ]
     },
     "metadata": {},
     "output_type": "display_data"
    },
    {
     "name": "stdout",
     "output_type": "stream",
     "text": [
      "look at these soft arm .\n",
      "look at these soft arms .\n"
     ]
    },
    {
     "data": {
      "text/plain": [
       "SAYCam LSTM 0     True\n",
       "SAYCam 1-gram    False\n",
       "SAYCam 2-gram    False\n",
       "SAYCam CBOW 0     True\n",
       "Name: 24, dtype: bool"
      ]
     },
     "metadata": {},
     "output_type": "display_data"
    },
    {
     "name": "stdout",
     "output_type": "stream",
     "text": [
      "look at those soft arm .\n",
      "look at those soft arms .\n"
     ]
    },
    {
     "data": {
      "text/plain": [
       "SAYCam LSTM 0     True\n",
       "SAYCam 1-gram    False\n",
       "SAYCam 2-gram    False\n",
       "SAYCam CBOW 0     True\n",
       "Name: 28, dtype: bool"
      ]
     },
     "metadata": {},
     "output_type": "display_data"
    },
    {
     "name": "stdout",
     "output_type": "stream",
     "text": [
      "this full arms went there .\n",
      "this full arm went there .\n"
     ]
    },
    {
     "data": {
      "text/plain": [
       "SAYCam LSTM 0     True\n",
       "SAYCam 1-gram     True\n",
       "SAYCam 2-gram     True\n",
       "SAYCam CBOW 0    False\n",
       "Name: 113, dtype: bool"
      ]
     },
     "metadata": {},
     "output_type": "display_data"
    },
    {
     "name": "stdout",
     "output_type": "stream",
     "text": [
      "this full arms did not happen .\n",
      "this full arm did not happen .\n"
     ]
    },
    {
     "data": {
      "text/plain": [
       "SAYCam LSTM 0     True\n",
       "SAYCam 1-gram     True\n",
       "SAYCam 2-gram     True\n",
       "SAYCam CBOW 0    False\n",
       "Name: 114, dtype: bool"
      ]
     },
     "metadata": {},
     "output_type": "display_data"
    },
    {
     "name": "stdout",
     "output_type": "stream",
     "text": [
      "i saw this full arms .\n",
      "i saw this full arm .\n"
     ]
    },
    {
     "data": {
      "text/plain": [
       "SAYCam LSTM 0     True\n",
       "SAYCam 1-gram     True\n",
       "SAYCam 2-gram     True\n",
       "SAYCam CBOW 0    False\n",
       "Name: 115, dtype: bool"
      ]
     },
     "metadata": {},
     "output_type": "display_data"
    },
    {
     "name": "stdout",
     "output_type": "stream",
     "text": [
      "that full arms did not happen .\n",
      "that full arm did not happen .\n"
     ]
    },
    {
     "data": {
      "text/plain": [
       "SAYCam LSTM 0     True\n",
       "SAYCam 1-gram     True\n",
       "SAYCam 2-gram     True\n",
       "SAYCam CBOW 0    False\n",
       "Name: 118, dtype: bool"
      ]
     },
     "metadata": {},
     "output_type": "display_data"
    },
    {
     "name": "stdout",
     "output_type": "stream",
     "text": [
      "i saw that full arms .\n",
      "i saw that full arm .\n"
     ]
    },
    {
     "data": {
      "text/plain": [
       "SAYCam LSTM 0     True\n",
       "SAYCam 1-gram     True\n",
       "SAYCam 2-gram     True\n",
       "SAYCam CBOW 0    False\n",
       "Name: 119, dtype: bool"
      ]
     },
     "metadata": {},
     "output_type": "display_data"
    },
    {
     "name": "stdout",
     "output_type": "stream",
     "text": [
      "look at these full arm .\n",
      "look at these full arms .\n"
     ]
    },
    {
     "data": {
      "text/plain": [
       "SAYCam LSTM 0     True\n",
       "SAYCam 1-gram    False\n",
       "SAYCam 2-gram    False\n",
       "SAYCam CBOW 0     True\n",
       "Name: 120, dtype: bool"
      ]
     },
     "metadata": {},
     "output_type": "display_data"
    },
    {
     "name": "stdout",
     "output_type": "stream",
     "text": [
      "look at those full arm .\n",
      "look at those full arms .\n"
     ]
    },
    {
     "data": {
      "text/plain": [
       "SAYCam LSTM 0     True\n",
       "SAYCam 1-gram    False\n",
       "SAYCam 2-gram    False\n",
       "SAYCam CBOW 0     True\n",
       "Name: 124, dtype: bool"
      ]
     },
     "metadata": {},
     "output_type": "display_data"
    },
    {
     "name": "stdout",
     "output_type": "stream",
     "text": [
      "those full arm went there .\n",
      "those full arms went there .\n"
     ]
    },
    {
     "data": {
      "text/plain": [
       "SAYCam LSTM 0     True\n",
       "SAYCam 1-gram    False\n",
       "SAYCam 2-gram    False\n",
       "SAYCam CBOW 0    False\n",
       "Name: 125, dtype: bool"
      ]
     },
     "metadata": {},
     "output_type": "display_data"
    },
    {
     "name": "stdout",
     "output_type": "stream",
     "text": [
      "those full arm did not happen .\n",
      "those full arms did not happen .\n"
     ]
    },
    {
     "data": {
      "text/plain": [
       "SAYCam LSTM 0     True\n",
       "SAYCam 1-gram    False\n",
       "SAYCam 2-gram    False\n",
       "SAYCam CBOW 0     True\n",
       "Name: 126, dtype: bool"
      ]
     },
     "metadata": {},
     "output_type": "display_data"
    },
    {
     "name": "stdout",
     "output_type": "stream",
     "text": [
      "look at this nice toys .\n",
      "look at this nice toy .\n"
     ]
    },
    {
     "data": {
      "text/plain": [
       "SAYCam LSTM 0     True\n",
       "SAYCam 1-gram    False\n",
       "SAYCam 2-gram    False\n",
       "SAYCam CBOW 0    False\n",
       "Name: 144, dtype: bool"
      ]
     },
     "metadata": {},
     "output_type": "display_data"
    },
    {
     "name": "stdout",
     "output_type": "stream",
     "text": [
      "this nice toys went there .\n",
      "this nice toy went there .\n"
     ]
    },
    {
     "data": {
      "text/plain": [
       "SAYCam LSTM 0     True\n",
       "SAYCam 1-gram    False\n",
       "SAYCam 2-gram    False\n",
       "SAYCam CBOW 0    False\n",
       "Name: 145, dtype: bool"
      ]
     },
     "metadata": {},
     "output_type": "display_data"
    },
    {
     "name": "stdout",
     "output_type": "stream",
     "text": [
      "this nice toys did not happen .\n",
      "this nice toy did not happen .\n"
     ]
    },
    {
     "data": {
      "text/plain": [
       "SAYCam LSTM 0     True\n",
       "SAYCam 1-gram    False\n",
       "SAYCam 2-gram    False\n",
       "SAYCam CBOW 0    False\n",
       "Name: 146, dtype: bool"
      ]
     },
     "metadata": {},
     "output_type": "display_data"
    },
    {
     "name": "stdout",
     "output_type": "stream",
     "text": [
      "i saw this nice toys .\n",
      "i saw this nice toy .\n"
     ]
    },
    {
     "data": {
      "text/plain": [
       "SAYCam LSTM 0     True\n",
       "SAYCam 1-gram    False\n",
       "SAYCam 2-gram    False\n",
       "SAYCam CBOW 0    False\n",
       "Name: 147, dtype: bool"
      ]
     },
     "metadata": {},
     "output_type": "display_data"
    },
    {
     "name": "stdout",
     "output_type": "stream",
     "text": [
      "look at that nice toys .\n",
      "look at that nice toy .\n"
     ]
    },
    {
     "data": {
      "text/plain": [
       "SAYCam LSTM 0     True\n",
       "SAYCam 1-gram    False\n",
       "SAYCam 2-gram    False\n",
       "SAYCam CBOW 0    False\n",
       "Name: 148, dtype: bool"
      ]
     },
     "metadata": {},
     "output_type": "display_data"
    },
    {
     "name": "stdout",
     "output_type": "stream",
     "text": [
      "that nice toys went there .\n",
      "that nice toy went there .\n"
     ]
    },
    {
     "data": {
      "text/plain": [
       "SAYCam LSTM 0     True\n",
       "SAYCam 1-gram    False\n",
       "SAYCam 2-gram    False\n",
       "SAYCam CBOW 0    False\n",
       "Name: 149, dtype: bool"
      ]
     },
     "metadata": {},
     "output_type": "display_data"
    },
    {
     "name": "stdout",
     "output_type": "stream",
     "text": [
      "that nice toys did not happen .\n",
      "that nice toy did not happen .\n"
     ]
    },
    {
     "data": {
      "text/plain": [
       "SAYCam LSTM 0     True\n",
       "SAYCam 1-gram    False\n",
       "SAYCam 2-gram    False\n",
       "SAYCam CBOW 0    False\n",
       "Name: 150, dtype: bool"
      ]
     },
     "metadata": {},
     "output_type": "display_data"
    },
    {
     "name": "stdout",
     "output_type": "stream",
     "text": [
      "i saw that nice toys .\n",
      "i saw that nice toy .\n"
     ]
    },
    {
     "data": {
      "text/plain": [
       "SAYCam LSTM 0     True\n",
       "SAYCam 1-gram    False\n",
       "SAYCam 2-gram    False\n",
       "SAYCam CBOW 0    False\n",
       "Name: 151, dtype: bool"
      ]
     },
     "metadata": {},
     "output_type": "display_data"
    },
    {
     "name": "stdout",
     "output_type": "stream",
     "text": [
      "look at these nice toy .\n",
      "look at these nice toys .\n"
     ]
    },
    {
     "data": {
      "text/plain": [
       "SAYCam LSTM 0     True\n",
       "SAYCam 1-gram     True\n",
       "SAYCam 2-gram     True\n",
       "SAYCam CBOW 0    False\n",
       "Name: 152, dtype: bool"
      ]
     },
     "metadata": {},
     "output_type": "display_data"
    },
    {
     "name": "stdout",
     "output_type": "stream",
     "text": [
      "i saw these nice toy .\n",
      "i saw these nice toys .\n"
     ]
    },
    {
     "data": {
      "text/plain": [
       "SAYCam LSTM 0     True\n",
       "SAYCam 1-gram     True\n",
       "SAYCam 2-gram     True\n",
       "SAYCam CBOW 0    False\n",
       "Name: 155, dtype: bool"
      ]
     },
     "metadata": {},
     "output_type": "display_data"
    },
    {
     "name": "stdout",
     "output_type": "stream",
     "text": [
      "look at this extra days .\n",
      "look at this extra day .\n"
     ]
    },
    {
     "data": {
      "text/plain": [
       "SAYCam LSTM 0     True\n",
       "SAYCam 1-gram     True\n",
       "SAYCam 2-gram     True\n",
       "SAYCam CBOW 0    False\n",
       "Name: 192, dtype: bool"
      ]
     },
     "metadata": {},
     "output_type": "display_data"
    },
    {
     "name": "stdout",
     "output_type": "stream",
     "text": [
      "this extra days went there .\n",
      "this extra day went there .\n"
     ]
    },
    {
     "data": {
      "text/plain": [
       "SAYCam LSTM 0     True\n",
       "SAYCam 1-gram     True\n",
       "SAYCam 2-gram     True\n",
       "SAYCam CBOW 0    False\n",
       "Name: 193, dtype: bool"
      ]
     },
     "metadata": {},
     "output_type": "display_data"
    },
    {
     "name": "stdout",
     "output_type": "stream",
     "text": [
      "i saw this extra days .\n",
      "i saw this extra day .\n"
     ]
    },
    {
     "data": {
      "text/plain": [
       "SAYCam LSTM 0     True\n",
       "SAYCam 1-gram     True\n",
       "SAYCam 2-gram     True\n",
       "SAYCam CBOW 0    False\n",
       "Name: 195, dtype: bool"
      ]
     },
     "metadata": {},
     "output_type": "display_data"
    },
    {
     "name": "stdout",
     "output_type": "stream",
     "text": [
      "look at that extra days .\n",
      "look at that extra day .\n"
     ]
    },
    {
     "data": {
      "text/plain": [
       "SAYCam LSTM 0     True\n",
       "SAYCam 1-gram     True\n",
       "SAYCam 2-gram     True\n",
       "SAYCam CBOW 0    False\n",
       "Name: 196, dtype: bool"
      ]
     },
     "metadata": {},
     "output_type": "display_data"
    },
    {
     "name": "stdout",
     "output_type": "stream",
     "text": [
      "that extra days went there .\n",
      "that extra day went there .\n"
     ]
    },
    {
     "data": {
      "text/plain": [
       "SAYCam LSTM 0     True\n",
       "SAYCam 1-gram     True\n",
       "SAYCam 2-gram     True\n",
       "SAYCam CBOW 0    False\n",
       "Name: 197, dtype: bool"
      ]
     },
     "metadata": {},
     "output_type": "display_data"
    },
    {
     "name": "stdout",
     "output_type": "stream",
     "text": [
      "i saw that extra days .\n",
      "i saw that extra day .\n"
     ]
    },
    {
     "data": {
      "text/plain": [
       "SAYCam LSTM 0     True\n",
       "SAYCam 1-gram     True\n",
       "SAYCam 2-gram     True\n",
       "SAYCam CBOW 0    False\n",
       "Name: 199, dtype: bool"
      ]
     },
     "metadata": {},
     "output_type": "display_data"
    },
    {
     "name": "stdout",
     "output_type": "stream",
     "text": [
      "look at these extra day .\n",
      "look at these extra days .\n"
     ]
    },
    {
     "data": {
      "text/plain": [
       "SAYCam LSTM 0     True\n",
       "SAYCam 1-gram    False\n",
       "SAYCam 2-gram    False\n",
       "SAYCam CBOW 0     True\n",
       "Name: 200, dtype: bool"
      ]
     },
     "metadata": {},
     "output_type": "display_data"
    },
    {
     "name": "stdout",
     "output_type": "stream",
     "text": [
      "i saw these extra day .\n",
      "i saw these extra days .\n"
     ]
    },
    {
     "data": {
      "text/plain": [
       "SAYCam LSTM 0     True\n",
       "SAYCam 1-gram    False\n",
       "SAYCam 2-gram    False\n",
       "SAYCam CBOW 0     True\n",
       "Name: 203, dtype: bool"
      ]
     },
     "metadata": {},
     "output_type": "display_data"
    },
    {
     "name": "stdout",
     "output_type": "stream",
     "text": [
      "look at those extra day .\n",
      "look at those extra days .\n"
     ]
    },
    {
     "data": {
      "text/plain": [
       "SAYCam LSTM 0     True\n",
       "SAYCam 1-gram    False\n",
       "SAYCam 2-gram    False\n",
       "SAYCam CBOW 0     True\n",
       "Name: 204, dtype: bool"
      ]
     },
     "metadata": {},
     "output_type": "display_data"
    },
    {
     "name": "stdout",
     "output_type": "stream",
     "text": [
      "i saw those extra day .\n",
      "i saw those extra days .\n"
     ]
    },
    {
     "data": {
      "text/plain": [
       "SAYCam LSTM 0     True\n",
       "SAYCam 1-gram    False\n",
       "SAYCam 2-gram    False\n",
       "SAYCam CBOW 0     True\n",
       "Name: 207, dtype: bool"
      ]
     },
     "metadata": {},
     "output_type": "display_data"
    },
    {
     "name": "stdout",
     "output_type": "stream",
     "text": [
      "these silly guy went there .\n",
      "these silly guys went there .\n"
     ]
    },
    {
     "data": {
      "text/plain": [
       "SAYCam LSTM 0     True\n",
       "SAYCam 1-gram    False\n",
       "SAYCam 2-gram    False\n",
       "SAYCam CBOW 0     True\n",
       "Name: 249, dtype: bool"
      ]
     },
     "metadata": {},
     "output_type": "display_data"
    },
    {
     "name": "stdout",
     "output_type": "stream",
     "text": [
      "these silly guy did not happen .\n",
      "these silly guys did not happen .\n"
     ]
    },
    {
     "data": {
      "text/plain": [
       "SAYCam LSTM 0     True\n",
       "SAYCam 1-gram    False\n",
       "SAYCam 2-gram    False\n",
       "SAYCam CBOW 0     True\n",
       "Name: 250, dtype: bool"
      ]
     },
     "metadata": {},
     "output_type": "display_data"
    },
    {
     "name": "stdout",
     "output_type": "stream",
     "text": [
      "those silly guy went there .\n",
      "those silly guys went there .\n"
     ]
    },
    {
     "data": {
      "text/plain": [
       "SAYCam LSTM 0     True\n",
       "SAYCam 1-gram    False\n",
       "SAYCam 2-gram    False\n",
       "SAYCam CBOW 0     True\n",
       "Name: 253, dtype: bool"
      ]
     },
     "metadata": {},
     "output_type": "display_data"
    },
    {
     "name": "stdout",
     "output_type": "stream",
     "text": [
      "those silly guy did not happen .\n",
      "those silly guys did not happen .\n"
     ]
    },
    {
     "data": {
      "text/plain": [
       "SAYCam LSTM 0     True\n",
       "SAYCam 1-gram    False\n",
       "SAYCam 2-gram    False\n",
       "SAYCam CBOW 0     True\n",
       "Name: 254, dtype: bool"
      ]
     },
     "metadata": {},
     "output_type": "display_data"
    },
    {
     "name": "stdout",
     "output_type": "stream",
     "text": [
      "that good fingers did not happen .\n",
      "that good finger did not happen .\n"
     ]
    },
    {
     "data": {
      "text/plain": [
       "SAYCam LSTM 0     True\n",
       "SAYCam 1-gram    False\n",
       "SAYCam 2-gram    False\n",
       "SAYCam CBOW 0    False\n",
       "Name: 310, dtype: bool"
      ]
     },
     "metadata": {},
     "output_type": "display_data"
    },
    {
     "name": "stdout",
     "output_type": "stream",
     "text": [
      "look at this hard minutes .\n",
      "look at this hard minute .\n"
     ]
    },
    {
     "data": {
      "text/plain": [
       "SAYCam LSTM 0     True\n",
       "SAYCam 1-gram    False\n",
       "SAYCam 2-gram    False\n",
       "SAYCam CBOW 0    False\n",
       "Name: 320, dtype: bool"
      ]
     },
     "metadata": {},
     "output_type": "display_data"
    },
    {
     "name": "stdout",
     "output_type": "stream",
     "text": [
      "this hard minutes went there .\n",
      "this hard minute went there .\n"
     ]
    },
    {
     "data": {
      "text/plain": [
       "SAYCam LSTM 0     True\n",
       "SAYCam 1-gram    False\n",
       "SAYCam 2-gram    False\n",
       "SAYCam CBOW 0     True\n",
       "Name: 321, dtype: bool"
      ]
     },
     "metadata": {},
     "output_type": "display_data"
    },
    {
     "name": "stdout",
     "output_type": "stream",
     "text": [
      "this hard minutes did not happen .\n",
      "this hard minute did not happen .\n"
     ]
    },
    {
     "data": {
      "text/plain": [
       "SAYCam LSTM 0     True\n",
       "SAYCam 1-gram    False\n",
       "SAYCam 2-gram    False\n",
       "SAYCam CBOW 0    False\n",
       "Name: 322, dtype: bool"
      ]
     },
     "metadata": {},
     "output_type": "display_data"
    },
    {
     "name": "stdout",
     "output_type": "stream",
     "text": [
      "i saw this hard minutes .\n",
      "i saw this hard minute .\n"
     ]
    },
    {
     "data": {
      "text/plain": [
       "SAYCam LSTM 0     True\n",
       "SAYCam 1-gram    False\n",
       "SAYCam 2-gram    False\n",
       "SAYCam CBOW 0    False\n",
       "Name: 323, dtype: bool"
      ]
     },
     "metadata": {},
     "output_type": "display_data"
    },
    {
     "name": "stdout",
     "output_type": "stream",
     "text": [
      "look at that hard minutes .\n",
      "look at that hard minute .\n"
     ]
    },
    {
     "data": {
      "text/plain": [
       "SAYCam LSTM 0     True\n",
       "SAYCam 1-gram    False\n",
       "SAYCam 2-gram    False\n",
       "SAYCam CBOW 0    False\n",
       "Name: 324, dtype: bool"
      ]
     },
     "metadata": {},
     "output_type": "display_data"
    },
    {
     "name": "stdout",
     "output_type": "stream",
     "text": [
      "that hard minutes went there .\n",
      "that hard minute went there .\n"
     ]
    },
    {
     "data": {
      "text/plain": [
       "SAYCam LSTM 0     True\n",
       "SAYCam 1-gram    False\n",
       "SAYCam 2-gram    False\n",
       "SAYCam CBOW 0     True\n",
       "Name: 325, dtype: bool"
      ]
     },
     "metadata": {},
     "output_type": "display_data"
    },
    {
     "name": "stdout",
     "output_type": "stream",
     "text": [
      "that hard minutes did not happen .\n",
      "that hard minute did not happen .\n"
     ]
    },
    {
     "data": {
      "text/plain": [
       "SAYCam LSTM 0     True\n",
       "SAYCam 1-gram    False\n",
       "SAYCam 2-gram    False\n",
       "SAYCam CBOW 0    False\n",
       "Name: 326, dtype: bool"
      ]
     },
     "metadata": {},
     "output_type": "display_data"
    },
    {
     "name": "stdout",
     "output_type": "stream",
     "text": [
      "i saw that hard minutes .\n",
      "i saw that hard minute .\n"
     ]
    },
    {
     "data": {
      "text/plain": [
       "SAYCam LSTM 0     True\n",
       "SAYCam 1-gram    False\n",
       "SAYCam 2-gram    False\n",
       "SAYCam CBOW 0    False\n",
       "Name: 327, dtype: bool"
      ]
     },
     "metadata": {},
     "output_type": "display_data"
    },
    {
     "name": "stdout",
     "output_type": "stream",
     "text": [
      "these hard minute went there .\n",
      "these hard minutes went there .\n"
     ]
    },
    {
     "data": {
      "text/plain": [
       "SAYCam LSTM 0     True\n",
       "SAYCam 1-gram     True\n",
       "SAYCam 2-gram     True\n",
       "SAYCam CBOW 0    False\n",
       "Name: 329, dtype: bool"
      ]
     },
     "metadata": {},
     "output_type": "display_data"
    },
    {
     "name": "stdout",
     "output_type": "stream",
     "text": [
      "those hard minute went there .\n",
      "those hard minutes went there .\n"
     ]
    },
    {
     "data": {
      "text/plain": [
       "SAYCam LSTM 0     True\n",
       "SAYCam 1-gram     True\n",
       "SAYCam 2-gram     True\n",
       "SAYCam CBOW 0    False\n",
       "Name: 333, dtype: bool"
      ]
     },
     "metadata": {},
     "output_type": "display_data"
    },
    {
     "name": "stdout",
     "output_type": "stream",
     "text": [
      "look at this early feet .\n",
      "look at this early foot .\n"
     ]
    },
    {
     "data": {
      "text/plain": [
       "SAYCam LSTM 0     True\n",
       "SAYCam 1-gram     True\n",
       "SAYCam 2-gram     True\n",
       "SAYCam CBOW 0    False\n",
       "Name: 368, dtype: bool"
      ]
     },
     "metadata": {},
     "output_type": "display_data"
    },
    {
     "name": "stdout",
     "output_type": "stream",
     "text": [
      "this early feet did not happen .\n",
      "this early foot did not happen .\n"
     ]
    },
    {
     "data": {
      "text/plain": [
       "SAYCam LSTM 0     True\n",
       "SAYCam 1-gram     True\n",
       "SAYCam 2-gram     True\n",
       "SAYCam CBOW 0    False\n",
       "Name: 370, dtype: bool"
      ]
     },
     "metadata": {},
     "output_type": "display_data"
    },
    {
     "name": "stdout",
     "output_type": "stream",
     "text": [
      "i saw this early feet .\n",
      "i saw this early foot .\n"
     ]
    },
    {
     "data": {
      "text/plain": [
       "SAYCam LSTM 0     True\n",
       "SAYCam 1-gram     True\n",
       "SAYCam 2-gram     True\n",
       "SAYCam CBOW 0    False\n",
       "Name: 371, dtype: bool"
      ]
     },
     "metadata": {},
     "output_type": "display_data"
    },
    {
     "name": "stdout",
     "output_type": "stream",
     "text": [
      "look at that early feet .\n",
      "look at that early foot .\n"
     ]
    },
    {
     "data": {
      "text/plain": [
       "SAYCam LSTM 0     True\n",
       "SAYCam 1-gram     True\n",
       "SAYCam 2-gram     True\n",
       "SAYCam CBOW 0    False\n",
       "Name: 372, dtype: bool"
      ]
     },
     "metadata": {},
     "output_type": "display_data"
    },
    {
     "name": "stdout",
     "output_type": "stream",
     "text": [
      "that early feet did not happen .\n",
      "that early foot did not happen .\n"
     ]
    },
    {
     "data": {
      "text/plain": [
       "SAYCam LSTM 0     True\n",
       "SAYCam 1-gram     True\n",
       "SAYCam 2-gram     True\n",
       "SAYCam CBOW 0    False\n",
       "Name: 374, dtype: bool"
      ]
     },
     "metadata": {},
     "output_type": "display_data"
    },
    {
     "name": "stdout",
     "output_type": "stream",
     "text": [
      "i saw that early feet .\n",
      "i saw that early foot .\n"
     ]
    },
    {
     "data": {
      "text/plain": [
       "SAYCam LSTM 0     True\n",
       "SAYCam 1-gram     True\n",
       "SAYCam 2-gram     True\n",
       "SAYCam CBOW 0    False\n",
       "Name: 375, dtype: bool"
      ]
     },
     "metadata": {},
     "output_type": "display_data"
    },
    {
     "name": "stdout",
     "output_type": "stream",
     "text": [
      "look at these early foot .\n",
      "look at these early feet .\n"
     ]
    },
    {
     "data": {
      "text/plain": [
       "SAYCam LSTM 0     True\n",
       "SAYCam 1-gram    False\n",
       "SAYCam 2-gram    False\n",
       "SAYCam CBOW 0    False\n",
       "Name: 376, dtype: bool"
      ]
     },
     "metadata": {},
     "output_type": "display_data"
    },
    {
     "name": "stdout",
     "output_type": "stream",
     "text": [
      "i saw these early foot .\n",
      "i saw these early feet .\n"
     ]
    },
    {
     "data": {
      "text/plain": [
       "SAYCam LSTM 0     True\n",
       "SAYCam 1-gram    False\n",
       "SAYCam 2-gram    False\n",
       "SAYCam CBOW 0    False\n",
       "Name: 379, dtype: bool"
      ]
     },
     "metadata": {},
     "output_type": "display_data"
    },
    {
     "name": "stdout",
     "output_type": "stream",
     "text": [
      "look at those early foot .\n",
      "look at those early feet .\n"
     ]
    },
    {
     "data": {
      "text/plain": [
       "SAYCam LSTM 0     True\n",
       "SAYCam 1-gram    False\n",
       "SAYCam 2-gram    False\n",
       "SAYCam CBOW 0    False\n",
       "Name: 380, dtype: bool"
      ]
     },
     "metadata": {},
     "output_type": "display_data"
    },
    {
     "name": "stdout",
     "output_type": "stream",
     "text": [
      "those early foot went there .\n",
      "those early feet went there .\n"
     ]
    },
    {
     "data": {
      "text/plain": [
       "SAYCam LSTM 0     True\n",
       "SAYCam 1-gram    False\n",
       "SAYCam 2-gram    False\n",
       "SAYCam CBOW 0    False\n",
       "Name: 381, dtype: bool"
      ]
     },
     "metadata": {},
     "output_type": "display_data"
    },
    {
     "name": "stdout",
     "output_type": "stream",
     "text": [
      "those early foot did not happen .\n",
      "those early feet did not happen .\n"
     ]
    },
    {
     "data": {
      "text/plain": [
       "SAYCam LSTM 0     True\n",
       "SAYCam 1-gram    False\n",
       "SAYCam 2-gram    False\n",
       "SAYCam CBOW 0     True\n",
       "Name: 382, dtype: bool"
      ]
     },
     "metadata": {},
     "output_type": "display_data"
    },
    {
     "name": "stdout",
     "output_type": "stream",
     "text": [
      "i saw those early foot .\n",
      "i saw those early feet .\n"
     ]
    },
    {
     "data": {
      "text/plain": [
       "SAYCam LSTM 0     True\n",
       "SAYCam 1-gram    False\n",
       "SAYCam 2-gram    False\n",
       "SAYCam CBOW 0    False\n",
       "Name: 383, dtype: bool"
      ]
     },
     "metadata": {},
     "output_type": "display_data"
    },
    {
     "name": "stdout",
     "output_type": "stream",
     "text": [
      "look at these red whale .\n",
      "look at these red whales .\n"
     ]
    },
    {
     "data": {
      "text/plain": [
       "SAYCam LSTM 0     True\n",
       "SAYCam 1-gram    False\n",
       "SAYCam 2-gram    False\n",
       "SAYCam CBOW 0    False\n",
       "Name: 392, dtype: bool"
      ]
     },
     "metadata": {},
     "output_type": "display_data"
    },
    {
     "name": "stdout",
     "output_type": "stream",
     "text": [
      "these red whale went there .\n",
      "these red whales went there .\n"
     ]
    },
    {
     "data": {
      "text/plain": [
       "SAYCam LSTM 0     True\n",
       "SAYCam 1-gram    False\n",
       "SAYCam 2-gram    False\n",
       "SAYCam CBOW 0    False\n",
       "Name: 393, dtype: bool"
      ]
     },
     "metadata": {},
     "output_type": "display_data"
    },
    {
     "name": "stdout",
     "output_type": "stream",
     "text": [
      "i saw these red whale .\n",
      "i saw these red whales .\n"
     ]
    },
    {
     "data": {
      "text/plain": [
       "SAYCam LSTM 0     True\n",
       "SAYCam 1-gram    False\n",
       "SAYCam 2-gram    False\n",
       "SAYCam CBOW 0    False\n",
       "Name: 395, dtype: bool"
      ]
     },
     "metadata": {},
     "output_type": "display_data"
    },
    {
     "name": "stdout",
     "output_type": "stream",
     "text": [
      "look at those red whale .\n",
      "look at those red whales .\n"
     ]
    },
    {
     "data": {
      "text/plain": [
       "SAYCam LSTM 0     True\n",
       "SAYCam 1-gram    False\n",
       "SAYCam 2-gram    False\n",
       "SAYCam CBOW 0    False\n",
       "Name: 396, dtype: bool"
      ]
     },
     "metadata": {},
     "output_type": "display_data"
    },
    {
     "name": "stdout",
     "output_type": "stream",
     "text": [
      "those red whale went there .\n",
      "those red whales went there .\n"
     ]
    },
    {
     "data": {
      "text/plain": [
       "SAYCam LSTM 0     True\n",
       "SAYCam 1-gram    False\n",
       "SAYCam 2-gram    False\n",
       "SAYCam CBOW 0    False\n",
       "Name: 397, dtype: bool"
      ]
     },
     "metadata": {},
     "output_type": "display_data"
    },
    {
     "name": "stdout",
     "output_type": "stream",
     "text": [
      "those red whale did not happen .\n",
      "those red whales did not happen .\n"
     ]
    },
    {
     "data": {
      "text/plain": [
       "SAYCam LSTM 0     True\n",
       "SAYCam 1-gram    False\n",
       "SAYCam 2-gram    False\n",
       "SAYCam CBOW 0    False\n",
       "Name: 398, dtype: bool"
      ]
     },
     "metadata": {},
     "output_type": "display_data"
    },
    {
     "name": "stdout",
     "output_type": "stream",
     "text": [
      "i saw those red whale .\n",
      "i saw those red whales .\n"
     ]
    },
    {
     "data": {
      "text/plain": [
       "SAYCam LSTM 0     True\n",
       "SAYCam 1-gram    False\n",
       "SAYCam 2-gram    False\n",
       "SAYCam CBOW 0    False\n",
       "Name: 399, dtype: bool"
      ]
     },
     "metadata": {},
     "output_type": "display_data"
    },
    {
     "name": "stdout",
     "output_type": "stream",
     "text": [
      "look at this bad rings .\n",
      "look at this bad ring .\n"
     ]
    },
    {
     "data": {
      "text/plain": [
       "SAYCam LSTM 0     True\n",
       "SAYCam 1-gram     True\n",
       "SAYCam 2-gram    False\n",
       "SAYCam CBOW 0    False\n",
       "Name: 400, dtype: bool"
      ]
     },
     "metadata": {},
     "output_type": "display_data"
    },
    {
     "name": "stdout",
     "output_type": "stream",
     "text": [
      "this bad rings did not happen .\n",
      "this bad ring did not happen .\n"
     ]
    },
    {
     "data": {
      "text/plain": [
       "SAYCam LSTM 0     True\n",
       "SAYCam 1-gram     True\n",
       "SAYCam 2-gram     True\n",
       "SAYCam CBOW 0    False\n",
       "Name: 402, dtype: bool"
      ]
     },
     "metadata": {},
     "output_type": "display_data"
    },
    {
     "name": "stdout",
     "output_type": "stream",
     "text": [
      "i saw this bad rings .\n",
      "i saw this bad ring .\n"
     ]
    },
    {
     "data": {
      "text/plain": [
       "SAYCam LSTM 0     True\n",
       "SAYCam 1-gram     True\n",
       "SAYCam 2-gram    False\n",
       "SAYCam CBOW 0    False\n",
       "Name: 403, dtype: bool"
      ]
     },
     "metadata": {},
     "output_type": "display_data"
    },
    {
     "name": "stdout",
     "output_type": "stream",
     "text": [
      "look at that bad rings .\n",
      "look at that bad ring .\n"
     ]
    },
    {
     "data": {
      "text/plain": [
       "SAYCam LSTM 0     True\n",
       "SAYCam 1-gram     True\n",
       "SAYCam 2-gram    False\n",
       "SAYCam CBOW 0    False\n",
       "Name: 404, dtype: bool"
      ]
     },
     "metadata": {},
     "output_type": "display_data"
    },
    {
     "name": "stdout",
     "output_type": "stream",
     "text": [
      "that bad rings did not happen .\n",
      "that bad ring did not happen .\n"
     ]
    },
    {
     "data": {
      "text/plain": [
       "SAYCam LSTM 0     True\n",
       "SAYCam 1-gram     True\n",
       "SAYCam 2-gram     True\n",
       "SAYCam CBOW 0    False\n",
       "Name: 406, dtype: bool"
      ]
     },
     "metadata": {},
     "output_type": "display_data"
    },
    {
     "name": "stdout",
     "output_type": "stream",
     "text": [
      "i saw that bad rings .\n",
      "i saw that bad ring .\n"
     ]
    },
    {
     "data": {
      "text/plain": [
       "SAYCam LSTM 0     True\n",
       "SAYCam 1-gram     True\n",
       "SAYCam 2-gram    False\n",
       "SAYCam CBOW 0    False\n",
       "Name: 407, dtype: bool"
      ]
     },
     "metadata": {},
     "output_type": "display_data"
    },
    {
     "name": "stdout",
     "output_type": "stream",
     "text": [
      "look at these bad ring .\n",
      "look at these bad rings .\n"
     ]
    },
    {
     "data": {
      "text/plain": [
       "SAYCam LSTM 0     True\n",
       "SAYCam 1-gram    False\n",
       "SAYCam 2-gram     True\n",
       "SAYCam CBOW 0    False\n",
       "Name: 408, dtype: bool"
      ]
     },
     "metadata": {},
     "output_type": "display_data"
    },
    {
     "name": "stdout",
     "output_type": "stream",
     "text": [
      "these bad ring went there .\n",
      "these bad rings went there .\n"
     ]
    },
    {
     "data": {
      "text/plain": [
       "SAYCam LSTM 0     True\n",
       "SAYCam 1-gram    False\n",
       "SAYCam 2-gram    False\n",
       "SAYCam CBOW 0    False\n",
       "Name: 409, dtype: bool"
      ]
     },
     "metadata": {},
     "output_type": "display_data"
    },
    {
     "name": "stdout",
     "output_type": "stream",
     "text": [
      "look at those bad ring .\n",
      "look at those bad rings .\n"
     ]
    },
    {
     "data": {
      "text/plain": [
       "SAYCam LSTM 0     True\n",
       "SAYCam 1-gram    False\n",
       "SAYCam 2-gram     True\n",
       "SAYCam CBOW 0    False\n",
       "Name: 412, dtype: bool"
      ]
     },
     "metadata": {},
     "output_type": "display_data"
    },
    {
     "name": "stdout",
     "output_type": "stream",
     "text": [
      "those bad ring went there .\n",
      "those bad rings went there .\n"
     ]
    },
    {
     "data": {
      "text/plain": [
       "SAYCam LSTM 0     True\n",
       "SAYCam 1-gram    False\n",
       "SAYCam 2-gram    False\n",
       "SAYCam CBOW 0    False\n",
       "Name: 413, dtype: bool"
      ]
     },
     "metadata": {},
     "output_type": "display_data"
    },
    {
     "name": "stdout",
     "output_type": "stream",
     "text": [
      "those bad ring did not happen .\n",
      "those bad rings did not happen .\n"
     ]
    },
    {
     "data": {
      "text/plain": [
       "SAYCam LSTM 0     True\n",
       "SAYCam 1-gram    False\n",
       "SAYCam 2-gram    False\n",
       "SAYCam CBOW 0    False\n",
       "Name: 414, dtype: bool"
      ]
     },
     "metadata": {},
     "output_type": "display_data"
    },
    {
     "name": "stdout",
     "output_type": "stream",
     "text": [
      "that ready books went there .\n",
      "that ready book went there .\n"
     ]
    },
    {
     "data": {
      "text/plain": [
       "SAYCam LSTM 0     True\n",
       "SAYCam 1-gram     True\n",
       "SAYCam 2-gram     True\n",
       "SAYCam CBOW 0    False\n",
       "Name: 485, dtype: bool"
      ]
     },
     "metadata": {},
     "output_type": "display_data"
    },
    {
     "name": "stdout",
     "output_type": "stream",
     "text": [
      "these ready book went there .\n",
      "these ready books went there .\n"
     ]
    },
    {
     "data": {
      "text/plain": [
       "SAYCam LSTM 0     True\n",
       "SAYCam 1-gram    False\n",
       "SAYCam 2-gram    False\n",
       "SAYCam CBOW 0    False\n",
       "Name: 489, dtype: bool"
      ]
     },
     "metadata": {},
     "output_type": "display_data"
    },
    {
     "name": "stdout",
     "output_type": "stream",
     "text": [
      "i saw these ready book .\n",
      "i saw these ready books .\n"
     ]
    },
    {
     "data": {
      "text/plain": [
       "SAYCam LSTM 0     True\n",
       "SAYCam 1-gram    False\n",
       "SAYCam 2-gram    False\n",
       "SAYCam CBOW 0    False\n",
       "Name: 491, dtype: bool"
      ]
     },
     "metadata": {},
     "output_type": "display_data"
    },
    {
     "name": "stdout",
     "output_type": "stream",
     "text": [
      "look at those ready book .\n",
      "look at those ready books .\n"
     ]
    },
    {
     "data": {
      "text/plain": [
       "SAYCam LSTM 0     True\n",
       "SAYCam 1-gram    False\n",
       "SAYCam 2-gram    False\n",
       "SAYCam CBOW 0    False\n",
       "Name: 492, dtype: bool"
      ]
     },
     "metadata": {},
     "output_type": "display_data"
    },
    {
     "name": "stdout",
     "output_type": "stream",
     "text": [
      "those ready book went there .\n",
      "those ready books went there .\n"
     ]
    },
    {
     "data": {
      "text/plain": [
       "SAYCam LSTM 0     True\n",
       "SAYCam 1-gram    False\n",
       "SAYCam 2-gram    False\n",
       "SAYCam CBOW 0    False\n",
       "Name: 493, dtype: bool"
      ]
     },
     "metadata": {},
     "output_type": "display_data"
    },
    {
     "name": "stdout",
     "output_type": "stream",
     "text": [
      "i saw those ready book .\n",
      "i saw those ready books .\n"
     ]
    },
    {
     "data": {
      "text/plain": [
       "SAYCam LSTM 0     True\n",
       "SAYCam 1-gram    False\n",
       "SAYCam 2-gram    False\n",
       "SAYCam CBOW 0    False\n",
       "Name: 495, dtype: bool"
      ]
     },
     "metadata": {},
     "output_type": "display_data"
    },
    {
     "name": "stdout",
     "output_type": "stream",
     "text": [
      "look at this bad pictures .\n",
      "look at this bad picture .\n"
     ]
    },
    {
     "data": {
      "text/plain": [
       "SAYCam LSTM 0     True\n",
       "SAYCam 1-gram     True\n",
       "SAYCam 2-gram    False\n",
       "SAYCam CBOW 0    False\n",
       "Name: 608, dtype: bool"
      ]
     },
     "metadata": {},
     "output_type": "display_data"
    },
    {
     "name": "stdout",
     "output_type": "stream",
     "text": [
      "look at these bad picture .\n",
      "look at these bad pictures .\n"
     ]
    },
    {
     "data": {
      "text/plain": [
       "SAYCam LSTM 0     True\n",
       "SAYCam 1-gram    False\n",
       "SAYCam 2-gram     True\n",
       "SAYCam CBOW 0     True\n",
       "Name: 616, dtype: bool"
      ]
     },
     "metadata": {},
     "output_type": "display_data"
    },
    {
     "name": "stdout",
     "output_type": "stream",
     "text": [
      "these bad picture went there .\n",
      "these bad pictures went there .\n"
     ]
    },
    {
     "data": {
      "text/plain": [
       "SAYCam LSTM 0     True\n",
       "SAYCam 1-gram    False\n",
       "SAYCam 2-gram    False\n",
       "SAYCam CBOW 0     True\n",
       "Name: 617, dtype: bool"
      ]
     },
     "metadata": {},
     "output_type": "display_data"
    },
    {
     "name": "stdout",
     "output_type": "stream",
     "text": [
      "these bad picture did not happen .\n",
      "these bad pictures did not happen .\n"
     ]
    },
    {
     "data": {
      "text/plain": [
       "SAYCam LSTM 0     True\n",
       "SAYCam 1-gram    False\n",
       "SAYCam 2-gram    False\n",
       "SAYCam CBOW 0     True\n",
       "Name: 618, dtype: bool"
      ]
     },
     "metadata": {},
     "output_type": "display_data"
    },
    {
     "name": "stdout",
     "output_type": "stream",
     "text": [
      "i saw these bad picture .\n",
      "i saw these bad pictures .\n"
     ]
    },
    {
     "data": {
      "text/plain": [
       "SAYCam LSTM 0     True\n",
       "SAYCam 1-gram    False\n",
       "SAYCam 2-gram     True\n",
       "SAYCam CBOW 0     True\n",
       "Name: 619, dtype: bool"
      ]
     },
     "metadata": {},
     "output_type": "display_data"
    },
    {
     "name": "stdout",
     "output_type": "stream",
     "text": [
      "look at those bad picture .\n",
      "look at those bad pictures .\n"
     ]
    },
    {
     "data": {
      "text/plain": [
       "SAYCam LSTM 0     True\n",
       "SAYCam 1-gram    False\n",
       "SAYCam 2-gram     True\n",
       "SAYCam CBOW 0     True\n",
       "Name: 620, dtype: bool"
      ]
     },
     "metadata": {},
     "output_type": "display_data"
    },
    {
     "name": "stdout",
     "output_type": "stream",
     "text": [
      "those bad picture went there .\n",
      "those bad pictures went there .\n"
     ]
    },
    {
     "data": {
      "text/plain": [
       "SAYCam LSTM 0     True\n",
       "SAYCam 1-gram    False\n",
       "SAYCam 2-gram    False\n",
       "SAYCam CBOW 0     True\n",
       "Name: 621, dtype: bool"
      ]
     },
     "metadata": {},
     "output_type": "display_data"
    },
    {
     "name": "stdout",
     "output_type": "stream",
     "text": [
      "those bad picture did not happen .\n",
      "those bad pictures did not happen .\n"
     ]
    },
    {
     "data": {
      "text/plain": [
       "SAYCam LSTM 0     True\n",
       "SAYCam 1-gram    False\n",
       "SAYCam 2-gram    False\n",
       "SAYCam CBOW 0     True\n",
       "Name: 622, dtype: bool"
      ]
     },
     "metadata": {},
     "output_type": "display_data"
    },
    {
     "name": "stdout",
     "output_type": "stream",
     "text": [
      "i saw those bad picture .\n",
      "i saw those bad pictures .\n"
     ]
    },
    {
     "data": {
      "text/plain": [
       "SAYCam LSTM 0     True\n",
       "SAYCam 1-gram    False\n",
       "SAYCam 2-gram     True\n",
       "SAYCam CBOW 0     True\n",
       "Name: 623, dtype: bool"
      ]
     },
     "metadata": {},
     "output_type": "display_data"
    },
    {
     "name": "stdout",
     "output_type": "stream",
     "text": [
      "look at this wrong colors .\n",
      "look at this wrong color .\n"
     ]
    },
    {
     "data": {
      "text/plain": [
       "SAYCam LSTM 0     True\n",
       "SAYCam 1-gram     True\n",
       "SAYCam 2-gram     True\n",
       "SAYCam CBOW 0    False\n",
       "Name: 624, dtype: bool"
      ]
     },
     "metadata": {},
     "output_type": "display_data"
    },
    {
     "name": "stdout",
     "output_type": "stream",
     "text": [
      "this wrong colors went there .\n",
      "this wrong color went there .\n"
     ]
    },
    {
     "data": {
      "text/plain": [
       "SAYCam LSTM 0     True\n",
       "SAYCam 1-gram     True\n",
       "SAYCam 2-gram     True\n",
       "SAYCam CBOW 0    False\n",
       "Name: 625, dtype: bool"
      ]
     },
     "metadata": {},
     "output_type": "display_data"
    },
    {
     "name": "stdout",
     "output_type": "stream",
     "text": [
      "this wrong colors did not happen .\n",
      "this wrong color did not happen .\n"
     ]
    },
    {
     "data": {
      "text/plain": [
       "SAYCam LSTM 0     True\n",
       "SAYCam 1-gram     True\n",
       "SAYCam 2-gram     True\n",
       "SAYCam CBOW 0    False\n",
       "Name: 626, dtype: bool"
      ]
     },
     "metadata": {},
     "output_type": "display_data"
    },
    {
     "name": "stdout",
     "output_type": "stream",
     "text": [
      "i saw this wrong colors .\n",
      "i saw this wrong color .\n"
     ]
    },
    {
     "data": {
      "text/plain": [
       "SAYCam LSTM 0     True\n",
       "SAYCam 1-gram     True\n",
       "SAYCam 2-gram     True\n",
       "SAYCam CBOW 0    False\n",
       "Name: 627, dtype: bool"
      ]
     },
     "metadata": {},
     "output_type": "display_data"
    },
    {
     "name": "stdout",
     "output_type": "stream",
     "text": [
      "look at that wrong colors .\n",
      "look at that wrong color .\n"
     ]
    },
    {
     "data": {
      "text/plain": [
       "SAYCam LSTM 0     True\n",
       "SAYCam 1-gram     True\n",
       "SAYCam 2-gram     True\n",
       "SAYCam CBOW 0    False\n",
       "Name: 628, dtype: bool"
      ]
     },
     "metadata": {},
     "output_type": "display_data"
    },
    {
     "name": "stdout",
     "output_type": "stream",
     "text": [
      "that wrong colors went there .\n",
      "that wrong color went there .\n"
     ]
    },
    {
     "data": {
      "text/plain": [
       "SAYCam LSTM 0     True\n",
       "SAYCam 1-gram     True\n",
       "SAYCam 2-gram     True\n",
       "SAYCam CBOW 0    False\n",
       "Name: 629, dtype: bool"
      ]
     },
     "metadata": {},
     "output_type": "display_data"
    },
    {
     "name": "stdout",
     "output_type": "stream",
     "text": [
      "that wrong colors did not happen .\n",
      "that wrong color did not happen .\n"
     ]
    },
    {
     "data": {
      "text/plain": [
       "SAYCam LSTM 0     True\n",
       "SAYCam 1-gram     True\n",
       "SAYCam 2-gram     True\n",
       "SAYCam CBOW 0    False\n",
       "Name: 630, dtype: bool"
      ]
     },
     "metadata": {},
     "output_type": "display_data"
    },
    {
     "name": "stdout",
     "output_type": "stream",
     "text": [
      "i saw that wrong colors .\n",
      "i saw that wrong color .\n"
     ]
    },
    {
     "data": {
      "text/plain": [
       "SAYCam LSTM 0     True\n",
       "SAYCam 1-gram     True\n",
       "SAYCam 2-gram     True\n",
       "SAYCam CBOW 0    False\n",
       "Name: 631, dtype: bool"
      ]
     },
     "metadata": {},
     "output_type": "display_data"
    },
    {
     "name": "stdout",
     "output_type": "stream",
     "text": [
      "look at these wrong color .\n",
      "look at these wrong colors .\n"
     ]
    },
    {
     "data": {
      "text/plain": [
       "SAYCam LSTM 0     True\n",
       "SAYCam 1-gram    False\n",
       "SAYCam 2-gram    False\n",
       "SAYCam CBOW 0    False\n",
       "Name: 632, dtype: bool"
      ]
     },
     "metadata": {},
     "output_type": "display_data"
    },
    {
     "name": "stdout",
     "output_type": "stream",
     "text": [
      "these wrong color went there .\n",
      "these wrong colors went there .\n"
     ]
    },
    {
     "data": {
      "text/plain": [
       "SAYCam LSTM 0     True\n",
       "SAYCam 1-gram    False\n",
       "SAYCam 2-gram    False\n",
       "SAYCam CBOW 0     True\n",
       "Name: 633, dtype: bool"
      ]
     },
     "metadata": {},
     "output_type": "display_data"
    },
    {
     "name": "stdout",
     "output_type": "stream",
     "text": [
      "these wrong color did not happen .\n",
      "these wrong colors did not happen .\n"
     ]
    },
    {
     "data": {
      "text/plain": [
       "SAYCam LSTM 0     True\n",
       "SAYCam 1-gram    False\n",
       "SAYCam 2-gram    False\n",
       "SAYCam CBOW 0     True\n",
       "Name: 634, dtype: bool"
      ]
     },
     "metadata": {},
     "output_type": "display_data"
    },
    {
     "name": "stdout",
     "output_type": "stream",
     "text": [
      "look at those wrong color .\n",
      "look at those wrong colors .\n"
     ]
    },
    {
     "data": {
      "text/plain": [
       "SAYCam LSTM 0     True\n",
       "SAYCam 1-gram    False\n",
       "SAYCam 2-gram    False\n",
       "SAYCam CBOW 0     True\n",
       "Name: 636, dtype: bool"
      ]
     },
     "metadata": {},
     "output_type": "display_data"
    },
    {
     "name": "stdout",
     "output_type": "stream",
     "text": [
      "those wrong color went there .\n",
      "those wrong colors went there .\n"
     ]
    },
    {
     "data": {
      "text/plain": [
       "SAYCam LSTM 0     True\n",
       "SAYCam 1-gram    False\n",
       "SAYCam 2-gram    False\n",
       "SAYCam CBOW 0     True\n",
       "Name: 637, dtype: bool"
      ]
     },
     "metadata": {},
     "output_type": "display_data"
    },
    {
     "name": "stdout",
     "output_type": "stream",
     "text": [
      "those wrong color did not happen .\n",
      "those wrong colors did not happen .\n"
     ]
    },
    {
     "data": {
      "text/plain": [
       "SAYCam LSTM 0     True\n",
       "SAYCam 1-gram    False\n",
       "SAYCam 2-gram    False\n",
       "SAYCam CBOW 0     True\n",
       "Name: 638, dtype: bool"
      ]
     },
     "metadata": {},
     "output_type": "display_data"
    },
    {
     "name": "stdout",
     "output_type": "stream",
     "text": [
      "look at that fixed bits .\n",
      "look at that fixed bit .\n"
     ]
    },
    {
     "data": {
      "text/plain": [
       "SAYCam LSTM 0     True\n",
       "SAYCam 1-gram     True\n",
       "SAYCam 2-gram     True\n",
       "SAYCam CBOW 0    False\n",
       "Name: 644, dtype: bool"
      ]
     },
     "metadata": {},
     "output_type": "display_data"
    },
    {
     "name": "stdout",
     "output_type": "stream",
     "text": [
      "that fixed bits did not happen .\n",
      "that fixed bit did not happen .\n"
     ]
    },
    {
     "data": {
      "text/plain": [
       "SAYCam LSTM 0     True\n",
       "SAYCam 1-gram     True\n",
       "SAYCam 2-gram     True\n",
       "SAYCam CBOW 0    False\n",
       "Name: 646, dtype: bool"
      ]
     },
     "metadata": {},
     "output_type": "display_data"
    },
    {
     "name": "stdout",
     "output_type": "stream",
     "text": [
      "i saw that fixed bits .\n",
      "i saw that fixed bit .\n"
     ]
    },
    {
     "data": {
      "text/plain": [
       "SAYCam LSTM 0     True\n",
       "SAYCam 1-gram     True\n",
       "SAYCam 2-gram     True\n",
       "SAYCam CBOW 0    False\n",
       "Name: 647, dtype: bool"
      ]
     },
     "metadata": {},
     "output_type": "display_data"
    },
    {
     "name": "stdout",
     "output_type": "stream",
     "text": [
      "look at this wrong rings .\n",
      "look at this wrong ring .\n"
     ]
    },
    {
     "data": {
      "text/plain": [
       "SAYCam LSTM 0     True\n",
       "SAYCam 1-gram     True\n",
       "SAYCam 2-gram    False\n",
       "SAYCam CBOW 0     True\n",
       "Name: 736, dtype: bool"
      ]
     },
     "metadata": {},
     "output_type": "display_data"
    },
    {
     "name": "stdout",
     "output_type": "stream",
     "text": [
      "i saw this wrong rings .\n",
      "i saw this wrong ring .\n"
     ]
    },
    {
     "data": {
      "text/plain": [
       "SAYCam LSTM 0     True\n",
       "SAYCam 1-gram     True\n",
       "SAYCam 2-gram    False\n",
       "SAYCam CBOW 0     True\n",
       "Name: 739, dtype: bool"
      ]
     },
     "metadata": {},
     "output_type": "display_data"
    },
    {
     "name": "stdout",
     "output_type": "stream",
     "text": [
      "look at that wrong rings .\n",
      "look at that wrong ring .\n"
     ]
    },
    {
     "data": {
      "text/plain": [
       "SAYCam LSTM 0     True\n",
       "SAYCam 1-gram     True\n",
       "SAYCam 2-gram    False\n",
       "SAYCam CBOW 0     True\n",
       "Name: 740, dtype: bool"
      ]
     },
     "metadata": {},
     "output_type": "display_data"
    },
    {
     "name": "stdout",
     "output_type": "stream",
     "text": [
      "i saw that wrong rings .\n",
      "i saw that wrong ring .\n"
     ]
    },
    {
     "data": {
      "text/plain": [
       "SAYCam LSTM 0     True\n",
       "SAYCam 1-gram     True\n",
       "SAYCam 2-gram    False\n",
       "SAYCam CBOW 0     True\n",
       "Name: 743, dtype: bool"
      ]
     },
     "metadata": {},
     "output_type": "display_data"
    },
    {
     "name": "stdout",
     "output_type": "stream",
     "text": [
      "those wrong ring went there .\n",
      "those wrong rings went there .\n"
     ]
    },
    {
     "data": {
      "text/plain": [
       "SAYCam LSTM 0     True\n",
       "SAYCam 1-gram    False\n",
       "SAYCam 2-gram    False\n",
       "SAYCam CBOW 0    False\n",
       "Name: 749, dtype: bool"
      ]
     },
     "metadata": {},
     "output_type": "display_data"
    },
    {
     "name": "stdout",
     "output_type": "stream",
     "text": [
      "look at these tall hand .\n",
      "look at these tall hands .\n"
     ]
    },
    {
     "data": {
      "text/plain": [
       "SAYCam LSTM 0     True\n",
       "SAYCam 1-gram    False\n",
       "SAYCam 2-gram    False\n",
       "SAYCam CBOW 0    False\n",
       "Name: 792, dtype: bool"
      ]
     },
     "metadata": {},
     "output_type": "display_data"
    },
    {
     "name": "stdout",
     "output_type": "stream",
     "text": [
      "these tall hand went there .\n",
      "these tall hands went there .\n"
     ]
    },
    {
     "data": {
      "text/plain": [
       "SAYCam LSTM 0     True\n",
       "SAYCam 1-gram    False\n",
       "SAYCam 2-gram    False\n",
       "SAYCam CBOW 0    False\n",
       "Name: 793, dtype: bool"
      ]
     },
     "metadata": {},
     "output_type": "display_data"
    },
    {
     "name": "stdout",
     "output_type": "stream",
     "text": [
      "these tall hand did not happen .\n",
      "these tall hands did not happen .\n"
     ]
    },
    {
     "data": {
      "text/plain": [
       "SAYCam LSTM 0     True\n",
       "SAYCam 1-gram    False\n",
       "SAYCam 2-gram    False\n",
       "SAYCam CBOW 0     True\n",
       "Name: 794, dtype: bool"
      ]
     },
     "metadata": {},
     "output_type": "display_data"
    },
    {
     "name": "stdout",
     "output_type": "stream",
     "text": [
      "look at those tall hand .\n",
      "look at those tall hands .\n"
     ]
    },
    {
     "data": {
      "text/plain": [
       "SAYCam LSTM 0     True\n",
       "SAYCam 1-gram    False\n",
       "SAYCam 2-gram    False\n",
       "SAYCam CBOW 0    False\n",
       "Name: 796, dtype: bool"
      ]
     },
     "metadata": {},
     "output_type": "display_data"
    },
    {
     "name": "stdout",
     "output_type": "stream",
     "text": [
      "those tall hand went there .\n",
      "those tall hands went there .\n"
     ]
    },
    {
     "data": {
      "text/plain": [
       "SAYCam LSTM 0     True\n",
       "SAYCam 1-gram    False\n",
       "SAYCam 2-gram    False\n",
       "SAYCam CBOW 0    False\n",
       "Name: 797, dtype: bool"
      ]
     },
     "metadata": {},
     "output_type": "display_data"
    },
    {
     "name": "stdout",
     "output_type": "stream",
     "text": [
      "those tall hand did not happen .\n",
      "those tall hands did not happen .\n"
     ]
    },
    {
     "data": {
      "text/plain": [
       "SAYCam LSTM 0     True\n",
       "SAYCam 1-gram    False\n",
       "SAYCam 2-gram    False\n",
       "SAYCam CBOW 0     True\n",
       "Name: 798, dtype: bool"
      ]
     },
     "metadata": {},
     "output_type": "display_data"
    },
    {
     "name": "stdout",
     "output_type": "stream",
     "text": [
      "i saw those tall hand .\n",
      "i saw those tall hands .\n"
     ]
    },
    {
     "data": {
      "text/plain": [
       "SAYCam LSTM 0     True\n",
       "SAYCam 1-gram    False\n",
       "SAYCam 2-gram    False\n",
       "SAYCam CBOW 0    False\n",
       "Name: 799, dtype: bool"
      ]
     },
     "metadata": {},
     "output_type": "display_data"
    },
    {
     "name": "stdout",
     "output_type": "stream",
     "text": [
      "look at this silly things .\n",
      "look at this silly thing .\n"
     ]
    },
    {
     "data": {
      "text/plain": [
       "SAYCam LSTM 0     True\n",
       "SAYCam 1-gram    False\n",
       "SAYCam 2-gram    False\n",
       "SAYCam CBOW 0    False\n",
       "Name: 832, dtype: bool"
      ]
     },
     "metadata": {},
     "output_type": "display_data"
    },
    {
     "name": "stdout",
     "output_type": "stream",
     "text": [
      "this silly things went there .\n",
      "this silly thing went there .\n"
     ]
    },
    {
     "data": {
      "text/plain": [
       "SAYCam LSTM 0     True\n",
       "SAYCam 1-gram    False\n",
       "SAYCam 2-gram    False\n",
       "SAYCam CBOW 0    False\n",
       "Name: 833, dtype: bool"
      ]
     },
     "metadata": {},
     "output_type": "display_data"
    },
    {
     "name": "stdout",
     "output_type": "stream",
     "text": [
      "this silly things did not happen .\n",
      "this silly thing did not happen .\n"
     ]
    },
    {
     "data": {
      "text/plain": [
       "SAYCam LSTM 0     True\n",
       "SAYCam 1-gram    False\n",
       "SAYCam 2-gram    False\n",
       "SAYCam CBOW 0    False\n",
       "Name: 834, dtype: bool"
      ]
     },
     "metadata": {},
     "output_type": "display_data"
    },
    {
     "name": "stdout",
     "output_type": "stream",
     "text": [
      "i saw this silly things .\n",
      "i saw this silly thing .\n"
     ]
    },
    {
     "data": {
      "text/plain": [
       "SAYCam LSTM 0     True\n",
       "SAYCam 1-gram    False\n",
       "SAYCam 2-gram    False\n",
       "SAYCam CBOW 0    False\n",
       "Name: 835, dtype: bool"
      ]
     },
     "metadata": {},
     "output_type": "display_data"
    },
    {
     "name": "stdout",
     "output_type": "stream",
     "text": [
      "look at that silly things .\n",
      "look at that silly thing .\n"
     ]
    },
    {
     "data": {
      "text/plain": [
       "SAYCam LSTM 0     True\n",
       "SAYCam 1-gram    False\n",
       "SAYCam 2-gram    False\n",
       "SAYCam CBOW 0    False\n",
       "Name: 836, dtype: bool"
      ]
     },
     "metadata": {},
     "output_type": "display_data"
    },
    {
     "name": "stdout",
     "output_type": "stream",
     "text": [
      "that silly things went there .\n",
      "that silly thing went there .\n"
     ]
    },
    {
     "data": {
      "text/plain": [
       "SAYCam LSTM 0     True\n",
       "SAYCam 1-gram    False\n",
       "SAYCam 2-gram    False\n",
       "SAYCam CBOW 0    False\n",
       "Name: 837, dtype: bool"
      ]
     },
     "metadata": {},
     "output_type": "display_data"
    },
    {
     "name": "stdout",
     "output_type": "stream",
     "text": [
      "that silly things did not happen .\n",
      "that silly thing did not happen .\n"
     ]
    },
    {
     "data": {
      "text/plain": [
       "SAYCam LSTM 0     True\n",
       "SAYCam 1-gram    False\n",
       "SAYCam 2-gram    False\n",
       "SAYCam CBOW 0    False\n",
       "Name: 838, dtype: bool"
      ]
     },
     "metadata": {},
     "output_type": "display_data"
    },
    {
     "name": "stdout",
     "output_type": "stream",
     "text": [
      "i saw that silly things .\n",
      "i saw that silly thing .\n"
     ]
    },
    {
     "data": {
      "text/plain": [
       "SAYCam LSTM 0     True\n",
       "SAYCam 1-gram    False\n",
       "SAYCam 2-gram    False\n",
       "SAYCam CBOW 0    False\n",
       "Name: 839, dtype: bool"
      ]
     },
     "metadata": {},
     "output_type": "display_data"
    },
    {
     "name": "stdout",
     "output_type": "stream",
     "text": [
      "look at these silly thing .\n",
      "look at these silly things .\n"
     ]
    },
    {
     "data": {
      "text/plain": [
       "SAYCam LSTM 0     True\n",
       "SAYCam 1-gram     True\n",
       "SAYCam 2-gram     True\n",
       "SAYCam CBOW 0    False\n",
       "Name: 840, dtype: bool"
      ]
     },
     "metadata": {},
     "output_type": "display_data"
    },
    {
     "name": "stdout",
     "output_type": "stream",
     "text": [
      "i saw these silly thing .\n",
      "i saw these silly things .\n"
     ]
    },
    {
     "data": {
      "text/plain": [
       "SAYCam LSTM 0     True\n",
       "SAYCam 1-gram     True\n",
       "SAYCam 2-gram     True\n",
       "SAYCam CBOW 0    False\n",
       "Name: 843, dtype: bool"
      ]
     },
     "metadata": {},
     "output_type": "display_data"
    },
    {
     "name": "stdout",
     "output_type": "stream",
     "text": [
      "look at those silly thing .\n",
      "look at those silly things .\n"
     ]
    },
    {
     "data": {
      "text/plain": [
       "SAYCam LSTM 0     True\n",
       "SAYCam 1-gram     True\n",
       "SAYCam 2-gram     True\n",
       "SAYCam CBOW 0    False\n",
       "Name: 844, dtype: bool"
      ]
     },
     "metadata": {},
     "output_type": "display_data"
    },
    {
     "name": "stdout",
     "output_type": "stream",
     "text": [
      "i saw those silly thing .\n",
      "i saw those silly things .\n"
     ]
    },
    {
     "data": {
      "text/plain": [
       "SAYCam LSTM 0     True\n",
       "SAYCam 1-gram     True\n",
       "SAYCam 2-gram     True\n",
       "SAYCam CBOW 0    False\n",
       "Name: 847, dtype: bool"
      ]
     },
     "metadata": {},
     "output_type": "display_data"
    },
    {
     "name": "stdout",
     "output_type": "stream",
     "text": [
      "this bad horses went there .\n",
      "this bad horse went there .\n"
     ]
    },
    {
     "data": {
      "text/plain": [
       "SAYCam LSTM 0     True\n",
       "SAYCam 1-gram     True\n",
       "SAYCam 2-gram     True\n",
       "SAYCam CBOW 0    False\n",
       "Name: 881, dtype: bool"
      ]
     },
     "metadata": {},
     "output_type": "display_data"
    },
    {
     "name": "stdout",
     "output_type": "stream",
     "text": [
      "this bad horses did not happen .\n",
      "this bad horse did not happen .\n"
     ]
    },
    {
     "data": {
      "text/plain": [
       "SAYCam LSTM 0     True\n",
       "SAYCam 1-gram     True\n",
       "SAYCam 2-gram     True\n",
       "SAYCam CBOW 0    False\n",
       "Name: 882, dtype: bool"
      ]
     },
     "metadata": {},
     "output_type": "display_data"
    },
    {
     "name": "stdout",
     "output_type": "stream",
     "text": [
      "that bad horses went there .\n",
      "that bad horse went there .\n"
     ]
    },
    {
     "data": {
      "text/plain": [
       "SAYCam LSTM 0     True\n",
       "SAYCam 1-gram     True\n",
       "SAYCam 2-gram     True\n",
       "SAYCam CBOW 0    False\n",
       "Name: 885, dtype: bool"
      ]
     },
     "metadata": {},
     "output_type": "display_data"
    },
    {
     "name": "stdout",
     "output_type": "stream",
     "text": [
      "that bad horses did not happen .\n",
      "that bad horse did not happen .\n"
     ]
    },
    {
     "data": {
      "text/plain": [
       "SAYCam LSTM 0     True\n",
       "SAYCam 1-gram     True\n",
       "SAYCam 2-gram     True\n",
       "SAYCam CBOW 0    False\n",
       "Name: 886, dtype: bool"
      ]
     },
     "metadata": {},
     "output_type": "display_data"
    },
    {
     "name": "stdout",
     "output_type": "stream",
     "text": [
      "look at these bad horse .\n",
      "look at these bad horses .\n"
     ]
    },
    {
     "data": {
      "text/plain": [
       "SAYCam LSTM 0     True\n",
       "SAYCam 1-gram    False\n",
       "SAYCam 2-gram    False\n",
       "SAYCam CBOW 0     True\n",
       "Name: 888, dtype: bool"
      ]
     },
     "metadata": {},
     "output_type": "display_data"
    },
    {
     "name": "stdout",
     "output_type": "stream",
     "text": [
      "these bad horse went there .\n",
      "these bad horses went there .\n"
     ]
    },
    {
     "data": {
      "text/plain": [
       "SAYCam LSTM 0     True\n",
       "SAYCam 1-gram    False\n",
       "SAYCam 2-gram    False\n",
       "SAYCam CBOW 0     True\n",
       "Name: 889, dtype: bool"
      ]
     },
     "metadata": {},
     "output_type": "display_data"
    },
    {
     "name": "stdout",
     "output_type": "stream",
     "text": [
      "i saw these bad horse .\n",
      "i saw these bad horses .\n"
     ]
    },
    {
     "data": {
      "text/plain": [
       "SAYCam LSTM 0     True\n",
       "SAYCam 1-gram    False\n",
       "SAYCam 2-gram    False\n",
       "SAYCam CBOW 0     True\n",
       "Name: 891, dtype: bool"
      ]
     },
     "metadata": {},
     "output_type": "display_data"
    },
    {
     "name": "stdout",
     "output_type": "stream",
     "text": [
      "look at those bad horse .\n",
      "look at those bad horses .\n"
     ]
    },
    {
     "data": {
      "text/plain": [
       "SAYCam LSTM 0     True\n",
       "SAYCam 1-gram    False\n",
       "SAYCam 2-gram    False\n",
       "SAYCam CBOW 0     True\n",
       "Name: 892, dtype: bool"
      ]
     },
     "metadata": {},
     "output_type": "display_data"
    },
    {
     "name": "stdout",
     "output_type": "stream",
     "text": [
      "those bad horse went there .\n",
      "those bad horses went there .\n"
     ]
    },
    {
     "data": {
      "text/plain": [
       "SAYCam LSTM 0     True\n",
       "SAYCam 1-gram    False\n",
       "SAYCam 2-gram    False\n",
       "SAYCam CBOW 0     True\n",
       "Name: 893, dtype: bool"
      ]
     },
     "metadata": {},
     "output_type": "display_data"
    },
    {
     "name": "stdout",
     "output_type": "stream",
     "text": [
      "those bad horse did not happen .\n",
      "those bad horses did not happen .\n"
     ]
    },
    {
     "data": {
      "text/plain": [
       "SAYCam LSTM 0     True\n",
       "SAYCam 1-gram    False\n",
       "SAYCam 2-gram    False\n",
       "SAYCam CBOW 0     True\n",
       "Name: 894, dtype: bool"
      ]
     },
     "metadata": {},
     "output_type": "display_data"
    },
    {
     "name": "stdout",
     "output_type": "stream",
     "text": [
      "i saw those bad horse .\n",
      "i saw those bad horses .\n"
     ]
    },
    {
     "data": {
      "text/plain": [
       "SAYCam LSTM 0     True\n",
       "SAYCam 1-gram    False\n",
       "SAYCam 2-gram    False\n",
       "SAYCam CBOW 0     True\n",
       "Name: 895, dtype: bool"
      ]
     },
     "metadata": {},
     "output_type": "display_data"
    },
    {
     "name": "stdout",
     "output_type": "stream",
     "text": [
      "look at this soft eggs .\n",
      "look at this soft egg .\n"
     ]
    },
    {
     "data": {
      "text/plain": [
       "SAYCam LSTM 0     True\n",
       "SAYCam 1-gram    False\n",
       "SAYCam 2-gram    False\n",
       "SAYCam CBOW 0    False\n",
       "Name: 976, dtype: bool"
      ]
     },
     "metadata": {},
     "output_type": "display_data"
    },
    {
     "name": "stdout",
     "output_type": "stream",
     "text": [
      "this soft eggs went there .\n",
      "this soft egg went there .\n"
     ]
    },
    {
     "data": {
      "text/plain": [
       "SAYCam LSTM 0     True\n",
       "SAYCam 1-gram    False\n",
       "SAYCam 2-gram    False\n",
       "SAYCam CBOW 0     True\n",
       "Name: 977, dtype: bool"
      ]
     },
     "metadata": {},
     "output_type": "display_data"
    },
    {
     "name": "stdout",
     "output_type": "stream",
     "text": [
      "this soft eggs did not happen .\n",
      "this soft egg did not happen .\n"
     ]
    },
    {
     "data": {
      "text/plain": [
       "SAYCam LSTM 0     True\n",
       "SAYCam 1-gram    False\n",
       "SAYCam 2-gram    False\n",
       "SAYCam CBOW 0    False\n",
       "Name: 978, dtype: bool"
      ]
     },
     "metadata": {},
     "output_type": "display_data"
    },
    {
     "name": "stdout",
     "output_type": "stream",
     "text": [
      "i saw this soft eggs .\n",
      "i saw this soft egg .\n"
     ]
    },
    {
     "data": {
      "text/plain": [
       "SAYCam LSTM 0     True\n",
       "SAYCam 1-gram    False\n",
       "SAYCam 2-gram    False\n",
       "SAYCam CBOW 0    False\n",
       "Name: 979, dtype: bool"
      ]
     },
     "metadata": {},
     "output_type": "display_data"
    },
    {
     "name": "stdout",
     "output_type": "stream",
     "text": [
      "look at that soft eggs .\n",
      "look at that soft egg .\n"
     ]
    },
    {
     "data": {
      "text/plain": [
       "SAYCam LSTM 0     True\n",
       "SAYCam 1-gram    False\n",
       "SAYCam 2-gram    False\n",
       "SAYCam CBOW 0    False\n",
       "Name: 980, dtype: bool"
      ]
     },
     "metadata": {},
     "output_type": "display_data"
    },
    {
     "name": "stdout",
     "output_type": "stream",
     "text": [
      "that soft eggs went there .\n",
      "that soft egg went there .\n"
     ]
    },
    {
     "data": {
      "text/plain": [
       "SAYCam LSTM 0     True\n",
       "SAYCam 1-gram    False\n",
       "SAYCam 2-gram    False\n",
       "SAYCam CBOW 0     True\n",
       "Name: 981, dtype: bool"
      ]
     },
     "metadata": {},
     "output_type": "display_data"
    },
    {
     "name": "stdout",
     "output_type": "stream",
     "text": [
      "that soft eggs did not happen .\n",
      "that soft egg did not happen .\n"
     ]
    },
    {
     "data": {
      "text/plain": [
       "SAYCam LSTM 0     True\n",
       "SAYCam 1-gram    False\n",
       "SAYCam 2-gram    False\n",
       "SAYCam CBOW 0    False\n",
       "Name: 982, dtype: bool"
      ]
     },
     "metadata": {},
     "output_type": "display_data"
    },
    {
     "name": "stdout",
     "output_type": "stream",
     "text": [
      "i saw that soft eggs .\n",
      "i saw that soft egg .\n"
     ]
    },
    {
     "data": {
      "text/plain": [
       "SAYCam LSTM 0     True\n",
       "SAYCam 1-gram    False\n",
       "SAYCam 2-gram    False\n",
       "SAYCam CBOW 0    False\n",
       "Name: 983, dtype: bool"
      ]
     },
     "metadata": {},
     "output_type": "display_data"
    },
    {
     "name": "stdout",
     "output_type": "stream",
     "text": [
      "look at these soft egg .\n",
      "look at these soft eggs .\n"
     ]
    },
    {
     "data": {
      "text/plain": [
       "SAYCam LSTM 0     True\n",
       "SAYCam 1-gram     True\n",
       "SAYCam 2-gram     True\n",
       "SAYCam CBOW 0    False\n",
       "Name: 984, dtype: bool"
      ]
     },
     "metadata": {},
     "output_type": "display_data"
    },
    {
     "name": "stdout",
     "output_type": "stream",
     "text": [
      "i saw these soft egg .\n",
      "i saw these soft eggs .\n"
     ]
    },
    {
     "data": {
      "text/plain": [
       "SAYCam LSTM 0     True\n",
       "SAYCam 1-gram     True\n",
       "SAYCam 2-gram     True\n",
       "SAYCam CBOW 0    False\n",
       "Name: 987, dtype: bool"
      ]
     },
     "metadata": {},
     "output_type": "display_data"
    },
    {
     "name": "stdout",
     "output_type": "stream",
     "text": [
      "look at those soft egg .\n",
      "look at those soft eggs .\n"
     ]
    },
    {
     "data": {
      "text/plain": [
       "SAYCam LSTM 0     True\n",
       "SAYCam 1-gram     True\n",
       "SAYCam 2-gram     True\n",
       "SAYCam CBOW 0    False\n",
       "Name: 988, dtype: bool"
      ]
     },
     "metadata": {},
     "output_type": "display_data"
    },
    {
     "name": "stdout",
     "output_type": "stream",
     "text": [
      "those soft egg did not happen .\n",
      "those soft eggs did not happen .\n"
     ]
    },
    {
     "data": {
      "text/plain": [
       "SAYCam LSTM 0     True\n",
       "SAYCam 1-gram     True\n",
       "SAYCam 2-gram     True\n",
       "SAYCam CBOW 0    False\n",
       "Name: 990, dtype: bool"
      ]
     },
     "metadata": {},
     "output_type": "display_data"
    },
    {
     "name": "stdout",
     "output_type": "stream",
     "text": [
      "i saw those soft egg .\n",
      "i saw those soft eggs .\n"
     ]
    },
    {
     "data": {
      "text/plain": [
       "SAYCam LSTM 0     True\n",
       "SAYCam 1-gram     True\n",
       "SAYCam 2-gram     True\n",
       "SAYCam CBOW 0    False\n",
       "Name: 991, dtype: bool"
      ]
     },
     "metadata": {},
     "output_type": "display_data"
    },
    {
     "name": "stdout",
     "output_type": "stream",
     "text": [
      "look at this soft books .\n",
      "look at this soft book .\n"
     ]
    },
    {
     "data": {
      "text/plain": [
       "SAYCam LSTM 0     True\n",
       "SAYCam 1-gram     True\n",
       "SAYCam 2-gram     True\n",
       "SAYCam CBOW 0    False\n",
       "Name: 1136, dtype: bool"
      ]
     },
     "metadata": {},
     "output_type": "display_data"
    },
    {
     "name": "stdout",
     "output_type": "stream",
     "text": [
      "this soft books went there .\n",
      "this soft book went there .\n"
     ]
    },
    {
     "data": {
      "text/plain": [
       "SAYCam LSTM 0     True\n",
       "SAYCam 1-gram     True\n",
       "SAYCam 2-gram     True\n",
       "SAYCam CBOW 0    False\n",
       "Name: 1137, dtype: bool"
      ]
     },
     "metadata": {},
     "output_type": "display_data"
    },
    {
     "name": "stdout",
     "output_type": "stream",
     "text": [
      "i saw this soft books .\n",
      "i saw this soft book .\n"
     ]
    },
    {
     "data": {
      "text/plain": [
       "SAYCam LSTM 0     True\n",
       "SAYCam 1-gram     True\n",
       "SAYCam 2-gram     True\n",
       "SAYCam CBOW 0    False\n",
       "Name: 1139, dtype: bool"
      ]
     },
     "metadata": {},
     "output_type": "display_data"
    },
    {
     "name": "stdout",
     "output_type": "stream",
     "text": [
      "look at that soft books .\n",
      "look at that soft book .\n"
     ]
    },
    {
     "data": {
      "text/plain": [
       "SAYCam LSTM 0     True\n",
       "SAYCam 1-gram     True\n",
       "SAYCam 2-gram     True\n",
       "SAYCam CBOW 0    False\n",
       "Name: 1140, dtype: bool"
      ]
     },
     "metadata": {},
     "output_type": "display_data"
    },
    {
     "name": "stdout",
     "output_type": "stream",
     "text": [
      "that soft books went there .\n",
      "that soft book went there .\n"
     ]
    },
    {
     "data": {
      "text/plain": [
       "SAYCam LSTM 0     True\n",
       "SAYCam 1-gram     True\n",
       "SAYCam 2-gram     True\n",
       "SAYCam CBOW 0    False\n",
       "Name: 1141, dtype: bool"
      ]
     },
     "metadata": {},
     "output_type": "display_data"
    },
    {
     "name": "stdout",
     "output_type": "stream",
     "text": [
      "i saw that soft books .\n",
      "i saw that soft book .\n"
     ]
    },
    {
     "data": {
      "text/plain": [
       "SAYCam LSTM 0     True\n",
       "SAYCam 1-gram     True\n",
       "SAYCam 2-gram     True\n",
       "SAYCam CBOW 0    False\n",
       "Name: 1143, dtype: bool"
      ]
     },
     "metadata": {},
     "output_type": "display_data"
    },
    {
     "name": "stdout",
     "output_type": "stream",
     "text": [
      "look at these soft book .\n",
      "look at these soft books .\n"
     ]
    },
    {
     "data": {
      "text/plain": [
       "SAYCam LSTM 0     True\n",
       "SAYCam 1-gram    False\n",
       "SAYCam 2-gram    False\n",
       "SAYCam CBOW 0    False\n",
       "Name: 1144, dtype: bool"
      ]
     },
     "metadata": {},
     "output_type": "display_data"
    },
    {
     "name": "stdout",
     "output_type": "stream",
     "text": [
      "these soft book went there .\n",
      "these soft books went there .\n"
     ]
    },
    {
     "data": {
      "text/plain": [
       "SAYCam LSTM 0     True\n",
       "SAYCam 1-gram    False\n",
       "SAYCam 2-gram    False\n",
       "SAYCam CBOW 0     True\n",
       "Name: 1145, dtype: bool"
      ]
     },
     "metadata": {},
     "output_type": "display_data"
    },
    {
     "name": "stdout",
     "output_type": "stream",
     "text": [
      "i saw these soft book .\n",
      "i saw these soft books .\n"
     ]
    },
    {
     "data": {
      "text/plain": [
       "SAYCam LSTM 0     True\n",
       "SAYCam 1-gram    False\n",
       "SAYCam 2-gram    False\n",
       "SAYCam CBOW 0    False\n",
       "Name: 1147, dtype: bool"
      ]
     },
     "metadata": {},
     "output_type": "display_data"
    },
    {
     "name": "stdout",
     "output_type": "stream",
     "text": [
      "look at those soft book .\n",
      "look at those soft books .\n"
     ]
    },
    {
     "data": {
      "text/plain": [
       "SAYCam LSTM 0     True\n",
       "SAYCam 1-gram    False\n",
       "SAYCam 2-gram    False\n",
       "SAYCam CBOW 0    False\n",
       "Name: 1148, dtype: bool"
      ]
     },
     "metadata": {},
     "output_type": "display_data"
    },
    {
     "name": "stdout",
     "output_type": "stream",
     "text": [
      "those soft book went there .\n",
      "those soft books went there .\n"
     ]
    },
    {
     "data": {
      "text/plain": [
       "SAYCam LSTM 0     True\n",
       "SAYCam 1-gram    False\n",
       "SAYCam 2-gram    False\n",
       "SAYCam CBOW 0     True\n",
       "Name: 1149, dtype: bool"
      ]
     },
     "metadata": {},
     "output_type": "display_data"
    },
    {
     "name": "stdout",
     "output_type": "stream",
     "text": [
      "those soft book did not happen .\n",
      "those soft books did not happen .\n"
     ]
    },
    {
     "data": {
      "text/plain": [
       "SAYCam LSTM 0     True\n",
       "SAYCam 1-gram    False\n",
       "SAYCam 2-gram    False\n",
       "SAYCam CBOW 0    False\n",
       "Name: 1150, dtype: bool"
      ]
     },
     "metadata": {},
     "output_type": "display_data"
    },
    {
     "name": "stdout",
     "output_type": "stream",
     "text": [
      "i saw those soft book .\n",
      "i saw those soft books .\n"
     ]
    },
    {
     "data": {
      "text/plain": [
       "SAYCam LSTM 0     True\n",
       "SAYCam 1-gram    False\n",
       "SAYCam 2-gram    False\n",
       "SAYCam CBOW 0    False\n",
       "Name: 1151, dtype: bool"
      ]
     },
     "metadata": {},
     "output_type": "display_data"
    },
    {
     "name": "stdout",
     "output_type": "stream",
     "text": [
      "look at this bad hands .\n",
      "look at this bad hand .\n"
     ]
    },
    {
     "data": {
      "text/plain": [
       "SAYCam LSTM 0     True\n",
       "SAYCam 1-gram     True\n",
       "SAYCam 2-gram     True\n",
       "SAYCam CBOW 0    False\n",
       "Name: 1184, dtype: bool"
      ]
     },
     "metadata": {},
     "output_type": "display_data"
    },
    {
     "name": "stdout",
     "output_type": "stream",
     "text": [
      "this bad hands went there .\n",
      "this bad hand went there .\n"
     ]
    },
    {
     "data": {
      "text/plain": [
       "SAYCam LSTM 0     True\n",
       "SAYCam 1-gram     True\n",
       "SAYCam 2-gram     True\n",
       "SAYCam CBOW 0    False\n",
       "Name: 1185, dtype: bool"
      ]
     },
     "metadata": {},
     "output_type": "display_data"
    },
    {
     "name": "stdout",
     "output_type": "stream",
     "text": [
      "this bad hands did not happen .\n",
      "this bad hand did not happen .\n"
     ]
    },
    {
     "data": {
      "text/plain": [
       "SAYCam LSTM 0     True\n",
       "SAYCam 1-gram     True\n",
       "SAYCam 2-gram     True\n",
       "SAYCam CBOW 0    False\n",
       "Name: 1186, dtype: bool"
      ]
     },
     "metadata": {},
     "output_type": "display_data"
    },
    {
     "name": "stdout",
     "output_type": "stream",
     "text": [
      "i saw this bad hands .\n",
      "i saw this bad hand .\n"
     ]
    },
    {
     "data": {
      "text/plain": [
       "SAYCam LSTM 0     True\n",
       "SAYCam 1-gram     True\n",
       "SAYCam 2-gram     True\n",
       "SAYCam CBOW 0    False\n",
       "Name: 1187, dtype: bool"
      ]
     },
     "metadata": {},
     "output_type": "display_data"
    },
    {
     "name": "stdout",
     "output_type": "stream",
     "text": [
      "look at that bad hands .\n",
      "look at that bad hand .\n"
     ]
    },
    {
     "data": {
      "text/plain": [
       "SAYCam LSTM 0     True\n",
       "SAYCam 1-gram     True\n",
       "SAYCam 2-gram     True\n",
       "SAYCam CBOW 0    False\n",
       "Name: 1188, dtype: bool"
      ]
     },
     "metadata": {},
     "output_type": "display_data"
    },
    {
     "name": "stdout",
     "output_type": "stream",
     "text": [
      "that bad hands did not happen .\n",
      "that bad hand did not happen .\n"
     ]
    },
    {
     "data": {
      "text/plain": [
       "SAYCam LSTM 0     True\n",
       "SAYCam 1-gram     True\n",
       "SAYCam 2-gram     True\n",
       "SAYCam CBOW 0    False\n",
       "Name: 1190, dtype: bool"
      ]
     },
     "metadata": {},
     "output_type": "display_data"
    },
    {
     "name": "stdout",
     "output_type": "stream",
     "text": [
      "i saw that bad hands .\n",
      "i saw that bad hand .\n"
     ]
    },
    {
     "data": {
      "text/plain": [
       "SAYCam LSTM 0     True\n",
       "SAYCam 1-gram     True\n",
       "SAYCam 2-gram     True\n",
       "SAYCam CBOW 0    False\n",
       "Name: 1191, dtype: bool"
      ]
     },
     "metadata": {},
     "output_type": "display_data"
    },
    {
     "name": "stdout",
     "output_type": "stream",
     "text": [
      "these bad hand went there .\n",
      "these bad hands went there .\n"
     ]
    },
    {
     "data": {
      "text/plain": [
       "SAYCam LSTM 0     True\n",
       "SAYCam 1-gram    False\n",
       "SAYCam 2-gram    False\n",
       "SAYCam CBOW 0    False\n",
       "Name: 1193, dtype: bool"
      ]
     },
     "metadata": {},
     "output_type": "display_data"
    },
    {
     "name": "stdout",
     "output_type": "stream",
     "text": [
      "look at those bad hand .\n",
      "look at those bad hands .\n"
     ]
    },
    {
     "data": {
      "text/plain": [
       "SAYCam LSTM 0     True\n",
       "SAYCam 1-gram    False\n",
       "SAYCam 2-gram    False\n",
       "SAYCam CBOW 0    False\n",
       "Name: 1196, dtype: bool"
      ]
     },
     "metadata": {},
     "output_type": "display_data"
    },
    {
     "name": "stdout",
     "output_type": "stream",
     "text": [
      "those bad hand went there .\n",
      "those bad hands went there .\n"
     ]
    },
    {
     "data": {
      "text/plain": [
       "SAYCam LSTM 0     True\n",
       "SAYCam 1-gram    False\n",
       "SAYCam 2-gram    False\n",
       "SAYCam CBOW 0    False\n",
       "Name: 1197, dtype: bool"
      ]
     },
     "metadata": {},
     "output_type": "display_data"
    },
    {
     "name": "stdout",
     "output_type": "stream",
     "text": [
      "those bad hand did not happen .\n",
      "those bad hands did not happen .\n"
     ]
    },
    {
     "data": {
      "text/plain": [
       "SAYCam LSTM 0     True\n",
       "SAYCam 1-gram    False\n",
       "SAYCam 2-gram    False\n",
       "SAYCam CBOW 0     True\n",
       "Name: 1198, dtype: bool"
      ]
     },
     "metadata": {},
     "output_type": "display_data"
    },
    {
     "name": "stdout",
     "output_type": "stream",
     "text": [
      "look at this wrong pages .\n",
      "look at this wrong page .\n"
     ]
    },
    {
     "data": {
      "text/plain": [
       "SAYCam LSTM 0     True\n",
       "SAYCam 1-gram     True\n",
       "SAYCam 2-gram     True\n",
       "SAYCam CBOW 0    False\n",
       "Name: 1280, dtype: bool"
      ]
     },
     "metadata": {},
     "output_type": "display_data"
    },
    {
     "name": "stdout",
     "output_type": "stream",
     "text": [
      "this wrong pages went there .\n",
      "this wrong page went there .\n"
     ]
    },
    {
     "data": {
      "text/plain": [
       "SAYCam LSTM 0     True\n",
       "SAYCam 1-gram     True\n",
       "SAYCam 2-gram     True\n",
       "SAYCam CBOW 0    False\n",
       "Name: 1281, dtype: bool"
      ]
     },
     "metadata": {},
     "output_type": "display_data"
    },
    {
     "name": "stdout",
     "output_type": "stream",
     "text": [
      "this wrong pages did not happen .\n",
      "this wrong page did not happen .\n"
     ]
    },
    {
     "data": {
      "text/plain": [
       "SAYCam LSTM 0     True\n",
       "SAYCam 1-gram     True\n",
       "SAYCam 2-gram     True\n",
       "SAYCam CBOW 0    False\n",
       "Name: 1282, dtype: bool"
      ]
     },
     "metadata": {},
     "output_type": "display_data"
    },
    {
     "name": "stdout",
     "output_type": "stream",
     "text": [
      "i saw this wrong pages .\n",
      "i saw this wrong page .\n"
     ]
    },
    {
     "data": {
      "text/plain": [
       "SAYCam LSTM 0     True\n",
       "SAYCam 1-gram     True\n",
       "SAYCam 2-gram     True\n",
       "SAYCam CBOW 0    False\n",
       "Name: 1283, dtype: bool"
      ]
     },
     "metadata": {},
     "output_type": "display_data"
    },
    {
     "name": "stdout",
     "output_type": "stream",
     "text": [
      "look at that wrong pages .\n",
      "look at that wrong page .\n"
     ]
    },
    {
     "data": {
      "text/plain": [
       "SAYCam LSTM 0     True\n",
       "SAYCam 1-gram     True\n",
       "SAYCam 2-gram     True\n",
       "SAYCam CBOW 0    False\n",
       "Name: 1284, dtype: bool"
      ]
     },
     "metadata": {},
     "output_type": "display_data"
    },
    {
     "name": "stdout",
     "output_type": "stream",
     "text": [
      "that wrong pages went there .\n",
      "that wrong page went there .\n"
     ]
    },
    {
     "data": {
      "text/plain": [
       "SAYCam LSTM 0     True\n",
       "SAYCam 1-gram     True\n",
       "SAYCam 2-gram     True\n",
       "SAYCam CBOW 0    False\n",
       "Name: 1285, dtype: bool"
      ]
     },
     "metadata": {},
     "output_type": "display_data"
    },
    {
     "name": "stdout",
     "output_type": "stream",
     "text": [
      "that wrong pages did not happen .\n",
      "that wrong page did not happen .\n"
     ]
    },
    {
     "data": {
      "text/plain": [
       "SAYCam LSTM 0     True\n",
       "SAYCam 1-gram     True\n",
       "SAYCam 2-gram     True\n",
       "SAYCam CBOW 0    False\n",
       "Name: 1286, dtype: bool"
      ]
     },
     "metadata": {},
     "output_type": "display_data"
    },
    {
     "name": "stdout",
     "output_type": "stream",
     "text": [
      "i saw that wrong pages .\n",
      "i saw that wrong page .\n"
     ]
    },
    {
     "data": {
      "text/plain": [
       "SAYCam LSTM 0     True\n",
       "SAYCam 1-gram     True\n",
       "SAYCam 2-gram     True\n",
       "SAYCam CBOW 0    False\n",
       "Name: 1287, dtype: bool"
      ]
     },
     "metadata": {},
     "output_type": "display_data"
    },
    {
     "name": "stdout",
     "output_type": "stream",
     "text": [
      "those red color went there .\n",
      "those red colors went there .\n"
     ]
    },
    {
     "data": {
      "text/plain": [
       "SAYCam LSTM 0     True\n",
       "SAYCam 1-gram    False\n",
       "SAYCam 2-gram    False\n",
       "SAYCam CBOW 0    False\n",
       "Name: 1421, dtype: bool"
      ]
     },
     "metadata": {},
     "output_type": "display_data"
    },
    {
     "name": "stdout",
     "output_type": "stream",
     "text": [
      "those red color did not happen .\n",
      "those red colors did not happen .\n"
     ]
    },
    {
     "data": {
      "text/plain": [
       "SAYCam LSTM 0     True\n",
       "SAYCam 1-gram    False\n",
       "SAYCam 2-gram    False\n",
       "SAYCam CBOW 0    False\n",
       "Name: 1422, dtype: bool"
      ]
     },
     "metadata": {},
     "output_type": "display_data"
    },
    {
     "name": "stdout",
     "output_type": "stream",
     "text": [
      "this wrong fingers went there .\n",
      "this wrong finger went there .\n"
     ]
    },
    {
     "data": {
      "text/plain": [
       "SAYCam LSTM 0     True\n",
       "SAYCam 1-gram    False\n",
       "SAYCam 2-gram    False\n",
       "SAYCam CBOW 0     True\n",
       "Name: 1425, dtype: bool"
      ]
     },
     "metadata": {},
     "output_type": "display_data"
    },
    {
     "name": "stdout",
     "output_type": "stream",
     "text": [
      "this wrong fingers did not happen .\n",
      "this wrong finger did not happen .\n"
     ]
    },
    {
     "data": {
      "text/plain": [
       "SAYCam LSTM 0     True\n",
       "SAYCam 1-gram    False\n",
       "SAYCam 2-gram    False\n",
       "SAYCam CBOW 0     True\n",
       "Name: 1426, dtype: bool"
      ]
     },
     "metadata": {},
     "output_type": "display_data"
    },
    {
     "name": "stdout",
     "output_type": "stream",
     "text": [
      "that wrong fingers went there .\n",
      "that wrong finger went there .\n"
     ]
    },
    {
     "data": {
      "text/plain": [
       "SAYCam LSTM 0     True\n",
       "SAYCam 1-gram    False\n",
       "SAYCam 2-gram    False\n",
       "SAYCam CBOW 0     True\n",
       "Name: 1429, dtype: bool"
      ]
     },
     "metadata": {},
     "output_type": "display_data"
    },
    {
     "name": "stdout",
     "output_type": "stream",
     "text": [
      "that wrong fingers did not happen .\n",
      "that wrong finger did not happen .\n"
     ]
    },
    {
     "data": {
      "text/plain": [
       "SAYCam LSTM 0     True\n",
       "SAYCam 1-gram    False\n",
       "SAYCam 2-gram    False\n",
       "SAYCam CBOW 0     True\n",
       "Name: 1430, dtype: bool"
      ]
     },
     "metadata": {},
     "output_type": "display_data"
    },
    {
     "name": "stdout",
     "output_type": "stream",
     "text": [
      "i saw that wrong fingers .\n",
      "i saw that wrong finger .\n"
     ]
    },
    {
     "data": {
      "text/plain": [
       "SAYCam LSTM 0     True\n",
       "SAYCam 1-gram    False\n",
       "SAYCam 2-gram    False\n",
       "SAYCam CBOW 0    False\n",
       "Name: 1431, dtype: bool"
      ]
     },
     "metadata": {},
     "output_type": "display_data"
    },
    {
     "name": "stdout",
     "output_type": "stream",
     "text": [
      "this summer things went there .\n",
      "this summer thing went there .\n"
     ]
    },
    {
     "data": {
      "text/plain": [
       "SAYCam LSTM 0     True\n",
       "SAYCam 1-gram    False\n",
       "SAYCam 2-gram    False\n",
       "SAYCam CBOW 0    False\n",
       "Name: 1441, dtype: bool"
      ]
     },
     "metadata": {},
     "output_type": "display_data"
    },
    {
     "name": "stdout",
     "output_type": "stream",
     "text": [
      "this summer things did not happen .\n",
      "this summer thing did not happen .\n"
     ]
    },
    {
     "data": {
      "text/plain": [
       "SAYCam LSTM 0     True\n",
       "SAYCam 1-gram    False\n",
       "SAYCam 2-gram    False\n",
       "SAYCam CBOW 0    False\n",
       "Name: 1442, dtype: bool"
      ]
     },
     "metadata": {},
     "output_type": "display_data"
    },
    {
     "name": "stdout",
     "output_type": "stream",
     "text": [
      "look at these summer thing .\n",
      "look at these summer things .\n"
     ]
    },
    {
     "data": {
      "text/plain": [
       "SAYCam LSTM 0     True\n",
       "SAYCam 1-gram     True\n",
       "SAYCam 2-gram     True\n",
       "SAYCam CBOW 0    False\n",
       "Name: 1448, dtype: bool"
      ]
     },
     "metadata": {},
     "output_type": "display_data"
    },
    {
     "name": "stdout",
     "output_type": "stream",
     "text": [
      "i saw these summer thing .\n",
      "i saw these summer things .\n"
     ]
    },
    {
     "data": {
      "text/plain": [
       "SAYCam LSTM 0     True\n",
       "SAYCam 1-gram     True\n",
       "SAYCam 2-gram     True\n",
       "SAYCam CBOW 0    False\n",
       "Name: 1451, dtype: bool"
      ]
     },
     "metadata": {},
     "output_type": "display_data"
    },
    {
     "name": "stdout",
     "output_type": "stream",
     "text": [
      "look at those summer thing .\n",
      "look at those summer things .\n"
     ]
    },
    {
     "data": {
      "text/plain": [
       "SAYCam LSTM 0     True\n",
       "SAYCam 1-gram     True\n",
       "SAYCam 2-gram     True\n",
       "SAYCam CBOW 0    False\n",
       "Name: 1452, dtype: bool"
      ]
     },
     "metadata": {},
     "output_type": "display_data"
    },
    {
     "name": "stdout",
     "output_type": "stream",
     "text": [
      "i saw those summer thing .\n",
      "i saw those summer things .\n"
     ]
    },
    {
     "data": {
      "text/plain": [
       "SAYCam LSTM 0     True\n",
       "SAYCam 1-gram     True\n",
       "SAYCam 2-gram     True\n",
       "SAYCam CBOW 0    False\n",
       "Name: 1455, dtype: bool"
      ]
     },
     "metadata": {},
     "output_type": "display_data"
    },
    {
     "name": "stdout",
     "output_type": "stream",
     "text": [
      "this yellow dogs did not happen .\n",
      "this yellow dog did not happen .\n"
     ]
    },
    {
     "data": {
      "text/plain": [
       "SAYCam LSTM 0     True\n",
       "SAYCam 1-gram     True\n",
       "SAYCam 2-gram     True\n",
       "SAYCam CBOW 0    False\n",
       "Name: 1490, dtype: bool"
      ]
     },
     "metadata": {},
     "output_type": "display_data"
    },
    {
     "name": "stdout",
     "output_type": "stream",
     "text": [
      "this bad toys went there .\n",
      "this bad toy went there .\n"
     ]
    },
    {
     "data": {
      "text/plain": [
       "SAYCam LSTM 0     True\n",
       "SAYCam 1-gram    False\n",
       "SAYCam 2-gram    False\n",
       "SAYCam CBOW 0    False\n",
       "Name: 1537, dtype: bool"
      ]
     },
     "metadata": {},
     "output_type": "display_data"
    },
    {
     "name": "stdout",
     "output_type": "stream",
     "text": [
      "this bad toys did not happen .\n",
      "this bad toy did not happen .\n"
     ]
    },
    {
     "data": {
      "text/plain": [
       "SAYCam LSTM 0     True\n",
       "SAYCam 1-gram    False\n",
       "SAYCam 2-gram    False\n",
       "SAYCam CBOW 0    False\n",
       "Name: 1538, dtype: bool"
      ]
     },
     "metadata": {},
     "output_type": "display_data"
    },
    {
     "name": "stdout",
     "output_type": "stream",
     "text": [
      "i saw this bad toys .\n",
      "i saw this bad toy .\n"
     ]
    },
    {
     "data": {
      "text/plain": [
       "SAYCam LSTM 0     True\n",
       "SAYCam 1-gram    False\n",
       "SAYCam 2-gram    False\n",
       "SAYCam CBOW 0    False\n",
       "Name: 1539, dtype: bool"
      ]
     },
     "metadata": {},
     "output_type": "display_data"
    },
    {
     "name": "stdout",
     "output_type": "stream",
     "text": [
      "these top guy went there .\n",
      "these top guys went there .\n"
     ]
    },
    {
     "data": {
      "text/plain": [
       "SAYCam LSTM 0     True\n",
       "SAYCam 1-gram    False\n",
       "SAYCam 2-gram    False\n",
       "SAYCam CBOW 0     True\n",
       "Name: 1593, dtype: bool"
      ]
     },
     "metadata": {},
     "output_type": "display_data"
    },
    {
     "name": "stdout",
     "output_type": "stream",
     "text": [
      "these top guy did not happen .\n",
      "these top guys did not happen .\n"
     ]
    },
    {
     "data": {
      "text/plain": [
       "SAYCam LSTM 0     True\n",
       "SAYCam 1-gram    False\n",
       "SAYCam 2-gram    False\n",
       "SAYCam CBOW 0     True\n",
       "Name: 1594, dtype: bool"
      ]
     },
     "metadata": {},
     "output_type": "display_data"
    },
    {
     "name": "stdout",
     "output_type": "stream",
     "text": [
      "those top guy went there .\n",
      "those top guys went there .\n"
     ]
    },
    {
     "data": {
      "text/plain": [
       "SAYCam LSTM 0     True\n",
       "SAYCam 1-gram    False\n",
       "SAYCam 2-gram    False\n",
       "SAYCam CBOW 0     True\n",
       "Name: 1597, dtype: bool"
      ]
     },
     "metadata": {},
     "output_type": "display_data"
    },
    {
     "name": "stdout",
     "output_type": "stream",
     "text": [
      "those top guy did not happen .\n",
      "those top guys did not happen .\n"
     ]
    },
    {
     "data": {
      "text/plain": [
       "SAYCam LSTM 0     True\n",
       "SAYCam 1-gram    False\n",
       "SAYCam 2-gram    False\n",
       "SAYCam CBOW 0     True\n",
       "Name: 1598, dtype: bool"
      ]
     },
     "metadata": {},
     "output_type": "display_data"
    },
    {
     "name": "stdout",
     "output_type": "stream",
     "text": [
      "look at these white arm .\n",
      "look at these white arms .\n"
     ]
    },
    {
     "data": {
      "text/plain": [
       "SAYCam LSTM 0     True\n",
       "SAYCam 1-gram    False\n",
       "SAYCam 2-gram    False\n",
       "SAYCam CBOW 0    False\n",
       "Name: 1672, dtype: bool"
      ]
     },
     "metadata": {},
     "output_type": "display_data"
    },
    {
     "name": "stdout",
     "output_type": "stream",
     "text": [
      "look at those white arm .\n",
      "look at those white arms .\n"
     ]
    },
    {
     "data": {
      "text/plain": [
       "SAYCam LSTM 0     True\n",
       "SAYCam 1-gram    False\n",
       "SAYCam 2-gram    False\n",
       "SAYCam CBOW 0    False\n",
       "Name: 1676, dtype: bool"
      ]
     },
     "metadata": {},
     "output_type": "display_data"
    },
    {
     "name": "stdout",
     "output_type": "stream",
     "text": [
      "those white arm went there .\n",
      "those white arms went there .\n"
     ]
    },
    {
     "data": {
      "text/plain": [
       "SAYCam LSTM 0     True\n",
       "SAYCam 1-gram    False\n",
       "SAYCam 2-gram    False\n",
       "SAYCam CBOW 0    False\n",
       "Name: 1677, dtype: bool"
      ]
     },
     "metadata": {},
     "output_type": "display_data"
    },
    {
     "name": "stdout",
     "output_type": "stream",
     "text": [
      "look at these close girl .\n",
      "look at these close girls .\n"
     ]
    },
    {
     "data": {
      "text/plain": [
       "SAYCam LSTM 0     True\n",
       "SAYCam 1-gram    False\n",
       "SAYCam 2-gram    False\n",
       "SAYCam CBOW 0    False\n",
       "Name: 1688, dtype: bool"
      ]
     },
     "metadata": {},
     "output_type": "display_data"
    },
    {
     "name": "stdout",
     "output_type": "stream",
     "text": [
      "look at those close girl .\n",
      "look at those close girls .\n"
     ]
    },
    {
     "data": {
      "text/plain": [
       "SAYCam LSTM 0     True\n",
       "SAYCam 1-gram    False\n",
       "SAYCam 2-gram    False\n",
       "SAYCam CBOW 0    False\n",
       "Name: 1692, dtype: bool"
      ]
     },
     "metadata": {},
     "output_type": "display_data"
    },
    {
     "name": "stdout",
     "output_type": "stream",
     "text": [
      "i saw those close girl .\n",
      "i saw those close girls .\n"
     ]
    },
    {
     "data": {
      "text/plain": [
       "SAYCam LSTM 0     True\n",
       "SAYCam 1-gram    False\n",
       "SAYCam 2-gram    False\n",
       "SAYCam CBOW 0    False\n",
       "Name: 1695, dtype: bool"
      ]
     },
     "metadata": {},
     "output_type": "display_data"
    },
    {
     "name": "stdout",
     "output_type": "stream",
     "text": [
      "this hard arms went there .\n",
      "this hard arm went there .\n"
     ]
    },
    {
     "data": {
      "text/plain": [
       "SAYCam LSTM 0     True\n",
       "SAYCam 1-gram     True\n",
       "SAYCam 2-gram     True\n",
       "SAYCam CBOW 0    False\n",
       "Name: 1697, dtype: bool"
      ]
     },
     "metadata": {},
     "output_type": "display_data"
    },
    {
     "name": "stdout",
     "output_type": "stream",
     "text": [
      "this hard arms did not happen .\n",
      "this hard arm did not happen .\n"
     ]
    },
    {
     "data": {
      "text/plain": [
       "SAYCam LSTM 0     True\n",
       "SAYCam 1-gram     True\n",
       "SAYCam 2-gram     True\n",
       "SAYCam CBOW 0    False\n",
       "Name: 1698, dtype: bool"
      ]
     },
     "metadata": {},
     "output_type": "display_data"
    },
    {
     "name": "stdout",
     "output_type": "stream",
     "text": [
      "i saw this hard arms .\n",
      "i saw this hard arm .\n"
     ]
    },
    {
     "data": {
      "text/plain": [
       "SAYCam LSTM 0     True\n",
       "SAYCam 1-gram     True\n",
       "SAYCam 2-gram     True\n",
       "SAYCam CBOW 0    False\n",
       "Name: 1699, dtype: bool"
      ]
     },
     "metadata": {},
     "output_type": "display_data"
    },
    {
     "name": "stdout",
     "output_type": "stream",
     "text": [
      "that hard arms went there .\n",
      "that hard arm went there .\n"
     ]
    },
    {
     "data": {
      "text/plain": [
       "SAYCam LSTM 0     True\n",
       "SAYCam 1-gram     True\n",
       "SAYCam 2-gram     True\n",
       "SAYCam CBOW 0    False\n",
       "Name: 1701, dtype: bool"
      ]
     },
     "metadata": {},
     "output_type": "display_data"
    },
    {
     "name": "stdout",
     "output_type": "stream",
     "text": [
      "that hard arms did not happen .\n",
      "that hard arm did not happen .\n"
     ]
    },
    {
     "data": {
      "text/plain": [
       "SAYCam LSTM 0     True\n",
       "SAYCam 1-gram     True\n",
       "SAYCam 2-gram     True\n",
       "SAYCam CBOW 0    False\n",
       "Name: 1702, dtype: bool"
      ]
     },
     "metadata": {},
     "output_type": "display_data"
    },
    {
     "name": "stdout",
     "output_type": "stream",
     "text": [
      "i saw that hard arms .\n",
      "i saw that hard arm .\n"
     ]
    },
    {
     "data": {
      "text/plain": [
       "SAYCam LSTM 0     True\n",
       "SAYCam 1-gram     True\n",
       "SAYCam 2-gram     True\n",
       "SAYCam CBOW 0    False\n",
       "Name: 1703, dtype: bool"
      ]
     },
     "metadata": {},
     "output_type": "display_data"
    },
    {
     "name": "stdout",
     "output_type": "stream",
     "text": [
      "look at these hard arm .\n",
      "look at these hard arms .\n"
     ]
    },
    {
     "data": {
      "text/plain": [
       "SAYCam LSTM 0     True\n",
       "SAYCam 1-gram    False\n",
       "SAYCam 2-gram    False\n",
       "SAYCam CBOW 0     True\n",
       "Name: 1704, dtype: bool"
      ]
     },
     "metadata": {},
     "output_type": "display_data"
    },
    {
     "name": "stdout",
     "output_type": "stream",
     "text": [
      "look at those hard arm .\n",
      "look at those hard arms .\n"
     ]
    },
    {
     "data": {
      "text/plain": [
       "SAYCam LSTM 0     True\n",
       "SAYCam 1-gram    False\n",
       "SAYCam 2-gram    False\n",
       "SAYCam CBOW 0     True\n",
       "Name: 1708, dtype: bool"
      ]
     },
     "metadata": {},
     "output_type": "display_data"
    },
    {
     "name": "stdout",
     "output_type": "stream",
     "text": [
      "those hard arm went there .\n",
      "those hard arms went there .\n"
     ]
    },
    {
     "data": {
      "text/plain": [
       "SAYCam LSTM 0     True\n",
       "SAYCam 1-gram    False\n",
       "SAYCam 2-gram    False\n",
       "SAYCam CBOW 0    False\n",
       "Name: 1709, dtype: bool"
      ]
     },
     "metadata": {},
     "output_type": "display_data"
    },
    {
     "name": "stdout",
     "output_type": "stream",
     "text": [
      "this hard babies did not happen .\n",
      "this hard baby did not happen .\n"
     ]
    },
    {
     "data": {
      "text/plain": [
       "SAYCam LSTM 0     True\n",
       "SAYCam 1-gram     True\n",
       "SAYCam 2-gram     True\n",
       "SAYCam CBOW 0    False\n",
       "Name: 1730, dtype: bool"
      ]
     },
     "metadata": {},
     "output_type": "display_data"
    },
    {
     "name": "stdout",
     "output_type": "stream",
     "text": [
      "that hard babies went there .\n",
      "that hard baby went there .\n"
     ]
    },
    {
     "data": {
      "text/plain": [
       "SAYCam LSTM 0     True\n",
       "SAYCam 1-gram     True\n",
       "SAYCam 2-gram     True\n",
       "SAYCam CBOW 0    False\n",
       "Name: 1733, dtype: bool"
      ]
     },
     "metadata": {},
     "output_type": "display_data"
    },
    {
     "name": "stdout",
     "output_type": "stream",
     "text": [
      "that hard babies did not happen .\n",
      "that hard baby did not happen .\n"
     ]
    },
    {
     "data": {
      "text/plain": [
       "SAYCam LSTM 0     True\n",
       "SAYCam 1-gram     True\n",
       "SAYCam 2-gram     True\n",
       "SAYCam CBOW 0    False\n",
       "Name: 1734, dtype: bool"
      ]
     },
     "metadata": {},
     "output_type": "display_data"
    },
    {
     "name": "stdout",
     "output_type": "stream",
     "text": [
      "look at these hard baby .\n",
      "look at these hard babies .\n"
     ]
    },
    {
     "data": {
      "text/plain": [
       "SAYCam LSTM 0     True\n",
       "SAYCam 1-gram    False\n",
       "SAYCam 2-gram    False\n",
       "SAYCam CBOW 0     True\n",
       "Name: 1736, dtype: bool"
      ]
     },
     "metadata": {},
     "output_type": "display_data"
    },
    {
     "name": "stdout",
     "output_type": "stream",
     "text": [
      "these hard baby went there .\n",
      "these hard babies went there .\n"
     ]
    },
    {
     "data": {
      "text/plain": [
       "SAYCam LSTM 0     True\n",
       "SAYCam 1-gram    False\n",
       "SAYCam 2-gram    False\n",
       "SAYCam CBOW 0     True\n",
       "Name: 1737, dtype: bool"
      ]
     },
     "metadata": {},
     "output_type": "display_data"
    },
    {
     "name": "stdout",
     "output_type": "stream",
     "text": [
      "these hard baby did not happen .\n",
      "these hard babies did not happen .\n"
     ]
    },
    {
     "data": {
      "text/plain": [
       "SAYCam LSTM 0     True\n",
       "SAYCam 1-gram    False\n",
       "SAYCam 2-gram    False\n",
       "SAYCam CBOW 0     True\n",
       "Name: 1738, dtype: bool"
      ]
     },
     "metadata": {},
     "output_type": "display_data"
    },
    {
     "name": "stdout",
     "output_type": "stream",
     "text": [
      "i saw these hard baby .\n",
      "i saw these hard babies .\n"
     ]
    },
    {
     "data": {
      "text/plain": [
       "SAYCam LSTM 0     True\n",
       "SAYCam 1-gram    False\n",
       "SAYCam 2-gram    False\n",
       "SAYCam CBOW 0     True\n",
       "Name: 1739, dtype: bool"
      ]
     },
     "metadata": {},
     "output_type": "display_data"
    },
    {
     "name": "stdout",
     "output_type": "stream",
     "text": [
      "look at those hard baby .\n",
      "look at those hard babies .\n"
     ]
    },
    {
     "data": {
      "text/plain": [
       "SAYCam LSTM 0     True\n",
       "SAYCam 1-gram    False\n",
       "SAYCam 2-gram    False\n",
       "SAYCam CBOW 0     True\n",
       "Name: 1740, dtype: bool"
      ]
     },
     "metadata": {},
     "output_type": "display_data"
    },
    {
     "name": "stdout",
     "output_type": "stream",
     "text": [
      "those hard baby went there .\n",
      "those hard babies went there .\n"
     ]
    },
    {
     "data": {
      "text/plain": [
       "SAYCam LSTM 0     True\n",
       "SAYCam 1-gram    False\n",
       "SAYCam 2-gram    False\n",
       "SAYCam CBOW 0     True\n",
       "Name: 1741, dtype: bool"
      ]
     },
     "metadata": {},
     "output_type": "display_data"
    },
    {
     "name": "stdout",
     "output_type": "stream",
     "text": [
      "those hard baby did not happen .\n",
      "those hard babies did not happen .\n"
     ]
    },
    {
     "data": {
      "text/plain": [
       "SAYCam LSTM 0     True\n",
       "SAYCam 1-gram    False\n",
       "SAYCam 2-gram    False\n",
       "SAYCam CBOW 0     True\n",
       "Name: 1742, dtype: bool"
      ]
     },
     "metadata": {},
     "output_type": "display_data"
    },
    {
     "name": "stdout",
     "output_type": "stream",
     "text": [
      "i saw those hard baby .\n",
      "i saw those hard babies .\n"
     ]
    },
    {
     "data": {
      "text/plain": [
       "SAYCam LSTM 0     True\n",
       "SAYCam 1-gram    False\n",
       "SAYCam 2-gram    False\n",
       "SAYCam CBOW 0     True\n",
       "Name: 1743, dtype: bool"
      ]
     },
     "metadata": {},
     "output_type": "display_data"
    },
    {
     "name": "stdout",
     "output_type": "stream",
     "text": [
      "look at this white minutes .\n",
      "look at this white minute .\n"
     ]
    },
    {
     "data": {
      "text/plain": [
       "SAYCam LSTM 0     True\n",
       "SAYCam 1-gram    False\n",
       "SAYCam 2-gram    False\n",
       "SAYCam CBOW 0    False\n",
       "Name: 1776, dtype: bool"
      ]
     },
     "metadata": {},
     "output_type": "display_data"
    },
    {
     "name": "stdout",
     "output_type": "stream",
     "text": [
      "this white minutes went there .\n",
      "this white minute went there .\n"
     ]
    },
    {
     "data": {
      "text/plain": [
       "SAYCam LSTM 0     True\n",
       "SAYCam 1-gram    False\n",
       "SAYCam 2-gram    False\n",
       "SAYCam CBOW 0    False\n",
       "Name: 1777, dtype: bool"
      ]
     },
     "metadata": {},
     "output_type": "display_data"
    },
    {
     "name": "stdout",
     "output_type": "stream",
     "text": [
      "this white minutes did not happen .\n",
      "this white minute did not happen .\n"
     ]
    },
    {
     "data": {
      "text/plain": [
       "SAYCam LSTM 0     True\n",
       "SAYCam 1-gram    False\n",
       "SAYCam 2-gram    False\n",
       "SAYCam CBOW 0    False\n",
       "Name: 1778, dtype: bool"
      ]
     },
     "metadata": {},
     "output_type": "display_data"
    },
    {
     "name": "stdout",
     "output_type": "stream",
     "text": [
      "i saw this white minutes .\n",
      "i saw this white minute .\n"
     ]
    },
    {
     "data": {
      "text/plain": [
       "SAYCam LSTM 0     True\n",
       "SAYCam 1-gram    False\n",
       "SAYCam 2-gram    False\n",
       "SAYCam CBOW 0    False\n",
       "Name: 1779, dtype: bool"
      ]
     },
     "metadata": {},
     "output_type": "display_data"
    },
    {
     "name": "stdout",
     "output_type": "stream",
     "text": [
      "look at that white minutes .\n",
      "look at that white minute .\n"
     ]
    },
    {
     "data": {
      "text/plain": [
       "SAYCam LSTM 0     True\n",
       "SAYCam 1-gram    False\n",
       "SAYCam 2-gram    False\n",
       "SAYCam CBOW 0    False\n",
       "Name: 1780, dtype: bool"
      ]
     },
     "metadata": {},
     "output_type": "display_data"
    },
    {
     "name": "stdout",
     "output_type": "stream",
     "text": [
      "that white minutes went there .\n",
      "that white minute went there .\n"
     ]
    },
    {
     "data": {
      "text/plain": [
       "SAYCam LSTM 0     True\n",
       "SAYCam 1-gram    False\n",
       "SAYCam 2-gram    False\n",
       "SAYCam CBOW 0     True\n",
       "Name: 1781, dtype: bool"
      ]
     },
     "metadata": {},
     "output_type": "display_data"
    },
    {
     "name": "stdout",
     "output_type": "stream",
     "text": [
      "that white minutes did not happen .\n",
      "that white minute did not happen .\n"
     ]
    },
    {
     "data": {
      "text/plain": [
       "SAYCam LSTM 0     True\n",
       "SAYCam 1-gram    False\n",
       "SAYCam 2-gram    False\n",
       "SAYCam CBOW 0    False\n",
       "Name: 1782, dtype: bool"
      ]
     },
     "metadata": {},
     "output_type": "display_data"
    },
    {
     "name": "stdout",
     "output_type": "stream",
     "text": [
      "i saw that white minutes .\n",
      "i saw that white minute .\n"
     ]
    },
    {
     "data": {
      "text/plain": [
       "SAYCam LSTM 0     True\n",
       "SAYCam 1-gram    False\n",
       "SAYCam 2-gram    False\n",
       "SAYCam CBOW 0    False\n",
       "Name: 1783, dtype: bool"
      ]
     },
     "metadata": {},
     "output_type": "display_data"
    },
    {
     "name": "stdout",
     "output_type": "stream",
     "text": [
      "this full cars went there .\n",
      "this full car went there .\n"
     ]
    },
    {
     "data": {
      "text/plain": [
       "SAYCam LSTM 0     True\n",
       "SAYCam 1-gram     True\n",
       "SAYCam 2-gram     True\n",
       "SAYCam CBOW 0    False\n",
       "Name: 1809, dtype: bool"
      ]
     },
     "metadata": {},
     "output_type": "display_data"
    },
    {
     "name": "stdout",
     "output_type": "stream",
     "text": [
      "this full cars did not happen .\n",
      "this full car did not happen .\n"
     ]
    },
    {
     "data": {
      "text/plain": [
       "SAYCam LSTM 0     True\n",
       "SAYCam 1-gram     True\n",
       "SAYCam 2-gram     True\n",
       "SAYCam CBOW 0    False\n",
       "Name: 1810, dtype: bool"
      ]
     },
     "metadata": {},
     "output_type": "display_data"
    },
    {
     "name": "stdout",
     "output_type": "stream",
     "text": [
      "i saw this full cars .\n",
      "i saw this full car .\n"
     ]
    },
    {
     "data": {
      "text/plain": [
       "SAYCam LSTM 0     True\n",
       "SAYCam 1-gram     True\n",
       "SAYCam 2-gram     True\n",
       "SAYCam CBOW 0    False\n",
       "Name: 1811, dtype: bool"
      ]
     },
     "metadata": {},
     "output_type": "display_data"
    },
    {
     "name": "stdout",
     "output_type": "stream",
     "text": [
      "that full cars went there .\n",
      "that full car went there .\n"
     ]
    },
    {
     "data": {
      "text/plain": [
       "SAYCam LSTM 0     True\n",
       "SAYCam 1-gram     True\n",
       "SAYCam 2-gram     True\n",
       "SAYCam CBOW 0    False\n",
       "Name: 1813, dtype: bool"
      ]
     },
     "metadata": {},
     "output_type": "display_data"
    },
    {
     "name": "stdout",
     "output_type": "stream",
     "text": [
      "that full cars did not happen .\n",
      "that full car did not happen .\n"
     ]
    },
    {
     "data": {
      "text/plain": [
       "SAYCam LSTM 0     True\n",
       "SAYCam 1-gram     True\n",
       "SAYCam 2-gram     True\n",
       "SAYCam CBOW 0    False\n",
       "Name: 1814, dtype: bool"
      ]
     },
     "metadata": {},
     "output_type": "display_data"
    },
    {
     "name": "stdout",
     "output_type": "stream",
     "text": [
      "look at these full car .\n",
      "look at these full cars .\n"
     ]
    },
    {
     "data": {
      "text/plain": [
       "SAYCam LSTM 0     True\n",
       "SAYCam 1-gram    False\n",
       "SAYCam 2-gram    False\n",
       "SAYCam CBOW 0     True\n",
       "Name: 1816, dtype: bool"
      ]
     },
     "metadata": {},
     "output_type": "display_data"
    },
    {
     "name": "stdout",
     "output_type": "stream",
     "text": [
      "these full car did not happen .\n",
      "these full cars did not happen .\n"
     ]
    },
    {
     "data": {
      "text/plain": [
       "SAYCam LSTM 0     True\n",
       "SAYCam 1-gram    False\n",
       "SAYCam 2-gram    False\n",
       "SAYCam CBOW 0     True\n",
       "Name: 1818, dtype: bool"
      ]
     },
     "metadata": {},
     "output_type": "display_data"
    },
    {
     "name": "stdout",
     "output_type": "stream",
     "text": [
      "i saw these full car .\n",
      "i saw these full cars .\n"
     ]
    },
    {
     "data": {
      "text/plain": [
       "SAYCam LSTM 0     True\n",
       "SAYCam 1-gram    False\n",
       "SAYCam 2-gram    False\n",
       "SAYCam CBOW 0     True\n",
       "Name: 1819, dtype: bool"
      ]
     },
     "metadata": {},
     "output_type": "display_data"
    },
    {
     "name": "stdout",
     "output_type": "stream",
     "text": [
      "look at those full car .\n",
      "look at those full cars .\n"
     ]
    },
    {
     "data": {
      "text/plain": [
       "SAYCam LSTM 0     True\n",
       "SAYCam 1-gram    False\n",
       "SAYCam 2-gram    False\n",
       "SAYCam CBOW 0    False\n",
       "Name: 1820, dtype: bool"
      ]
     },
     "metadata": {},
     "output_type": "display_data"
    },
    {
     "name": "stdout",
     "output_type": "stream",
     "text": [
      "those full car went there .\n",
      "those full cars went there .\n"
     ]
    },
    {
     "data": {
      "text/plain": [
       "SAYCam LSTM 0     True\n",
       "SAYCam 1-gram    False\n",
       "SAYCam 2-gram    False\n",
       "SAYCam CBOW 0     True\n",
       "Name: 1821, dtype: bool"
      ]
     },
     "metadata": {},
     "output_type": "display_data"
    },
    {
     "name": "stdout",
     "output_type": "stream",
     "text": [
      "those full car did not happen .\n",
      "those full cars did not happen .\n"
     ]
    },
    {
     "data": {
      "text/plain": [
       "SAYCam LSTM 0     True\n",
       "SAYCam 1-gram    False\n",
       "SAYCam 2-gram    False\n",
       "SAYCam CBOW 0    False\n",
       "Name: 1822, dtype: bool"
      ]
     },
     "metadata": {},
     "output_type": "display_data"
    },
    {
     "name": "stdout",
     "output_type": "stream",
     "text": [
      "i saw those full car .\n",
      "i saw those full cars .\n"
     ]
    },
    {
     "data": {
      "text/plain": [
       "SAYCam LSTM 0     True\n",
       "SAYCam 1-gram    False\n",
       "SAYCam 2-gram    False\n",
       "SAYCam CBOW 0    False\n",
       "Name: 1823, dtype: bool"
      ]
     },
     "metadata": {},
     "output_type": "display_data"
    },
    {
     "name": "stdout",
     "output_type": "stream",
     "text": [
      "look at these full baby .\n",
      "look at these full babies .\n"
     ]
    },
    {
     "data": {
      "text/plain": [
       "SAYCam LSTM 0     True\n",
       "SAYCam 1-gram    False\n",
       "SAYCam 2-gram    False\n",
       "SAYCam CBOW 0    False\n",
       "Name: 1864, dtype: bool"
      ]
     },
     "metadata": {},
     "output_type": "display_data"
    },
    {
     "name": "stdout",
     "output_type": "stream",
     "text": [
      "these full baby went there .\n",
      "these full babies went there .\n"
     ]
    },
    {
     "data": {
      "text/plain": [
       "SAYCam LSTM 0     True\n",
       "SAYCam 1-gram    False\n",
       "SAYCam 2-gram    False\n",
       "SAYCam CBOW 0    False\n",
       "Name: 1865, dtype: bool"
      ]
     },
     "metadata": {},
     "output_type": "display_data"
    },
    {
     "name": "stdout",
     "output_type": "stream",
     "text": [
      "these full baby did not happen .\n",
      "these full babies did not happen .\n"
     ]
    },
    {
     "data": {
      "text/plain": [
       "SAYCam LSTM 0     True\n",
       "SAYCam 1-gram    False\n",
       "SAYCam 2-gram    False\n",
       "SAYCam CBOW 0    False\n",
       "Name: 1866, dtype: bool"
      ]
     },
     "metadata": {},
     "output_type": "display_data"
    },
    {
     "name": "stdout",
     "output_type": "stream",
     "text": [
      "i saw these full baby .\n",
      "i saw these full babies .\n"
     ]
    },
    {
     "data": {
      "text/plain": [
       "SAYCam LSTM 0     True\n",
       "SAYCam 1-gram    False\n",
       "SAYCam 2-gram    False\n",
       "SAYCam CBOW 0    False\n",
       "Name: 1867, dtype: bool"
      ]
     },
     "metadata": {},
     "output_type": "display_data"
    },
    {
     "name": "stdout",
     "output_type": "stream",
     "text": [
      "look at those full baby .\n",
      "look at those full babies .\n"
     ]
    },
    {
     "data": {
      "text/plain": [
       "SAYCam LSTM 0     True\n",
       "SAYCam 1-gram    False\n",
       "SAYCam 2-gram    False\n",
       "SAYCam CBOW 0    False\n",
       "Name: 1868, dtype: bool"
      ]
     },
     "metadata": {},
     "output_type": "display_data"
    },
    {
     "name": "stdout",
     "output_type": "stream",
     "text": [
      "those full baby went there .\n",
      "those full babies went there .\n"
     ]
    },
    {
     "data": {
      "text/plain": [
       "SAYCam LSTM 0     True\n",
       "SAYCam 1-gram    False\n",
       "SAYCam 2-gram    False\n",
       "SAYCam CBOW 0    False\n",
       "Name: 1869, dtype: bool"
      ]
     },
     "metadata": {},
     "output_type": "display_data"
    },
    {
     "name": "stdout",
     "output_type": "stream",
     "text": [
      "those full baby did not happen .\n",
      "those full babies did not happen .\n"
     ]
    },
    {
     "data": {
      "text/plain": [
       "SAYCam LSTM 0     True\n",
       "SAYCam 1-gram    False\n",
       "SAYCam 2-gram    False\n",
       "SAYCam CBOW 0    False\n",
       "Name: 1870, dtype: bool"
      ]
     },
     "metadata": {},
     "output_type": "display_data"
    },
    {
     "name": "stdout",
     "output_type": "stream",
     "text": [
      "i saw those full baby .\n",
      "i saw those full babies .\n"
     ]
    },
    {
     "data": {
      "text/plain": [
       "SAYCam LSTM 0     True\n",
       "SAYCam 1-gram    False\n",
       "SAYCam 2-gram    False\n",
       "SAYCam CBOW 0    False\n",
       "Name: 1871, dtype: bool"
      ]
     },
     "metadata": {},
     "output_type": "display_data"
    },
    {
     "name": "stdout",
     "output_type": "stream",
     "text": [
      "this white birds went there .\n",
      "this white bird went there .\n"
     ]
    },
    {
     "data": {
      "text/plain": [
       "SAYCam LSTM 0     True\n",
       "SAYCam 1-gram    False\n",
       "SAYCam 2-gram    False\n",
       "SAYCam CBOW 0     True\n",
       "Name: 1937, dtype: bool"
      ]
     },
     "metadata": {},
     "output_type": "display_data"
    },
    {
     "name": "stdout",
     "output_type": "stream",
     "text": [
      "this white birds did not happen .\n",
      "this white bird did not happen .\n"
     ]
    },
    {
     "data": {
      "text/plain": [
       "SAYCam LSTM 0     True\n",
       "SAYCam 1-gram    False\n",
       "SAYCam 2-gram    False\n",
       "SAYCam CBOW 0     True\n",
       "Name: 1938, dtype: bool"
      ]
     },
     "metadata": {},
     "output_type": "display_data"
    },
    {
     "name": "stdout",
     "output_type": "stream",
     "text": [
      "i saw this white birds .\n",
      "i saw this white bird .\n"
     ]
    },
    {
     "data": {
      "text/plain": [
       "SAYCam LSTM 0     True\n",
       "SAYCam 1-gram    False\n",
       "SAYCam 2-gram    False\n",
       "SAYCam CBOW 0     True\n",
       "Name: 1939, dtype: bool"
      ]
     },
     "metadata": {},
     "output_type": "display_data"
    },
    {
     "name": "stdout",
     "output_type": "stream",
     "text": [
      "look at that white birds .\n",
      "look at that white bird .\n"
     ]
    },
    {
     "data": {
      "text/plain": [
       "SAYCam LSTM 0     True\n",
       "SAYCam 1-gram    False\n",
       "SAYCam 2-gram    False\n",
       "SAYCam CBOW 0    False\n",
       "Name: 1940, dtype: bool"
      ]
     },
     "metadata": {},
     "output_type": "display_data"
    },
    {
     "name": "stdout",
     "output_type": "stream",
     "text": [
      "that white birds went there .\n",
      "that white bird went there .\n"
     ]
    },
    {
     "data": {
      "text/plain": [
       "SAYCam LSTM 0     True\n",
       "SAYCam 1-gram    False\n",
       "SAYCam 2-gram    False\n",
       "SAYCam CBOW 0     True\n",
       "Name: 1941, dtype: bool"
      ]
     },
     "metadata": {},
     "output_type": "display_data"
    },
    {
     "name": "stdout",
     "output_type": "stream",
     "text": [
      "that white birds did not happen .\n",
      "that white bird did not happen .\n"
     ]
    },
    {
     "data": {
      "text/plain": [
       "SAYCam LSTM 0     True\n",
       "SAYCam 1-gram    False\n",
       "SAYCam 2-gram    False\n",
       "SAYCam CBOW 0    False\n",
       "Name: 1942, dtype: bool"
      ]
     },
     "metadata": {},
     "output_type": "display_data"
    },
    {
     "name": "stdout",
     "output_type": "stream",
     "text": [
      "i saw that white birds .\n",
      "i saw that white bird .\n"
     ]
    },
    {
     "data": {
      "text/plain": [
       "SAYCam LSTM 0     True\n",
       "SAYCam 1-gram    False\n",
       "SAYCam 2-gram    False\n",
       "SAYCam CBOW 0    False\n",
       "Name: 1943, dtype: bool"
      ]
     },
     "metadata": {},
     "output_type": "display_data"
    },
    {
     "name": "stdout",
     "output_type": "stream",
     "text": [
      "look at these white bird .\n",
      "look at these white birds .\n"
     ]
    },
    {
     "data": {
      "text/plain": [
       "SAYCam LSTM 0     True\n",
       "SAYCam 1-gram     True\n",
       "SAYCam 2-gram     True\n",
       "SAYCam CBOW 0    False\n",
       "Name: 1944, dtype: bool"
      ]
     },
     "metadata": {},
     "output_type": "display_data"
    },
    {
     "name": "stdout",
     "output_type": "stream",
     "text": [
      "these white bird went there .\n",
      "these white birds went there .\n"
     ]
    },
    {
     "data": {
      "text/plain": [
       "SAYCam LSTM 0     True\n",
       "SAYCam 1-gram     True\n",
       "SAYCam 2-gram     True\n",
       "SAYCam CBOW 0    False\n",
       "Name: 1945, dtype: bool"
      ]
     },
     "metadata": {},
     "output_type": "display_data"
    },
    {
     "name": "stdout",
     "output_type": "stream",
     "text": [
      "these white bird did not happen .\n",
      "these white birds did not happen .\n"
     ]
    },
    {
     "data": {
      "text/plain": [
       "SAYCam LSTM 0     True\n",
       "SAYCam 1-gram     True\n",
       "SAYCam 2-gram     True\n",
       "SAYCam CBOW 0    False\n",
       "Name: 1946, dtype: bool"
      ]
     },
     "metadata": {},
     "output_type": "display_data"
    },
    {
     "name": "stdout",
     "output_type": "stream",
     "text": [
      "i saw these white bird .\n",
      "i saw these white birds .\n"
     ]
    },
    {
     "data": {
      "text/plain": [
       "SAYCam LSTM 0     True\n",
       "SAYCam 1-gram     True\n",
       "SAYCam 2-gram     True\n",
       "SAYCam CBOW 0    False\n",
       "Name: 1947, dtype: bool"
      ]
     },
     "metadata": {},
     "output_type": "display_data"
    },
    {
     "name": "stdout",
     "output_type": "stream",
     "text": [
      "look at those white bird .\n",
      "look at those white birds .\n"
     ]
    },
    {
     "data": {
      "text/plain": [
       "SAYCam LSTM 0     True\n",
       "SAYCam 1-gram     True\n",
       "SAYCam 2-gram     True\n",
       "SAYCam CBOW 0    False\n",
       "Name: 1948, dtype: bool"
      ]
     },
     "metadata": {},
     "output_type": "display_data"
    },
    {
     "name": "stdout",
     "output_type": "stream",
     "text": [
      "those white bird went there .\n",
      "those white birds went there .\n"
     ]
    },
    {
     "data": {
      "text/plain": [
       "SAYCam LSTM 0     True\n",
       "SAYCam 1-gram     True\n",
       "SAYCam 2-gram     True\n",
       "SAYCam CBOW 0    False\n",
       "Name: 1949, dtype: bool"
      ]
     },
     "metadata": {},
     "output_type": "display_data"
    },
    {
     "name": "stdout",
     "output_type": "stream",
     "text": [
      "those white bird did not happen .\n",
      "those white birds did not happen .\n"
     ]
    },
    {
     "data": {
      "text/plain": [
       "SAYCam LSTM 0     True\n",
       "SAYCam 1-gram     True\n",
       "SAYCam 2-gram     True\n",
       "SAYCam CBOW 0    False\n",
       "Name: 1950, dtype: bool"
      ]
     },
     "metadata": {},
     "output_type": "display_data"
    },
    {
     "name": "stdout",
     "output_type": "stream",
     "text": [
      "i saw those white bird .\n",
      "i saw those white birds .\n"
     ]
    },
    {
     "data": {
      "text/plain": [
       "SAYCam LSTM 0     True\n",
       "SAYCam 1-gram     True\n",
       "SAYCam 2-gram     True\n",
       "SAYCam CBOW 0    False\n",
       "Name: 1951, dtype: bool"
      ]
     },
     "metadata": {},
     "output_type": "display_data"
    },
    {
     "name": "stdout",
     "output_type": "stream",
     "text": [
      "comparing ('quantifiers', 'existential there') (181 / 2000.0 = 9.05%):\n"
     ]
    },
    {
     "data": {
      "text/plain": [
       "SAYCam LSTM               0.966851\n",
       "SAYCam LSTM Captioning    0.979742\n",
       "SAYCam CBOW               0.736648\n",
       "SAYCam unigram            0.839779\n",
       "SAYCam bigram             0.900552\n",
       "AO-CHILDES Transformer    0.994475\n",
       "Name: (quantifiers, existential there), dtype: float64"
      ]
     },
     "metadata": {},
     "output_type": "display_data"
    },
    {
     "name": "stdout",
     "output_type": "stream",
     "text": [
      "there was all movie about purple guys .\n",
      "there was no movie about purple guys .\n"
     ]
    },
    {
     "data": {
      "text/plain": [
       "SAYCam LSTM 0     True\n",
       "SAYCam 1-gram    False\n",
       "SAYCam 2-gram    False\n",
       "SAYCam CBOW 0    False\n",
       "Name: 8, dtype: bool"
      ]
     },
     "metadata": {},
     "output_type": "display_data"
    },
    {
     "name": "stdout",
     "output_type": "stream",
     "text": [
      "there was all movie about fixed pages .\n",
      "there was no movie about fixed pages .\n"
     ]
    },
    {
     "data": {
      "text/plain": [
       "SAYCam LSTM 0     True\n",
       "SAYCam 1-gram    False\n",
       "SAYCam 2-gram    False\n",
       "SAYCam CBOW 0    False\n",
       "Name: 18, dtype: bool"
      ]
     },
     "metadata": {},
     "output_type": "display_data"
    },
    {
     "name": "stdout",
     "output_type": "stream",
     "text": [
      "there were all books about polar animals .\n",
      "there were some books about polar animals .\n"
     ]
    },
    {
     "data": {
      "text/plain": [
       "SAYCam LSTM 0     True\n",
       "SAYCam 1-gram    False\n",
       "SAYCam 2-gram     True\n",
       "SAYCam CBOW 0     True\n",
       "Name: 40, dtype: bool"
      ]
     },
     "metadata": {},
     "output_type": "display_data"
    },
    {
     "name": "stdout",
     "output_type": "stream",
     "text": [
      "there are all books about early days .\n",
      "there are some books about early days .\n"
     ]
    },
    {
     "data": {
      "text/plain": [
       "SAYCam LSTM 0     True\n",
       "SAYCam 1-gram    False\n",
       "SAYCam 2-gram     True\n",
       "SAYCam CBOW 0     True\n",
       "Name: 134, dtype: bool"
      ]
     },
     "metadata": {},
     "output_type": "display_data"
    },
    {
     "name": "stdout",
     "output_type": "stream",
     "text": [
      "there is each movie about soft dogs .\n",
      "there is no movie about soft dogs .\n"
     ]
    },
    {
     "data": {
      "text/plain": [
       "SAYCam LSTM 0     True\n",
       "SAYCam 1-gram     True\n",
       "SAYCam 2-gram     True\n",
       "SAYCam CBOW 0    False\n",
       "Name: 180, dtype: bool"
      ]
     },
     "metadata": {},
     "output_type": "display_data"
    },
    {
     "name": "stdout",
     "output_type": "stream",
     "text": [
      "there was most sign about kind stars .\n",
      "there was no sign about kind stars .\n"
     ]
    },
    {
     "data": {
      "text/plain": [
       "SAYCam LSTM 0     True\n",
       "SAYCam 1-gram     True\n",
       "SAYCam 2-gram     True\n",
       "SAYCam CBOW 0    False\n",
       "Name: 226, dtype: bool"
      ]
     },
     "metadata": {},
     "output_type": "display_data"
    },
    {
     "name": "stdout",
     "output_type": "stream",
     "text": [
      "there was every book about little things .\n",
      "there was no book about little things .\n"
     ]
    },
    {
     "data": {
      "text/plain": [
       "SAYCam LSTM 0     True\n",
       "SAYCam 1-gram     True\n",
       "SAYCam 2-gram     True\n",
       "SAYCam CBOW 0    False\n",
       "Name: 273, dtype: bool"
      ]
     },
     "metadata": {},
     "output_type": "display_data"
    },
    {
     "name": "stdout",
     "output_type": "stream",
     "text": [
      "there is n't all sign about fixed boats .\n",
      "there is n't no sign about fixed boats .\n"
     ]
    },
    {
     "data": {
      "text/plain": [
       "SAYCam LSTM 0     True\n",
       "SAYCam 1-gram    False\n",
       "SAYCam 2-gram    False\n",
       "SAYCam CBOW 0    False\n",
       "Name: 279, dtype: bool"
      ]
     },
     "metadata": {},
     "output_type": "display_data"
    },
    {
     "name": "stdout",
     "output_type": "stream",
     "text": [
      "there was each movie about full books .\n",
      "there was no movie about full books .\n"
     ]
    },
    {
     "data": {
      "text/plain": [
       "SAYCam LSTM 0     True\n",
       "SAYCam 1-gram     True\n",
       "SAYCam 2-gram     True\n",
       "SAYCam CBOW 0    False\n",
       "Name: 294, dtype: bool"
      ]
     },
     "metadata": {},
     "output_type": "display_data"
    },
    {
     "name": "stdout",
     "output_type": "stream",
     "text": [
      "there was all book about hard girls .\n",
      "there was no book about hard girls .\n"
     ]
    },
    {
     "data": {
      "text/plain": [
       "SAYCam LSTM 0     True\n",
       "SAYCam 1-gram    False\n",
       "SAYCam 2-gram     True\n",
       "SAYCam CBOW 0     True\n",
       "Name: 337, dtype: bool"
      ]
     },
     "metadata": {},
     "output_type": "display_data"
    },
    {
     "name": "stdout",
     "output_type": "stream",
     "text": [
      "there was most movie about polar eggs .\n",
      "there was no movie about polar eggs .\n"
     ]
    },
    {
     "data": {
      "text/plain": [
       "SAYCam LSTM 0     True\n",
       "SAYCam 1-gram     True\n",
       "SAYCam 2-gram     True\n",
       "SAYCam CBOW 0    False\n",
       "Name: 403, dtype: bool"
      ]
     },
     "metadata": {},
     "output_type": "display_data"
    },
    {
     "name": "stdout",
     "output_type": "stream",
     "text": [
      "there was most sign about quick words .\n",
      "there was no sign about quick words .\n"
     ]
    },
    {
     "data": {
      "text/plain": [
       "SAYCam LSTM 0     True\n",
       "SAYCam 1-gram     True\n",
       "SAYCam 2-gram     True\n",
       "SAYCam CBOW 0    False\n",
       "Name: 443, dtype: bool"
      ]
     },
     "metadata": {},
     "output_type": "display_data"
    },
    {
     "name": "stdout",
     "output_type": "stream",
     "text": [
      "there is n't each movie about bad pages .\n",
      "there is n't no movie about bad pages .\n"
     ]
    },
    {
     "data": {
      "text/plain": [
       "SAYCam LSTM 0     True\n",
       "SAYCam 1-gram     True\n",
       "SAYCam 2-gram     True\n",
       "SAYCam CBOW 0    False\n",
       "Name: 449, dtype: bool"
      ]
     },
     "metadata": {},
     "output_type": "display_data"
    },
    {
     "name": "stdout",
     "output_type": "stream",
     "text": [
      "there is all movie about silly pages .\n",
      "there is no movie about silly pages .\n"
     ]
    },
    {
     "data": {
      "text/plain": [
       "SAYCam LSTM 0     True\n",
       "SAYCam 1-gram    False\n",
       "SAYCam 2-gram    False\n",
       "SAYCam CBOW 0    False\n",
       "Name: 459, dtype: bool"
      ]
     },
     "metadata": {},
     "output_type": "display_data"
    },
    {
     "name": "stdout",
     "output_type": "stream",
     "text": [
      "there is n't all book about silly guys .\n",
      "there is n't no book about silly guys .\n"
     ]
    },
    {
     "data": {
      "text/plain": [
       "SAYCam LSTM 0     True\n",
       "SAYCam 1-gram    False\n",
       "SAYCam 2-gram     True\n",
       "SAYCam CBOW 0     True\n",
       "Name: 479, dtype: bool"
      ]
     },
     "metadata": {},
     "output_type": "display_data"
    },
    {
     "name": "stdout",
     "output_type": "stream",
     "text": [
      "there was all movie about last songs .\n",
      "there was no movie about last songs .\n"
     ]
    },
    {
     "data": {
      "text/plain": [
       "SAYCam LSTM 0     True\n",
       "SAYCam 1-gram    False\n",
       "SAYCam 2-gram    False\n",
       "SAYCam CBOW 0    False\n",
       "Name: 493, dtype: bool"
      ]
     },
     "metadata": {},
     "output_type": "display_data"
    },
    {
     "name": "stdout",
     "output_type": "stream",
     "text": [
      "there is all sign about kind pictures .\n",
      "there is no sign about kind pictures .\n"
     ]
    },
    {
     "data": {
      "text/plain": [
       "SAYCam LSTM 0     True\n",
       "SAYCam 1-gram    False\n",
       "SAYCam 2-gram    False\n",
       "SAYCam CBOW 0    False\n",
       "Name: 517, dtype: bool"
      ]
     },
     "metadata": {},
     "output_type": "display_data"
    },
    {
     "name": "stdout",
     "output_type": "stream",
     "text": [
      "there is n't every sign about finished bits .\n",
      "there is n't no sign about finished bits .\n"
     ]
    },
    {
     "data": {
      "text/plain": [
       "SAYCam LSTM 0     True\n",
       "SAYCam 1-gram     True\n",
       "SAYCam 2-gram     True\n",
       "SAYCam CBOW 0    False\n",
       "Name: 586, dtype: bool"
      ]
     },
     "metadata": {},
     "output_type": "display_data"
    },
    {
     "name": "stdout",
     "output_type": "stream",
     "text": [
      "there is n't every sign about silly things .\n",
      "there is n't no sign about silly things .\n"
     ]
    },
    {
     "data": {
      "text/plain": [
       "SAYCam LSTM 0     True\n",
       "SAYCam 1-gram     True\n",
       "SAYCam 2-gram     True\n",
       "SAYCam CBOW 0    False\n",
       "Name: 602, dtype: bool"
      ]
     },
     "metadata": {},
     "output_type": "display_data"
    },
    {
     "name": "stdout",
     "output_type": "stream",
     "text": [
      "there is each movie about extra pages .\n",
      "there is no movie about extra pages .\n"
     ]
    },
    {
     "data": {
      "text/plain": [
       "SAYCam LSTM 0     True\n",
       "SAYCam 1-gram     True\n",
       "SAYCam 2-gram     True\n",
       "SAYCam CBOW 0    False\n",
       "Name: 610, dtype: bool"
      ]
     },
     "metadata": {},
     "output_type": "display_data"
    },
    {
     "name": "stdout",
     "output_type": "stream",
     "text": [
      "there is every book about yellow animals .\n",
      "there is no book about yellow animals .\n"
     ]
    },
    {
     "data": {
      "text/plain": [
       "SAYCam LSTM 0     True\n",
       "SAYCam 1-gram     True\n",
       "SAYCam 2-gram     True\n",
       "SAYCam CBOW 0    False\n",
       "Name: 657, dtype: bool"
      ]
     },
     "metadata": {},
     "output_type": "display_data"
    },
    {
     "name": "stdout",
     "output_type": "stream",
     "text": [
      "there was each sign about good feet .\n",
      "there was no sign about good feet .\n"
     ]
    },
    {
     "data": {
      "text/plain": [
       "SAYCam LSTM 0     True\n",
       "SAYCam 1-gram     True\n",
       "SAYCam 2-gram     True\n",
       "SAYCam CBOW 0    False\n",
       "Name: 693, dtype: bool"
      ]
     },
     "metadata": {},
     "output_type": "display_data"
    },
    {
     "name": "stdout",
     "output_type": "stream",
     "text": [
      "there was all sign about fixed horses .\n",
      "there was no sign about fixed horses .\n"
     ]
    },
    {
     "data": {
      "text/plain": [
       "SAYCam LSTM 0     True\n",
       "SAYCam 1-gram    False\n",
       "SAYCam 2-gram    False\n",
       "SAYCam CBOW 0    False\n",
       "Name: 723, dtype: bool"
      ]
     },
     "metadata": {},
     "output_type": "display_data"
    },
    {
     "name": "stdout",
     "output_type": "stream",
     "text": [
      "there is every movie about polar dogs .\n",
      "there is no movie about polar dogs .\n"
     ]
    },
    {
     "data": {
      "text/plain": [
       "SAYCam LSTM 0     True\n",
       "SAYCam 1-gram     True\n",
       "SAYCam 2-gram     True\n",
       "SAYCam CBOW 0    False\n",
       "Name: 749, dtype: bool"
      ]
     },
     "metadata": {},
     "output_type": "display_data"
    },
    {
     "name": "stdout",
     "output_type": "stream",
     "text": [
      "there is most movie about nice toys .\n",
      "there is no movie about nice toys .\n"
     ]
    },
    {
     "data": {
      "text/plain": [
       "SAYCam LSTM 0     True\n",
       "SAYCam 1-gram     True\n",
       "SAYCam 2-gram     True\n",
       "SAYCam CBOW 0    False\n",
       "Name: 788, dtype: bool"
      ]
     },
     "metadata": {},
     "output_type": "display_data"
    },
    {
     "name": "stdout",
     "output_type": "stream",
     "text": [
      "there was every movie about next horses .\n",
      "there was no movie about next horses .\n"
     ]
    },
    {
     "data": {
      "text/plain": [
       "SAYCam LSTM 0     True\n",
       "SAYCam 1-gram     True\n",
       "SAYCam 2-gram     True\n",
       "SAYCam CBOW 0    False\n",
       "Name: 803, dtype: bool"
      ]
     },
     "metadata": {},
     "output_type": "display_data"
    },
    {
     "name": "stdout",
     "output_type": "stream",
     "text": [
      "there was every book about red rings .\n",
      "there was no book about red rings .\n"
     ]
    },
    {
     "data": {
      "text/plain": [
       "SAYCam LSTM 0     True\n",
       "SAYCam 1-gram     True\n",
       "SAYCam 2-gram     True\n",
       "SAYCam CBOW 0    False\n",
       "Name: 821, dtype: bool"
      ]
     },
     "metadata": {},
     "output_type": "display_data"
    },
    {
     "name": "stdout",
     "output_type": "stream",
     "text": [
      "there is every book about nice toys .\n",
      "there is no book about nice toys .\n"
     ]
    },
    {
     "data": {
      "text/plain": [
       "SAYCam LSTM 0     True\n",
       "SAYCam 1-gram     True\n",
       "SAYCam 2-gram     True\n",
       "SAYCam CBOW 0    False\n",
       "Name: 847, dtype: bool"
      ]
     },
     "metadata": {},
     "output_type": "display_data"
    },
    {
     "name": "stdout",
     "output_type": "stream",
     "text": [
      "there is most sign about kind feet .\n",
      "there is no sign about kind feet .\n"
     ]
    },
    {
     "data": {
      "text/plain": [
       "SAYCam LSTM 0     True\n",
       "SAYCam 1-gram     True\n",
       "SAYCam 2-gram     True\n",
       "SAYCam CBOW 0    False\n",
       "Name: 853, dtype: bool"
      ]
     },
     "metadata": {},
     "output_type": "display_data"
    },
    {
     "name": "stdout",
     "output_type": "stream",
     "text": [
      "there is every book about good pages .\n",
      "there is no book about good pages .\n"
     ]
    },
    {
     "data": {
      "text/plain": [
       "SAYCam LSTM 0     True\n",
       "SAYCam 1-gram     True\n",
       "SAYCam 2-gram     True\n",
       "SAYCam CBOW 0    False\n",
       "Name: 881, dtype: bool"
      ]
     },
     "metadata": {},
     "output_type": "display_data"
    },
    {
     "name": "stdout",
     "output_type": "stream",
     "text": [
      "there is all movie about early feet .\n",
      "there is no movie about early feet .\n"
     ]
    },
    {
     "data": {
      "text/plain": [
       "SAYCam LSTM 0     True\n",
       "SAYCam 1-gram    False\n",
       "SAYCam 2-gram    False\n",
       "SAYCam CBOW 0    False\n",
       "Name: 899, dtype: bool"
      ]
     },
     "metadata": {},
     "output_type": "display_data"
    },
    {
     "name": "stdout",
     "output_type": "stream",
     "text": [
      "there is every sign about silly words .\n",
      "there is no sign about silly words .\n"
     ]
    },
    {
     "data": {
      "text/plain": [
       "SAYCam LSTM 0     True\n",
       "SAYCam 1-gram     True\n",
       "SAYCam 2-gram     True\n",
       "SAYCam CBOW 0    False\n",
       "Name: 928, dtype: bool"
      ]
     },
     "metadata": {},
     "output_type": "display_data"
    },
    {
     "name": "stdout",
     "output_type": "stream",
     "text": [
      "there is all sign about last pictures .\n",
      "there is no sign about last pictures .\n"
     ]
    },
    {
     "data": {
      "text/plain": [
       "SAYCam LSTM 0     True\n",
       "SAYCam 1-gram    False\n",
       "SAYCam 2-gram    False\n",
       "SAYCam CBOW 0    False\n",
       "Name: 932, dtype: bool"
      ]
     },
     "metadata": {},
     "output_type": "display_data"
    },
    {
     "name": "stdout",
     "output_type": "stream",
     "text": [
      "there are n't all books about little birds .\n",
      "there are n't some books about little birds .\n"
     ]
    },
    {
     "data": {
      "text/plain": [
       "SAYCam LSTM 0     True\n",
       "SAYCam 1-gram    False\n",
       "SAYCam 2-gram     True\n",
       "SAYCam CBOW 0     True\n",
       "Name: 939, dtype: bool"
      ]
     },
     "metadata": {},
     "output_type": "display_data"
    },
    {
     "name": "stdout",
     "output_type": "stream",
     "text": [
      "there are n't all books about hard pictures .\n",
      "there are n't many books about hard pictures .\n"
     ]
    },
    {
     "data": {
      "text/plain": [
       "SAYCam LSTM 0     True\n",
       "SAYCam 1-gram    False\n",
       "SAYCam 2-gram     True\n",
       "SAYCam CBOW 0     True\n",
       "Name: 944, dtype: bool"
      ]
     },
     "metadata": {},
     "output_type": "display_data"
    },
    {
     "name": "stdout",
     "output_type": "stream",
     "text": [
      "there were all books about finished songs .\n",
      "there were many books about finished songs .\n"
     ]
    },
    {
     "data": {
      "text/plain": [
       "SAYCam LSTM 0     True\n",
       "SAYCam 1-gram    False\n",
       "SAYCam 2-gram    False\n",
       "SAYCam CBOW 0     True\n",
       "Name: 988, dtype: bool"
      ]
     },
     "metadata": {},
     "output_type": "display_data"
    },
    {
     "name": "stdout",
     "output_type": "stream",
     "text": [
      "there were not all books about tall birds .\n",
      "there were not some books about tall birds .\n"
     ]
    },
    {
     "data": {
      "text/plain": [
       "SAYCam LSTM 0     True\n",
       "SAYCam 1-gram    False\n",
       "SAYCam 2-gram     True\n",
       "SAYCam CBOW 0     True\n",
       "Name: 1060, dtype: bool"
      ]
     },
     "metadata": {},
     "output_type": "display_data"
    },
    {
     "name": "stdout",
     "output_type": "stream",
     "text": [
      "there was all book about polar rings .\n",
      "there was no book about polar rings .\n"
     ]
    },
    {
     "data": {
      "text/plain": [
       "SAYCam LSTM 0     True\n",
       "SAYCam 1-gram    False\n",
       "SAYCam 2-gram     True\n",
       "SAYCam CBOW 0     True\n",
       "Name: 1062, dtype: bool"
      ]
     },
     "metadata": {},
     "output_type": "display_data"
    },
    {
     "name": "stdout",
     "output_type": "stream",
     "text": [
      "there was all book about ready arms .\n",
      "there was no book about ready arms .\n"
     ]
    },
    {
     "data": {
      "text/plain": [
       "SAYCam LSTM 0     True\n",
       "SAYCam 1-gram    False\n",
       "SAYCam 2-gram     True\n",
       "SAYCam CBOW 0     True\n",
       "Name: 1192, dtype: bool"
      ]
     },
     "metadata": {},
     "output_type": "display_data"
    },
    {
     "name": "stdout",
     "output_type": "stream",
     "text": [
      "there are n't all books about nice colors .\n",
      "there are n't few books about nice colors .\n"
     ]
    },
    {
     "data": {
      "text/plain": [
       "SAYCam LSTM 0     True\n",
       "SAYCam 1-gram    False\n",
       "SAYCam 2-gram     True\n",
       "SAYCam CBOW 0     True\n",
       "Name: 1319, dtype: bool"
      ]
     },
     "metadata": {},
     "output_type": "display_data"
    },
    {
     "name": "stdout",
     "output_type": "stream",
     "text": [
      "there was every sign about early cars .\n",
      "there was no sign about early cars .\n"
     ]
    },
    {
     "data": {
      "text/plain": [
       "SAYCam LSTM 0     True\n",
       "SAYCam 1-gram     True\n",
       "SAYCam 2-gram     True\n",
       "SAYCam CBOW 0    False\n",
       "Name: 1346, dtype: bool"
      ]
     },
     "metadata": {},
     "output_type": "display_data"
    },
    {
     "name": "stdout",
     "output_type": "stream",
     "text": [
      "there is every book about wrong days .\n",
      "there is no book about wrong days .\n"
     ]
    },
    {
     "data": {
      "text/plain": [
       "SAYCam LSTM 0     True\n",
       "SAYCam 1-gram     True\n",
       "SAYCam 2-gram     True\n",
       "SAYCam CBOW 0    False\n",
       "Name: 1381, dtype: bool"
      ]
     },
     "metadata": {},
     "output_type": "display_data"
    },
    {
     "name": "stdout",
     "output_type": "stream",
     "text": [
      "there is all sign about extra stars .\n",
      "there is no sign about extra stars .\n"
     ]
    },
    {
     "data": {
      "text/plain": [
       "SAYCam LSTM 0     True\n",
       "SAYCam 1-gram    False\n",
       "SAYCam 2-gram    False\n",
       "SAYCam CBOW 0    False\n",
       "Name: 1399, dtype: bool"
      ]
     },
     "metadata": {},
     "output_type": "display_data"
    },
    {
     "name": "stdout",
     "output_type": "stream",
     "text": [
      "there was most movie about hard toys .\n",
      "there was no movie about hard toys .\n"
     ]
    },
    {
     "data": {
      "text/plain": [
       "SAYCam LSTM 0     True\n",
       "SAYCam 1-gram     True\n",
       "SAYCam 2-gram     True\n",
       "SAYCam CBOW 0    False\n",
       "Name: 1408, dtype: bool"
      ]
     },
     "metadata": {},
     "output_type": "display_data"
    },
    {
     "name": "stdout",
     "output_type": "stream",
     "text": [
      "there was all sign about fixed books .\n",
      "there was no sign about fixed books .\n"
     ]
    },
    {
     "data": {
      "text/plain": [
       "SAYCam LSTM 0     True\n",
       "SAYCam 1-gram    False\n",
       "SAYCam 2-gram    False\n",
       "SAYCam CBOW 0    False\n",
       "Name: 1420, dtype: bool"
      ]
     },
     "metadata": {},
     "output_type": "display_data"
    },
    {
     "name": "stdout",
     "output_type": "stream",
     "text": [
      "there is every movie about nice boats .\n",
      "there is no movie about nice boats .\n"
     ]
    },
    {
     "data": {
      "text/plain": [
       "SAYCam LSTM 0     True\n",
       "SAYCam 1-gram     True\n",
       "SAYCam 2-gram     True\n",
       "SAYCam CBOW 0    False\n",
       "Name: 1446, dtype: bool"
      ]
     },
     "metadata": {},
     "output_type": "display_data"
    },
    {
     "name": "stdout",
     "output_type": "stream",
     "text": [
      "there is each sign about bad feet .\n",
      "there is no sign about bad feet .\n"
     ]
    },
    {
     "data": {
      "text/plain": [
       "SAYCam LSTM 0     True\n",
       "SAYCam 1-gram     True\n",
       "SAYCam 2-gram     True\n",
       "SAYCam CBOW 0    False\n",
       "Name: 1582, dtype: bool"
      ]
     },
     "metadata": {},
     "output_type": "display_data"
    },
    {
     "name": "stdout",
     "output_type": "stream",
     "text": [
      "there were all books about white pages .\n",
      "there were few books about white pages .\n"
     ]
    },
    {
     "data": {
      "text/plain": [
       "SAYCam LSTM 0     True\n",
       "SAYCam 1-gram    False\n",
       "SAYCam 2-gram    False\n",
       "SAYCam CBOW 0     True\n",
       "Name: 1608, dtype: bool"
      ]
     },
     "metadata": {},
     "output_type": "display_data"
    },
    {
     "name": "stdout",
     "output_type": "stream",
     "text": [
      "there is n't most movie about soft hands .\n",
      "there is n't no movie about soft hands .\n"
     ]
    },
    {
     "data": {
      "text/plain": [
       "SAYCam LSTM 0     True\n",
       "SAYCam 1-gram     True\n",
       "SAYCam 2-gram     True\n",
       "SAYCam CBOW 0    False\n",
       "Name: 1676, dtype: bool"
      ]
     },
     "metadata": {},
     "output_type": "display_data"
    },
    {
     "name": "stdout",
     "output_type": "stream",
     "text": [
      "there was every book about white boats .\n",
      "there was no book about white boats .\n"
     ]
    },
    {
     "data": {
      "text/plain": [
       "SAYCam LSTM 0     True\n",
       "SAYCam 1-gram     True\n",
       "SAYCam 2-gram     True\n",
       "SAYCam CBOW 0    False\n",
       "Name: 1702, dtype: bool"
      ]
     },
     "metadata": {},
     "output_type": "display_data"
    },
    {
     "name": "stdout",
     "output_type": "stream",
     "text": [
      "there is each movie about ready birds .\n",
      "there is no movie about ready birds .\n"
     ]
    },
    {
     "data": {
      "text/plain": [
       "SAYCam LSTM 0     True\n",
       "SAYCam 1-gram     True\n",
       "SAYCam 2-gram     True\n",
       "SAYCam CBOW 0    False\n",
       "Name: 1714, dtype: bool"
      ]
     },
     "metadata": {},
     "output_type": "display_data"
    },
    {
     "name": "stdout",
     "output_type": "stream",
     "text": [
      "there was all book about ready dogs .\n",
      "there was no book about ready dogs .\n"
     ]
    },
    {
     "data": {
      "text/plain": [
       "SAYCam LSTM 0     True\n",
       "SAYCam 1-gram    False\n",
       "SAYCam 2-gram     True\n",
       "SAYCam CBOW 0     True\n",
       "Name: 1740, dtype: bool"
      ]
     },
     "metadata": {},
     "output_type": "display_data"
    },
    {
     "name": "stdout",
     "output_type": "stream",
     "text": [
      "there was all movie about next pages .\n",
      "there was no movie about next pages .\n"
     ]
    },
    {
     "data": {
      "text/plain": [
       "SAYCam LSTM 0     True\n",
       "SAYCam 1-gram    False\n",
       "SAYCam 2-gram    False\n",
       "SAYCam CBOW 0    False\n",
       "Name: 1798, dtype: bool"
      ]
     },
     "metadata": {},
     "output_type": "display_data"
    },
    {
     "name": "stdout",
     "output_type": "stream",
     "text": [
      "there were all books about top hands .\n",
      "there were many books about top hands .\n"
     ]
    },
    {
     "data": {
      "text/plain": [
       "SAYCam LSTM 0     True\n",
       "SAYCam 1-gram    False\n",
       "SAYCam 2-gram    False\n",
       "SAYCam CBOW 0     True\n",
       "Name: 1822, dtype: bool"
      ]
     },
     "metadata": {},
     "output_type": "display_data"
    },
    {
     "name": "stdout",
     "output_type": "stream",
     "text": [
      "there was every book about last eggs .\n",
      "there was no book about last eggs .\n"
     ]
    },
    {
     "data": {
      "text/plain": [
       "SAYCam LSTM 0     True\n",
       "SAYCam 1-gram     True\n",
       "SAYCam 2-gram     True\n",
       "SAYCam CBOW 0    False\n",
       "Name: 1838, dtype: bool"
      ]
     },
     "metadata": {},
     "output_type": "display_data"
    },
    {
     "name": "stdout",
     "output_type": "stream",
     "text": [
      "there is most sign about top whales .\n",
      "there is no sign about top whales .\n"
     ]
    },
    {
     "data": {
      "text/plain": [
       "SAYCam LSTM 0     True\n",
       "SAYCam 1-gram     True\n",
       "SAYCam 2-gram     True\n",
       "SAYCam CBOW 0    False\n",
       "Name: 1847, dtype: bool"
      ]
     },
     "metadata": {},
     "output_type": "display_data"
    },
    {
     "name": "stdout",
     "output_type": "stream",
     "text": [
      "there was all sign about summer dogs .\n",
      "there was no sign about summer dogs .\n"
     ]
    },
    {
     "data": {
      "text/plain": [
       "SAYCam LSTM 0     True\n",
       "SAYCam 1-gram    False\n",
       "SAYCam 2-gram    False\n",
       "SAYCam CBOW 0    False\n",
       "Name: 1925, dtype: bool"
      ]
     },
     "metadata": {},
     "output_type": "display_data"
    },
    {
     "name": "stdout",
     "output_type": "stream",
     "text": [
      "there is n't each book about polar eggs .\n",
      "there is n't an book about polar eggs .\n"
     ]
    },
    {
     "data": {
      "text/plain": [
       "SAYCam LSTM 0     True\n",
       "SAYCam 1-gram     True\n",
       "SAYCam 2-gram     True\n",
       "SAYCam CBOW 0    False\n",
       "Name: 1938, dtype: bool"
      ]
     },
     "metadata": {},
     "output_type": "display_data"
    },
    {
     "name": "stdout",
     "output_type": "stream",
     "text": [
      "there was most movie about extra books .\n",
      "there was no movie about extra books .\n"
     ]
    },
    {
     "data": {
      "text/plain": [
       "SAYCam LSTM 0     True\n",
       "SAYCam 1-gram     True\n",
       "SAYCam 2-gram     True\n",
       "SAYCam CBOW 0    False\n",
       "Name: 1944, dtype: bool"
      ]
     },
     "metadata": {},
     "output_type": "display_data"
    },
    {
     "name": "stdout",
     "output_type": "stream",
     "text": [
      "there were all books about polar pages .\n",
      "there were many books about polar pages .\n"
     ]
    },
    {
     "data": {
      "text/plain": [
       "SAYCam LSTM 0     True\n",
       "SAYCam 1-gram    False\n",
       "SAYCam 2-gram    False\n",
       "SAYCam CBOW 0     True\n",
       "Name: 1949, dtype: bool"
      ]
     },
     "metadata": {},
     "output_type": "display_data"
    },
    {
     "name": "stdout",
     "output_type": "stream",
     "text": [
      "comparing ('subject-verb agreement', 'across relative clause') (532 / 2000.0 = 26.60%):\n"
     ]
    },
    {
     "data": {
      "text/plain": [
       "SAYCam LSTM               0.559524\n",
       "SAYCam LSTM Captioning    0.536341\n",
       "SAYCam CBOW               0.500000\n",
       "SAYCam unigram            0.500000\n",
       "SAYCam bigram             0.500000\n",
       "AO-CHILDES Transformer    0.812030\n",
       "Name: (subject-verb agreement, across relative clause), dtype: float64"
      ]
     },
     "metadata": {},
     "output_type": "display_data"
    },
    {
     "name": "stdout",
     "output_type": "stream",
     "text": [
      "the book that were there are poor .\n",
      "the books that were there are poor .\n"
     ]
    },
    {
     "data": {
      "text/plain": [
       "SAYCam LSTM 0     True\n",
       "SAYCam 1-gram    False\n",
       "SAYCam 2-gram    False\n",
       "SAYCam CBOW 0    False\n",
       "Name: 13, dtype: bool"
      ]
     },
     "metadata": {},
     "output_type": "display_data"
    },
    {
     "name": "stdout",
     "output_type": "stream",
     "text": [
      "the book that i like were poor .\n",
      "the books that i like were poor .\n"
     ]
    },
    {
     "data": {
      "text/plain": [
       "SAYCam LSTM 0     True\n",
       "SAYCam 1-gram    False\n",
       "SAYCam 2-gram    False\n",
       "SAYCam CBOW 0    False\n",
       "Name: 14, dtype: bool"
      ]
     },
     "metadata": {},
     "output_type": "display_data"
    },
    {
     "name": "stdout",
     "output_type": "stream",
     "text": [
      "the book that he likes were poor .\n",
      "the books that he likes were poor .\n"
     ]
    },
    {
     "data": {
      "text/plain": [
       "SAYCam LSTM 0     True\n",
       "SAYCam 1-gram    False\n",
       "SAYCam 2-gram    False\n",
       "SAYCam CBOW 0    False\n",
       "Name: 17, dtype: bool"
      ]
     },
     "metadata": {},
     "output_type": "display_data"
    },
    {
     "name": "stdout",
     "output_type": "stream",
     "text": [
      "the book that it likes were poor .\n",
      "the books that it likes were poor .\n"
     ]
    },
    {
     "data": {
      "text/plain": [
       "SAYCam LSTM 0     True\n",
       "SAYCam 1-gram    False\n",
       "SAYCam 2-gram    False\n",
       "SAYCam CBOW 0    False\n",
       "Name: 19, dtype: bool"
      ]
     },
     "metadata": {},
     "output_type": "display_data"
    },
    {
     "name": "stdout",
     "output_type": "stream",
     "text": [
      "the book that were there were poor .\n",
      "the books that were there were poor .\n"
     ]
    },
    {
     "data": {
      "text/plain": [
       "SAYCam LSTM 0     True\n",
       "SAYCam 1-gram    False\n",
       "SAYCam 2-gram    False\n",
       "SAYCam CBOW 0    False\n",
       "Name: 20, dtype: bool"
      ]
     },
     "metadata": {},
     "output_type": "display_data"
    },
    {
     "name": "stdout",
     "output_type": "stream",
     "text": [
      "the bear that were there are soft .\n",
      "the bears that were there are soft .\n"
     ]
    },
    {
     "data": {
      "text/plain": [
       "SAYCam LSTM 0     True\n",
       "SAYCam 1-gram    False\n",
       "SAYCam 2-gram    False\n",
       "SAYCam CBOW 0    False\n",
       "Name: 97, dtype: bool"
      ]
     },
     "metadata": {},
     "output_type": "display_data"
    },
    {
     "name": "stdout",
     "output_type": "stream",
     "text": [
      "the rings that i like is quick .\n",
      "the ring that i like is quick .\n"
     ]
    },
    {
     "data": {
      "text/plain": [
       "SAYCam LSTM 0     True\n",
       "SAYCam 1-gram     True\n",
       "SAYCam 2-gram    False\n",
       "SAYCam CBOW 0     True\n",
       "Name: 112, dtype: bool"
      ]
     },
     "metadata": {},
     "output_type": "display_data"
    },
    {
     "name": "stdout",
     "output_type": "stream",
     "text": [
      "the rings that you like is quick .\n",
      "the ring that you like is quick .\n"
     ]
    },
    {
     "data": {
      "text/plain": [
       "SAYCam LSTM 0     True\n",
       "SAYCam 1-gram     True\n",
       "SAYCam 2-gram    False\n",
       "SAYCam CBOW 0     True\n",
       "Name: 113, dtype: bool"
      ]
     },
     "metadata": {},
     "output_type": "display_data"
    },
    {
     "name": "stdout",
     "output_type": "stream",
     "text": [
      "the rings that we like is quick .\n",
      "the ring that we like is quick .\n"
     ]
    },
    {
     "data": {
      "text/plain": [
       "SAYCam LSTM 0     True\n",
       "SAYCam 1-gram     True\n",
       "SAYCam 2-gram    False\n",
       "SAYCam CBOW 0     True\n",
       "Name: 114, dtype: bool"
      ]
     },
     "metadata": {},
     "output_type": "display_data"
    },
    {
     "name": "stdout",
     "output_type": "stream",
     "text": [
      "the rings that he likes is quick .\n",
      "the ring that he likes is quick .\n"
     ]
    },
    {
     "data": {
      "text/plain": [
       "SAYCam LSTM 0     True\n",
       "SAYCam 1-gram     True\n",
       "SAYCam 2-gram    False\n",
       "SAYCam CBOW 0     True\n",
       "Name: 115, dtype: bool"
      ]
     },
     "metadata": {},
     "output_type": "display_data"
    },
    {
     "name": "stdout",
     "output_type": "stream",
     "text": [
      "the rings that she likes is quick .\n",
      "the ring that she likes is quick .\n"
     ]
    },
    {
     "data": {
      "text/plain": [
       "SAYCam LSTM 0     True\n",
       "SAYCam 1-gram     True\n",
       "SAYCam 2-gram    False\n",
       "SAYCam CBOW 0     True\n",
       "Name: 116, dtype: bool"
      ]
     },
     "metadata": {},
     "output_type": "display_data"
    },
    {
     "name": "stdout",
     "output_type": "stream",
     "text": [
      "the rings that it likes is quick .\n",
      "the ring that it likes is quick .\n"
     ]
    },
    {
     "data": {
      "text/plain": [
       "SAYCam LSTM 0     True\n",
       "SAYCam 1-gram     True\n",
       "SAYCam 2-gram    False\n",
       "SAYCam CBOW 0     True\n",
       "Name: 117, dtype: bool"
      ]
     },
     "metadata": {},
     "output_type": "display_data"
    },
    {
     "name": "stdout",
     "output_type": "stream",
     "text": [
      "the rings that was there is quick .\n",
      "the ring that was there is quick .\n"
     ]
    },
    {
     "data": {
      "text/plain": [
       "SAYCam LSTM 0     True\n",
       "SAYCam 1-gram     True\n",
       "SAYCam 2-gram    False\n",
       "SAYCam CBOW 0     True\n",
       "Name: 118, dtype: bool"
      ]
     },
     "metadata": {},
     "output_type": "display_data"
    },
    {
     "name": "stdout",
     "output_type": "stream",
     "text": [
      "the ring that were there are quick .\n",
      "the rings that were there are quick .\n"
     ]
    },
    {
     "data": {
      "text/plain": [
       "SAYCam LSTM 0     True\n",
       "SAYCam 1-gram    False\n",
       "SAYCam 2-gram     True\n",
       "SAYCam CBOW 0    False\n",
       "Name: 125, dtype: bool"
      ]
     },
     "metadata": {},
     "output_type": "display_data"
    },
    {
     "name": "stdout",
     "output_type": "stream",
     "text": [
      "the rings that i like was quick .\n",
      "the ring that i like was quick .\n"
     ]
    },
    {
     "data": {
      "text/plain": [
       "SAYCam LSTM 0     True\n",
       "SAYCam 1-gram     True\n",
       "SAYCam 2-gram    False\n",
       "SAYCam CBOW 0     True\n",
       "Name: 133, dtype: bool"
      ]
     },
     "metadata": {},
     "output_type": "display_data"
    },
    {
     "name": "stdout",
     "output_type": "stream",
     "text": [
      "the rings that you like was quick .\n",
      "the ring that you like was quick .\n"
     ]
    },
    {
     "data": {
      "text/plain": [
       "SAYCam LSTM 0     True\n",
       "SAYCam 1-gram     True\n",
       "SAYCam 2-gram    False\n",
       "SAYCam CBOW 0     True\n",
       "Name: 134, dtype: bool"
      ]
     },
     "metadata": {},
     "output_type": "display_data"
    },
    {
     "name": "stdout",
     "output_type": "stream",
     "text": [
      "the rings that we like was quick .\n",
      "the ring that we like was quick .\n"
     ]
    },
    {
     "data": {
      "text/plain": [
       "SAYCam LSTM 0     True\n",
       "SAYCam 1-gram     True\n",
       "SAYCam 2-gram    False\n",
       "SAYCam CBOW 0     True\n",
       "Name: 135, dtype: bool"
      ]
     },
     "metadata": {},
     "output_type": "display_data"
    },
    {
     "name": "stdout",
     "output_type": "stream",
     "text": [
      "the rings that he likes was quick .\n",
      "the ring that he likes was quick .\n"
     ]
    },
    {
     "data": {
      "text/plain": [
       "SAYCam LSTM 0     True\n",
       "SAYCam 1-gram     True\n",
       "SAYCam 2-gram    False\n",
       "SAYCam CBOW 0     True\n",
       "Name: 136, dtype: bool"
      ]
     },
     "metadata": {},
     "output_type": "display_data"
    },
    {
     "name": "stdout",
     "output_type": "stream",
     "text": [
      "the rings that she likes was quick .\n",
      "the ring that she likes was quick .\n"
     ]
    },
    {
     "data": {
      "text/plain": [
       "SAYCam LSTM 0     True\n",
       "SAYCam 1-gram     True\n",
       "SAYCam 2-gram    False\n",
       "SAYCam CBOW 0     True\n",
       "Name: 137, dtype: bool"
      ]
     },
     "metadata": {},
     "output_type": "display_data"
    },
    {
     "name": "stdout",
     "output_type": "stream",
     "text": [
      "the rings that it likes was quick .\n",
      "the ring that it likes was quick .\n"
     ]
    },
    {
     "data": {
      "text/plain": [
       "SAYCam LSTM 0     True\n",
       "SAYCam 1-gram     True\n",
       "SAYCam 2-gram    False\n",
       "SAYCam CBOW 0     True\n",
       "Name: 138, dtype: bool"
      ]
     },
     "metadata": {},
     "output_type": "display_data"
    },
    {
     "name": "stdout",
     "output_type": "stream",
     "text": [
      "the rings that was there was quick .\n",
      "the ring that was there was quick .\n"
     ]
    },
    {
     "data": {
      "text/plain": [
       "SAYCam LSTM 0     True\n",
       "SAYCam 1-gram     True\n",
       "SAYCam 2-gram    False\n",
       "SAYCam CBOW 0     True\n",
       "Name: 139, dtype: bool"
      ]
     },
     "metadata": {},
     "output_type": "display_data"
    },
    {
     "name": "stdout",
     "output_type": "stream",
     "text": [
      "the words that was there is hard .\n",
      "the word that was there is hard .\n"
     ]
    },
    {
     "data": {
      "text/plain": [
       "SAYCam LSTM 0     True\n",
       "SAYCam 1-gram    False\n",
       "SAYCam 2-gram    False\n",
       "SAYCam CBOW 0    False\n",
       "Name: 230, dtype: bool"
      ]
     },
     "metadata": {},
     "output_type": "display_data"
    },
    {
     "name": "stdout",
     "output_type": "stream",
     "text": [
      "the arm that i like are little .\n",
      "the arms that i like are little .\n"
     ]
    },
    {
     "data": {
      "text/plain": [
       "SAYCam LSTM 0     True\n",
       "SAYCam 1-gram    False\n",
       "SAYCam 2-gram    False\n",
       "SAYCam CBOW 0    False\n",
       "Name: 343, dtype: bool"
      ]
     },
     "metadata": {},
     "output_type": "display_data"
    },
    {
     "name": "stdout",
     "output_type": "stream",
     "text": [
      "the arm that he likes are little .\n",
      "the arms that he likes are little .\n"
     ]
    },
    {
     "data": {
      "text/plain": [
       "SAYCam LSTM 0     True\n",
       "SAYCam 1-gram    False\n",
       "SAYCam 2-gram    False\n",
       "SAYCam CBOW 0    False\n",
       "Name: 346, dtype: bool"
      ]
     },
     "metadata": {},
     "output_type": "display_data"
    },
    {
     "name": "stdout",
     "output_type": "stream",
     "text": [
      "the arm that she likes are little .\n",
      "the arms that she likes are little .\n"
     ]
    },
    {
     "data": {
      "text/plain": [
       "SAYCam LSTM 0     True\n",
       "SAYCam 1-gram    False\n",
       "SAYCam 2-gram    False\n",
       "SAYCam CBOW 0    False\n",
       "Name: 347, dtype: bool"
      ]
     },
     "metadata": {},
     "output_type": "display_data"
    },
    {
     "name": "stdout",
     "output_type": "stream",
     "text": [
      "the arm that it likes are little .\n",
      "the arms that it likes are little .\n"
     ]
    },
    {
     "data": {
      "text/plain": [
       "SAYCam LSTM 0     True\n",
       "SAYCam 1-gram    False\n",
       "SAYCam 2-gram    False\n",
       "SAYCam CBOW 0    False\n",
       "Name: 348, dtype: bool"
      ]
     },
     "metadata": {},
     "output_type": "display_data"
    },
    {
     "name": "stdout",
     "output_type": "stream",
     "text": [
      "the arm that were there are little .\n",
      "the arms that were there are little .\n"
     ]
    },
    {
     "data": {
      "text/plain": [
       "SAYCam LSTM 0     True\n",
       "SAYCam 1-gram    False\n",
       "SAYCam 2-gram    False\n",
       "SAYCam CBOW 0    False\n",
       "Name: 349, dtype: bool"
      ]
     },
     "metadata": {},
     "output_type": "display_data"
    },
    {
     "name": "stdout",
     "output_type": "stream",
     "text": [
      "the arm that i like were little .\n",
      "the arms that i like were little .\n"
     ]
    },
    {
     "data": {
      "text/plain": [
       "SAYCam LSTM 0     True\n",
       "SAYCam 1-gram    False\n",
       "SAYCam 2-gram    False\n",
       "SAYCam CBOW 0    False\n",
       "Name: 350, dtype: bool"
      ]
     },
     "metadata": {},
     "output_type": "display_data"
    },
    {
     "name": "stdout",
     "output_type": "stream",
     "text": [
      "the arm that we like were little .\n",
      "the arms that we like were little .\n"
     ]
    },
    {
     "data": {
      "text/plain": [
       "SAYCam LSTM 0     True\n",
       "SAYCam 1-gram    False\n",
       "SAYCam 2-gram    False\n",
       "SAYCam CBOW 0    False\n",
       "Name: 352, dtype: bool"
      ]
     },
     "metadata": {},
     "output_type": "display_data"
    },
    {
     "name": "stdout",
     "output_type": "stream",
     "text": [
      "the arm that he likes were little .\n",
      "the arms that he likes were little .\n"
     ]
    },
    {
     "data": {
      "text/plain": [
       "SAYCam LSTM 0     True\n",
       "SAYCam 1-gram    False\n",
       "SAYCam 2-gram    False\n",
       "SAYCam CBOW 0    False\n",
       "Name: 353, dtype: bool"
      ]
     },
     "metadata": {},
     "output_type": "display_data"
    },
    {
     "name": "stdout",
     "output_type": "stream",
     "text": [
      "the arm that she likes were little .\n",
      "the arms that she likes were little .\n"
     ]
    },
    {
     "data": {
      "text/plain": [
       "SAYCam LSTM 0     True\n",
       "SAYCam 1-gram    False\n",
       "SAYCam 2-gram    False\n",
       "SAYCam CBOW 0    False\n",
       "Name: 354, dtype: bool"
      ]
     },
     "metadata": {},
     "output_type": "display_data"
    },
    {
     "name": "stdout",
     "output_type": "stream",
     "text": [
      "the arm that it likes were little .\n",
      "the arms that it likes were little .\n"
     ]
    },
    {
     "data": {
      "text/plain": [
       "SAYCam LSTM 0     True\n",
       "SAYCam 1-gram    False\n",
       "SAYCam 2-gram    False\n",
       "SAYCam CBOW 0    False\n",
       "Name: 355, dtype: bool"
      ]
     },
     "metadata": {},
     "output_type": "display_data"
    },
    {
     "name": "stdout",
     "output_type": "stream",
     "text": [
      "the arm that were there were little .\n",
      "the arms that were there were little .\n"
     ]
    },
    {
     "data": {
      "text/plain": [
       "SAYCam LSTM 0     True\n",
       "SAYCam 1-gram    False\n",
       "SAYCam 2-gram    False\n",
       "SAYCam CBOW 0    False\n",
       "Name: 356, dtype: bool"
      ]
     },
     "metadata": {},
     "output_type": "display_data"
    },
    {
     "name": "stdout",
     "output_type": "stream",
     "text": [
      "the finger that i like are ready .\n",
      "the fingers that i like are ready .\n"
     ]
    },
    {
     "data": {
      "text/plain": [
       "SAYCam LSTM 0     True\n",
       "SAYCam 1-gram     True\n",
       "SAYCam 2-gram     True\n",
       "SAYCam CBOW 0    False\n",
       "Name: 399, dtype: bool"
      ]
     },
     "metadata": {},
     "output_type": "display_data"
    },
    {
     "name": "stdout",
     "output_type": "stream",
     "text": [
      "the finger that you like are ready .\n",
      "the fingers that you like are ready .\n"
     ]
    },
    {
     "data": {
      "text/plain": [
       "SAYCam LSTM 0     True\n",
       "SAYCam 1-gram     True\n",
       "SAYCam 2-gram     True\n",
       "SAYCam CBOW 0    False\n",
       "Name: 400, dtype: bool"
      ]
     },
     "metadata": {},
     "output_type": "display_data"
    },
    {
     "name": "stdout",
     "output_type": "stream",
     "text": [
      "the finger that we like are ready .\n",
      "the fingers that we like are ready .\n"
     ]
    },
    {
     "data": {
      "text/plain": [
       "SAYCam LSTM 0     True\n",
       "SAYCam 1-gram     True\n",
       "SAYCam 2-gram     True\n",
       "SAYCam CBOW 0    False\n",
       "Name: 401, dtype: bool"
      ]
     },
     "metadata": {},
     "output_type": "display_data"
    },
    {
     "name": "stdout",
     "output_type": "stream",
     "text": [
      "the finger that he likes are ready .\n",
      "the fingers that he likes are ready .\n"
     ]
    },
    {
     "data": {
      "text/plain": [
       "SAYCam LSTM 0     True\n",
       "SAYCam 1-gram     True\n",
       "SAYCam 2-gram     True\n",
       "SAYCam CBOW 0    False\n",
       "Name: 402, dtype: bool"
      ]
     },
     "metadata": {},
     "output_type": "display_data"
    },
    {
     "name": "stdout",
     "output_type": "stream",
     "text": [
      "the finger that she likes are ready .\n",
      "the fingers that she likes are ready .\n"
     ]
    },
    {
     "data": {
      "text/plain": [
       "SAYCam LSTM 0     True\n",
       "SAYCam 1-gram     True\n",
       "SAYCam 2-gram     True\n",
       "SAYCam CBOW 0    False\n",
       "Name: 403, dtype: bool"
      ]
     },
     "metadata": {},
     "output_type": "display_data"
    },
    {
     "name": "stdout",
     "output_type": "stream",
     "text": [
      "the finger that it likes are ready .\n",
      "the fingers that it likes are ready .\n"
     ]
    },
    {
     "data": {
      "text/plain": [
       "SAYCam LSTM 0     True\n",
       "SAYCam 1-gram     True\n",
       "SAYCam 2-gram     True\n",
       "SAYCam CBOW 0    False\n",
       "Name: 404, dtype: bool"
      ]
     },
     "metadata": {},
     "output_type": "display_data"
    },
    {
     "name": "stdout",
     "output_type": "stream",
     "text": [
      "the finger that were there are ready .\n",
      "the fingers that were there are ready .\n"
     ]
    },
    {
     "data": {
      "text/plain": [
       "SAYCam LSTM 0     True\n",
       "SAYCam 1-gram     True\n",
       "SAYCam 2-gram     True\n",
       "SAYCam CBOW 0    False\n",
       "Name: 405, dtype: bool"
      ]
     },
     "metadata": {},
     "output_type": "display_data"
    },
    {
     "name": "stdout",
     "output_type": "stream",
     "text": [
      "the finger that i like were ready .\n",
      "the fingers that i like were ready .\n"
     ]
    },
    {
     "data": {
      "text/plain": [
       "SAYCam LSTM 0     True\n",
       "SAYCam 1-gram     True\n",
       "SAYCam 2-gram     True\n",
       "SAYCam CBOW 0    False\n",
       "Name: 406, dtype: bool"
      ]
     },
     "metadata": {},
     "output_type": "display_data"
    },
    {
     "name": "stdout",
     "output_type": "stream",
     "text": [
      "the finger that you like were ready .\n",
      "the fingers that you like were ready .\n"
     ]
    },
    {
     "data": {
      "text/plain": [
       "SAYCam LSTM 0     True\n",
       "SAYCam 1-gram     True\n",
       "SAYCam 2-gram     True\n",
       "SAYCam CBOW 0    False\n",
       "Name: 407, dtype: bool"
      ]
     },
     "metadata": {},
     "output_type": "display_data"
    },
    {
     "name": "stdout",
     "output_type": "stream",
     "text": [
      "the finger that we like were ready .\n",
      "the fingers that we like were ready .\n"
     ]
    },
    {
     "data": {
      "text/plain": [
       "SAYCam LSTM 0     True\n",
       "SAYCam 1-gram     True\n",
       "SAYCam 2-gram     True\n",
       "SAYCam CBOW 0    False\n",
       "Name: 408, dtype: bool"
      ]
     },
     "metadata": {},
     "output_type": "display_data"
    },
    {
     "name": "stdout",
     "output_type": "stream",
     "text": [
      "the finger that he likes were ready .\n",
      "the fingers that he likes were ready .\n"
     ]
    },
    {
     "data": {
      "text/plain": [
       "SAYCam LSTM 0     True\n",
       "SAYCam 1-gram     True\n",
       "SAYCam 2-gram     True\n",
       "SAYCam CBOW 0    False\n",
       "Name: 409, dtype: bool"
      ]
     },
     "metadata": {},
     "output_type": "display_data"
    },
    {
     "name": "stdout",
     "output_type": "stream",
     "text": [
      "the finger that she likes were ready .\n",
      "the fingers that she likes were ready .\n"
     ]
    },
    {
     "data": {
      "text/plain": [
       "SAYCam LSTM 0     True\n",
       "SAYCam 1-gram     True\n",
       "SAYCam 2-gram     True\n",
       "SAYCam CBOW 0    False\n",
       "Name: 410, dtype: bool"
      ]
     },
     "metadata": {},
     "output_type": "display_data"
    },
    {
     "name": "stdout",
     "output_type": "stream",
     "text": [
      "the finger that it likes were ready .\n",
      "the fingers that it likes were ready .\n"
     ]
    },
    {
     "data": {
      "text/plain": [
       "SAYCam LSTM 0     True\n",
       "SAYCam 1-gram     True\n",
       "SAYCam 2-gram     True\n",
       "SAYCam CBOW 0    False\n",
       "Name: 411, dtype: bool"
      ]
     },
     "metadata": {},
     "output_type": "display_data"
    },
    {
     "name": "stdout",
     "output_type": "stream",
     "text": [
      "the finger that were there were ready .\n",
      "the fingers that were there were ready .\n"
     ]
    },
    {
     "data": {
      "text/plain": [
       "SAYCam LSTM 0     True\n",
       "SAYCam 1-gram     True\n",
       "SAYCam 2-gram     True\n",
       "SAYCam CBOW 0    False\n",
       "Name: 412, dtype: bool"
      ]
     },
     "metadata": {},
     "output_type": "display_data"
    },
    {
     "name": "stdout",
     "output_type": "stream",
     "text": [
      "the picture that i like are bad .\n",
      "the pictures that i like are bad .\n"
     ]
    },
    {
     "data": {
      "text/plain": [
       "SAYCam LSTM 0     True\n",
       "SAYCam 1-gram    False\n",
       "SAYCam 2-gram    False\n",
       "SAYCam CBOW 0    False\n",
       "Name: 595, dtype: bool"
      ]
     },
     "metadata": {},
     "output_type": "display_data"
    },
    {
     "name": "stdout",
     "output_type": "stream",
     "text": [
      "the picture that you like are bad .\n",
      "the pictures that you like are bad .\n"
     ]
    },
    {
     "data": {
      "text/plain": [
       "SAYCam LSTM 0     True\n",
       "SAYCam 1-gram    False\n",
       "SAYCam 2-gram    False\n",
       "SAYCam CBOW 0    False\n",
       "Name: 596, dtype: bool"
      ]
     },
     "metadata": {},
     "output_type": "display_data"
    },
    {
     "name": "stdout",
     "output_type": "stream",
     "text": [
      "the picture that we like are bad .\n",
      "the pictures that we like are bad .\n"
     ]
    },
    {
     "data": {
      "text/plain": [
       "SAYCam LSTM 0     True\n",
       "SAYCam 1-gram    False\n",
       "SAYCam 2-gram    False\n",
       "SAYCam CBOW 0    False\n",
       "Name: 597, dtype: bool"
      ]
     },
     "metadata": {},
     "output_type": "display_data"
    },
    {
     "name": "stdout",
     "output_type": "stream",
     "text": [
      "the picture that he likes are bad .\n",
      "the pictures that he likes are bad .\n"
     ]
    },
    {
     "data": {
      "text/plain": [
       "SAYCam LSTM 0     True\n",
       "SAYCam 1-gram    False\n",
       "SAYCam 2-gram    False\n",
       "SAYCam CBOW 0    False\n",
       "Name: 598, dtype: bool"
      ]
     },
     "metadata": {},
     "output_type": "display_data"
    },
    {
     "name": "stdout",
     "output_type": "stream",
     "text": [
      "the picture that she likes are bad .\n",
      "the pictures that she likes are bad .\n"
     ]
    },
    {
     "data": {
      "text/plain": [
       "SAYCam LSTM 0     True\n",
       "SAYCam 1-gram    False\n",
       "SAYCam 2-gram    False\n",
       "SAYCam CBOW 0    False\n",
       "Name: 599, dtype: bool"
      ]
     },
     "metadata": {},
     "output_type": "display_data"
    },
    {
     "name": "stdout",
     "output_type": "stream",
     "text": [
      "the picture that it likes are bad .\n",
      "the pictures that it likes are bad .\n"
     ]
    },
    {
     "data": {
      "text/plain": [
       "SAYCam LSTM 0     True\n",
       "SAYCam 1-gram    False\n",
       "SAYCam 2-gram    False\n",
       "SAYCam CBOW 0    False\n",
       "Name: 600, dtype: bool"
      ]
     },
     "metadata": {},
     "output_type": "display_data"
    },
    {
     "name": "stdout",
     "output_type": "stream",
     "text": [
      "the picture that were there are bad .\n",
      "the pictures that were there are bad .\n"
     ]
    },
    {
     "data": {
      "text/plain": [
       "SAYCam LSTM 0     True\n",
       "SAYCam 1-gram    False\n",
       "SAYCam 2-gram    False\n",
       "SAYCam CBOW 0    False\n",
       "Name: 601, dtype: bool"
      ]
     },
     "metadata": {},
     "output_type": "display_data"
    },
    {
     "name": "stdout",
     "output_type": "stream",
     "text": [
      "the picture that i like were bad .\n",
      "the pictures that i like were bad .\n"
     ]
    },
    {
     "data": {
      "text/plain": [
       "SAYCam LSTM 0     True\n",
       "SAYCam 1-gram    False\n",
       "SAYCam 2-gram    False\n",
       "SAYCam CBOW 0    False\n",
       "Name: 602, dtype: bool"
      ]
     },
     "metadata": {},
     "output_type": "display_data"
    },
    {
     "name": "stdout",
     "output_type": "stream",
     "text": [
      "the picture that you like were bad .\n",
      "the pictures that you like were bad .\n"
     ]
    },
    {
     "data": {
      "text/plain": [
       "SAYCam LSTM 0     True\n",
       "SAYCam 1-gram    False\n",
       "SAYCam 2-gram    False\n",
       "SAYCam CBOW 0    False\n",
       "Name: 603, dtype: bool"
      ]
     },
     "metadata": {},
     "output_type": "display_data"
    },
    {
     "name": "stdout",
     "output_type": "stream",
     "text": [
      "the picture that we like were bad .\n",
      "the pictures that we like were bad .\n"
     ]
    },
    {
     "data": {
      "text/plain": [
       "SAYCam LSTM 0     True\n",
       "SAYCam 1-gram    False\n",
       "SAYCam 2-gram    False\n",
       "SAYCam CBOW 0    False\n",
       "Name: 604, dtype: bool"
      ]
     },
     "metadata": {},
     "output_type": "display_data"
    },
    {
     "name": "stdout",
     "output_type": "stream",
     "text": [
      "the picture that he likes were bad .\n",
      "the pictures that he likes were bad .\n"
     ]
    },
    {
     "data": {
      "text/plain": [
       "SAYCam LSTM 0     True\n",
       "SAYCam 1-gram    False\n",
       "SAYCam 2-gram    False\n",
       "SAYCam CBOW 0    False\n",
       "Name: 605, dtype: bool"
      ]
     },
     "metadata": {},
     "output_type": "display_data"
    },
    {
     "name": "stdout",
     "output_type": "stream",
     "text": [
      "the picture that she likes were bad .\n",
      "the pictures that she likes were bad .\n"
     ]
    },
    {
     "data": {
      "text/plain": [
       "SAYCam LSTM 0     True\n",
       "SAYCam 1-gram    False\n",
       "SAYCam 2-gram    False\n",
       "SAYCam CBOW 0    False\n",
       "Name: 606, dtype: bool"
      ]
     },
     "metadata": {},
     "output_type": "display_data"
    },
    {
     "name": "stdout",
     "output_type": "stream",
     "text": [
      "the picture that it likes were bad .\n",
      "the pictures that it likes were bad .\n"
     ]
    },
    {
     "data": {
      "text/plain": [
       "SAYCam LSTM 0     True\n",
       "SAYCam 1-gram    False\n",
       "SAYCam 2-gram    False\n",
       "SAYCam CBOW 0    False\n",
       "Name: 607, dtype: bool"
      ]
     },
     "metadata": {},
     "output_type": "display_data"
    },
    {
     "name": "stdout",
     "output_type": "stream",
     "text": [
      "the picture that were there were bad .\n",
      "the pictures that were there were bad .\n"
     ]
    },
    {
     "data": {
      "text/plain": [
       "SAYCam LSTM 0     True\n",
       "SAYCam 1-gram    False\n",
       "SAYCam 2-gram    False\n",
       "SAYCam CBOW 0    False\n",
       "Name: 608, dtype: bool"
      ]
     },
     "metadata": {},
     "output_type": "display_data"
    },
    {
     "name": "stdout",
     "output_type": "stream",
     "text": [
      "the things that i like is little .\n",
      "the thing that i like is little .\n"
     ]
    },
    {
     "data": {
      "text/plain": [
       "SAYCam LSTM 0     True\n",
       "SAYCam 1-gram    False\n",
       "SAYCam 2-gram    False\n",
       "SAYCam CBOW 0     True\n",
       "Name: 700, dtype: bool"
      ]
     },
     "metadata": {},
     "output_type": "display_data"
    },
    {
     "name": "stdout",
     "output_type": "stream",
     "text": [
      "the things that you like is little .\n",
      "the thing that you like is little .\n"
     ]
    },
    {
     "data": {
      "text/plain": [
       "SAYCam LSTM 0     True\n",
       "SAYCam 1-gram    False\n",
       "SAYCam 2-gram    False\n",
       "SAYCam CBOW 0     True\n",
       "Name: 701, dtype: bool"
      ]
     },
     "metadata": {},
     "output_type": "display_data"
    },
    {
     "name": "stdout",
     "output_type": "stream",
     "text": [
      "the things that we like is little .\n",
      "the thing that we like is little .\n"
     ]
    },
    {
     "data": {
      "text/plain": [
       "SAYCam LSTM 0     True\n",
       "SAYCam 1-gram    False\n",
       "SAYCam 2-gram    False\n",
       "SAYCam CBOW 0     True\n",
       "Name: 702, dtype: bool"
      ]
     },
     "metadata": {},
     "output_type": "display_data"
    },
    {
     "name": "stdout",
     "output_type": "stream",
     "text": [
      "the things that he likes is little .\n",
      "the thing that he likes is little .\n"
     ]
    },
    {
     "data": {
      "text/plain": [
       "SAYCam LSTM 0     True\n",
       "SAYCam 1-gram    False\n",
       "SAYCam 2-gram    False\n",
       "SAYCam CBOW 0     True\n",
       "Name: 703, dtype: bool"
      ]
     },
     "metadata": {},
     "output_type": "display_data"
    },
    {
     "name": "stdout",
     "output_type": "stream",
     "text": [
      "the things that she likes is little .\n",
      "the thing that she likes is little .\n"
     ]
    },
    {
     "data": {
      "text/plain": [
       "SAYCam LSTM 0     True\n",
       "SAYCam 1-gram    False\n",
       "SAYCam 2-gram    False\n",
       "SAYCam CBOW 0     True\n",
       "Name: 704, dtype: bool"
      ]
     },
     "metadata": {},
     "output_type": "display_data"
    },
    {
     "name": "stdout",
     "output_type": "stream",
     "text": [
      "the things that it likes is little .\n",
      "the thing that it likes is little .\n"
     ]
    },
    {
     "data": {
      "text/plain": [
       "SAYCam LSTM 0     True\n",
       "SAYCam 1-gram    False\n",
       "SAYCam 2-gram    False\n",
       "SAYCam CBOW 0     True\n",
       "Name: 705, dtype: bool"
      ]
     },
     "metadata": {},
     "output_type": "display_data"
    },
    {
     "name": "stdout",
     "output_type": "stream",
     "text": [
      "the things that was there is little .\n",
      "the thing that was there is little .\n"
     ]
    },
    {
     "data": {
      "text/plain": [
       "SAYCam LSTM 0     True\n",
       "SAYCam 1-gram    False\n",
       "SAYCam 2-gram    False\n",
       "SAYCam CBOW 0     True\n",
       "Name: 706, dtype: bool"
      ]
     },
     "metadata": {},
     "output_type": "display_data"
    },
    {
     "name": "stdout",
     "output_type": "stream",
     "text": [
      "the thing that he likes are little .\n",
      "the things that he likes are little .\n"
     ]
    },
    {
     "data": {
      "text/plain": [
       "SAYCam LSTM 0     True\n",
       "SAYCam 1-gram     True\n",
       "SAYCam 2-gram     True\n",
       "SAYCam CBOW 0    False\n",
       "Name: 710, dtype: bool"
      ]
     },
     "metadata": {},
     "output_type": "display_data"
    },
    {
     "name": "stdout",
     "output_type": "stream",
     "text": [
      "the thing that she likes are little .\n",
      "the things that she likes are little .\n"
     ]
    },
    {
     "data": {
      "text/plain": [
       "SAYCam LSTM 0     True\n",
       "SAYCam 1-gram     True\n",
       "SAYCam 2-gram     True\n",
       "SAYCam CBOW 0    False\n",
       "Name: 711, dtype: bool"
      ]
     },
     "metadata": {},
     "output_type": "display_data"
    },
    {
     "name": "stdout",
     "output_type": "stream",
     "text": [
      "the thing that it likes are little .\n",
      "the things that it likes are little .\n"
     ]
    },
    {
     "data": {
      "text/plain": [
       "SAYCam LSTM 0     True\n",
       "SAYCam 1-gram     True\n",
       "SAYCam 2-gram     True\n",
       "SAYCam CBOW 0    False\n",
       "Name: 712, dtype: bool"
      ]
     },
     "metadata": {},
     "output_type": "display_data"
    },
    {
     "name": "stdout",
     "output_type": "stream",
     "text": [
      "the thing that were there are little .\n",
      "the things that were there are little .\n"
     ]
    },
    {
     "data": {
      "text/plain": [
       "SAYCam LSTM 0     True\n",
       "SAYCam 1-gram     True\n",
       "SAYCam 2-gram     True\n",
       "SAYCam CBOW 0    False\n",
       "Name: 713, dtype: bool"
      ]
     },
     "metadata": {},
     "output_type": "display_data"
    },
    {
     "name": "stdout",
     "output_type": "stream",
     "text": [
      "the thing that he likes were little .\n",
      "the things that he likes were little .\n"
     ]
    },
    {
     "data": {
      "text/plain": [
       "SAYCam LSTM 0     True\n",
       "SAYCam 1-gram     True\n",
       "SAYCam 2-gram     True\n",
       "SAYCam CBOW 0    False\n",
       "Name: 717, dtype: bool"
      ]
     },
     "metadata": {},
     "output_type": "display_data"
    },
    {
     "name": "stdout",
     "output_type": "stream",
     "text": [
      "the thing that she likes were little .\n",
      "the things that she likes were little .\n"
     ]
    },
    {
     "data": {
      "text/plain": [
       "SAYCam LSTM 0     True\n",
       "SAYCam 1-gram     True\n",
       "SAYCam 2-gram     True\n",
       "SAYCam CBOW 0    False\n",
       "Name: 718, dtype: bool"
      ]
     },
     "metadata": {},
     "output_type": "display_data"
    },
    {
     "name": "stdout",
     "output_type": "stream",
     "text": [
      "the thing that it likes were little .\n",
      "the things that it likes were little .\n"
     ]
    },
    {
     "data": {
      "text/plain": [
       "SAYCam LSTM 0     True\n",
       "SAYCam 1-gram     True\n",
       "SAYCam 2-gram     True\n",
       "SAYCam CBOW 0    False\n",
       "Name: 719, dtype: bool"
      ]
     },
     "metadata": {},
     "output_type": "display_data"
    },
    {
     "name": "stdout",
     "output_type": "stream",
     "text": [
      "the things that i like was little .\n",
      "the thing that i like was little .\n"
     ]
    },
    {
     "data": {
      "text/plain": [
       "SAYCam LSTM 0     True\n",
       "SAYCam 1-gram    False\n",
       "SAYCam 2-gram    False\n",
       "SAYCam CBOW 0     True\n",
       "Name: 721, dtype: bool"
      ]
     },
     "metadata": {},
     "output_type": "display_data"
    },
    {
     "name": "stdout",
     "output_type": "stream",
     "text": [
      "the things that you like was little .\n",
      "the thing that you like was little .\n"
     ]
    },
    {
     "data": {
      "text/plain": [
       "SAYCam LSTM 0     True\n",
       "SAYCam 1-gram    False\n",
       "SAYCam 2-gram    False\n",
       "SAYCam CBOW 0     True\n",
       "Name: 722, dtype: bool"
      ]
     },
     "metadata": {},
     "output_type": "display_data"
    },
    {
     "name": "stdout",
     "output_type": "stream",
     "text": [
      "the things that we like was little .\n",
      "the thing that we like was little .\n"
     ]
    },
    {
     "data": {
      "text/plain": [
       "SAYCam LSTM 0     True\n",
       "SAYCam 1-gram    False\n",
       "SAYCam 2-gram    False\n",
       "SAYCam CBOW 0     True\n",
       "Name: 723, dtype: bool"
      ]
     },
     "metadata": {},
     "output_type": "display_data"
    },
    {
     "name": "stdout",
     "output_type": "stream",
     "text": [
      "the things that he likes was little .\n",
      "the thing that he likes was little .\n"
     ]
    },
    {
     "data": {
      "text/plain": [
       "SAYCam LSTM 0     True\n",
       "SAYCam 1-gram    False\n",
       "SAYCam 2-gram    False\n",
       "SAYCam CBOW 0     True\n",
       "Name: 724, dtype: bool"
      ]
     },
     "metadata": {},
     "output_type": "display_data"
    },
    {
     "name": "stdout",
     "output_type": "stream",
     "text": [
      "the things that she likes was little .\n",
      "the thing that she likes was little .\n"
     ]
    },
    {
     "data": {
      "text/plain": [
       "SAYCam LSTM 0     True\n",
       "SAYCam 1-gram    False\n",
       "SAYCam 2-gram    False\n",
       "SAYCam CBOW 0     True\n",
       "Name: 725, dtype: bool"
      ]
     },
     "metadata": {},
     "output_type": "display_data"
    },
    {
     "name": "stdout",
     "output_type": "stream",
     "text": [
      "the things that it likes was little .\n",
      "the thing that it likes was little .\n"
     ]
    },
    {
     "data": {
      "text/plain": [
       "SAYCam LSTM 0     True\n",
       "SAYCam 1-gram    False\n",
       "SAYCam 2-gram    False\n",
       "SAYCam CBOW 0     True\n",
       "Name: 726, dtype: bool"
      ]
     },
     "metadata": {},
     "output_type": "display_data"
    },
    {
     "name": "stdout",
     "output_type": "stream",
     "text": [
      "the things that was there was little .\n",
      "the thing that was there was little .\n"
     ]
    },
    {
     "data": {
      "text/plain": [
       "SAYCam LSTM 0     True\n",
       "SAYCam 1-gram    False\n",
       "SAYCam 2-gram    False\n",
       "SAYCam CBOW 0     True\n",
       "Name: 727, dtype: bool"
      ]
     },
     "metadata": {},
     "output_type": "display_data"
    },
    {
     "name": "stdout",
     "output_type": "stream",
     "text": [
      "the words that you like is red .\n",
      "the word that you like is red .\n"
     ]
    },
    {
     "data": {
      "text/plain": [
       "SAYCam LSTM 0     True\n",
       "SAYCam 1-gram    False\n",
       "SAYCam 2-gram    False\n",
       "SAYCam CBOW 0    False\n",
       "Name: 981, dtype: bool"
      ]
     },
     "metadata": {},
     "output_type": "display_data"
    },
    {
     "name": "stdout",
     "output_type": "stream",
     "text": [
      "the words that was there is red .\n",
      "the word that was there is red .\n"
     ]
    },
    {
     "data": {
      "text/plain": [
       "SAYCam LSTM 0     True\n",
       "SAYCam 1-gram    False\n",
       "SAYCam 2-gram    False\n",
       "SAYCam CBOW 0    False\n",
       "Name: 986, dtype: bool"
      ]
     },
     "metadata": {},
     "output_type": "display_data"
    },
    {
     "name": "stdout",
     "output_type": "stream",
     "text": [
      "the words that you like was red .\n",
      "the word that you like was red .\n"
     ]
    },
    {
     "data": {
      "text/plain": [
       "SAYCam LSTM 0     True\n",
       "SAYCam 1-gram    False\n",
       "SAYCam 2-gram    False\n",
       "SAYCam CBOW 0    False\n",
       "Name: 1002, dtype: bool"
      ]
     },
     "metadata": {},
     "output_type": "display_data"
    },
    {
     "name": "stdout",
     "output_type": "stream",
     "text": [
      "the words that was there was red .\n",
      "the word that was there was red .\n"
     ]
    },
    {
     "data": {
      "text/plain": [
       "SAYCam LSTM 0     True\n",
       "SAYCam 1-gram    False\n",
       "SAYCam 2-gram    False\n",
       "SAYCam CBOW 0    False\n",
       "Name: 1007, dtype: bool"
      ]
     },
     "metadata": {},
     "output_type": "display_data"
    },
    {
     "name": "stdout",
     "output_type": "stream",
     "text": [
      "the picture that i like are hard .\n",
      "the pictures that i like are hard .\n"
     ]
    },
    {
     "data": {
      "text/plain": [
       "SAYCam LSTM 0     True\n",
       "SAYCam 1-gram    False\n",
       "SAYCam 2-gram    False\n",
       "SAYCam CBOW 0    False\n",
       "Name: 1239, dtype: bool"
      ]
     },
     "metadata": {},
     "output_type": "display_data"
    },
    {
     "name": "stdout",
     "output_type": "stream",
     "text": [
      "the picture that you like are hard .\n",
      "the pictures that you like are hard .\n"
     ]
    },
    {
     "data": {
      "text/plain": [
       "SAYCam LSTM 0     True\n",
       "SAYCam 1-gram    False\n",
       "SAYCam 2-gram    False\n",
       "SAYCam CBOW 0    False\n",
       "Name: 1240, dtype: bool"
      ]
     },
     "metadata": {},
     "output_type": "display_data"
    },
    {
     "name": "stdout",
     "output_type": "stream",
     "text": [
      "the picture that we like are hard .\n",
      "the pictures that we like are hard .\n"
     ]
    },
    {
     "data": {
      "text/plain": [
       "SAYCam LSTM 0     True\n",
       "SAYCam 1-gram    False\n",
       "SAYCam 2-gram    False\n",
       "SAYCam CBOW 0    False\n",
       "Name: 1241, dtype: bool"
      ]
     },
     "metadata": {},
     "output_type": "display_data"
    },
    {
     "name": "stdout",
     "output_type": "stream",
     "text": [
      "the picture that he likes are hard .\n",
      "the pictures that he likes are hard .\n"
     ]
    },
    {
     "data": {
      "text/plain": [
       "SAYCam LSTM 0     True\n",
       "SAYCam 1-gram    False\n",
       "SAYCam 2-gram    False\n",
       "SAYCam CBOW 0    False\n",
       "Name: 1242, dtype: bool"
      ]
     },
     "metadata": {},
     "output_type": "display_data"
    },
    {
     "name": "stdout",
     "output_type": "stream",
     "text": [
      "the picture that she likes are hard .\n",
      "the pictures that she likes are hard .\n"
     ]
    },
    {
     "data": {
      "text/plain": [
       "SAYCam LSTM 0     True\n",
       "SAYCam 1-gram    False\n",
       "SAYCam 2-gram    False\n",
       "SAYCam CBOW 0    False\n",
       "Name: 1243, dtype: bool"
      ]
     },
     "metadata": {},
     "output_type": "display_data"
    },
    {
     "name": "stdout",
     "output_type": "stream",
     "text": [
      "the picture that it likes are hard .\n",
      "the pictures that it likes are hard .\n"
     ]
    },
    {
     "data": {
      "text/plain": [
       "SAYCam LSTM 0     True\n",
       "SAYCam 1-gram    False\n",
       "SAYCam 2-gram    False\n",
       "SAYCam CBOW 0    False\n",
       "Name: 1244, dtype: bool"
      ]
     },
     "metadata": {},
     "output_type": "display_data"
    },
    {
     "name": "stdout",
     "output_type": "stream",
     "text": [
      "the picture that were there are hard .\n",
      "the pictures that were there are hard .\n"
     ]
    },
    {
     "data": {
      "text/plain": [
       "SAYCam LSTM 0     True\n",
       "SAYCam 1-gram    False\n",
       "SAYCam 2-gram    False\n",
       "SAYCam CBOW 0    False\n",
       "Name: 1245, dtype: bool"
      ]
     },
     "metadata": {},
     "output_type": "display_data"
    },
    {
     "name": "stdout",
     "output_type": "stream",
     "text": [
      "the picture that i like were hard .\n",
      "the pictures that i like were hard .\n"
     ]
    },
    {
     "data": {
      "text/plain": [
       "SAYCam LSTM 0     True\n",
       "SAYCam 1-gram    False\n",
       "SAYCam 2-gram    False\n",
       "SAYCam CBOW 0    False\n",
       "Name: 1246, dtype: bool"
      ]
     },
     "metadata": {},
     "output_type": "display_data"
    },
    {
     "name": "stdout",
     "output_type": "stream",
     "text": [
      "the picture that you like were hard .\n",
      "the pictures that you like were hard .\n"
     ]
    },
    {
     "data": {
      "text/plain": [
       "SAYCam LSTM 0     True\n",
       "SAYCam 1-gram    False\n",
       "SAYCam 2-gram    False\n",
       "SAYCam CBOW 0    False\n",
       "Name: 1247, dtype: bool"
      ]
     },
     "metadata": {},
     "output_type": "display_data"
    },
    {
     "name": "stdout",
     "output_type": "stream",
     "text": [
      "the picture that we like were hard .\n",
      "the pictures that we like were hard .\n"
     ]
    },
    {
     "data": {
      "text/plain": [
       "SAYCam LSTM 0     True\n",
       "SAYCam 1-gram    False\n",
       "SAYCam 2-gram    False\n",
       "SAYCam CBOW 0    False\n",
       "Name: 1248, dtype: bool"
      ]
     },
     "metadata": {},
     "output_type": "display_data"
    },
    {
     "name": "stdout",
     "output_type": "stream",
     "text": [
      "the picture that he likes were hard .\n",
      "the pictures that he likes were hard .\n"
     ]
    },
    {
     "data": {
      "text/plain": [
       "SAYCam LSTM 0     True\n",
       "SAYCam 1-gram    False\n",
       "SAYCam 2-gram    False\n",
       "SAYCam CBOW 0    False\n",
       "Name: 1249, dtype: bool"
      ]
     },
     "metadata": {},
     "output_type": "display_data"
    },
    {
     "name": "stdout",
     "output_type": "stream",
     "text": [
      "the picture that she likes were hard .\n",
      "the pictures that she likes were hard .\n"
     ]
    },
    {
     "data": {
      "text/plain": [
       "SAYCam LSTM 0     True\n",
       "SAYCam 1-gram    False\n",
       "SAYCam 2-gram    False\n",
       "SAYCam CBOW 0    False\n",
       "Name: 1250, dtype: bool"
      ]
     },
     "metadata": {},
     "output_type": "display_data"
    },
    {
     "name": "stdout",
     "output_type": "stream",
     "text": [
      "the picture that it likes were hard .\n",
      "the pictures that it likes were hard .\n"
     ]
    },
    {
     "data": {
      "text/plain": [
       "SAYCam LSTM 0     True\n",
       "SAYCam 1-gram    False\n",
       "SAYCam 2-gram    False\n",
       "SAYCam CBOW 0    False\n",
       "Name: 1251, dtype: bool"
      ]
     },
     "metadata": {},
     "output_type": "display_data"
    },
    {
     "name": "stdout",
     "output_type": "stream",
     "text": [
      "the picture that were there were hard .\n",
      "the pictures that were there were hard .\n"
     ]
    },
    {
     "data": {
      "text/plain": [
       "SAYCam LSTM 0     True\n",
       "SAYCam 1-gram    False\n",
       "SAYCam 2-gram    False\n",
       "SAYCam CBOW 0    False\n",
       "Name: 1252, dtype: bool"
      ]
     },
     "metadata": {},
     "output_type": "display_data"
    },
    {
     "name": "stdout",
     "output_type": "stream",
     "text": [
      "the rings that i like is red .\n",
      "the ring that i like is red .\n"
     ]
    },
    {
     "data": {
      "text/plain": [
       "SAYCam LSTM 0     True\n",
       "SAYCam 1-gram     True\n",
       "SAYCam 2-gram    False\n",
       "SAYCam CBOW 0     True\n",
       "Name: 1708, dtype: bool"
      ]
     },
     "metadata": {},
     "output_type": "display_data"
    },
    {
     "name": "stdout",
     "output_type": "stream",
     "text": [
      "the rings that you like is red .\n",
      "the ring that you like is red .\n"
     ]
    },
    {
     "data": {
      "text/plain": [
       "SAYCam LSTM 0     True\n",
       "SAYCam 1-gram     True\n",
       "SAYCam 2-gram    False\n",
       "SAYCam CBOW 0     True\n",
       "Name: 1709, dtype: bool"
      ]
     },
     "metadata": {},
     "output_type": "display_data"
    },
    {
     "name": "stdout",
     "output_type": "stream",
     "text": [
      "the rings that we like is red .\n",
      "the ring that we like is red .\n"
     ]
    },
    {
     "data": {
      "text/plain": [
       "SAYCam LSTM 0     True\n",
       "SAYCam 1-gram     True\n",
       "SAYCam 2-gram    False\n",
       "SAYCam CBOW 0     True\n",
       "Name: 1710, dtype: bool"
      ]
     },
     "metadata": {},
     "output_type": "display_data"
    },
    {
     "name": "stdout",
     "output_type": "stream",
     "text": [
      "the rings that he likes is red .\n",
      "the ring that he likes is red .\n"
     ]
    },
    {
     "data": {
      "text/plain": [
       "SAYCam LSTM 0     True\n",
       "SAYCam 1-gram     True\n",
       "SAYCam 2-gram    False\n",
       "SAYCam CBOW 0     True\n",
       "Name: 1711, dtype: bool"
      ]
     },
     "metadata": {},
     "output_type": "display_data"
    },
    {
     "name": "stdout",
     "output_type": "stream",
     "text": [
      "the rings that she likes is red .\n",
      "the ring that she likes is red .\n"
     ]
    },
    {
     "data": {
      "text/plain": [
       "SAYCam LSTM 0     True\n",
       "SAYCam 1-gram     True\n",
       "SAYCam 2-gram    False\n",
       "SAYCam CBOW 0     True\n",
       "Name: 1712, dtype: bool"
      ]
     },
     "metadata": {},
     "output_type": "display_data"
    },
    {
     "name": "stdout",
     "output_type": "stream",
     "text": [
      "the rings that it likes is red .\n",
      "the ring that it likes is red .\n"
     ]
    },
    {
     "data": {
      "text/plain": [
       "SAYCam LSTM 0     True\n",
       "SAYCam 1-gram     True\n",
       "SAYCam 2-gram    False\n",
       "SAYCam CBOW 0     True\n",
       "Name: 1713, dtype: bool"
      ]
     },
     "metadata": {},
     "output_type": "display_data"
    },
    {
     "name": "stdout",
     "output_type": "stream",
     "text": [
      "the rings that was there is red .\n",
      "the ring that was there is red .\n"
     ]
    },
    {
     "data": {
      "text/plain": [
       "SAYCam LSTM 0     True\n",
       "SAYCam 1-gram     True\n",
       "SAYCam 2-gram    False\n",
       "SAYCam CBOW 0     True\n",
       "Name: 1714, dtype: bool"
      ]
     },
     "metadata": {},
     "output_type": "display_data"
    },
    {
     "name": "stdout",
     "output_type": "stream",
     "text": [
      "the ring that we like are red .\n",
      "the rings that we like are red .\n"
     ]
    },
    {
     "data": {
      "text/plain": [
       "SAYCam LSTM 0     True\n",
       "SAYCam 1-gram    False\n",
       "SAYCam 2-gram     True\n",
       "SAYCam CBOW 0    False\n",
       "Name: 1717, dtype: bool"
      ]
     },
     "metadata": {},
     "output_type": "display_data"
    },
    {
     "name": "stdout",
     "output_type": "stream",
     "text": [
      "the ring that it likes are red .\n",
      "the rings that it likes are red .\n"
     ]
    },
    {
     "data": {
      "text/plain": [
       "SAYCam LSTM 0     True\n",
       "SAYCam 1-gram    False\n",
       "SAYCam 2-gram     True\n",
       "SAYCam CBOW 0    False\n",
       "Name: 1720, dtype: bool"
      ]
     },
     "metadata": {},
     "output_type": "display_data"
    },
    {
     "name": "stdout",
     "output_type": "stream",
     "text": [
      "the ring that were there are red .\n",
      "the rings that were there are red .\n"
     ]
    },
    {
     "data": {
      "text/plain": [
       "SAYCam LSTM 0     True\n",
       "SAYCam 1-gram    False\n",
       "SAYCam 2-gram     True\n",
       "SAYCam CBOW 0    False\n",
       "Name: 1721, dtype: bool"
      ]
     },
     "metadata": {},
     "output_type": "display_data"
    },
    {
     "name": "stdout",
     "output_type": "stream",
     "text": [
      "the ring that were there were red .\n",
      "the rings that were there were red .\n"
     ]
    },
    {
     "data": {
      "text/plain": [
       "SAYCam LSTM 0     True\n",
       "SAYCam 1-gram    False\n",
       "SAYCam 2-gram     True\n",
       "SAYCam CBOW 0    False\n",
       "Name: 1728, dtype: bool"
      ]
     },
     "metadata": {},
     "output_type": "display_data"
    },
    {
     "name": "stdout",
     "output_type": "stream",
     "text": [
      "the rings that i like was red .\n",
      "the ring that i like was red .\n"
     ]
    },
    {
     "data": {
      "text/plain": [
       "SAYCam LSTM 0     True\n",
       "SAYCam 1-gram     True\n",
       "SAYCam 2-gram    False\n",
       "SAYCam CBOW 0     True\n",
       "Name: 1729, dtype: bool"
      ]
     },
     "metadata": {},
     "output_type": "display_data"
    },
    {
     "name": "stdout",
     "output_type": "stream",
     "text": [
      "the rings that you like was red .\n",
      "the ring that you like was red .\n"
     ]
    },
    {
     "data": {
      "text/plain": [
       "SAYCam LSTM 0     True\n",
       "SAYCam 1-gram     True\n",
       "SAYCam 2-gram    False\n",
       "SAYCam CBOW 0     True\n",
       "Name: 1730, dtype: bool"
      ]
     },
     "metadata": {},
     "output_type": "display_data"
    },
    {
     "name": "stdout",
     "output_type": "stream",
     "text": [
      "the rings that we like was red .\n",
      "the ring that we like was red .\n"
     ]
    },
    {
     "data": {
      "text/plain": [
       "SAYCam LSTM 0     True\n",
       "SAYCam 1-gram     True\n",
       "SAYCam 2-gram    False\n",
       "SAYCam CBOW 0     True\n",
       "Name: 1731, dtype: bool"
      ]
     },
     "metadata": {},
     "output_type": "display_data"
    },
    {
     "name": "stdout",
     "output_type": "stream",
     "text": [
      "the rings that he likes was red .\n",
      "the ring that he likes was red .\n"
     ]
    },
    {
     "data": {
      "text/plain": [
       "SAYCam LSTM 0     True\n",
       "SAYCam 1-gram     True\n",
       "SAYCam 2-gram    False\n",
       "SAYCam CBOW 0     True\n",
       "Name: 1732, dtype: bool"
      ]
     },
     "metadata": {},
     "output_type": "display_data"
    },
    {
     "name": "stdout",
     "output_type": "stream",
     "text": [
      "the rings that she likes was red .\n",
      "the ring that she likes was red .\n"
     ]
    },
    {
     "data": {
      "text/plain": [
       "SAYCam LSTM 0     True\n",
       "SAYCam 1-gram     True\n",
       "SAYCam 2-gram    False\n",
       "SAYCam CBOW 0     True\n",
       "Name: 1733, dtype: bool"
      ]
     },
     "metadata": {},
     "output_type": "display_data"
    },
    {
     "name": "stdout",
     "output_type": "stream",
     "text": [
      "the rings that it likes was red .\n",
      "the ring that it likes was red .\n"
     ]
    },
    {
     "data": {
      "text/plain": [
       "SAYCam LSTM 0     True\n",
       "SAYCam 1-gram     True\n",
       "SAYCam 2-gram    False\n",
       "SAYCam CBOW 0     True\n",
       "Name: 1734, dtype: bool"
      ]
     },
     "metadata": {},
     "output_type": "display_data"
    },
    {
     "name": "stdout",
     "output_type": "stream",
     "text": [
      "the rings that was there was red .\n",
      "the ring that was there was red .\n"
     ]
    },
    {
     "data": {
      "text/plain": [
       "SAYCam LSTM 0     True\n",
       "SAYCam 1-gram     True\n",
       "SAYCam 2-gram    False\n",
       "SAYCam CBOW 0     True\n",
       "Name: 1735, dtype: bool"
      ]
     },
     "metadata": {},
     "output_type": "display_data"
    },
    {
     "name": "stdout",
     "output_type": "stream",
     "text": [
      "comparing ('subject-verb agreement', 'in question with aux') (280 / 2000.0 = 14.00%):\n"
     ]
    },
    {
     "data": {
      "text/plain": [
       "SAYCam LSTM               0.565476\n",
       "SAYCam LSTM Captioning    0.560714\n",
       "SAYCam CBOW               0.480952\n",
       "SAYCam unigram            0.500000\n",
       "SAYCam bigram             0.482143\n",
       "AO-CHILDES Transformer    0.907143\n",
       "Name: (subject-verb agreement, in question with aux), dtype: float64"
      ]
     },
     "metadata": {},
     "output_type": "display_data"
    },
    {
     "name": "stdout",
     "output_type": "stream",
     "text": [
      "where does the horses go ?\n",
      "where does the horse go ?\n"
     ]
    },
    {
     "data": {
      "text/plain": [
       "SAYCam LSTM 0     True\n",
       "SAYCam 1-gram     True\n",
       "SAYCam 2-gram     True\n",
       "SAYCam CBOW 0    False\n",
       "Name: 0, dtype: bool"
      ]
     },
     "metadata": {},
     "output_type": "display_data"
    },
    {
     "name": "stdout",
     "output_type": "stream",
     "text": [
      "what does the horses do ?\n",
      "what does the horse do ?\n"
     ]
    },
    {
     "data": {
      "text/plain": [
       "SAYCam LSTM 0     True\n",
       "SAYCam 1-gram     True\n",
       "SAYCam 2-gram     True\n",
       "SAYCam CBOW 0    False\n",
       "Name: 1, dtype: bool"
      ]
     },
     "metadata": {},
     "output_type": "display_data"
    },
    {
     "name": "stdout",
     "output_type": "stream",
     "text": [
      "how does the horses fit in here ?\n",
      "how does the horse fit in here ?\n"
     ]
    },
    {
     "data": {
      "text/plain": [
       "SAYCam LSTM 0     True\n",
       "SAYCam 1-gram     True\n",
       "SAYCam 2-gram     True\n",
       "SAYCam CBOW 0    False\n",
       "Name: 2, dtype: bool"
      ]
     },
     "metadata": {},
     "output_type": "display_data"
    },
    {
     "name": "stdout",
     "output_type": "stream",
     "text": [
      "when does the horses stop working ?\n",
      "when does the horse stop working ?\n"
     ]
    },
    {
     "data": {
      "text/plain": [
       "SAYCam LSTM 0     True\n",
       "SAYCam 1-gram     True\n",
       "SAYCam 2-gram     True\n",
       "SAYCam CBOW 0    False\n",
       "Name: 4, dtype: bool"
      ]
     },
     "metadata": {},
     "output_type": "display_data"
    },
    {
     "name": "stdout",
     "output_type": "stream",
     "text": [
      "when does the horses start ?\n",
      "when does the horse start ?\n"
     ]
    },
    {
     "data": {
      "text/plain": [
       "SAYCam LSTM 0     True\n",
       "SAYCam 1-gram     True\n",
       "SAYCam 2-gram     True\n",
       "SAYCam CBOW 0    False\n",
       "Name: 5, dtype: bool"
      ]
     },
     "metadata": {},
     "output_type": "display_data"
    },
    {
     "name": "stdout",
     "output_type": "stream",
     "text": [
      "where does the bears go ?\n",
      "where does the bear go ?\n"
     ]
    },
    {
     "data": {
      "text/plain": [
       "SAYCam LSTM 0     True\n",
       "SAYCam 1-gram     True\n",
       "SAYCam 2-gram     True\n",
       "SAYCam CBOW 0    False\n",
       "Name: 14, dtype: bool"
      ]
     },
     "metadata": {},
     "output_type": "display_data"
    },
    {
     "name": "stdout",
     "output_type": "stream",
     "text": [
      "what does the bears do ?\n",
      "what does the bear do ?\n"
     ]
    },
    {
     "data": {
      "text/plain": [
       "SAYCam LSTM 0     True\n",
       "SAYCam 1-gram     True\n",
       "SAYCam 2-gram    False\n",
       "SAYCam CBOW 0    False\n",
       "Name: 15, dtype: bool"
      ]
     },
     "metadata": {},
     "output_type": "display_data"
    },
    {
     "name": "stdout",
     "output_type": "stream",
     "text": [
      "when does the bears stop working ?\n",
      "when does the bear stop working ?\n"
     ]
    },
    {
     "data": {
      "text/plain": [
       "SAYCam LSTM 0     True\n",
       "SAYCam 1-gram     True\n",
       "SAYCam 2-gram     True\n",
       "SAYCam CBOW 0    False\n",
       "Name: 18, dtype: bool"
      ]
     },
     "metadata": {},
     "output_type": "display_data"
    },
    {
     "name": "stdout",
     "output_type": "stream",
     "text": [
      "when does the bears start ?\n",
      "when does the bear start ?\n"
     ]
    },
    {
     "data": {
      "text/plain": [
       "SAYCam LSTM 0     True\n",
       "SAYCam 1-gram     True\n",
       "SAYCam 2-gram     True\n",
       "SAYCam CBOW 0    False\n",
       "Name: 19, dtype: bool"
      ]
     },
     "metadata": {},
     "output_type": "display_data"
    },
    {
     "name": "stdout",
     "output_type": "stream",
     "text": [
      "where does the eggs go ?\n",
      "where does the egg go ?\n"
     ]
    },
    {
     "data": {
      "text/plain": [
       "SAYCam LSTM 0     True\n",
       "SAYCam 1-gram    False\n",
       "SAYCam 2-gram     True\n",
       "SAYCam CBOW 0     True\n",
       "Name: 38, dtype: bool"
      ]
     },
     "metadata": {},
     "output_type": "display_data"
    },
    {
     "name": "stdout",
     "output_type": "stream",
     "text": [
      "how does the eggs fit in here ?\n",
      "how does the egg fit in here ?\n"
     ]
    },
    {
     "data": {
      "text/plain": [
       "SAYCam LSTM 0     True\n",
       "SAYCam 1-gram    False\n",
       "SAYCam 2-gram     True\n",
       "SAYCam CBOW 0    False\n",
       "Name: 40, dtype: bool"
      ]
     },
     "metadata": {},
     "output_type": "display_data"
    },
    {
     "name": "stdout",
     "output_type": "stream",
     "text": [
      "what do the egg do ?\n",
      "what do the eggs do ?\n"
     ]
    },
    {
     "data": {
      "text/plain": [
       "SAYCam LSTM 0     True\n",
       "SAYCam 1-gram     True\n",
       "SAYCam 2-gram    False\n",
       "SAYCam CBOW 0    False\n",
       "Name: 45, dtype: bool"
      ]
     },
     "metadata": {},
     "output_type": "display_data"
    },
    {
     "name": "stdout",
     "output_type": "stream",
     "text": [
      "when do the egg stop working ?\n",
      "when do the eggs stop working ?\n"
     ]
    },
    {
     "data": {
      "text/plain": [
       "SAYCam LSTM 0     True\n",
       "SAYCam 1-gram     True\n",
       "SAYCam 2-gram    False\n",
       "SAYCam CBOW 0    False\n",
       "Name: 48, dtype: bool"
      ]
     },
     "metadata": {},
     "output_type": "display_data"
    },
    {
     "name": "stdout",
     "output_type": "stream",
     "text": [
      "when do the egg start ?\n",
      "when do the eggs start ?\n"
     ]
    },
    {
     "data": {
      "text/plain": [
       "SAYCam LSTM 0     True\n",
       "SAYCam 1-gram     True\n",
       "SAYCam 2-gram    False\n",
       "SAYCam CBOW 0    False\n",
       "Name: 49, dtype: bool"
      ]
     },
     "metadata": {},
     "output_type": "display_data"
    },
    {
     "name": "stdout",
     "output_type": "stream",
     "text": [
      "where does the birds go ?\n",
      "where does the bird go ?\n"
     ]
    },
    {
     "data": {
      "text/plain": [
       "SAYCam LSTM 0     True\n",
       "SAYCam 1-gram    False\n",
       "SAYCam 2-gram    False\n",
       "SAYCam CBOW 0    False\n",
       "Name: 66, dtype: bool"
      ]
     },
     "metadata": {},
     "output_type": "display_data"
    },
    {
     "name": "stdout",
     "output_type": "stream",
     "text": [
      "what does the birds do ?\n",
      "what does the bird do ?\n"
     ]
    },
    {
     "data": {
      "text/plain": [
       "SAYCam LSTM 0     True\n",
       "SAYCam 1-gram    False\n",
       "SAYCam 2-gram    False\n",
       "SAYCam CBOW 0    False\n",
       "Name: 67, dtype: bool"
      ]
     },
     "metadata": {},
     "output_type": "display_data"
    },
    {
     "name": "stdout",
     "output_type": "stream",
     "text": [
      "what does the dogs do ?\n",
      "what does the dog do ?\n"
     ]
    },
    {
     "data": {
      "text/plain": [
       "SAYCam LSTM 0     True\n",
       "SAYCam 1-gram     True\n",
       "SAYCam 2-gram    False\n",
       "SAYCam CBOW 0     True\n",
       "Name: 103, dtype: bool"
      ]
     },
     "metadata": {},
     "output_type": "display_data"
    },
    {
     "name": "stdout",
     "output_type": "stream",
     "text": [
      "how does the dogs fit in here ?\n",
      "how does the dog fit in here ?\n"
     ]
    },
    {
     "data": {
      "text/plain": [
       "SAYCam LSTM 0     True\n",
       "SAYCam 1-gram     True\n",
       "SAYCam 2-gram     True\n",
       "SAYCam CBOW 0    False\n",
       "Name: 104, dtype: bool"
      ]
     },
     "metadata": {},
     "output_type": "display_data"
    },
    {
     "name": "stdout",
     "output_type": "stream",
     "text": [
      "when does the dogs stop working ?\n",
      "when does the dog stop working ?\n"
     ]
    },
    {
     "data": {
      "text/plain": [
       "SAYCam LSTM 0     True\n",
       "SAYCam 1-gram     True\n",
       "SAYCam 2-gram     True\n",
       "SAYCam CBOW 0    False\n",
       "Name: 106, dtype: bool"
      ]
     },
     "metadata": {},
     "output_type": "display_data"
    },
    {
     "name": "stdout",
     "output_type": "stream",
     "text": [
      "when does the feet stop working ?\n",
      "when does the foot stop working ?\n"
     ]
    },
    {
     "data": {
      "text/plain": [
       "SAYCam LSTM 0     True\n",
       "SAYCam 1-gram     True\n",
       "SAYCam 2-gram     True\n",
       "SAYCam CBOW 0    False\n",
       "Name: 118, dtype: bool"
      ]
     },
     "metadata": {},
     "output_type": "display_data"
    },
    {
     "name": "stdout",
     "output_type": "stream",
     "text": [
      "how do the day fit in here ?\n",
      "how do the days fit in here ?\n"
     ]
    },
    {
     "data": {
      "text/plain": [
       "SAYCam LSTM 0     True\n",
       "SAYCam 1-gram    False\n",
       "SAYCam 2-gram    False\n",
       "SAYCam CBOW 0    False\n",
       "Name: 134, dtype: bool"
      ]
     },
     "metadata": {},
     "output_type": "display_data"
    },
    {
     "name": "stdout",
     "output_type": "stream",
     "text": [
      "when do the day start ?\n",
      "when do the days start ?\n"
     ]
    },
    {
     "data": {
      "text/plain": [
       "SAYCam LSTM 0     True\n",
       "SAYCam 1-gram    False\n",
       "SAYCam 2-gram    False\n",
       "SAYCam CBOW 0     True\n",
       "Name: 137, dtype: bool"
      ]
     },
     "metadata": {},
     "output_type": "display_data"
    },
    {
     "name": "stdout",
     "output_type": "stream",
     "text": [
      "where does the colors go ?\n",
      "where does the color go ?\n"
     ]
    },
    {
     "data": {
      "text/plain": [
       "SAYCam LSTM 0     True\n",
       "SAYCam 1-gram     True\n",
       "SAYCam 2-gram    False\n",
       "SAYCam CBOW 0    False\n",
       "Name: 150, dtype: bool"
      ]
     },
     "metadata": {},
     "output_type": "display_data"
    },
    {
     "name": "stdout",
     "output_type": "stream",
     "text": [
      "when does the colors start ?\n",
      "when does the color start ?\n"
     ]
    },
    {
     "data": {
      "text/plain": [
       "SAYCam LSTM 0     True\n",
       "SAYCam 1-gram     True\n",
       "SAYCam 2-gram    False\n",
       "SAYCam CBOW 0    False\n",
       "Name: 155, dtype: bool"
      ]
     },
     "metadata": {},
     "output_type": "display_data"
    },
    {
     "name": "stdout",
     "output_type": "stream",
     "text": [
      "what do the color do ?\n",
      "what do the colors do ?\n"
     ]
    },
    {
     "data": {
      "text/plain": [
       "SAYCam LSTM 0     True\n",
       "SAYCam 1-gram    False\n",
       "SAYCam 2-gram     True\n",
       "SAYCam CBOW 0     True\n",
       "Name: 157, dtype: bool"
      ]
     },
     "metadata": {},
     "output_type": "display_data"
    },
    {
     "name": "stdout",
     "output_type": "stream",
     "text": [
      "how do the color fit in here ?\n",
      "how do the colors fit in here ?\n"
     ]
    },
    {
     "data": {
      "text/plain": [
       "SAYCam LSTM 0     True\n",
       "SAYCam 1-gram    False\n",
       "SAYCam 2-gram     True\n",
       "SAYCam CBOW 0     True\n",
       "Name: 158, dtype: bool"
      ]
     },
     "metadata": {},
     "output_type": "display_data"
    },
    {
     "name": "stdout",
     "output_type": "stream",
     "text": [
      "when do the color stop working ?\n",
      "when do the colors stop working ?\n"
     ]
    },
    {
     "data": {
      "text/plain": [
       "SAYCam LSTM 0     True\n",
       "SAYCam 1-gram    False\n",
       "SAYCam 2-gram     True\n",
       "SAYCam CBOW 0     True\n",
       "Name: 160, dtype: bool"
      ]
     },
     "metadata": {},
     "output_type": "display_data"
    },
    {
     "name": "stdout",
     "output_type": "stream",
     "text": [
      "where does the minutes go ?\n",
      "where does the minute go ?\n"
     ]
    },
    {
     "data": {
      "text/plain": [
       "SAYCam LSTM 0     True\n",
       "SAYCam 1-gram    False\n",
       "SAYCam 2-gram    False\n",
       "SAYCam CBOW 0     True\n",
       "Name: 162, dtype: bool"
      ]
     },
     "metadata": {},
     "output_type": "display_data"
    },
    {
     "name": "stdout",
     "output_type": "stream",
     "text": [
      "what does the minutes do ?\n",
      "what does the minute do ?\n"
     ]
    },
    {
     "data": {
      "text/plain": [
       "SAYCam LSTM 0     True\n",
       "SAYCam 1-gram    False\n",
       "SAYCam 2-gram    False\n",
       "SAYCam CBOW 0    False\n",
       "Name: 163, dtype: bool"
      ]
     },
     "metadata": {},
     "output_type": "display_data"
    },
    {
     "name": "stdout",
     "output_type": "stream",
     "text": [
      "how does the minutes fit in here ?\n",
      "how does the minute fit in here ?\n"
     ]
    },
    {
     "data": {
      "text/plain": [
       "SAYCam LSTM 0     True\n",
       "SAYCam 1-gram    False\n",
       "SAYCam 2-gram    False\n",
       "SAYCam CBOW 0    False\n",
       "Name: 164, dtype: bool"
      ]
     },
     "metadata": {},
     "output_type": "display_data"
    },
    {
     "name": "stdout",
     "output_type": "stream",
     "text": [
      "when does the minutes stop working ?\n",
      "when does the minute stop working ?\n"
     ]
    },
    {
     "data": {
      "text/plain": [
       "SAYCam LSTM 0     True\n",
       "SAYCam 1-gram    False\n",
       "SAYCam 2-gram    False\n",
       "SAYCam CBOW 0     True\n",
       "Name: 166, dtype: bool"
      ]
     },
     "metadata": {},
     "output_type": "display_data"
    },
    {
     "name": "stdout",
     "output_type": "stream",
     "text": [
      "when does the minutes start ?\n",
      "when does the minute start ?\n"
     ]
    },
    {
     "data": {
      "text/plain": [
       "SAYCam LSTM 0     True\n",
       "SAYCam 1-gram    False\n",
       "SAYCam 2-gram    False\n",
       "SAYCam CBOW 0     True\n",
       "Name: 167, dtype: bool"
      ]
     },
     "metadata": {},
     "output_type": "display_data"
    },
    {
     "name": "stdout",
     "output_type": "stream",
     "text": [
      "where does the babies go ?\n",
      "where does the baby go ?\n"
     ]
    },
    {
     "data": {
      "text/plain": [
       "SAYCam LSTM 0     True\n",
       "SAYCam 1-gram     True\n",
       "SAYCam 2-gram     True\n",
       "SAYCam CBOW 0    False\n",
       "Name: 200, dtype: bool"
      ]
     },
     "metadata": {},
     "output_type": "display_data"
    },
    {
     "name": "stdout",
     "output_type": "stream",
     "text": [
      "what does the babies do ?\n",
      "what does the baby do ?\n"
     ]
    },
    {
     "data": {
      "text/plain": [
       "SAYCam LSTM 0     True\n",
       "SAYCam 1-gram     True\n",
       "SAYCam 2-gram     True\n",
       "SAYCam CBOW 0    False\n",
       "Name: 201, dtype: bool"
      ]
     },
     "metadata": {},
     "output_type": "display_data"
    },
    {
     "name": "stdout",
     "output_type": "stream",
     "text": [
      "how does the babies fit in here ?\n",
      "how does the baby fit in here ?\n"
     ]
    },
    {
     "data": {
      "text/plain": [
       "SAYCam LSTM 0     True\n",
       "SAYCam 1-gram     True\n",
       "SAYCam 2-gram     True\n",
       "SAYCam CBOW 0    False\n",
       "Name: 202, dtype: bool"
      ]
     },
     "metadata": {},
     "output_type": "display_data"
    },
    {
     "name": "stdout",
     "output_type": "stream",
     "text": [
      "when does the babies stop working ?\n",
      "when does the baby stop working ?\n"
     ]
    },
    {
     "data": {
      "text/plain": [
       "SAYCam LSTM 0     True\n",
       "SAYCam 1-gram     True\n",
       "SAYCam 2-gram     True\n",
       "SAYCam CBOW 0    False\n",
       "Name: 204, dtype: bool"
      ]
     },
     "metadata": {},
     "output_type": "display_data"
    },
    {
     "name": "stdout",
     "output_type": "stream",
     "text": [
      "what do the baby do ?\n",
      "what do the babies do ?\n"
     ]
    },
    {
     "data": {
      "text/plain": [
       "SAYCam LSTM 0     True\n",
       "SAYCam 1-gram    False\n",
       "SAYCam 2-gram    False\n",
       "SAYCam CBOW 0     True\n",
       "Name: 207, dtype: bool"
      ]
     },
     "metadata": {},
     "output_type": "display_data"
    },
    {
     "name": "stdout",
     "output_type": "stream",
     "text": [
      "when does the pictures start ?\n",
      "when does the picture start ?\n"
     ]
    },
    {
     "data": {
      "text/plain": [
       "SAYCam LSTM 0     True\n",
       "SAYCam 1-gram     True\n",
       "SAYCam 2-gram     True\n",
       "SAYCam CBOW 0    False\n",
       "Name: 217, dtype: bool"
      ]
     },
     "metadata": {},
     "output_type": "display_data"
    },
    {
     "name": "stdout",
     "output_type": "stream",
     "text": [
      "what do the picture do ?\n",
      "what do the pictures do ?\n"
     ]
    },
    {
     "data": {
      "text/plain": [
       "SAYCam LSTM 0     True\n",
       "SAYCam 1-gram    False\n",
       "SAYCam 2-gram    False\n",
       "SAYCam CBOW 0    False\n",
       "Name: 219, dtype: bool"
      ]
     },
     "metadata": {},
     "output_type": "display_data"
    },
    {
     "name": "stdout",
     "output_type": "stream",
     "text": [
      "when do the picture stop working ?\n",
      "when do the pictures stop working ?\n"
     ]
    },
    {
     "data": {
      "text/plain": [
       "SAYCam LSTM 0     True\n",
       "SAYCam 1-gram    False\n",
       "SAYCam 2-gram    False\n",
       "SAYCam CBOW 0    False\n",
       "Name: 222, dtype: bool"
      ]
     },
     "metadata": {},
     "output_type": "display_data"
    },
    {
     "name": "stdout",
     "output_type": "stream",
     "text": [
      "what does the cars do ?\n",
      "what does the car do ?\n"
     ]
    },
    {
     "data": {
      "text/plain": [
       "SAYCam LSTM 0     True\n",
       "SAYCam 1-gram     True\n",
       "SAYCam 2-gram     True\n",
       "SAYCam CBOW 0    False\n",
       "Name: 225, dtype: bool"
      ]
     },
     "metadata": {},
     "output_type": "display_data"
    },
    {
     "name": "stdout",
     "output_type": "stream",
     "text": [
      "when does the cars stop working ?\n",
      "when does the car stop working ?\n"
     ]
    },
    {
     "data": {
      "text/plain": [
       "SAYCam LSTM 0     True\n",
       "SAYCam 1-gram     True\n",
       "SAYCam 2-gram     True\n",
       "SAYCam CBOW 0    False\n",
       "Name: 228, dtype: bool"
      ]
     },
     "metadata": {},
     "output_type": "display_data"
    },
    {
     "name": "stdout",
     "output_type": "stream",
     "text": [
      "when does the cars start ?\n",
      "when does the car start ?\n"
     ]
    },
    {
     "data": {
      "text/plain": [
       "SAYCam LSTM 0     True\n",
       "SAYCam 1-gram     True\n",
       "SAYCam 2-gram     True\n",
       "SAYCam CBOW 0    False\n",
       "Name: 229, dtype: bool"
      ]
     },
     "metadata": {},
     "output_type": "display_data"
    },
    {
     "name": "stdout",
     "output_type": "stream",
     "text": [
      "what do the car do ?\n",
      "what do the cars do ?\n"
     ]
    },
    {
     "data": {
      "text/plain": [
       "SAYCam LSTM 0     True\n",
       "SAYCam 1-gram    False\n",
       "SAYCam 2-gram    False\n",
       "SAYCam CBOW 0     True\n",
       "Name: 231, dtype: bool"
      ]
     },
     "metadata": {},
     "output_type": "display_data"
    },
    {
     "name": "stdout",
     "output_type": "stream",
     "text": [
      "how do the car fit in here ?\n",
      "how do the cars fit in here ?\n"
     ]
    },
    {
     "data": {
      "text/plain": [
       "SAYCam LSTM 0     True\n",
       "SAYCam 1-gram    False\n",
       "SAYCam 2-gram    False\n",
       "SAYCam CBOW 0    False\n",
       "Name: 232, dtype: bool"
      ]
     },
     "metadata": {},
     "output_type": "display_data"
    },
    {
     "name": "stdout",
     "output_type": "stream",
     "text": [
      "where does the songs go ?\n",
      "where does the song go ?\n"
     ]
    },
    {
     "data": {
      "text/plain": [
       "SAYCam LSTM 0     True\n",
       "SAYCam 1-gram     True\n",
       "SAYCam 2-gram     True\n",
       "SAYCam CBOW 0    False\n",
       "Name: 248, dtype: bool"
      ]
     },
     "metadata": {},
     "output_type": "display_data"
    },
    {
     "name": "stdout",
     "output_type": "stream",
     "text": [
      "what does the songs do ?\n",
      "what does the song do ?\n"
     ]
    },
    {
     "data": {
      "text/plain": [
       "SAYCam LSTM 0     True\n",
       "SAYCam 1-gram     True\n",
       "SAYCam 2-gram     True\n",
       "SAYCam CBOW 0    False\n",
       "Name: 249, dtype: bool"
      ]
     },
     "metadata": {},
     "output_type": "display_data"
    },
    {
     "name": "stdout",
     "output_type": "stream",
     "text": [
      "when does the songs start ?\n",
      "when does the song start ?\n"
     ]
    },
    {
     "data": {
      "text/plain": [
       "SAYCam LSTM 0     True\n",
       "SAYCam 1-gram     True\n",
       "SAYCam 2-gram     True\n",
       "SAYCam CBOW 0    False\n",
       "Name: 253, dtype: bool"
      ]
     },
     "metadata": {},
     "output_type": "display_data"
    },
    {
     "name": "stdout",
     "output_type": "stream",
     "text": [
      "where does the books go ?\n",
      "where does the book go ?\n"
     ]
    },
    {
     "data": {
      "text/plain": [
       "SAYCam LSTM 0     True\n",
       "SAYCam 1-gram     True\n",
       "SAYCam 2-gram     True\n",
       "SAYCam CBOW 0    False\n",
       "Name: 272, dtype: bool"
      ]
     },
     "metadata": {},
     "output_type": "display_data"
    },
    {
     "name": "stdout",
     "output_type": "stream",
     "text": [
      "when does the books start ?\n",
      "when does the book start ?\n"
     ]
    },
    {
     "data": {
      "text/plain": [
       "SAYCam LSTM 0     True\n",
       "SAYCam 1-gram     True\n",
       "SAYCam 2-gram     True\n",
       "SAYCam CBOW 0    False\n",
       "Name: 277, dtype: bool"
      ]
     },
     "metadata": {},
     "output_type": "display_data"
    },
    {
     "name": "stdout",
     "output_type": "stream",
     "text": [
      "where do the finger go ?\n",
      "where do the fingers go ?\n"
     ]
    },
    {
     "data": {
      "text/plain": [
       "SAYCam LSTM 0     True\n",
       "SAYCam 1-gram     True\n",
       "SAYCam 2-gram     True\n",
       "SAYCam CBOW 0    False\n",
       "Name: 318, dtype: bool"
      ]
     },
     "metadata": {},
     "output_type": "display_data"
    },
    {
     "name": "stdout",
     "output_type": "stream",
     "text": [
      "what do the finger do ?\n",
      "what do the fingers do ?\n"
     ]
    },
    {
     "data": {
      "text/plain": [
       "SAYCam LSTM 0     True\n",
       "SAYCam 1-gram     True\n",
       "SAYCam 2-gram     True\n",
       "SAYCam CBOW 0    False\n",
       "Name: 319, dtype: bool"
      ]
     },
     "metadata": {},
     "output_type": "display_data"
    },
    {
     "name": "stdout",
     "output_type": "stream",
     "text": [
      "how do the finger fit in here ?\n",
      "how do the fingers fit in here ?\n"
     ]
    },
    {
     "data": {
      "text/plain": [
       "SAYCam LSTM 0     True\n",
       "SAYCam 1-gram     True\n",
       "SAYCam 2-gram     True\n",
       "SAYCam CBOW 0    False\n",
       "Name: 320, dtype: bool"
      ]
     },
     "metadata": {},
     "output_type": "display_data"
    },
    {
     "name": "stdout",
     "output_type": "stream",
     "text": [
      "when do the finger stop working ?\n",
      "when do the fingers stop working ?\n"
     ]
    },
    {
     "data": {
      "text/plain": [
       "SAYCam LSTM 0     True\n",
       "SAYCam 1-gram     True\n",
       "SAYCam 2-gram     True\n",
       "SAYCam CBOW 0    False\n",
       "Name: 322, dtype: bool"
      ]
     },
     "metadata": {},
     "output_type": "display_data"
    },
    {
     "name": "stdout",
     "output_type": "stream",
     "text": [
      "when do the finger start ?\n",
      "when do the fingers start ?\n"
     ]
    },
    {
     "data": {
      "text/plain": [
       "SAYCam LSTM 0     True\n",
       "SAYCam 1-gram     True\n",
       "SAYCam 2-gram     True\n",
       "SAYCam CBOW 0    False\n",
       "Name: 323, dtype: bool"
      ]
     },
     "metadata": {},
     "output_type": "display_data"
    },
    {
     "name": "stdout",
     "output_type": "stream",
     "text": [
      "where does the bits go ?\n",
      "where does the bit go ?\n"
     ]
    },
    {
     "data": {
      "text/plain": [
       "SAYCam LSTM 0     True\n",
       "SAYCam 1-gram     True\n",
       "SAYCam 2-gram     True\n",
       "SAYCam CBOW 0    False\n",
       "Name: 324, dtype: bool"
      ]
     },
     "metadata": {},
     "output_type": "display_data"
    },
    {
     "name": "stdout",
     "output_type": "stream",
     "text": [
      "what does the bits do ?\n",
      "what does the bit do ?\n"
     ]
    },
    {
     "data": {
      "text/plain": [
       "SAYCam LSTM 0     True\n",
       "SAYCam 1-gram     True\n",
       "SAYCam 2-gram     True\n",
       "SAYCam CBOW 0    False\n",
       "Name: 325, dtype: bool"
      ]
     },
     "metadata": {},
     "output_type": "display_data"
    },
    {
     "name": "stdout",
     "output_type": "stream",
     "text": [
      "how does the bits fit in here ?\n",
      "how does the bit fit in here ?\n"
     ]
    },
    {
     "data": {
      "text/plain": [
       "SAYCam LSTM 0     True\n",
       "SAYCam 1-gram     True\n",
       "SAYCam 2-gram     True\n",
       "SAYCam CBOW 0    False\n",
       "Name: 326, dtype: bool"
      ]
     },
     "metadata": {},
     "output_type": "display_data"
    },
    {
     "name": "stdout",
     "output_type": "stream",
     "text": [
      "when does the bits stop working ?\n",
      "when does the bit stop working ?\n"
     ]
    },
    {
     "data": {
      "text/plain": [
       "SAYCam LSTM 0     True\n",
       "SAYCam 1-gram     True\n",
       "SAYCam 2-gram     True\n",
       "SAYCam CBOW 0    False\n",
       "Name: 328, dtype: bool"
      ]
     },
     "metadata": {},
     "output_type": "display_data"
    },
    {
     "name": "stdout",
     "output_type": "stream",
     "text": [
      "when does the bits start ?\n",
      "when does the bit start ?\n"
     ]
    },
    {
     "data": {
      "text/plain": [
       "SAYCam LSTM 0     True\n",
       "SAYCam 1-gram     True\n",
       "SAYCam 2-gram     True\n",
       "SAYCam CBOW 0    False\n",
       "Name: 329, dtype: bool"
      ]
     },
     "metadata": {},
     "output_type": "display_data"
    },
    {
     "name": "stdout",
     "output_type": "stream",
     "text": [
      "what do the bit do ?\n",
      "what do the bits do ?\n"
     ]
    },
    {
     "data": {
      "text/plain": [
       "SAYCam LSTM 0     True\n",
       "SAYCam 1-gram    False\n",
       "SAYCam 2-gram    False\n",
       "SAYCam CBOW 0     True\n",
       "Name: 331, dtype: bool"
      ]
     },
     "metadata": {},
     "output_type": "display_data"
    },
    {
     "name": "stdout",
     "output_type": "stream",
     "text": [
      "where does the stars go ?\n",
      "where does the star go ?\n"
     ]
    },
    {
     "data": {
      "text/plain": [
       "SAYCam LSTM 0     True\n",
       "SAYCam 1-gram     True\n",
       "SAYCam 2-gram    False\n",
       "SAYCam CBOW 0     True\n",
       "Name: 366, dtype: bool"
      ]
     },
     "metadata": {},
     "output_type": "display_data"
    },
    {
     "name": "stdout",
     "output_type": "stream",
     "text": [
      "where does the words go ?\n",
      "where does the word go ?\n"
     ]
    },
    {
     "data": {
      "text/plain": [
       "SAYCam LSTM 0     True\n",
       "SAYCam 1-gram    False\n",
       "SAYCam 2-gram    False\n",
       "SAYCam CBOW 0    False\n",
       "Name: 380, dtype: bool"
      ]
     },
     "metadata": {},
     "output_type": "display_data"
    },
    {
     "name": "stdout",
     "output_type": "stream",
     "text": [
      "what does the words do ?\n",
      "what does the word do ?\n"
     ]
    },
    {
     "data": {
      "text/plain": [
       "SAYCam LSTM 0     True\n",
       "SAYCam 1-gram    False\n",
       "SAYCam 2-gram    False\n",
       "SAYCam CBOW 0    False\n",
       "Name: 381, dtype: bool"
      ]
     },
     "metadata": {},
     "output_type": "display_data"
    },
    {
     "name": "stdout",
     "output_type": "stream",
     "text": [
      "how does the words fit in here ?\n",
      "how does the word fit in here ?\n"
     ]
    },
    {
     "data": {
      "text/plain": [
       "SAYCam LSTM 0     True\n",
       "SAYCam 1-gram    False\n",
       "SAYCam 2-gram    False\n",
       "SAYCam CBOW 0    False\n",
       "Name: 382, dtype: bool"
      ]
     },
     "metadata": {},
     "output_type": "display_data"
    },
    {
     "name": "stdout",
     "output_type": "stream",
     "text": [
      "when does the words stop working ?\n",
      "when does the word stop working ?\n"
     ]
    },
    {
     "data": {
      "text/plain": [
       "SAYCam LSTM 0     True\n",
       "SAYCam 1-gram    False\n",
       "SAYCam 2-gram    False\n",
       "SAYCam CBOW 0    False\n",
       "Name: 384, dtype: bool"
      ]
     },
     "metadata": {},
     "output_type": "display_data"
    },
    {
     "name": "stdout",
     "output_type": "stream",
     "text": [
      "when does the words start ?\n",
      "when does the word start ?\n"
     ]
    },
    {
     "data": {
      "text/plain": [
       "SAYCam LSTM 0     True\n",
       "SAYCam 1-gram    False\n",
       "SAYCam 2-gram    False\n",
       "SAYCam CBOW 0    False\n",
       "Name: 385, dtype: bool"
      ]
     },
     "metadata": {},
     "output_type": "display_data"
    },
    {
     "name": "stdout",
     "output_type": "stream",
     "text": [
      "what do the arm do ?\n",
      "what do the arms do ?\n"
     ]
    },
    {
     "data": {
      "text/plain": [
       "SAYCam LSTM 0     True\n",
       "SAYCam 1-gram    False\n",
       "SAYCam 2-gram    False\n",
       "SAYCam CBOW 0    False\n",
       "Name: 399, dtype: bool"
      ]
     },
     "metadata": {},
     "output_type": "display_data"
    },
    {
     "name": "stdout",
     "output_type": "stream",
     "text": [
      "how do the arm fit in here ?\n",
      "how do the arms fit in here ?\n"
     ]
    },
    {
     "data": {
      "text/plain": [
       "SAYCam LSTM 0     True\n",
       "SAYCam 1-gram    False\n",
       "SAYCam 2-gram    False\n",
       "SAYCam CBOW 0    False\n",
       "Name: 400, dtype: bool"
      ]
     },
     "metadata": {},
     "output_type": "display_data"
    },
    {
     "name": "stdout",
     "output_type": "stream",
     "text": [
      "when do the arm start ?\n",
      "when do the arms start ?\n"
     ]
    },
    {
     "data": {
      "text/plain": [
       "SAYCam LSTM 0     True\n",
       "SAYCam 1-gram    False\n",
       "SAYCam 2-gram    False\n",
       "SAYCam CBOW 0    False\n",
       "Name: 403, dtype: bool"
      ]
     },
     "metadata": {},
     "output_type": "display_data"
    },
    {
     "name": "stdout",
     "output_type": "stream",
     "text": [
      "what do the whale do ?\n",
      "what do the whales do ?\n"
     ]
    },
    {
     "data": {
      "text/plain": [
       "SAYCam LSTM 0     True\n",
       "SAYCam 1-gram    False\n",
       "SAYCam 2-gram    False\n",
       "SAYCam CBOW 0    False\n",
       "Name: 429, dtype: bool"
      ]
     },
     "metadata": {},
     "output_type": "display_data"
    },
    {
     "name": "stdout",
     "output_type": "stream",
     "text": [
      "where does the girls go ?\n",
      "where does the girl go ?\n"
     ]
    },
    {
     "data": {
      "text/plain": [
       "SAYCam LSTM 0     True\n",
       "SAYCam 1-gram     True\n",
       "SAYCam 2-gram     True\n",
       "SAYCam CBOW 0    False\n",
       "Name: 462, dtype: bool"
      ]
     },
     "metadata": {},
     "output_type": "display_data"
    },
    {
     "name": "stdout",
     "output_type": "stream",
     "text": [
      "what does the girls do ?\n",
      "what does the girl do ?\n"
     ]
    },
    {
     "data": {
      "text/plain": [
       "SAYCam LSTM 0     True\n",
       "SAYCam 1-gram     True\n",
       "SAYCam 2-gram     True\n",
       "SAYCam CBOW 0    False\n",
       "Name: 463, dtype: bool"
      ]
     },
     "metadata": {},
     "output_type": "display_data"
    },
    {
     "name": "stdout",
     "output_type": "stream",
     "text": [
      "when does the girls start ?\n",
      "when does the girl start ?\n"
     ]
    },
    {
     "data": {
      "text/plain": [
       "SAYCam LSTM 0     True\n",
       "SAYCam 1-gram     True\n",
       "SAYCam 2-gram     True\n",
       "SAYCam CBOW 0    False\n",
       "Name: 467, dtype: bool"
      ]
     },
     "metadata": {},
     "output_type": "display_data"
    },
    {
     "name": "stdout",
     "output_type": "stream",
     "text": [
      "where does the hands go ?\n",
      "where does the hand go ?\n"
     ]
    },
    {
     "data": {
      "text/plain": [
       "SAYCam LSTM 0     True\n",
       "SAYCam 1-gram     True\n",
       "SAYCam 2-gram     True\n",
       "SAYCam CBOW 0    False\n",
       "Name: 488, dtype: bool"
      ]
     },
     "metadata": {},
     "output_type": "display_data"
    },
    {
     "name": "stdout",
     "output_type": "stream",
     "text": [
      "what does the hands do ?\n",
      "what does the hand do ?\n"
     ]
    },
    {
     "data": {
      "text/plain": [
       "SAYCam LSTM 0     True\n",
       "SAYCam 1-gram     True\n",
       "SAYCam 2-gram     True\n",
       "SAYCam CBOW 0    False\n",
       "Name: 489, dtype: bool"
      ]
     },
     "metadata": {},
     "output_type": "display_data"
    },
    {
     "name": "stdout",
     "output_type": "stream",
     "text": [
      "how does the hands fit in here ?\n",
      "how does the hand fit in here ?\n"
     ]
    },
    {
     "data": {
      "text/plain": [
       "SAYCam LSTM 0     True\n",
       "SAYCam 1-gram     True\n",
       "SAYCam 2-gram     True\n",
       "SAYCam CBOW 0    False\n",
       "Name: 490, dtype: bool"
      ]
     },
     "metadata": {},
     "output_type": "display_data"
    },
    {
     "name": "stdout",
     "output_type": "stream",
     "text": [
      "when does the hands stop working ?\n",
      "when does the hand stop working ?\n"
     ]
    },
    {
     "data": {
      "text/plain": [
       "SAYCam LSTM 0     True\n",
       "SAYCam 1-gram     True\n",
       "SAYCam 2-gram     True\n",
       "SAYCam CBOW 0    False\n",
       "Name: 492, dtype: bool"
      ]
     },
     "metadata": {},
     "output_type": "display_data"
    },
    {
     "name": "stdout",
     "output_type": "stream",
     "text": [
      "when does the hands start ?\n",
      "when does the hand start ?\n"
     ]
    },
    {
     "data": {
      "text/plain": [
       "SAYCam LSTM 0     True\n",
       "SAYCam 1-gram     True\n",
       "SAYCam 2-gram     True\n",
       "SAYCam CBOW 0    False\n",
       "Name: 493, dtype: bool"
      ]
     },
     "metadata": {},
     "output_type": "display_data"
    },
    {
     "name": "stdout",
     "output_type": "stream",
     "text": [
      "what do the hand do ?\n",
      "what do the hands do ?\n"
     ]
    },
    {
     "data": {
      "text/plain": [
       "SAYCam LSTM 0     True\n",
       "SAYCam 1-gram    False\n",
       "SAYCam 2-gram    False\n",
       "SAYCam CBOW 0     True\n",
       "Name: 495, dtype: bool"
      ]
     },
     "metadata": {},
     "output_type": "display_data"
    },
    {
     "name": "stdout",
     "output_type": "stream",
     "text": [
      "when do the hand stop working ?\n",
      "when do the hands stop working ?\n"
     ]
    },
    {
     "data": {
      "text/plain": [
       "SAYCam LSTM 0     True\n",
       "SAYCam 1-gram    False\n",
       "SAYCam 2-gram    False\n",
       "SAYCam CBOW 0     True\n",
       "Name: 498, dtype: bool"
      ]
     },
     "metadata": {},
     "output_type": "display_data"
    },
    {
     "name": "stdout",
     "output_type": "stream",
     "text": [
      "where does the rings go ?\n",
      "where does the ring go ?\n"
     ]
    },
    {
     "data": {
      "text/plain": [
       "SAYCam LSTM 0     True\n",
       "SAYCam 1-gram     True\n",
       "SAYCam 2-gram    False\n",
       "SAYCam CBOW 0    False\n",
       "Name: 540, dtype: bool"
      ]
     },
     "metadata": {},
     "output_type": "display_data"
    },
    {
     "name": "stdout",
     "output_type": "stream",
     "text": [
      "how does the rings fit in here ?\n",
      "how does the ring fit in here ?\n"
     ]
    },
    {
     "data": {
      "text/plain": [
       "SAYCam LSTM 0     True\n",
       "SAYCam 1-gram     True\n",
       "SAYCam 2-gram    False\n",
       "SAYCam CBOW 0     True\n",
       "Name: 542, dtype: bool"
      ]
     },
     "metadata": {},
     "output_type": "display_data"
    },
    {
     "name": "stdout",
     "output_type": "stream",
     "text": [
      "what do the ring do ?\n",
      "what do the rings do ?\n"
     ]
    },
    {
     "data": {
      "text/plain": [
       "SAYCam LSTM 0     True\n",
       "SAYCam 1-gram    False\n",
       "SAYCam 2-gram     True\n",
       "SAYCam CBOW 0     True\n",
       "Name: 547, dtype: bool"
      ]
     },
     "metadata": {},
     "output_type": "display_data"
    },
    {
     "name": "stdout",
     "output_type": "stream",
     "text": [
      "where does the things go ?\n",
      "where does the thing go ?\n"
     ]
    },
    {
     "data": {
      "text/plain": [
       "SAYCam LSTM 0     True\n",
       "SAYCam 1-gram    False\n",
       "SAYCam 2-gram    False\n",
       "SAYCam CBOW 0    False\n",
       "Name: 586, dtype: bool"
      ]
     },
     "metadata": {},
     "output_type": "display_data"
    },
    {
     "name": "stdout",
     "output_type": "stream",
     "text": [
      "what does the things do ?\n",
      "what does the thing do ?\n"
     ]
    },
    {
     "data": {
      "text/plain": [
       "SAYCam LSTM 0     True\n",
       "SAYCam 1-gram    False\n",
       "SAYCam 2-gram    False\n",
       "SAYCam CBOW 0    False\n",
       "Name: 587, dtype: bool"
      ]
     },
     "metadata": {},
     "output_type": "display_data"
    },
    {
     "name": "stdout",
     "output_type": "stream",
     "text": [
      "how does the things fit in here ?\n",
      "how does the thing fit in here ?\n"
     ]
    },
    {
     "data": {
      "text/plain": [
       "SAYCam LSTM 0     True\n",
       "SAYCam 1-gram    False\n",
       "SAYCam 2-gram    False\n",
       "SAYCam CBOW 0    False\n",
       "Name: 588, dtype: bool"
      ]
     },
     "metadata": {},
     "output_type": "display_data"
    },
    {
     "name": "stdout",
     "output_type": "stream",
     "text": [
      "when does the things stop working ?\n",
      "when does the thing stop working ?\n"
     ]
    },
    {
     "data": {
      "text/plain": [
       "SAYCam LSTM 0     True\n",
       "SAYCam 1-gram    False\n",
       "SAYCam 2-gram    False\n",
       "SAYCam CBOW 0    False\n",
       "Name: 590, dtype: bool"
      ]
     },
     "metadata": {},
     "output_type": "display_data"
    },
    {
     "name": "stdout",
     "output_type": "stream",
     "text": [
      "when does the things start ?\n",
      "when does the thing start ?\n"
     ]
    },
    {
     "data": {
      "text/plain": [
       "SAYCam LSTM 0     True\n",
       "SAYCam 1-gram    False\n",
       "SAYCam 2-gram    False\n",
       "SAYCam CBOW 0    False\n",
       "Name: 591, dtype: bool"
      ]
     },
     "metadata": {},
     "output_type": "display_data"
    },
    {
     "name": "stdout",
     "output_type": "stream",
     "text": [
      "what do the boat do ?\n",
      "what do the boats do ?\n"
     ]
    },
    {
     "data": {
      "text/plain": [
       "SAYCam LSTM 0     True\n",
       "SAYCam 1-gram    False\n",
       "SAYCam 2-gram    False\n",
       "SAYCam CBOW 0    False\n",
       "Name: 697, dtype: bool"
      ]
     },
     "metadata": {},
     "output_type": "display_data"
    },
    {
     "name": "stdout",
     "output_type": "stream",
     "text": [
      "when do the boat start ?\n",
      "when do the boats start ?\n"
     ]
    },
    {
     "data": {
      "text/plain": [
       "SAYCam LSTM 0     True\n",
       "SAYCam 1-gram    False\n",
       "SAYCam 2-gram    False\n",
       "SAYCam CBOW 0    False\n",
       "Name: 701, dtype: bool"
      ]
     },
     "metadata": {},
     "output_type": "display_data"
    },
    {
     "name": "stdout",
     "output_type": "stream",
     "text": [
      "where does the toys go ?\n",
      "where does the toy go ?\n"
     ]
    },
    {
     "data": {
      "text/plain": [
       "SAYCam LSTM 0     True\n",
       "SAYCam 1-gram    False\n",
       "SAYCam 2-gram     True\n",
       "SAYCam CBOW 0     True\n",
       "Name: 818, dtype: bool"
      ]
     },
     "metadata": {},
     "output_type": "display_data"
    },
    {
     "name": "stdout",
     "output_type": "stream",
     "text": [
      "when does the toys stop working ?\n",
      "when does the toy stop working ?\n"
     ]
    },
    {
     "data": {
      "text/plain": [
       "SAYCam LSTM 0     True\n",
       "SAYCam 1-gram    False\n",
       "SAYCam 2-gram     True\n",
       "SAYCam CBOW 0    False\n",
       "Name: 822, dtype: bool"
      ]
     },
     "metadata": {},
     "output_type": "display_data"
    },
    {
     "name": "stdout",
     "output_type": "stream",
     "text": [
      "when does the toys start ?\n",
      "when does the toy start ?\n"
     ]
    },
    {
     "data": {
      "text/plain": [
       "SAYCam LSTM 0     True\n",
       "SAYCam 1-gram    False\n",
       "SAYCam 2-gram     True\n",
       "SAYCam CBOW 0     True\n",
       "Name: 823, dtype: bool"
      ]
     },
     "metadata": {},
     "output_type": "display_data"
    },
    {
     "name": "stdout",
     "output_type": "stream",
     "text": [
      "what do the toy do ?\n",
      "what do the toys do ?\n"
     ]
    },
    {
     "data": {
      "text/plain": [
       "SAYCam LSTM 0     True\n",
       "SAYCam 1-gram     True\n",
       "SAYCam 2-gram    False\n",
       "SAYCam CBOW 0    False\n",
       "Name: 825, dtype: bool"
      ]
     },
     "metadata": {},
     "output_type": "display_data"
    },
    {
     "name": "stdout",
     "output_type": "stream",
     "text": [
      "how do the toy fit in here ?\n",
      "how do the toys fit in here ?\n"
     ]
    },
    {
     "data": {
      "text/plain": [
       "SAYCam LSTM 0     True\n",
       "SAYCam 1-gram     True\n",
       "SAYCam 2-gram    False\n",
       "SAYCam CBOW 0    False\n",
       "Name: 826, dtype: bool"
      ]
     },
     "metadata": {},
     "output_type": "display_data"
    },
    {
     "name": "stdout",
     "output_type": "stream",
     "text": [
      "where does the guys go ?\n",
      "where does the guy go ?\n"
     ]
    },
    {
     "data": {
      "text/plain": [
       "SAYCam LSTM 0     True\n",
       "SAYCam 1-gram     True\n",
       "SAYCam 2-gram     True\n",
       "SAYCam CBOW 0    False\n",
       "Name: 896, dtype: bool"
      ]
     },
     "metadata": {},
     "output_type": "display_data"
    },
    {
     "name": "stdout",
     "output_type": "stream",
     "text": [
      "what does the guys do ?\n",
      "what does the guy do ?\n"
     ]
    },
    {
     "data": {
      "text/plain": [
       "SAYCam LSTM 0     True\n",
       "SAYCam 1-gram     True\n",
       "SAYCam 2-gram     True\n",
       "SAYCam CBOW 0    False\n",
       "Name: 897, dtype: bool"
      ]
     },
     "metadata": {},
     "output_type": "display_data"
    },
    {
     "name": "stdout",
     "output_type": "stream",
     "text": [
      "how does the guys fit in here ?\n",
      "how does the guy fit in here ?\n"
     ]
    },
    {
     "data": {
      "text/plain": [
       "SAYCam LSTM 0     True\n",
       "SAYCam 1-gram     True\n",
       "SAYCam 2-gram     True\n",
       "SAYCam CBOW 0    False\n",
       "Name: 898, dtype: bool"
      ]
     },
     "metadata": {},
     "output_type": "display_data"
    },
    {
     "name": "stdout",
     "output_type": "stream",
     "text": [
      "when does the guys stop working ?\n",
      "when does the guy stop working ?\n"
     ]
    },
    {
     "data": {
      "text/plain": [
       "SAYCam LSTM 0     True\n",
       "SAYCam 1-gram     True\n",
       "SAYCam 2-gram     True\n",
       "SAYCam CBOW 0    False\n",
       "Name: 900, dtype: bool"
      ]
     },
     "metadata": {},
     "output_type": "display_data"
    },
    {
     "name": "stdout",
     "output_type": "stream",
     "text": [
      "when does the guys start ?\n",
      "when does the guy start ?\n"
     ]
    },
    {
     "data": {
      "text/plain": [
       "SAYCam LSTM 0     True\n",
       "SAYCam 1-gram     True\n",
       "SAYCam 2-gram     True\n",
       "SAYCam CBOW 0    False\n",
       "Name: 901, dtype: bool"
      ]
     },
     "metadata": {},
     "output_type": "display_data"
    },
    {
     "name": "stdout",
     "output_type": "stream",
     "text": [
      "where do the guy go ?\n",
      "where do the guys go ?\n"
     ]
    },
    {
     "data": {
      "text/plain": [
       "SAYCam LSTM 0     True\n",
       "SAYCam 1-gram    False\n",
       "SAYCam 2-gram    False\n",
       "SAYCam CBOW 0     True\n",
       "Name: 902, dtype: bool"
      ]
     },
     "metadata": {},
     "output_type": "display_data"
    },
    {
     "name": "stdout",
     "output_type": "stream",
     "text": [
      "what do the guy do ?\n",
      "what do the guys do ?\n"
     ]
    },
    {
     "data": {
      "text/plain": [
       "SAYCam LSTM 0     True\n",
       "SAYCam 1-gram    False\n",
       "SAYCam 2-gram    False\n",
       "SAYCam CBOW 0     True\n",
       "Name: 903, dtype: bool"
      ]
     },
     "metadata": {},
     "output_type": "display_data"
    },
    {
     "name": "stdout",
     "output_type": "stream",
     "text": [
      "when do the guy stop working ?\n",
      "when do the guys stop working ?\n"
     ]
    },
    {
     "data": {
      "text/plain": [
       "SAYCam LSTM 0     True\n",
       "SAYCam 1-gram    False\n",
       "SAYCam 2-gram    False\n",
       "SAYCam CBOW 0     True\n",
       "Name: 906, dtype: bool"
      ]
     },
     "metadata": {},
     "output_type": "display_data"
    },
    {
     "name": "stdout",
     "output_type": "stream",
     "text": [
      "when do the guy start ?\n",
      "when do the guys start ?\n"
     ]
    },
    {
     "data": {
      "text/plain": [
       "SAYCam LSTM 0     True\n",
       "SAYCam 1-gram    False\n",
       "SAYCam 2-gram    False\n",
       "SAYCam CBOW 0     True\n",
       "Name: 907, dtype: bool"
      ]
     },
     "metadata": {},
     "output_type": "display_data"
    },
    {
     "name": "stdout",
     "output_type": "stream",
     "text": [
      "comparing ('subject-verb agreement', 'in simple question') (836 / 2000.0 = 41.80%):\n"
     ]
    },
    {
     "data": {
      "text/plain": [
       "SAYCam LSTM               0.614434\n",
       "SAYCam LSTM Captioning    0.605662\n",
       "SAYCam CBOW               0.424242\n",
       "SAYCam unigram            0.500000\n",
       "SAYCam bigram             0.492823\n",
       "AO-CHILDES Transformer    0.964115\n",
       "Name: (subject-verb agreement, in simple question), dtype: float64"
      ]
     },
     "metadata": {},
     "output_type": "display_data"
    },
    {
     "name": "stdout",
     "output_type": "stream",
     "text": [
      "was the stars something you like ?\n",
      "was the star something you like ?\n"
     ]
    },
    {
     "data": {
      "text/plain": [
       "SAYCam LSTM 0     True\n",
       "SAYCam 1-gram     True\n",
       "SAYCam 2-gram    False\n",
       "SAYCam CBOW 0     True\n",
       "Name: 124, dtype: bool"
      ]
     },
     "metadata": {},
     "output_type": "display_data"
    },
    {
     "name": "stdout",
     "output_type": "stream",
     "text": [
      "was the stars a good idea ?\n",
      "was the star a good idea ?\n"
     ]
    },
    {
     "data": {
      "text/plain": [
       "SAYCam LSTM 0     True\n",
       "SAYCam 1-gram     True\n",
       "SAYCam 2-gram    False\n",
       "SAYCam CBOW 0     True\n",
       "Name: 125, dtype: bool"
      ]
     },
     "metadata": {},
     "output_type": "display_data"
    },
    {
     "name": "stdout",
     "output_type": "stream",
     "text": [
      "where is the babies ?\n",
      "where is the baby ?\n"
     ]
    },
    {
     "data": {
      "text/plain": [
       "SAYCam LSTM 0     True\n",
       "SAYCam 1-gram     True\n",
       "SAYCam 2-gram     True\n",
       "SAYCam CBOW 0    False\n",
       "Name: 140, dtype: bool"
      ]
     },
     "metadata": {},
     "output_type": "display_data"
    },
    {
     "name": "stdout",
     "output_type": "stream",
     "text": [
      "what is the babies ?\n",
      "what is the baby ?\n"
     ]
    },
    {
     "data": {
      "text/plain": [
       "SAYCam LSTM 0     True\n",
       "SAYCam 1-gram     True\n",
       "SAYCam 2-gram     True\n",
       "SAYCam CBOW 0    False\n",
       "Name: 141, dtype: bool"
      ]
     },
     "metadata": {},
     "output_type": "display_data"
    },
    {
     "name": "stdout",
     "output_type": "stream",
     "text": [
      "what color is the babies ?\n",
      "what color is the baby ?\n"
     ]
    },
    {
     "data": {
      "text/plain": [
       "SAYCam LSTM 0     True\n",
       "SAYCam 1-gram     True\n",
       "SAYCam 2-gram     True\n",
       "SAYCam CBOW 0    False\n",
       "Name: 142, dtype: bool"
      ]
     },
     "metadata": {},
     "output_type": "display_data"
    },
    {
     "name": "stdout",
     "output_type": "stream",
     "text": [
      "is the babies not finished ?\n",
      "is the baby not finished ?\n"
     ]
    },
    {
     "data": {
      "text/plain": [
       "SAYCam LSTM 0     True\n",
       "SAYCam 1-gram     True\n",
       "SAYCam 2-gram     True\n",
       "SAYCam CBOW 0    False\n",
       "Name: 143, dtype: bool"
      ]
     },
     "metadata": {},
     "output_type": "display_data"
    },
    {
     "name": "stdout",
     "output_type": "stream",
     "text": [
      "is the babies something you like ?\n",
      "is the baby something you like ?\n"
     ]
    },
    {
     "data": {
      "text/plain": [
       "SAYCam LSTM 0     True\n",
       "SAYCam 1-gram     True\n",
       "SAYCam 2-gram     True\n",
       "SAYCam CBOW 0    False\n",
       "Name: 145, dtype: bool"
      ]
     },
     "metadata": {},
     "output_type": "display_data"
    },
    {
     "name": "stdout",
     "output_type": "stream",
     "text": [
      "where was the babies ?\n",
      "where was the baby ?\n"
     ]
    },
    {
     "data": {
      "text/plain": [
       "SAYCam LSTM 0     True\n",
       "SAYCam 1-gram     True\n",
       "SAYCam 2-gram     True\n",
       "SAYCam CBOW 0    False\n",
       "Name: 147, dtype: bool"
      ]
     },
     "metadata": {},
     "output_type": "display_data"
    },
    {
     "name": "stdout",
     "output_type": "stream",
     "text": [
      "what was the babies ?\n",
      "what was the baby ?\n"
     ]
    },
    {
     "data": {
      "text/plain": [
       "SAYCam LSTM 0     True\n",
       "SAYCam 1-gram     True\n",
       "SAYCam 2-gram     True\n",
       "SAYCam CBOW 0    False\n",
       "Name: 148, dtype: bool"
      ]
     },
     "metadata": {},
     "output_type": "display_data"
    },
    {
     "name": "stdout",
     "output_type": "stream",
     "text": [
      "what color was the babies ?\n",
      "what color was the baby ?\n"
     ]
    },
    {
     "data": {
      "text/plain": [
       "SAYCam LSTM 0     True\n",
       "SAYCam 1-gram     True\n",
       "SAYCam 2-gram     True\n",
       "SAYCam CBOW 0    False\n",
       "Name: 149, dtype: bool"
      ]
     },
     "metadata": {},
     "output_type": "display_data"
    },
    {
     "name": "stdout",
     "output_type": "stream",
     "text": [
      "was the babies not finished ?\n",
      "was the baby not finished ?\n"
     ]
    },
    {
     "data": {
      "text/plain": [
       "SAYCam LSTM 0     True\n",
       "SAYCam 1-gram     True\n",
       "SAYCam 2-gram     True\n",
       "SAYCam CBOW 0    False\n",
       "Name: 150, dtype: bool"
      ]
     },
     "metadata": {},
     "output_type": "display_data"
    },
    {
     "name": "stdout",
     "output_type": "stream",
     "text": [
      "was the babies where it should be ?\n",
      "was the baby where it should be ?\n"
     ]
    },
    {
     "data": {
      "text/plain": [
       "SAYCam LSTM 0     True\n",
       "SAYCam 1-gram     True\n",
       "SAYCam 2-gram     True\n",
       "SAYCam CBOW 0    False\n",
       "Name: 151, dtype: bool"
      ]
     },
     "metadata": {},
     "output_type": "display_data"
    },
    {
     "name": "stdout",
     "output_type": "stream",
     "text": [
      "was the babies something you like ?\n",
      "was the baby something you like ?\n"
     ]
    },
    {
     "data": {
      "text/plain": [
       "SAYCam LSTM 0     True\n",
       "SAYCam 1-gram     True\n",
       "SAYCam 2-gram     True\n",
       "SAYCam CBOW 0    False\n",
       "Name: 152, dtype: bool"
      ]
     },
     "metadata": {},
     "output_type": "display_data"
    },
    {
     "name": "stdout",
     "output_type": "stream",
     "text": [
      "what are the baby ?\n",
      "what are the babies ?\n"
     ]
    },
    {
     "data": {
      "text/plain": [
       "SAYCam LSTM 0     True\n",
       "SAYCam 1-gram    False\n",
       "SAYCam 2-gram    False\n",
       "SAYCam CBOW 0    False\n",
       "Name: 155, dtype: bool"
      ]
     },
     "metadata": {},
     "output_type": "display_data"
    },
    {
     "name": "stdout",
     "output_type": "stream",
     "text": [
      "what color are the baby ?\n",
      "what color are the babies ?\n"
     ]
    },
    {
     "data": {
      "text/plain": [
       "SAYCam LSTM 0     True\n",
       "SAYCam 1-gram    False\n",
       "SAYCam 2-gram    False\n",
       "SAYCam CBOW 0    False\n",
       "Name: 156, dtype: bool"
      ]
     },
     "metadata": {},
     "output_type": "display_data"
    },
    {
     "name": "stdout",
     "output_type": "stream",
     "text": [
      "are the baby where they should be ?\n",
      "are the babies where they should be ?\n"
     ]
    },
    {
     "data": {
      "text/plain": [
       "SAYCam LSTM 0     True\n",
       "SAYCam 1-gram    False\n",
       "SAYCam 2-gram    False\n",
       "SAYCam CBOW 0    False\n",
       "Name: 158, dtype: bool"
      ]
     },
     "metadata": {},
     "output_type": "display_data"
    },
    {
     "name": "stdout",
     "output_type": "stream",
     "text": [
      "were the baby where they should be ?\n",
      "were the babies where they should be ?\n"
     ]
    },
    {
     "data": {
      "text/plain": [
       "SAYCam LSTM 0     True\n",
       "SAYCam 1-gram    False\n",
       "SAYCam 2-gram    False\n",
       "SAYCam CBOW 0    False\n",
       "Name: 165, dtype: bool"
      ]
     },
     "metadata": {},
     "output_type": "display_data"
    },
    {
     "name": "stdout",
     "output_type": "stream",
     "text": [
      "is the guys a good idea ?\n",
      "is the guy a good idea ?\n"
     ]
    },
    {
     "data": {
      "text/plain": [
       "SAYCam LSTM 0     True\n",
       "SAYCam 1-gram     True\n",
       "SAYCam 2-gram     True\n",
       "SAYCam CBOW 0    False\n",
       "Name: 202, dtype: bool"
      ]
     },
     "metadata": {},
     "output_type": "display_data"
    },
    {
     "name": "stdout",
     "output_type": "stream",
     "text": [
      "was the guys not yellow ?\n",
      "was the guy not yellow ?\n"
     ]
    },
    {
     "data": {
      "text/plain": [
       "SAYCam LSTM 0     True\n",
       "SAYCam 1-gram     True\n",
       "SAYCam 2-gram     True\n",
       "SAYCam CBOW 0    False\n",
       "Name: 206, dtype: bool"
      ]
     },
     "metadata": {},
     "output_type": "display_data"
    },
    {
     "name": "stdout",
     "output_type": "stream",
     "text": [
      "are the guy not yellow ?\n",
      "are the guys not yellow ?\n"
     ]
    },
    {
     "data": {
      "text/plain": [
       "SAYCam LSTM 0     True\n",
       "SAYCam 1-gram    False\n",
       "SAYCam 2-gram    False\n",
       "SAYCam CBOW 0     True\n",
       "Name: 213, dtype: bool"
      ]
     },
     "metadata": {},
     "output_type": "display_data"
    },
    {
     "name": "stdout",
     "output_type": "stream",
     "text": [
      "were the guy not yellow ?\n",
      "were the guys not yellow ?\n"
     ]
    },
    {
     "data": {
      "text/plain": [
       "SAYCam LSTM 0     True\n",
       "SAYCam 1-gram    False\n",
       "SAYCam 2-gram    False\n",
       "SAYCam CBOW 0     True\n",
       "Name: 220, dtype: bool"
      ]
     },
     "metadata": {},
     "output_type": "display_data"
    },
    {
     "name": "stdout",
     "output_type": "stream",
     "text": [
      "where is the minutes ?\n",
      "where is the minute ?\n"
     ]
    },
    {
     "data": {
      "text/plain": [
       "SAYCam LSTM 0     True\n",
       "SAYCam 1-gram    False\n",
       "SAYCam 2-gram     True\n",
       "SAYCam CBOW 0     True\n",
       "Name: 224, dtype: bool"
      ]
     },
     "metadata": {},
     "output_type": "display_data"
    },
    {
     "name": "stdout",
     "output_type": "stream",
     "text": [
      "what is the minutes ?\n",
      "what is the minute ?\n"
     ]
    },
    {
     "data": {
      "text/plain": [
       "SAYCam LSTM 0     True\n",
       "SAYCam 1-gram    False\n",
       "SAYCam 2-gram     True\n",
       "SAYCam CBOW 0     True\n",
       "Name: 225, dtype: bool"
      ]
     },
     "metadata": {},
     "output_type": "display_data"
    },
    {
     "name": "stdout",
     "output_type": "stream",
     "text": [
      "what color is the minutes ?\n",
      "what color is the minute ?\n"
     ]
    },
    {
     "data": {
      "text/plain": [
       "SAYCam LSTM 0     True\n",
       "SAYCam 1-gram    False\n",
       "SAYCam 2-gram     True\n",
       "SAYCam CBOW 0     True\n",
       "Name: 226, dtype: bool"
      ]
     },
     "metadata": {},
     "output_type": "display_data"
    },
    {
     "name": "stdout",
     "output_type": "stream",
     "text": [
      "is the minutes not extra ?\n",
      "is the minute not extra ?\n"
     ]
    },
    {
     "data": {
      "text/plain": [
       "SAYCam LSTM 0     True\n",
       "SAYCam 1-gram    False\n",
       "SAYCam 2-gram    False\n",
       "SAYCam CBOW 0     True\n",
       "Name: 227, dtype: bool"
      ]
     },
     "metadata": {},
     "output_type": "display_data"
    },
    {
     "name": "stdout",
     "output_type": "stream",
     "text": [
      "is the minutes something you like ?\n",
      "is the minute something you like ?\n"
     ]
    },
    {
     "data": {
      "text/plain": [
       "SAYCam LSTM 0     True\n",
       "SAYCam 1-gram    False\n",
       "SAYCam 2-gram    False\n",
       "SAYCam CBOW 0     True\n",
       "Name: 229, dtype: bool"
      ]
     },
     "metadata": {},
     "output_type": "display_data"
    },
    {
     "name": "stdout",
     "output_type": "stream",
     "text": [
      "is the minutes a good idea ?\n",
      "is the minute a good idea ?\n"
     ]
    },
    {
     "data": {
      "text/plain": [
       "SAYCam LSTM 0     True\n",
       "SAYCam 1-gram    False\n",
       "SAYCam 2-gram    False\n",
       "SAYCam CBOW 0     True\n",
       "Name: 230, dtype: bool"
      ]
     },
     "metadata": {},
     "output_type": "display_data"
    },
    {
     "name": "stdout",
     "output_type": "stream",
     "text": [
      "where was the minutes ?\n",
      "where was the minute ?\n"
     ]
    },
    {
     "data": {
      "text/plain": [
       "SAYCam LSTM 0     True\n",
       "SAYCam 1-gram    False\n",
       "SAYCam 2-gram     True\n",
       "SAYCam CBOW 0     True\n",
       "Name: 231, dtype: bool"
      ]
     },
     "metadata": {},
     "output_type": "display_data"
    },
    {
     "name": "stdout",
     "output_type": "stream",
     "text": [
      "what color was the minutes ?\n",
      "what color was the minute ?\n"
     ]
    },
    {
     "data": {
      "text/plain": [
       "SAYCam LSTM 0     True\n",
       "SAYCam 1-gram    False\n",
       "SAYCam 2-gram     True\n",
       "SAYCam CBOW 0     True\n",
       "Name: 233, dtype: bool"
      ]
     },
     "metadata": {},
     "output_type": "display_data"
    },
    {
     "name": "stdout",
     "output_type": "stream",
     "text": [
      "was the minutes not extra ?\n",
      "was the minute not extra ?\n"
     ]
    },
    {
     "data": {
      "text/plain": [
       "SAYCam LSTM 0     True\n",
       "SAYCam 1-gram    False\n",
       "SAYCam 2-gram    False\n",
       "SAYCam CBOW 0     True\n",
       "Name: 234, dtype: bool"
      ]
     },
     "metadata": {},
     "output_type": "display_data"
    },
    {
     "name": "stdout",
     "output_type": "stream",
     "text": [
      "was the minutes something you like ?\n",
      "was the minute something you like ?\n"
     ]
    },
    {
     "data": {
      "text/plain": [
       "SAYCam LSTM 0     True\n",
       "SAYCam 1-gram    False\n",
       "SAYCam 2-gram    False\n",
       "SAYCam CBOW 0     True\n",
       "Name: 236, dtype: bool"
      ]
     },
     "metadata": {},
     "output_type": "display_data"
    },
    {
     "name": "stdout",
     "output_type": "stream",
     "text": [
      "was the minutes a good idea ?\n",
      "was the minute a good idea ?\n"
     ]
    },
    {
     "data": {
      "text/plain": [
       "SAYCam LSTM 0     True\n",
       "SAYCam 1-gram    False\n",
       "SAYCam 2-gram    False\n",
       "SAYCam CBOW 0     True\n",
       "Name: 237, dtype: bool"
      ]
     },
     "metadata": {},
     "output_type": "display_data"
    },
    {
     "name": "stdout",
     "output_type": "stream",
     "text": [
      "where are the minute ?\n",
      "where are the minutes ?\n"
     ]
    },
    {
     "data": {
      "text/plain": [
       "SAYCam LSTM 0     True\n",
       "SAYCam 1-gram     True\n",
       "SAYCam 2-gram    False\n",
       "SAYCam CBOW 0    False\n",
       "Name: 238, dtype: bool"
      ]
     },
     "metadata": {},
     "output_type": "display_data"
    },
    {
     "name": "stdout",
     "output_type": "stream",
     "text": [
      "what are the minute ?\n",
      "what are the minutes ?\n"
     ]
    },
    {
     "data": {
      "text/plain": [
       "SAYCam LSTM 0     True\n",
       "SAYCam 1-gram     True\n",
       "SAYCam 2-gram    False\n",
       "SAYCam CBOW 0    False\n",
       "Name: 239, dtype: bool"
      ]
     },
     "metadata": {},
     "output_type": "display_data"
    },
    {
     "name": "stdout",
     "output_type": "stream",
     "text": [
      "what color are the minute ?\n",
      "what color are the minutes ?\n"
     ]
    },
    {
     "data": {
      "text/plain": [
       "SAYCam LSTM 0     True\n",
       "SAYCam 1-gram     True\n",
       "SAYCam 2-gram    False\n",
       "SAYCam CBOW 0    False\n",
       "Name: 240, dtype: bool"
      ]
     },
     "metadata": {},
     "output_type": "display_data"
    },
    {
     "name": "stdout",
     "output_type": "stream",
     "text": [
      "are the minute where they should be ?\n",
      "are the minutes where they should be ?\n"
     ]
    },
    {
     "data": {
      "text/plain": [
       "SAYCam LSTM 0     True\n",
       "SAYCam 1-gram     True\n",
       "SAYCam 2-gram     True\n",
       "SAYCam CBOW 0    False\n",
       "Name: 242, dtype: bool"
      ]
     },
     "metadata": {},
     "output_type": "display_data"
    },
    {
     "name": "stdout",
     "output_type": "stream",
     "text": [
      "are the minute a good idea ?\n",
      "are the minutes a good idea ?\n"
     ]
    },
    {
     "data": {
      "text/plain": [
       "SAYCam LSTM 0     True\n",
       "SAYCam 1-gram     True\n",
       "SAYCam 2-gram     True\n",
       "SAYCam CBOW 0    False\n",
       "Name: 244, dtype: bool"
      ]
     },
     "metadata": {},
     "output_type": "display_data"
    },
    {
     "name": "stdout",
     "output_type": "stream",
     "text": [
      "where were the minute ?\n",
      "where were the minutes ?\n"
     ]
    },
    {
     "data": {
      "text/plain": [
       "SAYCam LSTM 0     True\n",
       "SAYCam 1-gram     True\n",
       "SAYCam 2-gram    False\n",
       "SAYCam CBOW 0    False\n",
       "Name: 245, dtype: bool"
      ]
     },
     "metadata": {},
     "output_type": "display_data"
    },
    {
     "name": "stdout",
     "output_type": "stream",
     "text": [
      "what were the minute ?\n",
      "what were the minutes ?\n"
     ]
    },
    {
     "data": {
      "text/plain": [
       "SAYCam LSTM 0     True\n",
       "SAYCam 1-gram     True\n",
       "SAYCam 2-gram    False\n",
       "SAYCam CBOW 0    False\n",
       "Name: 246, dtype: bool"
      ]
     },
     "metadata": {},
     "output_type": "display_data"
    },
    {
     "name": "stdout",
     "output_type": "stream",
     "text": [
      "what color were the minute ?\n",
      "what color were the minutes ?\n"
     ]
    },
    {
     "data": {
      "text/plain": [
       "SAYCam LSTM 0     True\n",
       "SAYCam 1-gram     True\n",
       "SAYCam 2-gram    False\n",
       "SAYCam CBOW 0    False\n",
       "Name: 247, dtype: bool"
      ]
     },
     "metadata": {},
     "output_type": "display_data"
    },
    {
     "name": "stdout",
     "output_type": "stream",
     "text": [
      "were the minute not extra ?\n",
      "were the minutes not extra ?\n"
     ]
    },
    {
     "data": {
      "text/plain": [
       "SAYCam LSTM 0     True\n",
       "SAYCam 1-gram     True\n",
       "SAYCam 2-gram     True\n",
       "SAYCam CBOW 0    False\n",
       "Name: 248, dtype: bool"
      ]
     },
     "metadata": {},
     "output_type": "display_data"
    },
    {
     "name": "stdout",
     "output_type": "stream",
     "text": [
      "were the minute where they should be ?\n",
      "were the minutes where they should be ?\n"
     ]
    },
    {
     "data": {
      "text/plain": [
       "SAYCam LSTM 0     True\n",
       "SAYCam 1-gram     True\n",
       "SAYCam 2-gram     True\n",
       "SAYCam CBOW 0    False\n",
       "Name: 249, dtype: bool"
      ]
     },
     "metadata": {},
     "output_type": "display_data"
    },
    {
     "name": "stdout",
     "output_type": "stream",
     "text": [
      "were the minute something you like ?\n",
      "were the minutes something you like ?\n"
     ]
    },
    {
     "data": {
      "text/plain": [
       "SAYCam LSTM 0     True\n",
       "SAYCam 1-gram     True\n",
       "SAYCam 2-gram     True\n",
       "SAYCam CBOW 0    False\n",
       "Name: 250, dtype: bool"
      ]
     },
     "metadata": {},
     "output_type": "display_data"
    },
    {
     "name": "stdout",
     "output_type": "stream",
     "text": [
      "were the minute a good idea ?\n",
      "were the minutes a good idea ?\n"
     ]
    },
    {
     "data": {
      "text/plain": [
       "SAYCam LSTM 0     True\n",
       "SAYCam 1-gram     True\n",
       "SAYCam 2-gram     True\n",
       "SAYCam CBOW 0    False\n",
       "Name: 251, dtype: bool"
      ]
     },
     "metadata": {},
     "output_type": "display_data"
    },
    {
     "name": "stdout",
     "output_type": "stream",
     "text": [
      "is the songs not good ?\n",
      "is the song not good ?\n"
     ]
    },
    {
     "data": {
      "text/plain": [
       "SAYCam LSTM 0     True\n",
       "SAYCam 1-gram     True\n",
       "SAYCam 2-gram     True\n",
       "SAYCam CBOW 0    False\n",
       "Name: 252, dtype: bool"
      ]
     },
     "metadata": {},
     "output_type": "display_data"
    },
    {
     "name": "stdout",
     "output_type": "stream",
     "text": [
      "was the songs not good ?\n",
      "was the song not good ?\n"
     ]
    },
    {
     "data": {
      "text/plain": [
       "SAYCam LSTM 0     True\n",
       "SAYCam 1-gram     True\n",
       "SAYCam 2-gram     True\n",
       "SAYCam CBOW 0    False\n",
       "Name: 253, dtype: bool"
      ]
     },
     "metadata": {},
     "output_type": "display_data"
    },
    {
     "name": "stdout",
     "output_type": "stream",
     "text": [
      "is the bits not good ?\n",
      "is the bit not good ?\n"
     ]
    },
    {
     "data": {
      "text/plain": [
       "SAYCam LSTM 0     True\n",
       "SAYCam 1-gram     True\n",
       "SAYCam 2-gram     True\n",
       "SAYCam CBOW 0    False\n",
       "Name: 259, dtype: bool"
      ]
     },
     "metadata": {},
     "output_type": "display_data"
    },
    {
     "name": "stdout",
     "output_type": "stream",
     "text": [
      "was the bits not good ?\n",
      "was the bit not good ?\n"
     ]
    },
    {
     "data": {
      "text/plain": [
       "SAYCam LSTM 0     True\n",
       "SAYCam 1-gram     True\n",
       "SAYCam 2-gram     True\n",
       "SAYCam CBOW 0    False\n",
       "Name: 266, dtype: bool"
      ]
     },
     "metadata": {},
     "output_type": "display_data"
    },
    {
     "name": "stdout",
     "output_type": "stream",
     "text": [
      "was the bits where it should be ?\n",
      "was the bit where it should be ?\n"
     ]
    },
    {
     "data": {
      "text/plain": [
       "SAYCam LSTM 0     True\n",
       "SAYCam 1-gram     True\n",
       "SAYCam 2-gram     True\n",
       "SAYCam CBOW 0    False\n",
       "Name: 267, dtype: bool"
      ]
     },
     "metadata": {},
     "output_type": "display_data"
    },
    {
     "name": "stdout",
     "output_type": "stream",
     "text": [
      "was the bits something you like ?\n",
      "was the bit something you like ?\n"
     ]
    },
    {
     "data": {
      "text/plain": [
       "SAYCam LSTM 0     True\n",
       "SAYCam 1-gram     True\n",
       "SAYCam 2-gram     True\n",
       "SAYCam CBOW 0    False\n",
       "Name: 268, dtype: bool"
      ]
     },
     "metadata": {},
     "output_type": "display_data"
    },
    {
     "name": "stdout",
     "output_type": "stream",
     "text": [
      "what are the bit ?\n",
      "what are the bits ?\n"
     ]
    },
    {
     "data": {
      "text/plain": [
       "SAYCam LSTM 0     True\n",
       "SAYCam 1-gram    False\n",
       "SAYCam 2-gram    False\n",
       "SAYCam CBOW 0    False\n",
       "Name: 271, dtype: bool"
      ]
     },
     "metadata": {},
     "output_type": "display_data"
    },
    {
     "name": "stdout",
     "output_type": "stream",
     "text": [
      "what color are the bit ?\n",
      "what color are the bits ?\n"
     ]
    },
    {
     "data": {
      "text/plain": [
       "SAYCam LSTM 0     True\n",
       "SAYCam 1-gram    False\n",
       "SAYCam 2-gram    False\n",
       "SAYCam CBOW 0    False\n",
       "Name: 272, dtype: bool"
      ]
     },
     "metadata": {},
     "output_type": "display_data"
    },
    {
     "name": "stdout",
     "output_type": "stream",
     "text": [
      "where is the toys ?\n",
      "where is the toy ?\n"
     ]
    },
    {
     "data": {
      "text/plain": [
       "SAYCam LSTM 0     True\n",
       "SAYCam 1-gram    False\n",
       "SAYCam 2-gram    False\n",
       "SAYCam CBOW 0     True\n",
       "Name: 284, dtype: bool"
      ]
     },
     "metadata": {},
     "output_type": "display_data"
    },
    {
     "name": "stdout",
     "output_type": "stream",
     "text": [
      "what is the toys ?\n",
      "what is the toy ?\n"
     ]
    },
    {
     "data": {
      "text/plain": [
       "SAYCam LSTM 0     True\n",
       "SAYCam 1-gram    False\n",
       "SAYCam 2-gram    False\n",
       "SAYCam CBOW 0     True\n",
       "Name: 285, dtype: bool"
      ]
     },
     "metadata": {},
     "output_type": "display_data"
    },
    {
     "name": "stdout",
     "output_type": "stream",
     "text": [
      "what color is the toys ?\n",
      "what color is the toy ?\n"
     ]
    },
    {
     "data": {
      "text/plain": [
       "SAYCam LSTM 0     True\n",
       "SAYCam 1-gram    False\n",
       "SAYCam 2-gram    False\n",
       "SAYCam CBOW 0     True\n",
       "Name: 286, dtype: bool"
      ]
     },
     "metadata": {},
     "output_type": "display_data"
    },
    {
     "name": "stdout",
     "output_type": "stream",
     "text": [
      "is the toys where it should be ?\n",
      "is the toy where it should be ?\n"
     ]
    },
    {
     "data": {
      "text/plain": [
       "SAYCam LSTM 0     True\n",
       "SAYCam 1-gram    False\n",
       "SAYCam 2-gram     True\n",
       "SAYCam CBOW 0    False\n",
       "Name: 288, dtype: bool"
      ]
     },
     "metadata": {},
     "output_type": "display_data"
    },
    {
     "name": "stdout",
     "output_type": "stream",
     "text": [
      "is the toys a good idea ?\n",
      "is the toy a good idea ?\n"
     ]
    },
    {
     "data": {
      "text/plain": [
       "SAYCam LSTM 0     True\n",
       "SAYCam 1-gram    False\n",
       "SAYCam 2-gram     True\n",
       "SAYCam CBOW 0     True\n",
       "Name: 290, dtype: bool"
      ]
     },
     "metadata": {},
     "output_type": "display_data"
    },
    {
     "name": "stdout",
     "output_type": "stream",
     "text": [
      "where was the toys ?\n",
      "where was the toy ?\n"
     ]
    },
    {
     "data": {
      "text/plain": [
       "SAYCam LSTM 0     True\n",
       "SAYCam 1-gram    False\n",
       "SAYCam 2-gram    False\n",
       "SAYCam CBOW 0    False\n",
       "Name: 291, dtype: bool"
      ]
     },
     "metadata": {},
     "output_type": "display_data"
    },
    {
     "name": "stdout",
     "output_type": "stream",
     "text": [
      "what was the toys ?\n",
      "what was the toy ?\n"
     ]
    },
    {
     "data": {
      "text/plain": [
       "SAYCam LSTM 0     True\n",
       "SAYCam 1-gram    False\n",
       "SAYCam 2-gram    False\n",
       "SAYCam CBOW 0    False\n",
       "Name: 292, dtype: bool"
      ]
     },
     "metadata": {},
     "output_type": "display_data"
    },
    {
     "name": "stdout",
     "output_type": "stream",
     "text": [
      "was the toys where it should be ?\n",
      "was the toy where it should be ?\n"
     ]
    },
    {
     "data": {
      "text/plain": [
       "SAYCam LSTM 0     True\n",
       "SAYCam 1-gram    False\n",
       "SAYCam 2-gram     True\n",
       "SAYCam CBOW 0    False\n",
       "Name: 295, dtype: bool"
      ]
     },
     "metadata": {},
     "output_type": "display_data"
    },
    {
     "name": "stdout",
     "output_type": "stream",
     "text": [
      "was the toys something you like ?\n",
      "was the toy something you like ?\n"
     ]
    },
    {
     "data": {
      "text/plain": [
       "SAYCam LSTM 0     True\n",
       "SAYCam 1-gram    False\n",
       "SAYCam 2-gram     True\n",
       "SAYCam CBOW 0    False\n",
       "Name: 296, dtype: bool"
      ]
     },
     "metadata": {},
     "output_type": "display_data"
    },
    {
     "name": "stdout",
     "output_type": "stream",
     "text": [
      "was the toys a good idea ?\n",
      "was the toy a good idea ?\n"
     ]
    },
    {
     "data": {
      "text/plain": [
       "SAYCam LSTM 0     True\n",
       "SAYCam 1-gram    False\n",
       "SAYCam 2-gram     True\n",
       "SAYCam CBOW 0     True\n",
       "Name: 297, dtype: bool"
      ]
     },
     "metadata": {},
     "output_type": "display_data"
    },
    {
     "name": "stdout",
     "output_type": "stream",
     "text": [
      "where are the toy ?\n",
      "where are the toys ?\n"
     ]
    },
    {
     "data": {
      "text/plain": [
       "SAYCam LSTM 0     True\n",
       "SAYCam 1-gram     True\n",
       "SAYCam 2-gram     True\n",
       "SAYCam CBOW 0    False\n",
       "Name: 298, dtype: bool"
      ]
     },
     "metadata": {},
     "output_type": "display_data"
    },
    {
     "name": "stdout",
     "output_type": "stream",
     "text": [
      "what are the toy ?\n",
      "what are the toys ?\n"
     ]
    },
    {
     "data": {
      "text/plain": [
       "SAYCam LSTM 0     True\n",
       "SAYCam 1-gram     True\n",
       "SAYCam 2-gram     True\n",
       "SAYCam CBOW 0    False\n",
       "Name: 299, dtype: bool"
      ]
     },
     "metadata": {},
     "output_type": "display_data"
    },
    {
     "name": "stdout",
     "output_type": "stream",
     "text": [
      "what color are the toy ?\n",
      "what color are the toys ?\n"
     ]
    },
    {
     "data": {
      "text/plain": [
       "SAYCam LSTM 0     True\n",
       "SAYCam 1-gram     True\n",
       "SAYCam 2-gram     True\n",
       "SAYCam CBOW 0    False\n",
       "Name: 300, dtype: bool"
      ]
     },
     "metadata": {},
     "output_type": "display_data"
    },
    {
     "name": "stdout",
     "output_type": "stream",
     "text": [
      "are the toy something you like ?\n",
      "are the toys something you like ?\n"
     ]
    },
    {
     "data": {
      "text/plain": [
       "SAYCam LSTM 0     True\n",
       "SAYCam 1-gram     True\n",
       "SAYCam 2-gram    False\n",
       "SAYCam CBOW 0    False\n",
       "Name: 303, dtype: bool"
      ]
     },
     "metadata": {},
     "output_type": "display_data"
    },
    {
     "name": "stdout",
     "output_type": "stream",
     "text": [
      "are the toy a good idea ?\n",
      "are the toys a good idea ?\n"
     ]
    },
    {
     "data": {
      "text/plain": [
       "SAYCam LSTM 0     True\n",
       "SAYCam 1-gram     True\n",
       "SAYCam 2-gram    False\n",
       "SAYCam CBOW 0    False\n",
       "Name: 304, dtype: bool"
      ]
     },
     "metadata": {},
     "output_type": "display_data"
    },
    {
     "name": "stdout",
     "output_type": "stream",
     "text": [
      "where were the toy ?\n",
      "where were the toys ?\n"
     ]
    },
    {
     "data": {
      "text/plain": [
       "SAYCam LSTM 0     True\n",
       "SAYCam 1-gram     True\n",
       "SAYCam 2-gram     True\n",
       "SAYCam CBOW 0    False\n",
       "Name: 305, dtype: bool"
      ]
     },
     "metadata": {},
     "output_type": "display_data"
    },
    {
     "name": "stdout",
     "output_type": "stream",
     "text": [
      "what were the toy ?\n",
      "what were the toys ?\n"
     ]
    },
    {
     "data": {
      "text/plain": [
       "SAYCam LSTM 0     True\n",
       "SAYCam 1-gram     True\n",
       "SAYCam 2-gram     True\n",
       "SAYCam CBOW 0    False\n",
       "Name: 306, dtype: bool"
      ]
     },
     "metadata": {},
     "output_type": "display_data"
    },
    {
     "name": "stdout",
     "output_type": "stream",
     "text": [
      "what color were the toy ?\n",
      "what color were the toys ?\n"
     ]
    },
    {
     "data": {
      "text/plain": [
       "SAYCam LSTM 0     True\n",
       "SAYCam 1-gram     True\n",
       "SAYCam 2-gram     True\n",
       "SAYCam CBOW 0    False\n",
       "Name: 307, dtype: bool"
      ]
     },
     "metadata": {},
     "output_type": "display_data"
    },
    {
     "name": "stdout",
     "output_type": "stream",
     "text": [
      "were the toy something you like ?\n",
      "were the toys something you like ?\n"
     ]
    },
    {
     "data": {
      "text/plain": [
       "SAYCam LSTM 0     True\n",
       "SAYCam 1-gram     True\n",
       "SAYCam 2-gram    False\n",
       "SAYCam CBOW 0    False\n",
       "Name: 310, dtype: bool"
      ]
     },
     "metadata": {},
     "output_type": "display_data"
    },
    {
     "name": "stdout",
     "output_type": "stream",
     "text": [
      "were the toy a good idea ?\n",
      "were the toys a good idea ?\n"
     ]
    },
    {
     "data": {
      "text/plain": [
       "SAYCam LSTM 0     True\n",
       "SAYCam 1-gram     True\n",
       "SAYCam 2-gram    False\n",
       "SAYCam CBOW 0    False\n",
       "Name: 311, dtype: bool"
      ]
     },
     "metadata": {},
     "output_type": "display_data"
    },
    {
     "name": "stdout",
     "output_type": "stream",
     "text": [
      "what are the whale ?\n",
      "what are the whales ?\n"
     ]
    },
    {
     "data": {
      "text/plain": [
       "SAYCam LSTM 0     True\n",
       "SAYCam 1-gram    False\n",
       "SAYCam 2-gram    False\n",
       "SAYCam CBOW 0    False\n",
       "Name: 327, dtype: bool"
      ]
     },
     "metadata": {},
     "output_type": "display_data"
    },
    {
     "name": "stdout",
     "output_type": "stream",
     "text": [
      "what color are the whale ?\n",
      "what color are the whales ?\n"
     ]
    },
    {
     "data": {
      "text/plain": [
       "SAYCam LSTM 0     True\n",
       "SAYCam 1-gram    False\n",
       "SAYCam 2-gram    False\n",
       "SAYCam CBOW 0    False\n",
       "Name: 328, dtype: bool"
      ]
     },
     "metadata": {},
     "output_type": "display_data"
    },
    {
     "name": "stdout",
     "output_type": "stream",
     "text": [
      "are the whale where they should be ?\n",
      "are the whales where they should be ?\n"
     ]
    },
    {
     "data": {
      "text/plain": [
       "SAYCam LSTM 0     True\n",
       "SAYCam 1-gram    False\n",
       "SAYCam 2-gram    False\n",
       "SAYCam CBOW 0    False\n",
       "Name: 330, dtype: bool"
      ]
     },
     "metadata": {},
     "output_type": "display_data"
    },
    {
     "name": "stdout",
     "output_type": "stream",
     "text": [
      "what were the whale ?\n",
      "what were the whales ?\n"
     ]
    },
    {
     "data": {
      "text/plain": [
       "SAYCam LSTM 0     True\n",
       "SAYCam 1-gram    False\n",
       "SAYCam 2-gram    False\n",
       "SAYCam CBOW 0    False\n",
       "Name: 334, dtype: bool"
      ]
     },
     "metadata": {},
     "output_type": "display_data"
    },
    {
     "name": "stdout",
     "output_type": "stream",
     "text": [
      "were the whale where they should be ?\n",
      "were the whales where they should be ?\n"
     ]
    },
    {
     "data": {
      "text/plain": [
       "SAYCam LSTM 0     True\n",
       "SAYCam 1-gram    False\n",
       "SAYCam 2-gram    False\n",
       "SAYCam CBOW 0    False\n",
       "Name: 337, dtype: bool"
      ]
     },
     "metadata": {},
     "output_type": "display_data"
    },
    {
     "name": "stdout",
     "output_type": "stream",
     "text": [
      "is the horses where it should be ?\n",
      "is the horse where it should be ?\n"
     ]
    },
    {
     "data": {
      "text/plain": [
       "SAYCam LSTM 0     True\n",
       "SAYCam 1-gram     True\n",
       "SAYCam 2-gram     True\n",
       "SAYCam CBOW 0    False\n",
       "Name: 384, dtype: bool"
      ]
     },
     "metadata": {},
     "output_type": "display_data"
    },
    {
     "name": "stdout",
     "output_type": "stream",
     "text": [
      "was the horses where it should be ?\n",
      "was the horse where it should be ?\n"
     ]
    },
    {
     "data": {
      "text/plain": [
       "SAYCam LSTM 0     True\n",
       "SAYCam 1-gram     True\n",
       "SAYCam 2-gram     True\n",
       "SAYCam CBOW 0    False\n",
       "Name: 391, dtype: bool"
      ]
     },
     "metadata": {},
     "output_type": "display_data"
    },
    {
     "name": "stdout",
     "output_type": "stream",
     "text": [
      "was the horses something you like ?\n",
      "was the horse something you like ?\n"
     ]
    },
    {
     "data": {
      "text/plain": [
       "SAYCam LSTM 0     True\n",
       "SAYCam 1-gram     True\n",
       "SAYCam 2-gram     True\n",
       "SAYCam CBOW 0    False\n",
       "Name: 392, dtype: bool"
      ]
     },
     "metadata": {},
     "output_type": "display_data"
    },
    {
     "name": "stdout",
     "output_type": "stream",
     "text": [
      "what color are the horse ?\n",
      "what color are the horses ?\n"
     ]
    },
    {
     "data": {
      "text/plain": [
       "SAYCam LSTM 0     True\n",
       "SAYCam 1-gram    False\n",
       "SAYCam 2-gram    False\n",
       "SAYCam CBOW 0    False\n",
       "Name: 396, dtype: bool"
      ]
     },
     "metadata": {},
     "output_type": "display_data"
    },
    {
     "name": "stdout",
     "output_type": "stream",
     "text": [
      "are the horse where they should be ?\n",
      "are the horses where they should be ?\n"
     ]
    },
    {
     "data": {
      "text/plain": [
       "SAYCam LSTM 0     True\n",
       "SAYCam 1-gram    False\n",
       "SAYCam 2-gram    False\n",
       "SAYCam CBOW 0    False\n",
       "Name: 398, dtype: bool"
      ]
     },
     "metadata": {},
     "output_type": "display_data"
    },
    {
     "name": "stdout",
     "output_type": "stream",
     "text": [
      "where is the birds ?\n",
      "where is the bird ?\n"
     ]
    },
    {
     "data": {
      "text/plain": [
       "SAYCam LSTM 0     True\n",
       "SAYCam 1-gram    False\n",
       "SAYCam 2-gram     True\n",
       "SAYCam CBOW 0     True\n",
       "Name: 444, dtype: bool"
      ]
     },
     "metadata": {},
     "output_type": "display_data"
    },
    {
     "name": "stdout",
     "output_type": "stream",
     "text": [
      "what is the birds ?\n",
      "what is the bird ?\n"
     ]
    },
    {
     "data": {
      "text/plain": [
       "SAYCam LSTM 0     True\n",
       "SAYCam 1-gram    False\n",
       "SAYCam 2-gram     True\n",
       "SAYCam CBOW 0     True\n",
       "Name: 445, dtype: bool"
      ]
     },
     "metadata": {},
     "output_type": "display_data"
    },
    {
     "name": "stdout",
     "output_type": "stream",
     "text": [
      "is the birds not white ?\n",
      "is the bird not white ?\n"
     ]
    },
    {
     "data": {
      "text/plain": [
       "SAYCam LSTM 0     True\n",
       "SAYCam 1-gram    False\n",
       "SAYCam 2-gram    False\n",
       "SAYCam CBOW 0    False\n",
       "Name: 447, dtype: bool"
      ]
     },
     "metadata": {},
     "output_type": "display_data"
    },
    {
     "name": "stdout",
     "output_type": "stream",
     "text": [
      "is the birds a good idea ?\n",
      "is the bird a good idea ?\n"
     ]
    },
    {
     "data": {
      "text/plain": [
       "SAYCam LSTM 0     True\n",
       "SAYCam 1-gram    False\n",
       "SAYCam 2-gram    False\n",
       "SAYCam CBOW 0     True\n",
       "Name: 450, dtype: bool"
      ]
     },
     "metadata": {},
     "output_type": "display_data"
    },
    {
     "name": "stdout",
     "output_type": "stream",
     "text": [
      "where was the birds ?\n",
      "where was the bird ?\n"
     ]
    },
    {
     "data": {
      "text/plain": [
       "SAYCam LSTM 0     True\n",
       "SAYCam 1-gram    False\n",
       "SAYCam 2-gram     True\n",
       "SAYCam CBOW 0     True\n",
       "Name: 451, dtype: bool"
      ]
     },
     "metadata": {},
     "output_type": "display_data"
    },
    {
     "name": "stdout",
     "output_type": "stream",
     "text": [
      "what was the birds ?\n",
      "what was the bird ?\n"
     ]
    },
    {
     "data": {
      "text/plain": [
       "SAYCam LSTM 0     True\n",
       "SAYCam 1-gram    False\n",
       "SAYCam 2-gram     True\n",
       "SAYCam CBOW 0     True\n",
       "Name: 452, dtype: bool"
      ]
     },
     "metadata": {},
     "output_type": "display_data"
    },
    {
     "name": "stdout",
     "output_type": "stream",
     "text": [
      "was the birds not white ?\n",
      "was the bird not white ?\n"
     ]
    },
    {
     "data": {
      "text/plain": [
       "SAYCam LSTM 0     True\n",
       "SAYCam 1-gram    False\n",
       "SAYCam 2-gram    False\n",
       "SAYCam CBOW 0    False\n",
       "Name: 454, dtype: bool"
      ]
     },
     "metadata": {},
     "output_type": "display_data"
    },
    {
     "name": "stdout",
     "output_type": "stream",
     "text": [
      "was the birds something you like ?\n",
      "was the bird something you like ?\n"
     ]
    },
    {
     "data": {
      "text/plain": [
       "SAYCam LSTM 0     True\n",
       "SAYCam 1-gram    False\n",
       "SAYCam 2-gram    False\n",
       "SAYCam CBOW 0    False\n",
       "Name: 456, dtype: bool"
      ]
     },
     "metadata": {},
     "output_type": "display_data"
    },
    {
     "name": "stdout",
     "output_type": "stream",
     "text": [
      "was the birds a good idea ?\n",
      "was the bird a good idea ?\n"
     ]
    },
    {
     "data": {
      "text/plain": [
       "SAYCam LSTM 0     True\n",
       "SAYCam 1-gram    False\n",
       "SAYCam 2-gram    False\n",
       "SAYCam CBOW 0     True\n",
       "Name: 457, dtype: bool"
      ]
     },
     "metadata": {},
     "output_type": "display_data"
    },
    {
     "name": "stdout",
     "output_type": "stream",
     "text": [
      "where are the bird ?\n",
      "where are the birds ?\n"
     ]
    },
    {
     "data": {
      "text/plain": [
       "SAYCam LSTM 0     True\n",
       "SAYCam 1-gram     True\n",
       "SAYCam 2-gram    False\n",
       "SAYCam CBOW 0    False\n",
       "Name: 458, dtype: bool"
      ]
     },
     "metadata": {},
     "output_type": "display_data"
    },
    {
     "name": "stdout",
     "output_type": "stream",
     "text": [
      "what are the bird ?\n",
      "what are the birds ?\n"
     ]
    },
    {
     "data": {
      "text/plain": [
       "SAYCam LSTM 0     True\n",
       "SAYCam 1-gram     True\n",
       "SAYCam 2-gram    False\n",
       "SAYCam CBOW 0    False\n",
       "Name: 459, dtype: bool"
      ]
     },
     "metadata": {},
     "output_type": "display_data"
    },
    {
     "name": "stdout",
     "output_type": "stream",
     "text": [
      "what color are the bird ?\n",
      "what color are the birds ?\n"
     ]
    },
    {
     "data": {
      "text/plain": [
       "SAYCam LSTM 0     True\n",
       "SAYCam 1-gram     True\n",
       "SAYCam 2-gram    False\n",
       "SAYCam CBOW 0    False\n",
       "Name: 460, dtype: bool"
      ]
     },
     "metadata": {},
     "output_type": "display_data"
    },
    {
     "name": "stdout",
     "output_type": "stream",
     "text": [
      "where were the bird ?\n",
      "where were the birds ?\n"
     ]
    },
    {
     "data": {
      "text/plain": [
       "SAYCam LSTM 0     True\n",
       "SAYCam 1-gram     True\n",
       "SAYCam 2-gram    False\n",
       "SAYCam CBOW 0    False\n",
       "Name: 465, dtype: bool"
      ]
     },
     "metadata": {},
     "output_type": "display_data"
    },
    {
     "name": "stdout",
     "output_type": "stream",
     "text": [
      "what were the bird ?\n",
      "what were the birds ?\n"
     ]
    },
    {
     "data": {
      "text/plain": [
       "SAYCam LSTM 0     True\n",
       "SAYCam 1-gram     True\n",
       "SAYCam 2-gram    False\n",
       "SAYCam CBOW 0    False\n",
       "Name: 466, dtype: bool"
      ]
     },
     "metadata": {},
     "output_type": "display_data"
    },
    {
     "name": "stdout",
     "output_type": "stream",
     "text": [
      "what color were the bird ?\n",
      "what color were the birds ?\n"
     ]
    },
    {
     "data": {
      "text/plain": [
       "SAYCam LSTM 0     True\n",
       "SAYCam 1-gram     True\n",
       "SAYCam 2-gram    False\n",
       "SAYCam CBOW 0    False\n",
       "Name: 467, dtype: bool"
      ]
     },
     "metadata": {},
     "output_type": "display_data"
    },
    {
     "name": "stdout",
     "output_type": "stream",
     "text": [
      "where is the things ?\n",
      "where is the thing ?\n"
     ]
    },
    {
     "data": {
      "text/plain": [
       "SAYCam LSTM 0     True\n",
       "SAYCam 1-gram    False\n",
       "SAYCam 2-gram    False\n",
       "SAYCam CBOW 0    False\n",
       "Name: 476, dtype: bool"
      ]
     },
     "metadata": {},
     "output_type": "display_data"
    },
    {
     "name": "stdout",
     "output_type": "stream",
     "text": [
      "what is the things ?\n",
      "what is the thing ?\n"
     ]
    },
    {
     "data": {
      "text/plain": [
       "SAYCam LSTM 0     True\n",
       "SAYCam 1-gram    False\n",
       "SAYCam 2-gram    False\n",
       "SAYCam CBOW 0    False\n",
       "Name: 477, dtype: bool"
      ]
     },
     "metadata": {},
     "output_type": "display_data"
    },
    {
     "name": "stdout",
     "output_type": "stream",
     "text": [
      "what color is the things ?\n",
      "what color is the thing ?\n"
     ]
    },
    {
     "data": {
      "text/plain": [
       "SAYCam LSTM 0     True\n",
       "SAYCam 1-gram    False\n",
       "SAYCam 2-gram    False\n",
       "SAYCam CBOW 0    False\n",
       "Name: 478, dtype: bool"
      ]
     },
     "metadata": {},
     "output_type": "display_data"
    },
    {
     "name": "stdout",
     "output_type": "stream",
     "text": [
      "is the things not extra ?\n",
      "is the thing not extra ?\n"
     ]
    },
    {
     "data": {
      "text/plain": [
       "SAYCam LSTM 0     True\n",
       "SAYCam 1-gram    False\n",
       "SAYCam 2-gram    False\n",
       "SAYCam CBOW 0     True\n",
       "Name: 479, dtype: bool"
      ]
     },
     "metadata": {},
     "output_type": "display_data"
    },
    {
     "name": "stdout",
     "output_type": "stream",
     "text": [
      "is the things where it should be ?\n",
      "is the thing where it should be ?\n"
     ]
    },
    {
     "data": {
      "text/plain": [
       "SAYCam LSTM 0     True\n",
       "SAYCam 1-gram    False\n",
       "SAYCam 2-gram     True\n",
       "SAYCam CBOW 0     True\n",
       "Name: 480, dtype: bool"
      ]
     },
     "metadata": {},
     "output_type": "display_data"
    },
    {
     "name": "stdout",
     "output_type": "stream",
     "text": [
      "is the things something you like ?\n",
      "is the thing something you like ?\n"
     ]
    },
    {
     "data": {
      "text/plain": [
       "SAYCam LSTM 0     True\n",
       "SAYCam 1-gram    False\n",
       "SAYCam 2-gram    False\n",
       "SAYCam CBOW 0     True\n",
       "Name: 481, dtype: bool"
      ]
     },
     "metadata": {},
     "output_type": "display_data"
    },
    {
     "name": "stdout",
     "output_type": "stream",
     "text": [
      "is the things a good idea ?\n",
      "is the thing a good idea ?\n"
     ]
    },
    {
     "data": {
      "text/plain": [
       "SAYCam LSTM 0     True\n",
       "SAYCam 1-gram    False\n",
       "SAYCam 2-gram     True\n",
       "SAYCam CBOW 0     True\n",
       "Name: 482, dtype: bool"
      ]
     },
     "metadata": {},
     "output_type": "display_data"
    },
    {
     "name": "stdout",
     "output_type": "stream",
     "text": [
      "where was the things ?\n",
      "where was the thing ?\n"
     ]
    },
    {
     "data": {
      "text/plain": [
       "SAYCam LSTM 0     True\n",
       "SAYCam 1-gram    False\n",
       "SAYCam 2-gram    False\n",
       "SAYCam CBOW 0    False\n",
       "Name: 483, dtype: bool"
      ]
     },
     "metadata": {},
     "output_type": "display_data"
    },
    {
     "name": "stdout",
     "output_type": "stream",
     "text": [
      "what was the things ?\n",
      "what was the thing ?\n"
     ]
    },
    {
     "data": {
      "text/plain": [
       "SAYCam LSTM 0     True\n",
       "SAYCam 1-gram    False\n",
       "SAYCam 2-gram    False\n",
       "SAYCam CBOW 0    False\n",
       "Name: 484, dtype: bool"
      ]
     },
     "metadata": {},
     "output_type": "display_data"
    },
    {
     "name": "stdout",
     "output_type": "stream",
     "text": [
      "what color was the things ?\n",
      "what color was the thing ?\n"
     ]
    },
    {
     "data": {
      "text/plain": [
       "SAYCam LSTM 0     True\n",
       "SAYCam 1-gram    False\n",
       "SAYCam 2-gram    False\n",
       "SAYCam CBOW 0    False\n",
       "Name: 485, dtype: bool"
      ]
     },
     "metadata": {},
     "output_type": "display_data"
    },
    {
     "name": "stdout",
     "output_type": "stream",
     "text": [
      "was the things not extra ?\n",
      "was the thing not extra ?\n"
     ]
    },
    {
     "data": {
      "text/plain": [
       "SAYCam LSTM 0     True\n",
       "SAYCam 1-gram    False\n",
       "SAYCam 2-gram    False\n",
       "SAYCam CBOW 0     True\n",
       "Name: 486, dtype: bool"
      ]
     },
     "metadata": {},
     "output_type": "display_data"
    },
    {
     "name": "stdout",
     "output_type": "stream",
     "text": [
      "was the things where it should be ?\n",
      "was the thing where it should be ?\n"
     ]
    },
    {
     "data": {
      "text/plain": [
       "SAYCam LSTM 0     True\n",
       "SAYCam 1-gram    False\n",
       "SAYCam 2-gram     True\n",
       "SAYCam CBOW 0     True\n",
       "Name: 487, dtype: bool"
      ]
     },
     "metadata": {},
     "output_type": "display_data"
    },
    {
     "name": "stdout",
     "output_type": "stream",
     "text": [
      "was the things something you like ?\n",
      "was the thing something you like ?\n"
     ]
    },
    {
     "data": {
      "text/plain": [
       "SAYCam LSTM 0     True\n",
       "SAYCam 1-gram    False\n",
       "SAYCam 2-gram    False\n",
       "SAYCam CBOW 0     True\n",
       "Name: 488, dtype: bool"
      ]
     },
     "metadata": {},
     "output_type": "display_data"
    },
    {
     "name": "stdout",
     "output_type": "stream",
     "text": [
      "was the things a good idea ?\n",
      "was the thing a good idea ?\n"
     ]
    },
    {
     "data": {
      "text/plain": [
       "SAYCam LSTM 0     True\n",
       "SAYCam 1-gram    False\n",
       "SAYCam 2-gram     True\n",
       "SAYCam CBOW 0     True\n",
       "Name: 489, dtype: bool"
      ]
     },
     "metadata": {},
     "output_type": "display_data"
    },
    {
     "name": "stdout",
     "output_type": "stream",
     "text": [
      "where are the thing ?\n",
      "where are the things ?\n"
     ]
    },
    {
     "data": {
      "text/plain": [
       "SAYCam LSTM 0     True\n",
       "SAYCam 1-gram     True\n",
       "SAYCam 2-gram     True\n",
       "SAYCam CBOW 0    False\n",
       "Name: 490, dtype: bool"
      ]
     },
     "metadata": {},
     "output_type": "display_data"
    },
    {
     "name": "stdout",
     "output_type": "stream",
     "text": [
      "what are the thing ?\n",
      "what are the things ?\n"
     ]
    },
    {
     "data": {
      "text/plain": [
       "SAYCam LSTM 0     True\n",
       "SAYCam 1-gram     True\n",
       "SAYCam 2-gram     True\n",
       "SAYCam CBOW 0    False\n",
       "Name: 491, dtype: bool"
      ]
     },
     "metadata": {},
     "output_type": "display_data"
    },
    {
     "name": "stdout",
     "output_type": "stream",
     "text": [
      "what color are the thing ?\n",
      "what color are the things ?\n"
     ]
    },
    {
     "data": {
      "text/plain": [
       "SAYCam LSTM 0     True\n",
       "SAYCam 1-gram     True\n",
       "SAYCam 2-gram     True\n",
       "SAYCam CBOW 0    False\n",
       "Name: 492, dtype: bool"
      ]
     },
     "metadata": {},
     "output_type": "display_data"
    },
    {
     "name": "stdout",
     "output_type": "stream",
     "text": [
      "are the thing where they should be ?\n",
      "are the things where they should be ?\n"
     ]
    },
    {
     "data": {
      "text/plain": [
       "SAYCam LSTM 0     True\n",
       "SAYCam 1-gram     True\n",
       "SAYCam 2-gram    False\n",
       "SAYCam CBOW 0    False\n",
       "Name: 494, dtype: bool"
      ]
     },
     "metadata": {},
     "output_type": "display_data"
    },
    {
     "name": "stdout",
     "output_type": "stream",
     "text": [
      "are the thing something you like ?\n",
      "are the things something you like ?\n"
     ]
    },
    {
     "data": {
      "text/plain": [
       "SAYCam LSTM 0     True\n",
       "SAYCam 1-gram     True\n",
       "SAYCam 2-gram     True\n",
       "SAYCam CBOW 0    False\n",
       "Name: 495, dtype: bool"
      ]
     },
     "metadata": {},
     "output_type": "display_data"
    },
    {
     "name": "stdout",
     "output_type": "stream",
     "text": [
      "are the thing a good idea ?\n",
      "are the things a good idea ?\n"
     ]
    },
    {
     "data": {
      "text/plain": [
       "SAYCam LSTM 0     True\n",
       "SAYCam 1-gram     True\n",
       "SAYCam 2-gram    False\n",
       "SAYCam CBOW 0    False\n",
       "Name: 496, dtype: bool"
      ]
     },
     "metadata": {},
     "output_type": "display_data"
    },
    {
     "name": "stdout",
     "output_type": "stream",
     "text": [
      "are the whale not last ?\n",
      "are the whales not last ?\n"
     ]
    },
    {
     "data": {
      "text/plain": [
       "SAYCam LSTM 0     True\n",
       "SAYCam 1-gram    False\n",
       "SAYCam 2-gram    False\n",
       "SAYCam CBOW 0    False\n",
       "Name: 506, dtype: bool"
      ]
     },
     "metadata": {},
     "output_type": "display_data"
    },
    {
     "name": "stdout",
     "output_type": "stream",
     "text": [
      "is the bears where it should be ?\n",
      "is the bear where it should be ?\n"
     ]
    },
    {
     "data": {
      "text/plain": [
       "SAYCam LSTM 0     True\n",
       "SAYCam 1-gram     True\n",
       "SAYCam 2-gram     True\n",
       "SAYCam CBOW 0    False\n",
       "Name: 516, dtype: bool"
      ]
     },
     "metadata": {},
     "output_type": "display_data"
    },
    {
     "name": "stdout",
     "output_type": "stream",
     "text": [
      "is the bears something you like ?\n",
      "is the bear something you like ?\n"
     ]
    },
    {
     "data": {
      "text/plain": [
       "SAYCam LSTM 0     True\n",
       "SAYCam 1-gram     True\n",
       "SAYCam 2-gram     True\n",
       "SAYCam CBOW 0    False\n",
       "Name: 517, dtype: bool"
      ]
     },
     "metadata": {},
     "output_type": "display_data"
    },
    {
     "name": "stdout",
     "output_type": "stream",
     "text": [
      "was the bears where it should be ?\n",
      "was the bear where it should be ?\n"
     ]
    },
    {
     "data": {
      "text/plain": [
       "SAYCam LSTM 0     True\n",
       "SAYCam 1-gram     True\n",
       "SAYCam 2-gram     True\n",
       "SAYCam CBOW 0    False\n",
       "Name: 523, dtype: bool"
      ]
     },
     "metadata": {},
     "output_type": "display_data"
    },
    {
     "name": "stdout",
     "output_type": "stream",
     "text": [
      "was the bears something you like ?\n",
      "was the bear something you like ?\n"
     ]
    },
    {
     "data": {
      "text/plain": [
       "SAYCam LSTM 0     True\n",
       "SAYCam 1-gram     True\n",
       "SAYCam 2-gram     True\n",
       "SAYCam CBOW 0    False\n",
       "Name: 524, dtype: bool"
      ]
     },
     "metadata": {},
     "output_type": "display_data"
    },
    {
     "name": "stdout",
     "output_type": "stream",
     "text": [
      "where are the bear ?\n",
      "where are the bears ?\n"
     ]
    },
    {
     "data": {
      "text/plain": [
       "SAYCam LSTM 0     True\n",
       "SAYCam 1-gram    False\n",
       "SAYCam 2-gram    False\n",
       "SAYCam CBOW 0    False\n",
       "Name: 526, dtype: bool"
      ]
     },
     "metadata": {},
     "output_type": "display_data"
    },
    {
     "name": "stdout",
     "output_type": "stream",
     "text": [
      "what are the bear ?\n",
      "what are the bears ?\n"
     ]
    },
    {
     "data": {
      "text/plain": [
       "SAYCam LSTM 0     True\n",
       "SAYCam 1-gram    False\n",
       "SAYCam 2-gram    False\n",
       "SAYCam CBOW 0    False\n",
       "Name: 527, dtype: bool"
      ]
     },
     "metadata": {},
     "output_type": "display_data"
    },
    {
     "name": "stdout",
     "output_type": "stream",
     "text": [
      "what color are the bear ?\n",
      "what color are the bears ?\n"
     ]
    },
    {
     "data": {
      "text/plain": [
       "SAYCam LSTM 0     True\n",
       "SAYCam 1-gram    False\n",
       "SAYCam 2-gram    False\n",
       "SAYCam CBOW 0    False\n",
       "Name: 528, dtype: bool"
      ]
     },
     "metadata": {},
     "output_type": "display_data"
    },
    {
     "name": "stdout",
     "output_type": "stream",
     "text": [
      "are the bear where they should be ?\n",
      "are the bears where they should be ?\n"
     ]
    },
    {
     "data": {
      "text/plain": [
       "SAYCam LSTM 0     True\n",
       "SAYCam 1-gram    False\n",
       "SAYCam 2-gram    False\n",
       "SAYCam CBOW 0    False\n",
       "Name: 530, dtype: bool"
      ]
     },
     "metadata": {},
     "output_type": "display_data"
    },
    {
     "name": "stdout",
     "output_type": "stream",
     "text": [
      "where were the bear ?\n",
      "where were the bears ?\n"
     ]
    },
    {
     "data": {
      "text/plain": [
       "SAYCam LSTM 0     True\n",
       "SAYCam 1-gram    False\n",
       "SAYCam 2-gram    False\n",
       "SAYCam CBOW 0    False\n",
       "Name: 533, dtype: bool"
      ]
     },
     "metadata": {},
     "output_type": "display_data"
    },
    {
     "name": "stdout",
     "output_type": "stream",
     "text": [
      "what color were the bear ?\n",
      "what color were the bears ?\n"
     ]
    },
    {
     "data": {
      "text/plain": [
       "SAYCam LSTM 0     True\n",
       "SAYCam 1-gram    False\n",
       "SAYCam 2-gram    False\n",
       "SAYCam CBOW 0    False\n",
       "Name: 535, dtype: bool"
      ]
     },
     "metadata": {},
     "output_type": "display_data"
    },
    {
     "name": "stdout",
     "output_type": "stream",
     "text": [
      "were the bear where they should be ?\n",
      "were the bears where they should be ?\n"
     ]
    },
    {
     "data": {
      "text/plain": [
       "SAYCam LSTM 0     True\n",
       "SAYCam 1-gram    False\n",
       "SAYCam 2-gram    False\n",
       "SAYCam CBOW 0     True\n",
       "Name: 537, dtype: bool"
      ]
     },
     "metadata": {},
     "output_type": "display_data"
    },
    {
     "name": "stdout",
     "output_type": "stream",
     "text": [
      "is the cars where it should be ?\n",
      "is the car where it should be ?\n"
     ]
    },
    {
     "data": {
      "text/plain": [
       "SAYCam LSTM 0     True\n",
       "SAYCam 1-gram     True\n",
       "SAYCam 2-gram     True\n",
       "SAYCam CBOW 0    False\n",
       "Name: 544, dtype: bool"
      ]
     },
     "metadata": {},
     "output_type": "display_data"
    },
    {
     "name": "stdout",
     "output_type": "stream",
     "text": [
      "was the cars where it should be ?\n",
      "was the car where it should be ?\n"
     ]
    },
    {
     "data": {
      "text/plain": [
       "SAYCam LSTM 0     True\n",
       "SAYCam 1-gram     True\n",
       "SAYCam 2-gram     True\n",
       "SAYCam CBOW 0    False\n",
       "Name: 551, dtype: bool"
      ]
     },
     "metadata": {},
     "output_type": "display_data"
    },
    {
     "name": "stdout",
     "output_type": "stream",
     "text": [
      "is the things not wrong ?\n",
      "is the thing not wrong ?\n"
     ]
    },
    {
     "data": {
      "text/plain": [
       "SAYCam LSTM 0     True\n",
       "SAYCam 1-gram    False\n",
       "SAYCam 2-gram    False\n",
       "SAYCam CBOW 0     True\n",
       "Name: 668, dtype: bool"
      ]
     },
     "metadata": {},
     "output_type": "display_data"
    },
    {
     "name": "stdout",
     "output_type": "stream",
     "text": [
      "was the things not wrong ?\n",
      "was the thing not wrong ?\n"
     ]
    },
    {
     "data": {
      "text/plain": [
       "SAYCam LSTM 0     True\n",
       "SAYCam 1-gram    False\n",
       "SAYCam 2-gram    False\n",
       "SAYCam CBOW 0     True\n",
       "Name: 669, dtype: bool"
      ]
     },
     "metadata": {},
     "output_type": "display_data"
    },
    {
     "name": "stdout",
     "output_type": "stream",
     "text": [
      "is the bits not soft ?\n",
      "is the bit not soft ?\n"
     ]
    },
    {
     "data": {
      "text/plain": [
       "SAYCam LSTM 0     True\n",
       "SAYCam 1-gram     True\n",
       "SAYCam 2-gram     True\n",
       "SAYCam CBOW 0    False\n",
       "Name: 672, dtype: bool"
      ]
     },
     "metadata": {},
     "output_type": "display_data"
    },
    {
     "name": "stdout",
     "output_type": "stream",
     "text": [
      "was the bits not soft ?\n",
      "was the bit not soft ?\n"
     ]
    },
    {
     "data": {
      "text/plain": [
       "SAYCam LSTM 0     True\n",
       "SAYCam 1-gram     True\n",
       "SAYCam 2-gram     True\n",
       "SAYCam CBOW 0    False\n",
       "Name: 673, dtype: bool"
      ]
     },
     "metadata": {},
     "output_type": "display_data"
    },
    {
     "name": "stdout",
     "output_type": "stream",
     "text": [
      "is the hands where it should be ?\n",
      "is the hand where it should be ?\n"
     ]
    },
    {
     "data": {
      "text/plain": [
       "SAYCam LSTM 0     True\n",
       "SAYCam 1-gram     True\n",
       "SAYCam 2-gram     True\n",
       "SAYCam CBOW 0    False\n",
       "Name: 736, dtype: bool"
      ]
     },
     "metadata": {},
     "output_type": "display_data"
    },
    {
     "name": "stdout",
     "output_type": "stream",
     "text": [
      "was the hands where it should be ?\n",
      "was the hand where it should be ?\n"
     ]
    },
    {
     "data": {
      "text/plain": [
       "SAYCam LSTM 0     True\n",
       "SAYCam 1-gram     True\n",
       "SAYCam 2-gram     True\n",
       "SAYCam CBOW 0    False\n",
       "Name: 743, dtype: bool"
      ]
     },
     "metadata": {},
     "output_type": "display_data"
    },
    {
     "name": "stdout",
     "output_type": "stream",
     "text": [
      "are the hand something you like ?\n",
      "are the hands something you like ?\n"
     ]
    },
    {
     "data": {
      "text/plain": [
       "SAYCam LSTM 0     True\n",
       "SAYCam 1-gram    False\n",
       "SAYCam 2-gram    False\n",
       "SAYCam CBOW 0    False\n",
       "Name: 751, dtype: bool"
      ]
     },
     "metadata": {},
     "output_type": "display_data"
    },
    {
     "name": "stdout",
     "output_type": "stream",
     "text": [
      "are the hand a good idea ?\n",
      "are the hands a good idea ?\n"
     ]
    },
    {
     "data": {
      "text/plain": [
       "SAYCam LSTM 0     True\n",
       "SAYCam 1-gram    False\n",
       "SAYCam 2-gram    False\n",
       "SAYCam CBOW 0    False\n",
       "Name: 752, dtype: bool"
      ]
     },
     "metadata": {},
     "output_type": "display_data"
    },
    {
     "name": "stdout",
     "output_type": "stream",
     "text": [
      "what color is the colors ?\n",
      "what color is the color ?\n"
     ]
    },
    {
     "data": {
      "text/plain": [
       "SAYCam LSTM 0     True\n",
       "SAYCam 1-gram     True\n",
       "SAYCam 2-gram    False\n",
       "SAYCam CBOW 0    False\n",
       "Name: 870, dtype: bool"
      ]
     },
     "metadata": {},
     "output_type": "display_data"
    },
    {
     "name": "stdout",
     "output_type": "stream",
     "text": [
      "is the colors where it should be ?\n",
      "is the color where it should be ?\n"
     ]
    },
    {
     "data": {
      "text/plain": [
       "SAYCam LSTM 0     True\n",
       "SAYCam 1-gram     True\n",
       "SAYCam 2-gram    False\n",
       "SAYCam CBOW 0    False\n",
       "Name: 872, dtype: bool"
      ]
     },
     "metadata": {},
     "output_type": "display_data"
    },
    {
     "name": "stdout",
     "output_type": "stream",
     "text": [
      "was the colors where it should be ?\n",
      "was the color where it should be ?\n"
     ]
    },
    {
     "data": {
      "text/plain": [
       "SAYCam LSTM 0     True\n",
       "SAYCam 1-gram     True\n",
       "SAYCam 2-gram    False\n",
       "SAYCam CBOW 0    False\n",
       "Name: 879, dtype: bool"
      ]
     },
     "metadata": {},
     "output_type": "display_data"
    },
    {
     "name": "stdout",
     "output_type": "stream",
     "text": [
      "where are the color ?\n",
      "where are the colors ?\n"
     ]
    },
    {
     "data": {
      "text/plain": [
       "SAYCam LSTM 0     True\n",
       "SAYCam 1-gram    False\n",
       "SAYCam 2-gram     True\n",
       "SAYCam CBOW 0     True\n",
       "Name: 882, dtype: bool"
      ]
     },
     "metadata": {},
     "output_type": "display_data"
    },
    {
     "name": "stdout",
     "output_type": "stream",
     "text": [
      "what are the color ?\n",
      "what are the colors ?\n"
     ]
    },
    {
     "data": {
      "text/plain": [
       "SAYCam LSTM 0     True\n",
       "SAYCam 1-gram    False\n",
       "SAYCam 2-gram     True\n",
       "SAYCam CBOW 0     True\n",
       "Name: 883, dtype: bool"
      ]
     },
     "metadata": {},
     "output_type": "display_data"
    },
    {
     "name": "stdout",
     "output_type": "stream",
     "text": [
      "are the color not hard ?\n",
      "are the colors not hard ?\n"
     ]
    },
    {
     "data": {
      "text/plain": [
       "SAYCam LSTM 0     True\n",
       "SAYCam 1-gram    False\n",
       "SAYCam 2-gram     True\n",
       "SAYCam CBOW 0     True\n",
       "Name: 885, dtype: bool"
      ]
     },
     "metadata": {},
     "output_type": "display_data"
    },
    {
     "name": "stdout",
     "output_type": "stream",
     "text": [
      "are the color something you like ?\n",
      "are the colors something you like ?\n"
     ]
    },
    {
     "data": {
      "text/plain": [
       "SAYCam LSTM 0     True\n",
       "SAYCam 1-gram    False\n",
       "SAYCam 2-gram     True\n",
       "SAYCam CBOW 0     True\n",
       "Name: 887, dtype: bool"
      ]
     },
     "metadata": {},
     "output_type": "display_data"
    },
    {
     "name": "stdout",
     "output_type": "stream",
     "text": [
      "are the color a good idea ?\n",
      "are the colors a good idea ?\n"
     ]
    },
    {
     "data": {
      "text/plain": [
       "SAYCam LSTM 0     True\n",
       "SAYCam 1-gram    False\n",
       "SAYCam 2-gram     True\n",
       "SAYCam CBOW 0     True\n",
       "Name: 888, dtype: bool"
      ]
     },
     "metadata": {},
     "output_type": "display_data"
    },
    {
     "name": "stdout",
     "output_type": "stream",
     "text": [
      "where were the color ?\n",
      "where were the colors ?\n"
     ]
    },
    {
     "data": {
      "text/plain": [
       "SAYCam LSTM 0     True\n",
       "SAYCam 1-gram    False\n",
       "SAYCam 2-gram     True\n",
       "SAYCam CBOW 0     True\n",
       "Name: 889, dtype: bool"
      ]
     },
     "metadata": {},
     "output_type": "display_data"
    },
    {
     "name": "stdout",
     "output_type": "stream",
     "text": [
      "what were the color ?\n",
      "what were the colors ?\n"
     ]
    },
    {
     "data": {
      "text/plain": [
       "SAYCam LSTM 0     True\n",
       "SAYCam 1-gram    False\n",
       "SAYCam 2-gram     True\n",
       "SAYCam CBOW 0     True\n",
       "Name: 890, dtype: bool"
      ]
     },
     "metadata": {},
     "output_type": "display_data"
    },
    {
     "name": "stdout",
     "output_type": "stream",
     "text": [
      "what color were the color ?\n",
      "what color were the colors ?\n"
     ]
    },
    {
     "data": {
      "text/plain": [
       "SAYCam LSTM 0     True\n",
       "SAYCam 1-gram    False\n",
       "SAYCam 2-gram     True\n",
       "SAYCam CBOW 0     True\n",
       "Name: 891, dtype: bool"
      ]
     },
     "metadata": {},
     "output_type": "display_data"
    },
    {
     "name": "stdout",
     "output_type": "stream",
     "text": [
      "were the color not hard ?\n",
      "were the colors not hard ?\n"
     ]
    },
    {
     "data": {
      "text/plain": [
       "SAYCam LSTM 0     True\n",
       "SAYCam 1-gram    False\n",
       "SAYCam 2-gram     True\n",
       "SAYCam CBOW 0     True\n",
       "Name: 892, dtype: bool"
      ]
     },
     "metadata": {},
     "output_type": "display_data"
    },
    {
     "name": "stdout",
     "output_type": "stream",
     "text": [
      "were the color something you like ?\n",
      "were the colors something you like ?\n"
     ]
    },
    {
     "data": {
      "text/plain": [
       "SAYCam LSTM 0     True\n",
       "SAYCam 1-gram    False\n",
       "SAYCam 2-gram     True\n",
       "SAYCam CBOW 0     True\n",
       "Name: 894, dtype: bool"
      ]
     },
     "metadata": {},
     "output_type": "display_data"
    },
    {
     "name": "stdout",
     "output_type": "stream",
     "text": [
      "were the color a good idea ?\n",
      "were the colors a good idea ?\n"
     ]
    },
    {
     "data": {
      "text/plain": [
       "SAYCam LSTM 0     True\n",
       "SAYCam 1-gram    False\n",
       "SAYCam 2-gram     True\n",
       "SAYCam CBOW 0     True\n",
       "Name: 895, dtype: bool"
      ]
     },
     "metadata": {},
     "output_type": "display_data"
    },
    {
     "name": "stdout",
     "output_type": "stream",
     "text": [
      "are the color not wrong ?\n",
      "are the colors not wrong ?\n"
     ]
    },
    {
     "data": {
      "text/plain": [
       "SAYCam LSTM 0     True\n",
       "SAYCam 1-gram    False\n",
       "SAYCam 2-gram     True\n",
       "SAYCam CBOW 0     True\n",
       "Name: 898, dtype: bool"
      ]
     },
     "metadata": {},
     "output_type": "display_data"
    },
    {
     "name": "stdout",
     "output_type": "stream",
     "text": [
      "were the color not wrong ?\n",
      "were the colors not wrong ?\n"
     ]
    },
    {
     "data": {
      "text/plain": [
       "SAYCam LSTM 0     True\n",
       "SAYCam 1-gram    False\n",
       "SAYCam 2-gram     True\n",
       "SAYCam CBOW 0     True\n",
       "Name: 899, dtype: bool"
      ]
     },
     "metadata": {},
     "output_type": "display_data"
    },
    {
     "name": "stdout",
     "output_type": "stream",
     "text": [
      "is the bits not tall ?\n",
      "is the bit not tall ?\n"
     ]
    },
    {
     "data": {
      "text/plain": [
       "SAYCam LSTM 0     True\n",
       "SAYCam 1-gram     True\n",
       "SAYCam 2-gram     True\n",
       "SAYCam CBOW 0    False\n",
       "Name: 932, dtype: bool"
      ]
     },
     "metadata": {},
     "output_type": "display_data"
    },
    {
     "name": "stdout",
     "output_type": "stream",
     "text": [
      "was the bits not tall ?\n",
      "was the bit not tall ?\n"
     ]
    },
    {
     "data": {
      "text/plain": [
       "SAYCam LSTM 0     True\n",
       "SAYCam 1-gram     True\n",
       "SAYCam 2-gram     True\n",
       "SAYCam CBOW 0    False\n",
       "Name: 933, dtype: bool"
      ]
     },
     "metadata": {},
     "output_type": "display_data"
    },
    {
     "name": "stdout",
     "output_type": "stream",
     "text": [
      "is the fingers something you like ?\n",
      "is the finger something you like ?\n"
     ]
    },
    {
     "data": {
      "text/plain": [
       "SAYCam LSTM 0     True\n",
       "SAYCam 1-gram    False\n",
       "SAYCam 2-gram    False\n",
       "SAYCam CBOW 0     True\n",
       "Name: 1005, dtype: bool"
      ]
     },
     "metadata": {},
     "output_type": "display_data"
    },
    {
     "name": "stdout",
     "output_type": "stream",
     "text": [
      "is the fingers a good idea ?\n",
      "is the finger a good idea ?\n"
     ]
    },
    {
     "data": {
      "text/plain": [
       "SAYCam LSTM 0     True\n",
       "SAYCam 1-gram    False\n",
       "SAYCam 2-gram    False\n",
       "SAYCam CBOW 0     True\n",
       "Name: 1006, dtype: bool"
      ]
     },
     "metadata": {},
     "output_type": "display_data"
    },
    {
     "name": "stdout",
     "output_type": "stream",
     "text": [
      "was the fingers something you like ?\n",
      "was the finger something you like ?\n"
     ]
    },
    {
     "data": {
      "text/plain": [
       "SAYCam LSTM 0     True\n",
       "SAYCam 1-gram    False\n",
       "SAYCam 2-gram    False\n",
       "SAYCam CBOW 0     True\n",
       "Name: 1012, dtype: bool"
      ]
     },
     "metadata": {},
     "output_type": "display_data"
    },
    {
     "name": "stdout",
     "output_type": "stream",
     "text": [
      "was the fingers a good idea ?\n",
      "was the finger a good idea ?\n"
     ]
    },
    {
     "data": {
      "text/plain": [
       "SAYCam LSTM 0     True\n",
       "SAYCam 1-gram    False\n",
       "SAYCam 2-gram    False\n",
       "SAYCam CBOW 0     True\n",
       "Name: 1013, dtype: bool"
      ]
     },
     "metadata": {},
     "output_type": "display_data"
    },
    {
     "name": "stdout",
     "output_type": "stream",
     "text": [
      "are the finger where they should be ?\n",
      "are the fingers where they should be ?\n"
     ]
    },
    {
     "data": {
      "text/plain": [
       "SAYCam LSTM 0     True\n",
       "SAYCam 1-gram     True\n",
       "SAYCam 2-gram     True\n",
       "SAYCam CBOW 0    False\n",
       "Name: 1018, dtype: bool"
      ]
     },
     "metadata": {},
     "output_type": "display_data"
    },
    {
     "name": "stdout",
     "output_type": "stream",
     "text": [
      "were the finger where they should be ?\n",
      "were the fingers where they should be ?\n"
     ]
    },
    {
     "data": {
      "text/plain": [
       "SAYCam LSTM 0     True\n",
       "SAYCam 1-gram     True\n",
       "SAYCam 2-gram     True\n",
       "SAYCam CBOW 0    False\n",
       "Name: 1025, dtype: bool"
      ]
     },
     "metadata": {},
     "output_type": "display_data"
    },
    {
     "name": "stdout",
     "output_type": "stream",
     "text": [
      "is the feet where it should be ?\n",
      "is the foot where it should be ?\n"
     ]
    },
    {
     "data": {
      "text/plain": [
       "SAYCam LSTM 0     True\n",
       "SAYCam 1-gram     True\n",
       "SAYCam 2-gram     True\n",
       "SAYCam CBOW 0    False\n",
       "Name: 1068, dtype: bool"
      ]
     },
     "metadata": {},
     "output_type": "display_data"
    },
    {
     "name": "stdout",
     "output_type": "stream",
     "text": [
      "is the feet something you like ?\n",
      "is the foot something you like ?\n"
     ]
    },
    {
     "data": {
      "text/plain": [
       "SAYCam LSTM 0     True\n",
       "SAYCam 1-gram     True\n",
       "SAYCam 2-gram     True\n",
       "SAYCam CBOW 0    False\n",
       "Name: 1069, dtype: bool"
      ]
     },
     "metadata": {},
     "output_type": "display_data"
    },
    {
     "name": "stdout",
     "output_type": "stream",
     "text": [
      "was the feet where it should be ?\n",
      "was the foot where it should be ?\n"
     ]
    },
    {
     "data": {
      "text/plain": [
       "SAYCam LSTM 0     True\n",
       "SAYCam 1-gram     True\n",
       "SAYCam 2-gram     True\n",
       "SAYCam CBOW 0    False\n",
       "Name: 1075, dtype: bool"
      ]
     },
     "metadata": {},
     "output_type": "display_data"
    },
    {
     "name": "stdout",
     "output_type": "stream",
     "text": [
      "was the feet something you like ?\n",
      "was the foot something you like ?\n"
     ]
    },
    {
     "data": {
      "text/plain": [
       "SAYCam LSTM 0     True\n",
       "SAYCam 1-gram     True\n",
       "SAYCam 2-gram     True\n",
       "SAYCam CBOW 0    False\n",
       "Name: 1076, dtype: bool"
      ]
     },
     "metadata": {},
     "output_type": "display_data"
    },
    {
     "name": "stdout",
     "output_type": "stream",
     "text": [
      "where are the foot ?\n",
      "where are the feet ?\n"
     ]
    },
    {
     "data": {
      "text/plain": [
       "SAYCam LSTM 0     True\n",
       "SAYCam 1-gram    False\n",
       "SAYCam 2-gram    False\n",
       "SAYCam CBOW 0    False\n",
       "Name: 1078, dtype: bool"
      ]
     },
     "metadata": {},
     "output_type": "display_data"
    },
    {
     "name": "stdout",
     "output_type": "stream",
     "text": [
      "what are the foot ?\n",
      "what are the feet ?\n"
     ]
    },
    {
     "data": {
      "text/plain": [
       "SAYCam LSTM 0     True\n",
       "SAYCam 1-gram    False\n",
       "SAYCam 2-gram    False\n",
       "SAYCam CBOW 0    False\n",
       "Name: 1079, dtype: bool"
      ]
     },
     "metadata": {},
     "output_type": "display_data"
    },
    {
     "name": "stdout",
     "output_type": "stream",
     "text": [
      "what color are the foot ?\n",
      "what color are the feet ?\n"
     ]
    },
    {
     "data": {
      "text/plain": [
       "SAYCam LSTM 0     True\n",
       "SAYCam 1-gram    False\n",
       "SAYCam 2-gram    False\n",
       "SAYCam CBOW 0    False\n",
       "Name: 1080, dtype: bool"
      ]
     },
     "metadata": {},
     "output_type": "display_data"
    },
    {
     "name": "stdout",
     "output_type": "stream",
     "text": [
      "are the foot where they should be ?\n",
      "are the feet where they should be ?\n"
     ]
    },
    {
     "data": {
      "text/plain": [
       "SAYCam LSTM 0     True\n",
       "SAYCam 1-gram    False\n",
       "SAYCam 2-gram    False\n",
       "SAYCam CBOW 0    False\n",
       "Name: 1082, dtype: bool"
      ]
     },
     "metadata": {},
     "output_type": "display_data"
    },
    {
     "name": "stdout",
     "output_type": "stream",
     "text": [
      "are the foot something you like ?\n",
      "are the feet something you like ?\n"
     ]
    },
    {
     "data": {
      "text/plain": [
       "SAYCam LSTM 0     True\n",
       "SAYCam 1-gram    False\n",
       "SAYCam 2-gram    False\n",
       "SAYCam CBOW 0     True\n",
       "Name: 1083, dtype: bool"
      ]
     },
     "metadata": {},
     "output_type": "display_data"
    },
    {
     "name": "stdout",
     "output_type": "stream",
     "text": [
      "are the foot a good idea ?\n",
      "are the feet a good idea ?\n"
     ]
    },
    {
     "data": {
      "text/plain": [
       "SAYCam LSTM 0     True\n",
       "SAYCam 1-gram    False\n",
       "SAYCam 2-gram    False\n",
       "SAYCam CBOW 0    False\n",
       "Name: 1084, dtype: bool"
      ]
     },
     "metadata": {},
     "output_type": "display_data"
    },
    {
     "name": "stdout",
     "output_type": "stream",
     "text": [
      "where were the foot ?\n",
      "where were the feet ?\n"
     ]
    },
    {
     "data": {
      "text/plain": [
       "SAYCam LSTM 0     True\n",
       "SAYCam 1-gram    False\n",
       "SAYCam 2-gram    False\n",
       "SAYCam CBOW 0    False\n",
       "Name: 1085, dtype: bool"
      ]
     },
     "metadata": {},
     "output_type": "display_data"
    },
    {
     "name": "stdout",
     "output_type": "stream",
     "text": [
      "what were the foot ?\n",
      "what were the feet ?\n"
     ]
    },
    {
     "data": {
      "text/plain": [
       "SAYCam LSTM 0     True\n",
       "SAYCam 1-gram    False\n",
       "SAYCam 2-gram    False\n",
       "SAYCam CBOW 0    False\n",
       "Name: 1086, dtype: bool"
      ]
     },
     "metadata": {},
     "output_type": "display_data"
    },
    {
     "name": "stdout",
     "output_type": "stream",
     "text": [
      "what color were the foot ?\n",
      "what color were the feet ?\n"
     ]
    },
    {
     "data": {
      "text/plain": [
       "SAYCam LSTM 0     True\n",
       "SAYCam 1-gram    False\n",
       "SAYCam 2-gram    False\n",
       "SAYCam CBOW 0    False\n",
       "Name: 1087, dtype: bool"
      ]
     },
     "metadata": {},
     "output_type": "display_data"
    },
    {
     "name": "stdout",
     "output_type": "stream",
     "text": [
      "were the foot something you like ?\n",
      "were the feet something you like ?\n"
     ]
    },
    {
     "data": {
      "text/plain": [
       "SAYCam LSTM 0     True\n",
       "SAYCam 1-gram    False\n",
       "SAYCam 2-gram    False\n",
       "SAYCam CBOW 0     True\n",
       "Name: 1090, dtype: bool"
      ]
     },
     "metadata": {},
     "output_type": "display_data"
    },
    {
     "name": "stdout",
     "output_type": "stream",
     "text": [
      "were the foot a good idea ?\n",
      "were the feet a good idea ?\n"
     ]
    },
    {
     "data": {
      "text/plain": [
       "SAYCam LSTM 0     True\n",
       "SAYCam 1-gram    False\n",
       "SAYCam 2-gram    False\n",
       "SAYCam CBOW 0    False\n",
       "Name: 1091, dtype: bool"
      ]
     },
     "metadata": {},
     "output_type": "display_data"
    },
    {
     "name": "stdout",
     "output_type": "stream",
     "text": [
      "is the cars not polar ?\n",
      "is the car not polar ?\n"
     ]
    },
    {
     "data": {
      "text/plain": [
       "SAYCam LSTM 0     True\n",
       "SAYCam 1-gram     True\n",
       "SAYCam 2-gram     True\n",
       "SAYCam CBOW 0    False\n",
       "Name: 1096, dtype: bool"
      ]
     },
     "metadata": {},
     "output_type": "display_data"
    },
    {
     "name": "stdout",
     "output_type": "stream",
     "text": [
      "was the cars not polar ?\n",
      "was the car not polar ?\n"
     ]
    },
    {
     "data": {
      "text/plain": [
       "SAYCam LSTM 0     True\n",
       "SAYCam 1-gram     True\n",
       "SAYCam 2-gram     True\n",
       "SAYCam CBOW 0    False\n",
       "Name: 1097, dtype: bool"
      ]
     },
     "metadata": {},
     "output_type": "display_data"
    },
    {
     "name": "stdout",
     "output_type": "stream",
     "text": [
      "is the birds not little ?\n",
      "is the bird not little ?\n"
     ]
    },
    {
     "data": {
      "text/plain": [
       "SAYCam LSTM 0     True\n",
       "SAYCam 1-gram    False\n",
       "SAYCam 2-gram    False\n",
       "SAYCam CBOW 0    False\n",
       "Name: 1100, dtype: bool"
      ]
     },
     "metadata": {},
     "output_type": "display_data"
    },
    {
     "name": "stdout",
     "output_type": "stream",
     "text": [
      "was the birds not little ?\n",
      "was the bird not little ?\n"
     ]
    },
    {
     "data": {
      "text/plain": [
       "SAYCam LSTM 0     True\n",
       "SAYCam 1-gram    False\n",
       "SAYCam 2-gram    False\n",
       "SAYCam CBOW 0    False\n",
       "Name: 1101, dtype: bool"
      ]
     },
     "metadata": {},
     "output_type": "display_data"
    },
    {
     "name": "stdout",
     "output_type": "stream",
     "text": [
      "where is the words ?\n",
      "where is the word ?\n"
     ]
    },
    {
     "data": {
      "text/plain": [
       "SAYCam LSTM 0     True\n",
       "SAYCam 1-gram    False\n",
       "SAYCam 2-gram    False\n",
       "SAYCam CBOW 0    False\n",
       "Name: 1112, dtype: bool"
      ]
     },
     "metadata": {},
     "output_type": "display_data"
    },
    {
     "name": "stdout",
     "output_type": "stream",
     "text": [
      "what is the words ?\n",
      "what is the word ?\n"
     ]
    },
    {
     "data": {
      "text/plain": [
       "SAYCam LSTM 0     True\n",
       "SAYCam 1-gram    False\n",
       "SAYCam 2-gram    False\n",
       "SAYCam CBOW 0    False\n",
       "Name: 1113, dtype: bool"
      ]
     },
     "metadata": {},
     "output_type": "display_data"
    },
    {
     "name": "stdout",
     "output_type": "stream",
     "text": [
      "what color is the words ?\n",
      "what color is the word ?\n"
     ]
    },
    {
     "data": {
      "text/plain": [
       "SAYCam LSTM 0     True\n",
       "SAYCam 1-gram    False\n",
       "SAYCam 2-gram    False\n",
       "SAYCam CBOW 0    False\n",
       "Name: 1114, dtype: bool"
      ]
     },
     "metadata": {},
     "output_type": "display_data"
    },
    {
     "name": "stdout",
     "output_type": "stream",
     "text": [
      "is the words not bad ?\n",
      "is the word not bad ?\n"
     ]
    },
    {
     "data": {
      "text/plain": [
       "SAYCam LSTM 0     True\n",
       "SAYCam 1-gram    False\n",
       "SAYCam 2-gram    False\n",
       "SAYCam CBOW 0    False\n",
       "Name: 1115, dtype: bool"
      ]
     },
     "metadata": {},
     "output_type": "display_data"
    },
    {
     "name": "stdout",
     "output_type": "stream",
     "text": [
      "is the words something you like ?\n",
      "is the word something you like ?\n"
     ]
    },
    {
     "data": {
      "text/plain": [
       "SAYCam LSTM 0     True\n",
       "SAYCam 1-gram    False\n",
       "SAYCam 2-gram    False\n",
       "SAYCam CBOW 0    False\n",
       "Name: 1117, dtype: bool"
      ]
     },
     "metadata": {},
     "output_type": "display_data"
    },
    {
     "name": "stdout",
     "output_type": "stream",
     "text": [
      "is the words a good idea ?\n",
      "is the word a good idea ?\n"
     ]
    },
    {
     "data": {
      "text/plain": [
       "SAYCam LSTM 0     True\n",
       "SAYCam 1-gram    False\n",
       "SAYCam 2-gram    False\n",
       "SAYCam CBOW 0    False\n",
       "Name: 1118, dtype: bool"
      ]
     },
     "metadata": {},
     "output_type": "display_data"
    },
    {
     "name": "stdout",
     "output_type": "stream",
     "text": [
      "where was the words ?\n",
      "where was the word ?\n"
     ]
    },
    {
     "data": {
      "text/plain": [
       "SAYCam LSTM 0     True\n",
       "SAYCam 1-gram    False\n",
       "SAYCam 2-gram    False\n",
       "SAYCam CBOW 0    False\n",
       "Name: 1119, dtype: bool"
      ]
     },
     "metadata": {},
     "output_type": "display_data"
    },
    {
     "name": "stdout",
     "output_type": "stream",
     "text": [
      "what was the words ?\n",
      "what was the word ?\n"
     ]
    },
    {
     "data": {
      "text/plain": [
       "SAYCam LSTM 0     True\n",
       "SAYCam 1-gram    False\n",
       "SAYCam 2-gram    False\n",
       "SAYCam CBOW 0    False\n",
       "Name: 1120, dtype: bool"
      ]
     },
     "metadata": {},
     "output_type": "display_data"
    },
    {
     "name": "stdout",
     "output_type": "stream",
     "text": [
      "what color was the words ?\n",
      "what color was the word ?\n"
     ]
    },
    {
     "data": {
      "text/plain": [
       "SAYCam LSTM 0     True\n",
       "SAYCam 1-gram    False\n",
       "SAYCam 2-gram    False\n",
       "SAYCam CBOW 0    False\n",
       "Name: 1121, dtype: bool"
      ]
     },
     "metadata": {},
     "output_type": "display_data"
    },
    {
     "name": "stdout",
     "output_type": "stream",
     "text": [
      "was the words not bad ?\n",
      "was the word not bad ?\n"
     ]
    },
    {
     "data": {
      "text/plain": [
       "SAYCam LSTM 0     True\n",
       "SAYCam 1-gram    False\n",
       "SAYCam 2-gram    False\n",
       "SAYCam CBOW 0    False\n",
       "Name: 1122, dtype: bool"
      ]
     },
     "metadata": {},
     "output_type": "display_data"
    },
    {
     "name": "stdout",
     "output_type": "stream",
     "text": [
      "was the words something you like ?\n",
      "was the word something you like ?\n"
     ]
    },
    {
     "data": {
      "text/plain": [
       "SAYCam LSTM 0     True\n",
       "SAYCam 1-gram    False\n",
       "SAYCam 2-gram    False\n",
       "SAYCam CBOW 0    False\n",
       "Name: 1124, dtype: bool"
      ]
     },
     "metadata": {},
     "output_type": "display_data"
    },
    {
     "name": "stdout",
     "output_type": "stream",
     "text": [
      "was the words a good idea ?\n",
      "was the word a good idea ?\n"
     ]
    },
    {
     "data": {
      "text/plain": [
       "SAYCam LSTM 0     True\n",
       "SAYCam 1-gram    False\n",
       "SAYCam 2-gram    False\n",
       "SAYCam CBOW 0    False\n",
       "Name: 1125, dtype: bool"
      ]
     },
     "metadata": {},
     "output_type": "display_data"
    },
    {
     "name": "stdout",
     "output_type": "stream",
     "text": [
      "where is the dogs ?\n",
      "where is the dog ?\n"
     ]
    },
    {
     "data": {
      "text/plain": [
       "SAYCam LSTM 0     True\n",
       "SAYCam 1-gram     True\n",
       "SAYCam 2-gram     True\n",
       "SAYCam CBOW 0    False\n",
       "Name: 1152, dtype: bool"
      ]
     },
     "metadata": {},
     "output_type": "display_data"
    },
    {
     "name": "stdout",
     "output_type": "stream",
     "text": [
      "what is the dogs ?\n",
      "what is the dog ?\n"
     ]
    },
    {
     "data": {
      "text/plain": [
       "SAYCam LSTM 0     True\n",
       "SAYCam 1-gram     True\n",
       "SAYCam 2-gram     True\n",
       "SAYCam CBOW 0    False\n",
       "Name: 1153, dtype: bool"
      ]
     },
     "metadata": {},
     "output_type": "display_data"
    },
    {
     "name": "stdout",
     "output_type": "stream",
     "text": [
      "what color is the dogs ?\n",
      "what color is the dog ?\n"
     ]
    },
    {
     "data": {
      "text/plain": [
       "SAYCam LSTM 0     True\n",
       "SAYCam 1-gram     True\n",
       "SAYCam 2-gram     True\n",
       "SAYCam CBOW 0    False\n",
       "Name: 1154, dtype: bool"
      ]
     },
     "metadata": {},
     "output_type": "display_data"
    },
    {
     "name": "stdout",
     "output_type": "stream",
     "text": [
      "is the dogs where it should be ?\n",
      "is the dog where it should be ?\n"
     ]
    },
    {
     "data": {
      "text/plain": [
       "SAYCam LSTM 0     True\n",
       "SAYCam 1-gram     True\n",
       "SAYCam 2-gram     True\n",
       "SAYCam CBOW 0    False\n",
       "Name: 1156, dtype: bool"
      ]
     },
     "metadata": {},
     "output_type": "display_data"
    },
    {
     "name": "stdout",
     "output_type": "stream",
     "text": [
      "where was the dogs ?\n",
      "where was the dog ?\n"
     ]
    },
    {
     "data": {
      "text/plain": [
       "SAYCam LSTM 0     True\n",
       "SAYCam 1-gram     True\n",
       "SAYCam 2-gram     True\n",
       "SAYCam CBOW 0    False\n",
       "Name: 1159, dtype: bool"
      ]
     },
     "metadata": {},
     "output_type": "display_data"
    },
    {
     "name": "stdout",
     "output_type": "stream",
     "text": [
      "what was the dogs ?\n",
      "what was the dog ?\n"
     ]
    },
    {
     "data": {
      "text/plain": [
       "SAYCam LSTM 0     True\n",
       "SAYCam 1-gram     True\n",
       "SAYCam 2-gram     True\n",
       "SAYCam CBOW 0    False\n",
       "Name: 1160, dtype: bool"
      ]
     },
     "metadata": {},
     "output_type": "display_data"
    },
    {
     "name": "stdout",
     "output_type": "stream",
     "text": [
      "what color was the dogs ?\n",
      "what color was the dog ?\n"
     ]
    },
    {
     "data": {
      "text/plain": [
       "SAYCam LSTM 0     True\n",
       "SAYCam 1-gram     True\n",
       "SAYCam 2-gram     True\n",
       "SAYCam CBOW 0    False\n",
       "Name: 1161, dtype: bool"
      ]
     },
     "metadata": {},
     "output_type": "display_data"
    },
    {
     "name": "stdout",
     "output_type": "stream",
     "text": [
      "was the dogs where it should be ?\n",
      "was the dog where it should be ?\n"
     ]
    },
    {
     "data": {
      "text/plain": [
       "SAYCam LSTM 0     True\n",
       "SAYCam 1-gram     True\n",
       "SAYCam 2-gram     True\n",
       "SAYCam CBOW 0    False\n",
       "Name: 1163, dtype: bool"
      ]
     },
     "metadata": {},
     "output_type": "display_data"
    },
    {
     "name": "stdout",
     "output_type": "stream",
     "text": [
      "are the dog where they should be ?\n",
      "are the dogs where they should be ?\n"
     ]
    },
    {
     "data": {
      "text/plain": [
       "SAYCam LSTM 0     True\n",
       "SAYCam 1-gram    False\n",
       "SAYCam 2-gram    False\n",
       "SAYCam CBOW 0    False\n",
       "Name: 1170, dtype: bool"
      ]
     },
     "metadata": {},
     "output_type": "display_data"
    },
    {
     "name": "stdout",
     "output_type": "stream",
     "text": [
      "are the dog something you like ?\n",
      "are the dogs something you like ?\n"
     ]
    },
    {
     "data": {
      "text/plain": [
       "SAYCam LSTM 0     True\n",
       "SAYCam 1-gram    False\n",
       "SAYCam 2-gram    False\n",
       "SAYCam CBOW 0    False\n",
       "Name: 1171, dtype: bool"
      ]
     },
     "metadata": {},
     "output_type": "display_data"
    },
    {
     "name": "stdout",
     "output_type": "stream",
     "text": [
      "what were the dog ?\n",
      "what were the dogs ?\n"
     ]
    },
    {
     "data": {
      "text/plain": [
       "SAYCam LSTM 0     True\n",
       "SAYCam 1-gram    False\n",
       "SAYCam 2-gram    False\n",
       "SAYCam CBOW 0    False\n",
       "Name: 1174, dtype: bool"
      ]
     },
     "metadata": {},
     "output_type": "display_data"
    },
    {
     "name": "stdout",
     "output_type": "stream",
     "text": [
      "were the dog where they should be ?\n",
      "were the dogs where they should be ?\n"
     ]
    },
    {
     "data": {
      "text/plain": [
       "SAYCam LSTM 0     True\n",
       "SAYCam 1-gram    False\n",
       "SAYCam 2-gram    False\n",
       "SAYCam CBOW 0    False\n",
       "Name: 1177, dtype: bool"
      ]
     },
     "metadata": {},
     "output_type": "display_data"
    },
    {
     "name": "stdout",
     "output_type": "stream",
     "text": [
      "were the dog something you like ?\n",
      "were the dogs something you like ?\n"
     ]
    },
    {
     "data": {
      "text/plain": [
       "SAYCam LSTM 0     True\n",
       "SAYCam 1-gram    False\n",
       "SAYCam 2-gram    False\n",
       "SAYCam CBOW 0    False\n",
       "Name: 1178, dtype: bool"
      ]
     },
     "metadata": {},
     "output_type": "display_data"
    },
    {
     "name": "stdout",
     "output_type": "stream",
     "text": [
      "were the dog a good idea ?\n",
      "were the dogs a good idea ?\n"
     ]
    },
    {
     "data": {
      "text/plain": [
       "SAYCam LSTM 0     True\n",
       "SAYCam 1-gram    False\n",
       "SAYCam 2-gram    False\n",
       "SAYCam CBOW 0    False\n",
       "Name: 1179, dtype: bool"
      ]
     },
     "metadata": {},
     "output_type": "display_data"
    },
    {
     "name": "stdout",
     "output_type": "stream",
     "text": [
      "are the color not red ?\n",
      "are the colors not red ?\n"
     ]
    },
    {
     "data": {
      "text/plain": [
       "SAYCam LSTM 0     True\n",
       "SAYCam 1-gram    False\n",
       "SAYCam 2-gram     True\n",
       "SAYCam CBOW 0     True\n",
       "Name: 1186, dtype: bool"
      ]
     },
     "metadata": {},
     "output_type": "display_data"
    },
    {
     "name": "stdout",
     "output_type": "stream",
     "text": [
      "were the color not red ?\n",
      "were the colors not red ?\n"
     ]
    },
    {
     "data": {
      "text/plain": [
       "SAYCam LSTM 0     True\n",
       "SAYCam 1-gram    False\n",
       "SAYCam 2-gram     True\n",
       "SAYCam CBOW 0     True\n",
       "Name: 1187, dtype: bool"
      ]
     },
     "metadata": {},
     "output_type": "display_data"
    },
    {
     "name": "stdout",
     "output_type": "stream",
     "text": [
      "is the books where it should be ?\n",
      "is the book where it should be ?\n"
     ]
    },
    {
     "data": {
      "text/plain": [
       "SAYCam LSTM 0     True\n",
       "SAYCam 1-gram     True\n",
       "SAYCam 2-gram     True\n",
       "SAYCam CBOW 0    False\n",
       "Name: 1216, dtype: bool"
      ]
     },
     "metadata": {},
     "output_type": "display_data"
    },
    {
     "name": "stdout",
     "output_type": "stream",
     "text": [
      "was the books where it should be ?\n",
      "was the book where it should be ?\n"
     ]
    },
    {
     "data": {
      "text/plain": [
       "SAYCam LSTM 0     True\n",
       "SAYCam 1-gram     True\n",
       "SAYCam 2-gram     True\n",
       "SAYCam CBOW 0    False\n",
       "Name: 1223, dtype: bool"
      ]
     },
     "metadata": {},
     "output_type": "display_data"
    },
    {
     "name": "stdout",
     "output_type": "stream",
     "text": [
      "is the arms where it should be ?\n",
      "is the arm where it should be ?\n"
     ]
    },
    {
     "data": {
      "text/plain": [
       "SAYCam LSTM 0     True\n",
       "SAYCam 1-gram     True\n",
       "SAYCam 2-gram     True\n",
       "SAYCam CBOW 0    False\n",
       "Name: 1244, dtype: bool"
      ]
     },
     "metadata": {},
     "output_type": "display_data"
    },
    {
     "name": "stdout",
     "output_type": "stream",
     "text": [
      "is the arms a good idea ?\n",
      "is the arm a good idea ?\n"
     ]
    },
    {
     "data": {
      "text/plain": [
       "SAYCam LSTM 0     True\n",
       "SAYCam 1-gram     True\n",
       "SAYCam 2-gram    False\n",
       "SAYCam CBOW 0    False\n",
       "Name: 1246, dtype: bool"
      ]
     },
     "metadata": {},
     "output_type": "display_data"
    },
    {
     "name": "stdout",
     "output_type": "stream",
     "text": [
      "was the arms where it should be ?\n",
      "was the arm where it should be ?\n"
     ]
    },
    {
     "data": {
      "text/plain": [
       "SAYCam LSTM 0     True\n",
       "SAYCam 1-gram     True\n",
       "SAYCam 2-gram     True\n",
       "SAYCam CBOW 0    False\n",
       "Name: 1251, dtype: bool"
      ]
     },
     "metadata": {},
     "output_type": "display_data"
    },
    {
     "name": "stdout",
     "output_type": "stream",
     "text": [
      "was the arms a good idea ?\n",
      "was the arm a good idea ?\n"
     ]
    },
    {
     "data": {
      "text/plain": [
       "SAYCam LSTM 0     True\n",
       "SAYCam 1-gram     True\n",
       "SAYCam 2-gram    False\n",
       "SAYCam CBOW 0    False\n",
       "Name: 1253, dtype: bool"
      ]
     },
     "metadata": {},
     "output_type": "display_data"
    },
    {
     "name": "stdout",
     "output_type": "stream",
     "text": [
      "where are the arm ?\n",
      "where are the arms ?\n"
     ]
    },
    {
     "data": {
      "text/plain": [
       "SAYCam LSTM 0     True\n",
       "SAYCam 1-gram    False\n",
       "SAYCam 2-gram    False\n",
       "SAYCam CBOW 0    False\n",
       "Name: 1254, dtype: bool"
      ]
     },
     "metadata": {},
     "output_type": "display_data"
    },
    {
     "name": "stdout",
     "output_type": "stream",
     "text": [
      "what are the arm ?\n",
      "what are the arms ?\n"
     ]
    },
    {
     "data": {
      "text/plain": [
       "SAYCam LSTM 0     True\n",
       "SAYCam 1-gram    False\n",
       "SAYCam 2-gram    False\n",
       "SAYCam CBOW 0    False\n",
       "Name: 1255, dtype: bool"
      ]
     },
     "metadata": {},
     "output_type": "display_data"
    },
    {
     "name": "stdout",
     "output_type": "stream",
     "text": [
      "are the arm where they should be ?\n",
      "are the arms where they should be ?\n"
     ]
    },
    {
     "data": {
      "text/plain": [
       "SAYCam LSTM 0     True\n",
       "SAYCam 1-gram    False\n",
       "SAYCam 2-gram    False\n",
       "SAYCam CBOW 0    False\n",
       "Name: 1258, dtype: bool"
      ]
     },
     "metadata": {},
     "output_type": "display_data"
    },
    {
     "name": "stdout",
     "output_type": "stream",
     "text": [
      "are the arm something you like ?\n",
      "are the arms something you like ?\n"
     ]
    },
    {
     "data": {
      "text/plain": [
       "SAYCam LSTM 0     True\n",
       "SAYCam 1-gram    False\n",
       "SAYCam 2-gram    False\n",
       "SAYCam CBOW 0    False\n",
       "Name: 1259, dtype: bool"
      ]
     },
     "metadata": {},
     "output_type": "display_data"
    },
    {
     "name": "stdout",
     "output_type": "stream",
     "text": [
      "are the arm a good idea ?\n",
      "are the arms a good idea ?\n"
     ]
    },
    {
     "data": {
      "text/plain": [
       "SAYCam LSTM 0     True\n",
       "SAYCam 1-gram    False\n",
       "SAYCam 2-gram     True\n",
       "SAYCam CBOW 0     True\n",
       "Name: 1260, dtype: bool"
      ]
     },
     "metadata": {},
     "output_type": "display_data"
    },
    {
     "name": "stdout",
     "output_type": "stream",
     "text": [
      "what were the arm ?\n",
      "what were the arms ?\n"
     ]
    },
    {
     "data": {
      "text/plain": [
       "SAYCam LSTM 0     True\n",
       "SAYCam 1-gram    False\n",
       "SAYCam 2-gram    False\n",
       "SAYCam CBOW 0    False\n",
       "Name: 1262, dtype: bool"
      ]
     },
     "metadata": {},
     "output_type": "display_data"
    },
    {
     "name": "stdout",
     "output_type": "stream",
     "text": [
      "were the arm where they should be ?\n",
      "were the arms where they should be ?\n"
     ]
    },
    {
     "data": {
      "text/plain": [
       "SAYCam LSTM 0     True\n",
       "SAYCam 1-gram    False\n",
       "SAYCam 2-gram    False\n",
       "SAYCam CBOW 0    False\n",
       "Name: 1265, dtype: bool"
      ]
     },
     "metadata": {},
     "output_type": "display_data"
    },
    {
     "name": "stdout",
     "output_type": "stream",
     "text": [
      "is the words not flat ?\n",
      "is the word not flat ?\n"
     ]
    },
    {
     "data": {
      "text/plain": [
       "SAYCam LSTM 0     True\n",
       "SAYCam 1-gram    False\n",
       "SAYCam 2-gram    False\n",
       "SAYCam CBOW 0    False\n",
       "Name: 1276, dtype: bool"
      ]
     },
     "metadata": {},
     "output_type": "display_data"
    },
    {
     "name": "stdout",
     "output_type": "stream",
     "text": [
      "was the words not flat ?\n",
      "was the word not flat ?\n"
     ]
    },
    {
     "data": {
      "text/plain": [
       "SAYCam LSTM 0     True\n",
       "SAYCam 1-gram    False\n",
       "SAYCam 2-gram    False\n",
       "SAYCam CBOW 0    False\n",
       "Name: 1277, dtype: bool"
      ]
     },
     "metadata": {},
     "output_type": "display_data"
    },
    {
     "name": "stdout",
     "output_type": "stream",
     "text": [
      "is the bits not white ?\n",
      "is the bit not white ?\n"
     ]
    },
    {
     "data": {
      "text/plain": [
       "SAYCam LSTM 0     True\n",
       "SAYCam 1-gram     True\n",
       "SAYCam 2-gram     True\n",
       "SAYCam CBOW 0    False\n",
       "Name: 1288, dtype: bool"
      ]
     },
     "metadata": {},
     "output_type": "display_data"
    },
    {
     "name": "stdout",
     "output_type": "stream",
     "text": [
      "was the bits not white ?\n",
      "was the bit not white ?\n"
     ]
    },
    {
     "data": {
      "text/plain": [
       "SAYCam LSTM 0     True\n",
       "SAYCam 1-gram     True\n",
       "SAYCam 2-gram     True\n",
       "SAYCam CBOW 0    False\n",
       "Name: 1289, dtype: bool"
      ]
     },
     "metadata": {},
     "output_type": "display_data"
    },
    {
     "name": "stdout",
     "output_type": "stream",
     "text": [
      "is the toys not flat ?\n",
      "is the toy not flat ?\n"
     ]
    },
    {
     "data": {
      "text/plain": [
       "SAYCam LSTM 0     True\n",
       "SAYCam 1-gram    False\n",
       "SAYCam 2-gram     True\n",
       "SAYCam CBOW 0    False\n",
       "Name: 1296, dtype: bool"
      ]
     },
     "metadata": {},
     "output_type": "display_data"
    },
    {
     "name": "stdout",
     "output_type": "stream",
     "text": [
      "was the toys not flat ?\n",
      "was the toy not flat ?\n"
     ]
    },
    {
     "data": {
      "text/plain": [
       "SAYCam LSTM 0     True\n",
       "SAYCam 1-gram    False\n",
       "SAYCam 2-gram     True\n",
       "SAYCam CBOW 0    False\n",
       "Name: 1297, dtype: bool"
      ]
     },
     "metadata": {},
     "output_type": "display_data"
    },
    {
     "name": "stdout",
     "output_type": "stream",
     "text": [
      "are the whale not purple ?\n",
      "are the whales not purple ?\n"
     ]
    },
    {
     "data": {
      "text/plain": [
       "SAYCam LSTM 0     True\n",
       "SAYCam 1-gram    False\n",
       "SAYCam 2-gram    False\n",
       "SAYCam CBOW 0    False\n",
       "Name: 1302, dtype: bool"
      ]
     },
     "metadata": {},
     "output_type": "display_data"
    },
    {
     "name": "stdout",
     "output_type": "stream",
     "text": [
      "is the rings not early ?\n",
      "is the ring not early ?\n"
     ]
    },
    {
     "data": {
      "text/plain": [
       "SAYCam LSTM 0     True\n",
       "SAYCam 1-gram     True\n",
       "SAYCam 2-gram    False\n",
       "SAYCam CBOW 0     True\n",
       "Name: 1347, dtype: bool"
      ]
     },
     "metadata": {},
     "output_type": "display_data"
    },
    {
     "name": "stdout",
     "output_type": "stream",
     "text": [
      "is the rings where it should be ?\n",
      "is the ring where it should be ?\n"
     ]
    },
    {
     "data": {
      "text/plain": [
       "SAYCam LSTM 0     True\n",
       "SAYCam 1-gram     True\n",
       "SAYCam 2-gram    False\n",
       "SAYCam CBOW 0    False\n",
       "Name: 1348, dtype: bool"
      ]
     },
     "metadata": {},
     "output_type": "display_data"
    },
    {
     "name": "stdout",
     "output_type": "stream",
     "text": [
      "is the rings something you like ?\n",
      "is the ring something you like ?\n"
     ]
    },
    {
     "data": {
      "text/plain": [
       "SAYCam LSTM 0     True\n",
       "SAYCam 1-gram     True\n",
       "SAYCam 2-gram    False\n",
       "SAYCam CBOW 0    False\n",
       "Name: 1349, dtype: bool"
      ]
     },
     "metadata": {},
     "output_type": "display_data"
    },
    {
     "name": "stdout",
     "output_type": "stream",
     "text": [
      "is the rings a good idea ?\n",
      "is the ring a good idea ?\n"
     ]
    },
    {
     "data": {
      "text/plain": [
       "SAYCam LSTM 0     True\n",
       "SAYCam 1-gram     True\n",
       "SAYCam 2-gram    False\n",
       "SAYCam CBOW 0     True\n",
       "Name: 1350, dtype: bool"
      ]
     },
     "metadata": {},
     "output_type": "display_data"
    },
    {
     "name": "stdout",
     "output_type": "stream",
     "text": [
      "where was the rings ?\n",
      "where was the ring ?\n"
     ]
    },
    {
     "data": {
      "text/plain": [
       "SAYCam LSTM 0     True\n",
       "SAYCam 1-gram     True\n",
       "SAYCam 2-gram    False\n",
       "SAYCam CBOW 0    False\n",
       "Name: 1351, dtype: bool"
      ]
     },
     "metadata": {},
     "output_type": "display_data"
    },
    {
     "name": "stdout",
     "output_type": "stream",
     "text": [
      "what color was the rings ?\n",
      "what color was the ring ?\n"
     ]
    },
    {
     "data": {
      "text/plain": [
       "SAYCam LSTM 0     True\n",
       "SAYCam 1-gram     True\n",
       "SAYCam 2-gram    False\n",
       "SAYCam CBOW 0    False\n",
       "Name: 1353, dtype: bool"
      ]
     },
     "metadata": {},
     "output_type": "display_data"
    },
    {
     "name": "stdout",
     "output_type": "stream",
     "text": [
      "was the rings not early ?\n",
      "was the ring not early ?\n"
     ]
    },
    {
     "data": {
      "text/plain": [
       "SAYCam LSTM 0     True\n",
       "SAYCam 1-gram     True\n",
       "SAYCam 2-gram    False\n",
       "SAYCam CBOW 0    False\n",
       "Name: 1354, dtype: bool"
      ]
     },
     "metadata": {},
     "output_type": "display_data"
    },
    {
     "name": "stdout",
     "output_type": "stream",
     "text": [
      "was the rings something you like ?\n",
      "was the ring something you like ?\n"
     ]
    },
    {
     "data": {
      "text/plain": [
       "SAYCam LSTM 0     True\n",
       "SAYCam 1-gram     True\n",
       "SAYCam 2-gram    False\n",
       "SAYCam CBOW 0    False\n",
       "Name: 1356, dtype: bool"
      ]
     },
     "metadata": {},
     "output_type": "display_data"
    },
    {
     "name": "stdout",
     "output_type": "stream",
     "text": [
      "was the rings a good idea ?\n",
      "was the ring a good idea ?\n"
     ]
    },
    {
     "data": {
      "text/plain": [
       "SAYCam LSTM 0     True\n",
       "SAYCam 1-gram     True\n",
       "SAYCam 2-gram    False\n",
       "SAYCam CBOW 0     True\n",
       "Name: 1357, dtype: bool"
      ]
     },
     "metadata": {},
     "output_type": "display_data"
    },
    {
     "name": "stdout",
     "output_type": "stream",
     "text": [
      "where are the ring ?\n",
      "where are the rings ?\n"
     ]
    },
    {
     "data": {
      "text/plain": [
       "SAYCam LSTM 0     True\n",
       "SAYCam 1-gram    False\n",
       "SAYCam 2-gram     True\n",
       "SAYCam CBOW 0     True\n",
       "Name: 1358, dtype: bool"
      ]
     },
     "metadata": {},
     "output_type": "display_data"
    },
    {
     "name": "stdout",
     "output_type": "stream",
     "text": [
      "what are the ring ?\n",
      "what are the rings ?\n"
     ]
    },
    {
     "data": {
      "text/plain": [
       "SAYCam LSTM 0     True\n",
       "SAYCam 1-gram    False\n",
       "SAYCam 2-gram     True\n",
       "SAYCam CBOW 0     True\n",
       "Name: 1359, dtype: bool"
      ]
     },
     "metadata": {},
     "output_type": "display_data"
    },
    {
     "name": "stdout",
     "output_type": "stream",
     "text": [
      "what color are the ring ?\n",
      "what color are the rings ?\n"
     ]
    },
    {
     "data": {
      "text/plain": [
       "SAYCam LSTM 0     True\n",
       "SAYCam 1-gram    False\n",
       "SAYCam 2-gram     True\n",
       "SAYCam CBOW 0     True\n",
       "Name: 1360, dtype: bool"
      ]
     },
     "metadata": {},
     "output_type": "display_data"
    },
    {
     "name": "stdout",
     "output_type": "stream",
     "text": [
      "are the ring where they should be ?\n",
      "are the rings where they should be ?\n"
     ]
    },
    {
     "data": {
      "text/plain": [
       "SAYCam LSTM 0     True\n",
       "SAYCam 1-gram    False\n",
       "SAYCam 2-gram     True\n",
       "SAYCam CBOW 0    False\n",
       "Name: 1362, dtype: bool"
      ]
     },
     "metadata": {},
     "output_type": "display_data"
    },
    {
     "name": "stdout",
     "output_type": "stream",
     "text": [
      "were the ring where they should be ?\n",
      "were the rings where they should be ?\n"
     ]
    },
    {
     "data": {
      "text/plain": [
       "SAYCam LSTM 0     True\n",
       "SAYCam 1-gram    False\n",
       "SAYCam 2-gram     True\n",
       "SAYCam CBOW 0    False\n",
       "Name: 1369, dtype: bool"
      ]
     },
     "metadata": {},
     "output_type": "display_data"
    },
    {
     "name": "stdout",
     "output_type": "stream",
     "text": [
      "is the words not soft ?\n",
      "is the word not soft ?\n"
     ]
    },
    {
     "data": {
      "text/plain": [
       "SAYCam LSTM 0     True\n",
       "SAYCam 1-gram    False\n",
       "SAYCam 2-gram    False\n",
       "SAYCam CBOW 0    False\n",
       "Name: 1404, dtype: bool"
      ]
     },
     "metadata": {},
     "output_type": "display_data"
    },
    {
     "name": "stdout",
     "output_type": "stream",
     "text": [
      "was the words not soft ?\n",
      "was the word not soft ?\n"
     ]
    },
    {
     "data": {
      "text/plain": [
       "SAYCam LSTM 0     True\n",
       "SAYCam 1-gram    False\n",
       "SAYCam 2-gram    False\n",
       "SAYCam CBOW 0    False\n",
       "Name: 1405, dtype: bool"
      ]
     },
     "metadata": {},
     "output_type": "display_data"
    },
    {
     "name": "stdout",
     "output_type": "stream",
     "text": [
      "is the rings not quick ?\n",
      "is the ring not quick ?\n"
     ]
    },
    {
     "data": {
      "text/plain": [
       "SAYCam LSTM 0     True\n",
       "SAYCam 1-gram     True\n",
       "SAYCam 2-gram    False\n",
       "SAYCam CBOW 0     True\n",
       "Name: 1452, dtype: bool"
      ]
     },
     "metadata": {},
     "output_type": "display_data"
    },
    {
     "name": "stdout",
     "output_type": "stream",
     "text": [
      "was the rings not quick ?\n",
      "was the ring not quick ?\n"
     ]
    },
    {
     "data": {
      "text/plain": [
       "SAYCam LSTM 0     True\n",
       "SAYCam 1-gram     True\n",
       "SAYCam 2-gram    False\n",
       "SAYCam CBOW 0    False\n",
       "Name: 1453, dtype: bool"
      ]
     },
     "metadata": {},
     "output_type": "display_data"
    },
    {
     "name": "stdout",
     "output_type": "stream",
     "text": [
      "where is the eggs ?\n",
      "where is the egg ?\n"
     ]
    },
    {
     "data": {
      "text/plain": [
       "SAYCam LSTM 0     True\n",
       "SAYCam 1-gram    False\n",
       "SAYCam 2-gram     True\n",
       "SAYCam CBOW 0     True\n",
       "Name: 1516, dtype: bool"
      ]
     },
     "metadata": {},
     "output_type": "display_data"
    },
    {
     "name": "stdout",
     "output_type": "stream",
     "text": [
      "what is the eggs ?\n",
      "what is the egg ?\n"
     ]
    },
    {
     "data": {
      "text/plain": [
       "SAYCam LSTM 0     True\n",
       "SAYCam 1-gram    False\n",
       "SAYCam 2-gram     True\n",
       "SAYCam CBOW 0     True\n",
       "Name: 1517, dtype: bool"
      ]
     },
     "metadata": {},
     "output_type": "display_data"
    },
    {
     "name": "stdout",
     "output_type": "stream",
     "text": [
      "is the eggs a good idea ?\n",
      "is the egg a good idea ?\n"
     ]
    },
    {
     "data": {
      "text/plain": [
       "SAYCam LSTM 0     True\n",
       "SAYCam 1-gram    False\n",
       "SAYCam 2-gram     True\n",
       "SAYCam CBOW 0     True\n",
       "Name: 1522, dtype: bool"
      ]
     },
     "metadata": {},
     "output_type": "display_data"
    },
    {
     "name": "stdout",
     "output_type": "stream",
     "text": [
      "where was the eggs ?\n",
      "where was the egg ?\n"
     ]
    },
    {
     "data": {
      "text/plain": [
       "SAYCam LSTM 0     True\n",
       "SAYCam 1-gram    False\n",
       "SAYCam 2-gram     True\n",
       "SAYCam CBOW 0     True\n",
       "Name: 1523, dtype: bool"
      ]
     },
     "metadata": {},
     "output_type": "display_data"
    },
    {
     "name": "stdout",
     "output_type": "stream",
     "text": [
      "what was the eggs ?\n",
      "what was the egg ?\n"
     ]
    },
    {
     "data": {
      "text/plain": [
       "SAYCam LSTM 0     True\n",
       "SAYCam 1-gram    False\n",
       "SAYCam 2-gram     True\n",
       "SAYCam CBOW 0     True\n",
       "Name: 1524, dtype: bool"
      ]
     },
     "metadata": {},
     "output_type": "display_data"
    },
    {
     "name": "stdout",
     "output_type": "stream",
     "text": [
      "what color was the eggs ?\n",
      "what color was the egg ?\n"
     ]
    },
    {
     "data": {
      "text/plain": [
       "SAYCam LSTM 0     True\n",
       "SAYCam 1-gram    False\n",
       "SAYCam 2-gram     True\n",
       "SAYCam CBOW 0     True\n",
       "Name: 1525, dtype: bool"
      ]
     },
     "metadata": {},
     "output_type": "display_data"
    },
    {
     "name": "stdout",
     "output_type": "stream",
     "text": [
      "was the eggs something you like ?\n",
      "was the egg something you like ?\n"
     ]
    },
    {
     "data": {
      "text/plain": [
       "SAYCam LSTM 0     True\n",
       "SAYCam 1-gram    False\n",
       "SAYCam 2-gram     True\n",
       "SAYCam CBOW 0     True\n",
       "Name: 1528, dtype: bool"
      ]
     },
     "metadata": {},
     "output_type": "display_data"
    },
    {
     "name": "stdout",
     "output_type": "stream",
     "text": [
      "was the eggs a good idea ?\n",
      "was the egg a good idea ?\n"
     ]
    },
    {
     "data": {
      "text/plain": [
       "SAYCam LSTM 0     True\n",
       "SAYCam 1-gram    False\n",
       "SAYCam 2-gram     True\n",
       "SAYCam CBOW 0     True\n",
       "Name: 1529, dtype: bool"
      ]
     },
     "metadata": {},
     "output_type": "display_data"
    },
    {
     "name": "stdout",
     "output_type": "stream",
     "text": [
      "where are the egg ?\n",
      "where are the eggs ?\n"
     ]
    },
    {
     "data": {
      "text/plain": [
       "SAYCam LSTM 0     True\n",
       "SAYCam 1-gram     True\n",
       "SAYCam 2-gram    False\n",
       "SAYCam CBOW 0    False\n",
       "Name: 1530, dtype: bool"
      ]
     },
     "metadata": {},
     "output_type": "display_data"
    },
    {
     "name": "stdout",
     "output_type": "stream",
     "text": [
      "what are the egg ?\n",
      "what are the eggs ?\n"
     ]
    },
    {
     "data": {
      "text/plain": [
       "SAYCam LSTM 0     True\n",
       "SAYCam 1-gram     True\n",
       "SAYCam 2-gram    False\n",
       "SAYCam CBOW 0    False\n",
       "Name: 1531, dtype: bool"
      ]
     },
     "metadata": {},
     "output_type": "display_data"
    },
    {
     "name": "stdout",
     "output_type": "stream",
     "text": [
      "what color are the egg ?\n",
      "what color are the eggs ?\n"
     ]
    },
    {
     "data": {
      "text/plain": [
       "SAYCam LSTM 0     True\n",
       "SAYCam 1-gram     True\n",
       "SAYCam 2-gram    False\n",
       "SAYCam CBOW 0    False\n",
       "Name: 1532, dtype: bool"
      ]
     },
     "metadata": {},
     "output_type": "display_data"
    },
    {
     "name": "stdout",
     "output_type": "stream",
     "text": [
      "are the egg something you like ?\n",
      "are the eggs something you like ?\n"
     ]
    },
    {
     "data": {
      "text/plain": [
       "SAYCam LSTM 0     True\n",
       "SAYCam 1-gram     True\n",
       "SAYCam 2-gram    False\n",
       "SAYCam CBOW 0    False\n",
       "Name: 1535, dtype: bool"
      ]
     },
     "metadata": {},
     "output_type": "display_data"
    },
    {
     "name": "stdout",
     "output_type": "stream",
     "text": [
      "what were the egg ?\n",
      "what were the eggs ?\n"
     ]
    },
    {
     "data": {
      "text/plain": [
       "SAYCam LSTM 0     True\n",
       "SAYCam 1-gram     True\n",
       "SAYCam 2-gram    False\n",
       "SAYCam CBOW 0    False\n",
       "Name: 1538, dtype: bool"
      ]
     },
     "metadata": {},
     "output_type": "display_data"
    },
    {
     "name": "stdout",
     "output_type": "stream",
     "text": [
      "what color were the egg ?\n",
      "what color were the eggs ?\n"
     ]
    },
    {
     "data": {
      "text/plain": [
       "SAYCam LSTM 0     True\n",
       "SAYCam 1-gram     True\n",
       "SAYCam 2-gram    False\n",
       "SAYCam CBOW 0    False\n",
       "Name: 1539, dtype: bool"
      ]
     },
     "metadata": {},
     "output_type": "display_data"
    },
    {
     "name": "stdout",
     "output_type": "stream",
     "text": [
      "where is the pictures ?\n",
      "where is the picture ?\n"
     ]
    },
    {
     "data": {
      "text/plain": [
       "SAYCam LSTM 0     True\n",
       "SAYCam 1-gram     True\n",
       "SAYCam 2-gram     True\n",
       "SAYCam CBOW 0    False\n",
       "Name: 1552, dtype: bool"
      ]
     },
     "metadata": {},
     "output_type": "display_data"
    },
    {
     "name": "stdout",
     "output_type": "stream",
     "text": [
      "what is the pictures ?\n",
      "what is the picture ?\n"
     ]
    },
    {
     "data": {
      "text/plain": [
       "SAYCam LSTM 0     True\n",
       "SAYCam 1-gram     True\n",
       "SAYCam 2-gram     True\n",
       "SAYCam CBOW 0    False\n",
       "Name: 1553, dtype: bool"
      ]
     },
     "metadata": {},
     "output_type": "display_data"
    },
    {
     "name": "stdout",
     "output_type": "stream",
     "text": [
      "what color is the pictures ?\n",
      "what color is the picture ?\n"
     ]
    },
    {
     "data": {
      "text/plain": [
       "SAYCam LSTM 0     True\n",
       "SAYCam 1-gram     True\n",
       "SAYCam 2-gram     True\n",
       "SAYCam CBOW 0    False\n",
       "Name: 1554, dtype: bool"
      ]
     },
     "metadata": {},
     "output_type": "display_data"
    },
    {
     "name": "stdout",
     "output_type": "stream",
     "text": [
      "is the pictures where it should be ?\n",
      "is the picture where it should be ?\n"
     ]
    },
    {
     "data": {
      "text/plain": [
       "SAYCam LSTM 0     True\n",
       "SAYCam 1-gram     True\n",
       "SAYCam 2-gram     True\n",
       "SAYCam CBOW 0    False\n",
       "Name: 1556, dtype: bool"
      ]
     },
     "metadata": {},
     "output_type": "display_data"
    },
    {
     "name": "stdout",
     "output_type": "stream",
     "text": [
      "where was the pictures ?\n",
      "where was the picture ?\n"
     ]
    },
    {
     "data": {
      "text/plain": [
       "SAYCam LSTM 0     True\n",
       "SAYCam 1-gram     True\n",
       "SAYCam 2-gram     True\n",
       "SAYCam CBOW 0    False\n",
       "Name: 1559, dtype: bool"
      ]
     },
     "metadata": {},
     "output_type": "display_data"
    },
    {
     "name": "stdout",
     "output_type": "stream",
     "text": [
      "what was the pictures ?\n",
      "what was the picture ?\n"
     ]
    },
    {
     "data": {
      "text/plain": [
       "SAYCam LSTM 0     True\n",
       "SAYCam 1-gram     True\n",
       "SAYCam 2-gram     True\n",
       "SAYCam CBOW 0    False\n",
       "Name: 1560, dtype: bool"
      ]
     },
     "metadata": {},
     "output_type": "display_data"
    },
    {
     "name": "stdout",
     "output_type": "stream",
     "text": [
      "what color was the pictures ?\n",
      "what color was the picture ?\n"
     ]
    },
    {
     "data": {
      "text/plain": [
       "SAYCam LSTM 0     True\n",
       "SAYCam 1-gram     True\n",
       "SAYCam 2-gram     True\n",
       "SAYCam CBOW 0    False\n",
       "Name: 1561, dtype: bool"
      ]
     },
     "metadata": {},
     "output_type": "display_data"
    },
    {
     "name": "stdout",
     "output_type": "stream",
     "text": [
      "was the pictures where it should be ?\n",
      "was the picture where it should be ?\n"
     ]
    },
    {
     "data": {
      "text/plain": [
       "SAYCam LSTM 0     True\n",
       "SAYCam 1-gram     True\n",
       "SAYCam 2-gram     True\n",
       "SAYCam CBOW 0    False\n",
       "Name: 1563, dtype: bool"
      ]
     },
     "metadata": {},
     "output_type": "display_data"
    },
    {
     "name": "stdout",
     "output_type": "stream",
     "text": [
      "what are the picture ?\n",
      "what are the pictures ?\n"
     ]
    },
    {
     "data": {
      "text/plain": [
       "SAYCam LSTM 0     True\n",
       "SAYCam 1-gram    False\n",
       "SAYCam 2-gram    False\n",
       "SAYCam CBOW 0    False\n",
       "Name: 1567, dtype: bool"
      ]
     },
     "metadata": {},
     "output_type": "display_data"
    },
    {
     "name": "stdout",
     "output_type": "stream",
     "text": [
      "what color are the picture ?\n",
      "what color are the pictures ?\n"
     ]
    },
    {
     "data": {
      "text/plain": [
       "SAYCam LSTM 0     True\n",
       "SAYCam 1-gram    False\n",
       "SAYCam 2-gram    False\n",
       "SAYCam CBOW 0    False\n",
       "Name: 1568, dtype: bool"
      ]
     },
     "metadata": {},
     "output_type": "display_data"
    },
    {
     "name": "stdout",
     "output_type": "stream",
     "text": [
      "are the picture something you like ?\n",
      "are the pictures something you like ?\n"
     ]
    },
    {
     "data": {
      "text/plain": [
       "SAYCam LSTM 0     True\n",
       "SAYCam 1-gram    False\n",
       "SAYCam 2-gram    False\n",
       "SAYCam CBOW 0    False\n",
       "Name: 1571, dtype: bool"
      ]
     },
     "metadata": {},
     "output_type": "display_data"
    },
    {
     "name": "stdout",
     "output_type": "stream",
     "text": [
      "what were the picture ?\n",
      "what were the pictures ?\n"
     ]
    },
    {
     "data": {
      "text/plain": [
       "SAYCam LSTM 0     True\n",
       "SAYCam 1-gram    False\n",
       "SAYCam 2-gram    False\n",
       "SAYCam CBOW 0    False\n",
       "Name: 1574, dtype: bool"
      ]
     },
     "metadata": {},
     "output_type": "display_data"
    },
    {
     "name": "stdout",
     "output_type": "stream",
     "text": [
      "what color were the picture ?\n",
      "what color were the pictures ?\n"
     ]
    },
    {
     "data": {
      "text/plain": [
       "SAYCam LSTM 0     True\n",
       "SAYCam 1-gram    False\n",
       "SAYCam 2-gram    False\n",
       "SAYCam CBOW 0    False\n",
       "Name: 1575, dtype: bool"
      ]
     },
     "metadata": {},
     "output_type": "display_data"
    },
    {
     "name": "stdout",
     "output_type": "stream",
     "text": [
      "is the minutes not fixed ?\n",
      "is the minute not fixed ?\n"
     ]
    },
    {
     "data": {
      "text/plain": [
       "SAYCam LSTM 0     True\n",
       "SAYCam 1-gram    False\n",
       "SAYCam 2-gram    False\n",
       "SAYCam CBOW 0     True\n",
       "Name: 1580, dtype: bool"
      ]
     },
     "metadata": {},
     "output_type": "display_data"
    },
    {
     "name": "stdout",
     "output_type": "stream",
     "text": [
      "was the minutes not fixed ?\n",
      "was the minute not fixed ?\n"
     ]
    },
    {
     "data": {
      "text/plain": [
       "SAYCam LSTM 0     True\n",
       "SAYCam 1-gram    False\n",
       "SAYCam 2-gram    False\n",
       "SAYCam CBOW 0     True\n",
       "Name: 1581, dtype: bool"
      ]
     },
     "metadata": {},
     "output_type": "display_data"
    },
    {
     "name": "stdout",
     "output_type": "stream",
     "text": [
      "is the hands not white ?\n",
      "is the hand not white ?\n"
     ]
    },
    {
     "data": {
      "text/plain": [
       "SAYCam LSTM 0     True\n",
       "SAYCam 1-gram     True\n",
       "SAYCam 2-gram     True\n",
       "SAYCam CBOW 0    False\n",
       "Name: 1596, dtype: bool"
      ]
     },
     "metadata": {},
     "output_type": "display_data"
    },
    {
     "name": "stdout",
     "output_type": "stream",
     "text": [
      "was the hands not white ?\n",
      "was the hand not white ?\n"
     ]
    },
    {
     "data": {
      "text/plain": [
       "SAYCam LSTM 0     True\n",
       "SAYCam 1-gram     True\n",
       "SAYCam 2-gram     True\n",
       "SAYCam CBOW 0    False\n",
       "Name: 1597, dtype: bool"
      ]
     },
     "metadata": {},
     "output_type": "display_data"
    },
    {
     "name": "stdout",
     "output_type": "stream",
     "text": [
      "are the hand not white ?\n",
      "are the hands not white ?\n"
     ]
    },
    {
     "data": {
      "text/plain": [
       "SAYCam LSTM 0     True\n",
       "SAYCam 1-gram    False\n",
       "SAYCam 2-gram    False\n",
       "SAYCam CBOW 0     True\n",
       "Name: 1598, dtype: bool"
      ]
     },
     "metadata": {},
     "output_type": "display_data"
    },
    {
     "name": "stdout",
     "output_type": "stream",
     "text": [
      "is the bits not quick ?\n",
      "is the bit not quick ?\n"
     ]
    },
    {
     "data": {
      "text/plain": [
       "SAYCam LSTM 0     True\n",
       "SAYCam 1-gram     True\n",
       "SAYCam 2-gram     True\n",
       "SAYCam CBOW 0    False\n",
       "Name: 1628, dtype: bool"
      ]
     },
     "metadata": {},
     "output_type": "display_data"
    },
    {
     "name": "stdout",
     "output_type": "stream",
     "text": [
      "was the bits not quick ?\n",
      "was the bit not quick ?\n"
     ]
    },
    {
     "data": {
      "text/plain": [
       "SAYCam LSTM 0     True\n",
       "SAYCam 1-gram     True\n",
       "SAYCam 2-gram     True\n",
       "SAYCam CBOW 0    False\n",
       "Name: 1629, dtype: bool"
      ]
     },
     "metadata": {},
     "output_type": "display_data"
    },
    {
     "name": "stdout",
     "output_type": "stream",
     "text": [
      "was the guys not full ?\n",
      "was the guy not full ?\n"
     ]
    },
    {
     "data": {
      "text/plain": [
       "SAYCam LSTM 0     True\n",
       "SAYCam 1-gram     True\n",
       "SAYCam 2-gram     True\n",
       "SAYCam CBOW 0    False\n",
       "Name: 1637, dtype: bool"
      ]
     },
     "metadata": {},
     "output_type": "display_data"
    },
    {
     "name": "stdout",
     "output_type": "stream",
     "text": [
      "are the guy not tall ?\n",
      "are the guys not tall ?\n"
     ]
    },
    {
     "data": {
      "text/plain": [
       "SAYCam LSTM 0     True\n",
       "SAYCam 1-gram    False\n",
       "SAYCam 2-gram    False\n",
       "SAYCam CBOW 0     True\n",
       "Name: 1650, dtype: bool"
      ]
     },
     "metadata": {},
     "output_type": "display_data"
    },
    {
     "name": "stdout",
     "output_type": "stream",
     "text": [
      "were the guy not tall ?\n",
      "were the guys not tall ?\n"
     ]
    },
    {
     "data": {
      "text/plain": [
       "SAYCam LSTM 0     True\n",
       "SAYCam 1-gram    False\n",
       "SAYCam 2-gram    False\n",
       "SAYCam CBOW 0     True\n",
       "Name: 1651, dtype: bool"
      ]
     },
     "metadata": {},
     "output_type": "display_data"
    },
    {
     "name": "stdout",
     "output_type": "stream",
     "text": [
      "was the dogs not full ?\n",
      "was the dog not full ?\n"
     ]
    },
    {
     "data": {
      "text/plain": [
       "SAYCam LSTM 0     True\n",
       "SAYCam 1-gram     True\n",
       "SAYCam 2-gram     True\n",
       "SAYCam CBOW 0    False\n",
       "Name: 1661, dtype: bool"
      ]
     },
     "metadata": {},
     "output_type": "display_data"
    },
    {
     "name": "stdout",
     "output_type": "stream",
     "text": [
      "were the dog not full ?\n",
      "were the dogs not full ?\n"
     ]
    },
    {
     "data": {
      "text/plain": [
       "SAYCam LSTM 0     True\n",
       "SAYCam 1-gram    False\n",
       "SAYCam 2-gram    False\n",
       "SAYCam CBOW 0    False\n",
       "Name: 1663, dtype: bool"
      ]
     },
     "metadata": {},
     "output_type": "display_data"
    },
    {
     "name": "stdout",
     "output_type": "stream",
     "text": [
      "is the pictures not good ?\n",
      "is the picture not good ?\n"
     ]
    },
    {
     "data": {
      "text/plain": [
       "SAYCam LSTM 0     True\n",
       "SAYCam 1-gram     True\n",
       "SAYCam 2-gram     True\n",
       "SAYCam CBOW 0    False\n",
       "Name: 1664, dtype: bool"
      ]
     },
     "metadata": {},
     "output_type": "display_data"
    },
    {
     "name": "stdout",
     "output_type": "stream",
     "text": [
      "was the pictures not good ?\n",
      "was the picture not good ?\n"
     ]
    },
    {
     "data": {
      "text/plain": [
       "SAYCam LSTM 0     True\n",
       "SAYCam 1-gram     True\n",
       "SAYCam 2-gram     True\n",
       "SAYCam CBOW 0    False\n",
       "Name: 1665, dtype: bool"
      ]
     },
     "metadata": {},
     "output_type": "display_data"
    },
    {
     "name": "stdout",
     "output_type": "stream",
     "text": [
      "is the pictures not purple ?\n",
      "is the picture not purple ?\n"
     ]
    },
    {
     "data": {
      "text/plain": [
       "SAYCam LSTM 0     True\n",
       "SAYCam 1-gram     True\n",
       "SAYCam 2-gram     True\n",
       "SAYCam CBOW 0    False\n",
       "Name: 1672, dtype: bool"
      ]
     },
     "metadata": {},
     "output_type": "display_data"
    },
    {
     "name": "stdout",
     "output_type": "stream",
     "text": [
      "was the pictures not purple ?\n",
      "was the picture not purple ?\n"
     ]
    },
    {
     "data": {
      "text/plain": [
       "SAYCam LSTM 0     True\n",
       "SAYCam 1-gram     True\n",
       "SAYCam 2-gram     True\n",
       "SAYCam CBOW 0    False\n",
       "Name: 1673, dtype: bool"
      ]
     },
     "metadata": {},
     "output_type": "display_data"
    },
    {
     "name": "stdout",
     "output_type": "stream",
     "text": [
      "is the minutes not soft ?\n",
      "is the minute not soft ?\n"
     ]
    },
    {
     "data": {
      "text/plain": [
       "SAYCam LSTM 0     True\n",
       "SAYCam 1-gram    False\n",
       "SAYCam 2-gram    False\n",
       "SAYCam CBOW 0     True\n",
       "Name: 1708, dtype: bool"
      ]
     },
     "metadata": {},
     "output_type": "display_data"
    },
    {
     "name": "stdout",
     "output_type": "stream",
     "text": [
      "was the minutes not soft ?\n",
      "was the minute not soft ?\n"
     ]
    },
    {
     "data": {
      "text/plain": [
       "SAYCam LSTM 0     True\n",
       "SAYCam 1-gram    False\n",
       "SAYCam 2-gram    False\n",
       "SAYCam CBOW 0     True\n",
       "Name: 1709, dtype: bool"
      ]
     },
     "metadata": {},
     "output_type": "display_data"
    },
    {
     "name": "stdout",
     "output_type": "stream",
     "text": [
      "are the guy not poor ?\n",
      "are the guys not poor ?\n"
     ]
    },
    {
     "data": {
      "text/plain": [
       "SAYCam LSTM 0     True\n",
       "SAYCam 1-gram    False\n",
       "SAYCam 2-gram    False\n",
       "SAYCam CBOW 0     True\n",
       "Name: 1726, dtype: bool"
      ]
     },
     "metadata": {},
     "output_type": "display_data"
    },
    {
     "name": "stdout",
     "output_type": "stream",
     "text": [
      "were the guy not poor ?\n",
      "were the guys not poor ?\n"
     ]
    },
    {
     "data": {
      "text/plain": [
       "SAYCam LSTM 0     True\n",
       "SAYCam 1-gram    False\n",
       "SAYCam 2-gram    False\n",
       "SAYCam CBOW 0     True\n",
       "Name: 1727, dtype: bool"
      ]
     },
     "metadata": {},
     "output_type": "display_data"
    },
    {
     "name": "stdout",
     "output_type": "stream",
     "text": [
      "is the bits not little ?\n",
      "is the bit not little ?\n"
     ]
    },
    {
     "data": {
      "text/plain": [
       "SAYCam LSTM 0     True\n",
       "SAYCam 1-gram     True\n",
       "SAYCam 2-gram     True\n",
       "SAYCam CBOW 0    False\n",
       "Name: 1732, dtype: bool"
      ]
     },
     "metadata": {},
     "output_type": "display_data"
    },
    {
     "name": "stdout",
     "output_type": "stream",
     "text": [
      "was the bits not little ?\n",
      "was the bit not little ?\n"
     ]
    },
    {
     "data": {
      "text/plain": [
       "SAYCam LSTM 0     True\n",
       "SAYCam 1-gram     True\n",
       "SAYCam 2-gram     True\n",
       "SAYCam CBOW 0    False\n",
       "Name: 1733, dtype: bool"
      ]
     },
     "metadata": {},
     "output_type": "display_data"
    },
    {
     "name": "stdout",
     "output_type": "stream",
     "text": [
      "is the pictures not full ?\n",
      "is the picture not full ?\n"
     ]
    },
    {
     "data": {
      "text/plain": [
       "SAYCam LSTM 0     True\n",
       "SAYCam 1-gram     True\n",
       "SAYCam 2-gram     True\n",
       "SAYCam CBOW 0    False\n",
       "Name: 1740, dtype: bool"
      ]
     },
     "metadata": {},
     "output_type": "display_data"
    },
    {
     "name": "stdout",
     "output_type": "stream",
     "text": [
      "was the pictures not full ?\n",
      "was the picture not full ?\n"
     ]
    },
    {
     "data": {
      "text/plain": [
       "SAYCam LSTM 0     True\n",
       "SAYCam 1-gram     True\n",
       "SAYCam 2-gram     True\n",
       "SAYCam CBOW 0    False\n",
       "Name: 1741, dtype: bool"
      ]
     },
     "metadata": {},
     "output_type": "display_data"
    },
    {
     "name": "stdout",
     "output_type": "stream",
     "text": [
      "are the arm not early ?\n",
      "are the arms not early ?\n"
     ]
    },
    {
     "data": {
      "text/plain": [
       "SAYCam LSTM 0     True\n",
       "SAYCam 1-gram    False\n",
       "SAYCam 2-gram    False\n",
       "SAYCam CBOW 0    False\n",
       "Name: 1746, dtype: bool"
      ]
     },
     "metadata": {},
     "output_type": "display_data"
    },
    {
     "name": "stdout",
     "output_type": "stream",
     "text": [
      "is the horses not white ?\n",
      "is the horse not white ?\n"
     ]
    },
    {
     "data": {
      "text/plain": [
       "SAYCam LSTM 0     True\n",
       "SAYCam 1-gram     True\n",
       "SAYCam 2-gram     True\n",
       "SAYCam CBOW 0    False\n",
       "Name: 1768, dtype: bool"
      ]
     },
     "metadata": {},
     "output_type": "display_data"
    },
    {
     "name": "stdout",
     "output_type": "stream",
     "text": [
      "was the horses not white ?\n",
      "was the horse not white ?\n"
     ]
    },
    {
     "data": {
      "text/plain": [
       "SAYCam LSTM 0     True\n",
       "SAYCam 1-gram     True\n",
       "SAYCam 2-gram     True\n",
       "SAYCam CBOW 0    False\n",
       "Name: 1769, dtype: bool"
      ]
     },
     "metadata": {},
     "output_type": "display_data"
    },
    {
     "name": "stdout",
     "output_type": "stream",
     "text": [
      "is the rings not nice ?\n",
      "is the ring not nice ?\n"
     ]
    },
    {
     "data": {
      "text/plain": [
       "SAYCam LSTM 0     True\n",
       "SAYCam 1-gram     True\n",
       "SAYCam 2-gram    False\n",
       "SAYCam CBOW 0    False\n",
       "Name: 1780, dtype: bool"
      ]
     },
     "metadata": {},
     "output_type": "display_data"
    },
    {
     "name": "stdout",
     "output_type": "stream",
     "text": [
      "was the rings not nice ?\n",
      "was the ring not nice ?\n"
     ]
    },
    {
     "data": {
      "text/plain": [
       "SAYCam LSTM 0     True\n",
       "SAYCam 1-gram     True\n",
       "SAYCam 2-gram    False\n",
       "SAYCam CBOW 0    False\n",
       "Name: 1781, dtype: bool"
      ]
     },
     "metadata": {},
     "output_type": "display_data"
    },
    {
     "name": "stdout",
     "output_type": "stream",
     "text": [
      "was the books not ready ?\n",
      "was the book not ready ?\n"
     ]
    },
    {
     "data": {
      "text/plain": [
       "SAYCam LSTM 0     True\n",
       "SAYCam 1-gram     True\n",
       "SAYCam 2-gram     True\n",
       "SAYCam CBOW 0    False\n",
       "Name: 1785, dtype: bool"
      ]
     },
     "metadata": {},
     "output_type": "display_data"
    },
    {
     "name": "stdout",
     "output_type": "stream",
     "text": [
      "are the hand not purple ?\n",
      "are the hands not purple ?\n"
     ]
    },
    {
     "data": {
      "text/plain": [
       "SAYCam LSTM 0     True\n",
       "SAYCam 1-gram    False\n",
       "SAYCam 2-gram    False\n",
       "SAYCam CBOW 0     True\n",
       "Name: 1802, dtype: bool"
      ]
     },
     "metadata": {},
     "output_type": "display_data"
    },
    {
     "name": "stdout",
     "output_type": "stream",
     "text": [
      "were the hand not purple ?\n",
      "were the hands not purple ?\n"
     ]
    },
    {
     "data": {
      "text/plain": [
       "SAYCam LSTM 0     True\n",
       "SAYCam 1-gram    False\n",
       "SAYCam 2-gram    False\n",
       "SAYCam CBOW 0     True\n",
       "Name: 1803, dtype: bool"
      ]
     },
     "metadata": {},
     "output_type": "display_data"
    },
    {
     "name": "stdout",
     "output_type": "stream",
     "text": [
      "is the arms not last ?\n",
      "is the arm not last ?\n"
     ]
    },
    {
     "data": {
      "text/plain": [
       "SAYCam LSTM 0     True\n",
       "SAYCam 1-gram     True\n",
       "SAYCam 2-gram     True\n",
       "SAYCam CBOW 0    False\n",
       "Name: 1884, dtype: bool"
      ]
     },
     "metadata": {},
     "output_type": "display_data"
    },
    {
     "name": "stdout",
     "output_type": "stream",
     "text": [
      "was the arms not last ?\n",
      "was the arm not last ?\n"
     ]
    },
    {
     "data": {
      "text/plain": [
       "SAYCam LSTM 0     True\n",
       "SAYCam 1-gram     True\n",
       "SAYCam 2-gram     True\n",
       "SAYCam CBOW 0    False\n",
       "Name: 1885, dtype: bool"
      ]
     },
     "metadata": {},
     "output_type": "display_data"
    },
    {
     "name": "stdout",
     "output_type": "stream",
     "text": [
      "is the cars not fixed ?\n",
      "is the car not fixed ?\n"
     ]
    },
    {
     "data": {
      "text/plain": [
       "SAYCam LSTM 0     True\n",
       "SAYCam 1-gram     True\n",
       "SAYCam 2-gram     True\n",
       "SAYCam CBOW 0    False\n",
       "Name: 1976, dtype: bool"
      ]
     },
     "metadata": {},
     "output_type": "display_data"
    },
    {
     "name": "stdout",
     "output_type": "stream",
     "text": [
      "was the cars not fixed ?\n",
      "was the car not fixed ?\n"
     ]
    },
    {
     "data": {
      "text/plain": [
       "SAYCam LSTM 0     True\n",
       "SAYCam 1-gram     True\n",
       "SAYCam 2-gram     True\n",
       "SAYCam CBOW 0    False\n",
       "Name: 1977, dtype: bool"
      ]
     },
     "metadata": {},
     "output_type": "display_data"
    },
    {
     "data": {
      "text/plain": [
       "<Figure size 2355.55x3075 with 0 Axes>"
      ]
     },
     "metadata": {},
     "output_type": "display_data"
    },
    {
     "data": {
      "text/plain": [
       "<Figure size 2355.55x1710 with 0 Axes>"
      ]
     },
     "metadata": {},
     "output_type": "display_data"
    },
    {
     "data": {
      "text/plain": [
       "<Figure size 1800x442.5 with 0 Axes>"
      ]
     },
     "metadata": {},
     "output_type": "display_data"
    }
   ],
   "source": [
    "fontsize = 8\n",
    "context = {\n",
    "    'font.size': fontsize,\n",
    "    'axes.labelsize': fontsize,\n",
    "    'axes.titlesize': fontsize,\n",
    "    'xtick.labelsize': fontsize,\n",
    "    'ytick.labelsize': fontsize,\n",
    "    'legend.fontsize': fontsize,\n",
    "    'legend.title_fontsize': fontsize,\n",
    "}\n",
    "width = 6.0\n",
    "height_each = 0.65\n",
    "height_base = 0.5\n",
    "\n",
    "\n",
    "random_accuracy = 0.5\n",
    "sep = '\\n'\n",
    "\n",
    "\n",
    "def get_correct_df(loss_df):\n",
    "    sub_loss_dfs = [loss_df.iloc[i::2].reset_index(drop=True) for i in range(2)]\n",
    "    return sub_loss_dfs[0] > sub_loss_dfs[1]\n",
    "\n",
    "\n",
    "correct_dfs = {\n",
    "    data_name: get_correct_df(loss_df)\n",
    "    for data_name, loss_df in loss_dfs.items()\n",
    "}\n",
    "\n",
    "filtered_correct_dfs = {\n",
    "    data_name: correct_df[filter_masks[data_name]]\n",
    "    for data_name, correct_df in correct_dfs.items()\n",
    "}\n",
    "\n",
    "\n",
    "for current_correct_dfs in [correct_dfs, filtered_correct_dfs][1:]:\n",
    "    data_names = list(current_correct_dfs.keys())\n",
    "\n",
    "    ori_example_df = pd.concat(\n",
    "        [current_correct_dfs[data_name] for data_name in data_names],\n",
    "        keys=data_names,\n",
    "        names=['phenomenon', 'paradigm', 'idx'],\n",
    "    )\n",
    "    example_df = pd.DataFrame({name: ori_example_df[group].mean(axis=1) for name, group in my_groups.items()})\n",
    "    phenomenon_agg_name = 'mean over subsets'\n",
    "    phenomenon_order = [\n",
    "        phenomenon_agg_name,\n",
    "        'determiner-noun agreement',\n",
    "        'subject-verb agreement',\n",
    "        'argument structure',\n",
    "        'case',\n",
    "        'local attractor',\n",
    "        'npi licensing',\n",
    "        'quantifiers',\n",
    "    ]\n",
    "    model_order = [\n",
    "        'SAYCam unigram', 'SAYCam bigram',\n",
    "        'SAYCam CBOW',\n",
    "        'SAYCam LSTM',\n",
    "        'SAYCam LSTM Captioning',\n",
    "        'AO-CHILDES Transformer',\n",
    "    ]\n",
    "\n",
    "    example_long_df = example_df.reset_index().melt(\n",
    "        id_vars=['phenomenon', 'paradigm', 'idx'], var_name='model', value_name='accuracy')\n",
    "    example_long_df['phenomenon paradigm'] = example_long_df['phenomenon'] + sep + example_long_df['paradigm']\n",
    "\n",
    "    phenomenon_paradigm_df = example_df.groupby(level=['phenomenon', 'paradigm']).mean()\n",
    "    display(phenomenon_paradigm_df)\n",
    "    phenomenon_paradigm_long_df = phenomenon_paradigm_df.reset_index().melt(\n",
    "        id_vars=['phenomenon', 'paradigm'], var_name='model', value_name='accuracy')\n",
    "\n",
    "    phenomenon_df = phenomenon_paradigm_df.groupby(by=['phenomenon']).mean()\n",
    "    display(phenomenon_df)\n",
    "\n",
    "    df = phenomenon_paradigm_df.mean(axis=0)\n",
    "    display(df)\n",
    "\n",
    "    with plt.rc_context(context):\n",
    "        display(example_long_df)\n",
    "        height = height_base + height_each * len(example_long_df['phenomenon paradigm'].unique())\n",
    "        g = sns.catplot(\n",
    "            kind=\"bar\", data=example_long_df, x='accuracy', y='phenomenon paradigm', hue='model',\n",
    "            hue_order=model_order, errwidth=1,\n",
    "            height=height, aspect=width/height,\n",
    "        )\n",
    "        #g.figure.set_size_inches(7, 8)\n",
    "        g.ax.set_xlim(right=1)\n",
    "        g.refline(x=random_accuracy, linestyle='dashed', linewidth=1, color='black')\n",
    "        output_fig('Syntactic Probing Accuracy on Paradigms')\n",
    "\n",
    "        phenomenon_paradigm_long_df_ = phenomenon_paradigm_long_df.copy()\n",
    "        phenomenon_paradigm_long_df_['phenomenon'] = phenomenon_agg_name\n",
    "        phenomenon_paradigm_long_df_ = pd.concat(\n",
    "            [phenomenon_paradigm_long_df.copy(), phenomenon_paradigm_long_df_],\n",
    "            ignore_index=True,\n",
    "        )\n",
    "        def _bf(text):\n",
    "            return ' '.join((r'\\textbf{' + piece + r'}' for piece in text.split(' ')))\n",
    "        def _get_phenomenon_label(phenomenon):\n",
    "            label = _bf(phenomenon)\n",
    "            if phenomenon != phenomenon_agg_name:\n",
    "                label += '\\n' + textwrap.fill(phenomenon_examples[phenomenon], width=32)\n",
    "            return label\n",
    "        phenomenon_paradigm_long_df_['phenomenon'] = phenomenon_paradigm_long_df_['phenomenon'].map(_get_phenomenon_label)\n",
    "        phenomenon_order_ = list(map(_get_phenomenon_label, phenomenon_order))\n",
    "        height = height_base + height_each * len(phenomenon_paradigm_long_df_['phenomenon'].unique())\n",
    "        g = sns.catplot(\n",
    "            kind=\"bar\", data=phenomenon_paradigm_long_df_, x='accuracy', y='phenomenon', hue='model',\n",
    "            order=phenomenon_order_, hue_order=model_order, errorbar=None,\n",
    "            height=height, aspect=width/height,\n",
    "        )\n",
    "        g.ax.set_xlim(right=1)\n",
    "        g.refline(x=random_accuracy, linestyle='dashed', linewidth=1, color='black')\n",
    "        output_fig('Syntactic Probing Accuracy Mean on Phenomena Over Paradigms')\n",
    "\n",
    "        height = height_base + 1.5 * height_each\n",
    "        g = sns.catplot(\n",
    "            kind=\"bar\", data=phenomenon_paradigm_long_df, x='accuracy', y='model',\n",
    "            order=model_order, errorbar=None,\n",
    "            height=height, aspect=width/height,\n",
    "        )\n",
    "        g.ax.set_xlim(right=1)\n",
    "        g.refline(x=random_accuracy, linestyle='dashed', linewidth=1, color='black')\n",
    "        output_fig('Syntactic Probing Accuracy Mean Over Paradigms')\n",
    "\n",
    "    target_model = \"SAYCam LSTM\"\n",
    "    ori_target_model = \"SAYCam LSTM 0\"\n",
    "    baseline_models = [\"SAYCam unigram\", \"SAYCam bigram\", \"SAYCam CBOW\"]\n",
    "    ori_baseline_models = [\"SAYCam 1-gram\", \"SAYCam 2-gram\", \"SAYCam CBOW 0\"]\n",
    "    displayed_models = [ori_target_model] + ori_baseline_models\n",
    "\n",
    "    for data_name in phenomenon_paradigm_df.index:\n",
    "        model_mean_series = phenomenon_paradigm_df.loc[data_name]\n",
    "        target_model_accuracy = model_mean_series[target_model]\n",
    "        baseline_accuracy = model_mean_series[baseline_models].max()\n",
    "        if target_model_accuracy >= 0.52 and target_model_accuracy > baseline_accuracy + 0.03:\n",
    "            sentence_pairs = pd.Series(paired(zorro_data[data_name]))\n",
    "            sentence_pairs = sentence_pairs[filter_masks[data_name]]\n",
    "            correct_df = current_correct_dfs[data_name]\n",
    "            print(f'comparing {data_name} ({frac_format(len(sentence_pairs), len(zorro_data[data_name]) / 2)}):')\n",
    "            display(model_mean_series)\n",
    "            for sentence_pair, (idx, corrects) in zip(sentence_pairs, correct_df.iterrows()):\n",
    "                if corrects[ori_target_model] and not all(corrects[ori_baseline_models]):\n",
    "                    for sentence in sentence_pair:\n",
    "                        print(' '.join(map(str, sentence)))\n",
    "                    display(corrects[displayed_models])"
   ]
  },
  {
   "cell_type": "code",
   "execution_count": null,
   "id": "a65d0f86",
   "metadata": {},
   "outputs": [],
   "source": []
  }
 ],
 "metadata": {
  "kernelspec": {
   "display_name": "Python 3 (ipykernel)",
   "language": "python",
   "name": "python3"
  },
  "language_info": {
   "codemirror_mode": {
    "name": "ipython",
    "version": 3
   },
   "file_extension": ".py",
   "mimetype": "text/x-python",
   "name": "python",
   "nbconvert_exporter": "python",
   "pygments_lexer": "ipython3",
   "version": "3.9.13"
  }
 },
 "nbformat": 4,
 "nbformat_minor": 5
}
